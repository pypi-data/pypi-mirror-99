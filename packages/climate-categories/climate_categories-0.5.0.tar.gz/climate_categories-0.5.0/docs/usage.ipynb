{
 "cells": [
  {
   "cell_type": "markdown",
   "metadata": {
    "collapsed": true,
    "pycharm": {
     "name": "#%% md\n"
    }
   },
   "source": [
    "# Usage\n",
    "\n",
    "## Using the included categorizations\n",
    "\n",
    "In the `climate_categories` package, the categorizations are available\n",
    "directly at the top-level namespace, and as a dictionary in `.cats`:"
   ]
  },
  {
   "cell_type": "code",
   "execution_count": null,
   "outputs": [],
   "source": [
    "import climate_categories\n",
    "\n",
    "climate_categories.cats"
   ],
   "metadata": {
    "collapsed": false,
    "pycharm": {
     "name": "#%%\n"
    }
   }
  },
  {
   "cell_type": "code",
   "execution_count": null,
   "outputs": [],
   "source": [
    "climate_categories.IPCC2006"
   ],
   "metadata": {
    "collapsed": false,
    "pycharm": {
     "name": "#%%\n"
    }
   }
  },
  {
   "cell_type": "code",
   "execution_count": null,
   "outputs": [],
   "source": [
    "climate_categories.cats[\"IPCC2006\"]"
   ],
   "metadata": {
    "collapsed": false,
    "pycharm": {
     "name": "#%%\n"
    }
   }
  },
  {
   "cell_type": "markdown",
   "source": [
    "Metadata for each categorization are accessible as properties:"
   ],
   "metadata": {
    "collapsed": false,
    "pycharm": {
     "name": "#%% md\n"
    }
   }
  },
  {
   "cell_type": "code",
   "execution_count": null,
   "outputs": [],
   "source": [
    "print(climate_categories.IPCC2006.name)\n",
    "print(climate_categories.IPCC2006.title)\n",
    "print(climate_categories.IPCC2006.comment)\n",
    "print(climate_categories.IPCC2006.references)\n",
    "print(climate_categories.IPCC2006.institution)\n",
    "print(climate_categories.IPCC2006.last_update)\n",
    "print(climate_categories.IPCC2006.version)"
   ],
   "metadata": {
    "collapsed": false,
    "pycharm": {
     "name": "#%%\n"
    }
   }
  },
  {
   "cell_type": "markdown",
   "source": [
    "The categorization can be used as a dictionary mapping category codes to categories:"
   ],
   "metadata": {
    "collapsed": false,
    "pycharm": {
     "name": "#%% md\n"
    }
   }
  },
  {
   "cell_type": "code",
   "execution_count": null,
   "outputs": [],
   "source": [
    "climate_categories.IPCC2006[\"1.A\"]"
   ],
   "metadata": {
    "collapsed": false,
    "pycharm": {
     "name": "#%%\n"
    }
   }
  },
  {
   "cell_type": "markdown",
   "source": [
    "You can also query using alternative spellings of the code:"
   ],
   "metadata": {
    "collapsed": false,
    "pycharm": {
     "name": "#%% md\n"
    }
   }
  },
  {
   "cell_type": "code",
   "execution_count": null,
   "outputs": [],
   "source": [
    "climate_categories.IPCC2006[\"1A\"]"
   ],
   "metadata": {
    "collapsed": false,
    "pycharm": {
     "name": "#%%\n"
    }
   }
  },
  {
   "cell_type": "markdown",
   "source": [
    "For the categories, metadata is also available: a `title`, maybe a\n",
    "`comment`, all of its `codes` and possibly additional non-standard information\n",
    "in the `info` dictionary:"
   ],
   "metadata": {
    "collapsed": false,
    "pycharm": {
     "name": "#%% md\n"
    }
   }
  },
  {
   "cell_type": "code",
   "execution_count": null,
   "outputs": [],
   "source": [
    "one_a = climate_categories.IPCC2006[\"1.A\"]\n",
    "print(one_a.title)\n",
    "print(one_a.comment)\n",
    "print(one_a.codes)\n",
    "print(one_a.info)"
   ],
   "metadata": {
    "collapsed": false,
    "pycharm": {
     "name": "#%%\n"
    }
   }
  },
  {
   "cell_type": "markdown",
   "source": [
    "For hierarchical categorizations, you can also query for parent and child\n",
    "categories.\n",
    "Note that a list of sets of children is returned in case a category\n",
    "can be composed differently:"
   ],
   "metadata": {
    "collapsed": false,
    "pycharm": {
     "name": "#%% md\n"
    }
   }
  },
  {
   "cell_type": "code",
   "execution_count": null,
   "outputs": [],
   "source": [
    "climate_categories.IPCC2006[\"1.A\"].children"
   ],
   "metadata": {
    "collapsed": false,
    "pycharm": {
     "name": "#%%\n"
    }
   }
  },
  {
   "cell_type": "code",
   "execution_count": null,
   "outputs": [],
   "source": [
    "climate_categories.IPCC2006[\"1.A\"].parents"
   ],
   "metadata": {
    "collapsed": false,
    "pycharm": {
     "name": "#%%\n"
    }
   }
  },
  {
   "cell_type": "markdown",
   "source": [
    "Finally, you can check if a categorization is hierarchical, and\n",
    "for hierarchical categorizations you can check if the sum of all\n",
    "child categories should be equal to the sum of parent categories:"
   ],
   "metadata": {
    "collapsed": false
   }
  },
  {
   "cell_type": "code",
   "execution_count": null,
   "outputs": [],
   "source": [
    "print(f\"Hierachical: {climate_categories.IPCC2006.hierarchical}\")\n",
    "print(f\"Total sum: {climate_categories.IPCC2006.total_sum}\")"
   ],
   "metadata": {
    "collapsed": false,
    "pycharm": {
     "name": "#%%\n"
    }
   }
  },
  {
   "cell_type": "markdown",
   "source": [
    "## Visualization\n",
    "\n",
    "The relationships between categories in a hierarchical categorization can be visualized\n",
    "in a tree-like fashion:"
   ],
   "metadata": {
    "collapsed": false,
    "pycharm": {
     "name": "#%% md\n"
    }
   }
  },
  {
   "cell_type": "code",
   "execution_count": null,
   "outputs": [],
   "source": [
    "# Limit the maximum depth shown using `maxdepth`\n",
    "print(climate_categories.IPCC2006.show_as_tree(maxdepth=2))"
   ],
   "metadata": {
    "collapsed": false,
    "pycharm": {
     "name": "#%%\n"
    }
   }
  },
  {
   "cell_type": "markdown",
   "source": [
    "## Extending categorizations\n",
    "\n",
    "Often, you want to use a common categorization, but for one reason or\n",
    "another, you have to add a couple of categories. This is possible:"
   ],
   "metadata": {
    "collapsed": false,
    "pycharm": {
     "name": "#%% md\n"
    }
   }
  },
  {
   "cell_type": "code",
   "execution_count": null,
   "outputs": [],
   "source": [
    "IPCC2006_PRIMAP = climate_categories.IPCC2006.extend(\n",
    "    name=\"PRIMAP\",\n",
    "    categories={\n",
    "        \"M0\": {\"title\": \"TOTAL\", \"comment\": \"All emissions and removals\"}\n",
    "    },\n",
    "    children=[(\"M0\", (\"1\", \"2\", \"3\", \"4\", \"5\"))],\n",
    ")\n",
    "\n",
    "print(IPCC2006_PRIMAP.name)\n",
    "print(IPCC2006_PRIMAP.title)\n",
    "print(IPCC2006_PRIMAP.comment)\n",
    "print(IPCC2006_PRIMAP.show_as_tree(maxdepth=2))"
   ],
   "metadata": {
    "collapsed": false,
    "pycharm": {
     "name": "#%%\n"
    }
   }
  },
  {
   "cell_type": "markdown",
   "source": [
    "If the canonical top level category of hierarchical\n",
    "categorizations is defined, you can also calculate the level of a category in the\n",
    "hierarchy:"
   ],
   "metadata": {
    "collapsed": false,
    "pycharm": {
     "name": "#%% md\n"
    }
   }
  },
  {
   "cell_type": "code",
   "execution_count": null,
   "outputs": [],
   "source": [
    "IPCC2006_PRIMAP.canonical_top_level_category = IPCC2006_PRIMAP[\"M0\"]\n",
    "\n",
    "print(IPCC2006_PRIMAP[\"M0\"].level)\n",
    "print(IPCC2006_PRIMAP[\"1.A\"].level)"
   ],
   "metadata": {
    "collapsed": false,
    "pycharm": {
     "name": "#%%\n"
    }
   }
  },
  {
   "cell_type": "markdown",
   "source": [
    "## Pandas integration\n",
    "\n",
    "For each categorization, the categories are also available as a pandas\n",
    "DataFrame:"
   ],
   "metadata": {
    "collapsed": false,
    "pycharm": {
     "name": "#%% md\n"
    }
   }
  },
  {
   "cell_type": "code",
   "execution_count": null,
   "outputs": [],
   "source": [
    "climate_categories.IPCC2006.df"
   ],
   "metadata": {
    "collapsed": false,
    "pycharm": {
     "name": "#%%\n"
    }
   }
  },
  {
   "cell_type": "markdown",
   "source": [
    "## Finding unknown codes\n",
    "\n",
    "Searching for a code in all included categorizations is possible\n",
    "using the `find_code` function:"
   ],
   "metadata": {
    "collapsed": false,
    "pycharm": {
     "name": "#%% md\n"
    }
   }
  },
  {
   "cell_type": "code",
   "execution_count": null,
   "outputs": [],
   "source": [
    "climate_categories.find_code(\"1A\")"
   ],
   "metadata": {
    "collapsed": false,
    "pycharm": {
     "name": "#%%\n"
    }
   }
  }
 ],
 "metadata": {
  "kernelspec": {
   "display_name": "Python 3",
   "language": "python",
   "name": "python3"
  },
  "language_info": {
   "codemirror_mode": {
    "name": "ipython",
    "version": 2
   },
   "file_extension": ".py",
   "mimetype": "text/x-python",
   "name": "python",
   "nbconvert_exporter": "python",
   "pygments_lexer": "ipython2",
   "version": "2.7.6"
  }
 },
 "nbformat": 4,
 "nbformat_minor": 0
}
