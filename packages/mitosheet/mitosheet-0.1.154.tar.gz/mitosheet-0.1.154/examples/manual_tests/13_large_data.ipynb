{
 "cells": [
  {
   "cell_type": "code",
   "execution_count": null,
   "metadata": {},
   "outputs": [],
   "source": [
    "\"\"\"\n",
    "This file should test a large data set - to make sure we can render it.\n",
    "\n",
    "Instructions:\n",
    "- Run this cell. \n",
    "- Make sure the mitosheet renders.\n",
    "- Add a new column, change it's name to \"is_good\", and then set the formula equal \n",
    "  to =FIND(LOWER(Review), \"good\").\n",
    "- Run the generated code below, and make sure it still works.\n",
    "\"\"\"\n",
    "import pandas as pd\n",
    "import mitosheet\n",
    "\n",
    "df = pd.read_csv('reviews.csv')\n",
    "mitosheet.sheet(df)"
   ]
  }
 ],
 "metadata": {
  "kernelspec": {
   "display_name": "Python 3",
   "language": "python",
   "name": "python3"
  },
  "language_info": {
   "codemirror_mode": {
    "name": "ipython",
    "version": 3
   },
   "file_extension": ".py",
   "mimetype": "text/x-python",
   "name": "python",
   "nbconvert_exporter": "python",
   "pygments_lexer": "ipython3",
   "version": "3.8.5"
  },
  "widgets": {
   "application/vnd.jupyter.widget-state+json": {
    "state": {},
    "version_major": 2,
    "version_minor": 0
   }
  }
 },
 "nbformat": 4,
 "nbformat_minor": 4
}
