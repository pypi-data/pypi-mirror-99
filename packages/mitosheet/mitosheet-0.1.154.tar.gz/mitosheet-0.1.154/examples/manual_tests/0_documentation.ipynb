{
 "cells": [
  {
   "cell_type": "code",
   "execution_count": null,
   "metadata": {},
   "outputs": [],
   "source": [
    "\"\"\"\n",
    "This file should test the documentation is working as expected.\n",
    "\n",
    "Instructions:\n",
    "1. Click the documentation button in the toolbar. \n",
    "2. Scroll through the documentation and select 2 random functions, and make sure they have the correct information.\n",
    "    - Read the documentation in full, see if you notice any errors!\n",
    "    - Mark down what functions you look at.\n",
    "3. Close the documentation.\n",
    "4. Create three new columns, named Column1, Column2, and AVG. Set Column1 =1\n",
    "5. In AVG, write =Column and see both columns appear in the suggestion box. Take Column1, and then press enter (and the formula should submit).\n",
    "6. In Column2, write =AVG, and see both the average function and the average column. Try taking both respectively, and make sure they autofill the column correctly. \n",
    "\"\"\"\n",
    "import mitosheet\n",
    "import pandas as pd\n",
    "\n",
    "df = pd.DataFrame(data={'Names': [\"Jake Diamond-Revich\", \"Aaron Diamond-Reivich\", \"Nate Rush\"]})\n",
    "mitosheet.sheet(df)"
   ]
  }
 ],
 "metadata": {
  "kernelspec": {
   "display_name": "Python 3",
   "language": "python",
   "name": "python3"
  },
  "language_info": {
   "codemirror_mode": {
    "name": "ipython",
    "version": 3
   },
   "file_extension": ".py",
   "mimetype": "text/x-python",
   "name": "python",
   "nbconvert_exporter": "python",
   "pygments_lexer": "ipython3",
   "version": "3.8.5"
  },
  "widgets": {
   "application/vnd.jupyter.widget-state+json": {
    "state": {},
    "version_major": 2,
    "version_minor": 0
   }
  }
 },
 "nbformat": 4,
 "nbformat_minor": 4
}
