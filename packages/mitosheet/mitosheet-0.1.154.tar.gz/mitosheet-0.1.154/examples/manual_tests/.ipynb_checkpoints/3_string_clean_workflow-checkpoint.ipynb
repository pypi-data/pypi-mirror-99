{
 "cells": [
  {
   "cell_type": "code",
   "execution_count": null,
   "metadata": {},
   "outputs": [],
   "source": [
    "\"\"\"\n",
    "This file tests some basic interactions with mito, including a semi-real workflow.\n",
    "\n",
    "Instructions:\n",
    "1. Run this cell. \n",
    "2. Inside the mito-sheet, use whatever functions necessary to:\n",
    "    1. Get a column with the length of the first name. [4, 5, 5]\n",
    "    2. Get a column with the initials of each person in the format [N.R., A.D., J.D.]\n",
    "3. After completing this, rerun the analysis on Names2.csv, and check the values are [B.J., J.D., H.S.] and [3, 4, 5]\n",
    "\"\"\"\n",
    "import mitosheet\n",
    "import pandas as pd\n",
    "df = pd.read_csv('Names1.csv')\n",
    "mitosheet.sheet(df)"
   ]
  }
 ],
 "metadata": {
  "kernelspec": {
   "display_name": "Python 3",
   "language": "python",
   "name": "python3"
  },
  "language_info": {
   "codemirror_mode": {
    "name": "ipython",
    "version": 3
   },
   "file_extension": ".py",
   "mimetype": "text/x-python",
   "name": "python",
   "nbconvert_exporter": "python",
   "pygments_lexer": "ipython3",
   "version": "3.8.5"
  },
  "widgets": {
   "application/vnd.jupyter.widget-state+json": {
    "state": {},
    "version_major": 2,
    "version_minor": 0
   }
  }
 },
 "nbformat": 4,
 "nbformat_minor": 4
}
