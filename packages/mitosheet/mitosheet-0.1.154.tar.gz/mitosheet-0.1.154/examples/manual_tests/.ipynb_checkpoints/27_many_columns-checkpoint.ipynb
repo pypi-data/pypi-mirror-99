{
 "cells": [
  {
   "cell_type": "code",
   "execution_count": null,
   "metadata": {},
   "outputs": [],
   "source": [
    "\"\"\"\n",
    "This file tests some basic interactions with mito, with many columns. \n",
    "\n",
    "1. Add a new column. Start editing it and set it equal to = a + b\n",
    "2. This should scroll you back to the start.\n",
    "\"\"\"\n",
    "import mitosheet\n",
    "import pandas as pd\n",
    "from string import ascii_lowercase\n",
    "df = pd.DataFrame(data={l: [l] for l in ascii_lowercase})\n",
    "\n",
    "mitosheet.sheet(df)"
   ]
  }
 ],
 "metadata": {
  "kernelspec": {
   "display_name": "Python 3",
   "language": "python",
   "name": "python3"
  },
  "language_info": {
   "codemirror_mode": {
    "name": "ipython",
    "version": 3
   },
   "file_extension": ".py",
   "mimetype": "text/x-python",
   "name": "python",
   "nbconvert_exporter": "python",
   "pygments_lexer": "ipython3",
   "version": "3.8.5"
  },
  "widgets": {
   "application/vnd.jupyter.widget-state+json": {
    "state": {
     "0dffbef3e62d445dae09d46716774ab0": {
      "model_module": "mitosheet",
      "model_module_version": "^0.1.59",
      "model_name": "ExampleModel",
      "state": {
       "_model_module_version": "^0.1.59",
       "_view_module_version": "^0.1.59",
       "analysis_name": "UUID-d8ea7ebc-9e75-4fee-ab82-dafe2e5910b6",
       "code_json": "{\"imports\": \"from mitosheet import *\", \"code\": []}",
       "column_filters_json": "[{\"a\": {\"operator\": \"And\", \"filters\": []}, \"b\": {\"operator\": \"And\", \"filters\": []}, \"c\": {\"operator\": \"And\", \"filters\": []}, \"d\": {\"operator\": \"And\", \"filters\": []}, \"e\": {\"operator\": \"And\", \"filters\": []}, \"f\": {\"operator\": \"And\", \"filters\": []}, \"g\": {\"operator\": \"And\", \"filters\": []}, \"h\": {\"operator\": \"And\", \"filters\": []}, \"i\": {\"operator\": \"And\", \"filters\": []}, \"j\": {\"operator\": \"And\", \"filters\": []}, \"k\": {\"operator\": \"And\", \"filters\": []}, \"l\": {\"operator\": \"And\", \"filters\": []}, \"m\": {\"operator\": \"And\", \"filters\": []}, \"n\": {\"operator\": \"And\", \"filters\": []}, \"o\": {\"operator\": \"And\", \"filters\": []}, \"p\": {\"operator\": \"And\", \"filters\": []}, \"q\": {\"operator\": \"And\", \"filters\": []}, \"r\": {\"operator\": \"And\", \"filters\": []}, \"s\": {\"operator\": \"And\", \"filters\": []}, \"t\": {\"operator\": \"And\", \"filters\": []}, \"u\": {\"operator\": \"And\", \"filters\": []}, \"v\": {\"operator\": \"And\", \"filters\": []}, \"w\": {\"operator\": \"And\", \"filters\": []}, \"x\": {\"operator\": \"And\", \"filters\": []}, \"y\": {\"operator\": \"And\", \"filters\": []}, \"z\": {\"operator\": \"And\", \"filters\": []}}]",
       "column_spreadsheet_code_json": "[{\"a\": \"\", \"b\": \"\", \"c\": \"\", \"d\": \"\", \"e\": \"\", \"f\": \"\", \"g\": \"\", \"h\": \"\", \"i\": \"\", \"j\": \"\", \"k\": \"\", \"l\": \"\", \"m\": \"\", \"n\": \"\", \"o\": \"\", \"p\": \"\", \"q\": \"\", \"r\": \"\", \"s\": \"\", \"t\": \"\", \"u\": \"\", \"v\": \"\", \"w\": \"\", \"x\": \"\", \"y\": \"\", \"z\": \"\"}]",
       "column_type_json": "[{\"a\": \"string\", \"b\": \"string\", \"c\": \"string\", \"d\": \"string\", \"e\": \"string\", \"f\": \"string\", \"g\": \"string\", \"h\": \"string\", \"i\": \"string\", \"j\": \"string\", \"k\": \"string\", \"l\": \"string\", \"m\": \"string\", \"n\": \"string\", \"o\": \"string\", \"p\": \"string\", \"q\": \"string\", \"r\": \"string\", \"s\": \"string\", \"t\": \"string\", \"u\": \"string\", \"v\": \"string\", \"w\": \"string\", \"x\": \"string\", \"y\": \"string\", \"z\": \"string\"}]",
       "df_names_json": "{\"df_names\": [\"df\"]}",
       "df_shape_json": "[{\"rows\": 1, \"cols\": 26}]",
       "layout": "IPY_MODEL_cb2be2b5547e4eac92b0fb0f0f6a454b",
       "saved_analysis_names_json": "[\"Testing\"]",
       "sheet_json": "[{\"columns\": [\"a\", \"b\", \"c\", \"d\", \"e\", \"f\", \"g\", \"h\", \"i\", \"j\", \"k\", \"l\", \"m\", \"n\", \"o\", \"p\", \"q\", \"r\", \"s\", \"t\", \"u\", \"v\", \"w\", \"x\", \"y\", \"z\"], \"index\": [0], \"data\": [[\"a\", \"b\", \"c\", \"d\", \"e\", \"f\", \"g\", \"h\", \"i\", \"j\", \"k\", \"l\", \"m\", \"n\", \"o\", \"p\", \"q\", \"r\", \"s\", \"t\", \"u\", \"v\", \"w\", \"x\", \"y\", \"z\"]]}]",
       "user_id": "nate",
       "value": "Hello World"
      }
     },
     "cb2be2b5547e4eac92b0fb0f0f6a454b": {
      "model_module": "@jupyter-widgets/base",
      "model_module_version": "1.2.0",
      "model_name": "LayoutModel",
      "state": {}
     }
    },
    "version_major": 2,
    "version_minor": 0
   }
  }
 },
 "nbformat": 4,
 "nbformat_minor": 4
}
