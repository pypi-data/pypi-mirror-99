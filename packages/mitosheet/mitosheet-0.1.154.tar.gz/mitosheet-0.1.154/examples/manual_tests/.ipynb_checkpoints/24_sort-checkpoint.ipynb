{
 "cells": [
  {
   "cell_type": "code",
   "execution_count": 7,
   "metadata": {},
   "outputs": [
    {
     "data": {
      "application/vnd.jupyter.widget-view+json": {
       "model_id": "86d46c47dfef451b8e416daa923daaf9",
       "version_major": 2,
       "version_minor": 0
      },
      "text/plain": [
       "MitoWidget(analysis_name='UUID-8d95bcd8-17ff-44e8-9e84-29e5cfd03651', code_json='{\"imports\": \"from mitosheet i…"
      ]
     },
     "metadata": {},
     "output_type": "display_data"
    }
   ],
   "source": [
    "\"\"\"\n",
    "This file should tests all the filter conditions on\n",
    "\n",
    "Instructions:\n",
    "- Run this cell. \n",
    "- For each column, sort is ascending and descending and make sure its correct\n",
    "- Check that the code is being generated and updated as you cycle through conditions.\n",
    "- Print out the resulting df and make sure it matches\n",
    "\"\"\"\n",
    "import mitosheet\n",
    "import pandas as pd\n",
    "df1 = pd.DataFrame(data={'String': [\"123\", \"1\", \"2\", \"3\", \"4\", \"5\"], \n",
    "                        'Number': [123, 1, 2, 3, 4, 5],\n",
    "                         'Date': ['2001-01-01', '2002-01-01', '2003-01-01','2004-01-01', '2005-01-01', '2006-01-01'],\n",
    "                        'Mixed': [123, \"1\", \"2\", \"3\", 4, 5]})\n",
    "\n",
    "mitosheet.sheet(df1)"
   ]
  },
  {
   "cell_type": "code",
   "execution_count": null,
   "metadata": {},
   "outputs": [],
   "source": [
    "# MITO CODE START (DO NOT EDIT)\n",
    "# SAVED-ANALYSIS-STARTUUID-8d95bcd8-17ff-44e8-9e84-29e5cfd03651SAVED-ANALYSIS-END\n",
    "\n",
    "from mitosheet import *\n",
    "\n",
    "# Step 1\n",
    "\n",
    "df1 = df1.sort_values(by='String', ascending=True, na_position='first')\n",
    "\n",
    "# Step 2\n",
    "\n",
    "df1 = df1.sort_values(by='String', ascending=False, na_position='first')\n",
    "\n",
    "# Step 3\n",
    "\n",
    "df1 = df1.sort_values(by='Number', ascending=True, na_position='first')\n",
    "\n",
    "# Step 4\n",
    "\n",
    "df1 = df1.sort_values(by='Number', ascending=False, na_position='first')\n",
    "\n",
    "# Step 5\n",
    "\n",
    "df1 = df1.sort_values(by='Date', ascending=True, na_position='first')\n",
    "\n",
    "# Step 6\n",
    "\n",
    "df1 = df1.sort_values(by='Date', ascending=False, na_position='first')\n",
    "  \n",
    "# MITO CODE END (DO NOT EDIT)"
   ]
  },
  {
   "cell_type": "code",
   "execution_count": 5,
   "metadata": {},
   "outputs": [],
   "source": []
  },
  {
   "cell_type": "code",
   "execution_count": 6,
   "metadata": {},
   "outputs": [
    {
     "data": {
      "text/html": [
       "<div>\n",
       "<style scoped>\n",
       "    .dataframe tbody tr th:only-of-type {\n",
       "        vertical-align: middle;\n",
       "    }\n",
       "\n",
       "    .dataframe tbody tr th {\n",
       "        vertical-align: top;\n",
       "    }\n",
       "\n",
       "    .dataframe thead th {\n",
       "        text-align: right;\n",
       "    }\n",
       "</style>\n",
       "<table border=\"1\" class=\"dataframe\">\n",
       "  <thead>\n",
       "    <tr style=\"text-align: right;\">\n",
       "      <th></th>\n",
       "      <th>String</th>\n",
       "      <th>Number</th>\n",
       "      <th>Date</th>\n",
       "      <th>Mixed</th>\n",
       "    </tr>\n",
       "  </thead>\n",
       "  <tbody>\n",
       "    <tr>\n",
       "      <th>5</th>\n",
       "      <td>5</td>\n",
       "      <td>5</td>\n",
       "      <td>2006-01-01</td>\n",
       "      <td>5</td>\n",
       "    </tr>\n",
       "    <tr>\n",
       "      <th>4</th>\n",
       "      <td>4</td>\n",
       "      <td>4</td>\n",
       "      <td>2005-01-01</td>\n",
       "      <td>4</td>\n",
       "    </tr>\n",
       "    <tr>\n",
       "      <th>3</th>\n",
       "      <td>3</td>\n",
       "      <td>3</td>\n",
       "      <td>2004-01-01</td>\n",
       "      <td>3</td>\n",
       "    </tr>\n",
       "    <tr>\n",
       "      <th>2</th>\n",
       "      <td>2</td>\n",
       "      <td>2</td>\n",
       "      <td>2003-01-01</td>\n",
       "      <td>2</td>\n",
       "    </tr>\n",
       "    <tr>\n",
       "      <th>1</th>\n",
       "      <td>1</td>\n",
       "      <td>1</td>\n",
       "      <td>2002-01-01</td>\n",
       "      <td>1</td>\n",
       "    </tr>\n",
       "    <tr>\n",
       "      <th>0</th>\n",
       "      <td>123</td>\n",
       "      <td>123</td>\n",
       "      <td>2001-01-01</td>\n",
       "      <td>123</td>\n",
       "    </tr>\n",
       "  </tbody>\n",
       "</table>\n",
       "</div>"
      ],
      "text/plain": [
       "  String  Number        Date Mixed\n",
       "5      5       5  2006-01-01     5\n",
       "4      4       4  2005-01-01     4\n",
       "3      3       3  2004-01-01     3\n",
       "2      2       2  2003-01-01     2\n",
       "1      1       1  2002-01-01     1\n",
       "0    123     123  2001-01-01   123"
      ]
     },
     "execution_count": 6,
     "metadata": {},
     "output_type": "execute_result"
    }
   ],
   "source": [
    "df1"
   ]
  },
  {
   "cell_type": "code",
   "execution_count": null,
   "metadata": {},
   "outputs": [],
   "source": []
  },
  {
   "cell_type": "code",
   "execution_count": null,
   "metadata": {},
   "outputs": [],
   "source": []
  },
  {
   "cell_type": "code",
   "execution_count": null,
   "metadata": {},
   "outputs": [],
   "source": []
  },
  {
   "cell_type": "code",
   "execution_count": null,
   "metadata": {},
   "outputs": [],
   "source": []
  },
  {
   "cell_type": "code",
   "execution_count": null,
   "metadata": {},
   "outputs": [],
   "source": []
  },
  {
   "cell_type": "code",
   "execution_count": null,
   "metadata": {},
   "outputs": [],
   "source": []
  },
  {
   "cell_type": "code",
   "execution_count": null,
   "metadata": {},
   "outputs": [],
   "source": []
  },
  {
   "cell_type": "code",
   "execution_count": null,
   "metadata": {},
   "outputs": [],
   "source": []
  },
  {
   "cell_type": "markdown",
   "metadata": {},
   "source": [
    "# "
   ]
  },
  {
   "cell_type": "code",
   "execution_count": null,
   "metadata": {},
   "outputs": [],
   "source": []
  }
 ],
 "metadata": {
  "kernelspec": {
   "display_name": "Python 3",
   "language": "python",
   "name": "python3"
  },
  "language_info": {
   "codemirror_mode": {
    "name": "ipython",
    "version": 3
   },
   "file_extension": ".py",
   "mimetype": "text/x-python",
   "name": "python",
   "nbconvert_exporter": "python",
   "pygments_lexer": "ipython3",
   "version": "3.8.2"
  },
  "widgets": {
   "application/vnd.jupyter.widget-state+json": {
    "state": {
     "006e16a0349e46e8b3ec9608c9754544": {
      "model_module": "mitosheet",
      "model_module_version": "^0.1.54",
      "model_name": "ExampleModel",
      "state": {
       "_model_module_version": "^0.1.54",
       "_view_module_version": "^0.1.54",
       "analysis_name": "UUID-4637aedb-5374-4543-802b-4138cd656a69",
       "code_json": "{\"imports\": \"from mitosheet import *\", \"code\": [\"# Step 1\", \"df['B'] = 1\"]}",
       "column_filters_json": "[{\"B\": {\"operator\": \"And\", \"filters\": []}}]",
       "column_spreadsheet_code_json": "[{\"B\": \"=1\"}]",
       "column_type_json": "[{\"B\": \"number\"}]",
       "df_names_json": "{\"df_names\": [\"df\"]}",
       "df_shape_json": "[{\"rows\": 0, \"cols\": 1}]",
       "layout": "IPY_MODEL_580c88ad8aec48d8bda7f107678030fb",
       "saved_analysis_names_json": "[\"Testing\"]",
       "sheet_json": "[{\"columns\": [\"B\"], \"index\": [], \"data\": []}]",
       "user_id": "nate",
       "value": "Hello World"
      }
     },
     "17df3f5494ce48eb985d462a74f9ab76": {
      "model_module": "mitosheet",
      "model_module_version": "^0.1.54",
      "model_name": "ExampleModel",
      "state": {
       "_model_module_version": "^0.1.54",
       "_view_module_version": "^0.1.54",
       "analysis_name": "UUID-4db9b2b4-a752-48f2-b4f0-f2d076e7cb92",
       "code_json": "{\"imports\": \"from mitosheet import *\", \"code\": [\"# Step 1\", \"df1 = df1[df1.A.isna()]\", \"df1 = df1.reset_index(drop=True)\"]}",
       "column_filters_json": "[{\"A\": {\"operator\": \"And\", \"filters\": [{\"type\": \"string\", \"condition\": \"empty\", \"value\": 0}]}, \"B\": {\"operator\": \"And\", \"filters\": []}, \"C\": {\"operator\": \"And\", \"filters\": []}}]",
       "column_spreadsheet_code_json": "[{\"A\": \"\", \"B\": \"\", \"C\": \"\"}]",
       "column_type_json": "[{\"A\": \"string\", \"B\": \"number\", \"C\": \"string\"}]",
       "df_names_json": "{\"df_names\": [\"df1\"]}",
       "df_shape_json": "[{\"rows\": 0, \"cols\": 3}]",
       "layout": "IPY_MODEL_5afebebd40bf4d8391ff4dc9424a84f0",
       "saved_analysis_names_json": "[\"Testing\"]",
       "sheet_json": "[{\"columns\": [\"A\", \"B\", \"C\"], \"index\": [], \"data\": []}]",
       "user_id": "nate",
       "value": "Hello World"
      }
     },
     "1a9b5b650cc74211b39d19b23a7d607c": {
      "model_module": "@jupyter-widgets/base",
      "model_module_version": "1.2.0",
      "model_name": "LayoutModel",
      "state": {}
     },
     "1b3c996e5ac8450f8b9db853244a0313": {
      "model_module": "mitosheet",
      "model_module_version": "^0.1.54",
      "model_name": "ExampleModel",
      "state": {
       "_model_module_version": "^0.1.54",
       "_view_module_version": "^0.1.54",
       "analysis_name": "UUID-9da420b9-1e64-4593-87a8-4fc50ab4fb1f",
       "code_json": "{\"imports\": \"from mitosheet import *\", \"code\": []}",
       "column_filters_json": "[{}]",
       "column_spreadsheet_code_json": "[{}]",
       "column_type_json": "[{}]",
       "df_names_json": "{\"df_names\": [\"df\"]}",
       "df_shape_json": "[{\"rows\": 0, \"cols\": 0}]",
       "layout": "IPY_MODEL_5c994087300940d69e83fc7f1d71c8ed",
       "saved_analysis_names_json": "[\"Testing\"]",
       "sheet_json": "[{\"columns\": [], \"index\": [], \"data\": []}]",
       "user_id": "nate",
       "value": "Hello World"
      }
     },
     "2ce5e8bc6fc84d8b8c1f656b966f0f9a": {
      "model_module": "mitosheet",
      "model_module_version": "^0.1.54",
      "model_name": "ExampleModel",
      "state": {
       "_model_module_version": "^0.1.54",
       "_view_module_version": "^0.1.54",
       "analysis_name": "UUID-36a372f8-5751-40a3-923d-b880dc3c1ad7",
       "code_json": "{\"imports\": \"from mitosheet import *\", \"code\": [\"# Step 1\", \"df1['B'] = 1\"]}",
       "column_filters_json": "[{\"B\": {\"operator\": \"And\", \"filters\": []}}]",
       "column_spreadsheet_code_json": "[{\"B\": \"=1\"}]",
       "column_type_json": "[{\"B\": \"number\"}]",
       "df_names_json": "{\"df_names\": [\"df1\", \"df2\"]}",
       "df_shape_json": "[{\"rows\": 0, \"cols\": 1}]",
       "layout": "IPY_MODEL_e0c1007e846a49bc9543e795997a499b",
       "saved_analysis_names_json": "[\"Testing\"]",
       "sheet_json": "[{\"columns\": [\"B\"], \"index\": [], \"data\": []}]",
       "user_id": "nate",
       "value": "Hello World"
      }
     },
     "4497bd836e8b4501b9e918f9ae53e7fe": {
      "model_module": "@jupyter-widgets/base",
      "model_module_version": "1.2.0",
      "model_name": "LayoutModel",
      "state": {}
     },
     "4f1934a62e554a06b9030cccaac6d95b": {
      "model_module": "@jupyter-widgets/base",
      "model_module_version": "1.2.0",
      "model_name": "LayoutModel",
      "state": {}
     },
     "580c88ad8aec48d8bda7f107678030fb": {
      "model_module": "@jupyter-widgets/base",
      "model_module_version": "1.2.0",
      "model_name": "LayoutModel",
      "state": {}
     },
     "5afebebd40bf4d8391ff4dc9424a84f0": {
      "model_module": "@jupyter-widgets/base",
      "model_module_version": "1.2.0",
      "model_name": "LayoutModel",
      "state": {}
     },
     "5c994087300940d69e83fc7f1d71c8ed": {
      "model_module": "@jupyter-widgets/base",
      "model_module_version": "1.2.0",
      "model_name": "LayoutModel",
      "state": {}
     },
     "7d604b1b5c7c4bbc8f27958b4d65a7a6": {
      "model_module": "@jupyter-widgets/base",
      "model_module_version": "1.2.0",
      "model_name": "LayoutModel",
      "state": {}
     },
     "92a707a921d646cca11ed86091fb46a5": {
      "model_module": "mitosheet",
      "model_module_version": "^0.1.54",
      "model_name": "ExampleModel",
      "state": {
       "_model_module_version": "^0.1.54",
       "_view_module_version": "^0.1.54",
       "analysis_name": "UUID-c9b65c26-0ed7-4d80-a24b-35942bbf116c",
       "code_json": "{\"imports\": \"from mitosheet import *\", \"code\": []}",
       "column_filters_json": "[{\"A\": {\"operator\": \"And\", \"filters\": []}, \"B\": {\"operator\": \"And\", \"filters\": []}, \"C\": {\"operator\": \"And\", \"filters\": []}}]",
       "column_spreadsheet_code_json": "[{\"A\": \"\", \"B\": \"\", \"C\": \"\"}]",
       "column_type_json": "[{\"A\": \"string\", \"B\": \"number\", \"C\": \"string\"}]",
       "df_names_json": "{\"df_names\": [\"df1\", \"df2\"]}",
       "df_shape_json": "[{\"rows\": 11, \"cols\": 3}]",
       "layout": "IPY_MODEL_bca10c32bc7e41b598cf31240cd17c26",
       "saved_analysis_names_json": "[\"Testing\"]",
       "sheet_json": "[{\"columns\": [\"A\", \"B\", \"C\"], \"index\": [0, 1, 2, 3, 4, 5, 6, 7, 8, 9, 10], \"data\": [[\"123\", 123, 123], [\"1\", 1, \"1\"], [\"2\", 2, \"2\"], [\"3\", 3, \"3\"], [\"4\", 4, 4], [\"5\", 5, 5], [\"5\", 5, 5], [\"6\", 6, 6], [\"7\", 7, 7], [\"8\", 8, 8], [\"9\", 9, 9]]}]",
       "user_id": "nate",
       "value": "Hello World"
      }
     },
     "9fe19af2e58f4bc193e2bfdb11584b51": {
      "model_module": "mitosheet",
      "model_module_version": "^0.1.54",
      "model_name": "ExampleModel",
      "state": {
       "_model_module_version": "^0.1.54",
       "_view_module_version": "^0.1.54",
       "analysis_name": "UUID-58cbde75-9c29-47cd-9555-c12041d7b17e",
       "code_json": "{\"imports\": \"from mitosheet import *\", \"code\": []}",
       "column_filters_json": "[{}]",
       "column_spreadsheet_code_json": "[{}]",
       "column_type_json": "[{}]",
       "df_names_json": "{\"df_names\": [\"df\"]}",
       "df_shape_json": "[{\"rows\": 0, \"cols\": 0}]",
       "layout": "IPY_MODEL_7d604b1b5c7c4bbc8f27958b4d65a7a6",
       "saved_analysis_names_json": "[\"Testing\"]",
       "sheet_json": "[{\"columns\": [], \"index\": [], \"data\": []}]",
       "user_id": "nate",
       "value": "Hello World"
      }
     },
     "a3014707317442b3885013ad7831be4b": {
      "model_module": "mitosheet",
      "model_module_version": "^0.1.54",
      "model_name": "ExampleModel",
      "state": {
       "_model_module_version": "^0.1.54",
       "_view_module_version": "^0.1.54",
       "analysis_name": "UUID-f7f32598-281d-4977-8787-c06284860137",
       "code_json": "{\"imports\": \"from mitosheet import *\", \"code\": [\"# Step 1\", \"df1 = df1[(df1.C.notnull()) & (df1.C.isna())]\", \"df1 = df1.reset_index(drop=True)\"]}",
       "column_filters_json": "[{\"A\": {\"operator\": \"And\", \"filters\": []}, \"B\": {\"operator\": \"And\", \"filters\": []}, \"C\": {\"operator\": \"And\", \"filters\": [{\"type\": \"string\", \"condition\": \"not_empty\", \"value\": 0}, {\"type\": \"string\", \"condition\": \"empty\", \"value\": 0}]}}]",
       "column_spreadsheet_code_json": "[{\"A\": \"\", \"B\": \"\", \"C\": \"\"}]",
       "column_type_json": "[{\"A\": \"string\", \"B\": \"number\", \"C\": \"string\"}]",
       "df_names_json": "{\"df_names\": [\"df1\"]}",
       "df_shape_json": "[{\"rows\": 0, \"cols\": 3}]",
       "layout": "IPY_MODEL_4497bd836e8b4501b9e918f9ae53e7fe",
       "saved_analysis_names_json": "[\"Testing\"]",
       "sheet_json": "[{\"columns\": [\"A\", \"B\", \"C\"], \"index\": [], \"data\": []}]",
       "user_id": "nate",
       "value": "Hello World"
      }
     },
     "aa05dbd3eff84a69a4f322f48c939fb8": {
      "model_module": "mitosheet",
      "model_module_version": "^0.1.54",
      "model_name": "ExampleModel",
      "state": {
       "_model_module_version": "^0.1.54",
       "_view_module_version": "^0.1.54",
       "analysis_name": "UUID-805ffd1a-072a-41c1-8412-5c198bcfc056",
       "code_json": "{\"imports\": \"from mitosheet import *\", \"code\": []}",
       "column_filters_json": "[{}]",
       "column_spreadsheet_code_json": "[{}]",
       "column_type_json": "[{}]",
       "df_names_json": "{\"df_names\": [\"df\"]}",
       "df_shape_json": "[{\"rows\": 0, \"cols\": 0}]",
       "layout": "IPY_MODEL_1a9b5b650cc74211b39d19b23a7d607c",
       "saved_analysis_names_json": "[\"Testing\"]",
       "sheet_json": "[{\"columns\": [], \"index\": [], \"data\": []}]",
       "user_id": "nate",
       "value": "Hello World"
      }
     },
     "bca10c32bc7e41b598cf31240cd17c26": {
      "model_module": "@jupyter-widgets/base",
      "model_module_version": "1.2.0",
      "model_name": "LayoutModel",
      "state": {}
     },
     "d04758efc1bb45afa02541a33a425142": {
      "model_module": "@jupyter-widgets/base",
      "model_module_version": "1.2.0",
      "model_name": "LayoutModel",
      "state": {}
     },
     "e0c1007e846a49bc9543e795997a499b": {
      "model_module": "@jupyter-widgets/base",
      "model_module_version": "1.2.0",
      "model_name": "LayoutModel",
      "state": {}
     },
     "ec427e0e5cc44ec389519cc4207d1141": {
      "model_module": "mitosheet",
      "model_module_version": "^0.1.54",
      "model_name": "ExampleModel",
      "state": {
       "_model_module_version": "^0.1.54",
       "_view_module_version": "^0.1.54",
       "analysis_name": "UUID-76d1634c-3219-417e-9d1c-8e914a1a76de",
       "code_json": "{\"imports\": \"from mitosheet import *\", \"code\": []}",
       "column_filters_json": "[{\"A\": {\"operator\": \"And\", \"filters\": []}, \"B\": {\"operator\": \"And\", \"filters\": []}, \"C\": {\"operator\": \"And\", \"filters\": []}}]",
       "column_spreadsheet_code_json": "[{\"A\": \"\", \"B\": \"\", \"C\": \"\"}]",
       "column_type_json": "[{\"A\": \"string\", \"B\": \"number\", \"C\": \"string\"}]",
       "df_names_json": "{\"df_names\": [\"df1\"]}",
       "df_shape_json": "[{\"rows\": 11, \"cols\": 3}]",
       "layout": "IPY_MODEL_d04758efc1bb45afa02541a33a425142",
       "saved_analysis_names_json": "[\"Testing\"]",
       "sheet_json": "[{\"columns\": [\"A\", \"B\", \"C\"], \"index\": [0, 1, 2, 3, 4, 5, 6, 7, 8, 9, 10], \"data\": [[\"123\", 123, 123], [\"1\", 1, \"1\"], [\"2\", 2, \"2\"], [\"3\", 3, \"3\"], [\"4\", 4, 4], [\"5\", 5, 5], [\"5\", 5, 5], [\"6\", 6, 6], [\"7\", 7, 7], [\"8\", 8, 8], [\"9\", 9, 9]]}]",
       "user_id": "nate",
       "value": "Hello World"
      }
     },
     "fbc66ba8b6c7463b803b25fd2f44052d": {
      "model_module": "mitosheet",
      "model_module_version": "^0.1.54",
      "model_name": "ExampleModel",
      "state": {
       "_model_module_version": "^0.1.54",
       "_view_module_version": "^0.1.54",
       "analysis_name": "UUID-28db8630-edaa-46d1-8010-f0f21ab0bd9a",
       "code_json": "{\"imports\": \"from mitosheet import *\", \"code\": []}",
       "column_filters_json": "[{}]",
       "column_spreadsheet_code_json": "[{}]",
       "column_type_json": "[{}]",
       "df_names_json": "{\"df_names\": [\"df\"]}",
       "df_shape_json": "[{\"rows\": 0, \"cols\": 0}]",
       "layout": "IPY_MODEL_4f1934a62e554a06b9030cccaac6d95b",
       "saved_analysis_names_json": "[\"Testing\"]",
       "sheet_json": "[{\"columns\": [], \"index\": [], \"data\": []}]",
       "user_id": "nate",
       "value": "Hello World"
      }
     }
    },
    "version_major": 2,
    "version_minor": 0
   }
  }
 },
 "nbformat": 4,
 "nbformat_minor": 4
}
