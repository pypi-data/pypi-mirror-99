{
 "cells": [
  {
   "cell_type": "code",
   "execution_count": null,
   "metadata": {},
   "outputs": [],
   "source": [
    "\"\"\"\n",
    "This file tests upgrading an analysis with Mito!\n",
    "\n",
    "1. Open the folder ~/.mito/saved_analyses on your computer, and input a file `upgrade.json` (overwrite if already there) with:\n",
    "\n",
    "{\"version\": \"0.1.60\", \"steps\": {\"1\": {\"step_version\": 1, \"step_type\": \"group\", \"sheet_index\": 0, \"group_rows\": [\"A\"], \"group_columns\": [], \"values\": {\"B\": \"sum\"}}}}\n",
    "\n",
    "2. Save this file. Run this cell. \n",
    "3. Replay the saved analysis upgrade.\n",
    "4. A new sheet should be generated that is identical to the first sheet.\n",
    "\"\"\"\n",
    "import mitosheet\n",
    "import pandas as pd\n",
    "df = pd.DataFrame({'A': [123], 'B': [123]})\n",
    "mitosheet.sheet(df)"
   ]
  }
 ],
 "metadata": {
  "kernelspec": {
   "display_name": "Python 3",
   "language": "python",
   "name": "python3"
  },
  "language_info": {
   "codemirror_mode": {
    "name": "ipython",
    "version": 3
   },
   "file_extension": ".py",
   "mimetype": "text/x-python",
   "name": "python",
   "nbconvert_exporter": "python",
   "pygments_lexer": "ipython3",
   "version": "3.8.5"
  },
  "widgets": {
   "application/vnd.jupyter.widget-state+json": {
    "state": {
     "146634d8f9634cb3914feb0791faa40f": {
      "model_module": "@jupyter-widgets/base",
      "model_module_version": "1.2.0",
      "model_name": "LayoutModel",
      "state": {}
     },
     "45e81031fa62419d9dd648595da12a36": {
      "model_module": "mitosheet",
      "model_module_version": "^0.1.66",
      "model_name": "ExampleModel",
      "state": {
       "_model_module_version": "^0.1.66",
       "_view_module_version": "^0.1.66",
       "analysis_name": "UUID-84dc5e30-afdc-406e-87a6-675df082c9ec",
       "code_json": "{\"imports\": \"from mitosheet import *\", \"code\": [\"# Step 1\", \"# Pivot the data\\npivot_table = df.pivot_table(\\n    index=['A'],\\n    values=['B'],\\n    aggfunc={'B': 'sum'}\\n)\", \"# Reset the column name and the indexes\\ndf2 = pivot_table.rename_axis(None, axis=1).reset_index()\"]}",
       "column_filters_json": "[{\"A\": {\"operator\": \"And\", \"filters\": []}, \"B\": {\"operator\": \"And\", \"filters\": []}}, {\"A\": {\"operator\": \"And\", \"filters\": []}, \"B\": {\"operator\": \"And\", \"filters\": []}}]",
       "column_spreadsheet_code_json": "[{\"A\": \"\", \"B\": \"\"}, {\"A\": \"\", \"B\": \"\"}]",
       "column_type_json": "[{\"A\": \"number\", \"B\": \"number\"}, {\"A\": \"number\", \"B\": \"number\"}]",
       "df_names_json": "{\"df_names\": [\"df\", \"df2\"]}",
       "df_shape_json": "[{\"rows\": 1, \"cols\": 2}, {\"rows\": 1, \"cols\": 2}]",
       "layout": "IPY_MODEL_dd7f561a5b07497aa6445e8c59700569",
       "saved_analysis_names_json": "[\"28\", \"29\", \"Dork\", \"Double Import\", \"File Import Get Length\", \"File Import\", \"Testing\", \"aaa\", \"new\"]",
       "sheet_json": "[{\"columns\": [\"A\", \"B\"], \"index\": [0], \"data\": [[123, 123]]}, {\"columns\": [\"A\", \"B\"], \"index\": [0], \"data\": [[123, 123]]}]",
       "user_id": "nate",
       "value": "Hello World"
      }
     },
     "818d2dd92f9f4ec8b40395e237229a73": {
      "model_module": "mitosheet",
      "model_module_version": "^0.1.66",
      "model_name": "ExampleModel",
      "state": {
       "_model_module_version": "^0.1.66",
       "_view_module_version": "^0.1.66",
       "analysis_name": "UUID-081536fa-8f92-4b12-8466-890e8b411a4d",
       "code_json": "{\"imports\": \"from mitosheet import *\", \"code\": []}",
       "column_filters_json": "[{\"A\": {\"operator\": \"And\", \"filters\": []}, \"B\": {\"operator\": \"And\", \"filters\": []}}]",
       "column_spreadsheet_code_json": "[{\"A\": \"\", \"B\": \"\"}]",
       "column_type_json": "[{\"A\": \"number\", \"B\": \"number\"}]",
       "df_names_json": "{\"df_names\": [\"df\"]}",
       "df_shape_json": "[{\"rows\": 1, \"cols\": 2}]",
       "layout": "IPY_MODEL_146634d8f9634cb3914feb0791faa40f",
       "saved_analysis_names_json": "[\"1\", \"28\", \"Dork\", \"Double Import\", \"File Import Get Length\", \"File Import\", \"Testing\", \"aaa\", \"new\"]",
       "sheet_json": "[{\"columns\": [\"A\", \"B\"], \"index\": [0], \"data\": [[123, 123]]}]",
       "user_id": "nate",
       "value": "Hello World"
      }
     },
     "dd7f561a5b07497aa6445e8c59700569": {
      "model_module": "@jupyter-widgets/base",
      "model_module_version": "1.2.0",
      "model_name": "LayoutModel",
      "state": {}
     }
    },
    "version_major": 2,
    "version_minor": 0
   }
  }
 },
 "nbformat": 4,
 "nbformat_minor": 4
}
