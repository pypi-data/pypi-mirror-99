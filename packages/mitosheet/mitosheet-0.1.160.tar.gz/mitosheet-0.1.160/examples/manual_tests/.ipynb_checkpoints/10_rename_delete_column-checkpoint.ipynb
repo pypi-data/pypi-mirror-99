{
 "cells": [
  {
   "cell_type": "code",
   "execution_count": null,
   "metadata": {},
   "outputs": [],
   "source": [
    "\"\"\"\n",
    "This file tests renaming a column in Mito, and then rerunning this analysis.\n",
    "\n",
    "Instructions:\n",
    "1. Run this cell. \n",
    "2. Add a column, click on the column header, and try setting it to \"123\", \"ha ha\" and \"123!\" (w/o quotes), and they should register as invalid. \n",
    "3. Then set the column to \"ABC\"\n",
    "4. This should update in the sheet.\n",
    "5. Then rerun the top cell, it should still be renamed. \n",
    "6. Run the generated code cell and check the resulting data frame, and make sure the header has been updated.\n",
    "7. Go back to the sheet, and delete the column ABC\n",
    "8. Rerun the top cell, and make sure the column is still gone.\n",
    "9. Rerun the bottom cell, and make sure the column is gone.\n",
    "\"\"\"\n",
    "import mitosheet\n",
    "import pandas as pd\n",
    "df = pd.DataFrame(data={'Data': [1, 2, 3]})\n",
    "mitosheet.sheet(df)"
   ]
  }
 ],
 "metadata": {
  "kernelspec": {
   "display_name": "Python 3",
   "language": "python",
   "name": "python3"
  },
  "language_info": {
   "codemirror_mode": {
    "name": "ipython",
    "version": 3
   },
   "file_extension": ".py",
   "mimetype": "text/x-python",
   "name": "python",
   "nbconvert_exporter": "python",
   "pygments_lexer": "ipython3",
   "version": "3.8.5"
  },
  "widgets": {
   "application/vnd.jupyter.widget-state+json": {
    "state": {
     "ae9e49d94081427fb07b656d3e872b9d": {
      "model_module": "@jupyter-widgets/base",
      "model_module_version": "1.2.0",
      "model_name": "LayoutModel",
      "state": {}
     },
     "af1fe08eb7db480a9d25dcd85e3bb59e": {
      "model_module": "mitosheet",
      "model_module_version": "^0.1.47",
      "model_name": "ExampleModel",
      "state": {
       "_model_module_version": "^0.1.47",
       "_view_module_version": "^0.1.47",
       "analysis_name": "UUID-b4d0994d-0112-4e1f-9e3e-eb76fcae3bcf",
       "code_json": "{\"imports\": \"from mitosheet import *\", \"code\": [\"# Step 1\", \"df['B'] = 0\", \"# Step 2\", \"df.rename(columns={\\\"Data\\\": \\\"123_\\\"}, inplace=True)\", \"# Step 3\", \"df['B'] = df['123_'] + df['123_']\"]}",
       "column_filters_json": "[{\"B\": {\"operator\": \"And\", \"filters\": []}, \"123_\": {\"operator\": \"And\", \"filters\": []}}]",
       "column_spreadsheet_code_json": "[{\"B\": \"=123_ + 123_\", \"123_\": \"\"}]",
       "column_type_json": "[{\"B\": \"number\", \"123_\": \"number\"}]",
       "df_names_json": "{\"df_names\": [\"df\"]}",
       "df_shape_json": "[{\"rows\": 3, \"cols\": 2}]",
       "layout": "IPY_MODEL_ae9e49d94081427fb07b656d3e872b9d",
       "saved_analysis_names_json": "[\"Test\"]",
       "sheet_json": "[{\"columns\": [\"123_\", \"B\"], \"index\": [0, 1, 2], \"data\": [[1, 2], [2, 4], [3, 6]]}]",
       "user_id": "nate",
       "value": "Hello World"
      }
     }
    },
    "version_major": 2,
    "version_minor": 0
   }
  }
 },
 "nbformat": 4,
 "nbformat_minor": 4
}
