{
 "cells": [
  {
   "cell_type": "code",
   "execution_count": null,
   "metadata": {},
   "outputs": [],
   "source": [
    "\"\"\"\n",
    "This file should tests a complex workflow where lots of things are applied in a row. \n",
    "\n",
    "Steps:\n",
    "- Run this cell. \n",
    "- Merge on id. \n",
    "- Delete a column from each of the first two sheets. \n",
    "- Create a new column called full_name in the third sheet, where you concat the first and last names. \n",
    "- Apply a filter to the third sheet to the full_name column, for all those that contain \"vich.\"\n",
    "- Delete the id column in the third sheet.\n",
    "- Delete the column filter in the third sheet.\n",
    "- Reapply the column filter in the third sheet.\n",
    "- Save the analysis. \n",
    "- Delete everything but this cell, rerun it, and then replay the analysis and make sure it is still correct. \n",
    "- Run the generated code and make sure it works as expected (e.g. displays same values as the sheet).\n",
    "\n",
    "\"\"\"\n",
    "import mitosheet\n",
    "import pandas as pd\n",
    "first = pd.DataFrame(data={'id': [1, 2, 3], 'first_name': ['nate', 'aaron', 'jake']})\n",
    "last = pd.DataFrame(data={'id': [1, 2, 3], 'last_name': ['rush', 'Diamond-Reivich', 'diamond-reivich']})\n",
    "mitosheet.sheet(first, last)"
   ]
  }
 ],
 "metadata": {
  "kernelspec": {
   "display_name": "Python 3",
   "language": "python",
   "name": "python3"
  },
  "language_info": {
   "codemirror_mode": {
    "name": "ipython",
    "version": 3
   },
   "file_extension": ".py",
   "mimetype": "text/x-python",
   "name": "python",
   "nbconvert_exporter": "python",
   "pygments_lexer": "ipython3",
   "version": "3.8.5"
  },
  "widgets": {
   "application/vnd.jupyter.widget-state+json": {
    "state": {},
    "version_major": 2,
    "version_minor": 0
   }
  }
 },
 "nbformat": 4,
 "nbformat_minor": 4
}
