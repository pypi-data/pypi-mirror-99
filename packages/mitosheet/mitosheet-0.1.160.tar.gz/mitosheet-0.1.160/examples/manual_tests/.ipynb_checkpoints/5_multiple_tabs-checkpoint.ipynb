{
 "cells": [
  {
   "cell_type": "code",
   "execution_count": null,
   "metadata": {},
   "outputs": [],
   "source": [
    "\"\"\"\n",
    "This file tests some complex analysis with Mito, where mulitple mito instances\n",
    "exist in the same workbook. \n",
    "\n",
    "Instructions:\n",
    "1. Run this cell. \n",
    "2. Add a new column to the nums sheet. Set it equal to nums+100.\n",
    "3. Switch to the strs sheet. Add a new column. Set it equal to LEFT(strs).\n",
    "4. Switch back to the nums sheet. Make sure the column you defined above is still there + correct. \n",
    "5. Switch back to the strs sheet. Make sure you new column is correctly defined there as well. \n",
    "6. Rerun this cell. Make sure your new columns still exist. \n",
    "7. Edit the columns you defined to make sure the column formulas are redefined properly!\n",
    "\"\"\"\n",
    "import mitosheet\n",
    "import pandas as pd\n",
    "nums = pd.DataFrame(data={'nums': [1, 2, 3]})\n",
    "strs = pd.DataFrame(data={'strs': ['abc', 'def', 'ghi']})\n",
    "mitosheet.sheet(nums, strs)"
   ]
  }
 ],
 "metadata": {
  "kernelspec": {
   "display_name": "Python 3",
   "language": "python",
   "name": "python3"
  },
  "language_info": {
   "codemirror_mode": {
    "name": "ipython",
    "version": 3
   },
   "file_extension": ".py",
   "mimetype": "text/x-python",
   "name": "python",
   "nbconvert_exporter": "python",
   "pygments_lexer": "ipython3",
   "version": "3.8.5"
  },
  "widgets": {
   "application/vnd.jupyter.widget-state+json": {
    "state": {
     "007f64ff7c7640a1b1155d172b5f336b": {
      "model_module": "@jupyter-widgets/base",
      "model_module_version": "1.2.0",
      "model_name": "LayoutModel",
      "state": {}
     },
     "049026fa5a574727ab356e65308bdd36": {
      "model_module": "@jupyter-widgets/base",
      "model_module_version": "1.2.0",
      "model_name": "LayoutModel",
      "state": {}
     },
     "19f9bc89e70a4f8b85e4940e7f8d9af3": {
      "model_module": "mitosheet",
      "model_module_version": "^0.1.39",
      "model_name": "ExampleModel",
      "state": {
       "_model_module_version": "^0.1.39",
       "_view_module_version": "^0.1.39",
       "analysis_name": "UUID-774da0c2-34fd-4059-b339-c43fa5c46eff",
       "code_json": "{\"imports\": \"from mitosheet import *\", \"code\": [\"# Step 1\", \"# Make sure the columns are defined in the correct order\", \"nums['B'] = 0; nums['C'] = 0; nums['D'] = 0; nums['E'] = 0\", \"nums['D'] = nums['C'] + 1\", \"nums['B'] = nums['nums'] + 1\", \"strs['B'] = strs['strs'] + \\\"1\\\"\", \"# Step 2\", \"nums.drop('D', axis=1, inplace=True)\", \"# Step 3\", \"nums['E'] = 0\", \"nums['C'] = 0\", \"nums['B'] = nums['nums'] + 1\", \"# Step 4\", \"nums.drop('E', axis=1, inplace=True)\", \"# Step 5\", \"nums['C'] = 0\", \"nums['B'] = nums['nums'] + 1\", \"# Step 6\", \"nums.drop('C', axis=1, inplace=True)\", \"# Step 7\", \"nums['B'] = nums['nums'] + 1\"]}",
       "column_filters_json": "[{\"nums\": {\"condition\": \"none\", \"value\": \"\", \"type\": \"number\"}, \"B\": {\"condition\": \"none\", \"value\": \"\", \"type\": \"number\"}, \"C\": {\"condition\": \"none\", \"value\": \"\", \"type\": \"number\"}, \"D\": {\"condition\": \"none\", \"value\": \"\", \"type\": \"number\"}, \"E\": {\"condition\": \"none\", \"value\": \"\", \"type\": \"number\"}}, {\"strs\": {\"condition\": \"none\", \"value\": \"\", \"type\": \"string\"}, \"B\": {\"condition\": \"none\", \"value\": \"\", \"type\": \"string\"}}]",
       "column_spreadsheet_code_json": "[{\"nums\": \"\", \"B\": \"=nums + 1\"}, {\"strs\": \"\", \"B\": \"=strs + \\\"1\\\"\"}]",
       "df_names_json": "{\"df_names\": [\"nums\", \"strs\"]}",
       "layout": "IPY_MODEL_e71256b828c749e9a33b237c3db2fac3",
       "saved_analysis_names_json": "[\"test_save0.13865217353525938\", \"test_save0.21675413754051343\", \"test_save0.5355031268323845\", \"test_save0.7449973716148273\", \"test_save0.7949648718742697\", \"test_save0.8503013780672617\"]",
       "sheet_json": "[{\"columns\": [\"nums\", \"B\"], \"index\": [0, 1, 2], \"data\": [[1, 2], [2, 3], [3, 4]]}, {\"columns\": [\"strs\", \"B\"], \"index\": [0, 1, 2], \"data\": [[\"abc\", \"abc1\"], [\"def\", \"def1\"], [\"ghi\", \"ghi1\"]]}]",
       "user_id": "nate",
       "value": "Hello World"
      }
     },
     "2e827a69196143c388a4ce6066032858": {
      "model_module": "mitosheet",
      "model_module_version": "^0.1.39",
      "model_name": "ExampleModel",
      "state": {
       "_model_module_version": "^0.1.39",
       "_view_module_version": "^0.1.39",
       "analysis_name": "UUID-26e2d54d-ea1f-4a20-8132-d9fa1edd3f2f",
       "code_json": "{\"imports\": \"from mitosheet import *\", \"code\": [\"# Step 1\", \"nums['B'] = nums['nums'] + 10 + 100\", \"strs['B'] = strs['strs'] + \\\"a\\\"\"]}",
       "column_filters_json": "[{\"nums\": {\"condition\": \"none\", \"value\": \"\", \"type\": \"number\"}, \"B\": {\"condition\": \"none\", \"value\": \"\", \"type\": \"number\"}}, {\"strs\": {\"condition\": \"none\", \"value\": \"\", \"type\": \"string\"}, \"B\": {\"condition\": \"none\", \"value\": \"\", \"type\": \"string\"}}]",
       "column_spreadsheet_code_json": "[{\"nums\": \"\", \"B\": \"=nums + 10 + 100\"}, {\"strs\": \"\", \"B\": \"=strs + \\\"a\\\"\"}]",
       "df_names_json": "{\"df_names\": [\"nums\", \"strs\"]}",
       "layout": "IPY_MODEL_b61bf4805dd74891881d8cbcf6e3eb1b",
       "saved_analysis_names_json": "[\"test_save0.13865217353525938\", \"test_save0.21675413754051343\", \"test_save0.5355031268323845\", \"test_save0.7449973716148273\", \"test_save0.7949648718742697\", \"test_save0.8503013780672617\"]",
       "sheet_json": "[{\"columns\": [\"nums\", \"B\"], \"index\": [0, 1, 2], \"data\": [[1, 111], [2, 112], [3, 113]]}, {\"columns\": [\"strs\", \"B\"], \"index\": [0, 1, 2], \"data\": [[\"abc\", \"abca\"], [\"def\", \"defa\"], [\"ghi\", \"ghia\"]]}]",
       "user_id": "nate",
       "value": "Hello World"
      }
     },
     "339d77e809124b59b75dc4f9c43fada3": {
      "model_module": "@jupyter-widgets/base",
      "model_module_version": "1.2.0",
      "model_name": "LayoutModel",
      "state": {}
     },
     "403359a7e74d476bb047eb237a08b196": {
      "model_module": "mitosheet",
      "model_module_version": "^0.1.39",
      "model_name": "ExampleModel",
      "state": {
       "_model_module_version": "^0.1.39",
       "_view_module_version": "^0.1.39",
       "analysis_name": "UUID-a15514b7-89b3-4497-9949-390be051ce8b",
       "code_json": "{\"imports\": \"from mitosheet import *\", \"code\": [\"# Step 1\", \"nums['B'] = nums['nums'] + 1\", \"nums['C'] = nums['B'] + 100\", \"strs['B'] = strs['strs'] + \\\"a\\\"\"]}",
       "column_filters_json": "[{\"nums\": {\"condition\": \"none\", \"value\": \"\", \"type\": \"number\"}, \"B\": {\"condition\": \"none\", \"value\": \"\", \"type\": \"number\"}, \"C\": {\"condition\": \"none\", \"value\": \"\", \"type\": \"number\"}}, {\"strs\": {\"condition\": \"none\", \"value\": \"\", \"type\": \"string\"}, \"B\": {\"condition\": \"none\", \"value\": \"\", \"type\": \"string\"}}]",
       "column_spreadsheet_code_json": "[{\"nums\": \"\", \"B\": \"=nums + 1\", \"C\": \"=B + 100\"}, {\"strs\": \"\", \"B\": \"=strs + \\\"a\\\"\"}]",
       "df_names_json": "{\"df_names\": [\"nums\", \"strs\"]}",
       "layout": "IPY_MODEL_b550662a067446fb883f6a9725e7fc38",
       "saved_analysis_names_json": "[\"test_save0.13865217353525938\", \"test_save0.21675413754051343\", \"test_save0.5355031268323845\", \"test_save0.7449973716148273\", \"test_save0.7949648718742697\", \"test_save0.8503013780672617\"]",
       "sheet_json": "[{\"columns\": [\"nums\", \"B\", \"C\"], \"index\": [0, 1, 2], \"data\": [[1, 2, 102], [2, 3, 103], [3, 4, 104]]}, {\"columns\": [\"strs\", \"B\"], \"index\": [0, 1, 2], \"data\": [[\"abc\", \"abca\"], [\"def\", \"defa\"], [\"ghi\", \"ghia\"]]}]",
       "user_id": "nate",
       "value": "Hello World"
      }
     },
     "8fad514f53694fbea5717f26c407f0d4": {
      "model_module": "mitosheet",
      "model_module_version": "^0.1.39",
      "model_name": "ExampleModel",
      "state": {
       "_model_module_version": "^0.1.39",
       "_view_module_version": "^0.1.39",
       "analysis_name": "UUID-dd56ac78-2cc7-4f52-b76d-95d1aefda9f4",
       "code_json": "{\"imports\": \"from mitosheet import *\", \"code\": [\"# Step 1\", \"nums['B'] = nums['nums'] + 1\", \"strs['B'] = strs['strs'] + \\\"c\\\"\"]}",
       "column_filters_json": "[{\"nums\": {\"condition\": \"none\", \"value\": \"\", \"type\": \"number\"}, \"B\": {\"condition\": \"none\", \"value\": \"\", \"type\": \"number\"}}, {\"strs\": {\"condition\": \"none\", \"value\": \"\", \"type\": \"string\"}, \"B\": {\"condition\": \"none\", \"value\": \"\", \"type\": \"string\"}}]",
       "column_spreadsheet_code_json": "[{\"nums\": \"\", \"B\": \"=nums + 1\"}, {\"strs\": \"\", \"B\": \"=strs + \\\"c\\\"\"}]",
       "df_names_json": "{\"df_names\": [\"nums\", \"strs\"]}",
       "layout": "IPY_MODEL_c14a4a65da544f688322cda07df2822b",
       "saved_analysis_names_json": "[\"test_save0.13865217353525938\", \"test_save0.21675413754051343\", \"test_save0.5355031268323845\", \"test_save0.7449973716148273\", \"test_save0.7949648718742697\", \"test_save0.8503013780672617\"]",
       "sheet_json": "[{\"columns\": [\"nums\", \"B\"], \"index\": [0, 1, 2], \"data\": [[1, 2], [2, 3], [3, 4]]}, {\"columns\": [\"strs\", \"B\"], \"index\": [0, 1, 2], \"data\": [[\"abc\", \"abcc\"], [\"def\", \"defc\"], [\"ghi\", \"ghic\"]]}]",
       "user_id": "nate",
       "value": "Hello World"
      }
     },
     "9b1e4438732042e0bd8c1edf7d495d08": {
      "model_module": "mitosheet",
      "model_module_version": "^0.1.39",
      "model_name": "ExampleModel",
      "state": {
       "_model_module_version": "^0.1.39",
       "_view_module_version": "^0.1.39",
       "analysis_name": "UUID-5afd1a0a-7f6a-42f9-b1b6-8c3248f044ea",
       "code_json": "{\"imports\": \"from mitosheet import *\", \"code\": []}",
       "column_filters_json": "[{\"nums\": {\"condition\": \"none\", \"value\": \"\", \"type\": \"number\"}}, {\"strs\": {\"condition\": \"none\", \"value\": \"\", \"type\": \"string\"}}]",
       "column_spreadsheet_code_json": "[{\"nums\": \"\"}, {\"strs\": \"\"}]",
       "df_names_json": "{\"df_names\": [\"nums\", \"strs\"]}",
       "layout": "IPY_MODEL_f087314dd2f54a64bdd5136a310e744b",
       "saved_analysis_names_json": "[\"test_save0.13865217353525938\", \"test_save0.21675413754051343\", \"test_save0.5355031268323845\", \"test_save0.7449973716148273\", \"test_save0.7949648718742697\", \"test_save0.8503013780672617\"]",
       "sheet_json": "[{\"columns\": [\"nums\"], \"index\": [0, 1, 2], \"data\": [[1], [2], [3]]}, {\"columns\": [\"strs\"], \"index\": [0, 1, 2], \"data\": [[\"abc\"], [\"def\"], [\"ghi\"]]}]",
       "user_id": "nate",
       "value": "Hello World"
      }
     },
     "b550662a067446fb883f6a9725e7fc38": {
      "model_module": "@jupyter-widgets/base",
      "model_module_version": "1.2.0",
      "model_name": "LayoutModel",
      "state": {}
     },
     "b61bf4805dd74891881d8cbcf6e3eb1b": {
      "model_module": "@jupyter-widgets/base",
      "model_module_version": "1.2.0",
      "model_name": "LayoutModel",
      "state": {}
     },
     "bbb8747235484ff292dbb6ec91717603": {
      "model_module": "mitosheet",
      "model_module_version": "^0.1.39",
      "model_name": "ExampleModel",
      "state": {
       "_model_module_version": "^0.1.39",
       "_view_module_version": "^0.1.39",
       "analysis_name": "UUID-ddf33370-c265-47df-a03c-2b41ac8ca8c8",
       "code_json": "{\"imports\": \"from mitosheet import *\", \"code\": [\"# Step 1\", \"nums['B'] = nums['nums'] + 102 + 100\", \"strs['B'] = 0\"]}",
       "column_filters_json": "[{\"nums\": {\"condition\": \"none\", \"value\": \"\", \"type\": \"number\"}, \"B\": {\"condition\": \"none\", \"value\": \"\", \"type\": \"number\"}}, {\"strs\": {\"condition\": \"none\", \"value\": \"\", \"type\": \"string\"}, \"B\": {\"condition\": \"none\", \"value\": \"\", \"type\": \"number\"}}]",
       "column_spreadsheet_code_json": "[{\"nums\": \"\", \"B\": \"=nums + 102 + 100\"}, {\"strs\": \"\", \"B\": \"=0\"}]",
       "df_names_json": "{\"df_names\": [\"nums\", \"strs\"]}",
       "layout": "IPY_MODEL_339d77e809124b59b75dc4f9c43fada3",
       "saved_analysis_names_json": "[\"test_save0.13865217353525938\", \"test_save0.21675413754051343\", \"test_save0.5355031268323845\", \"test_save0.7449973716148273\", \"test_save0.7949648718742697\", \"test_save0.8503013780672617\"]",
       "sheet_json": "[{\"columns\": [\"nums\", \"B\"], \"index\": [0, 1, 2], \"data\": [[1, 203], [2, 204], [3, 205]]}, {\"columns\": [\"strs\", \"B\"], \"index\": [0, 1, 2], \"data\": [[\"abc\", 0], [\"def\", 0], [\"ghi\", 0]]}]",
       "user_id": "nate",
       "value": "Hello World"
      }
     },
     "c14a4a65da544f688322cda07df2822b": {
      "model_module": "@jupyter-widgets/base",
      "model_module_version": "1.2.0",
      "model_name": "LayoutModel",
      "state": {}
     },
     "d21d91824b3e4effbe1fcccf469e7ca8": {
      "model_module": "mitosheet",
      "model_module_version": "^0.1.39",
      "model_name": "ExampleModel",
      "state": {
       "_model_module_version": "^0.1.39",
       "_view_module_version": "^0.1.39",
       "analysis_name": "UUID-d3544ba7-eb63-4cb6-a3d0-c5cb859ab595",
       "code_json": "{\"imports\": \"from mitosheet import *\", \"code\": [\"# Step 1\", \"nums['B'] = nums['nums'] + 2\", \"strs['B'] = 0\"]}",
       "column_filters_json": "[{\"nums\": {\"condition\": \"none\", \"value\": \"\", \"type\": \"number\"}, \"B\": {\"condition\": \"none\", \"value\": \"\", \"type\": \"number\"}}, {\"strs\": {\"condition\": \"none\", \"value\": \"\", \"type\": \"string\"}, \"B\": {\"condition\": \"none\", \"value\": \"\", \"type\": \"number\"}}]",
       "column_spreadsheet_code_json": "[{\"nums\": \"\", \"B\": \"=nums + 2\"}, {\"strs\": \"\", \"B\": \"=0\"}]",
       "df_names_json": "{\"df_names\": [\"nums\", \"strs\"]}",
       "layout": "IPY_MODEL_007f64ff7c7640a1b1155d172b5f336b",
       "saved_analysis_names_json": "[\"test_save0.13865217353525938\", \"test_save0.21675413754051343\", \"test_save0.5355031268323845\", \"test_save0.7449973716148273\", \"test_save0.7949648718742697\", \"test_save0.8503013780672617\"]",
       "sheet_json": "[{\"columns\": [\"nums\", \"B\"], \"index\": [0, 1, 2], \"data\": [[1, 3], [2, 4], [3, 5]]}, {\"columns\": [\"strs\", \"B\"], \"index\": [0, 1, 2], \"data\": [[\"abc\", 0], [\"def\", 0], [\"ghi\", 0]]}]",
       "user_id": "nate",
       "value": "Hello World"
      }
     },
     "e71256b828c749e9a33b237c3db2fac3": {
      "model_module": "@jupyter-widgets/base",
      "model_module_version": "1.2.0",
      "model_name": "LayoutModel",
      "state": {}
     },
     "f087314dd2f54a64bdd5136a310e744b": {
      "model_module": "@jupyter-widgets/base",
      "model_module_version": "1.2.0",
      "model_name": "LayoutModel",
      "state": {}
     },
     "f7fdecfb90744aef90027150ea6307f9": {
      "model_module": "mitosheet",
      "model_module_version": "^0.1.39",
      "model_name": "ExampleModel",
      "state": {
       "_model_module_version": "^0.1.39",
       "_view_module_version": "^0.1.39",
       "analysis_name": "UUID-089dbfa7-2ed3-49ef-b87f-61222cee1eda",
       "code_json": "{\"imports\": \"from mitosheet import *\", \"code\": []}",
       "column_filters_json": "[{\"nums\": {\"condition\": \"none\", \"value\": \"\", \"type\": \"number\"}}, {\"strs\": {\"condition\": \"none\", \"value\": \"\", \"type\": \"string\"}}]",
       "column_spreadsheet_code_json": "[{\"nums\": \"\"}, {\"strs\": \"\"}]",
       "df_names_json": "{\"df_names\": [\"nums\", \"strs\"]}",
       "layout": "IPY_MODEL_049026fa5a574727ab356e65308bdd36",
       "saved_analysis_names_json": "[\"test_save0.13865217353525938\", \"test_save0.21675413754051343\", \"test_save0.5355031268323845\", \"test_save0.7449973716148273\", \"test_save0.7949648718742697\", \"test_save0.8503013780672617\"]",
       "sheet_json": "[{\"columns\": [\"nums\"], \"index\": [0, 1, 2], \"data\": [[1], [2], [3]]}, {\"columns\": [\"strs\"], \"index\": [0, 1, 2], \"data\": [[\"abc\"], [\"def\"], [\"ghi\"]]}]",
       "user_id": "nate",
       "value": "Hello World"
      }
     }
    },
    "version_major": 2,
    "version_minor": 0
   }
  }
 },
 "nbformat": 4,
 "nbformat_minor": 4
}
