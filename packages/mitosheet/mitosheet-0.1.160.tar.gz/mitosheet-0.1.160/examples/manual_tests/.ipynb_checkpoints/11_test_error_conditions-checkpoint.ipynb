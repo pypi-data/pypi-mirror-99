{
 "cells": [
  {
   "cell_type": "code",
   "execution_count": null,
   "metadata": {},
   "outputs": [],
   "source": [
    "\"\"\"\n",
    "This file should test some common error conditions,\n",
    "and make sure mito can detect and handle them.\n",
    "\n",
    "Instructions:\n",
    "- Run this cell. \n",
    "- Make a new column.\n",
    "- Write LEFT(A), and get an error telling you to use an equals sign.\n",
    "- Write =A & \"HA\", and get an error telling you that & is not supported.\n",
    "- Reference cell A1 instead of A, get an error correcting this. \n",
    "- Reference column B, get a circular reference error. \n",
    "- Write =FUNC(A), get a function does not exist error.\n",
    "- Write =SUM(C), get a column does not exist error.\n",
    "- Write =VLOOKUP(C) and get a invalid formula error, pointing you to merge.\n",
    "\"\"\"\n",
    "import mitosheet\n",
    "import pandas as pd\n",
    "\n",
    "df = pd.DataFrame(data={'A': [\"Jake Diamond-Revich\", \"Aaron Diamond-Reivich\", \"Nate Rush\"]})\n",
    "mitosheet.sheet(df)"
   ]
  }
 ],
 "metadata": {
  "kernelspec": {
   "display_name": "Python 3",
   "language": "python",
   "name": "python3"
  },
  "language_info": {
   "codemirror_mode": {
    "name": "ipython",
    "version": 3
   },
   "file_extension": ".py",
   "mimetype": "text/x-python",
   "name": "python",
   "nbconvert_exporter": "python",
   "pygments_lexer": "ipython3",
   "version": "3.8.5"
  },
  "widgets": {
   "application/vnd.jupyter.widget-state+json": {
    "state": {},
    "version_major": 2,
    "version_minor": 0
   }
  }
 },
 "nbformat": 4,
 "nbformat_minor": 4
}
