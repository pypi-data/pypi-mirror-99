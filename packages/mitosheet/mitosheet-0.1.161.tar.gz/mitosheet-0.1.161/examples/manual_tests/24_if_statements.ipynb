{
 "cells": [
  {
   "cell_type": "code",
   "execution_count": null,
   "metadata": {},
   "outputs": [],
   "source": [
    "\"\"\"\n",
    "This file tests that grouping on multiple rows and a column works correctly\n",
    "\n",
    "1. Run this cell. \n",
    "2. Create a new column. \n",
    "    - Name it 'cleaned_score.'\n",
    "    - Use the IF function to fill the new column with the 'score' column\n",
    "      where all values < 0 have been set to 0, and all values > 100 have been set to 100.\n",
    "3. Create a new column. \n",
    "    - Name it 'cleaned_status.'\n",
    "    - Use the IF function to fill it with the status column,\n",
    "      but replace 'passed' with 'pass' to clean the data.\n",
    "4. Create a new column. \n",
    "    - Name it \"Successful_Student\". \n",
    "    - Make it equal to 1, if the student has > 61 cleaned_score\n",
    "      and a 'pass' cleaned_status. Set it equal to 0 otherwise.\n",
    "5. Create a new column.\n",
    "    - Name it \"Failed student.\"\n",
    "    - Set it equal to 1, if the student has a cleaned_score <= 61, or\n",
    "      if the student has a 'fail' cleaned_status.\n",
    "\"\"\"\n",
    "import mitosheet\n",
    "import pandas as pd\n",
    "df = pd.DataFrame({\n",
    "    'score': [-100, -50, 0, 10, 61, 100, 150],\n",
    "    'status': ['pass', 'fail', 'pass', 'fail', 'passed', 'pass', 'fail']\n",
    "})\n",
    "mitosheet.sheet(df)"
   ]
  }
 ],
 "metadata": {
  "kernelspec": {
   "display_name": "Python 3",
   "language": "python",
   "name": "python3"
  },
  "language_info": {
   "codemirror_mode": {
    "name": "ipython",
    "version": 3
   },
   "file_extension": ".py",
   "mimetype": "text/x-python",
   "name": "python",
   "nbconvert_exporter": "python",
   "pygments_lexer": "ipython3",
   "version": "3.8.5"
  },
  "widgets": {
   "application/vnd.jupyter.widget-state+json": {
    "state": {},
    "version_major": 2,
    "version_minor": 0
   }
  }
 },
 "nbformat": 4,
 "nbformat_minor": 4
}
