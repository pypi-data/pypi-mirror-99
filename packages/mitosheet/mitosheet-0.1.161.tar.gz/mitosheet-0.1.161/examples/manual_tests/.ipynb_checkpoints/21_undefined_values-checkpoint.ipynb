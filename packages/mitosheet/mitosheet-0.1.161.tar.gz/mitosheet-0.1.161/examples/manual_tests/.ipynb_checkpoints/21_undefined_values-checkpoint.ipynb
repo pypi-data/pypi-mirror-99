{
 "cells": [
  {
   "cell_type": "code",
   "execution_count": null,
   "metadata": {},
   "outputs": [],
   "source": [
    "\"\"\"\n",
    "Tests how the mitosheet handles undefined values.\n",
    "\n",
    "Steps:\n",
    "- Run this cell.\n",
    "- Check that there is a NaN in three Mito cells in the sheet, in a diagonal pattern.\n",
    "- Create a new column, and set it equal to Height / Weight. The last row should hold a value, and the other rows should have NaN.\n",
    "- Rename the column 'height_divides_weight_now'\n",
    "- lengthen the column so the new column name looks good\n",
    "- Filter the column Weight to get rid of the NaN (is not empty). Check the last row is still defined. \n",
    "- Filter the Height column to get rid of NaNs (as above).\n",
    "- Run the generated code, and make sure the dataframe matches the above.\n",
    "\"\"\"\n",
    "import mitosheet\n",
    "import pandas as pd\n",
    "df1 = pd.DataFrame(data={'name': ['Nate', 'Aaron', None], 'Height': ['4', None, 7], 'Weight': [None, 300, 400]})\n",
    "mitosheet.sheet(df1)"
   ]
  }
 ],
 "metadata": {
  "kernelspec": {
   "display_name": "Python 3",
   "language": "python",
   "name": "python3"
  },
  "language_info": {
   "codemirror_mode": {
    "name": "ipython",
    "version": 3
   },
   "file_extension": ".py",
   "mimetype": "text/x-python",
   "name": "python",
   "nbconvert_exporter": "python",
   "pygments_lexer": "ipython3",
   "version": "3.8.5"
  },
  "widgets": {
   "application/vnd.jupyter.widget-state+json": {
    "state": {},
    "version_major": 2,
    "version_minor": 0
   }
  }
 },
 "nbformat": 4,
 "nbformat_minor": 4
}
