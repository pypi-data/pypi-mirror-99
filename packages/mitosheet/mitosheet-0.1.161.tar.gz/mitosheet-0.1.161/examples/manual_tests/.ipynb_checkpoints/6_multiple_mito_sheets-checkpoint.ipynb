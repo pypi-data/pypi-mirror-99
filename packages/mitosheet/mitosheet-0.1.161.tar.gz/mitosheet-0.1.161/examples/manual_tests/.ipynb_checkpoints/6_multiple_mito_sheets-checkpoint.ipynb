{
 "cells": [
  {
   "cell_type": "code",
   "execution_count": null,
   "metadata": {},
   "outputs": [],
   "source": [
    "\"\"\"\n",
    "This file tests some complex analysis with Mito, where mulitple mito instances\n",
    "exist in the same workbook. \n",
    "\n",
    "Instructions:\n",
    "1. Run all the cells in this notebook.\n",
    "2. For each Mito workbook:\n",
    "    1. Add a new column. \n",
    "    2. Edit each new column to be = Nums + 1\n",
    "    3. Check they update correctly, and code gets generated in the correct cell.\n",
    "\"\"\"\n",
    "import mitosheet\n",
    "import pandas as pd\n",
    "df = pd.DataFrame(data={'Nums': [1, 2, 3]})\n",
    "mitosheet.sheet(df)"
   ]
  },
  {
   "cell_type": "code",
   "execution_count": null,
   "metadata": {},
   "outputs": [],
   "source": [
    "df1 = pd.DataFrame(data={'Nums': [1, 2, 3]})\n",
    "mitosheet.sheet(df1)"
   ]
  },
  {
   "cell_type": "code",
   "execution_count": null,
   "metadata": {},
   "outputs": [],
   "source": [
    "df2 = pd.DataFrame(data={'Nums': [1, 2, 3]})\n",
    "mitosheet.sheet(df2)"
   ]
  }
 ],
 "metadata": {
  "kernelspec": {
   "display_name": "Python 3",
   "language": "python",
   "name": "python3"
  },
  "language_info": {
   "codemirror_mode": {
    "name": "ipython",
    "version": 3
   },
   "file_extension": ".py",
   "mimetype": "text/x-python",
   "name": "python",
   "nbconvert_exporter": "python",
   "pygments_lexer": "ipython3",
   "version": "3.8.5"
  },
  "widgets": {
   "application/vnd.jupyter.widget-state+json": {
    "state": {
     "0614777da36440c680060ac4ffe8aed2": {
      "model_module": "@jupyter-widgets/base",
      "model_module_version": "1.2.0",
      "model_name": "LayoutModel",
      "state": {}
     },
     "13163729d80f4e50a0303f7cc99982cd": {
      "model_module": "@jupyter-widgets/base",
      "model_module_version": "1.2.0",
      "model_name": "LayoutModel",
      "state": {}
     },
     "1536d7120e614e59a0c1a1a982047320": {
      "model_module": "mitosheet",
      "model_module_version": "^0.1.37",
      "model_name": "ExampleModel",
      "state": {
       "_model_module_version": "^0.1.37",
       "_view_module_version": "^0.1.37",
       "analysis_name": "UUID-a9f5da80-23da-4771-ad26-7fcf1ede9afe",
       "code_json": "{\"imports\": \"from mitosheet import *\", \"code\": [\"# Step 1\", \"df1['B'] = 0\"]}",
       "column_filters_json": "[{\"Nums\": {\"condition\": \"none\", \"value\": \"\", \"type\": \"number\"}, \"B\": {\"condition\": \"none\", \"value\": \"\", \"type\": \"number\"}}]",
       "column_spreadsheet_code_json": "[{\"Nums\": \"\", \"B\": \"=0\"}]",
       "df_names_json": "{\"df_names\": [\"df1\"]}",
       "layout": "IPY_MODEL_884ae33ab3e04161807062bff8aadfd3",
       "saved_analysis_names_json": "[\"test_save0.009833205603932416\", \"test_save0.058848647350668304\", \"test_save0.08689981096426247\", \"test_save0.11264943078202705\", \"test_save0.42676850291699286\", \"test_save0.45723478524307803\", \"test_save0.5795813605895718\", \"test_save0.5814619988214229\", \"test_save0.6931165944905919\", \"test_save0.7084836236859726\", \"test_save0.7849200637235948\"]",
       "sheet_json": "[{\"columns\": [\"Nums\", \"B\"], \"index\": [0, 1, 2], \"data\": [[1, 0], [2, 0], [3, 0]]}]",
       "user_id": "nate",
       "value": "Hello World"
      }
     },
     "2c7daa759442410fb5bee510c616923b": {
      "model_module": "@jupyter-widgets/base",
      "model_module_version": "1.2.0",
      "model_name": "LayoutModel",
      "state": {}
     },
     "2ccd795593794358a0754633cd2db563": {
      "model_module": "@jupyter-widgets/base",
      "model_module_version": "1.2.0",
      "model_name": "LayoutModel",
      "state": {}
     },
     "3a4bad621090495dbebc2c8bcebc945e": {
      "model_module": "mitosheet",
      "model_module_version": "^0.1.37",
      "model_name": "ExampleModel",
      "state": {
       "_model_module_version": "^0.1.37",
       "_view_module_version": "^0.1.37",
       "analysis_name": "UUID-453e1bca-840e-411b-a936-e5e6badb8006",
       "code_json": "{\"imports\": \"from mitosheet import *\", \"code\": [\"# Step 1\", \"df['B'] = 0\"]}",
       "column_filters_json": "[{\"Nums\": {\"condition\": \"none\", \"value\": \"\", \"type\": \"number\"}, \"B\": {\"condition\": \"none\", \"value\": \"\", \"type\": \"number\"}}]",
       "column_spreadsheet_code_json": "[{\"Nums\": \"\", \"B\": \"=0\"}]",
       "df_names_json": "{\"df_names\": [\"df\"]}",
       "layout": "IPY_MODEL_c44e532b0c4a442e95b9025afa9c84e3",
       "saved_analysis_names_json": "[\"\", \"Testing\", \"test_save0.009833205603932416\", \"test_save0.058848647350668304\", \"test_save0.08689981096426247\", \"test_save0.11264943078202705\", \"test_save0.42676850291699286\", \"test_save0.45723478524307803\", \"test_save0.5795813605895718\", \"test_save0.5814619988214229\", \"test_save0.6931165944905919\", \"test_save0.7084836236859726\", \"test_save0.7849200637235948\"]",
       "sheet_json": "[{\"columns\": [\"Nums\", \"B\"], \"index\": [0, 1, 2], \"data\": [[1, 0], [2, 0], [3, 0]]}]",
       "user_id": "nate",
       "value": "Hello World"
      }
     },
     "3c5c6daee998499081997dbfcd63497d": {
      "model_module": "mitosheet",
      "model_module_version": "^0.1.37",
      "model_name": "ExampleModel",
      "state": {
       "_model_module_version": "^0.1.37",
       "_view_module_version": "^0.1.37",
       "analysis_name": "UUID-ccd1a799-7175-40b0-b501-ee18a1a6014b",
       "code_json": "{\"imports\": \"from mitosheet import *\", \"code\": []}",
       "column_filters_json": "[{\"Nums\": {\"condition\": \"none\", \"value\": \"\", \"type\": \"number\"}}]",
       "column_spreadsheet_code_json": "[{\"Nums\": \"\"}]",
       "df_names_json": "{\"df_names\": [\"df\"]}",
       "layout": "IPY_MODEL_b4570939294e4ec18a6d1602e973eb3d",
       "saved_analysis_names_json": "[\"\", \"Testing\", \"test_save0.009833205603932416\", \"test_save0.058848647350668304\", \"test_save0.08689981096426247\", \"test_save0.11264943078202705\", \"test_save0.42676850291699286\", \"test_save0.45723478524307803\", \"test_save0.5795813605895718\", \"test_save0.5814619988214229\", \"test_save0.6931165944905919\", \"test_save0.7084836236859726\", \"test_save0.7849200637235948\"]",
       "sheet_json": "[{\"columns\": [\"Nums\"], \"index\": [0, 1, 2], \"data\": [[1], [2], [3]]}]",
       "user_id": "nate",
       "value": "Hello World"
      }
     },
     "67341c930d0c41648e575b71b48828f8": {
      "model_module": "@jupyter-widgets/base",
      "model_module_version": "1.2.0",
      "model_name": "LayoutModel",
      "state": {}
     },
     "6cfae67adeb84ec3b16d86fb05a6853d": {
      "model_module": "mitosheet",
      "model_module_version": "^0.1.37",
      "model_name": "ExampleModel",
      "state": {
       "_model_module_version": "^0.1.37",
       "_view_module_version": "^0.1.37",
       "analysis_name": "UUID-ebc981aa-80c7-4278-bc54-4f84e3704d67",
       "code_json": "{\"imports\": \"from mitosheet import *\", \"code\": []}",
       "column_filters_json": "[{\"Nums\": {\"condition\": \"none\", \"value\": \"\", \"type\": \"number\"}}]",
       "column_spreadsheet_code_json": "[{\"Nums\": \"\"}]",
       "df_names_json": "{\"df_names\": [\"df\"]}",
       "layout": "IPY_MODEL_da4374e3ef48407c9671f1ac35d07cb4",
       "saved_analysis_names_json": "[\"\", \"Testing\", \"test_save0.009833205603932416\", \"test_save0.058848647350668304\", \"test_save0.08689981096426247\", \"test_save0.11264943078202705\", \"test_save0.42676850291699286\", \"test_save0.45723478524307803\", \"test_save0.5795813605895718\", \"test_save0.5814619988214229\", \"test_save0.6931165944905919\", \"test_save0.7084836236859726\", \"test_save0.7849200637235948\"]",
       "sheet_json": "[{\"columns\": [\"Nums\"], \"index\": [0, 1, 2], \"data\": [[1], [2], [3]]}]",
       "user_id": "nate",
       "value": "Hello World"
      }
     },
     "6dd8c6e9bfda43d6989ac728a2d6ada0": {
      "model_module": "mitosheet",
      "model_module_version": "^0.1.37",
      "model_name": "ExampleModel",
      "state": {
       "_model_module_version": "^0.1.37",
       "_view_module_version": "^0.1.37",
       "analysis_name": "UUID-8ed63f1d-dba2-438a-9f39-9221180ed932",
       "code_json": "{\"imports\": \"from mitosheet import *\", \"code\": []}",
       "column_filters_json": "[{\"Nums\": {\"condition\": \"none\", \"value\": \"\", \"type\": \"number\"}}]",
       "column_spreadsheet_code_json": "[{\"Nums\": \"\"}]",
       "df_names_json": "{\"df_names\": [\"df\"]}",
       "layout": "IPY_MODEL_aea7549735c8490783755def4aac8645",
       "saved_analysis_names_json": "[\"\", \"Testing\", \"test_save0.009833205603932416\", \"test_save0.058848647350668304\", \"test_save0.08689981096426247\", \"test_save0.11264943078202705\", \"test_save0.42676850291699286\", \"test_save0.45723478524307803\", \"test_save0.5795813605895718\", \"test_save0.5814619988214229\", \"test_save0.6931165944905919\", \"test_save0.7084836236859726\", \"test_save0.7849200637235948\"]",
       "sheet_json": "[{\"columns\": [\"Nums\"], \"index\": [0, 1, 2], \"data\": [[1], [2], [3]]}]",
       "user_id": "nate",
       "value": "Hello World"
      }
     },
     "884ae33ab3e04161807062bff8aadfd3": {
      "model_module": "@jupyter-widgets/base",
      "model_module_version": "1.2.0",
      "model_name": "LayoutModel",
      "state": {}
     },
     "8aaf5de41b86411bb2230402147fc2fc": {
      "model_module": "mitosheet",
      "model_module_version": "^0.1.37",
      "model_name": "ExampleModel",
      "state": {
       "_model_module_version": "^0.1.37",
       "_view_module_version": "^0.1.37",
       "analysis_name": "UUID-8804b9e5-1c10-4e63-aee4-a0f732f60a5d",
       "code_json": "{\"imports\": \"from mitosheet import *\", \"code\": [\"# Step 1\", \"df2['B'] = 0\"]}",
       "column_filters_json": "[{\"Nums\": {\"condition\": \"none\", \"value\": \"\", \"type\": \"number\"}, \"B\": {\"condition\": \"none\", \"value\": \"\", \"type\": \"number\"}}]",
       "column_spreadsheet_code_json": "[{\"Nums\": \"\", \"B\": \"=0\"}]",
       "df_names_json": "{\"df_names\": [\"df2\"]}",
       "layout": "IPY_MODEL_ea3ad7a8710b48119187bc249f447fb1",
       "saved_analysis_names_json": "[\"test_save0.009833205603932416\", \"test_save0.058848647350668304\", \"test_save0.08689981096426247\", \"test_save0.11264943078202705\", \"test_save0.42676850291699286\", \"test_save0.45723478524307803\", \"test_save0.5795813605895718\", \"test_save0.5814619988214229\", \"test_save0.6931165944905919\", \"test_save0.7084836236859726\", \"test_save0.7849200637235948\"]",
       "sheet_json": "[{\"columns\": [\"Nums\", \"B\"], \"index\": [0, 1, 2], \"data\": [[1, 0], [2, 0], [3, 0]]}]",
       "user_id": "nate",
       "value": "Hello World"
      }
     },
     "90184fffb8a74c81ab796292763bcc97": {
      "model_module": "mitosheet",
      "model_module_version": "^0.1.37",
      "model_name": "ExampleModel",
      "state": {
       "_model_module_version": "^0.1.37",
       "_view_module_version": "^0.1.37",
       "analysis_name": "UUID-0467d306-9473-4536-98cd-553e5ae18c9c",
       "code_json": "{\"imports\": \"from mitosheet import *\", \"code\": []}",
       "column_filters_json": "[{\"Nums\": {\"condition\": \"none\", \"value\": \"\", \"type\": \"number\"}}]",
       "column_spreadsheet_code_json": "[{\"Nums\": \"\"}]",
       "df_names_json": "{\"df_names\": [\"df\"]}",
       "layout": "IPY_MODEL_67341c930d0c41648e575b71b48828f8",
       "saved_analysis_names_json": "[\"\", \"Testing\", \"test_save0.009833205603932416\", \"test_save0.058848647350668304\", \"test_save0.08689981096426247\", \"test_save0.11264943078202705\", \"test_save0.42676850291699286\", \"test_save0.45723478524307803\", \"test_save0.5795813605895718\", \"test_save0.5814619988214229\", \"test_save0.6931165944905919\", \"test_save0.7084836236859726\", \"test_save0.7849200637235948\"]",
       "sheet_json": "[{\"columns\": [\"Nums\"], \"index\": [0, 1, 2], \"data\": [[1], [2], [3]]}]",
       "user_id": "nate",
       "value": "Hello World"
      }
     },
     "a1df1ac29d6b403fb43239a4982a8d79": {
      "model_module": "mitosheet",
      "model_module_version": "^0.1.37",
      "model_name": "ExampleModel",
      "state": {
       "_model_module_version": "^0.1.37",
       "_view_module_version": "^0.1.37",
       "analysis_name": "UUID-c7eb12d3-21c3-41a2-8302-e17d7c595fff",
       "code_json": "{\"imports\": \"from mitosheet import *\", \"code\": [\"# Step 1\", \"df['B'] = 0\"]}",
       "column_filters_json": "[{\"Nums\": {\"condition\": \"none\", \"value\": \"\", \"type\": \"number\"}, \"B\": {\"condition\": \"none\", \"value\": \"\", \"type\": \"number\"}}]",
       "column_spreadsheet_code_json": "[{\"Nums\": \"\", \"B\": \"=0\"}]",
       "df_names_json": "{\"df_names\": [\"df\"]}",
       "layout": "IPY_MODEL_0614777da36440c680060ac4ffe8aed2",
       "saved_analysis_names_json": "[\"\", \"Testing\", \"test_save0.009833205603932416\", \"test_save0.058848647350668304\", \"test_save0.08689981096426247\", \"test_save0.11264943078202705\", \"test_save0.42676850291699286\", \"test_save0.45723478524307803\", \"test_save0.5795813605895718\", \"test_save0.5814619988214229\", \"test_save0.6931165944905919\", \"test_save0.7084836236859726\", \"test_save0.7849200637235948\"]",
       "sheet_json": "[{\"columns\": [\"Nums\", \"B\"], \"index\": [0, 1, 2], \"data\": [[1, 0], [2, 0], [3, 0]]}]",
       "user_id": "nate",
       "value": "Hello World"
      }
     },
     "a2bda4da542641fca2ae5edb47e77104": {
      "model_module": "mitosheet",
      "model_module_version": "^0.1.37",
      "model_name": "ExampleModel",
      "state": {
       "_model_module_version": "^0.1.37",
       "_view_module_version": "^0.1.37",
       "analysis_name": "UUID-f92968cd-184b-4e4d-901f-39ffa38f9996",
       "code_json": "{\"imports\": \"from mitosheet import *\", \"code\": []}",
       "column_filters_json": "[{\"Nums\": {\"condition\": \"none\", \"value\": \"\", \"type\": \"number\"}}]",
       "column_spreadsheet_code_json": "[{\"Nums\": \"\"}]",
       "df_names_json": "{\"df_names\": [\"df\"]}",
       "layout": "IPY_MODEL_b4dc4dc017eb48b1bdb90f917d5a8966",
       "saved_analysis_names_json": "[\"\", \"Testing\", \"test_save0.009833205603932416\", \"test_save0.058848647350668304\", \"test_save0.08689981096426247\", \"test_save0.11264943078202705\", \"test_save0.42676850291699286\", \"test_save0.45723478524307803\", \"test_save0.5795813605895718\", \"test_save0.5814619988214229\", \"test_save0.6931165944905919\", \"test_save0.7084836236859726\", \"test_save0.7849200637235948\"]",
       "sheet_json": "[{\"columns\": [\"Nums\"], \"index\": [0, 1, 2], \"data\": [[1], [2], [3]]}]",
       "user_id": "nate",
       "value": "Hello World"
      }
     },
     "aba6585cdbf443de99ebb4239cdeabbb": {
      "model_module": "mitosheet",
      "model_module_version": "^0.1.37",
      "model_name": "ExampleModel",
      "state": {
       "_model_module_version": "^0.1.37",
       "_view_module_version": "^0.1.37",
       "analysis_name": "UUID-8fb8bbbf-6730-4f71-b74d-a65f92e2a951",
       "code_json": "{\"imports\": \"from mitosheet import *\", \"code\": []}",
       "column_filters_json": "[{\"Nums\": {\"condition\": \"none\", \"value\": \"\", \"type\": \"number\"}}]",
       "column_spreadsheet_code_json": "[{\"Nums\": \"\"}]",
       "df_names_json": "{\"df_names\": [\"df\"]}",
       "layout": "IPY_MODEL_2ccd795593794358a0754633cd2db563",
       "saved_analysis_names_json": "[\"\", \"Testing\", \"test_save0.009833205603932416\", \"test_save0.058848647350668304\", \"test_save0.08689981096426247\", \"test_save0.11264943078202705\", \"test_save0.42676850291699286\", \"test_save0.45723478524307803\", \"test_save0.5795813605895718\", \"test_save0.5814619988214229\", \"test_save0.6931165944905919\", \"test_save0.7084836236859726\", \"test_save0.7849200637235948\"]",
       "sheet_json": "[{\"columns\": [\"Nums\"], \"index\": [0, 1, 2], \"data\": [[1], [2], [3]]}]",
       "user_id": "nate",
       "value": "Hello World"
      }
     },
     "aea7549735c8490783755def4aac8645": {
      "model_module": "@jupyter-widgets/base",
      "model_module_version": "1.2.0",
      "model_name": "LayoutModel",
      "state": {}
     },
     "b4570939294e4ec18a6d1602e973eb3d": {
      "model_module": "@jupyter-widgets/base",
      "model_module_version": "1.2.0",
      "model_name": "LayoutModel",
      "state": {}
     },
     "b4dc4dc017eb48b1bdb90f917d5a8966": {
      "model_module": "@jupyter-widgets/base",
      "model_module_version": "1.2.0",
      "model_name": "LayoutModel",
      "state": {}
     },
     "c3b2b2523238458bb39d1e79f56add76": {
      "model_module": "mitosheet",
      "model_module_version": "^0.1.37",
      "model_name": "ExampleModel",
      "state": {
       "_model_module_version": "^0.1.37",
       "_view_module_version": "^0.1.37",
       "analysis_name": "UUID-edc8e180-4268-471d-98f4-20388fc86cf5",
       "code_json": "{\"imports\": \"from mitosheet import *\", \"code\": [\"# Step 1\", \"df['B'] = 0\"]}",
       "column_filters_json": "[{\"Nums\": {\"condition\": \"none\", \"value\": \"\", \"type\": \"number\"}, \"B\": {\"condition\": \"none\", \"value\": \"\", \"type\": \"number\"}}]",
       "column_spreadsheet_code_json": "[{\"Nums\": \"\", \"B\": \"=0\"}]",
       "df_names_json": "{\"df_names\": [\"df\"]}",
       "layout": "IPY_MODEL_2c7daa759442410fb5bee510c616923b",
       "saved_analysis_names_json": "[\"test_save0.009833205603932416\", \"test_save0.058848647350668304\", \"test_save0.08689981096426247\", \"test_save0.11264943078202705\", \"test_save0.42676850291699286\", \"test_save0.45723478524307803\", \"test_save0.5795813605895718\", \"test_save0.5814619988214229\", \"test_save0.6931165944905919\", \"test_save0.7084836236859726\", \"test_save0.7849200637235948\"]",
       "sheet_json": "[{\"columns\": [\"Nums\", \"B\"], \"index\": [0, 1, 2], \"data\": [[1, 0], [2, 0], [3, 0]]}]",
       "user_id": "nate",
       "value": "Hello World"
      }
     },
     "c44e532b0c4a442e95b9025afa9c84e3": {
      "model_module": "@jupyter-widgets/base",
      "model_module_version": "1.2.0",
      "model_name": "LayoutModel",
      "state": {}
     },
     "ceda5a29b4874859afc4d16a3eec89c4": {
      "model_module": "mitosheet",
      "model_module_version": "^0.1.37",
      "model_name": "ExampleModel",
      "state": {
       "_model_module_version": "^0.1.37",
       "_view_module_version": "^0.1.37",
       "analysis_name": "UUID-f52d67e6-63d3-4e9f-b31a-59349375247a",
       "code_json": "{\"imports\": \"from mitosheet import *\", \"code\": [\"# Step 1\", \"df['B'] = 0\"]}",
       "column_filters_json": "[{\"Nums\": {\"condition\": \"none\", \"value\": \"\", \"type\": \"number\"}, \"B\": {\"condition\": \"none\", \"value\": \"\", \"type\": \"number\"}}]",
       "column_spreadsheet_code_json": "[{\"Nums\": \"\", \"B\": \"=0\"}]",
       "df_names_json": "{\"df_names\": [\"df\"]}",
       "layout": "IPY_MODEL_13163729d80f4e50a0303f7cc99982cd",
       "saved_analysis_names_json": "[\"\", \"Testing\", \"test_save0.009833205603932416\", \"test_save0.058848647350668304\", \"test_save0.08689981096426247\", \"test_save0.11264943078202705\", \"test_save0.42676850291699286\", \"test_save0.45723478524307803\", \"test_save0.5795813605895718\", \"test_save0.5814619988214229\", \"test_save0.6931165944905919\", \"test_save0.7084836236859726\", \"test_save0.7849200637235948\"]",
       "sheet_json": "[{\"columns\": [\"Nums\", \"B\"], \"index\": [0, 1, 2], \"data\": [[1, 0], [2, 0], [3, 0]]}]",
       "user_id": "nate",
       "value": "Hello World"
      }
     },
     "da4374e3ef48407c9671f1ac35d07cb4": {
      "model_module": "@jupyter-widgets/base",
      "model_module_version": "1.2.0",
      "model_name": "LayoutModel",
      "state": {}
     },
     "ea3ad7a8710b48119187bc249f447fb1": {
      "model_module": "@jupyter-widgets/base",
      "model_module_version": "1.2.0",
      "model_name": "LayoutModel",
      "state": {}
     }
    },
    "version_major": 2,
    "version_minor": 0
   }
  }
 },
 "nbformat": 4,
 "nbformat_minor": 4
}
