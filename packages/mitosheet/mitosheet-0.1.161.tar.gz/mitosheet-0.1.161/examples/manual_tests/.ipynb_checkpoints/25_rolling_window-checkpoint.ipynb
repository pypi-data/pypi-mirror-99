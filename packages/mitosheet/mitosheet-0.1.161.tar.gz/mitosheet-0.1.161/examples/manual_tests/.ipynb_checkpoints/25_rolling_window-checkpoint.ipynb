{
 "cells": [
  {
   "cell_type": "code",
   "execution_count": null,
   "metadata": {},
   "outputs": [],
   "source": [
    "\"\"\"\n",
    "This file tests that rolling window calculations work correctly. \n",
    "\n",
    "1. Run this cell.\n",
    "2. Find how much the score has increased per day.\n",
    "3. Use a formula to tag all the days for which there has been an increase\n",
    "   in the score (from the previous day) of greater than 50. Then filter\n",
    "   to only include the scores on these days.\n",
    "\"\"\"\n",
    "import mitosheet\n",
    "import pandas as pd\n",
    "df = pd.DataFrame({\n",
    "    'day': [1, 2, 3, 4, 5, 6, 7, 8],\n",
    "    'score': [-100, -50, 0, 10, 61, 100, 151, 1000],\n",
    "})\n",
    "mitosheet.sheet(df)"
   ]
  }
 ],
 "metadata": {
  "kernelspec": {
   "display_name": "Python 3",
   "language": "python",
   "name": "python3"
  },
  "language_info": {
   "codemirror_mode": {
    "name": "ipython",
    "version": 3
   },
   "file_extension": ".py",
   "mimetype": "text/x-python",
   "name": "python",
   "nbconvert_exporter": "python",
   "pygments_lexer": "ipython3",
   "version": "3.8.5"
  },
  "widgets": {
   "application/vnd.jupyter.widget-state+json": {
    "state": {},
    "version_major": 2,
    "version_minor": 0
   }
  }
 },
 "nbformat": 4,
 "nbformat_minor": 4
}
