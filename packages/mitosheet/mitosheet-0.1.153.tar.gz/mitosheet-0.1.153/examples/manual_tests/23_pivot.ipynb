{
 "cells": [
  {
   "cell_type": "code",
   "execution_count": 3,
   "metadata": {},
   "outputs": [
    {
     "data": {
      "application/vnd.jupyter.widget-view+json": {
       "model_id": "32fe9ddf958e4f7591c557d2f1efa457",
       "version_major": 2,
       "version_minor": 0
      },
      "text/plain": [
       "MitoWidget(analysis_name='UUID-74767793-4a27-40d6-b611-0b5e5a78f99c', code_json='{\"imports\": \"from mitosheet i…"
      ]
     },
     "metadata": {},
     "output_type": "display_data"
    }
   ],
   "source": [
    "\"\"\"\n",
    "This file tests that grouping on multiple rows and a column works correctly\n",
    "\n",
    "1. run this cell\n",
    "2. click on the group modal \n",
    "    - select 'gender' and 'species' as rows\n",
    "    - select 'size' as columns\n",
    "    - aggregate 'weight' using 'sum'\n",
    "    - run the group\n",
    "3. check to make sure a new df, df2 is created that has the top row of [female, dog, 95, NaN]\n",
    "4. update the the aggregation function to a different value\n",
    "5. Add a column for count, and check the top row is [female, doc, 95, NaN].\n",
    "6. Press undo and make sure the pivot does away\n",
    "\"\"\"\n",
    "\n",
    "\n",
    "import mitosheet\n",
    "import pandas as pd\n",
    "df = pd.DataFrame({\n",
    "    'gender': ['male','male','female', 'female', 'female'],\n",
    "    'species': ['human','dog','human', 'human', 'dog'],\n",
    "    'size': ['big', 'small', 'small', 'big', 'big'],\n",
    "    'weight': [160, 20, 110, 175, 95]\n",
    "})\n",
    "mitosheet.sheet(df)"
   ]
  },
  {
   "cell_type": "code",
   "execution_count": null,
   "metadata": {},
   "outputs": [],
   "source": [
    "# MITO CODE START (DO NOT EDIT)\n",
    "# SAVED-ANALYSIS-STARTUUID-74767793-4a27-40d6-b611-0b5e5a78f99cSAVED-ANALYSIS-END\n",
    "\n",
    "from mitosheet import *\n",
    "\n",
    "# Step 1\n",
    "\n",
    "df2 = pd.DataFrame(data={})\n",
    "  \n",
    "# MITO CODE END (DO NOT EDIT)"
   ]
  },
  {
   "cell_type": "code",
   "execution_count": null,
   "metadata": {},
   "outputs": [],
   "source": []
  },
  {
   "cell_type": "code",
   "execution_count": null,
   "metadata": {},
   "outputs": [],
   "source": []
  },
  {
   "cell_type": "code",
   "execution_count": null,
   "metadata": {},
   "outputs": [],
   "source": []
  },
  {
   "cell_type": "code",
   "execution_count": null,
   "metadata": {},
   "outputs": [],
   "source": []
  },
  {
   "cell_type": "code",
   "execution_count": null,
   "metadata": {},
   "outputs": [],
   "source": []
  },
  {
   "cell_type": "code",
   "execution_count": null,
   "metadata": {},
   "outputs": [],
   "source": []
  },
  {
   "cell_type": "code",
   "execution_count": null,
   "metadata": {},
   "outputs": [],
   "source": []
  },
  {
   "cell_type": "code",
   "execution_count": null,
   "metadata": {},
   "outputs": [],
   "source": []
  }
 ],
 "metadata": {
  "kernelspec": {
   "display_name": "Python 3",
   "language": "python",
   "name": "python3"
  },
  "language_info": {
   "codemirror_mode": {
    "name": "ipython",
    "version": 3
   },
   "file_extension": ".py",
   "mimetype": "text/x-python",
   "name": "python",
   "nbconvert_exporter": "python",
   "pygments_lexer": "ipython3",
   "version": "3.8.5"
  },
  "widgets": {
   "application/vnd.jupyter.widget-state+json": {
    "state": {},
    "version_major": 2,
    "version_minor": 0
   }
  }
 },
 "nbformat": 4,
 "nbformat_minor": 4
}
