{
 "cells": [
  {
   "cell_type": "code",
   "execution_count": null,
   "metadata": {},
   "outputs": [],
   "source": [
    "\"\"\"\n",
    "This file tests renaming a column in Mito, and then rerunning this analysis.\n",
    "\n",
    "Instructions:\n",
    "1. Run this cell. \n",
    "2. Add a column, click on the column header, and try setting it to \"123\", \"ha ha\" and \"123!\" (w/o quotes), and they should register as invalid. \n",
    "3. Then set the column to \"ABC\"\n",
    "4. This should update in the sheet.\n",
    "5. Then rerun the top cell, it should still be renamed. \n",
    "6. Run the generated code cell and check the resulting data frame, and make sure the header has been updated.\n",
    "7. Go back to the sheet, and delete the column ABC\n",
    "8. Rerun the top cell, and make sure the column is still gone.\n",
    "9. Rerun the bottom cell, and make sure the column is gone.\n",
    "\"\"\"\n",
    "import mitosheet\n",
    "import pandas as pd\n",
    "df = pd.DataFrame(data={'Data': [1, 2, 3]})\n",
    "mitosheet.sheet(df)"
   ]
  }
 ],
 "metadata": {
  "kernelspec": {
   "display_name": "Python 3",
   "language": "python",
   "name": "python3"
  },
  "language_info": {
   "codemirror_mode": {
    "name": "ipython",
    "version": 3
   },
   "file_extension": ".py",
   "mimetype": "text/x-python",
   "name": "python",
   "nbconvert_exporter": "python",
   "pygments_lexer": "ipython3",
   "version": "3.8.5"
  },
  "widgets": {
   "application/vnd.jupyter.widget-state+json": {
    "state": {},
    "version_major": 2,
    "version_minor": 0
   }
  }
 },
 "nbformat": 4,
 "nbformat_minor": 4
}
