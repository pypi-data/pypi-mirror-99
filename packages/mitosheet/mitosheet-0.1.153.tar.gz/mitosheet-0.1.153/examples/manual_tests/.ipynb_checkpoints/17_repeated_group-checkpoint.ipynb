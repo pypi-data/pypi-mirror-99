{
 "cells": [
  {
   "cell_type": "code",
   "execution_count": null,
   "metadata": {},
   "outputs": [],
   "source": [
    "\"\"\"\n",
    "Tests grouping in a variety of different ways with all the aggregation options.\n",
    "\n",
    "Steps:\n",
    "- Run this cell.\n",
    "- Click the group button:\n",
    "    - Select Name in rows. Set the value to height sum.\n",
    "    - Click group.\n",
    "- Rerun this cell, and check that the dataframes are still defined properly.\n",
    "- Redo the above, 3 more times, from the most recently defined dataframe.\n",
    "\"\"\"\n",
    "import mitosheet\n",
    "import pandas as pd\n",
    "df1 = pd.DataFrame(data={'Name': ['Nate', 'Nate', 'Aaron', 'Aaron'], 'Height': [4, 5, 6, 7]})\n",
    "mitosheet.sheet(df1)"
   ]
  }
 ],
 "metadata": {
  "kernelspec": {
   "display_name": "Python 3",
   "language": "python",
   "name": "python3"
  },
  "language_info": {
   "codemirror_mode": {
    "name": "ipython",
    "version": 3
   },
   "file_extension": ".py",
   "mimetype": "text/x-python",
   "name": "python",
   "nbconvert_exporter": "python",
   "pygments_lexer": "ipython3",
   "version": "3.8.5"
  },
  "widgets": {
   "application/vnd.jupyter.widget-state+json": {
    "state": {
     "8124a682f7f04327a0a898993f0c317d": {
      "model_module": "@jupyter-widgets/base",
      "model_module_version": "1.2.0",
      "model_name": "LayoutModel",
      "state": {}
     },
     "efd25069af2d43d886b9d4df5338f6a8": {
      "model_module": "mitosheet",
      "model_module_version": "^0.1.56",
      "model_name": "ExampleModel",
      "state": {
       "_model_module_version": "^0.1.56",
       "_view_module_version": "^0.1.56",
       "analysis_name": "UUID-4d78a32c-ca7e-4c9a-a4b3-17431373ef16",
       "code_json": "{\"imports\": \"from mitosheet import *\", \"code\": []}",
       "column_filters_json": "[{\"Name\": {\"operator\": \"And\", \"filters\": []}, \"Height\": {\"operator\": \"And\", \"filters\": []}}]",
       "column_spreadsheet_code_json": "[{\"Name\": \"\", \"Height\": \"\"}]",
       "column_type_json": "[{\"Name\": \"string\", \"Height\": \"number\"}]",
       "df_names_json": "{\"df_names\": [\"df1\"]}",
       "df_shape_json": "[{\"rows\": 4, \"cols\": 2}]",
       "layout": "IPY_MODEL_8124a682f7f04327a0a898993f0c317d",
       "saved_analysis_names_json": "[\"Testing\"]",
       "sheet_json": "[{\"columns\": [\"Name\", \"Height\"], \"index\": [0, 1, 2, 3], \"data\": [[\"Nate\", 4], [\"Nate\", 5], [\"Aaron\", 6], [\"Aaron\", 7]]}]",
       "user_id": "nate",
       "value": "Hello World"
      }
     }
    },
    "version_major": 2,
    "version_minor": 0
   }
  }
 },
 "nbformat": 4,
 "nbformat_minor": 4
}
