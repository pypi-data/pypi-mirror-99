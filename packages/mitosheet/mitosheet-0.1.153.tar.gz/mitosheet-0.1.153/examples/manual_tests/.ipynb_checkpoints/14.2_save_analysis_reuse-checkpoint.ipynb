{
 "cells": [
  {
   "cell_type": "code",
   "execution_count": null,
   "metadata": {},
   "outputs": [],
   "source": [
    "\"\"\"\n",
    "This file tests reusing an analysis saved in 14.1!\n",
    "\n",
    "Instructions:\n",
    "0. Make sure you ran 14.1 first!\n",
    "1. Run this cell. \n",
    "2. Click the replay button, and replay the testing analysis.\n",
    "3. Make sure df3 appears, and that it has the correct values (the same as in 14.1).\n",
    "\"\"\"\n",
    "import pandas as pd\n",
    "import mitosheet\n",
    "df1 = pd.DataFrame(data={'Key1': ['A', 'B', 'C', 'D'], 'value': [1,2,3,4]})\n",
    "df2 = pd.DataFrame(data={'Key2': ['A', 'A', 'B', 'B'], 'value': [5,6,7,8]})\n",
    "mitosheet.sheet(df1, df2)"
   ]
  }
 ],
 "metadata": {
  "kernelspec": {
   "display_name": "Python 3",
   "language": "python",
   "name": "python3"
  },
  "language_info": {
   "codemirror_mode": {
    "name": "ipython",
    "version": 3
   },
   "file_extension": ".py",
   "mimetype": "text/x-python",
   "name": "python",
   "nbconvert_exporter": "python",
   "pygments_lexer": "ipython3",
   "version": "3.8.5"
  },
  "widgets": {
   "application/vnd.jupyter.widget-state+json": {
    "state": {
     "0b41fdf167d44c2a8a0ae58c8ee1f761": {
      "model_module": "mitosheet",
      "model_module_version": "^0.1.36",
      "model_name": "ExampleModel",
      "state": {
       "_model_module_version": "^0.1.36",
       "_view_module_version": "^0.1.36",
       "analysis_name": "UUID-fc898f66-3bd3-4e4e-b874-f7022ee17f33",
       "code_json": "{\"imports\": \"from mitosheet import AVG,CLEAN,CONCAT,FIND,LEFT,LEN,LOWER,MID,MULTIPLY,PROPER,RIGHT,SUBSTITUTE,SUM,TRIM,UPPER\", \"code\": [\"# Step 1\", \"temp_df = df2.drop_duplicates(subset='Key2')\", \"df3 = df1.merge(temp_df, left_on=['Key1'], right_on=['Key2'], how='left', suffixes=['_df1', '_df2'])\"]}",
       "column_spreadsheet_code_json": "[{\"Key1\": \"\", \"value\": \"\"}, {\"Key2\": \"\", \"value\": \"\"}, {\"Key1\": \"\", \"value_df1\": \"\", \"Key2\": \"\", \"value_df2\": \"\"}]",
       "df_names_json": "{\"df_names\": [\"df\"]}",
       "layout": "IPY_MODEL_b9a35762ca7841db9013b27595357a59",
       "saved_analysis_names_json": "[\"test_save0.87140332311756\", \"test_save0.7435762793125744\", \"test_save0.9856402698803395\", \"test_save0.6251198748294645\", \"testing\", \"Testing123\", \"+1\", \"test_save0.7940998096440753\", \"test_save0.915224802403154\", \"test_save0.14138633496327124\", \"1\", \"test_save0.3206588303560851\", \"test_save0.2190245299237097\", \"2\", \"test_save0.7706427937545042\", \"test_save0.12579520103509512\", \"test_save0.6583662675043825\", \"test_save0.3519930314115628\", \"3\", \"test-save\", \"test_save0.5028088138653043\", \"test_save0.09520553139771548\", \"4\", \"dork\", \"test_save0.15101719169175798\", \"test_save0.5638184108664056\"]",
       "sheet_json": "[{\"columns\": [\"Key1\", \"value\"], \"index\": [0, 1, 2, 3], \"data\": [[\"A\", 1], [\"B\", 2], [\"C\", 3], [\"D\", 4]]}, {\"columns\": [\"Key2\", \"value\"], \"index\": [0, 1, 2, 3], \"data\": [[\"A\", 5], [\"A\", 6], [\"B\", 7], [\"B\", 8]]}, {\"columns\": [\"Key1\", \"value_df1\", \"Key2\", \"value_df2\"], \"index\": [0, 1, 2, 3], \"data\": [[\"A\", 1, \"A\", 5.0], [\"B\", 2, \"B\", 7.0], [\"C\", 3, \"undefined\", \"undefined\"], [\"D\", 4, \"undefined\", \"undefined\"]]}]",
       "user_id": "nate",
       "value": "Hello World"
      }
     },
     "65fb3f69a2cb4462937c7c9bd0fd883c": {
      "model_module": "mitosheet",
      "model_module_version": "^0.1.36",
      "model_name": "ExampleModel",
      "state": {
       "_model_module_version": "^0.1.36",
       "_view_module_version": "^0.1.36",
       "analysis_name": "UUID-bc7db872-78c7-4475-a754-4c3f66d3bae3",
       "code_json": "{\"imports\": \"from mitosheet import AVG,CLEAN,CONCAT,FIND,LEFT,LEN,LOWER,MID,MULTIPLY,PROPER,RIGHT,SUBSTITUTE,SUM,TRIM,UPPER\", \"code\": [\"# Step 1\", \"temp_df = df2.drop_duplicates(subset='Key2')\", \"df3 = df1.merge(temp_df, left_on=['Key1'], right_on=['Key2'], how='left', suffixes=['_df1', '_df2'])\"]}",
       "column_spreadsheet_code_json": "[{\"Key1\": \"\", \"value\": \"\"}, {\"Key2\": \"\", \"value\": \"\"}, {\"Key1\": \"\", \"value_df1\": \"\", \"Key2\": \"\", \"value_df2\": \"\"}]",
       "df_names_json": "{\"df_names\": [\"df1\", \"df2\", \"df3\"]}",
       "layout": "IPY_MODEL_c1bff78ca56b494c8b8c69f89ad3b26f",
       "saved_analysis_names_json": "[\"Testing\", \"Add 100\"]",
       "sheet_json": "[{\"columns\": [\"Key1\", \"value\"], \"index\": [0, 1, 2, 3], \"data\": [[\"A\", 1], [\"B\", 2], [\"C\", 3], [\"D\", 4]]}, {\"columns\": [\"Key2\", \"value\"], \"index\": [0, 1, 2, 3], \"data\": [[\"A\", 5], [\"A\", 6], [\"B\", 7], [\"B\", 8]]}, {\"columns\": [\"Key1\", \"value_df1\", \"Key2\", \"value_df2\"], \"index\": [0, 1, 2, 3], \"data\": [[\"A\", 1, \"A\", 5.0], [\"B\", 2, \"B\", 7.0], [\"C\", 3, \"undefined\", \"undefined\"], [\"D\", 4, \"undefined\", \"undefined\"]]}]",
       "user_id": "nate",
       "value": "Hello World"
      }
     },
     "a857f94041b449c0a53529bfb6e1e192": {
      "model_module": "@jupyter-widgets/base",
      "model_module_version": "1.2.0",
      "model_name": "LayoutModel",
      "state": {}
     },
     "b9a35762ca7841db9013b27595357a59": {
      "model_module": "@jupyter-widgets/base",
      "model_module_version": "1.2.0",
      "model_name": "LayoutModel",
      "state": {}
     },
     "c1bff78ca56b494c8b8c69f89ad3b26f": {
      "model_module": "@jupyter-widgets/base",
      "model_module_version": "1.2.0",
      "model_name": "LayoutModel",
      "state": {}
     },
     "c27a1e3610ee454487ed8a696e8552c4": {
      "model_module": "mitosheet",
      "model_module_version": "^0.1.36",
      "model_name": "ExampleModel",
      "state": {
       "_model_module_version": "^0.1.36",
       "_view_module_version": "^0.1.36",
       "analysis_name": "UUID-94a7af55-4035-4ad3-8484-d5788bd9506a",
       "code_json": "{\"imports\": \"from mitosheet import AVG,CLEAN,CONCAT,FIND,LEFT,LEN,LOWER,MID,MULTIPLY,PROPER,RIGHT,SUBSTITUTE,SUM,TRIM,UPPER\", \"code\": [\"# Step 1\", \"temp_df = df2.drop_duplicates(subset='Key2')\", \"df3 = df1.merge(temp_df, left_on=['Key1'], right_on=['Key2'], how='left', suffixes=['_df1', '_df2'])\"]}",
       "column_spreadsheet_code_json": "[{\"Key1\": \"\", \"value\": \"\"}, {\"Key2\": \"\", \"value\": \"\"}, {\"Key1\": \"\", \"value_df1\": \"\", \"Key2\": \"\", \"value_df2\": \"\"}]",
       "df_names_json": "{\"df_names\": [\"df1\", \"df2\", \"df3\"]}",
       "layout": "IPY_MODEL_a857f94041b449c0a53529bfb6e1e192",
       "saved_analysis_names_json": "[\"test_save0.87140332311756\", \"test_save0.7435762793125744\", \"test_save0.9856402698803395\", \"test_save0.6251198748294645\", \"testing\", \"Testing123\", \"+1\", \"test_save0.7940998096440753\", \"test_save0.915224802403154\", \"test_save0.14138633496327124\", \"1\", \"test_save0.3206588303560851\", \"test_save0.2190245299237097\", \"2\", \"test_save0.7706427937545042\", \"test_save0.12579520103509512\", \"test_save0.6583662675043825\", \"test_save0.3519930314115628\", \"3\", \"test-save\", \"test_save0.5028088138653043\", \"test_save0.09520553139771548\", \"4\", \"dork\", \"test_save0.15101719169175798\", \"test_save0.5638184108664056\"]",
       "sheet_json": "[{\"columns\": [\"Key1\", \"value\"], \"index\": [0, 1, 2, 3], \"data\": [[\"A\", 1], [\"B\", 2], [\"C\", 3], [\"D\", 4]]}, {\"columns\": [\"Key2\", \"value\"], \"index\": [0, 1, 2, 3], \"data\": [[\"A\", 5], [\"A\", 6], [\"B\", 7], [\"B\", 8]]}, {\"columns\": [\"Key1\", \"value_df1\", \"Key2\", \"value_df2\"], \"index\": [0, 1, 2, 3], \"data\": [[\"A\", 1, \"A\", 5.0], [\"B\", 2, \"B\", 7.0], [\"C\", 3, \"undefined\", \"undefined\"], [\"D\", 4, \"undefined\", \"undefined\"]]}]",
       "user_id": "nate",
       "value": "Hello World"
      }
     }
    },
    "version_major": 2,
    "version_minor": 0
   }
  }
 },
 "nbformat": 4,
 "nbformat_minor": 4
}
