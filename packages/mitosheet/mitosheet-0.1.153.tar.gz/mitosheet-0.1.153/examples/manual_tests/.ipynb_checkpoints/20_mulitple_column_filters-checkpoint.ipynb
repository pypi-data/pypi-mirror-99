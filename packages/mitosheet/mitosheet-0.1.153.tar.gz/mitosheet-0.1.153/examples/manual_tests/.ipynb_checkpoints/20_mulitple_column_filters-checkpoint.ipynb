{
 "cells": [
  {
   "cell_type": "code",
   "execution_count": null,
   "metadata": {},
   "outputs": [],
   "source": [
    "\"\"\"\n",
    "This file should tests all the filter conditions on mulitple values at once.\n",
    "\n",
    "Instructions:\n",
    "- Run this cell. \n",
    "- Filter A to hold all strings that contains 1 OR strings that contains 5.\n",
    "- Run the generated code, and make sure the df matches the sheet.\n",
    "- Filter B to hold all numbers greater than or equal to 1, and less than or equal to 7.\n",
    "- Run the generated code, and make sure the df matches the sheet.\n",
    "- Filter C to hold all cells that are not empty OR contain 1.\n",
    "- Run the generated code, and make sure the df matches the sheet.\n",
    "- Make sure the sheet holds [1, 1, 1].\n",
    "- Remove the filters on A, and make sure the sheet does not change. \n",
    "- Remove the filters on C, and make sure each column holds [1-7].\n",
    "- Rerun this cell, and make sure the sheet does not change.\n",
    "\"\"\"\n",
    "import mitosheet\n",
    "import pandas as pd\n",
    "df1 = pd.DataFrame(data={'A': [\"123\", \"1\", \"2\", \"3\", \"4\", \"5\", \"5\", \"6\", \"7\", \"8\", \"9\"], \n",
    "                        'B': [123, 1, 2, 3, 4, 5, 5, 6, 7, 8, 9],\n",
    "                        'C': [123, \"1\", \"2\", \"3\", 4, 5, 5, 6, 7, 8, 9]})\n",
    "\n",
    "mitosheet.sheet(df1)"
   ]
  }
 ],
 "metadata": {
  "kernelspec": {
   "display_name": "Python 3",
   "language": "python",
   "name": "python3"
  },
  "language_info": {
   "codemirror_mode": {
    "name": "ipython",
    "version": 3
   },
   "file_extension": ".py",
   "mimetype": "text/x-python",
   "name": "python",
   "nbconvert_exporter": "python",
   "pygments_lexer": "ipython3",
   "version": "3.8.5"
  },
  "widgets": {
   "application/vnd.jupyter.widget-state+json": {
    "state": {},
    "version_major": 2,
    "version_minor": 0
   }
  }
 },
 "nbformat": 4,
 "nbformat_minor": 4
}
