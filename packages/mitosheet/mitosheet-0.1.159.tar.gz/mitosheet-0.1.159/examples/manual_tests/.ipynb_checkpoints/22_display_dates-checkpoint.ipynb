{
 "cells": [
  {
   "cell_type": "code",
   "execution_count": null,
   "metadata": {},
   "outputs": [],
   "source": [
    "\"\"\"\n",
    "This file should tests dates are displayed correctly in the sheet.\n",
    "\n",
    "Instructions:\n",
    "- Run this cell. \n",
    "- Check the dates in the sheet, and make sure they are displayed correctly (YYYY-MM-DD).\n",
    "- Add three new columns, and use the YEAR, MONTH, and DAY functions respectively to \n",
    "- Create a new column, and use the CONCAT function to get the new columns back to YYYY-MM-DD format as a string.\n",
    "- Create a final new column, and use the DATEVALUE function to return to a date (which doesn't change anything).\n",
    "- Add a new filter to the final column, getting all dates between December 1, 2001, and January 1, 2003.\n",
    "- Rename 'dob' to 'date_of_birth' and check that the column is labeled 'date_of' new line '_birth'\n",
    "- expand the column width and see it move to 'date_of_birth'\n",
    "\"\"\"\n",
    "import mitosheet\n",
    "import pandas as pd\n",
    "df = pd.DataFrame({\n",
    "    'name': ['alice','bob','charlie'],\n",
    "    'dob': ['2005-10-23','2002-10-2','2001-11-14']\n",
    "})\n",
    "df['dob'] = pd.to_datetime(df['dob'])\n",
    "mitosheet.sheet(df)"
   ]
  }
 ],
 "metadata": {
  "kernelspec": {
   "display_name": "Python 3",
   "language": "python",
   "name": "python3"
  },
  "language_info": {
   "codemirror_mode": {
    "name": "ipython",
    "version": 3
   },
   "file_extension": ".py",
   "mimetype": "text/x-python",
   "name": "python",
   "nbconvert_exporter": "python",
   "pygments_lexer": "ipython3",
   "version": "3.8.5"
  },
  "widgets": {
   "application/vnd.jupyter.widget-state+json": {
    "state": {},
    "version_major": 2,
    "version_minor": 0
   }
  }
 },
 "nbformat": 4,
 "nbformat_minor": 4
}
