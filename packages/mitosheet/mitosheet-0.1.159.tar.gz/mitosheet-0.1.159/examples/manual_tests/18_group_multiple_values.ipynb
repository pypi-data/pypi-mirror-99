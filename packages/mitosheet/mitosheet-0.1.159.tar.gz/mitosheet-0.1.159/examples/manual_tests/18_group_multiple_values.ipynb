{
 "cells": [
  {
   "cell_type": "code",
   "execution_count": null,
   "metadata": {},
   "outputs": [],
   "source": [
    "\"\"\"\n",
    "Tests grouping with mulitple value outputs, that then get used in a calculation\n",
    "\n",
    "Steps:\n",
    "- Run this cell.\n",
    "- Create new dataframes with the following format, using the group by modal:\n",
    "    1. Two rows. Each row looks like [Name, Max-Hight, Min-Weight]\n",
    "    2. A column for each user. The columns have two rows, of mean hight, count of weight (should be 2).\n",
    "    3. A column for each user, weight pair. There should be a column for Nate_4, Nate_5, Aaron_6, and Aaron_7.\n",
    "        - The entry in each of these columns should be the sum of weight.\n",
    "- NOTE: these are purposefully supposed to make you try a couple different pivots to figure it out. If you screw up, use the undo button!\n",
    "- After creating each of these pivots, run the code cell below and make sure that the \n",
    "  calculated dataframe matches the dataframe in the sheet exactly.\n",
    "\"\"\"\n",
    "import mitosheet\n",
    "import pandas as pd\n",
    "df1 = pd.DataFrame(data={'Name': ['Nate', 'Nate', 'Aaron', 'Aaron'], 'Height': [4, 5, 6, 7], 'Weight': [100, 200, 300, 400]})\n",
    "mitosheet.sheet(df1)"
   ]
  }
 ],
 "metadata": {
  "kernelspec": {
   "display_name": "Python 3",
   "language": "python",
   "name": "python3"
  },
  "language_info": {
   "codemirror_mode": {
    "name": "ipython",
    "version": 3
   },
   "file_extension": ".py",
   "mimetype": "text/x-python",
   "name": "python",
   "nbconvert_exporter": "python",
   "pygments_lexer": "ipython3",
   "version": "3.8.5"
  },
  "widgets": {
   "application/vnd.jupyter.widget-state+json": {
    "state": {},
    "version_major": 2,
    "version_minor": 0
   }
  }
 },
 "nbformat": 4,
 "nbformat_minor": 4
}
