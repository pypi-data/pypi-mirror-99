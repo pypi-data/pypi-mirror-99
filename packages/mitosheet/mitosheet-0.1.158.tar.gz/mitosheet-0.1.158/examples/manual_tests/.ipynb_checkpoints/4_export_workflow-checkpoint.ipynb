{
 "cells": [
  {
   "cell_type": "code",
   "execution_count": null,
   "metadata": {},
   "outputs": [],
   "source": [
    "\"\"\"\n",
    "This file tests some basic interactions with mito: a workflow ending in an export.\n",
    "\n",
    "Instructions:\n",
    "1. Run this cell. \n",
    "2. Add three new columns, and set them equal to =Str, =Int, and =Float respectively.\n",
    "3. Click the download analysis button. \n",
    "4. Open the exported CSV in Excel, and make sure the data exported correctly (all columns should be replicated!).\n",
    "\"\"\"\n",
    "import mitosheet\n",
    "import pandas as pd\n",
    "df = pd.DataFrame(data={'Str': ['Hi', 'Aaron'], 'Int': [1, 2], 'Float': [1.2, 2.1]})\n",
    "mitosheet.sheet(df)"
   ]
  }
 ],
 "metadata": {
  "kernelspec": {
   "display_name": "Python 3",
   "language": "python",
   "name": "python3"
  },
  "language_info": {
   "codemirror_mode": {
    "name": "ipython",
    "version": 3
   },
   "file_extension": ".py",
   "mimetype": "text/x-python",
   "name": "python",
   "nbconvert_exporter": "python",
   "pygments_lexer": "ipython3",
   "version": "3.8.5"
  },
  "widgets": {
   "application/vnd.jupyter.widget-state+json": {
    "state": {},
    "version_major": 2,
    "version_minor": 0
   }
  }
 },
 "nbformat": 4,
 "nbformat_minor": 4
}
