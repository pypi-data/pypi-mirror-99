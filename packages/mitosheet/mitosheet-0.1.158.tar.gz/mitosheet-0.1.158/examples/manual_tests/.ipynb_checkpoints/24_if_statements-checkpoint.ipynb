{
 "cells": [
  {
   "cell_type": "code",
   "execution_count": 3,
   "metadata": {},
   "outputs": [
    {
     "data": {
      "application/vnd.jupyter.widget-view+json": {
       "model_id": "054e2f8864ff4382b125a4dfddef174b",
       "version_major": 2,
       "version_minor": 0
      },
      "text/plain": [
       "MitoWidget(analysis_name='UUID-d0ba799d-f5fe-4396-9fff-b37654218850', code_json='{\"imports\": \"from mitosheet i…"
      ]
     },
     "metadata": {},
     "output_type": "display_data"
    }
   ],
   "source": [
    "\"\"\"\n",
    "This file tests that grouping on multiple rows and a column works correctly\n",
    "\n",
    "1. Run this cell. \n",
    "2. Create a new column. \n",
    "    - Name it 'cleaned_score.'\n",
    "    - Use the IF function to fill the new column with the 'score' column\n",
    "      where all values < 0 have been set to 0, and all values > 100 have been set to 100.\n",
    "3. Create a new column. \n",
    "    - Name it 'cleaned_status.'\n",
    "    - Use the IF function to fill it with the status column,\n",
    "      but replace 'passed' with 'pass' to clean the data.\n",
    "4. Create a new column. \n",
    "    - Name it \"Successful_Student\". \n",
    "    - Make it equal to 1, if the student has > 61 cleaned_score\n",
    "      and a 'pass' cleaned_status. Set it equal to 0 otherwise.\n",
    "5. Create a new column.\n",
    "    - Name it \"Failed student.\"\n",
    "    - Set it equal to 1, if the student has a cleaned_score <= 61, or\n",
    "      if the student has a 'fail' cleaned_status.\n",
    "\"\"\"\n",
    "import mitosheet\n",
    "import pandas as pd\n",
    "df = pd.DataFrame({\n",
    "    'score': [-100, -50, 0, 10, 61, 100, 150],\n",
    "    'status': ['pass', 'fail', 'pass', 'fail', 'passed', 'pass', 'fail']\n",
    "})\n",
    "mitosheet.sheet(df)"
   ]
  },
  {
   "cell_type": "code",
   "execution_count": null,
   "metadata": {},
   "outputs": [],
   "source": []
  },
  {
   "cell_type": "code",
   "execution_count": null,
   "metadata": {},
   "outputs": [],
   "source": []
  }
 ],
 "metadata": {
  "kernelspec": {
   "display_name": "Python 3",
   "language": "python",
   "name": "python3"
  },
  "language_info": {
   "codemirror_mode": {
    "name": "ipython",
    "version": 3
   },
   "file_extension": ".py",
   "mimetype": "text/x-python",
   "name": "python",
   "nbconvert_exporter": "python",
   "pygments_lexer": "ipython3",
   "version": "3.8.5"
  },
  "widgets": {
   "application/vnd.jupyter.widget-state+json": {
    "state": {
     "0157cc303b034d789c52623f5979aad9": {
      "model_module": "mitosheet",
      "model_module_version": "^0.1.52",
      "model_name": "ExampleModel",
      "state": {
       "_model_module_version": "^0.1.52",
       "_view_module_version": "^0.1.52",
       "analysis_name": "UUID-4cda0e9a-e327-4254-bcb7-e6229869b1f3",
       "code_json": "{\"imports\": \"from mitosheet import *\", \"code\": [\"# Step 1\", \"df['C'] = IF(df['status'] == 'passed', 'passed', df['status'])\", \"# Step 2\", \"df['C'] = IF(df['status'] == 'passed', 'pass', df['status'])\", \"# Step 3\", \"df['D'] = IF(df['score'] < 0, 0, IF(df['score'] > 100, 100, df['score']))\", \"# Step 4\", \"df.rename(columns={\\\"C\\\": \\\"status_\\\"}, inplace=True)\", \"# Step 5\", \"df.rename(columns={\\\"D\\\": \\\"score_\\\"}, inplace=True)\", \"# Step 6\", \"df['E'] = IF(AND(df['status_'] == 'pass', df['score_'] > 60), 1, 0)\", \"# Step 7\", \"df['F'] = 0\", \"# Step 8\", \"df.rename(columns={\\\"E\\\": \\\"failed\\\"}, inplace=True)\", \"# Step 9\", \"df['F'] = IF(OR(df['score'] < 60, df['status'] == 'fail'), 1, 0)\"]}",
       "column_filters_json": "[{\"score\": {\"operator\": \"And\", \"filters\": []}, \"status\": {\"operator\": \"And\", \"filters\": []}, \"status_\": {\"operator\": \"And\", \"filters\": []}, \"score_\": {\"operator\": \"And\", \"filters\": []}, \"F\": {\"operator\": \"And\", \"filters\": []}, \"failed\": {\"operator\": \"And\", \"filters\": []}}]",
       "column_spreadsheet_code_json": "[{\"score\": \"\", \"status\": \"\", \"status_\": \"=IF(status == 'passed', 'pass', status) \", \"score_\": \"=IF(score < 0, 0, IF(score > 100, 100, score))\", \"F\": \"=IF(OR(score < 60, status == 'fail'), 1, 0)\", \"failed\": \"=IF(AND(status_ == 'pass', score_ > 60), 1, 0)\"}]",
       "column_type_json": "[{\"score\": \"number\", \"status\": \"string\", \"status_\": \"string\", \"score_\": \"number\", \"F\": \"number\", \"failed\": \"number\"}]",
       "df_names_json": "{\"df_names\": [\"df\"]}",
       "df_shape_json": "[{\"rows\": 7, \"cols\": 6}]",
       "layout": "IPY_MODEL_bf834d2a79734eabb219a9f3fac3a2a0",
       "saved_analysis_names_json": "[\"123\", \"Add Delete Add\", \"Final Test\", \"HAHA\", \"New Test\", \"TESTLONG\", \"Test\", \"Testing\"]",
       "sheet_json": "[{\"columns\": [\"score\", \"status\", \"status_\", \"score_\", \"failed\", \"F\"], \"index\": [0, 1, 2, 3, 4, 5, 6], \"data\": [[-100, \"pass\", \"pass\", 0, 0, 1], [-50, \"fail\", \"fail\", 0, 0, 1], [0, \"pass\", \"pass\", 0, 0, 1], [10, \"fail\", \"fail\", 10, 0, 1], [61, \"passed\", \"pass\", 61, 1, 0], [100, \"pass\", \"pass\", 100, 1, 0], [150, \"fail\", \"fail\", 100, 0, 1]]}]",
       "user_id": "nate",
       "value": "Hello World"
      }
     },
     "054e2f8864ff4382b125a4dfddef174b": {
      "model_module": "mitosheet",
      "model_module_version": "^0.1.52",
      "model_name": "ExampleModel",
      "state": {
       "_model_module_version": "^0.1.52",
       "_view_module_version": "^0.1.52",
       "analysis_name": "UUID-d0ba799d-f5fe-4396-9fff-b37654218850",
       "code_json": "{\"imports\": \"from mitosheet import *\", \"code\": []}",
       "column_filters_json": "[{\"score\": {\"operator\": \"And\", \"filters\": []}, \"status\": {\"operator\": \"And\", \"filters\": []}}]",
       "column_spreadsheet_code_json": "[{\"score\": \"\", \"status\": \"\"}]",
       "column_type_json": "[{\"score\": \"number\", \"status\": \"string\"}]",
       "df_names_json": "{\"df_names\": [\"df\"]}",
       "df_shape_json": "[{\"rows\": 7, \"cols\": 2}]",
       "layout": "IPY_MODEL_7f6e8724a01b4a2290496c685d84db43",
       "saved_analysis_names_json": "[\"123\", \"Add Delete Add\", \"Final Test\", \"HAHA\", \"New Test\", \"TESTLONG\", \"Test\", \"Testing\"]",
       "sheet_json": "[{\"columns\": [\"score\", \"status\"], \"index\": [0, 1, 2, 3, 4, 5, 6], \"data\": [[-100, \"pass\"], [-50, \"fail\"], [0, \"pass\"], [10, \"fail\"], [61, \"passed\"], [100, \"pass\"], [150, \"fail\"]]}]",
       "user_id": "nate",
       "value": "Hello World"
      }
     },
     "765c63b559f2475b9e88031f6923996f": {
      "model_module": "mitosheet",
      "model_module_version": "^0.1.52",
      "model_name": "ExampleModel",
      "state": {
       "_model_module_version": "^0.1.52",
       "_view_module_version": "^0.1.52",
       "analysis_name": "UUID-9ecca280-b1d0-4719-93f4-9164d22eb8a0",
       "code_json": "{\"imports\": \"from mitosheet import *\", \"code\": []}",
       "column_filters_json": "[{\"score\": {\"operator\": \"And\", \"filters\": []}, \"status\": {\"operator\": \"And\", \"filters\": []}}]",
       "column_spreadsheet_code_json": "[{\"score\": \"\", \"status\": \"\"}]",
       "column_type_json": "[{\"score\": \"number\", \"status\": \"string\"}]",
       "df_names_json": "{\"df_names\": [\"df\"]}",
       "df_shape_json": "[{\"rows\": 7, \"cols\": 2}]",
       "layout": "IPY_MODEL_c2a30d2d86e34b8abcc3b0b5d8f79376",
       "saved_analysis_names_json": "[\"123\", \"Add Delete Add\", \"Final Test\", \"HAHA\", \"New Test\", \"TESTLONG\", \"Test\", \"Testing\"]",
       "sheet_json": "[{\"columns\": [\"score\", \"status\"], \"index\": [0, 1, 2, 3, 4, 5, 6], \"data\": [[-100, \"pass\"], [-50, \"fail\"], [0, \"pass\"], [10, \"fail\"], [61, \"passed\"], [100, \"pass\"], [150, \"fail\"]]}]",
       "user_id": "nate",
       "value": "Hello World"
      }
     },
     "7f6e8724a01b4a2290496c685d84db43": {
      "model_module": "@jupyter-widgets/base",
      "model_module_version": "1.2.0",
      "model_name": "LayoutModel",
      "state": {}
     },
     "bf834d2a79734eabb219a9f3fac3a2a0": {
      "model_module": "@jupyter-widgets/base",
      "model_module_version": "1.2.0",
      "model_name": "LayoutModel",
      "state": {}
     },
     "c2a30d2d86e34b8abcc3b0b5d8f79376": {
      "model_module": "@jupyter-widgets/base",
      "model_module_version": "1.2.0",
      "model_name": "LayoutModel",
      "state": {}
     }
    },
    "version_major": 2,
    "version_minor": 0
   }
  }
 },
 "nbformat": 4,
 "nbformat_minor": 4
}
