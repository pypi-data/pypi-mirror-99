{
 "cells": [
  {
   "cell_type": "code",
   "execution_count": null,
   "metadata": {},
   "outputs": [],
   "source": [
    "\"\"\"\n",
    "This file tests some complex analysis with Mito, where mulitple mito instances\n",
    "exist in the same workbook. \n",
    "\n",
    "Instructions:\n",
    "1. Run this cell. \n",
    "2. Add a new column to the nums sheet. Set it equal to nums+100.\n",
    "3. Switch to the strs sheet. Add a new column. Set it equal to LEFT(strs).\n",
    "4. Switch back to the nums sheet. Make sure the column you defined above is still there + correct. \n",
    "5. Switch back to the strs sheet. Make sure you new column is correctly defined there as well. \n",
    "6. Rerun this cell. Make sure your new columns still exist. \n",
    "7. Edit the columns you defined to make sure the column formulas are redefined properly!\n",
    "\"\"\"\n",
    "import mitosheet\n",
    "import pandas as pd\n",
    "nums = pd.DataFrame(data={'nums': [1, 2, 3]})\n",
    "strs = pd.DataFrame(data={'strs': ['abc', 'def', 'ghi']})\n",
    "mitosheet.sheet(nums, strs)"
   ]
  }
 ],
 "metadata": {
  "kernelspec": {
   "display_name": "Python 3",
   "language": "python",
   "name": "python3"
  },
  "language_info": {
   "codemirror_mode": {
    "name": "ipython",
    "version": 3
   },
   "file_extension": ".py",
   "mimetype": "text/x-python",
   "name": "python",
   "nbconvert_exporter": "python",
   "pygments_lexer": "ipython3",
   "version": "3.8.5"
  },
  "widgets": {
   "application/vnd.jupyter.widget-state+json": {
    "state": {},
    "version_major": 2,
    "version_minor": 0
   }
  }
 },
 "nbformat": 4,
 "nbformat_minor": 4
}
