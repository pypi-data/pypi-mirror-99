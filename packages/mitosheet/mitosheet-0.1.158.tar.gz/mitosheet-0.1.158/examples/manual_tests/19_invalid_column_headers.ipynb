{
 "cells": [
  {
   "cell_type": "code",
   "execution_count": null,
   "metadata": {},
   "outputs": [],
   "source": [
    "\"\"\"\n",
    "Tests some invalid header names can still be imported by mito, and operated on.\n",
    "\n",
    "Steps:\n",
    "- Run this cell.\n",
    "- Rename the columns to name, height, and weight respectively. \n",
    "- Create a new column, and set it equal to height / weight. \n",
    "\"\"\"\n",
    "import mitosheet\n",
    "import pandas as pd\n",
    "df1 = pd.DataFrame(data={'What is your first name?': ['Nate', 'Nate', 'Aaron', 'Aaron'], 'What is your height?!': [4, 5, 6, 7], 'Weight-Of-You': [100, 200, 300, 400]})\n",
    "mitosheet.sheet(df1)"
   ]
  }
 ],
 "metadata": {
  "kernelspec": {
   "display_name": "Python 3",
   "language": "python",
   "name": "python3"
  },
  "language_info": {
   "codemirror_mode": {
    "name": "ipython",
    "version": 3
   },
   "file_extension": ".py",
   "mimetype": "text/x-python",
   "name": "python",
   "nbconvert_exporter": "python",
   "pygments_lexer": "ipython3",
   "version": "3.8.5"
  },
  "widgets": {
   "application/vnd.jupyter.widget-state+json": {
    "state": {},
    "version_major": 2,
    "version_minor": 0
   }
  }
 },
 "nbformat": 4,
 "nbformat_minor": 4
}
