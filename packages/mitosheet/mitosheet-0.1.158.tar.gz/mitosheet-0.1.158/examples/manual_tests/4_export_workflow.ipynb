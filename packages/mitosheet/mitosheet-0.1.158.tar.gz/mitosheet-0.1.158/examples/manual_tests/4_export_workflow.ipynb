{
 "cells": [
  {
   "cell_type": "code",
   "execution_count": null,
   "metadata": {},
   "outputs": [],
   "source": [
    "\"\"\"\n",
    "This file tests some basic interactions with mito: a workflow ending in an export.\n",
    "\n",
    "Instructions:\n",
    "1. Run this cell. \n",
    "2. Add three new columns, and set them equal to =Str, =Int, and =Float respectively.\n",
    "3. Click the download analysis button. \n",
    "4. Open the exported CSV in Excel, and make sure the data exported correctly (all columns should be replicated!).\n",
    "\"\"\"\n",
    "import mitosheet\n",
    "import pandas as pd\n",
    "df = pd.DataFrame(data={'Str': ['Hi', 'Aaron'], 'Int': [1, 2], 'Float': [1.2, 2.1]})\n",
    "mitosheet.sheet(df)"
   ]
  }
 ],
 "metadata": {
  "kernelspec": {
   "display_name": "Python 3",
   "language": "python",
   "name": "python3"
  },
  "language_info": {
   "codemirror_mode": {
    "name": "ipython",
    "version": 3
   },
   "file_extension": ".py",
   "mimetype": "text/x-python",
   "name": "python",
   "nbconvert_exporter": "python",
   "pygments_lexer": "ipython3",
   "version": "3.8.5"
  },
  "widgets": {
   "application/vnd.jupyter.widget-state+json": {
    "state": {
     "190f834725ae487386df315cada78721": {
      "model_module": "mitosheet",
      "model_module_version": "^0.1.59",
      "model_name": "ExampleModel",
      "state": {
       "_model_module_version": "^0.1.59",
       "_view_module_version": "^0.1.59",
       "analysis_name": "UUID-b53972bb-c882-405f-a495-db1e7123cb0d",
       "code_json": "{\"imports\": \"from mitosheet import *\", \"code\": []}",
       "column_filters_json": "[{\"Str\": {\"operator\": \"And\", \"filters\": []}, \"Int\": {\"operator\": \"And\", \"filters\": []}, \"Float\": {\"operator\": \"And\", \"filters\": []}}]",
       "column_spreadsheet_code_json": "[{\"Str\": \"\", \"Int\": \"\", \"Float\": \"\"}]",
       "column_type_json": "[{\"Str\": \"string\", \"Int\": \"number\", \"Float\": \"number\"}]",
       "df_names_json": "{\"df_names\": [\"df\"]}",
       "df_shape_json": "[{\"rows\": 2, \"cols\": 3}]",
       "layout": "IPY_MODEL_fdaac44654dd47ff8cbcd0814557a57e",
       "saved_analysis_names_json": "[\"Testing\"]",
       "sheet_json": "[{\"columns\": [\"Str\", \"Int\", \"Float\"], \"index\": [0, 1], \"data\": [[\"Hi\", 1, 1.2], [\"Aaron\", 2, 2.1]]}]",
       "user_id": "nate",
       "value": "Hello World"
      }
     },
     "fdaac44654dd47ff8cbcd0814557a57e": {
      "model_module": "@jupyter-widgets/base",
      "model_module_version": "1.2.0",
      "model_name": "LayoutModel",
      "state": {}
     }
    },
    "version_major": 2,
    "version_minor": 0
   }
  }
 },
 "nbformat": 4,
 "nbformat_minor": 4
}
