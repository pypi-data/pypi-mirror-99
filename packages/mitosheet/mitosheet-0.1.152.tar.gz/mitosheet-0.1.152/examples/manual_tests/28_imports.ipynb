{
 "cells": [
  {
   "cell_type": "code",
   "execution_count": null,
   "metadata": {},
   "outputs": [],
   "source": [
    "\"\"\"\n",
    "This file tests some importing with Mito, including how it interacts with \n",
    "replaying an analysis.\n",
    "\n",
    "1. Run this cell. \n",
    "2. Click the import button, and import Names1.csv using a simple import. \n",
    "3. Add a column, and set it equal to the length of Names1.csv.\n",
    "4. Repeat steps 2 and 3.\n",
    "5. Save the analysis.\n",
    "6. Get a blank sheet again, and replay the analysis. When prompted, change both of files to replay it on to Names2.csv.\n",
    "7. Check that the output is correct (has the new data).\n",
    "8. Use the Raw Python Import to import a new dataframe with the code:\n",
    "\n",
    "import pandas as pd\n",
    "Names1_csv = pd.DataFrame({'A': [123]})\n",
    "\n",
    "And the dataframe: Names1_csv\n",
    "\n",
    "9. When you click submit this should error. In the code, change Names1_csv -> df, and same in dataframes. Import. \n",
    "10. Save this analysis. Replay it. When you get the modal that pops up, it should contain your above code.\n",
    "11. Run the generated code and make sure the sheets are defined as expected.\n",
    "\"\"\"\n",
    "import mitosheet\n",
    "mitosheet.sheet()"
   ]
  }
 ],
 "metadata": {
  "kernelspec": {
   "display_name": "Python 3",
   "language": "python",
   "name": "python3"
  },
  "language_info": {
   "codemirror_mode": {
    "name": "ipython",
    "version": 3
   },
   "file_extension": ".py",
   "mimetype": "text/x-python",
   "name": "python",
   "nbconvert_exporter": "python",
   "pygments_lexer": "ipython3",
   "version": "3.8.5"
  },
  "widgets": {
   "application/vnd.jupyter.widget-state+json": {
    "state": {},
    "version_major": 2,
    "version_minor": 0
   }
  }
 },
 "nbformat": 4,
 "nbformat_minor": 4
}
