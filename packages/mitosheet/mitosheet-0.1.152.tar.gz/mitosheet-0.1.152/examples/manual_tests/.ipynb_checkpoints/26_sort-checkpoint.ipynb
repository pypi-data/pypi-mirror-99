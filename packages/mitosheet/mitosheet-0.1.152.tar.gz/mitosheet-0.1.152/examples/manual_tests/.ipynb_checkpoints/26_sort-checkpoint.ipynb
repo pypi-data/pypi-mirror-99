{
 "cells": [
  {
   "cell_type": "code",
   "execution_count": null,
   "metadata": {},
   "outputs": [],
   "source": [
    "\"\"\"\n",
    "This file should tests all the filter conditions on\n",
    "\n",
    "Instructions:\n",
    "- Run this cell. \n",
    "- For each column, sort is ascending and descending and make sure its correct\n",
    "    - Note: the mixed column should throw an 'invalid sort' error\n",
    "- Create a new column and do a rolling window reference on the Number column, to subtract one \n",
    "  row from the next row. Make sure the values are correct.\n",
    "- Check that the code is being generated and updated as you cycle through conditions.\n",
    "- Print out the resulting df and make sure it matches\n",
    "\"\"\"\n",
    "import mitosheet\n",
    "import pandas as pd\n",
    "df1 = pd.DataFrame(data={'String': [\"123\", \"1\", \"2\", \"3\", \"4\", \"5\"], \n",
    "                        'Number': [123, 1, 2, 3, 4, 5],\n",
    "                         'Date': ['2001-01-01', '2002-01-01', '2003-01-01','2004-01-01', '2005-01-01', '2006-01-01'],\n",
    "                        'Mixed': [123, \"1\", \"2\", \"3\", 4, 5]})\n",
    "\n",
    "# Actually turn the column to a datetime column\n",
    "df1['Date'] = pd.to_datetime(df1['Date'])\n",
    "\n",
    "mitosheet.sheet(df1)"
   ]
  }
 ],
 "metadata": {
  "kernelspec": {
   "display_name": "Python 3",
   "language": "python",
   "name": "python3"
  },
  "language_info": {
   "codemirror_mode": {
    "name": "ipython",
    "version": 3
   },
   "file_extension": ".py",
   "mimetype": "text/x-python",
   "name": "python",
   "nbconvert_exporter": "python",
   "pygments_lexer": "ipython3",
   "version": "3.8.5"
  },
  "widgets": {
   "application/vnd.jupyter.widget-state+json": {
    "state": {
     "0fb65f36eb58454b90ccda17c4bee73a": {
      "model_module": "mitosheet",
      "model_module_version": "^0.1.92",
      "model_name": "ExampleModel",
      "state": {
       "_model_module_version": "^0.1.92",
       "_view_module_version": "^0.1.92",
       "analysis_name": "UUID-437b46b3-9276-4e67-9f78-4dd46f5ee1af",
       "code_json": "{\"imports\": \"from mitosheet import *\", \"code\": []}",
       "column_filters_json": "[{\"String\": {\"operator\": \"And\", \"filters\": []}, \"Number\": {\"operator\": \"And\", \"filters\": []}, \"Date\": {\"operator\": \"And\", \"filters\": []}, \"Mixed\": {\"operator\": \"And\", \"filters\": []}}]",
       "column_spreadsheet_code_json": "[{\"String\": \"\", \"Number\": \"\", \"Date\": \"\", \"Mixed\": \"\"}]",
       "column_type_json": "[{\"String\": \"string\", \"Number\": \"number\", \"Date\": \"datetime\", \"Mixed\": \"string\"}]",
       "df_names_json": "{\"df_names\": [\"df1\"]}",
       "df_shape_json": "[{\"rows\": 6, \"cols\": 4}]",
       "has_rendered": true,
       "is_local_deployment": true,
       "layout": "IPY_MODEL_773904f3c76245d5847efeeb7d72fb3a",
       "saved_analysis_names_json": "[\"111\", \"1111\", \"28\", \"29\", \"Dork\", \"Sample\", \"Testing\", \"_3arkvynuo\", \"_419wxryas\", \"_461fd87s7\", \"_49hlkjtgp\", \"_7atqow0oj\", \"_88amfqk2f\", \"_8b9x4aa2m\", \"_cb27694sr\", \"_efldontof\", \"_gs9b8mudg\", \"_hexaujrz3\", \"_iu8qft83p\", \"_jqu6ydgq6\", \"_jtip39qtx\", \"_k4ce9w8om\", \"_ktv9i6xtb\", \"_nauipuq8o\", \"_nq5ctxt9m\", \"_obi4mo3a2\", \"_ojtvedr82\", \"_rqyqe9rfu\", \"_uzyu8vo18\", \"_yd64b4y4m\", \"aaa\", \"new\", \"test\"]",
       "sheet_json": "[{\"columns\": [\"String\", \"Number\", \"Date\", \"Mixed\"], \"index\": [0, 1, 2, 3, 4, 5], \"data\": [[\"123\", 123, \"2001-01-01 00:00:00\", 123], [\"1\", 1, \"2002-01-01 00:00:00\", \"1\"], [\"2\", 2, \"2003-01-01 00:00:00\", \"2\"], [\"3\", 3, \"2004-01-01 00:00:00\", \"3\"], [\"4\", 4, \"2005-01-01 00:00:00\", 4], [\"5\", 5, \"2006-01-01 00:00:00\", 5]]}]",
       "tutorial_mode": false,
       "user_id": "nate",
       "value": "Hello World"
      }
     },
     "1ea4d49c791544ba82ff070512ccb604": {
      "model_module": "@jupyter-widgets/base",
      "model_module_version": "1.2.0",
      "model_name": "LayoutModel",
      "state": {}
     },
     "22f6b88720b649ecb940b68efb3de982": {
      "model_module": "mitosheet",
      "model_module_version": "^0.1.92",
      "model_name": "ExampleModel",
      "state": {
       "_model_module_version": "^0.1.92",
       "_view_module_version": "^0.1.92",
       "analysis_name": "UUID-0d25e239-d46d-48f6-86ef-426159f36aae",
       "code_json": "{\"imports\": \"from mitosheet import *\", \"code\": []}",
       "column_filters_json": "[{\"String\": {\"operator\": \"And\", \"filters\": []}, \"Number\": {\"operator\": \"And\", \"filters\": []}, \"Date\": {\"operator\": \"And\", \"filters\": []}, \"Mixed\": {\"operator\": \"And\", \"filters\": []}}]",
       "column_spreadsheet_code_json": "[{\"String\": \"\", \"Number\": \"\", \"Date\": \"\", \"Mixed\": \"\"}]",
       "column_type_json": "[{\"String\": \"string\", \"Number\": \"number\", \"Date\": \"datetime\", \"Mixed\": \"string\"}]",
       "df_names_json": "{\"df_names\": [\"df1\"]}",
       "df_shape_json": "[{\"rows\": 6, \"cols\": 4}]",
       "has_rendered": true,
       "is_local_deployment": true,
       "layout": "IPY_MODEL_cfa9b80c50ce451ab1ff708bdedbbb8c",
       "saved_analysis_names_json": "[\"111\", \"1111\", \"28\", \"29\", \"Dork\", \"Sample\", \"Testing\", \"_3arkvynuo\", \"_419wxryas\", \"_461fd87s7\", \"_49hlkjtgp\", \"_7atqow0oj\", \"_88amfqk2f\", \"_8b9x4aa2m\", \"_cb27694sr\", \"_efldontof\", \"_gs9b8mudg\", \"_hexaujrz3\", \"_iu8qft83p\", \"_jqu6ydgq6\", \"_jtip39qtx\", \"_k4ce9w8om\", \"_ktv9i6xtb\", \"_nauipuq8o\", \"_nq5ctxt9m\", \"_obi4mo3a2\", \"_ojtvedr82\", \"_rqyqe9rfu\", \"_uzyu8vo18\", \"_yd64b4y4m\", \"aaa\", \"new\", \"test\"]",
       "sheet_json": "[{\"columns\": [\"String\", \"Number\", \"Date\", \"Mixed\"], \"index\": [0, 1, 2, 3, 4, 5], \"data\": [[\"123\", 123, \"2001-01-01 00:00:00\", 123], [\"1\", 1, \"2002-01-01 00:00:00\", \"1\"], [\"2\", 2, \"2003-01-01 00:00:00\", \"2\"], [\"3\", 3, \"2004-01-01 00:00:00\", \"3\"], [\"4\", 4, \"2005-01-01 00:00:00\", 4], [\"5\", 5, \"2006-01-01 00:00:00\", 5]]}]",
       "tutorial_mode": false,
       "user_id": "nate",
       "value": "Hello World"
      }
     },
     "284fddf86b384da0ba405b4e466bb6c8": {
      "model_module": "@jupyter-widgets/base",
      "model_module_version": "1.2.0",
      "model_name": "LayoutModel",
      "state": {}
     },
     "405cda05008d4ce39b5a68d1180c2ff8": {
      "model_module": "mitosheet",
      "model_module_version": "^0.1.92",
      "model_name": "ExampleModel",
      "state": {
       "_model_module_version": "^0.1.92",
       "_view_module_version": "^0.1.92",
       "analysis_name": "UUID-827f4a5b-c951-4a37-90db-8a4d02741ffe",
       "code_json": "{\"imports\": \"from mitosheet import *\", \"code\": [\"# Step 1\", \"df1 = df1[df1.Date.notnull()]\", \"df1 = df1.reset_index(drop=True)\"]}",
       "column_filters_json": "[{\"String\": {\"operator\": \"And\", \"filters\": []}, \"Number\": {\"operator\": \"And\", \"filters\": []}, \"Date\": {\"operator\": \"And\", \"filters\": [{\"type\": \"string\", \"condition\": \"not_empty\", \"value\": 0}]}, \"Mixed\": {\"operator\": \"And\", \"filters\": []}}]",
       "column_spreadsheet_code_json": "[{\"String\": \"\", \"Number\": \"\", \"Date\": \"\", \"Mixed\": \"\"}]",
       "column_type_json": "[{\"String\": \"string\", \"Number\": \"number\", \"Date\": \"string\", \"Mixed\": \"string\"}]",
       "df_names_json": "{\"df_names\": [\"df1\"]}",
       "df_shape_json": "[{\"rows\": 6, \"cols\": 4}]",
       "has_rendered": true,
       "is_local_deployment": true,
       "layout": "IPY_MODEL_1ea4d49c791544ba82ff070512ccb604",
       "saved_analysis_names_json": "[\"111\", \"1111\", \"28\", \"29\", \"Dork\", \"Sample\", \"Testing\", \"_3arkvynuo\", \"_419wxryas\", \"_461fd87s7\", \"_49hlkjtgp\", \"_7atqow0oj\", \"_88amfqk2f\", \"_8b9x4aa2m\", \"_cb27694sr\", \"_efldontof\", \"_gs9b8mudg\", \"_hexaujrz3\", \"_iu8qft83p\", \"_jqu6ydgq6\", \"_jtip39qtx\", \"_k4ce9w8om\", \"_ktv9i6xtb\", \"_nauipuq8o\", \"_nq5ctxt9m\", \"_obi4mo3a2\", \"_ojtvedr82\", \"_rqyqe9rfu\", \"_uzyu8vo18\", \"_yd64b4y4m\", \"aaa\", \"new\", \"test\"]",
       "sheet_json": "[{\"columns\": [\"String\", \"Number\", \"Date\", \"Mixed\"], \"index\": [0, 1, 2, 3, 4, 5], \"data\": [[\"123\", 123, \"2001-01-01\", 123], [\"1\", 1, \"2002-01-01\", \"1\"], [\"2\", 2, \"2003-01-01\", \"2\"], [\"3\", 3, \"2004-01-01\", \"3\"], [\"4\", 4, \"2005-01-01\", 4], [\"5\", 5, \"2006-01-01\", 5]]}]",
       "tutorial_mode": false,
       "user_id": "nate",
       "value": "Hello World"
      }
     },
     "4a8ab3f62984497c8cc19cfd6dec2010": {
      "model_module": "mitosheet",
      "model_module_version": "^0.1.92",
      "model_name": "ExampleModel",
      "state": {
       "_model_module_version": "^0.1.92",
       "_view_module_version": "^0.1.92",
       "analysis_name": "UUID-7f585458-6670-4f23-9b99-8486a3618656",
       "code_json": "{\"imports\": \"from mitosheet import *\", \"code\": [\"# Step 1\", \"df1 = df1[df1.Date.isna()]\", \"df1 = df1.reset_index(drop=True)\"]}",
       "column_filters_json": "[{\"String\": {\"operator\": \"And\", \"filters\": []}, \"Number\": {\"operator\": \"And\", \"filters\": []}, \"Date\": {\"operator\": \"And\", \"filters\": [{\"type\": \"string\", \"condition\": \"empty\", \"value\": 0}]}, \"Mixed\": {\"operator\": \"And\", \"filters\": []}}]",
       "column_spreadsheet_code_json": "[{\"String\": \"\", \"Number\": \"\", \"Date\": \"\", \"Mixed\": \"\"}]",
       "column_type_json": "[{\"String\": \"string\", \"Number\": \"number\", \"Date\": \"string\", \"Mixed\": \"string\"}]",
       "df_names_json": "{\"df_names\": [\"df1\"]}",
       "df_shape_json": "[{\"rows\": 0, \"cols\": 4}]",
       "has_rendered": true,
       "is_local_deployment": true,
       "layout": "IPY_MODEL_73062c27ece446b5aebe19ec44eccf97",
       "saved_analysis_names_json": "[\"111\", \"1111\", \"28\", \"29\", \"Dork\", \"Sample\", \"Testing\", \"_3arkvynuo\", \"_419wxryas\", \"_461fd87s7\", \"_49hlkjtgp\", \"_7atqow0oj\", \"_88amfqk2f\", \"_8b9x4aa2m\", \"_cb27694sr\", \"_efldontof\", \"_gs9b8mudg\", \"_hexaujrz3\", \"_iu8qft83p\", \"_jqu6ydgq6\", \"_jtip39qtx\", \"_k4ce9w8om\", \"_ktv9i6xtb\", \"_nauipuq8o\", \"_nq5ctxt9m\", \"_obi4mo3a2\", \"_ojtvedr82\", \"_rqyqe9rfu\", \"_uzyu8vo18\", \"_yd64b4y4m\", \"aaa\", \"new\", \"test\"]",
       "sheet_json": "[{\"columns\": [\"String\", \"Number\", \"Date\", \"Mixed\"], \"index\": [], \"data\": []}]",
       "tutorial_mode": false,
       "user_id": "nate",
       "value": "Hello World"
      }
     },
     "4d45a1c0798a4a05a0cc2ca540a4d85c": {
      "model_module": "mitosheet",
      "model_module_version": "^0.1.92",
      "model_name": "ExampleModel",
      "state": {
       "_model_module_version": "^0.1.92",
       "_view_module_version": "^0.1.92",
       "analysis_name": "UUID-d67bcd8f-bd45-4e07-92b0-a4a1a5bdfae0",
       "code_json": "{\"imports\": \"from mitosheet import *\", \"code\": [\"# Step 1\", \"df1 = df1[df1['Number'] > 100]\", \"df1 = df1.reset_index(drop=True)\", \"# Step 2\", \"df1 = df1[~df1['String'].str.contains('1', na=False)]\", \"df1 = df1.reset_index(drop=True)\"]}",
       "column_filters_json": "[{\"String\": {\"operator\": \"And\", \"filters\": [{\"type\": \"string\", \"condition\": \"string_does_not_contain\", \"value\": \"1\"}]}, \"Number\": {\"operator\": \"And\", \"filters\": [{\"type\": \"number\", \"condition\": \"greater\", \"value\": 100}]}, \"Date\": {\"operator\": \"And\", \"filters\": []}, \"Mixed\": {\"operator\": \"And\", \"filters\": []}}]",
       "column_spreadsheet_code_json": "[{\"String\": \"\", \"Number\": \"\", \"Date\": \"\", \"Mixed\": \"\"}]",
       "column_type_json": "[{\"String\": \"string\", \"Number\": \"number\", \"Date\": \"datetime\", \"Mixed\": \"string\"}]",
       "df_names_json": "{\"df_names\": [\"df1\"]}",
       "df_shape_json": "[{\"rows\": 0, \"cols\": 4}]",
       "has_rendered": true,
       "is_local_deployment": true,
       "layout": "IPY_MODEL_dbc67406c1b345b0b11107a42d0298f0",
       "saved_analysis_names_json": "[\"111\", \"1111\", \"28\", \"29\", \"Dork\", \"Sample\", \"Testing\", \"_3arkvynuo\", \"_419wxryas\", \"_461fd87s7\", \"_49hlkjtgp\", \"_7atqow0oj\", \"_88amfqk2f\", \"_8b9x4aa2m\", \"_cb27694sr\", \"_efldontof\", \"_gs9b8mudg\", \"_hexaujrz3\", \"_iu8qft83p\", \"_jqu6ydgq6\", \"_jtip39qtx\", \"_k4ce9w8om\", \"_ktv9i6xtb\", \"_nauipuq8o\", \"_nq5ctxt9m\", \"_obi4mo3a2\", \"_ojtvedr82\", \"_rqyqe9rfu\", \"_uzyu8vo18\", \"_yd64b4y4m\", \"aaa\", \"new\", \"test\"]",
       "sheet_json": "[{\"columns\": [\"String\", \"Number\", \"Date\", \"Mixed\"], \"index\": [], \"data\": []}]",
       "tutorial_mode": false,
       "user_id": "nate",
       "value": "Hello World"
      }
     },
     "65394de216fb4c13b1f1ced2b678f7cd": {
      "model_module": "mitosheet",
      "model_module_version": "^0.1.92",
      "model_name": "ExampleModel",
      "state": {
       "_model_module_version": "^0.1.92",
       "_view_module_version": "^0.1.92",
       "analysis_name": "UUID-e135fa2f-223d-444b-91cf-fa88a3aa0e7a",
       "code_json": "{\"imports\": \"from mitosheet import *\", \"code\": [\"# Step 1\", \"df1['E'] = 0\", \"# Step 2\", \"df1['F'] = 0\"]}",
       "column_filters_json": "[{\"String\": {\"operator\": \"And\", \"filters\": []}, \"Number\": {\"operator\": \"And\", \"filters\": []}, \"Date\": {\"operator\": \"And\", \"filters\": []}, \"Mixed\": {\"operator\": \"And\", \"filters\": []}, \"E\": {\"operator\": \"And\", \"filters\": []}, \"F\": {\"operator\": \"And\", \"filters\": []}}]",
       "column_spreadsheet_code_json": "[{\"String\": \"\", \"Number\": \"\", \"Date\": \"\", \"Mixed\": \"\", \"E\": \"=0\", \"F\": \"=0\"}]",
       "column_type_json": "[{\"String\": \"string\", \"Number\": \"number\", \"Date\": \"datetime\", \"Mixed\": \"string\", \"E\": \"number\", \"F\": \"number\"}]",
       "df_names_json": "{\"df_names\": [\"df1\"]}",
       "df_shape_json": "[{\"rows\": 6, \"cols\": 6}]",
       "has_rendered": true,
       "is_local_deployment": true,
       "layout": "IPY_MODEL_968f36fb098643b489e69a8feac69d17",
       "saved_analysis_names_json": "[\"111\", \"1111\", \"28\", \"29\", \"Dork\", \"Sample\", \"Testing\", \"_3arkvynuo\", \"_419wxryas\", \"_461fd87s7\", \"_49hlkjtgp\", \"_7atqow0oj\", \"_88amfqk2f\", \"_8b9x4aa2m\", \"_cb27694sr\", \"_efldontof\", \"_gs9b8mudg\", \"_hexaujrz3\", \"_iu8qft83p\", \"_jqu6ydgq6\", \"_jtip39qtx\", \"_k4ce9w8om\", \"_ktv9i6xtb\", \"_nauipuq8o\", \"_nq5ctxt9m\", \"_obi4mo3a2\", \"_ojtvedr82\", \"_rqyqe9rfu\", \"_uzyu8vo18\", \"_yd64b4y4m\", \"aaa\", \"new\", \"test\"]",
       "sheet_json": "[{\"columns\": [\"String\", \"Number\", \"Date\", \"Mixed\", \"E\", \"F\"], \"index\": [0, 1, 2, 3, 4, 5], \"data\": [[\"123\", 123, \"2001-01-01 00:00:00\", 123, 0, 0], [\"1\", 1, \"2002-01-01 00:00:00\", \"1\", 0, 0], [\"2\", 2, \"2003-01-01 00:00:00\", \"2\", 0, 0], [\"3\", 3, \"2004-01-01 00:00:00\", \"3\", 0, 0], [\"4\", 4, \"2005-01-01 00:00:00\", 4, 0, 0], [\"5\", 5, \"2006-01-01 00:00:00\", 5, 0, 0]]}]",
       "tutorial_mode": false,
       "user_id": "nate",
       "value": "Hello World"
      }
     },
     "73062c27ece446b5aebe19ec44eccf97": {
      "model_module": "@jupyter-widgets/base",
      "model_module_version": "1.2.0",
      "model_name": "LayoutModel",
      "state": {}
     },
     "773904f3c76245d5847efeeb7d72fb3a": {
      "model_module": "@jupyter-widgets/base",
      "model_module_version": "1.2.0",
      "model_name": "LayoutModel",
      "state": {}
     },
     "968f36fb098643b489e69a8feac69d17": {
      "model_module": "@jupyter-widgets/base",
      "model_module_version": "1.2.0",
      "model_name": "LayoutModel",
      "state": {}
     },
     "cfa9b80c50ce451ab1ff708bdedbbb8c": {
      "model_module": "@jupyter-widgets/base",
      "model_module_version": "1.2.0",
      "model_name": "LayoutModel",
      "state": {}
     },
     "dbc67406c1b345b0b11107a42d0298f0": {
      "model_module": "@jupyter-widgets/base",
      "model_module_version": "1.2.0",
      "model_name": "LayoutModel",
      "state": {}
     },
     "f03789c60a284129b749de7be4beac9e": {
      "model_module": "mitosheet",
      "model_module_version": "^0.1.92",
      "model_name": "ExampleModel",
      "state": {
       "_model_module_version": "^0.1.92",
       "_view_module_version": "^0.1.92",
       "analysis_name": "UUID-e8e1e297-3d69-4443-b242-f55ad7102e4f",
       "code_json": "{\"imports\": \"from mitosheet import *\", \"code\": []}",
       "column_filters_json": "[{\"String\": {\"operator\": \"And\", \"filters\": []}, \"Number\": {\"operator\": \"And\", \"filters\": []}, \"Date\": {\"operator\": \"And\", \"filters\": []}, \"Mixed\": {\"operator\": \"And\", \"filters\": []}}]",
       "column_spreadsheet_code_json": "[{\"String\": \"\", \"Number\": \"\", \"Date\": \"\", \"Mixed\": \"\"}]",
       "column_type_json": "[{\"String\": \"string\", \"Number\": \"number\", \"Date\": \"string\", \"Mixed\": \"string\"}]",
       "df_names_json": "{\"df_names\": [\"df1\"]}",
       "df_shape_json": "[{\"rows\": 6, \"cols\": 4}]",
       "has_rendered": true,
       "is_local_deployment": true,
       "layout": "IPY_MODEL_284fddf86b384da0ba405b4e466bb6c8",
       "saved_analysis_names_json": "[\"111\", \"1111\", \"28\", \"29\", \"Dork\", \"Sample\", \"Testing\", \"_3arkvynuo\", \"_419wxryas\", \"_461fd87s7\", \"_49hlkjtgp\", \"_7atqow0oj\", \"_88amfqk2f\", \"_8b9x4aa2m\", \"_cb27694sr\", \"_efldontof\", \"_gs9b8mudg\", \"_hexaujrz3\", \"_iu8qft83p\", \"_jqu6ydgq6\", \"_jtip39qtx\", \"_k4ce9w8om\", \"_ktv9i6xtb\", \"_nauipuq8o\", \"_nq5ctxt9m\", \"_obi4mo3a2\", \"_ojtvedr82\", \"_rqyqe9rfu\", \"_uzyu8vo18\", \"_yd64b4y4m\", \"aaa\", \"new\", \"test\"]",
       "sheet_json": "[{\"columns\": [\"String\", \"Number\", \"Date\", \"Mixed\"], \"index\": [0, 1, 2, 3, 4, 5], \"data\": [[\"123\", 123, \"2001-01-01\", 123], [\"1\", 1, \"2002-01-01\", \"1\"], [\"2\", 2, \"2003-01-01\", \"2\"], [\"3\", 3, \"2004-01-01\", \"3\"], [\"4\", 4, \"2005-01-01\", 4], [\"5\", 5, \"2006-01-01\", 5]]}]",
       "tutorial_mode": false,
       "user_id": "nate",
       "value": "Hello World"
      }
     }
    },
    "version_major": 2,
    "version_minor": 0
   }
  }
 },
 "nbformat": 4,
 "nbformat_minor": 4
}
