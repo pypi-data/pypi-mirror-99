{
 "cells": [
  {
   "cell_type": "code",
   "execution_count": 3,
   "metadata": {},
   "outputs": [
    {
     "data": {
      "application/vnd.jupyter.widget-view+json": {
       "model_id": "32fe9ddf958e4f7591c557d2f1efa457",
       "version_major": 2,
       "version_minor": 0
      },
      "text/plain": [
       "MitoWidget(analysis_name='UUID-74767793-4a27-40d6-b611-0b5e5a78f99c', code_json='{\"imports\": \"from mitosheet i…"
      ]
     },
     "metadata": {},
     "output_type": "display_data"
    }
   ],
   "source": [
    "\"\"\"\n",
    "This file tests that grouping on multiple rows and a column works correctly\n",
    "\n",
    "1. run this cell\n",
    "2. click on the group modal \n",
    "    - select 'gender' and 'species' as rows\n",
    "    - select 'size' as columns\n",
    "    - aggregate 'weight' using 'sum'\n",
    "    - run the group\n",
    "3. check to make sure a new df, df2 is created that has the top row of [female, dog, 95, NaN]\n",
    "4. update the the aggregation function to a different value\n",
    "5. Add a column for count, and check the top row is [female, doc, 95, NaN].\n",
    "6. Press undo and make sure the pivot does away\n",
    "\"\"\"\n",
    "\n",
    "\n",
    "import mitosheet\n",
    "import pandas as pd\n",
    "df = pd.DataFrame({\n",
    "    'gender': ['male','male','female', 'female', 'female'],\n",
    "    'species': ['human','dog','human', 'human', 'dog'],\n",
    "    'size': ['big', 'small', 'small', 'big', 'big'],\n",
    "    'weight': [160, 20, 110, 175, 95]\n",
    "})\n",
    "mitosheet.sheet(df)"
   ]
  },
  {
   "cell_type": "code",
   "execution_count": null,
   "metadata": {},
   "outputs": [],
   "source": [
    "# MITO CODE START (DO NOT EDIT)\n",
    "# SAVED-ANALYSIS-STARTUUID-74767793-4a27-40d6-b611-0b5e5a78f99cSAVED-ANALYSIS-END\n",
    "\n",
    "from mitosheet import *\n",
    "\n",
    "# Step 1\n",
    "\n",
    "df2 = pd.DataFrame(data={})\n",
    "  \n",
    "# MITO CODE END (DO NOT EDIT)"
   ]
  },
  {
   "cell_type": "code",
   "execution_count": null,
   "metadata": {},
   "outputs": [],
   "source": []
  },
  {
   "cell_type": "code",
   "execution_count": null,
   "metadata": {},
   "outputs": [],
   "source": []
  },
  {
   "cell_type": "code",
   "execution_count": null,
   "metadata": {},
   "outputs": [],
   "source": []
  },
  {
   "cell_type": "code",
   "execution_count": null,
   "metadata": {},
   "outputs": [],
   "source": []
  },
  {
   "cell_type": "code",
   "execution_count": null,
   "metadata": {},
   "outputs": [],
   "source": []
  },
  {
   "cell_type": "code",
   "execution_count": null,
   "metadata": {},
   "outputs": [],
   "source": []
  },
  {
   "cell_type": "code",
   "execution_count": null,
   "metadata": {},
   "outputs": [],
   "source": []
  },
  {
   "cell_type": "code",
   "execution_count": null,
   "metadata": {},
   "outputs": [],
   "source": []
  }
 ],
 "metadata": {
  "kernelspec": {
   "display_name": "Python 3",
   "language": "python",
   "name": "python3"
  },
  "language_info": {
   "codemirror_mode": {
    "name": "ipython",
    "version": 3
   },
   "file_extension": ".py",
   "mimetype": "text/x-python",
   "name": "python",
   "nbconvert_exporter": "python",
   "pygments_lexer": "ipython3",
   "version": "3.8.5"
  },
  "widgets": {
   "application/vnd.jupyter.widget-state+json": {
    "state": {
     "32fe9ddf958e4f7591c557d2f1efa457": {
      "model_module": "mitosheet",
      "model_module_version": "^0.1.66",
      "model_name": "ExampleModel",
      "state": {
       "_model_module_version": "^0.1.66",
       "_view_module_version": "^0.1.66",
       "analysis_name": "UUID-74767793-4a27-40d6-b611-0b5e5a78f99c",
       "code_json": "{\"imports\": \"from mitosheet import *\", \"code\": [\"# Step 1\", \"df2 = pd.DataFrame(data={})\"]}",
       "column_filters_json": "[{\"gender\": {\"operator\": \"And\", \"filters\": []}, \"species\": {\"operator\": \"And\", \"filters\": []}, \"size\": {\"operator\": \"And\", \"filters\": []}, \"weight\": {\"operator\": \"And\", \"filters\": []}}, {}]",
       "column_spreadsheet_code_json": "[{\"gender\": \"\", \"species\": \"\", \"size\": \"\", \"weight\": \"\"}, {}]",
       "column_type_json": "[{\"gender\": \"string\", \"species\": \"string\", \"size\": \"string\", \"weight\": \"number\"}, {}]",
       "df_names_json": "{\"df_names\": [\"df\", \"df2\"]}",
       "df_shape_json": "[{\"rows\": 5, \"cols\": 4}, {\"rows\": 0, \"cols\": 0}]",
       "layout": "IPY_MODEL_3e3ae3f97b714aeeb047040945df527c",
       "saved_analysis_names_json": "[\"1\", \"28\", \"Double Import\", \"File Import Get Length\", \"File Import\", \"Testing\", \"aaa\", \"new\"]",
       "sheet_json": "[{\"columns\": [\"gender\", \"species\", \"size\", \"weight\"], \"index\": [0, 1, 2, 3, 4], \"data\": [[\"male\", \"human\", \"big\", 160], [\"male\", \"dog\", \"small\", 20], [\"female\", \"human\", \"small\", 110], [\"female\", \"human\", \"big\", 175], [\"female\", \"dog\", \"big\", 95]]}, {\"columns\": [], \"index\": [], \"data\": []}]",
       "user_id": "nate",
       "value": "Hello World"
      }
     },
     "3e3ae3f97b714aeeb047040945df527c": {
      "model_module": "@jupyter-widgets/base",
      "model_module_version": "1.2.0",
      "model_name": "LayoutModel",
      "state": {}
     },
     "52a2e7b550a44341a05a42fa4514994c": {
      "model_module": "@jupyter-widgets/base",
      "model_module_version": "1.2.0",
      "model_name": "LayoutModel",
      "state": {}
     },
     "5f1e12084a3c4adeac17f08bdc38b00d": {
      "model_module": "mitosheet",
      "model_module_version": "^0.1.66",
      "model_name": "ExampleModel",
      "state": {
       "_model_module_version": "^0.1.66",
       "_view_module_version": "^0.1.66",
       "analysis_name": "UUID-f578a27c-62f8-4483-a4fa-3d0e02d28468",
       "code_json": "{\"imports\": \"from mitosheet import *\", \"code\": []}",
       "column_filters_json": "[{\"gender\": {\"operator\": \"And\", \"filters\": []}, \"species\": {\"operator\": \"And\", \"filters\": []}, \"size\": {\"operator\": \"And\", \"filters\": []}, \"weight\": {\"operator\": \"And\", \"filters\": []}}]",
       "column_spreadsheet_code_json": "[{\"gender\": \"\", \"species\": \"\", \"size\": \"\", \"weight\": \"\"}]",
       "column_type_json": "[{\"gender\": \"string\", \"species\": \"string\", \"size\": \"string\", \"weight\": \"number\"}]",
       "df_names_json": "{\"df_names\": [\"df\"]}",
       "df_shape_json": "[{\"rows\": 5, \"cols\": 4}]",
       "layout": "IPY_MODEL_52a2e7b550a44341a05a42fa4514994c",
       "saved_analysis_names_json": "[\"1\", \"28\", \"Double Import\", \"File Import Get Length\", \"File Import\", \"Testing\", \"aaa\", \"new\"]",
       "sheet_json": "[{\"columns\": [\"gender\", \"species\", \"size\", \"weight\"], \"index\": [0, 1, 2, 3, 4], \"data\": [[\"male\", \"human\", \"big\", 160], [\"male\", \"dog\", \"small\", 20], [\"female\", \"human\", \"small\", 110], [\"female\", \"human\", \"big\", 175], [\"female\", \"dog\", \"big\", 95]]}]",
       "user_id": "nate",
       "value": "Hello World"
      }
     },
     "923a2e4a188147f0930ecb99170fff36": {
      "model_module": "mitosheet",
      "model_module_version": "^0.1.66",
      "model_name": "ExampleModel",
      "state": {
       "_model_module_version": "^0.1.66",
       "_view_module_version": "^0.1.66",
       "analysis_name": "UUID-7a1c917f-b2c9-4e1c-9a25-145f7c636a34",
       "code_json": "{\"imports\": \"from mitosheet import *\", \"code\": []}",
       "column_filters_json": "[{\"gender\": {\"operator\": \"And\", \"filters\": []}, \"species\": {\"operator\": \"And\", \"filters\": []}, \"size\": {\"operator\": \"And\", \"filters\": []}, \"weight\": {\"operator\": \"And\", \"filters\": []}}]",
       "column_spreadsheet_code_json": "[{\"gender\": \"\", \"species\": \"\", \"size\": \"\", \"weight\": \"\"}]",
       "column_type_json": "[{\"gender\": \"string\", \"species\": \"string\", \"size\": \"string\", \"weight\": \"number\"}]",
       "df_names_json": "{\"df_names\": [\"df\"]}",
       "df_shape_json": "[{\"rows\": 5, \"cols\": 4}]",
       "layout": "IPY_MODEL_dbe1cd17fe854115b7b6914b5b791e23",
       "saved_analysis_names_json": "[\"1\", \"28\", \"Double Import\", \"File Import Get Length\", \"File Import\", \"Testing\", \"aaa\", \"new\"]",
       "sheet_json": "[{\"columns\": [\"gender\", \"species\", \"size\", \"weight\"], \"index\": [0, 1, 2, 3, 4], \"data\": [[\"male\", \"human\", \"big\", 160], [\"male\", \"dog\", \"small\", 20], [\"female\", \"human\", \"small\", 110], [\"female\", \"human\", \"big\", 175], [\"female\", \"dog\", \"big\", 95]]}]",
       "user_id": "nate",
       "value": "Hello World"
      }
     },
     "dbe1cd17fe854115b7b6914b5b791e23": {
      "model_module": "@jupyter-widgets/base",
      "model_module_version": "1.2.0",
      "model_name": "LayoutModel",
      "state": {}
     }
    },
    "version_major": 2,
    "version_minor": 0
   }
  }
 },
 "nbformat": 4,
 "nbformat_minor": 4
}
