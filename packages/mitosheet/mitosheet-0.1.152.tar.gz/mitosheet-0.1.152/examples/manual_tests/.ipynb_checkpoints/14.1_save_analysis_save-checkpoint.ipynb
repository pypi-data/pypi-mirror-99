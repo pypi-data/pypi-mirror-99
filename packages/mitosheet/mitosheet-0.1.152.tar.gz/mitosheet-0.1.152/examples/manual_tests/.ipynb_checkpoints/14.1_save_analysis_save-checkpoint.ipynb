{
 "cells": [
  {
   "cell_type": "code",
   "execution_count": null,
   "metadata": {},
   "outputs": [],
   "source": [
    "\"\"\"\n",
    "This file tests some saving an analysis one file, and running it in another.\n",
    "\n",
    "Instructions:\n",
    "1. Run this cell. \n",
    "2. Merge the two dataframes together on Key1 and Key2. \n",
    "3. Save the analysis as testing\n",
    "4. Switch to file 14.2.\n",
    "\"\"\"\n",
    "import pandas as pd\n",
    "import mitosheet\n",
    "df1 = pd.DataFrame(data={'Key1': ['A', 'B', 'C', 'D'], 'value': [1,2,3,4]})\n",
    "df2 = pd.DataFrame(data={'Key2': ['A', 'A', 'B', 'B'], 'value': [5,6,7,8]})\n",
    "mitosheet.sheet(df1, df2)"
   ]
  }
 ],
 "metadata": {
  "kernelspec": {
   "display_name": "Python 3",
   "language": "python",
   "name": "python3"
  },
  "language_info": {
   "codemirror_mode": {
    "name": "ipython",
    "version": 3
   },
   "file_extension": ".py",
   "mimetype": "text/x-python",
   "name": "python",
   "nbconvert_exporter": "python",
   "pygments_lexer": "ipython3",
   "version": "3.8.5"
  },
  "widgets": {
   "application/vnd.jupyter.widget-state+json": {
    "state": {},
    "version_major": 2,
    "version_minor": 0
   }
  }
 },
 "nbformat": 4,
 "nbformat_minor": 4
}
