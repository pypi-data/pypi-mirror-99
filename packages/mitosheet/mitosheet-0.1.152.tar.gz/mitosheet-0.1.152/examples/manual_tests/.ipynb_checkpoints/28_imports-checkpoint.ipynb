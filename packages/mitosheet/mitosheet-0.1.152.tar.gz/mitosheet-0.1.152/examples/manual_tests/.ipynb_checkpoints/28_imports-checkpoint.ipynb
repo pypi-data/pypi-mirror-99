{
 "cells": [
  {
   "cell_type": "code",
   "execution_count": null,
   "metadata": {},
   "outputs": [],
   "source": [
    "\"\"\"\n",
    "This file tests some importing with Mito, including how it interacts with \n",
    "replaying an analysis.\n",
    "\n",
    "1. Run this cell. \n",
    "2. Click the import button, and import Names1.csv using a simple import. \n",
    "3. Add a column, and set it equal to the length of Names1.csv.\n",
    "4. Repeat steps 2 and 3.\n",
    "5. Save the analysis.\n",
    "6. Get a blank sheet again, and replay the analysis. When prompted, change both of files to replay it on to Names2.csv.\n",
    "7. Check that the output is correct (has the new data).\n",
    "8. Use the Raw Python Import to import a new dataframe with the code:\n",
    "\n",
    "import pandas as pd\n",
    "Names1_csv = pd.DataFrame({'A': [123]})\n",
    "\n",
    "And the dataframe: Names1_csv\n",
    "\n",
    "9. When you click submit this should error. In the code, change Names1_csv -> df, and same in dataframes. Import. \n",
    "10. Save this analysis. Replay it. When you get the modal that pops up, it should contain your above code.\n",
    "11. Run the generated code and make sure the sheets are defined as expected.\n",
    "\"\"\"\n",
    "import mitosheet\n",
    "mitosheet.sheet()"
   ]
  }
 ],
 "metadata": {
  "kernelspec": {
   "display_name": "Python 3",
   "language": "python",
   "name": "python3"
  },
  "language_info": {
   "codemirror_mode": {
    "name": "ipython",
    "version": 3
   },
   "file_extension": ".py",
   "mimetype": "text/x-python",
   "name": "python",
   "nbconvert_exporter": "python",
   "pygments_lexer": "ipython3",
   "version": "3.8.5"
  },
  "widgets": {
   "application/vnd.jupyter.widget-state+json": {
    "state": {
     "0df127f5704a4041952ef85a3f6e8858": {
      "model_module": "@jupyter-widgets/base",
      "model_module_version": "1.2.0",
      "model_name": "LayoutModel",
      "state": {}
     },
     "1aff291bb33943d0a4733c12d6b4f4f9": {
      "model_module": "@jupyter-widgets/base",
      "model_module_version": "1.2.0",
      "model_name": "LayoutModel",
      "state": {}
     },
     "3b34f0daf1b74f8280e56dfd10a495ad": {
      "model_module": "@jupyter-widgets/base",
      "model_module_version": "1.2.0",
      "model_name": "LayoutModel",
      "state": {}
     },
     "431075a88ca448a99f7c435d1610e8e4": {
      "model_module": "mitosheet",
      "model_module_version": "^0.1.60",
      "model_name": "ExampleModel",
      "state": {
       "_model_module_version": "^0.1.60",
       "_view_module_version": "^0.1.60",
       "analysis_name": "UUID-c0d572c3-bbb4-4f68-a16d-1ce03ee3345a",
       "code_json": "{\"imports\": \"from mitosheet import *\", \"code\": [\"# Step 1\", \"import pandas as pd\", \"df = pd.DataFrame({'A': [123]})\", \"# Step 2\", \"import pandas as pd\", \"df1 = pd.DataFrame({'A': [123]})\"]}",
       "column_filters_json": "[{\"A\": {\"operator\": \"And\", \"filters\": []}}, {\"A\": {\"operator\": \"And\", \"filters\": []}}]",
       "column_spreadsheet_code_json": "[{\"A\": \"\"}, {\"A\": \"\"}]",
       "column_type_json": "[{\"A\": \"number\"}, {\"A\": \"number\"}]",
       "df_names_json": "{\"df_names\": [\"df\", \"df1\"]}",
       "df_shape_json": "[{\"rows\": 1, \"cols\": 1}, {\"rows\": 1, \"cols\": 1}]",
       "layout": "IPY_MODEL_1aff291bb33943d0a4733c12d6b4f4f9",
       "saved_analysis_names_json": "[\"28\", \"Double Import\", \"File Import Get Length\", \"File Import\", \"Testing\", \"aaa\", \"new\"]",
       "sheet_json": "[{\"columns\": [\"A\"], \"index\": [0], \"data\": [[123]]}, {\"columns\": [\"A\"], \"index\": [0], \"data\": [[123]]}]",
       "user_id": "nate",
       "value": "Hello World"
      }
     },
     "6cdd8f7e80b44919bf27ccb5d0379087": {
      "model_module": "@jupyter-widgets/base",
      "model_module_version": "1.2.0",
      "model_name": "LayoutModel",
      "state": {}
     },
     "9a8755f138cb48b99e7be6bf2c9daff0": {
      "model_module": "@jupyter-widgets/base",
      "model_module_version": "1.2.0",
      "model_name": "LayoutModel",
      "state": {}
     },
     "9fb99fd17c6743628fa2d6e7f9f443b7": {
      "model_module": "mitosheet",
      "model_module_version": "^0.1.60",
      "model_name": "ExampleModel",
      "state": {
       "_model_module_version": "^0.1.60",
       "_view_module_version": "^0.1.60",
       "analysis_name": "UUID-b5279048-b5f2-46df-965b-3adec9315f6d",
       "code_json": "{\"imports\": \"from mitosheet import *\", \"code\": [\"# Step 1\", \"import pandas as pd\", \"df = pd.DataFrame({'A': [123]})\"]}",
       "column_filters_json": "[{\"A\": {\"operator\": \"And\", \"filters\": []}}]",
       "column_spreadsheet_code_json": "[{\"A\": \"\"}]",
       "column_type_json": "[{\"A\": \"number\"}]",
       "df_names_json": "{\"df_names\": [\"df\"]}",
       "df_shape_json": "[{\"rows\": 1, \"cols\": 1}]",
       "layout": "IPY_MODEL_0df127f5704a4041952ef85a3f6e8858",
       "saved_analysis_names_json": "[\"1\", \"28\", \"Double Import\", \"File Import Get Length\", \"File Import\", \"Testing\", \"aaa\", \"new\"]",
       "sheet_json": "[{\"columns\": [\"A\"], \"index\": [0], \"data\": [[123]]}]",
       "user_id": "nate",
       "value": "Hello World"
      }
     },
     "a7c17d0b1dba414a9939d8f67c86c427": {
      "model_module": "mitosheet",
      "model_module_version": "^0.1.60",
      "model_name": "ExampleModel",
      "state": {
       "_model_module_version": "^0.1.60",
       "_view_module_version": "^0.1.60",
       "analysis_name": "UUID-9957f3b7-56ce-4dfe-9c6d-032fab5da4b4",
       "code_json": "{\"imports\": \"from mitosheet import *\", \"code\": [\"# Step 1\", \"import pandas as pd\", \"df = pd.DataFrame({'A': [123]})\"]}",
       "column_filters_json": "[{\"A\": {\"operator\": \"And\", \"filters\": []}}]",
       "column_spreadsheet_code_json": "[{\"A\": \"\"}]",
       "column_type_json": "[{\"A\": \"number\"}]",
       "df_names_json": "{\"df_names\": []}",
       "df_shape_json": "[{\"rows\": 1, \"cols\": 1}]",
       "layout": "IPY_MODEL_3b34f0daf1b74f8280e56dfd10a495ad",
       "saved_analysis_names_json": "[\"1\", \"28\", \"Double Import\", \"File Import Get Length\", \"File Import\", \"Testing\", \"aaa\", \"new\"]",
       "sheet_json": "[{\"columns\": [\"A\"], \"index\": [0], \"data\": [[123]]}]",
       "user_id": "nate",
       "value": "Hello World"
      }
     },
     "a94789e03e9c4523bd49ba74d68e907c": {
      "model_module": "mitosheet",
      "model_module_version": "^0.1.60",
      "model_name": "ExampleModel",
      "state": {
       "_model_module_version": "^0.1.60",
       "_view_module_version": "^0.1.60",
       "analysis_name": "UUID-ebc3b4cb-3454-458e-abad-b003a6396900",
       "code_json": "{\"imports\": \"from mitosheet import *\", \"code\": [\"# Step 1\", \"import pandas as pd\", \"df = pd.DataFrame({'A': [123]})\", \"# Step 2\", \"import pandas as pd\", \"df1 = pd.DataFrame({'A': [123]})\"]}",
       "column_filters_json": "[{\"A\": {\"operator\": \"And\", \"filters\": []}}, {\"A\": {\"operator\": \"And\", \"filters\": []}}]",
       "column_spreadsheet_code_json": "[{\"A\": \"\"}, {\"A\": \"\"}]",
       "column_type_json": "[{\"A\": \"number\"}, {\"A\": \"number\"}]",
       "df_names_json": "{\"df_names\": [\"df\", \"df1\"]}",
       "df_shape_json": "[{\"rows\": 1, \"cols\": 1}, {\"rows\": 1, \"cols\": 1}]",
       "layout": "IPY_MODEL_c7fa192f5adf42f6bf5d0b7b09398433",
       "saved_analysis_names_json": "[\"28\", \"Double Import\", \"File Import Get Length\", \"File Import\", \"Testing\", \"aaa\", \"new\"]",
       "sheet_json": "[{\"columns\": [\"A\"], \"index\": [0], \"data\": [[123]]}, {\"columns\": [\"A\"], \"index\": [0], \"data\": [[123]]}]",
       "user_id": "nate",
       "value": "Hello World"
      }
     },
     "c7fa192f5adf42f6bf5d0b7b09398433": {
      "model_module": "@jupyter-widgets/base",
      "model_module_version": "1.2.0",
      "model_name": "LayoutModel",
      "state": {}
     },
     "d2d36aa103ca45bbab5540d70009ddb7": {
      "model_module": "mitosheet",
      "model_module_version": "^0.1.60",
      "model_name": "ExampleModel",
      "state": {
       "_model_module_version": "^0.1.60",
       "_view_module_version": "^0.1.60",
       "analysis_name": "UUID-9569553b-1a8e-4706-8c69-57730039c79c",
       "code_json": "{\"imports\": \"from mitosheet import *\", \"code\": []}",
       "column_filters_json": "[]",
       "column_spreadsheet_code_json": "[]",
       "column_type_json": "[]",
       "df_names_json": "{\"df_names\": []}",
       "df_shape_json": "[]",
       "layout": "IPY_MODEL_9a8755f138cb48b99e7be6bf2c9daff0",
       "saved_analysis_names_json": "[\"28\", \"Double Import\", \"File Import Get Length\", \"File Import\", \"Testing\", \"aaa\", \"new\"]",
       "sheet_json": "[]",
       "user_id": "nate",
       "value": "Hello World"
      }
     },
     "fad92fbe1041456788f91778f6570e7c": {
      "model_module": "mitosheet",
      "model_module_version": "^0.1.60",
      "model_name": "ExampleModel",
      "state": {
       "_model_module_version": "^0.1.60",
       "_view_module_version": "^0.1.60",
       "analysis_name": "UUID-ccaa5980-e0c4-4e20-b636-d7738ef0719b",
       "code_json": "{\"imports\": \"from mitosheet import *\", \"code\": [\"# Step 1\", \"import pandas as pd\", \"df = pd.DataFrame({'A': [123]})\", \"# Step 2\", \"import pandas as pd\", \"df1 = pd.DataFrame({'A': [123]})\"]}",
       "column_filters_json": "[{\"A\": {\"operator\": \"And\", \"filters\": []}}, {\"A\": {\"operator\": \"And\", \"filters\": []}}]",
       "column_spreadsheet_code_json": "[{\"A\": \"\"}, {\"A\": \"\"}]",
       "column_type_json": "[{\"A\": \"number\"}, {\"A\": \"number\"}]",
       "df_names_json": "{\"df_names\": [\"df\", \"df1\"]}",
       "df_shape_json": "[{\"rows\": 1, \"cols\": 1}, {\"rows\": 1, \"cols\": 1}]",
       "layout": "IPY_MODEL_6cdd8f7e80b44919bf27ccb5d0379087",
       "saved_analysis_names_json": "[\"1\", \"28\", \"Double Import\", \"File Import Get Length\", \"File Import\", \"Testing\", \"aaa\", \"new\"]",
       "sheet_json": "[{\"columns\": [\"A\"], \"index\": [0], \"data\": [[123]]}, {\"columns\": [\"A\"], \"index\": [0], \"data\": [[123]]}]",
       "user_id": "nate",
       "value": "Hello World"
      }
     }
    },
    "version_major": 2,
    "version_minor": 0
   }
  }
 },
 "nbformat": 4,
 "nbformat_minor": 4
}
