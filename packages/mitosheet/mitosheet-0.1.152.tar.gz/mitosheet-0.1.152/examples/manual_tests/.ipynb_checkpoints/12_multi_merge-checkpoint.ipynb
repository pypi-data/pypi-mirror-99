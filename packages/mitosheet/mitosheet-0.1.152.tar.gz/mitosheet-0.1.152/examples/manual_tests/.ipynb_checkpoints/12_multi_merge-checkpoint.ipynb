{
 "cells": [
  {
   "cell_type": "code",
   "execution_count": null,
   "metadata": {},
   "outputs": [],
   "source": [
    "\"\"\"\n",
    "This file should test merging mulitple times. \n",
    "\n",
    "Instructions:\n",
    "- Run this cell. \n",
    "- Open the merge taskpane. It should not crash the sheet\n",
    "- Run the cell below. Open the merge taskpane, and change to the following merges:\n",
    "    - Merge df1, df2, on key, and keep all the values. Top row is [A, 1, 5]\n",
    "    - Switch df2 -> df3, and the new top row should be [A, 1, 9]\n",
    "    - Switch df1 -> df2, and the top row should be [A, 5, 9]\n",
    "    - Toggle to only keep values from one sheet. Use the toggle on the columns, and the toggle all. Make sure this updates in the sheet.\n",
    "\"\"\"\n",
    "import mitosheet\n",
    "mitosheet.sheet()"
   ]
  },
  {
   "cell_type": "code",
   "execution_count": null,
   "metadata": {},
   "outputs": [],
   "source": [
    "import pandas as pd\n",
    "df1 = pd.DataFrame(data={'key': ['A', 'B', 'C', 'D'], 'values_1': [1,2,3,4]})\n",
    "df2 = pd.DataFrame(data={'key': ['A', 'A', 'B', 'B'], 'values_2': [5,6,7,8]})\n",
    "df3 = pd.DataFrame(data={'key': ['A', 'A', 'B', 'B'], 'values_3': [9,10,11,12]})\n",
    "mitosheet.sheet(df1, df2, df3)"
   ]
  }
 ],
 "metadata": {
  "kernelspec": {
   "display_name": "Python 3",
   "language": "python",
   "name": "python3"
  },
  "language_info": {
   "codemirror_mode": {
    "name": "ipython",
    "version": 3
   },
   "file_extension": ".py",
   "mimetype": "text/x-python",
   "name": "python",
   "nbconvert_exporter": "python",
   "pygments_lexer": "ipython3",
   "version": "3.8.5"
  },
  "widgets": {
   "application/vnd.jupyter.widget-state+json": {
    "state": {
     "01e305c14eb24136a6d54cc3d2025f55": {
      "model_module": "mitosheet",
      "model_module_version": "^0.1.74",
      "model_name": "ExampleModel",
      "state": {
       "_model_module_version": "^0.1.74",
       "_view_module_version": "^0.1.74",
       "analysis_name": "UUID-69ab03d2-39ef-4338-b7ae-2240f7f2b489",
       "code_json": "{\"imports\": \"from mitosheet import *\", \"code\": [\"# Step 1\", \"temp_df = df3.drop_duplicates(subset='key')\", \"df4 = df3.merge(temp_df, left_on=['key'], right_on=['key'], how='left', suffixes=['_df3', '_df3_2'])\"]}",
       "column_filters_json": "[{\"key\": {\"operator\": \"And\", \"filters\": []}, \"values_1\": {\"operator\": \"And\", \"filters\": []}}, {\"key\": {\"operator\": \"And\", \"filters\": []}, \"values_2\": {\"operator\": \"And\", \"filters\": []}}, {\"key\": {\"operator\": \"And\", \"filters\": []}, \"values_3\": {\"operator\": \"And\", \"filters\": []}}, {\"key\": {\"operator\": \"And\", \"filters\": []}, \"values_3_df3\": {\"operator\": \"And\", \"filters\": []}, \"values_3_df3_2\": {\"operator\": \"And\", \"filters\": []}}]",
       "column_spreadsheet_code_json": "[{\"key\": \"\", \"values_1\": \"\"}, {\"key\": \"\", \"values_2\": \"\"}, {\"key\": \"\", \"values_3\": \"\"}, {\"key\": \"\", \"values_3_df3\": \"\", \"values_3_df3_2\": \"\"}]",
       "column_type_json": "[{\"key\": \"string\", \"values_1\": \"number\"}, {\"key\": \"string\", \"values_2\": \"number\"}, {\"key\": \"string\", \"values_3\": \"number\"}, {\"key\": \"string\", \"values_3_df3\": \"number\", \"values_3_df3_2\": \"number\"}]",
       "df_names_json": "{\"df_names\": [\"df1\", \"df2\", \"df3\", \"df4\"]}",
       "df_shape_json": "[{\"rows\": 4, \"cols\": 2}, {\"rows\": 4, \"cols\": 2}, {\"rows\": 4, \"cols\": 2}, {\"rows\": 4, \"cols\": 3}]",
       "layout": "IPY_MODEL_99240c1c2d6d43a4b5be8ca4dd5bbfa4",
       "saved_analysis_names_json": "[\"28\", \"29\", \"Dork\", \"Double Import\", \"File Import Get Length\", \"File Import\", \"Testing\", \"_8b9x4aa2m\", \"_jtip39qtx\", \"_k4ce9w8om\", \"aaa\", \"new\"]",
       "sheet_json": "[{\"columns\": [\"key\", \"values_1\"], \"index\": [0, 1, 2, 3], \"data\": [[\"A\", 1], [\"B\", 2], [\"C\", 3], [\"D\", 4]]}, {\"columns\": [\"key\", \"values_2\"], \"index\": [0, 1, 2, 3], \"data\": [[\"A\", 5], [\"A\", 6], [\"B\", 7], [\"B\", 8]]}, {\"columns\": [\"key\", \"values_3\"], \"index\": [0, 1, 2, 3], \"data\": [[\"A\", 9], [\"A\", 10], [\"B\", 11], [\"B\", 12]]}, {\"columns\": [\"key\", \"values_3_df3\", \"values_3_df3_2\"], \"index\": [0, 1, 2, 3], \"data\": [[\"A\", 9, 9], [\"A\", 10, 9], [\"B\", 11, 11], [\"B\", 12, 11]]}]",
       "user_id": "nate",
       "value": "Hello World"
      }
     },
     "106b47cf759e4f5a9da7d3852cb7897a": {
      "model_module": "@jupyter-widgets/base",
      "model_module_version": "1.2.0",
      "model_name": "LayoutModel",
      "state": {}
     },
     "6a932b4cbc404f468dbfdd8954ad1820": {
      "model_module": "@jupyter-widgets/base",
      "model_module_version": "1.2.0",
      "model_name": "LayoutModel",
      "state": {}
     },
     "83b268e5924f402087ee3f409a910b44": {
      "model_module": "mitosheet",
      "model_module_version": "^0.1.74",
      "model_name": "ExampleModel",
      "state": {
       "_model_module_version": "^0.1.74",
       "_view_module_version": "^0.1.74",
       "analysis_name": "UUID-9b6c0457-3980-4e82-af81-51d6e7f6feae",
       "code_json": "{\"imports\": \"from mitosheet import *\", \"code\": [\"# Step 1\", \"temp_df = df3.drop_duplicates(subset='key')\", \"df4 = df3.merge(temp_df, left_on=['key'], right_on=['key'], how='left', suffixes=['_df3', '_df3_2'])\"]}",
       "column_filters_json": "[{\"key\": {\"operator\": \"And\", \"filters\": []}, \"values_1\": {\"operator\": \"And\", \"filters\": []}}, {\"key\": {\"operator\": \"And\", \"filters\": []}, \"values_2\": {\"operator\": \"And\", \"filters\": []}}, {\"key\": {\"operator\": \"And\", \"filters\": []}, \"values_3\": {\"operator\": \"And\", \"filters\": []}}, {\"key\": {\"operator\": \"And\", \"filters\": []}, \"values_3_df3\": {\"operator\": \"And\", \"filters\": []}, \"values_3_df3_2\": {\"operator\": \"And\", \"filters\": []}}]",
       "column_spreadsheet_code_json": "[{\"key\": \"\", \"values_1\": \"\"}, {\"key\": \"\", \"values_2\": \"\"}, {\"key\": \"\", \"values_3\": \"\"}, {\"key\": \"\", \"values_3_df3\": \"\", \"values_3_df3_2\": \"\"}]",
       "column_type_json": "[{\"key\": \"string\", \"values_1\": \"number\"}, {\"key\": \"string\", \"values_2\": \"number\"}, {\"key\": \"string\", \"values_3\": \"number\"}, {\"key\": \"string\", \"values_3_df3\": \"number\", \"values_3_df3_2\": \"number\"}]",
       "df_names_json": "{\"df_names\": [\"df1\", \"df2\", \"df3\", \"df4\"]}",
       "df_shape_json": "[{\"rows\": 4, \"cols\": 2}, {\"rows\": 4, \"cols\": 2}, {\"rows\": 4, \"cols\": 2}, {\"rows\": 4, \"cols\": 3}]",
       "layout": "IPY_MODEL_106b47cf759e4f5a9da7d3852cb7897a",
       "saved_analysis_names_json": "[\"28\", \"29\", \"Dork\", \"Double Import\", \"File Import Get Length\", \"File Import\", \"Testing\", \"_8b9x4aa2m\", \"_jtip39qtx\", \"_k4ce9w8om\", \"aaa\", \"new\"]",
       "sheet_json": "[{\"columns\": [\"key\", \"values_1\"], \"index\": [0, 1, 2, 3], \"data\": [[\"A\", 1], [\"B\", 2], [\"C\", 3], [\"D\", 4]]}, {\"columns\": [\"key\", \"values_2\"], \"index\": [0, 1, 2, 3], \"data\": [[\"A\", 5], [\"A\", 6], [\"B\", 7], [\"B\", 8]]}, {\"columns\": [\"key\", \"values_3\"], \"index\": [0, 1, 2, 3], \"data\": [[\"A\", 9], [\"A\", 10], [\"B\", 11], [\"B\", 12]]}, {\"columns\": [\"key\", \"values_3_df3\", \"values_3_df3_2\"], \"index\": [0, 1, 2, 3], \"data\": [[\"A\", 9, 9], [\"A\", 10, 9], [\"B\", 11, 11], [\"B\", 12, 11]]}]",
       "user_id": "nate",
       "value": "Hello World"
      }
     },
     "98f6d5509bb8474c9408eda7dbbd0815": {
      "model_module": "mitosheet",
      "model_module_version": "^0.1.74",
      "model_name": "ExampleModel",
      "state": {
       "_model_module_version": "^0.1.74",
       "_view_module_version": "^0.1.74",
       "analysis_name": "UUID-82b8fa40-7f74-4b6e-9b07-7df274959c82",
       "code_json": "{\"imports\": \"from mitosheet import *\", \"code\": []}",
       "column_filters_json": "[]",
       "column_spreadsheet_code_json": "[]",
       "column_type_json": "[]",
       "df_names_json": "{\"df_names\": [\"df1\", \"df2\", \"df3\"]}",
       "df_shape_json": "[]",
       "layout": "IPY_MODEL_6a932b4cbc404f468dbfdd8954ad1820",
       "saved_analysis_names_json": "[\"28\", \"29\", \"Dork\", \"Double Import\", \"File Import Get Length\", \"File Import\", \"Testing\", \"_8b9x4aa2m\", \"_jtip39qtx\", \"_k4ce9w8om\", \"aaa\", \"new\"]",
       "sheet_json": "[]",
       "user_id": "nate",
       "value": "Hello World"
      }
     },
     "99240c1c2d6d43a4b5be8ca4dd5bbfa4": {
      "model_module": "@jupyter-widgets/base",
      "model_module_version": "1.2.0",
      "model_name": "LayoutModel",
      "state": {}
     }
    },
    "version_major": 2,
    "version_minor": 0
   }
  }
 },
 "nbformat": 4,
 "nbformat_minor": 4
}
