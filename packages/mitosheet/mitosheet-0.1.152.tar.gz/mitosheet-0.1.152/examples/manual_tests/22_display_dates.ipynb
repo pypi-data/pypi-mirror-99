{
 "cells": [
  {
   "cell_type": "code",
   "execution_count": 1,
   "metadata": {},
   "outputs": [
    {
     "data": {
      "application/vnd.jupyter.widget-view+json": {
       "model_id": "5654ba6ce8824a2fb160ec983eee2696",
       "version_major": 2,
       "version_minor": 0
      },
      "text/plain": [
       "MitoWidget(analysis_name='UUID-ee3240e7-4e4f-42e6-8d4e-e25826425074', code_json='{\"imports\": \"from mitosheet i…"
      ]
     },
     "metadata": {},
     "output_type": "display_data"
    }
   ],
   "source": [
    "\"\"\"\n",
    "This file should tests dates are displayed correctly in the sheet.\n",
    "\n",
    "Instructions:\n",
    "- Run this cell. \n",
    "- Check the dates in the sheet, and make sure they are displayed correctly (YYYY-MM-DD).\n",
    "- Add three new columns, and use the YEAR, MONTH, and DAY functions respectively to \n",
    "- Create a new column, and use the CONCAT function to get the new columns back to YYYY-MM-DD format as a string.\n",
    "- Create a final new column, and use the DATEVALUE function to return to a date (which doesn't change anything).\n",
    "- Add a new filter to the final column, getting all dates between December 1, 2001, and January 1, 2003.\n",
    "- Rename 'dob' to 'date_of_birth' and check that the column is labeled 'date_of' new line '_birth'\n",
    "- expand the column width and see it move to 'date_of_birth'\n",
    "\"\"\"\n",
    "import mitosheet\n",
    "import pandas as pd\n",
    "df = pd.DataFrame({\n",
    "    'name': ['alice','bob','charlie'],\n",
    "    'dob': ['2005-10-23','2002-10-2','2001-11-14']\n",
    "})\n",
    "df['dob'] = pd.to_datetime(df['dob'])\n",
    "mitosheet.sheet(df)"
   ]
  },
  {
   "cell_type": "code",
   "execution_count": null,
   "metadata": {},
   "outputs": [],
   "source": [
    "# MITO CODE START (DO NOT EDIT)\n",
    "# SAVED-ANALYSIS-STARTUUID-ee3240e7-4e4f-42e6-8d4e-e25826425074SAVED-ANALYSIS-END\n",
    "\n",
    "from mitosheet import *\n",
    "\n",
    "# Step 1\n",
    "\n",
    "df['C'] = df['dob']\n",
    "\n",
    "# Step 2\n",
    "\n",
    "df['D'] = df['dob'] - df['C']\n",
    "\n",
    "# Step 3\n",
    "\n",
    "df.drop('D', axis=1, inplace=True)\n",
    "\n",
    "# Step 4\n",
    "\n",
    "df['D'] = 0\n",
    "\n",
    "# Step 5\n",
    "\n",
    "df.drop('D', axis=1, inplace=True)\n",
    "\n",
    "# Step 6\n",
    "\n",
    "df.drop('C', axis=1, inplace=True)\n",
    "\n",
    "# Step 7\n",
    "\n",
    "df['C'] = 0\n",
    "\n",
    "# Step 8\n",
    "\n",
    "df['D'] = 0\n",
    "\n",
    "# Step 9\n",
    "\n",
    "df['E'] = 0\n",
    "\n",
    "# Step 10\n",
    "\n",
    "df['C'] = DAY(df['dob'])\n",
    "\n",
    "# Step 11\n",
    "\n",
    "df['D'] = MONTH(df['dob'])\n",
    "\n",
    "# Step 12\n",
    "\n",
    "df['E'] = YEAR(df['dob'])\n",
    "\n",
    "df['D'] = MONTH(df['dob'])\n",
    "\n",
    "# Step 13\n",
    "\n",
    "df['F'] = DATEVALUE(CONCAT(df['E'], \"-\", df['D'], \"-\", df['C'] - 1))\n",
    "\n",
    "# Step 14\n",
    "\n",
    "df['G'] = df['dob'] - df['F']\n",
    "  \n",
    "# MITO CODE END (DO NOT EDIT)"
   ]
  },
  {
   "cell_type": "code",
   "execution_count": null,
   "metadata": {},
   "outputs": [],
   "source": []
  },
  {
   "cell_type": "code",
   "execution_count": null,
   "metadata": {},
   "outputs": [],
   "source": []
  },
  {
   "cell_type": "code",
   "execution_count": null,
   "metadata": {},
   "outputs": [],
   "source": []
  }
 ],
 "metadata": {
  "kernelspec": {
   "display_name": "Python 3",
   "language": "python",
   "name": "python3"
  },
  "language_info": {
   "codemirror_mode": {
    "name": "ipython",
    "version": 3
   },
   "file_extension": ".py",
   "mimetype": "text/x-python",
   "name": "python",
   "nbconvert_exporter": "python",
   "pygments_lexer": "ipython3",
   "version": "3.8.5"
  },
  "widgets": {
   "application/vnd.jupyter.widget-state+json": {
    "state": {},
    "version_major": 2,
    "version_minor": 0
   }
  }
 },
 "nbformat": 4,
 "nbformat_minor": 4
}
