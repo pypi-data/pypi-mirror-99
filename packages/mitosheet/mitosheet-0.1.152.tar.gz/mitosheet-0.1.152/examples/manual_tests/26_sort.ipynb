{
 "cells": [
  {
   "cell_type": "code",
   "execution_count": 1,
   "metadata": {},
   "outputs": [
    {
     "data": {
      "application/vnd.jupyter.widget-view+json": {
       "model_id": "7ea0842f09904c1b88633ddb5b0340ad",
       "version_major": 2,
       "version_minor": 0
      },
      "text/plain": [
       "MitoWidget(analysis_name='UUID-ea001a2f-087e-4746-8194-ddb13ecbc477', code_json='{\"imports\": \"from mitosheet i…"
      ]
     },
     "metadata": {},
     "output_type": "display_data"
    }
   ],
   "source": [
    "\"\"\"\n",
    "This file should tests all the filter conditions on\n",
    "\n",
    "Instructions:\n",
    "- Run this cell. \n",
    "- For each column, sort is ascending and descending and make sure its correct\n",
    "    - Note: the mixed column should throw an 'invalid sort' error\n",
    "- Create a new column and do a rolling window reference on the Number column, to subtract one \n",
    "  row from the next row. Make sure the values are correct.\n",
    "- Check that the code is being generated and updated as you cycle through conditions.\n",
    "- Print out the resulting df and make sure it matches\n",
    "\"\"\"\n",
    "import mitosheet\n",
    "import pandas as pd\n",
    "df1 = pd.DataFrame(data={'String': [\"123\", \"1\", \"2\", \"3\", \"4\", \"5\"], \n",
    "                        'Number': [123, 1, 2, 3, 4, 5],\n",
    "                         'Date': ['2001-01-01', '2002-01-01', '2003-01-01','2004-01-01', '2005-01-01', '2006-01-01'],\n",
    "                        'Mixed': [123, \"1\", \"2\", \"3\", 4, 5]})\n",
    "\n",
    "# Actually turn the column to a datetime column\n",
    "df1['Date'] = pd.to_datetime(df1['Date'])\n",
    "\n",
    "mitosheet.sheet(df1)"
   ]
  },
  {
   "cell_type": "code",
   "execution_count": null,
   "metadata": {},
   "outputs": [],
   "source": [
    "# MITO CODE START (DO NOT EDIT)\n",
    "# SAVED-ANALYSIS-STARTUUID-ea001a2f-087e-4746-8194-ddb13ecbc477SAVED-ANALYSIS-END\n",
    "\n",
    "from mitosheet import *\n",
    "\n",
    "# Step 1\n",
    "\n",
    "df1 = df1[df1['Date'] == pd.to_datetime('2001-01-01')]\n",
    "\n",
    "df1 = df1.reset_index(drop=True)\n",
    "  \n",
    "# MITO CODE END (DO NOT EDIT)"
   ]
  },
  {
   "cell_type": "code",
   "execution_count": null,
   "metadata": {},
   "outputs": [],
   "source": []
  },
  {
   "cell_type": "code",
   "execution_count": null,
   "metadata": {},
   "outputs": [],
   "source": []
  }
 ],
 "metadata": {
  "kernelspec": {
   "display_name": "Python 3",
   "language": "python",
   "name": "python3"
  },
  "language_info": {
   "codemirror_mode": {
    "name": "ipython",
    "version": 3
   },
   "file_extension": ".py",
   "mimetype": "text/x-python",
   "name": "python",
   "nbconvert_exporter": "python",
   "pygments_lexer": "ipython3",
   "version": "3.8.5"
  },
  "widgets": {
   "application/vnd.jupyter.widget-state+json": {
    "state": {
     "7ea0842f09904c1b88633ddb5b0340ad": {
      "model_module": "mitosheet",
      "model_module_version": "^0.1.92",
      "model_name": "ExampleModel",
      "state": {
       "_model_module_version": "^0.1.92",
       "_view_module_version": "^0.1.92",
       "analysis_name": "UUID-ea001a2f-087e-4746-8194-ddb13ecbc477",
       "code_json": "{\"imports\": \"from mitosheet import *\", \"code\": [\"# Step 1\", \"df1 = df1[df1['Date'] == pd.to_datetime('2001-01-01')]\", \"df1 = df1.reset_index(drop=True)\"]}",
       "column_filters_json": "[{\"String\": {\"operator\": \"And\", \"filters\": []}, \"Number\": {\"operator\": \"And\", \"filters\": []}, \"Date\": {\"operator\": \"And\", \"filters\": [{\"type\": \"datetime\", \"condition\": \"datetime_exactly\", \"value\": \"2001-01-01\"}]}, \"Mixed\": {\"operator\": \"And\", \"filters\": []}}]",
       "column_spreadsheet_code_json": "[{\"String\": \"\", \"Number\": \"\", \"Date\": \"\", \"Mixed\": \"\"}]",
       "column_type_json": "[{\"String\": \"string\", \"Number\": \"number\", \"Date\": \"datetime\", \"Mixed\": \"string\"}]",
       "df_names_json": "{\"df_names\": [\"df1\"]}",
       "df_shape_json": "[{\"rows\": 1, \"cols\": 4}]",
       "has_rendered": true,
       "is_local_deployment": true,
       "layout": "IPY_MODEL_85556f05a48f47578778052283f94f6f",
       "saved_analysis_names_json": "[\"111\", \"1111\", \"28\", \"29\", \"Dork\", \"Sample\", \"Testing\", \"_3arkvynuo\", \"_419wxryas\", \"_461fd87s7\", \"_49hlkjtgp\", \"_7atqow0oj\", \"_88amfqk2f\", \"_8b9x4aa2m\", \"_cb27694sr\", \"_efldontof\", \"_gs9b8mudg\", \"_hexaujrz3\", \"_iu8qft83p\", \"_jqu6ydgq6\", \"_jtip39qtx\", \"_k4ce9w8om\", \"_ktv9i6xtb\", \"_nauipuq8o\", \"_nq5ctxt9m\", \"_obi4mo3a2\", \"_ojtvedr82\", \"_rqyqe9rfu\", \"_uzyu8vo18\", \"_yd64b4y4m\", \"aaa\", \"new\", \"test\"]",
       "sheet_json": "[{\"columns\": [\"String\", \"Number\", \"Date\", \"Mixed\"], \"index\": [0], \"data\": [[\"123\", 123, \"2001-01-01 00:00:00\", 123]]}]",
       "tutorial_mode": false,
       "user_id": "nate",
       "value": "Hello World"
      }
     },
     "85556f05a48f47578778052283f94f6f": {
      "model_module": "@jupyter-widgets/base",
      "model_module_version": "1.2.0",
      "model_name": "LayoutModel",
      "state": {}
     }
    },
    "version_major": 2,
    "version_minor": 0
   }
  }
 },
 "nbformat": 4,
 "nbformat_minor": 4
}
