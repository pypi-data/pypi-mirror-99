{
 "cells": [
  {
   "cell_type": "code",
   "execution_count": null,
   "metadata": {},
   "outputs": [],
   "source": [
    "\"\"\"\n",
    "This file tests where mulitple mito instances exist in the same workbook, \n",
    "and we merge them together (sucessfully!)\n",
    "\n",
    "Instructions:\n",
    "1. Run this cell.\n",
    "2. Make sure you can switch between sheets.\n",
    "3. Use the merge modal to merge the first and last sheet. The id should appear as the default options! Merge the sheets.\n",
    "4. Go to the first sheet. Add a new column, and calculate the length of the first name. Then, calculate the length of the length of the first name.\n",
    "5. Go to the second sheet. Add a new column and make a new column that is 1 if the person is a DR, and 0 otherwise.\n",
    "6. Go to the new merged sheet, and use any functions necessary to get each name in the format:\n",
    "    \n",
    "        Nate R\n",
    "        \n",
    "7. Then, edit the formulas you made in the last step to the:\n",
    "\n",
    "        NATE RUSH\n",
    "        \n",
    "8. Then, rerun this cell again. Make sure you can switch between sheets and the formulas are still defined properly.\n",
    "\"\"\"\n",
    "import mitosheet\n",
    "import pandas as pd\n",
    "first = pd.DataFrame(data={'id': [1, 2, 3], 'first_name': ['nate', 'aaron', 'jake']})\n",
    "last = pd.DataFrame(data={'id': [1, 2, 3], 'last_name': ['rush', 'Diamond-Reivich', 'diamond-reivich']})\n",
    "mitosheet.sheet(first, last)"
   ]
  }
 ],
 "metadata": {
  "kernelspec": {
   "display_name": "Python 3",
   "language": "python",
   "name": "python3"
  },
  "language_info": {
   "codemirror_mode": {
    "name": "ipython",
    "version": 3
   },
   "file_extension": ".py",
   "mimetype": "text/x-python",
   "name": "python",
   "nbconvert_exporter": "python",
   "pygments_lexer": "ipython3",
   "version": "3.8.5"
  },
  "widgets": {
   "application/vnd.jupyter.widget-state+json": {
    "state": {},
    "version_major": 2,
    "version_minor": 0
   }
  }
 },
 "nbformat": 4,
 "nbformat_minor": 4
}
