{
 "cells": [
  {
   "cell_type": "code",
   "execution_count": 1,
   "metadata": {},
   "outputs": [],
   "source": [
    "from __future__ import print_function, division"
   ]
  },
  {
   "cell_type": "markdown",
   "metadata": {},
   "source": [
    "# Basics"
   ]
  },
  {
   "cell_type": "markdown",
   "metadata": {},
   "source": [
    "The LSL interface for DR spectrometer data is similar to that of DRX but there are a few key differences because they data have already been Fourier transformed and averaged in time.\n",
    "\n",
    "First, download a snippet of DR spectrometer data:"
   ]
  },
  {
   "cell_type": "code",
   "execution_count": 1,
   "metadata": {
    "collapsed": false,
    "jupyter": {
     "outputs_hidden": false
    }
   },
   "outputs": [
    {
     "name": "stdout",
     "output_type": "stream",
     "text": [
      "DR Spectrometer Size: 1209.4 kB\n"
     ]
    }
   ],
   "source": [
    "# This may take a bit...\n",
    "import os\n",
    "try:\n",
    "    from urllib2 import urlopen\n",
    "except ImportError:\n",
    "    from urllib.request import urlopen\n",
    "from tempfile import mkdtemp\n",
    "from lsl.reader import drx\n",
    "\n",
    "TEMPDIR = mkdtemp()\n",
    "DRS_FILE = os.path.join(TEMPDIR, 'temp.drspec')\n",
    "\n",
    "fh1 = urlopen('https://lda10g.alliance.unm.edu/tutorial/B0329+54/056770_000044687')\n",
    "fh2 = open(DRS_FILE, 'wb')\n",
    "fh2.write(fh1.read(drx.FRAME_SIZE*300))\n",
    "fh1.close()\n",
    "fh2.close()\n",
    "\n",
    "print(\"DR Spectrometer Size: %.1f kB\" % (os.path.getsize(DRS_FILE)/1024.))"
   ]
  },
  {
   "cell_type": "markdown",
   "metadata": {},
   "source": [
    "The contents of the file can be found using a few of the top-level functions in the lsl.reader.drspec module:"
   ]
  },
  {
   "cell_type": "code",
   "execution_count": 2,
   "metadata": {
    "collapsed": false,
    "jupyter": {
     "outputs_hidden": false
    }
   },
   "outputs": [
    {
     "name": "stdout",
     "output_type": "stream",
     "text": [
      "Frame size: 16460 bytes\n",
      "Sample Rate: 19.6 MHz\n",
      "FFT length: 1024 channels\n",
      "-> 19.141 kHz/channel\n",
      "Linear (XX, YY, etc.)? True\n",
      "Stokes (I, V, etc.)? False\n",
      "Data products: XX, YY\n"
     ]
    }
   ],
   "source": [
    "from lsl.reader import drspec\n",
    "\n",
    "# Open the file\n",
    "fh = open(DRS_FILE, 'rb')\n",
    "\n",
    "# What is the size in bytes of each frame?\n",
    "print(\"Frame size:\", drspec.get_frame_size(fh), \"bytes\")\n",
    "\n",
    "# What is the sample rate?\n",
    "print(\"Sample Rate:\", drspec.get_sample_rate(fh)/1e6, \"MHz\")\n",
    "\n",
    "# How many frequency channels are in the data?\n",
    "print(\"FFT length:\", drspec.get_transform_size(fh), \"channels\")\n",
    "print(\"-> %.3f kHz/channel\" % (drspec.get_sample_rate(fh)/1e3/drspec.get_transform_size(fh),))\n",
    "\n",
    "# What type of data do we have?\n",
    "print(\"Linear (XX, YY, etc.)?\", drspec.is_linear(fh))\n",
    "print(\"Stokes (I, V, etc.)?\", drspec.is_stokes(fh))\n",
    "\n",
    "# What are the exact data products in the file?\n",
    "print(\"Data products:\", \", \".join(drspec.get_data_products(fh)))\n",
    "\n",
    "# Close it out\n",
    "fh.close()"
   ]
  },
  {
   "cell_type": "markdown",
   "metadata": {},
   "source": [
    "To read in a single frame, use the modules read function:"
   ]
  },
  {
   "cell_type": "code",
   "execution_count": 3,
   "metadata": {
    "collapsed": false,
    "jupyter": {
     "outputs_hidden": false
    }
   },
   "outputs": [
    {
     "name": "stdout",
     "output_type": "stream",
     "text": [
      "Beam: 2\n",
      "Timestamp: (1398276221, 0.034108066326530614)\n",
      "Tuning 1: 54.40000092983246 MHz\n",
      "Tuning 2: 73.99999976158142 MHz\n",
      " \n",
      "Transform Length: 1024\n",
      "Integration Time: 0.04012408163265306 s\n"
     ]
    }
   ],
   "source": [
    "# Open the file and read in a frame\n",
    "fh = open(DRS_FILE, 'rb')\n",
    "frame = drspec.read_frame(fh)\n",
    "\n",
    "# Load in some basic information\n",
    "beam = frame.id\n",
    "srate = frame.sample_rate\n",
    "LFFT = frame.transform_size\n",
    "tInt = frame.integration_time\n",
    "\n",
    "# Print out some basic information\n",
    "print(\"Beam:\", beam)\n",
    "print(\"Timestamp:\", frame.time)\n",
    "print(\"Tuning 1:\", frame.central_freq[0]/1e6, \"MHz\")\n",
    "print(\"Tuning 2:\", frame.central_freq[1]/1e6, \"MHz\")\n",
    "print(\" \")\n",
    "print(\"Transform Length:\", LFFT)\n",
    "print(\"Integration Time:\", tInt, \"s\")\n",
    "\n",
    "# Done\n",
    "fh.close()"
   ]
  },
  {
   "cell_type": "markdown",
   "metadata": {},
   "source": [
    "The time tags reported in the above example are in split into a two-element tuple of integer seconds and fractional seconds since the UNIX epoch.  These can be converted to Python datetime instances through:"
   ]
  },
  {
   "cell_type": "code",
   "execution_count": 4,
   "metadata": {
    "collapsed": false,
    "jupyter": {
     "outputs_hidden": false
    }
   },
   "outputs": [
    {
     "name": "stdout",
     "output_type": "stream",
     "text": [
      "Beam: 2\n",
      "Timestamp: 2014-04-23 18:03:41.034108\n",
      "Tuning 1: 54.40000092983246 MHz\n",
      "Tuning 2: 73.99999976158142 MHz\n",
      " \n",
      "Transform Length: 1024\n",
      "Integration Time: 0.04012408163265306 s\n"
     ]
    }
   ],
   "source": [
    "from datetime import datetime, timedelta\n",
    "\n",
    "# Open the file and read in a frame\n",
    "fh = open(DRS_FILE, 'rb')\n",
    "frame = drspec.read_frame(fh)\n",
    "\n",
    "# Load in some basic information\n",
    "beam = frame.id\n",
    "srate = frame.sample_rate\n",
    "LFFT = frame.transform_size\n",
    "tInt = frame.integration_time\n",
    "\n",
    "# Deal with the time\n",
    "frame_datetime = datetime.utcfromtimestamp(frame.time[0])\n",
    "frame_datetime += timedelta(microseconds=int(frame.time[1]*1e6))\n",
    "\n",
    "# Print out some basic information\n",
    "print(\"Beam:\", beam)\n",
    "print(\"Timestamp:\", frame_datetime)\n",
    "print(\"Tuning 1:\", frame.central_freq[0]/1e6, \"MHz\")\n",
    "print(\"Tuning 2:\", frame.central_freq[1]/1e6, \"MHz\")\n",
    "print(\" \")\n",
    "print(\"Transform Length:\", LFFT)\n",
    "print(\"Integration Time:\", tInt, \"s\")\n",
    "\n",
    "# Done\n",
    "fh.close()"
   ]
  },
  {
   "cell_type": "markdown",
   "metadata": {},
   "source": [
    "The data product are stored as attributes to the frame.payload object.  You can either access these directly or through Python's getattr function:"
   ]
  },
  {
   "cell_type": "code",
   "execution_count": 5,
   "metadata": {
    "collapsed": false,
    "jupyter": {
     "outputs_hidden": false
    }
   },
   "outputs": [
    {
     "name": "stdout",
     "output_type": "stream",
     "text": [
      "Tuning 1 XX mean: 27.688366\n",
      "Tuning 2 XX mean: 10.287871\n",
      " \n",
      "Tuning 1 XX standard deviation: 10.046879\n",
      "Tuning 1 YY standard deviation: 9.770033\n",
      "Tuning 2 XX standard deviation: 3.8569863\n",
      "Tuning 2 YY standard deviation: 4.119423\n"
     ]
    }
   ],
   "source": [
    "# Open the file and read in a frame\n",
    "fh = open(DRS_FILE, 'rb')\n",
    "frame = drspec.read_frame(fh)\n",
    "\n",
    "print(\"Tuning 1 XX mean:\", frame.payload.XX0.mean())\n",
    "print(\"Tuning 2 XX mean:\", frame.payload.XX1.mean())\n",
    "print(\" \")\n",
    "\n",
    "for tuning in (1, 2):\n",
    "    for prod in frame.data_products:\n",
    "        data = getattr(frame.payload, \"%s%i\" % (prod, tuning-1), None)\n",
    "        print(\"Tuning %i %s standard deviation:\" % (tuning, prod), data.std())\n",
    "\n",
    "# Done\n",
    "fh.close()"
   ]
  },
  {
   "cell_type": "markdown",
   "metadata": {},
   "source": [
    "# Plotting Spectra"
   ]
  },
  {
   "cell_type": "markdown",
   "metadata": {},
   "source": [
    "Similar to DRX data you can also plot spectra from a DR spectrometer file.  However, unlink DRX data, you do not need to make a call to SpecMaster since they data have already been transformed:"
   ]
  },
  {
   "cell_type": "code",
   "execution_count": 6,
   "metadata": {
    "collapsed": false,
    "jupyter": {
     "outputs_hidden": false
    }
   },
   "outputs": [
    {
     "data": {
      "image/png": "[encoded data removed]",
      "text/plain": [
       "<Figure size 432x288 with 1 Axes>"
      ]
     },
     "metadata": {
      "needs_background": "light"
     },
     "output_type": "display_data"
    }
   ],
   "source": [
    "%matplotlib inline\n",
    "import numpy\n",
    "from lsl.misc.mathutils import to_dB\n",
    "from matplotlib import pyplot as plt\n",
    "\n",
    "# Open the file\n",
    "fh = open(DRS_FILE, 'rb')\n",
    "\n",
    "# Create the array that will hold the data\n",
    "products = drspec.get_data_products(fh)\n",
    "nprod = len(products)*2\n",
    "nchan = drspec.get_transform_size(fh)\n",
    "data = numpy.zeros((nprod, 5, nchan), dtype=numpy.float32)\n",
    "\n",
    "# Read in the first 5 frames\n",
    "for i in range(5):\n",
    "    try:\n",
    "        frame = drspec.read_frame(fh)\n",
    "    except errors.SyncError:\n",
    "        continue\n",
    "    except errors.EOFError:\n",
    "        break\n",
    "        \n",
    "    j = 0\n",
    "    for tuning in (1, 2):\n",
    "        for prod in products:\n",
    "            data[j,i,:] = getattr(frame.payload, \"%s%i\" % (prod, tuning-1), None)\n",
    "            j += 1\n",
    "fh.close()\n",
    "\n",
    "# Integrate across the frames\n",
    "spec = data.mean(axis=1)\n",
    "\n",
    "# Compute the frequency bins\n",
    "freq = numpy.fft.fftfreq(spec.shape[1], d=1.0/frame.sample_rate)\n",
    "freq = numpy.fft.fftshift(freq)\n",
    "freq1 = freq + frame.central_freq[0]\n",
    "freq2 = freq + frame.central_freq[1]\n",
    "\n",
    "# Plot\n",
    "beam = frame.id\n",
    "\n",
    "fig = plt.figure()\n",
    "ax = fig.gca()\n",
    "for i in range(spec.shape[0]):\n",
    "    if i // len(products) == 0:\n",
    "        freq = freq1\n",
    "    else:\n",
    "        freq = freq2\n",
    "        \n",
    "    ax.plot(freq/1e6, to_dB(spec[i,:]), label='B%i,T1,%s' % (beam, products[i % len(products)]))\n",
    "ax.set_xlabel('Frequency [MHz]')\n",
    "ax.set_ylabel('PSD [arb. dB]')\n",
    "ax.legend(loc=0)\n",
    "plt.show()"
   ]
  }
 ],
 "metadata": {
  "kernelspec": {
   "display_name": "Python 3",
   "language": "python",
   "name": "python3"
  },
  "language_info": {
   "codemirror_mode": {
    "name": "ipython",
    "version": 3
   },
   "file_extension": ".py",
   "mimetype": "text/x-python",
   "name": "python",
   "nbconvert_exporter": "python",
   "pygments_lexer": "ipython3",
   "version": "3.6.9"
  }
 },
 "nbformat": 4,
 "nbformat_minor": 4
}
