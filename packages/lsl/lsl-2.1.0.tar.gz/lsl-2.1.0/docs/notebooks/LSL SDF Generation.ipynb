{
 "cells": [
  {
   "cell_type": "code",
   "execution_count": 1,
   "metadata": {},
   "outputs": [],
   "source": [
    "from __future__ import print_function"
   ]
  },
  {
   "cell_type": "markdown",
   "metadata": {},
   "source": [
    "LWA1 observation are controlled through session definition files (SDFs).  Each file contains a single session that represents one of the five DP outputs:  beams 1 through 4 and TBW/TBN.  Although each session uses a \n",
    "single output, there can be multiple observations per session.\n",
    "\n",
    "The SDF has three basic parts:\n",
    "\n",
    "1) observer information, \n",
    "\n",
    "2) project information, \n",
    "\n",
    "3) session Information, and\n",
    "\n",
    "4) Observational setup.\n",
    "\n",
    "These four parts are implemented in LSL in the lsl.common.sdf module.  \n",
    "\n",
    "To create an object to hold information about an observer:"
   ]
  },
  {
   "cell_type": "code",
   "execution_count": 2,
   "metadata": {
    "collapsed": false,
    "jupyter": {
     "outputs_hidden": false
    }
   },
   "outputs": [
    {
     "name": "stdout",
     "output_type": "stream",
     "text": [
      "<lsl.common.sdf.Observer object at 0x108f2d470>\n"
     ]
    }
   ],
   "source": [
    "from lsl.common import sdf\n",
    "\n",
    "obs = sdf.Observer(\"Jayce Dowell\", 99)\n",
    "\n",
    "print(obs)"
   ]
  },
  {
   "cell_type": "markdown",
   "metadata": {},
   "source": [
    "Once an observer is defined, you can create the objects that will hold the project information.  The only required information is the Observer object, project name, and project code."
   ]
  },
  {
   "cell_type": "code",
   "execution_count": 4,
   "metadata": {
    "collapsed": false,
    "jupyter": {
     "outputs_hidden": false
    }
   },
   "outputs": [
    {
     "name": "stdout",
     "output_type": "stream",
     "text": [
      "<lsl.common.sdf.Project object at 0x10943ae80>\n"
     ]
    }
   ],
   "source": [
    "proj = sdf.Project(obs, \"This is a LWA1 project\", \"COMJD\")\n",
    "\n",
    "print(proj)"
   ]
  },
  {
   "cell_type": "markdown",
   "metadata": {},
   "source": [
    "Next, the session needs to be created and added to the Project:"
   ]
  },
  {
   "cell_type": "code",
   "execution_count": 5,
   "metadata": {
    "collapsed": false,
    "jupyter": {
     "outputs_hidden": false
    }
   },
   "outputs": [
    {
     "name": "stdout",
     "output_type": "stream",
     "text": [
      "<lsl.common.sdf.Session object at 0x113930588>\n"
     ]
    }
   ],
   "source": [
    "ses = sdf.Session(\"This is a session\", 101)\n",
    "proj.append(ses)\n",
    "\n",
    "print(ses)"
   ]
  },
  {
   "cell_type": "markdown",
   "metadata": {},
   "source": [
    "The Session object has a variety of parameters that can be set on it that control the session-wide setup.  This includes which beam the observation runs on and whether or not the DR spectrometer is used:  To set the beam and spectrometer mode:"
   ]
  },
  {
   "cell_type": "code",
   "execution_count": 7,
   "metadata": {},
   "outputs": [],
   "source": [
    "# Set the DRX beam to 3\n",
    "ses.drx_beam = 3\n",
    "\n",
    "# Set the spectrometer setup to 1,024 channels, 768 windows per integration, and the Stokes IV mode\n",
    "ses.spectrometer_channels = 1024\n",
    "ses.spectrometer_integration = 768\n",
    "ses.spectrometer_metatag = 'Stokes=IV'"
   ]
  },
  {
   "cell_type": "markdown",
   "metadata": {},
   "source": [
    "At this point the only thing missing are the actual observations.  To define a beamforming observation that tracks a point on the sky, use the DRX object:"
   ]
  },
  {
   "cell_type": "code",
   "execution_count": 8,
   "metadata": {
    "collapsed": false,
    "jupyter": {
     "outputs_hidden": false
    }
   },
   "outputs": [
    {
     "name": "stdout",
     "output_type": "stream",
     "text": [
      "TRK_RADEC Obs. of 'Observation1':\n",
      " Start UTC 2013/01/01 18:00:00.000000\n",
      " Duration 0:10:00.000\n",
      " Filter: 7\n",
      " Frequency: 37899999.990; 74029999.992 Hz\n",
      " RA: 12.513700 hr\n",
      " Dec. 12.391100 d\n",
      "\n"
     ]
    }
   ],
   "source": [
    "radec = sdf.DRX(\"Observation1\", \"M87\", \"2013/1/1 18:00:00\", \"00:10:00.000\", \n",
    "                12.5137, 12.3911, 37.9e6, 74.03e6, 7)\n",
    "print(radec)\n",
    "\n",
    "ses.append(radec)"
   ]
  },
  {
   "cell_type": "markdown",
   "metadata": {},
   "source": [
    "The session and observation information stored within a Project can also be directly accessed:"
   ]
  },
  {
   "cell_type": "code",
   "execution_count": 9,
   "metadata": {
    "collapsed": false,
    "jupyter": {
     "outputs_hidden": false
    }
   },
   "outputs": [
    {
     "name": "stdout",
     "output_type": "stream",
     "text": [
      "Session ID: 101\n",
      "Observation ID: 0\n",
      "Is Valid? True\n",
      "TRK_RADEC Obs. of 'Observation1':\n",
      " Start UTC 2013/01/01 18:00:00.000000\n",
      " Duration 0:10:00.000\n",
      " Filter: 7\n",
      " Frequency: 37899999.990; 74029999.992 Hz\n",
      " RA: 12.513700 hr\n",
      " Dec. 12.391100 d\n",
      "\n"
     ]
    }
   ],
   "source": [
    "for session in proj.sessions:\n",
    "    print(\"Session ID:\", session.id)\n",
    "    for i,obs in enumerate(session.observations):\n",
    "        print(\"Observation ID:\", i)\n",
    "        print(\"Is Valid?\", obs.validate())\n",
    "        print(obs)"
   ]
  },
  {
   "cell_type": "markdown",
   "metadata": {},
   "source": [
    "Now all that is left is to create the SDF:"
   ]
  },
  {
   "cell_type": "code",
   "execution_count": 10,
   "metadata": {
    "collapsed": false,
    "jupyter": {
     "outputs_hidden": false
    }
   },
   "outputs": [
    {
     "name": "stdout",
     "output_type": "stream",
     "text": [
      "[20280] Validating session 1\n",
      "[20280] Validating observation 1\n",
      "PI_ID            99\n",
      "PI_NAME          Jayce Dowell\n",
      "\n",
      "PROJECT_ID       COMJD\n",
      "PROJECT_TITLE    This is a LWA1 project\n",
      "PROJECT_REMPI    None provided\n",
      "PROJECT_REMPO    None\n",
      "\n",
      "SESSION_ID       101\n",
      "SESSION_TITLE    This is a session\n",
      "SESSION_REMPI    None provided\n",
      "SESSION_REMPO    Requested data return method is DRSU\n",
      "SESSION_DRX_BEAM 3\n",
      "SESSION_SPC      1024 768{Stokes=IV}\n",
      "\n",
      "OBS_ID           1\n",
      "OBS_TITLE        Observation1\n",
      "OBS_TARGET       M87\n",
      "OBS_REMPI        None provided\n",
      "OBS_REMPO        Estimated data volume for this observation is 234.73 MB\n",
      "OBS_START_MJD    56293\n",
      "OBS_START_MPM    64800000\n",
      "OBS_START        UTC 2013/01/01 18:00:00.000000\n",
      "OBS_DUR          600000\n",
      "OBS_DUR+         0:10:00.000\n",
      "OBS_MODE         TRK_RADEC\n",
      "OBS_RA           12.513700000\n",
      "OBS_DEC          +12.391100000\n",
      "OBS_B            SIMPLE\n",
      "OBS_FREQ1        830506431\n",
      "OBS_FREQ1+       37.899999990 MHz\n",
      "OBS_FREQ2        1622226678\n",
      "OBS_FREQ2+       74.029999992 MHz\n",
      "OBS_BW           7\n",
      "OBS_BW+          19.600 MHz\n",
      "\n",
      "\n"
     ]
    }
   ],
   "source": [
    "print(proj.render(verbose=True))"
   ]
  },
  {
   "cell_type": "markdown",
   "metadata": {},
   "source": [
    "Interferometer Definition Files (IDFs) that are used for scheduling observations with the LWA single baseline interferometer work the same way.  Just import the `idf` from from `lsl.common`."
   ]
  },
  {
   "cell_type": "code",
   "execution_count": 11,
   "metadata": {},
   "outputs": [],
   "source": [
    "from lsl.common import idf"
   ]
  },
  {
   "cell_type": "markdown",
   "metadata": {},
   "source": [
    "The biggest difference between making IDFs and making SDFs is the terminology.  Instead of Sessions there are Runs and instead of Observations there are scans."
   ]
  }
 ],
 "metadata": {
  "kernelspec": {
   "display_name": "Python 3",
   "language": "python",
   "name": "python3"
  },
  "language_info": {
   "codemirror_mode": {
    "name": "ipython",
    "version": 3
   },
   "file_extension": ".py",
   "mimetype": "text/x-python",
   "name": "python",
   "nbconvert_exporter": "python",
   "pygments_lexer": "ipython3",
   "version": "3.6.10"
  }
 },
 "nbformat": 4,
 "nbformat_minor": 4
}
