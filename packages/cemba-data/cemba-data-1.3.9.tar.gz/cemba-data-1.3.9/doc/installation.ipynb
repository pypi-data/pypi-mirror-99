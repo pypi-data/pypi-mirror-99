{
 "cells": [
  {
   "cell_type": "markdown",
   "source": [
    "# Installation\n",
    "##  Setup Conda and Mapping Environment\n",
    "###  check if conda is installed\n",
    "```shell\n",
    "conda info\n",
    "```\n",
    "\n",
    "###  if not installed, install either miniconda or anaconda.\n",
    "- IMPORTANT: select python 3\n",
    "- miniconda (recommend if you don't use python a lot): https://conda.io/miniconda.html\n",
    "- anaconda (larger): https://www.anaconda.com/download/\n",
    "\n",
    "\n",
    "### Set up bioconda\n",
    "[bioconda](https://bioconda.github.io/) is a package manager for most popular biological tools, its wonderful!\n",
    "```shell\n",
    "# run these command to add bioconda into your conda channel, the order of these 3 line matters\n",
    "conda config --add channels defaults\n",
    "conda config --add channels bioconda\n",
    "conda config --add channels conda-forge\n",
    "```\n",
    "\n",
    "###  Create Mapping Environment \n",
    "you can change the name into any desired name, but python version need to be 3.7\n",
    "```shell\n",
    "conda create --name mapping python==3.7\n",
    "```\n",
    "\n",
    "### why using stand alone conda environment?\n",
    "- Using environment make sure all the mapping related package is handled by conda and pip in a stand alone place\n",
    "- It will not impact any of your other installed packages and vise versa.\n",
    "- This make sure the stability of pipeline.\n",
    "- The only drawback of using environment is **you need to activate environment every time**, because everything is only installed for that environment.\n",
    "- See [here](https://docs.conda.io/projects/conda/en/latest/user-guide/tasks/manage-environments.html) for more info about conda environment.\n",
    "\n",
    "###  activate new environment\n",
    "**remember to run this command EVERY TIME before using the pipeline.**\n",
    "\n",
    "```shell\n",
    "source activate mapping\n",
    "```"
   ],
   "metadata": {
    "collapsed": false
   }
  },
  {
   "cell_type": "markdown",
   "metadata": {},
   "source": [
    "## Install packages\n",
    "\n",
    "###  install packages into new environment\n",
    "```shell\n",
    "conda install -n mapping bedtools=2.27 bismark=0.20 bowtie2=2.3 cutadapt=1.18 fastqc=0.11 picard=2.18 samtools=1.9 htslib=1.9 pysam=0.15\n",
    "# for mCT mapping\n",
    "conda install -n mapping STAR=2.7\n",
    "\n",
    "# for generating ALLC files (single cell base level methylation table)\n",
    "# ALLCools is still in developing, right now only support install via github.\n",
    "git clone https://github.com/lhqing/ALLCools.git\n",
    "cd ALLCools\n",
    "pip install .\n",
    "```\n",
    "\n",
    "###  clone cemba-data repo and install it\n",
    "this step will take some time, a few packages will be installed into this environment\n",
    "```shell\n",
    "git clone https://github.com/lhqing/cemba_data.git\n",
    "cd cemba_data\n",
    "pip install .\n",
    "```\n",
    "\n",
    "###  test if installed correctly\n",
    "```shell\n",
    "yap -h\n",
    "```\n",
    "\n",
    "## update the package\n",
    "**Again, remember you should do this in mapping environment**\n",
    "\n",
    "```shell\n",
    "source activate mapping\n",
    "# or source activate your_environment_name\n",
    "\n",
    "cd /path/to/original/dir/you/clone/from/github/cemba_data\n",
    "git pull\n",
    "pip install .\n",
    "```"
   ]
  }
 ],
 "metadata": {
  "hide_input": false,
  "kernelspec": {
   "display_name": "Python 3",
   "language": "python",
   "name": "python3"
  },
  "language_info": {
   "codemirror_mode": {
    "name": "ipython",
    "version": 3
   },
   "file_extension": ".py",
   "mimetype": "text/x-python",
   "name": "python",
   "nbconvert_exporter": "python",
   "pygments_lexer": "ipython3",
   "version": "3.7.3"
  },
  "toc": {
   "base_numbering": 1,
   "nav_menu": {},
   "number_sections": true,
   "sideBar": true,
   "skip_h1_title": true,
   "title_cell": "Table of Contents",
   "title_sidebar": "Contents",
   "toc_cell": true,
   "toc_position": {},
   "toc_section_display": true,
   "toc_window_display": true
  },
  "varInspector": {
   "cols": {
    "lenName": 16,
    "lenType": 16,
    "lenVar": 40
   },
   "kernels_config": {
    "python": {
     "delete_cmd_postfix": "",
     "delete_cmd_prefix": "del ",
     "library": "var_list.py",
     "varRefreshCmd": "print(var_dic_list())"
    },
    "r": {
     "delete_cmd_postfix": ") ",
     "delete_cmd_prefix": "rm(",
     "library": "var_list.r",
     "varRefreshCmd": "cat(var_dic_list()) "
    }
   },
   "types_to_exclude": [
    "module",
    "function",
    "builtin_function_or_method",
    "instance",
    "_Feature"
   ],
   "window_display": false
  },
  "pycharm": {
   "stem_cell": {
    "cell_type": "raw",
    "source": [],
    "metadata": {
     "collapsed": false
    }
   }
  }
 },
 "nbformat": 4,
 "nbformat_minor": 2
}