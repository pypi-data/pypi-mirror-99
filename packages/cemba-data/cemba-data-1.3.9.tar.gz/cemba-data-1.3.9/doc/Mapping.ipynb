{
 "cells": [
  {
   "cell_type": "markdown",
   "metadata": {},
   "source": [
    "#  Mapping - Three Steps\n",
    "\n",
    "### Step 1. Prepare mapping config\n"
   ]
  },
  {
   "cell_type": "markdown",
   "metadata": {},
   "source": [
    "### Command\n",
    "```shell\n",
    "yap default-mapping-config\n",
    "```\n",
    "\n",
    "### Input\n",
    "This step take several informations related to the library to make up a mapping config file. Each information is explained below\n",
    "\n",
    "#### Mode `--mode`\n",
    "- mc for normal snmC-seq2, snmC-seq3 \n",
    "- mct for snmCT-seq, snmC2T-seq\n",
    "\n",
    "#### Barcode version `--barcode_version`\n",
    "- V1 for 8 random index\n",
    "- V2 for 384 random index\n",
    "\n",
    "#### Bismark Reference `--bismark_ref`\n",
    "Read [bismark documentation](https://rawgit.com/FelixKrueger/Bismark/master/Docs/Bismark_User_Guide.html) to prepare a **bismark-bowtie2** mapping index using the `bismark_genome_preparation` command\n",
    "\n",
    "#### Genome FASTA `--genome_fasta`\n",
    "The **SAME** fasta file you used for `bismark_genome_preparation`.\n",
    "\n",
    "#### STAR Reference (mct only) `--star_ref`\n",
    "Read [STAR documentation](https://github.com/alexdobin/STAR/blob/master/doc/STARmanual.pdf) to prepare a STAR mapping index. In addition to the FASTA file, STAR also need a GTF file. For human and mouse, [GTF from GENCODE](https://www.gencodegenes.org/) is recommended.\n",
    "\n",
    "#### GTF (mct only) `--gtf`\n",
    "The **SAME** GTF file you used for STAR index building.\n",
    "\n",
    "#### NOMe (NOMe treatment only) `--nome`\n",
    "If this library is NOMe treated, the mapping config will have two modifications in ALLC generation and mapping summary:\n",
    "    1. [callMethylation] num_upstr_bases = 1; this will record additional 1 base information before the cytosine in the mC context column of ALLC files, which allow us distinguish GpC sites.\n",
    "    2. [callMethylation] mc_stat_feature and mc_stat_alias changed; this will generate different mapping summary to calculate GpCH, HpCG, and HpCH methylation, etc.\n",
    "    \n",
    "\n",
    "### Output\n",
    "\n",
    "The mapping config generated based on input information will be printed out directly, you can redirect the output into a mapping_config.ini file, and use this file in step 2"
   ]
  },
  {
   "cell_type": "markdown",
   "metadata": {},
   "source": [
    "## Step 2 Prepare Mapping Commands\n",
    "\n",
    "\n",
    "### Command\n",
    "```shell\n",
    "yap default-mapping-config\n",
    "```\n",
    "\n",
    "### Input\n",
    "\n",
    "\n",
    "\n",
    "### Output\n",
    "\n"
   ]
  },
  {
   "cell_type": "code",
   "execution_count": null,
   "metadata": {},
   "outputs": [],
   "source": []
  },
  {
   "cell_type": "code",
   "execution_count": 3,
   "metadata": {
    "ExecuteTime": {
     "end_time": "2019-09-14T16:30:03.788652Z",
     "start_time": "2019-09-14T16:30:03.094191Z"
    }
   },
   "outputs": [
    {
     "name": "stdout",
     "output_type": "stream",
     "text": [
      "usage: yap default-mapping-config [-h] --mode {mct,mc} --barcode_version\r\n",
      "                                  {V1,V2} --bismark_ref BISMARK_REF\r\n",
      "                                  --genome_fasta GENOME_FASTA --star_ref\r\n",
      "                                  STAR_REF --gtf GTF [--nome]\r\n",
      "\r\n",
      "optional arguments:\r\n",
      "  -h, --help            show this help message and exit\r\n",
      "  --mode {mct,mc}       Library mode (default: None)\r\n",
      "  --barcode_version {V1,V2}\r\n",
      "                        Barcode version, V1 for 8 random index, V2 for 384\r\n",
      "                        random index (default: None)\r\n",
      "  --bismark_ref BISMARK_REF\r\n",
      "                        Path to the bismark reference (default: None)\r\n",
      "  --genome_fasta GENOME_FASTA\r\n",
      "                        Path to the genome fasta file (default: None)\r\n",
      "  --star_ref STAR_REF   Path to the STAR reference (default: None)\r\n",
      "  --gtf GTF             Path to the GTF annotation file (default: None)\r\n",
      "  --nome                Does this library have NOMe treatment? (default:\r\n",
      "                        False)\r\n"
     ]
    }
   ],
   "source": [
    "!yap default-mapping-config -h"
   ]
  },
  {
   "cell_type": "code",
   "execution_count": null,
   "metadata": {},
   "outputs": [],
   "source": []
  },
  {
   "cell_type": "markdown",
   "metadata": {},
   "source": [
    "## Detail mapping steps"
   ]
  },
  {
   "cell_type": "markdown",
   "metadata": {},
   "source": [
    "![Mapping Steps](files/MappingPipeline.png)"
   ]
  },
  {
   "cell_type": "markdown",
   "metadata": {},
   "source": [
    "## Output Directory Structure\n"
   ]
  },
  {
   "cell_type": "markdown",
   "metadata": {},
   "source": [
    "### Output Directory Structure\n",
    "- Each sub-directory will contain:\n",
    "    1. *.command.txt: the actual command list for generating the data file\n",
    "    2. *.records.csv: the csv file contain the output file list that should be exist after the corresponding command finishes.\n",
    "    3. data file (after execution): the actual data file will appear after command execute successfully.\n",
    "    4. *.stats.csv (after `yap mapping-summary`): the stats file for this step.\n",
    "- the qsub/ directory contains a copy of all command list as well, if using qsub mode, the qsub log file will appear in each of the sub-directory of qsub.\n",
    "- MappingSummary.csv.gz (after `yap mapping-summary`): A single flat csv file for the final cell-level summary for ALL necessary mapping stats."
   ]
  },
  {
   "cell_type": "code",
   "execution_count": 18,
   "metadata": {
    "ExecuteTime": {
     "end_time": "2019-09-14T21:19:00.816846Z",
     "start_time": "2019-09-14T21:19:00.697465Z"
    }
   },
   "outputs": [
    {
     "name": "stdout",
     "output_type": "stream",
     "text": [
      "/home/hanliu/tmp/final-bp/\r\n",
      "├── allc\r\n",
      "│   ├── generate_allc.command.txt\r\n",
      "│   ├── generate_allc.records.csv\r\n",
      "│   └── generate_allc.stats.csv\r\n",
      "├── bismark_bam\r\n",
      "│   ├── bismark_bam_qc.command.txt\r\n",
      "│   ├── bismark_bam_qc.records.csv\r\n",
      "│   ├── bismark_bam_qc.stats.csv\r\n",
      "│   ├── bismark_mapping.command.txt\r\n",
      "│   ├── bismark_mapping.records.csv\r\n",
      "│   ├── bismark_mapping.stats.csv\r\n",
      "│   ├── final_bam.command.txt\r\n",
      "│   ├── final_bam.records.csv\r\n",
      "│   ├── select_dna_reads.command.txt\r\n",
      "│   ├── select_dna_reads.records.csv\r\n",
      "│   └── select_dna_reads.stats.csv\r\n",
      "├── fastq\r\n",
      "│   ├── demultiplex.command.txt\r\n",
      "│   ├── demultiplex.records.csv\r\n",
      "│   ├── demultiplex.stats.csv\r\n",
      "│   ├── fastq_dataframe.csv\r\n",
      "│   ├── fastq_qc.command.txt\r\n",
      "│   ├── fastq_qc.records.csv\r\n",
      "│   ├── fastq_qc.stats.csv\r\n",
      "│   ├── merge_lane.command.txt\r\n",
      "│   └── merge_lane.records.csv\r\n",
      "├── MappingSummary.csv.gz\r\n",
      "└── qsub\r\n",
      "    ├── bismark_bam_allc\r\n",
      "    │   ├── allc_commands.txt\r\n",
      "    │   ├── bam_qc_commands.txt\r\n",
      "    │   ├── bismark_commands.txt\r\n",
      "    │   ├── final_bam_commands.txt\r\n",
      "    │   └── select_dna_commands.txt\r\n",
      "    └── fastq\r\n",
      "        ├── demultiplex_commands.txt\r\n",
      "        ├── fastq_qc_commands.txt\r\n",
      "        └── merge_lane_commands.txt\r\n",
      "\r\n",
      "6 directories, 32 files\r\n"
     ]
    }
   ],
   "source": [
    "!tree -d /example/output_dir/for/normal/mc/mapping/"
   ]
  },
  {
   "cell_type": "markdown",
   "metadata": {},
   "source": [
    "### mCT Library Specific Directory\n",
    "- For mCT library, there will be an additional sub-directory called \"star_bam\" in both the root output directory and qsub directory. For storing STAR mapped RNA bam file\n",
    "- The mapping summary file will also have additional fields for RNA stats and DNA, RNA selection stats."
   ]
  },
  {
   "cell_type": "code",
   "execution_count": 2,
   "metadata": {
    "ExecuteTime": {
     "end_time": "2019-09-14T21:04:56.362321Z",
     "start_time": "2019-09-14T21:04:56.244509Z"
    }
   },
   "outputs": [
    {
     "name": "stdout",
     "output_type": "stream",
     "text": [
      "/home/hanliu/tmp/final/\r\n",
      "├── allc\r\n",
      "├── bismark_bam\r\n",
      "├── fastq\r\n",
      "├── qsub\r\n",
      "│   ├── bismark_bam_allc\r\n",
      "│   ├── fastq\r\n",
      "│   └── star_bam\r\n",
      "└── star_bam\r\n",
      "\r\n",
      "8 directories\r\n"
     ]
    }
   ],
   "source": [
    "!tree -d /example/output_dir/for/mct/mapping/"
   ]
  }
 ],
 "metadata": {
  "hide_input": false,
  "kernel_info": {
   "name": "python3"
  },
  "kernelspec": {
   "display_name": "Python 3",
   "language": "python",
   "name": "python3"
  },
  "language_info": {
   "codemirror_mode": {
    "name": "ipython",
    "version": 3
   },
   "file_extension": ".py",
   "mimetype": "text/x-python",
   "name": "python",
   "nbconvert_exporter": "python",
   "pygments_lexer": "ipython3",
   "version": "3.7.6"
  },
  "nteract": {
   "version": "0.14.4"
  },
  "pycharm": {
   "stem_cell": {
    "cell_type": "raw",
    "metadata": {
     "collapsed": false
    },
    "source": []
   }
  },
  "toc": {
   "base_numbering": 1,
   "nav_menu": {},
   "number_sections": true,
   "sideBar": true,
   "skip_h1_title": false,
   "title_cell": "Table of Contents",
   "title_sidebar": "Contents",
   "toc_cell": false,
   "toc_position": {},
   "toc_section_display": true,
   "toc_window_display": false
  }
 },
 "nbformat": 4,
 "nbformat_minor": 2
}
