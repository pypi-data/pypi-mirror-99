{
 "cells": [
  {
   "cell_type": "markdown",
   "metadata": {},
   "source": [
    "# Demultiplex (start from sequencing)\n",
    "\n",
    "## Related Commands\n",
    "```shell\n",
    "# Demultiplex\n",
    "yap demultiplex\n",
    "```"
   ]
  },
  {
   "cell_type": "markdown",
   "metadata": {},
   "source": [
    "## Input of this step\n",
    "In the previous step, we generated sample sheet based on plate information file, and then used illumina bcl2fastq to demultiplex the sequencing results into **raw FASTQ file sets**. This step only demultiplexed the barcode on the illumina primers, therefore, each set of FASTQ file still contain reads mixed from multiple cells. \n",
    "\n",
    "Depending on the number of random index used in each barcode version, in V1, each set contain reads from eight cells; in V2, each set contain reads from 384 cells."
   ]
  },
  {
   "cell_type": "markdown",
   "metadata": {},
   "source": [
    "## Output of this step\n",
    "\n",
    "- This step demultiplex raw FASTQ files into single cell raw FASTQ files.\n",
    "- The random index sequence will be removed from the reads\n",
    "- Each cell will have two fastq files in the output directory, with fixed name pattern:\n",
    "    - `{cell_id}-R1.fq.gz` for R1\n",
    "    - `{cell_id}-R2.fq.gz` for R2"
   ]
  },
  {
   "cell_type": "markdown",
   "metadata": {},
   "source": [
    "## Usage"
   ]
  },
  {
   "cell_type": "code",
   "execution_count": 12,
   "metadata": {},
   "outputs": [
    {
     "name": "stdout",
     "output_type": "stream",
     "text": [
      "usage: yap demultiplex [-h] --fastq_pattern FASTQ_PATTERN --output_dir\r\n",
      "                       OUTPUT_DIR --barcode_version {V1,V2} --mode\r\n",
      "                       {mc,mct,mc2t} --cpu CPU\r\n",
      "\r\n",
      "optional arguments:\r\n",
      "  -h, --help            show this help message and exit\r\n",
      "\r\n",
      "Required inputs:\r\n",
      "  --fastq_pattern FASTQ_PATTERN\r\n",
      "                        FASTQ files with wildcard to match all bcl2fastq\r\n",
      "                        results, pattern with wildcard must be quoted.\r\n",
      "                        (default: None)\r\n",
      "  --output_dir OUTPUT_DIR\r\n",
      "                        Pipeline output directory, will be created\r\n",
      "                        recursively. (default: None)\r\n",
      "  --barcode_version {V1,V2}\r\n",
      "                        Barcode version of this library, V1 for the 8 random\r\n",
      "                        index, V2 for the 384 random index. (default: None)\r\n",
      "  --mode {mc,mct,mc2t}  Technology used in this library. (default: None)\r\n",
      "  --cpu CPU             Number of cores to use. Max is 12. (default: None)\r\n"
     ]
    }
   ],
   "source": [
    "!yap demultiplex -h"
   ]
  },
  {
   "cell_type": "markdown",
   "metadata": {},
   "source": [
    "### Notes\n",
    "- **Remember to use \"\" to quote the fastq pattern like this:\n",
    "    `--fastq_pattern` \"path/pattern/to/your/bcl2fastq/results/*fastq.gz\"**\n",
    "- An error will occor if `output_dir` already exists."
   ]
  },
  {
   "cell_type": "markdown",
   "metadata": {},
   "source": [
    "## Runtime notes for NovaSeq\n",
    "\n",
    "- This command run demultiplex directly, the runtime is roughly ~8 Gb per CPU per hour. For a typical eight-plate NovaSeq library (500GB), the runtime using 12 CPU is ~5-7 hours depending on the file system loads.\n",
    "- This command creads lots of files simutaniously, in order to prevent too much berden on the file system, I set default and max CPU = 12"
   ]
  }
 ],
 "metadata": {
  "kernelspec": {
   "display_name": "Python 3",
   "language": "python",
   "name": "python3"
  },
  "language_info": {
   "codemirror_mode": {
    "name": "ipython",
    "version": 3
   },
   "file_extension": ".py",
   "mimetype": "text/x-python",
   "name": "python",
   "nbconvert_exporter": "python",
   "pygments_lexer": "ipython3",
   "version": "3.7.6"
  }
 },
 "nbformat": 4,
 "nbformat_minor": 4
}
