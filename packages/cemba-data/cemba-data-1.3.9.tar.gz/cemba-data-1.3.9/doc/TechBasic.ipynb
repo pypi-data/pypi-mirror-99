{
 "cells": [
  {
   "cell_type": "markdown",
   "metadata": {},
   "source": [
    "# Technology Basics\n",
    "\n",
    "## What does yap do\n",
    "\n",
    "### All sequencing technologies are methylation based\n",
    "\n",
    "All the technologies covered by yap is based on snmC-seq2, here I visualized the steps and barcoding strategies we used currently in Ecker Lab for snmC-seq2. This is basically all yap mapping is based on.\n",
    "\n",
    "### Multiplex cell in preparing library\n",
    "\n",
    "When preparing library, the most important part related to mapping is the cell multiplexing:\n",
    "\n",
    "1. use random primer (inside pipeline, **index_name** corresponding to each random primer)\n",
    "2. use illumina P5/P7 primer pair (inside pipeline, **primer_name** and **uid** corresponding to each illumina P5/P7 primer pair)\n",
    "    \n",
    "### Demultiplex cell in mapping\n",
    "\n",
    "When mapping use yap (**notice the reverse order**):\n",
    "\n",
    "1. prepare samplesheet for bcl2fastq, use bcl2fastq to demultiplex illumina P5/P7 primer pair. Each result file set got a **uid**, that **uid** corresponding to the illumina primer pair throughout the pipeline.\n",
    "2. use cutadapt to demultiplex random primer. Each result file set got a **index_name**, that **index_name** corresponding to the random primer throughout the pipeline.\n",
    "3. **uid** + **index_name** uniquely determine a cell within the same pool on MiSeq or NovaSeq.\n",
    "4. After getting single cell files, yap just do mapping steps for each individual cells, and then summarize all the mapping stats for the whole library.\n",
    "\n",
    "\n",
    "## Important Reference\n",
    "\n",
    "- **snmC-seq original publication**: [Luo, Chongyuan, Christopher L. Keown, Laurie Kurihara, Jingtian Zhou, Yupeng He, Junhao Li, Rosa Castanon, et al. 2017. “Single-Cell Methylomes Identify Neuronal Subtypes and Regulatory Elements in Mammalian Cortex.” Science 357 (6351): 600–604.](http://dx.doi.org/10.1126/science.aan3351)\n",
    "- **snmC-seq2**: [Luo, Chongyuan, Angeline Rivkin, Jingtian Zhou, Justin P. Sandoval, Laurie Kurihara, Jacinta Lucero, Rosa Castanon, et al. 2018. “Robust Single-Cell DNA Methylome Profiling with snmC-seq2.” Nature Communications 9 (1): 3824.](http://dx.doi.org/10.1038/s41467-018-06355-2)\n",
    "- **snmCT-seq**: [Luo, Chongyuan, Hanqing Liu, Bang-An Wang, Anna Bartlett, Angeline Rivkin, Joseph R. Nery, and Joseph R. Ecker. 2018. “Multi-Omic Profiling of Transcriptome and DNA Methylome in Single Nuclei with Molecular Partitioning.” bioRxiv. https://doi.org/10.1101/434845.](http://dx.doi.org/10.1101/434845)\n",
    "\n",
    "\n",
    "## snmC-seq2 Library\n",
    "\n",
    "### Molecular steps\n",
    "![molecularsteps](files/molecularsteps.png)\n",
    "\n",
    "### Reads and Primer Structure\n",
    "\n",
    "![primerstructure](files/primerstructure.png)\n",
    "\n",
    "## Cell Multiplexing\n",
    "\n",
    "### V1 (8-random-index)\n",
    "\n",
    "![v1barcode](files/v1barcode.png)\n",
    "\n",
    "\n",
    "### V2 (384-random-index)\n",
    "![v2barcode](files/v2barcode.png)\n"
   ]
  }
 ],
 "metadata": {
  "hide_input": false,
  "kernel_info": {
   "name": "python3"
  },
  "kernelspec": {
   "display_name": "Python 3",
   "language": "python",
   "name": "python3"
  },
  "language_info": {
   "codemirror_mode": {
    "name": "ipython",
    "version": 3
   },
   "file_extension": ".py",
   "mimetype": "text/x-python",
   "name": "python",
   "nbconvert_exporter": "python",
   "pygments_lexer": "ipython3",
   "version": "3.7.3"
  },
  "nteract": {
   "version": "0.12.3"
  },
  "toc": {
   "base_numbering": 1,
   "nav_menu": {},
   "number_sections": true,
   "sideBar": true,
   "skip_h1_title": true,
   "title_cell": "Table of Contents",
   "title_sidebar": "Contents",
   "toc_cell": true,
   "toc_position": {},
   "toc_section_display": true,
   "toc_window_display": false
  },
  "varInspector": {
   "cols": {
    "lenName": 16,
    "lenType": 16,
    "lenVar": 40
   },
   "kernels_config": {
    "python": {
     "delete_cmd_postfix": "",
     "delete_cmd_prefix": "del ",
     "library": "var_list.py",
     "varRefreshCmd": "print(var_dic_list())"
    },
    "r": {
     "delete_cmd_postfix": ") ",
     "delete_cmd_prefix": "rm(",
     "library": "var_list.r",
     "varRefreshCmd": "cat(var_dic_list()) "
    }
   },
   "types_to_exclude": [
    "module",
    "function",
    "builtin_function_or_method",
    "instance",
    "_Feature"
   ],
   "window_display": false
  }
 },
 "nbformat": 4,
 "nbformat_minor": 2
}
