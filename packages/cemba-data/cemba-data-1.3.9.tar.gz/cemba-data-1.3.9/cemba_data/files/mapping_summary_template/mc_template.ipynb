{
 "cells": [
  {
   "cell_type": "markdown",
   "metadata": {
    "papermill": {
     "duration": 0.026726,
     "end_time": "2020-12-04T01:07:14.573670",
     "exception": false,
     "start_time": "2020-12-04T01:07:14.546944",
     "status": "completed"
    },
    "tags": []
   },
   "source": [
    "# snmC Mapping Summary\n",
    "\n",
    "This notebook provides a quick overview of some key mapping metrics. You can customize it by yourself.\n",
    "\n",
    "[**See documentation about mapping metrics here.**](https://app.gitbook.com/@hq-1/s/mc/mapping-summary-and-metrics)"
   ]
  },
  {
   "cell_type": "markdown",
   "metadata": {
    "papermill": {
     "duration": 0.028122,
     "end_time": "2020-12-04T01:07:14.626691",
     "exception": false,
     "start_time": "2020-12-04T01:07:14.598569",
     "status": "completed"
    },
    "tags": []
   },
   "source": [
    "## Parameters"
   ]
  },
  {
   "cell_type": "markdown",
   "metadata": {
    "papermill": {
     "duration": 0.023596,
     "end_time": "2020-12-04T01:07:14.673712",
     "exception": false,
     "start_time": "2020-12-04T01:07:14.650116",
     "status": "completed"
    },
    "tags": []
   },
   "source": [
    "## Prepare"
   ]
  },
  {
   "cell_type": "code",
   "execution_count": null,
   "metadata": {
    "execution": {
     "iopub.execute_input": "2020-12-04T01:07:14.726447Z",
     "iopub.status.busy": "2020-12-04T01:07:14.725779Z",
     "iopub.status.idle": "2020-12-04T01:07:14.728269Z",
     "shell.execute_reply": "2020-12-04T01:07:14.728801Z"
    },
    "papermill": {
     "duration": 0.03185,
     "end_time": "2020-12-04T01:07:14.729124",
     "exception": false,
     "start_time": "2020-12-04T01:07:14.697274",
     "status": "completed"
    },
    "tags": [
     "parameters"
    ]
   },
   "outputs": [],
   "source": [
    "output_dir = ''\n",
    "plate_col = 'Plate'\n",
    "color_quantile = (0.025, 0.975)"
   ]
  },
  {
   "cell_type": "markdown",
   "metadata": {
    "papermill": {
     "duration": 0.027164,
     "end_time": "2020-12-04T01:07:17.317119",
     "exception": false,
     "start_time": "2020-12-04T01:07:17.289955",
     "status": "completed"
    },
    "tags": []
   },
   "source": [
    "### Load"
   ]
  },
  {
   "cell_type": "code",
   "execution_count": null,
   "metadata": {
    "execution": {
     "iopub.execute_input": "2020-12-04T01:07:17.372124Z",
     "iopub.status.busy": "2020-12-04T01:07:17.371457Z",
     "iopub.status.idle": "2020-12-04T01:07:17.419469Z",
     "shell.execute_reply": "2020-12-04T01:07:17.418876Z"
    },
    "papermill": {
     "duration": 0.07803,
     "end_time": "2020-12-04T01:07:17.419631",
     "exception": false,
     "start_time": "2020-12-04T01:07:17.341601",
     "status": "completed"
    },
    "tags": []
   },
   "outputs": [],
   "source": [
    "import pathlib\n",
    "import pandas as pd\n",
    "from cemba_data.utilities import get_configuration\n",
    "\n",
    "output_dir = pathlib.Path(output_dir)\n",
    "mapping_summary = pd.read_csv(output_dir / 'stats/MappingSummary.csv.gz', index_col=0)\n",
    "config = get_configuration(output_dir / 'mapping_config.ini')"
   ]
  },
  {
   "cell_type": "code",
   "execution_count": null,
   "metadata": {
    "execution": {
     "iopub.execute_input": "2020-12-04T01:07:17.477281Z",
     "iopub.status.busy": "2020-12-04T01:07:17.476627Z",
     "iopub.status.idle": "2020-12-04T01:07:17.479757Z",
     "shell.execute_reply": "2020-12-04T01:07:17.480285Z"
    },
    "papermill": {
     "duration": 0.035608,
     "end_time": "2020-12-04T01:07:17.480448",
     "exception": false,
     "start_time": "2020-12-04T01:07:17.444840",
     "status": "completed"
    },
    "scrolled": true,
    "tags": []
   },
   "outputs": [],
   "source": [
    "mapping_summary.columns"
   ]
  },
  {
   "cell_type": "markdown",
   "metadata": {
    "papermill": {
     "duration": 0.027356,
     "end_time": "2020-12-04T01:07:14.835985",
     "exception": false,
     "start_time": "2020-12-04T01:07:14.808629",
     "status": "completed"
    },
    "tags": []
   },
   "source": [
    "### Plot"
   ]
  },
  {
   "cell_type": "code",
   "execution_count": null,
   "metadata": {
    "execution": {
     "iopub.execute_input": "2020-12-04T01:07:14.948838Z",
     "iopub.status.busy": "2020-12-04T01:07:14.948166Z",
     "iopub.status.idle": "2020-12-04T01:07:17.208896Z",
     "shell.execute_reply": "2020-12-04T01:07:17.209668Z"
    },
    "papermill": {
     "duration": 2.324274,
     "end_time": "2020-12-04T01:07:17.209883",
     "exception": false,
     "start_time": "2020-12-04T01:07:14.885609",
     "status": "completed"
    },
    "tags": []
   },
   "outputs": [],
   "source": [
    "import matplotlib.pyplot as plt\n",
    "import seaborn as sns\n",
    "from cemba_data.mapping import cutoff_vs_cell_remain, plot_on_plate\n",
    "\n",
    "\n",
    "def distplot_and_plate_view(data, hue, color_quantile=color_quantile, config=config):\n",
    "    fig1, (vmin, vmax) = cutoff_vs_cell_remain(data=data[hue].dropna(), \n",
    "                                               bins=50, kde=False,\n",
    "                                               xlim_quantile=color_quantile)\n",
    "\n",
    "    fig2, plate_names, plate_datas = plot_on_plate(\n",
    "        data=data,\n",
    "        hue=hue,\n",
    "        groupby=plate_col,\n",
    "        vmin=vmin,\n",
    "        vmax=vmax,\n",
    "        aggregation_func=lambda i: i.mean())\n",
    "    \n",
    "    fig3, ax = plt.subplots(figsize=(data[plate_col].unique().size * 2, 4))\n",
    "    plate_hue_name = 'MultiplexGroup' if config['barcode_version'] == 'V2' else 'RandomIndex'\n",
    "    sns.boxenplot(data=data, x=plate_col, y=hue, palette='hls', \n",
    "                  ax=ax, hue=plate_hue_name)\n",
    "    ax.set_ylim(vmin, vmax)\n",
    "    ax.xaxis.set_tick_params(rotation=90)\n",
    "    ax.legend(bbox_to_anchor=(1.1, 1), title=plate_hue_name)\n",
    "    sns.despine(ax=ax)\n",
    "    return"
   ]
  },
  {
   "cell_type": "code",
   "execution_count": null,
   "metadata": {
    "execution": {
     "iopub.execute_input": "2020-12-04T01:07:17.263620Z",
     "iopub.status.busy": "2020-12-04T01:07:17.262942Z",
     "iopub.status.idle": "2020-12-04T01:07:17.264922Z",
     "shell.execute_reply": "2020-12-04T01:07:17.265571Z"
    },
    "papermill": {
     "duration": 0.030684,
     "end_time": "2020-12-04T01:07:17.265731",
     "exception": false,
     "start_time": "2020-12-04T01:07:17.235047",
     "status": "completed"
    },
    "tags": []
   },
   "outputs": [],
   "source": [
    "# plot defaults\n",
    "sns.set_context(context='notebook')\n",
    "plt.rc('figure', dpi=150)"
   ]
  },
  {
   "cell_type": "markdown",
   "metadata": {
    "papermill": {
     "duration": 0.025937,
     "end_time": "2020-12-04T01:07:17.532555",
     "exception": false,
     "start_time": "2020-12-04T01:07:17.506618",
     "status": "completed"
    },
    "tags": []
   },
   "source": [
    "## Summary"
   ]
  },
  {
   "cell_type": "code",
   "execution_count": null,
   "metadata": {
    "execution": {
     "iopub.execute_input": "2020-12-04T01:07:17.590141Z",
     "iopub.status.busy": "2020-12-04T01:07:17.589462Z",
     "iopub.status.idle": "2020-12-04T01:07:17.599258Z",
     "shell.execute_reply": "2020-12-04T01:07:17.599882Z"
    },
    "papermill": {
     "duration": 0.042015,
     "end_time": "2020-12-04T01:07:17.600055",
     "exception": false,
     "start_time": "2020-12-04T01:07:17.558040",
     "status": "completed"
    },
    "tags": []
   },
   "outputs": [],
   "source": [
    "# conventional basic check, change as you need\n",
    "mccc_cutoff = 0.03\n",
    "high_mccc = mapping_summary['mCCCFrac'] > mccc_cutoff\n",
    "\n",
    "miseq_guess = mapping_summary['FinalmCReads'].mean() < 50000\n",
    "reads_cutoff = 100 if miseq_guess else 500000\n",
    "low_reads = mapping_summary['FinalmCReads'] < reads_cutoff\n",
    "\n",
    "success = ~high_mccc & ~low_reads\n",
    "n_cell = mapping_summary.shape[0]\n",
    "n_plate = mapping_summary['Plate'].unique().size\n",
    "total_wells = n_plate * 384"
   ]
  },
  {
   "cell_type": "code",
   "execution_count": null,
   "metadata": {
    "execution": {
     "iopub.execute_input": "2020-12-04T01:07:17.658227Z",
     "iopub.status.busy": "2020-12-04T01:07:17.657557Z",
     "iopub.status.idle": "2020-12-04T01:07:17.662184Z",
     "shell.execute_reply": "2020-12-04T01:07:17.662682Z"
    },
    "papermill": {
     "duration": 0.036586,
     "end_time": "2020-12-04T01:07:17.662854",
     "exception": false,
     "start_time": "2020-12-04T01:07:17.626268",
     "status": "completed"
    },
    "tags": []
   },
   "outputs": [],
   "source": [
    "print(f\"\"\"\n",
    "This library seems to be a {'MiSeq' if miseq_guess else 'NovaSeq'} library.\n",
    "\n",
    "Cells\n",
    "    {n_plate}\\t plates\n",
    "    {total_wells}\\t wells (total cell number in theory)\n",
    "\n",
    "    {n_cell} ({n_cell / total_wells * 100:.1f}%)\\t cells having mapping metric\n",
    "    {success.sum()} ({success.sum() / total_wells * 100:.1f}%)\\t cells passed basic QC (mCCC and # of final reads)\n",
    "    {high_mccc.sum()} ({high_mccc.sum() / total_wells * 100:.1f}%)\\tcells having high mCCC frac (> {mccc_cutoff})\n",
    "    {low_reads.sum()} ({low_reads.sum() / total_wells * 100:.1f}%)\\tcells having low number of final mC reads (< {reads_cutoff}).\n",
    "\n",
    "Reads\n",
    "    {mapping_summary['CellInputReadPairs'].sum()*2:.0f}\\tTotal Input Reads (R1 & R2)\n",
    "    {mapping_summary['CellInputReadPairs'].mean()*2:.0f}\\tAverage Input Reads for cells having metric (R1 & R2)\n",
    "    {mapping_summary['FinalmCReads'].sum():.0f}\\tTotal Final Reads (R1 & R2)\n",
    "    {mapping_summary['FinalmCReads'].mean():.0f}\\tAverage Final Reads for cells having metric (R1 & R2)\n",
    "\n",
    "    {mapping_summary['R1MappingRate'].mean():.1f}%\\tAverage R1 Mapping Rate for cells having metric\n",
    "    {mapping_summary['R2MappingRate'].mean():.1f}%\\tAverage R2 Mapping Rate for cells having metric\n",
    "    {mapping_summary['R1DuplicationRate'].mean() * 100:.1f}%\\tAverage R1 PCR Duplicate Rate for cells having metric\n",
    "    {mapping_summary['R2DuplicationRate'].mean() * 100:.1f}%\\tAverage R2 PCR Duplicate Rate for cells having metric\n",
    "\"\"\")"
   ]
  },
  {
   "cell_type": "markdown",
   "metadata": {
    "papermill": {
     "duration": 1.738883,
     "end_time": "2020-12-04T01:08:33.566244",
     "exception": false,
     "start_time": "2020-12-04T01:08:31.827361",
     "status": "completed"
    },
    "tags": []
   },
   "source": [
    "## Final mC Reads"
   ]
  },
  {
   "cell_type": "code",
   "execution_count": null,
   "metadata": {
    "execution": {
     "iopub.execute_input": "2020-12-04T01:08:34.733025Z",
     "iopub.status.busy": "2020-12-04T01:08:34.732294Z",
     "iopub.status.idle": "2020-12-04T01:08:43.472606Z",
     "shell.execute_reply": "2020-12-04T01:08:43.471857Z"
    },
    "papermill": {
     "duration": 9.323441,
     "end_time": "2020-12-04T01:08:43.472777",
     "exception": false,
     "start_time": "2020-12-04T01:08:34.149336",
     "status": "completed"
    },
    "tags": []
   },
   "outputs": [],
   "source": [
    "distplot_and_plate_view(mapping_summary, hue='FinalmCReads')"
   ]
  },
  {
   "cell_type": "markdown",
   "metadata": {
    "papermill": {
     "duration": 0.025567,
     "end_time": "2020-12-04T01:07:17.714656",
     "exception": false,
     "start_time": "2020-12-04T01:07:17.689089",
     "status": "completed"
    },
    "tags": []
   },
   "source": [
    "## mC Fraction\n",
    "\n",
    "### mCCC"
   ]
  },
  {
   "cell_type": "code",
   "execution_count": null,
   "metadata": {
    "execution": {
     "iopub.execute_input": "2020-12-04T01:07:17.770292Z",
     "iopub.status.busy": "2020-12-04T01:07:17.769644Z",
     "iopub.status.idle": "2020-12-04T01:07:24.133520Z",
     "shell.execute_reply": "2020-12-04T01:07:24.132970Z"
    },
    "papermill": {
     "duration": 6.39313,
     "end_time": "2020-12-04T01:07:24.133662",
     "exception": false,
     "start_time": "2020-12-04T01:07:17.740532",
     "status": "completed"
    },
    "tags": []
   },
   "outputs": [],
   "source": [
    "distplot_and_plate_view(mapping_summary, hue='mCCCFrac')"
   ]
  },
  {
   "cell_type": "markdown",
   "metadata": {
    "papermill": {
     "duration": 0.074021,
     "end_time": "2020-12-04T01:07:24.473475",
     "exception": false,
     "start_time": "2020-12-04T01:07:24.399454",
     "status": "completed"
    },
    "tags": []
   },
   "source": [
    "### mCH"
   ]
  },
  {
   "cell_type": "code",
   "execution_count": null,
   "metadata": {
    "execution": {
     "iopub.execute_input": "2020-12-04T01:07:24.635533Z",
     "iopub.status.busy": "2020-12-04T01:07:24.634972Z",
     "iopub.status.idle": "2020-12-04T01:07:32.424277Z",
     "shell.execute_reply": "2020-12-04T01:07:32.424703Z"
    },
    "papermill": {
     "duration": 7.871739,
     "end_time": "2020-12-04T01:07:32.424863",
     "exception": false,
     "start_time": "2020-12-04T01:07:24.553124",
     "status": "completed"
    },
    "tags": []
   },
   "outputs": [],
   "source": [
    "distplot_and_plate_view(mapping_summary, hue='mCHFrac')"
   ]
  },
  {
   "cell_type": "markdown",
   "metadata": {
    "papermill": {
     "duration": 0.128362,
     "end_time": "2020-12-04T01:07:32.681081",
     "exception": false,
     "start_time": "2020-12-04T01:07:32.552719",
     "status": "completed"
    },
    "tags": []
   },
   "source": [
    "### mCG"
   ]
  },
  {
   "cell_type": "code",
   "execution_count": null,
   "metadata": {
    "execution": {
     "iopub.execute_input": "2020-12-04T01:07:32.933771Z",
     "iopub.status.busy": "2020-12-04T01:07:32.933225Z",
     "iopub.status.idle": "2020-12-04T01:07:37.919656Z",
     "shell.execute_reply": "2020-12-04T01:07:37.919180Z"
    },
    "papermill": {
     "duration": 5.114501,
     "end_time": "2020-12-04T01:07:37.919793",
     "exception": false,
     "start_time": "2020-12-04T01:07:32.805292",
     "status": "completed"
    },
    "tags": []
   },
   "outputs": [],
   "source": [
    "distplot_and_plate_view(mapping_summary, hue='mCGFrac')"
   ]
  },
  {
   "cell_type": "markdown",
   "metadata": {
    "papermill": {
     "duration": 0.189802,
     "end_time": "2020-12-04T01:07:39.773677",
     "exception": false,
     "start_time": "2020-12-04T01:07:39.583875",
     "status": "completed"
    },
    "tags": []
   },
   "source": [
    "## FASTQ Metric"
   ]
  },
  {
   "cell_type": "markdown",
   "metadata": {
    "papermill": {
     "duration": 0.178988,
     "end_time": "2020-12-04T01:07:40.128129",
     "exception": false,
     "start_time": "2020-12-04T01:07:39.949141",
     "status": "completed"
    },
    "tags": []
   },
   "source": [
    "### CellInputReadPairs"
   ]
  },
  {
   "cell_type": "code",
   "execution_count": null,
   "metadata": {
    "execution": {
     "iopub.execute_input": "2020-12-04T01:07:40.488053Z",
     "iopub.status.busy": "2020-12-04T01:07:40.487510Z",
     "iopub.status.idle": "2020-12-04T01:07:46.769829Z",
     "shell.execute_reply": "2020-12-04T01:07:46.770267Z"
    },
    "papermill": {
     "duration": 6.46768,
     "end_time": "2020-12-04T01:07:46.770429",
     "exception": false,
     "start_time": "2020-12-04T01:07:40.302749",
     "status": "completed"
    },
    "tags": []
   },
   "outputs": [],
   "source": [
    "distplot_and_plate_view(mapping_summary, hue='CellInputReadPairs')"
   ]
  },
  {
   "cell_type": "markdown",
   "metadata": {
    "papermill": {
     "duration": 0.239071,
     "end_time": "2020-12-04T01:07:48.351044",
     "exception": false,
     "start_time": "2020-12-04T01:07:48.111973",
     "status": "completed"
    },
    "tags": []
   },
   "source": [
    "## Cell Barcode Portion"
   ]
  },
  {
   "cell_type": "code",
   "execution_count": null,
   "metadata": {
    "execution": {
     "iopub.execute_input": "2020-12-04T01:07:48.810924Z",
     "iopub.status.busy": "2020-12-04T01:07:48.810008Z",
     "iopub.status.idle": "2020-12-04T01:07:55.625807Z",
     "shell.execute_reply": "2020-12-04T01:07:55.626252Z"
    },
    "papermill": {
     "duration": 7.049976,
     "end_time": "2020-12-04T01:07:55.626419",
     "exception": false,
     "start_time": "2020-12-04T01:07:48.576443",
     "status": "completed"
    },
    "tags": []
   },
   "outputs": [],
   "source": [
    "distplot_and_plate_view(mapping_summary, hue='CellBarcodeRatio')"
   ]
  },
  {
   "cell_type": "markdown",
   "metadata": {
    "papermill": {
     "duration": 0.283072,
     "end_time": "2020-12-04T01:07:56.194100",
     "exception": false,
     "start_time": "2020-12-04T01:07:55.911028",
     "status": "completed"
    },
    "tags": []
   },
   "source": [
    "## Mapping Rate\n",
    "\n",
    "### R1 Mapping Rate"
   ]
  },
  {
   "cell_type": "code",
   "execution_count": null,
   "metadata": {
    "execution": {
     "iopub.execute_input": "2020-12-04T01:07:58.575304Z",
     "iopub.status.busy": "2020-12-04T01:07:58.574690Z",
     "iopub.status.idle": "2020-12-04T01:08:04.152159Z",
     "shell.execute_reply": "2020-12-04T01:08:04.151680Z"
    },
    "papermill": {
     "duration": 7.67613,
     "end_time": "2020-12-04T01:08:04.152296",
     "exception": false,
     "start_time": "2020-12-04T01:07:56.476166",
     "status": "completed"
    },
    "tags": []
   },
   "outputs": [],
   "source": [
    "distplot_and_plate_view(mapping_summary, hue='R1MappingRate')"
   ]
  },
  {
   "cell_type": "markdown",
   "metadata": {
    "papermill": {
     "duration": 0.366443,
     "end_time": "2020-12-04T01:08:04.853636",
     "exception": false,
     "start_time": "2020-12-04T01:08:04.487193",
     "status": "completed"
    },
    "tags": []
   },
   "source": [
    "### R2 Mapping Rate"
   ]
  },
  {
   "cell_type": "code",
   "execution_count": null,
   "metadata": {
    "execution": {
     "iopub.execute_input": "2020-12-04T01:08:06.814553Z",
     "iopub.status.busy": "2020-12-04T01:08:06.814003Z",
     "iopub.status.idle": "2020-12-04T01:08:13.001413Z",
     "shell.execute_reply": "2020-12-04T01:08:13.001853Z"
    },
    "papermill": {
     "duration": 7.80269,
     "end_time": "2020-12-04T01:08:13.002024",
     "exception": false,
     "start_time": "2020-12-04T01:08:05.199334",
     "status": "completed"
    },
    "scrolled": false,
    "tags": []
   },
   "outputs": [],
   "source": [
    "distplot_and_plate_view(mapping_summary, hue='R2MappingRate')"
   ]
  },
  {
   "cell_type": "markdown",
   "metadata": {
    "papermill": {
     "duration": 0.403934,
     "end_time": "2020-12-04T01:08:15.117582",
     "exception": false,
     "start_time": "2020-12-04T01:08:14.713648",
     "status": "completed"
    },
    "tags": []
   },
   "source": [
    "## PCR Duplication Rate"
   ]
  },
  {
   "cell_type": "markdown",
   "metadata": {
    "papermill": {
     "duration": 0.405083,
     "end_time": "2020-12-04T01:08:15.953437",
     "exception": false,
     "start_time": "2020-12-04T01:08:15.548354",
     "status": "completed"
    },
    "tags": []
   },
   "source": [
    "### R1 PCR Duplication Rate"
   ]
  },
  {
   "cell_type": "code",
   "execution_count": null,
   "metadata": {
    "execution": {
     "iopub.execute_input": "2020-12-04T01:08:16.743550Z",
     "iopub.status.busy": "2020-12-04T01:08:16.742552Z",
     "iopub.status.idle": "2020-12-04T01:08:22.192255Z",
     "shell.execute_reply": "2020-12-04T01:08:22.192680Z"
    },
    "papermill": {
     "duration": 5.846441,
     "end_time": "2020-12-04T01:08:22.192840",
     "exception": false,
     "start_time": "2020-12-04T01:08:16.346399",
     "status": "completed"
    },
    "tags": []
   },
   "outputs": [],
   "source": [
    "distplot_and_plate_view(mapping_summary, hue='R1DuplicationRate')"
   ]
  },
  {
   "cell_type": "markdown",
   "metadata": {
    "papermill": {
     "duration": 0.443394,
     "end_time": "2020-12-04T01:08:23.099827",
     "exception": false,
     "start_time": "2020-12-04T01:08:22.656433",
     "status": "completed"
    },
    "tags": []
   },
   "source": [
    "### R2 PCR Duplication Rate"
   ]
  },
  {
   "cell_type": "code",
   "execution_count": null,
   "metadata": {
    "execution": {
     "iopub.execute_input": "2020-12-04T01:08:24.874186Z",
     "iopub.status.busy": "2020-12-04T01:08:24.873461Z",
     "iopub.status.idle": "2020-12-04T01:08:31.355729Z",
     "shell.execute_reply": "2020-12-04T01:08:31.356163Z"
    },
    "papermill": {
     "duration": 6.908244,
     "end_time": "2020-12-04T01:08:31.356329",
     "exception": false,
     "start_time": "2020-12-04T01:08:24.448085",
     "status": "completed"
    },
    "tags": []
   },
   "outputs": [],
   "source": [
    "distplot_and_plate_view(mapping_summary, hue='R2DuplicationRate')"
   ]
  },
  {
   "cell_type": "markdown",
   "metadata": {
    "papermill": {
     "duration": 2.165662,
     "end_time": "2020-12-04T01:08:46.291385",
     "exception": false,
     "start_time": "2020-12-04T01:08:44.125723",
     "status": "completed"
    },
    "tags": []
   },
   "source": [
    "## Mapping config"
   ]
  },
  {
   "cell_type": "code",
   "execution_count": null,
   "metadata": {
    "execution": {
     "iopub.execute_input": "2020-12-04T01:08:48.934139Z",
     "iopub.status.busy": "2020-12-04T01:08:48.933458Z",
     "iopub.status.idle": "2020-12-04T01:08:48.937076Z",
     "shell.execute_reply": "2020-12-04T01:08:48.937872Z"
    },
    "papermill": {
     "duration": 0.681222,
     "end_time": "2020-12-04T01:08:48.938183",
     "exception": false,
     "start_time": "2020-12-04T01:08:48.256961",
     "status": "completed"
    },
    "pycharm": {
     "name": "#%%\n"
    },
    "tags": []
   },
   "outputs": [],
   "source": [
    "config"
   ]
  }
 ],
 "metadata": {
  "celltoolbar": "Tags",
  "hide_input": false,
  "kernelspec": {
   "display_name": "Python 3",
   "language": "python",
   "name": "python3"
  },
  "language_info": {
   "codemirror_mode": {
    "name": "ipython",
    "version": 3
   },
   "file_extension": ".py",
   "mimetype": "text/x-python",
   "name": "python",
   "nbconvert_exporter": "python",
   "pygments_lexer": "ipython3",
   "version": "3.8.5"
  },
  "papermill": {
   "duration": 101.693366,
   "end_time": "2020-12-04T01:08:54.993578",
   "environment_variables": {},
   "exception": null,
   "input_path": "/gale/netapp/home/hanliu/anaconda3/envs/apple/lib/python3.7/site-packages/cemba_data/files/mapping_summary_template/mc_template.ipynb",
   "output_path": "/gale/netapp/scratch2/hanliu/cemba_snmC-seq3/miseq/8L/stats/MappingSummary.ipynb",
   "parameters": {
    "output_dir": "/gale/netapp/scratch2/hanliu/cemba_snmC-seq3/miseq/8L"
   },
   "start_time": "2020-12-04T01:07:13.300212",
   "version": "2.1.3"
  },
  "pycharm": {
   "stem_cell": {
    "cell_type": "raw",
    "metadata": {
     "collapsed": false
    },
    "source": []
   }
  },
  "toc": {
   "base_numbering": 1,
   "nav_menu": {},
   "number_sections": true,
   "sideBar": true,
   "skip_h1_title": true,
   "title_cell": "Table of Contents",
   "title_sidebar": "Contents",
   "toc_cell": false,
   "toc_position": {},
   "toc_section_display": true,
   "toc_window_display": true
  }
 },
 "nbformat": 4,
 "nbformat_minor": 4
}
