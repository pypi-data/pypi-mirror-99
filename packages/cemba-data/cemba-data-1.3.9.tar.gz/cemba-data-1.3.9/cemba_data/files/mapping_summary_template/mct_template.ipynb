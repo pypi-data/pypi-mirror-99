{
 "cells": [
  {
   "cell_type": "markdown",
   "metadata": {
    "ExecuteTime": {
     "end_time": "2020-09-19T06:43:48.662532Z",
     "start_time": "2020-09-19T06:43:48.659841Z"
    },
    "papermill": {
     "duration": 0.014003,
     "end_time": "2020-09-19T20:14:57.925929",
     "exception": false,
     "start_time": "2020-09-19T20:14:57.911926",
     "status": "completed"
    },
    "tags": []
   },
   "source": [
    "# snmCT Mapping Summary\n",
    "\n",
    "This notebook provides a quick overview of some key mapping metrics. You can customize it by yourself.\n",
    "\n",
    "[**See documentation about mapping metrics here.**](https://app.gitbook.com/@hq-1/s/mc/mapping-summary-and-metrics)"
   ]
  },
  {
   "cell_type": "markdown",
   "metadata": {
    "papermill": {
     "duration": 0.013472,
     "end_time": "2020-09-19T20:14:57.953139",
     "exception": false,
     "start_time": "2020-09-19T20:14:57.939667",
     "status": "completed"
    },
    "tags": []
   },
   "source": [
    "## Parameters"
   ]
  },
  {
   "cell_type": "markdown",
   "metadata": {
    "papermill": {
     "duration": 0.013271,
     "end_time": "2020-09-19T20:14:57.979517",
     "exception": false,
     "start_time": "2020-09-19T20:14:57.966246",
     "status": "completed"
    },
    "tags": []
   },
   "source": [
    "## Prepare"
   ]
  },
  {
   "cell_type": "code",
   "execution_count": null,
   "metadata": {
    "execution": {
     "iopub.execute_input": "2020-09-19T20:14:58.009473Z",
     "iopub.status.busy": "2020-09-19T20:14:58.009015Z",
     "iopub.status.idle": "2020-09-19T20:14:58.010986Z",
     "shell.execute_reply": "2020-09-19T20:14:58.010518Z"
    },
    "papermill": {
     "duration": 0.018211,
     "end_time": "2020-09-19T20:14:58.011105",
     "exception": false,
     "start_time": "2020-09-19T20:14:57.992894",
     "status": "completed"
    },
    "tags": [
     "parameters"
    ]
   },
   "outputs": [],
   "source": [
    "output_dir = ''\n",
    "plate_col = 'Plate'\n",
    "color_quantile = (0.025, 0.975)"
   ]
  },
  {
   "cell_type": "markdown",
   "metadata": {
    "papermill": {
     "duration": 0.0134,
     "end_time": "2020-09-19T20:14:59.005851",
     "exception": false,
     "start_time": "2020-09-19T20:14:58.992451",
     "status": "completed"
    },
    "tags": []
   },
   "source": [
    "### Load"
   ]
  },
  {
   "cell_type": "code",
   "execution_count": null,
   "metadata": {
    "execution": {
     "iopub.execute_input": "2020-09-19T20:14:59.036864Z",
     "iopub.status.busy": "2020-09-19T20:14:59.036449Z",
     "iopub.status.idle": "2020-09-19T20:14:59.045491Z",
     "shell.execute_reply": "2020-09-19T20:14:59.045827Z"
    },
    "papermill": {
     "duration": 0.026357,
     "end_time": "2020-09-19T20:14:59.045936",
     "exception": false,
     "start_time": "2020-09-19T20:14:59.019579",
     "status": "completed"
    },
    "tags": []
   },
   "outputs": [],
   "source": [
    "import pathlib\n",
    "import pandas as pd\n",
    "from cemba_data.utilities import get_configuration\n",
    "\n",
    "output_dir = pathlib.Path(output_dir)\n",
    "mapping_summary = pd.read_csv(output_dir / 'stats/MappingSummary.csv.gz', index_col=0)\n",
    "config = get_configuration(output_dir / 'mapping_config.ini')"
   ]
  },
  {
   "cell_type": "code",
   "execution_count": null,
   "metadata": {},
   "outputs": [],
   "source": [
    "mapping_summary['CellInputReadPairs'] = mapping_summary['R1InputReads'].astype(int)  # == final_df['R2InputReads']\n",
    "cell_barcode_ratio = pd.concat([(i['CellInputReadPairs'] / i['CellInputReadPairs'].sum())\n",
    "                                    for _, i in mapping_summary.groupby('PCRIndex')])\n",
    "mapping_summary['CellBarcodeRatio'] = cell_barcode_ratio\n",
    "\n",
    "feature_count_stats = pd.read_hdf(output_dir / 'TotalRNAData.h5', key='stats')\n",
    "mapping_summary['GenesDetected'] = feature_count_stats['GenesDetected']"
   ]
  },
  {
   "cell_type": "code",
   "execution_count": null,
   "metadata": {
    "execution": {
     "iopub.execute_input": "2020-09-19T20:14:59.077627Z",
     "iopub.status.busy": "2020-09-19T20:14:59.077212Z",
     "iopub.status.idle": "2020-09-19T20:14:59.079227Z",
     "shell.execute_reply": "2020-09-19T20:14:59.079574Z"
    },
    "papermill": {
     "duration": 0.020204,
     "end_time": "2020-09-19T20:14:59.079680",
     "exception": false,
     "start_time": "2020-09-19T20:14:59.059476",
     "status": "completed"
    },
    "tags": []
   },
   "outputs": [],
   "source": [
    "mapping_summary.columns"
   ]
  },
  {
   "cell_type": "markdown",
   "metadata": {
    "papermill": {
     "duration": 0.014996,
     "end_time": "2020-09-19T20:14:58.072579",
     "exception": false,
     "start_time": "2020-09-19T20:14:58.057583",
     "status": "completed"
    },
    "tags": []
   },
   "source": [
    "### Plot"
   ]
  },
  {
   "cell_type": "code",
   "execution_count": null,
   "metadata": {
    "execution": {
     "iopub.execute_input": "2020-09-19T20:14:58.106141Z",
     "iopub.status.busy": "2020-09-19T20:14:58.105689Z",
     "iopub.status.idle": "2020-09-19T20:14:58.946244Z",
     "shell.execute_reply": "2020-09-19T20:14:58.946592Z"
    },
    "papermill": {
     "duration": 0.860039,
     "end_time": "2020-09-19T20:14:58.946741",
     "exception": false,
     "start_time": "2020-09-19T20:14:58.086702",
     "status": "completed"
    },
    "tags": []
   },
   "outputs": [],
   "source": [
    "import matplotlib.pyplot as plt\n",
    "import seaborn as sns\n",
    "from cemba_data.mapping import cutoff_vs_cell_remain, plot_on_plate\n",
    "\n",
    "\n",
    "def distplot_and_plate_view(data, hue, color_quantile=color_quantile, config=config):\n",
    "    fig1, (vmin, vmax) = cutoff_vs_cell_remain(data=data[hue].dropna(), \n",
    "                                               bins=50, kde=False,\n",
    "                                               xlim_quantile=color_quantile)\n",
    "\n",
    "    fig2, plate_names, plate_datas = plot_on_plate(\n",
    "        data=data,\n",
    "        hue=hue,\n",
    "        groupby=plate_col,\n",
    "        vmin=vmin,\n",
    "        vmax=vmax,\n",
    "        aggregation_func=lambda i: i.mean())\n",
    "    \n",
    "    fig3, ax = plt.subplots(figsize=(data[plate_col].unique().size * 2, 4))\n",
    "    plate_hue_name = 'MultiplexGroup' if config['barcode_version'] == 'V2' else 'RandomIndex'\n",
    "    sns.boxenplot(data=data, x=plate_col, y=hue, palette='hls', \n",
    "                  ax=ax, hue=plate_hue_name)\n",
    "    ax.set_ylim(vmin, vmax)\n",
    "    ax.xaxis.set_tick_params(rotation=90)\n",
    "    ax.legend(bbox_to_anchor=(1.1, 1), title=plate_hue_name)\n",
    "    sns.despine(ax=ax)\n",
    "    return"
   ]
  },
  {
   "cell_type": "code",
   "execution_count": null,
   "metadata": {
    "execution": {
     "iopub.execute_input": "2020-09-19T20:14:58.977308Z",
     "iopub.status.busy": "2020-09-19T20:14:58.976881Z",
     "iopub.status.idle": "2020-09-19T20:14:58.978705Z",
     "shell.execute_reply": "2020-09-19T20:14:58.978345Z"
    },
    "papermill": {
     "duration": 0.018323,
     "end_time": "2020-09-19T20:14:58.978799",
     "exception": false,
     "start_time": "2020-09-19T20:14:58.960476",
     "status": "completed"
    },
    "tags": []
   },
   "outputs": [],
   "source": [
    "# plot defaults\n",
    "sns.set_context(context='notebook')\n",
    "plt.rc('figure', dpi=150)"
   ]
  },
  {
   "cell_type": "markdown",
   "metadata": {
    "papermill": {
     "duration": 0.014476,
     "end_time": "2020-09-19T20:14:59.241523",
     "exception": false,
     "start_time": "2020-09-19T20:14:59.227047",
     "status": "completed"
    },
    "tags": []
   },
   "source": [
    "## Summary"
   ]
  },
  {
   "cell_type": "code",
   "execution_count": null,
   "metadata": {
    "execution": {
     "iopub.execute_input": "2020-09-19T20:14:59.275031Z",
     "iopub.status.busy": "2020-09-19T20:14:59.274561Z",
     "iopub.status.idle": "2020-09-19T20:14:59.446405Z",
     "shell.execute_reply": "2020-09-19T20:14:59.445868Z"
    },
    "papermill": {
     "duration": 0.19087,
     "end_time": "2020-09-19T20:14:59.446550",
     "exception": true,
     "start_time": "2020-09-19T20:14:59.255680",
     "status": "failed"
    },
    "tags": []
   },
   "outputs": [],
   "source": [
    "# conventional basic check, change as you need\n",
    "mccc_cutoff = 0.03\n",
    "high_mccc = mapping_summary['mCCCFrac'] > mccc_cutoff\n",
    "\n",
    "miseq_guess = mapping_summary['FinalDNAReads'].mean() < 50000\n",
    "reads_cutoff = 100 if miseq_guess else 500000\n",
    "low_reads = mapping_summary['FinalDNAReads'] < reads_cutoff\n",
    "\n",
    "success = ~high_mccc & ~low_reads\n",
    "n_cell = mapping_summary.shape[0]\n",
    "n_plate = mapping_summary['Plate'].unique().size\n",
    "total_wells = n_plate * 384"
   ]
  },
  {
   "cell_type": "code",
   "execution_count": null,
   "metadata": {
    "papermill": {
     "duration": null,
     "end_time": null,
     "exception": null,
     "start_time": null,
     "status": "pending"
    },
    "tags": []
   },
   "outputs": [],
   "source": [
    "print(f\"\"\"\n",
    "This library seems to be a {'MiSeq' if miseq_guess else 'NovaSeq'} library.\n",
    "\n",
    "Cells\n",
    "    {n_plate}\\t plates\n",
    "    {total_wells}\\t wells (total cell number in theory)\n",
    "\n",
    "    {n_cell} ({n_cell / total_wells * 100:.1f}%)\\t cells having mapping metric\n",
    "    {success.sum()} ({success.sum() / total_wells * 100:.1f}%)\\t cells passed basic QC (mCCC and # of final reads)\n",
    "    {high_mccc.sum()} ({high_mccc.sum() / total_wells * 100:.1f}%)\\tcells having high mCCC frac (> {mccc_cutoff})\n",
    "    {low_reads.sum()} ({low_reads.sum() / total_wells * 100:.1f}%)\\tcells having low number of final mC reads (< {reads_cutoff}).\n",
    "\n",
    "Reads\n",
    "    {mapping_summary['CellInputReadPairs'].sum()*2:.0f}\\tTotal Input Reads (R1 & R2)\n",
    "    {mapping_summary['CellInputReadPairs'].mean()*2:.0f}\\tAverage Input Reads for cells having metric (R1 & R2)\n",
    "    \n",
    "    {mapping_summary['FinalDNAReads'].sum():.0f}\\tTotal Final DNA Reads (R1 & R2)\n",
    "    {mapping_summary['FinalDNAReads'].mean():.0f}\\tAverage Final DNA Reads for cells having metric (R1 & R2)\n",
    "    {mapping_summary['FinalRNAReads'].sum():.0f}\\tTotal Final RNA Reads (R1)\n",
    "    {mapping_summary['FinalRNAReads'].mean():.0f}\\tAverage Final RNA Reads for cells having metric (R1)\n",
    "    {mapping_summary['GenesDetected'].mean():.0f}\\tAverage Genes Detected for cells having metric (R1)\n",
    "\n",
    "    {mapping_summary['R1MappingRate'].mean():.1f}%\\tAverage R1 Bismark Mapping Rate for cells having metric\n",
    "    {mapping_summary['R2MappingRate'].mean():.1f}%\\tAverage R2 Bismark Mapping Rate for cells having metric\n",
    "    {mapping_summary['R1DuplicationRate'].mean() * 100:.1f}%\\tAverage R1 PCR Duplicate Rate for cells having metric\n",
    "    {mapping_summary['R2DuplicationRate'].mean() * 100:.1f}%\\tAverage R2 PCR Duplicate Rate for cells having metric\n",
    "\"\"\")"
   ]
  },
  {
   "cell_type": "markdown",
   "metadata": {
    "papermill": {
     "duration": null,
     "end_time": null,
     "exception": null,
     "start_time": null,
     "status": "pending"
    },
    "tags": []
   },
   "source": [
    "## mC Fraction\n",
    "\n",
    "### mCCC"
   ]
  },
  {
   "cell_type": "code",
   "execution_count": null,
   "metadata": {
    "papermill": {
     "duration": null,
     "end_time": null,
     "exception": null,
     "start_time": null,
     "status": "pending"
    },
    "tags": []
   },
   "outputs": [],
   "source": [
    "distplot_and_plate_view(mapping_summary, hue='mCCCFrac')"
   ]
  },
  {
   "cell_type": "markdown",
   "metadata": {
    "ExecuteTime": {
     "end_time": "2020-09-19T06:46:57.783339Z",
     "start_time": "2020-09-19T06:46:57.781357Z"
    },
    "papermill": {
     "duration": null,
     "end_time": null,
     "exception": null,
     "start_time": null,
     "status": "pending"
    },
    "tags": []
   },
   "source": [
    "### mCH"
   ]
  },
  {
   "cell_type": "code",
   "execution_count": null,
   "metadata": {
    "papermill": {
     "duration": null,
     "end_time": null,
     "exception": null,
     "start_time": null,
     "status": "pending"
    },
    "tags": []
   },
   "outputs": [],
   "source": [
    "distplot_and_plate_view(mapping_summary, hue='mCHFrac')"
   ]
  },
  {
   "cell_type": "markdown",
   "metadata": {
    "papermill": {
     "duration": null,
     "end_time": null,
     "exception": null,
     "start_time": null,
     "status": "pending"
    },
    "tags": []
   },
   "source": [
    "### mCG"
   ]
  },
  {
   "cell_type": "code",
   "execution_count": null,
   "metadata": {
    "papermill": {
     "duration": null,
     "end_time": null,
     "exception": null,
     "start_time": null,
     "status": "pending"
    },
    "tags": []
   },
   "outputs": [],
   "source": [
    "distplot_and_plate_view(mapping_summary, hue='mCGFrac')"
   ]
  },
  {
   "cell_type": "markdown",
   "metadata": {
    "papermill": {
     "duration": null,
     "end_time": null,
     "exception": null,
     "start_time": null,
     "status": "pending"
    },
    "tags": []
   },
   "source": [
    "## FASTQ Metric"
   ]
  },
  {
   "cell_type": "markdown",
   "metadata": {
    "papermill": {
     "duration": null,
     "end_time": null,
     "exception": null,
     "start_time": null,
     "status": "pending"
    },
    "tags": []
   },
   "source": [
    "### CellInputReadPairs"
   ]
  },
  {
   "cell_type": "code",
   "execution_count": null,
   "metadata": {
    "papermill": {
     "duration": null,
     "end_time": null,
     "exception": null,
     "start_time": null,
     "status": "pending"
    },
    "tags": []
   },
   "outputs": [],
   "source": [
    "distplot_and_plate_view(mapping_summary, hue='CellInputReadPairs')"
   ]
  },
  {
   "cell_type": "markdown",
   "metadata": {
    "papermill": {
     "duration": null,
     "end_time": null,
     "exception": null,
     "start_time": null,
     "status": "pending"
    },
    "tags": []
   },
   "source": [
    "### Cell Barcode Portion"
   ]
  },
  {
   "cell_type": "code",
   "execution_count": null,
   "metadata": {
    "papermill": {
     "duration": null,
     "end_time": null,
     "exception": null,
     "start_time": null,
     "status": "pending"
    },
    "tags": []
   },
   "outputs": [],
   "source": [
    "distplot_and_plate_view(mapping_summary, hue='CellBarcodeRatio')"
   ]
  },
  {
   "cell_type": "markdown",
   "metadata": {
    "papermill": {
     "duration": null,
     "end_time": null,
     "exception": null,
     "start_time": null,
     "status": "pending"
    },
    "tags": []
   },
   "source": [
    "## Mapping Rate\n",
    "\n",
    "### R1 Bismark Mapping Rate"
   ]
  },
  {
   "cell_type": "code",
   "execution_count": null,
   "metadata": {
    "papermill": {
     "duration": null,
     "end_time": null,
     "exception": null,
     "start_time": null,
     "status": "pending"
    },
    "tags": []
   },
   "outputs": [],
   "source": [
    "distplot_and_plate_view(mapping_summary, hue='R1MappingRate')"
   ]
  },
  {
   "cell_type": "markdown",
   "metadata": {
    "papermill": {
     "duration": null,
     "end_time": null,
     "exception": null,
     "start_time": null,
     "status": "pending"
    },
    "tags": []
   },
   "source": [
    "### R2 Bismark Mapping Rate"
   ]
  },
  {
   "cell_type": "code",
   "execution_count": null,
   "metadata": {
    "papermill": {
     "duration": null,
     "end_time": null,
     "exception": null,
     "start_time": null,
     "status": "pending"
    },
    "scrolled": true,
    "tags": []
   },
   "outputs": [],
   "source": [
    "distplot_and_plate_view(mapping_summary, hue='R2MappingRate')"
   ]
  },
  {
   "cell_type": "markdown",
   "metadata": {
    "papermill": {
     "duration": null,
     "end_time": null,
     "exception": null,
     "start_time": null,
     "status": "pending"
    },
    "tags": []
   },
   "source": [
    "## PCR Duplication Rate"
   ]
  },
  {
   "cell_type": "markdown",
   "metadata": {
    "papermill": {
     "duration": null,
     "end_time": null,
     "exception": null,
     "start_time": null,
     "status": "pending"
    },
    "tags": []
   },
   "source": [
    "### R1 PCR Duplication Rate"
   ]
  },
  {
   "cell_type": "code",
   "execution_count": null,
   "metadata": {
    "papermill": {
     "duration": null,
     "end_time": null,
     "exception": null,
     "start_time": null,
     "status": "pending"
    },
    "tags": []
   },
   "outputs": [],
   "source": [
    "distplot_and_plate_view(mapping_summary, hue='R1DuplicationRate')"
   ]
  },
  {
   "cell_type": "markdown",
   "metadata": {
    "papermill": {
     "duration": null,
     "end_time": null,
     "exception": null,
     "start_time": null,
     "status": "pending"
    },
    "tags": []
   },
   "source": [
    "### R2 PCR Duplication Rate"
   ]
  },
  {
   "cell_type": "code",
   "execution_count": null,
   "metadata": {
    "papermill": {
     "duration": null,
     "end_time": null,
     "exception": null,
     "start_time": null,
     "status": "pending"
    },
    "tags": []
   },
   "outputs": [],
   "source": [
    "distplot_and_plate_view(mapping_summary, hue='R2DuplicationRate')"
   ]
  },
  {
   "cell_type": "markdown",
   "metadata": {
    "papermill": {
     "duration": null,
     "end_time": null,
     "exception": null,
     "start_time": null,
     "status": "pending"
    },
    "tags": []
   },
   "source": [
    "## Final Reads\n",
    "\n",
    "### DNA (mC) Reads"
   ]
  },
  {
   "cell_type": "code",
   "execution_count": null,
   "metadata": {
    "papermill": {
     "duration": null,
     "end_time": null,
     "exception": null,
     "start_time": null,
     "status": "pending"
    },
    "tags": []
   },
   "outputs": [],
   "source": [
    "distplot_and_plate_view(mapping_summary, hue='FinalDNAReads')"
   ]
  },
  {
   "cell_type": "markdown",
   "metadata": {},
   "source": [
    "### RNA Reads (R1)"
   ]
  },
  {
   "cell_type": "code",
   "execution_count": null,
   "metadata": {},
   "outputs": [],
   "source": [
    "distplot_and_plate_view(mapping_summary, hue='FinalRNAReads')"
   ]
  },
  {
   "cell_type": "markdown",
   "metadata": {},
   "source": [
    "### Genes Detected"
   ]
  },
  {
   "cell_type": "code",
   "execution_count": null,
   "metadata": {},
   "outputs": [],
   "source": [
    "distplot_and_plate_view(mapping_summary, hue='GenesDetected')"
   ]
  },
  {
   "cell_type": "markdown",
   "metadata": {
    "papermill": {
     "duration": null,
     "end_time": null,
     "exception": null,
     "start_time": null,
     "status": "pending"
    },
    "tags": []
   },
   "source": [
    "## Mapping config"
   ]
  },
  {
   "cell_type": "code",
   "execution_count": null,
   "metadata": {
    "papermill": {
     "duration": null,
     "end_time": null,
     "exception": null,
     "start_time": null,
     "status": "pending"
    },
    "tags": []
   },
   "outputs": [],
   "source": [
    "config"
   ]
  }
 ],
 "metadata": {
  "hide_input": false,
  "kernelspec": {
   "display_name": "Python 3",
   "language": "python",
   "name": "python3"
  },
  "language_info": {
   "codemirror_mode": {
    "name": "ipython",
    "version": 3
   },
   "file_extension": ".py",
   "mimetype": "text/x-python",
   "name": "python",
   "nbconvert_exporter": "python",
   "pygments_lexer": "ipython3",
   "version": "3.8.5"
  },
  "papermill": {
   "duration": 4.057424,
   "end_time": "2020-09-19T20:15:00.991436",
   "environment_variables": {},
   "exception": true,
   "input_path": "/home/hanliu/miniconda3/envs/apple/lib/python3.7/site-packages/cemba_data/files/mapping_summary_template/mct_template.ipynb",
   "output_path": "/home/hanliu/project/mapping_example/miseq_mapping/mCT-V1/stats/MappingSummary.ipynb",
   "parameters": {
    "output_dir": "/home/hanliu/project/mapping_example/miseq_mapping/mCT-V1"
   },
   "start_time": "2020-09-19T20:14:56.934012",
   "version": "2.1.3"
  },
  "pycharm": {
   "stem_cell": {
    "cell_type": "raw",
    "metadata": {
     "collapsed": false
    },
    "source": []
   }
  },
  "toc": {
   "base_numbering": 1,
   "nav_menu": {},
   "number_sections": true,
   "sideBar": true,
   "skip_h1_title": true,
   "title_cell": "Table of Contents",
   "title_sidebar": "Contents",
   "toc_cell": false,
   "toc_position": {
    "height": "calc(100% - 180px)",
    "left": "10px",
    "top": "150px",
    "width": "499.594px"
   },
   "toc_section_display": true,
   "toc_window_display": true
  }
 },
 "nbformat": 4,
 "nbformat_minor": 4
}
