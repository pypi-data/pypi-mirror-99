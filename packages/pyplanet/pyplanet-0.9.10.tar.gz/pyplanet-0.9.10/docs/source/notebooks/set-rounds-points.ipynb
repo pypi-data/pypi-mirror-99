{
 "cells": [
  {
   "cell_type": "code",
   "execution_count": 1,
   "metadata": {
    "collapsed": true
   },
   "outputs": [
    {
     "data": {
      "text/plain": [
       "'settings'"
      ]
     },
     "execution_count": 1,
     "metadata": {},
     "output_type": "execute_result"
    }
   ],
   "source": [
    "import pyplanet\n",
    "import os\n",
    "from pyplanet.core.instance import Controller\n",
    "\n",
    "os.environ.setdefault('PYPLANET_SETTINGS_MODULE', 'settings')"
   ]
  },
  {
   "cell_type": "code",
   "execution_count": 2,
   "metadata": {},
   "outputs": [],
   "source": [
    "instance = Controller.prepare('test2').instance"
   ]
  },
  {
   "cell_type": "code",
   "execution_count": 3,
   "metadata": {},
   "outputs": [],
   "source": [
    "instance.start(run_forever=False)\n",
    "\n",
    "loop = instance.loop"
   ]
  },
  {
   "cell_type": "code",
   "execution_count": 4,
   "metadata": {},
   "outputs": [
    {
     "data": {
      "text/plain": [
       "True"
      ]
     },
     "execution_count": 4,
     "metadata": {},
     "output_type": "execute_result"
    }
   ],
   "source": [
    "loop.run_until_complete(instance.gbx.script('Trackmania.ForceEndRound', response_id=False))"
   ]
  },
  {
   "cell_type": "code",
   "execution_count": 5,
   "metadata": {
    "collapsed": false
   },
   "outputs": [
    {
     "data": {
      "text/plain": [
       "{'pointsrepartition': [25, 20, 15],\n 'responseid': '26f9e701c076493cbe7e7cfd574fa049'}"
      ]
     },
     "execution_count": 5,
     "metadata": {},
     "output_type": "execute_result"
    }
   ],
   "source": [
    "loop.run_until_complete(instance.mode_manager.set_next_script('Rounds.Script.txt'))\n",
    "try:\n",
    "\tloop.run_until_complete(instance.mode_manager.update_settings({'S_WarmUpNb': 0}))\n",
    "except:\n",
    "\tpass\n",
    "\n",
    "\n",
    "loop.run_until_complete(instance.gbx.script(\n",
    "\t'Trackmania.SetPointsRepartition',\n",
    "\t'25', '20', '15',\n",
    "\tencode_json=False, response_id=False\n",
    "))\n",
    "\n",
    "loop.run_until_complete(instance.gbx.script(\n",
    "\t'Trackmania.GetPointsRepartition',\n",
    "\tresponse_id=True\n",
    "))"
   ]
  },
  {
   "cell_type": "code",
   "execution_count": null,
   "metadata": {},
   "outputs": [],
   "source": [
    ""
   ]
  }
 ],
 "metadata": {
  "kernelspec": {
   "display_name": "Python 3",
   "language": "python",
   "name": "python3"
  },
  "language_info": {
   "codemirror_mode": {
    "name": "ipython",
    "version": 3.0
   },
   "file_extension": ".py",
   "mimetype": "text/x-python",
   "name": "python",
   "nbconvert_exporter": "python",
   "pygments_lexer": "ipython3",
   "version": "3.5.2"
  }
 },
 "nbformat": 4,
 "nbformat_minor": 0
}