{
 "cells": [
  {
   "cell_type": "markdown",
   "metadata": {},
   "source": [
    "# Introduction"
   ]
  },
  {
   "cell_type": "code",
   "execution_count": 3,
   "metadata": {
    "scrolled": true
   },
   "outputs": [
    {
     "data": {
      "application/vnd.jupyter.widget-view+json": {
       "model_id": "e2bb83efc6a54c5099307fd1c1d5f390",
       "version_major": 2,
       "version_minor": 0
      },
      "text/plain": [
       "QuizWidget(quiz_id='__ipyquiz_quiz_id', value=[{'id': 'fill-1', 'type': 'FILL', 'title': '学习是系统通过____提升性能的过程。'…"
      ]
     },
     "metadata": {},
     "output_type": "display_data"
    }
   ],
   "source": [
    "import ipyquiz\n",
    "quizzes = []\n",
    "quizzes.append({\n",
    "    \"id\": \"fill-1\",\n",
    "    \"type\": \"FILL\",\n",
    "    \"title\": \"学习是系统通过____提升性能的过程。\",\n",
    "    \"answer\": \"经验\",\n",
    "    \"size\": \"large\"\n",
    "})\n",
    "ipyquiz.QuizWidget(value=quizzes, quiz_id=\"__ipyquiz_quiz_id\")"
   ]
  }
 ],
 "metadata": {
  "kernelspec": {
   "display_name": "Python 3",
   "language": "python",
   "name": "python3"
  },
  "language_info": {
   "codemirror_mode": {
    "name": "ipython",
    "version": 3
   },
   "file_extension": ".py",
   "mimetype": "text/x-python",
   "name": "python",
   "nbconvert_exporter": "python",
   "pygments_lexer": "ipython3",
   "version": "3.8.3"
  },
  "widgets": {
   "application/vnd.jupyter.widget-state+json": {
    "state": {
     "03c8dc58eb6248c49347f6715bcc105e": {
      "model_module": "@jupyter-widgets/base",
      "model_module_version": "1.2.0",
      "model_name": "LayoutModel",
      "state": {}
     },
     "083c93cf53bc4d9caa3b4f319d667d49": {
      "model_module": "@jupyter-widgets/base",
      "model_module_version": "1.2.0",
      "model_name": "LayoutModel",
      "state": {}
     },
     "1b73e311ca534afc8745a87c64b95596": {
      "model_module": "ipyquiz",
      "model_module_version": "^0.1.0",
      "model_name": "QuizModel",
      "state": {
       "_model_module_version": "^0.1.0",
       "_view_module_version": "^0.1.0",
       "layout": "IPY_MODEL_083c93cf53bc4d9caa3b4f319d667d49",
       "userAnswer": [
        {
         "answer": "0",
         "id": "1"
        },
        {
         "answer": "0",
         "id": "2"
        },
        {
         "answer": [
          "as"
         ],
         "id": "fill-1"
        }
       ],
       "value": [
        {
         "answer": "1",
         "id": "1",
         "options": [
          {
           "text": "发现数据的基本原理，利用原理进行服务。",
           "value": "0"
          },
          {
           "text": "搜集数据，对数据进行处理。",
           "value": "1"
          }
         ],
         "title": "什么是数据科学$a+b$",
         "type": "SELECT"
        },
        {
         "answer": "1",
         "hint": "预测型学习是根据数据来预测需要的特定输出，强化学习属于决策型机器学习，在动态环境中采取行动。",
         "id": "2",
         "options": [
          {
           "text": "监督学习",
           "value": "0"
          },
          {
           "text": "无监督学习",
           "value": "1"
          },
          {
           "text": "强化学习",
           "value": "2"
          }
         ],
         "title": "预测型学习是根据数据来预测需要的特定输出，强化学习属于决策型机器学习，在动态环境中采取行动。",
         "type": "SELECT"
        },
        {
         "answer": "经验",
         "id": "fill-1",
         "title": "学习是系统通过____提升性能的过程。",
         "type": "FILL"
        }
       ]
      }
     },
     "1d7b4fe921c646af864b6de8c33dff20": {
      "model_module": "ipyquiz",
      "model_module_version": "^0.1.0",
      "model_name": "QuizModel",
      "state": {
       "_model_module_version": "^0.1.0",
       "_view_module_version": "^0.1.0",
       "layout": "IPY_MODEL_412b0ce159984463b4909b4066363553",
       "value": [
        {
         "id": "1",
         "options": [
          {
           "text": "发现数据的基本原理，利用原理进行服务。",
           "value": "0"
          },
          {
           "text": "搜集数据，对数据进行处理。",
           "value": "1"
          }
         ],
         "title": "什么是数据科学$a+b$",
         "type": "SELECT"
        },
        {
         "answer": "经验",
         "id": "2",
         "title": "学习是系统通过____提升性能的过程。",
         "type": "FILL"
        }
       ]
      }
     },
     "2d464332740e4f199d2e76587eac9ce5": {
      "model_module": "@jupyter-widgets/base",
      "model_module_version": "1.2.0",
      "model_name": "LayoutModel",
      "state": {}
     },
     "412b0ce159984463b4909b4066363553": {
      "model_module": "@jupyter-widgets/base",
      "model_module_version": "1.2.0",
      "model_name": "LayoutModel",
      "state": {}
     },
     "43fa324164214ac5bfdd8e644b6f9eb1": {
      "model_module": "ipyquiz",
      "model_module_version": "^0.1.0",
      "model_name": "QuizModel",
      "state": {
       "_model_module_version": "^0.1.0",
       "_view_module_version": "^0.1.0",
       "layout": "IPY_MODEL_2d464332740e4f199d2e76587eac9ce5",
       "value": [
        {
         "answer": "1",
         "id": "1",
         "options": [
          {
           "text": "发现数据的基本原理，利用原理进行服务。",
           "value": "0"
          },
          {
           "text": "搜集数据，对数据进行处理。",
           "value": "1"
          }
         ],
         "title": "什么是数据科学$a+b$",
         "type": "SELECT"
        },
        {
         "answer": "1",
         "id": "2",
         "options": [
          {
           "text": "监督学习",
           "value": "0"
          },
          {
           "text": "无监督学习",
           "value": "1"
          },
          {
           "text": "强化学习",
           "value": "2"
          }
         ],
         "title": "预测型学习是根据数据来预测需要的特定输出，强化学习属于决策型机器学习，在动态环境中采取行动。",
         "type": "SELECT"
        },
        {
         "answer": "经验",
         "id": "fill-1",
         "title": "学习是系统通过____提升性能的过程。",
         "type": "FILL"
        }
       ]
      }
     },
     "4d3a835f5c5d4a3e908940a2c79ea63c": {
      "model_module": "@jupyter-widgets/base",
      "model_module_version": "1.2.0",
      "model_name": "LayoutModel",
      "state": {}
     },
     "8f276c054ad24083ab263573b0111aea": {
      "model_module": "@jupyter-widgets/base",
      "model_module_version": "1.2.0",
      "model_name": "LayoutModel",
      "state": {}
     },
     "9cec18becfc74ca5810c207de2b979dc": {
      "model_module": "@jupyter-widgets/base",
      "model_module_version": "1.2.0",
      "model_name": "LayoutModel",
      "state": {}
     },
     "a044a2b4629b49c4a09511e99d229cc3": {
      "model_module": "ipyquiz",
      "model_module_version": "^0.1.0",
      "model_name": "QuizModel",
      "state": {
       "_model_module_version": "^0.1.0",
       "_view_module_version": "^0.1.0",
       "layout": "IPY_MODEL_03c8dc58eb6248c49347f6715bcc105e",
       "value": [
        {
         "id": "1",
         "options": [
          {
           "text": "发现数据的基本原理，利用原理进行服务。",
           "value": "0"
          },
          {
           "text": "搜集数据，对数据进行处理。",
           "value": "1"
          }
         ],
         "title": "什么是数据科学$a+b$",
         "type": "SELECT"
        },
        {
         "id": "2",
         "title": "学习是系统通过____提升性能的过程。",
         "type": "FILL"
        }
       ]
      }
     },
     "a4f4271eb0a042fd9ac46eda190d0402": {
      "model_module": "ipyquiz",
      "model_module_version": "^0.1.0",
      "model_name": "QuizModel",
      "state": {
       "_model_module_version": "^0.1.0",
       "_view_module_version": "^0.1.0",
       "layout": "IPY_MODEL_fa99ddfd78f74745b3e55f26e868e0fe",
       "value": [
        {
         "id": "1",
         "title": "什么是数据科学$a+b$",
         "type": "SELECT"
        }
       ]
      }
     },
     "b3b03e4b1cf44ac792882601bf50662e": {
      "model_module": "ipyquiz",
      "model_module_version": "^0.1.0",
      "model_name": "QuizModel",
      "state": {
       "_model_module_version": "^0.1.0",
       "_view_module_version": "^0.1.0",
       "layout": "IPY_MODEL_8f276c054ad24083ab263573b0111aea",
       "value": [
        {
         "id": "1",
         "options": [
          {
           "text": "发现数据的基本原理，利用原理进行服务。",
           "value": "0"
          },
          {
           "text": "搜集数据，对数据进行处理。",
           "value": "1"
          }
         ],
         "title": "什么是数据科学$a+b$",
         "type": "SELECT"
        },
        {
         "id": "2",
         "title": "学习是系统通过____提升性能的过程。",
         "type": "FILL"
        }
       ]
      }
     },
     "cfbd9d0e241a4ff1849ace94e6095fe0": {
      "model_module": "ipyquiz",
      "model_module_version": "^0.1.0",
      "model_name": "QuizModel",
      "state": {
       "_model_module_version": "^0.1.0",
       "_view_module_version": "^0.1.0",
       "layout": "IPY_MODEL_f3bdde3f46534c579cbcc96499f94698",
       "value": [
        {
         "id": "1",
         "title": "什么是数据科学$a+b$",
         "type": "SELECT"
        }
       ]
      }
     },
     "d0bbb5b894cd427e85a22559960a5ee9": {
      "model_module": "ipyquiz",
      "model_module_version": "^0.1.0",
      "model_name": "QuizModel",
      "state": {
       "_model_module_version": "^0.1.0",
       "_view_module_version": "^0.1.0",
       "layout": "IPY_MODEL_d2abb28f5feb428a9090dfc86b82ea49",
       "value": [
        {
         "id": "1",
         "options": [
          {
           "text": "发现数据的基本原理，利用原理进行服务。",
           "value": "0"
          },
          {
           "text": "搜集数据，对数据进行处理。",
           "value": "1"
          }
         ],
         "title": "什么是数据科学$a+b$",
         "type": "SELECT"
        },
        {
         "id": "2",
         "options": [
          {
           "text": "监督学习",
           "value": "0"
          },
          {
           "text": "无监督学习",
           "value": "1"
          },
          {
           "text": "强化学习",
           "value": "2"
          }
         ],
         "title": "预测型学习是根据数据来预测需要的特定输出，强化学习属于决策型机器学习，在动态环境中采取行动。",
         "type": "SELECT"
        },
        {
         "answer": "经验",
         "id": "fill-1",
         "title": "学习是系统通过____提升性能的过程。",
         "type": "FILL"
        }
       ]
      }
     },
     "d2abb28f5feb428a9090dfc86b82ea49": {
      "model_module": "@jupyter-widgets/base",
      "model_module_version": "1.2.0",
      "model_name": "LayoutModel",
      "state": {}
     },
     "d3090b41fd1b42f7a30bb46dcd25b3aa": {
      "model_module": "@jupyter-widgets/base",
      "model_module_version": "1.2.0",
      "model_name": "LayoutModel",
      "state": {}
     },
     "dc8eefb7e8b14a39b797976675d8200a": {
      "model_module": "ipyquiz",
      "model_module_version": "^0.1.0",
      "model_name": "QuizModel",
      "state": {
       "_model_module_version": "^0.1.0",
       "_view_module_version": "^0.1.0",
       "layout": "IPY_MODEL_d3090b41fd1b42f7a30bb46dcd25b3aa",
       "value": [
        {
         "id": "1",
         "title": "什么是数据科学",
         "type": "SELECT"
        }
       ]
      }
     },
     "e1ef5b08831048fdaab4d065df8edd9b": {
      "model_module": "ipyquiz",
      "model_module_version": "^0.1.0",
      "model_name": "QuizModel",
      "state": {
       "_model_module_version": "^0.1.0",
       "_view_module_version": "^0.1.0",
       "layout": "IPY_MODEL_4d3a835f5c5d4a3e908940a2c79ea63c",
       "value": [
        {
         "id": "1",
         "options": [
          {
           "text": "发现数据的基本原理，利用原理进行服务。",
           "value": "0"
          },
          {
           "text": "搜集数据，对数据进行处理。",
           "value": "1"
          }
         ],
         "title": "什么是数据科学$a+b$",
         "type": "SELECT"
        },
        {
         "answer": [
          "经验"
         ],
         "id": "2",
         "title": "学习是系统通过____提升性能的过程。",
         "type": "FILL"
        }
       ]
      }
     },
     "f289b3992727431c9dd856b51c59e9e0": {
      "model_module": "ipyquiz",
      "model_module_version": "^0.1.0",
      "model_name": "QuizModel",
      "state": {
       "_model_module_version": "^0.1.0",
       "_view_module_version": "^0.1.0",
       "layout": "IPY_MODEL_9cec18becfc74ca5810c207de2b979dc",
       "value": [
        {
         "id": "1",
         "options": [
          {
           "text": "发现数据的基本原理，利用原理进行服务。",
           "value": "0"
          },
          {
           "text": "搜集数据，对数据进行处理。",
           "value": "1"
          }
         ],
         "title": "什么是数据科学$a+b$",
         "type": "SELECT"
        }
       ]
      }
     },
     "f3bdde3f46534c579cbcc96499f94698": {
      "model_module": "@jupyter-widgets/base",
      "model_module_version": "1.2.0",
      "model_name": "LayoutModel",
      "state": {}
     },
     "fa99ddfd78f74745b3e55f26e868e0fe": {
      "model_module": "@jupyter-widgets/base",
      "model_module_version": "1.2.0",
      "model_name": "LayoutModel",
      "state": {}
     }
    },
    "version_major": 2,
    "version_minor": 0
   }
  }
 },
 "nbformat": 4,
 "nbformat_minor": 2
}
