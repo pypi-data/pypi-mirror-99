{
 "cells": [
  {
   "cell_type": "code",
   "execution_count": 53,
   "metadata": {
    "collapsed": true
   },
   "outputs": [],
   "source": [
    "import numpy as np\n",
    "import matplotlib.pyplot as plt\n",
    "\n",
    "from objects import *\n",
    "\n",
    "%matplotlib inline"
   ]
  },
  {
   "cell_type": "code",
   "execution_count": 54,
   "metadata": {
    "collapsed": true
   },
   "outputs": [],
   "source": [
    "f = D('test_data/STD-3.csv')"
   ]
  },
  {
   "cell_type": "code",
   "execution_count": 62,
   "metadata": {
    "collapsed": true
   },
   "outputs": [],
   "source": [
    "do = f.rawdata\n",
    "do['Al27'][100] = 0.0\n",
    "d = do.copy()"
   ]
  },
  {
   "cell_type": "code",
   "execution_count": 64,
   "metadata": {
    "collapsed": false
   },
   "outputs": [],
   "source": [
    "tstep = np.mean(np.diff(d['Time']))\n",
    "exponent = 1.17\n",
    "\n",
    "t = d['Time']\n",
    "\n",
    "for k, s in d.items():\n",
    "    if k is not 'Time':\n",
    "        for i in np.arange(t.size - 2):\n",
    "            if s[i+1] < s[i] * np.exp(-exponent * tstep):\n",
    "                s[i] = np.mean(s[[i,i+2]])\n",
    "            else:\n",
    "                s[i] = s[i+1]"
   ]
  },
  {
   "cell_type": "code",
   "execution_count": 65,
   "metadata": {
    "collapsed": false
   },
   "outputs": [
    {
     "data": {
      "text/plain": [
       "(0, 200)"
      ]
     },
     "execution_count": 65,
     "metadata": {},
     "output_type": "execute_result"
    },
    {
     "data": {
      "image/png": "[encoded data removed]",
      "text/plain": [
       "<matplotlib.figure.Figure at 0x10a6d6438>"
      ]
     },
     "metadata": {},
     "output_type": "display_data"
    }
   ],
   "source": [
    "plt.plot(d['Al27'])\n",
    "plt.plot(do['Al27'])\n",
    "plt.xlim(0,200)"
   ]
  },
  {
   "cell_type": "code",
   "execution_count": null,
   "metadata": {
    "collapsed": true
   },
   "outputs": [],
   "source": [
    "# define despiking functions. Change numbers here to change despiking parameters.\n",
    "def filt_expdecay(rawdata, exponent=1.17, tstep=None):\n",
    "    \"\"\"Removes spikes based on the flushing time of the laser signal\"\"\"\n",
    "    if tstep is None:\n",
    "        tkey = [i for i in list(rawdata.keys()) if 'time' in i.lower()][0]\n",
    "        tstep = np.mean(np.diff(rawdata[tkey]))\n",
    "    \n",
    "    analytes = [i for i in list(rawdata.keys()) if 'time' not in i.lower()]\n",
    "\n",
    "    def efilt(x, exponent, tstep):\n",
    "        if x[1] < x[0]*np.exp(-exponent * tstep):\n",
    "            return np.mean(x[[0, 2]])\n",
    "        else:\n",
    "            return x[1]\n",
    "    param = {'exponent': exponent,\n",
    "             'tstep': tstep}\n",
    "    return pd.rolling_apply(self.loc[:, analytes], 3,\n",
    "                            lambda x: efilt(x, **param),\n",
    "                            center=True)\n",
    "\n",
    "\n",
    "def filt_noise(self, win=3, n=12.):\n",
    "    \"\"\"Remove outliers more than n multiples away from the error inherent in the count statistics\"\"\"\n",
    "    analytes = self.columns[1:]\n",
    "    def nfilt(x, win, n):\n",
    "        sel = np.concatenate((np.arange(win)[:win/2], np.arange(win)[-(win/2):]))\n",
    "        mid = (win + 1) / 2\n",
    "        if (x[mid] > np.mean(x[sel]) + n * np.mean(x[sel]**0.5)) | (x[mid] < np.mean(x[sel]) - n *\n",
    "                                                                    np.mean(x[sel]**0.5)):\n",
    "            return np.mean(x[sel])\n",
    "        else:\n",
    "            return x[mid]\n",
    "    param = {'win': win,\n",
    "             'n': n}\n",
    "    return pd.rolling_apply(self.loc[:,analytes], win,\n",
    "                            lambda x: nfilt(x, **param), center=True)"
   ]
  }
 ],
 "metadata": {
  "kernelspec": {
   "display_name": "Python 3",
   "language": "python",
   "name": "python3"
  },
  "language_info": {
   "codemirror_mode": {
    "name": "ipython",
    "version": 3
   },
   "file_extension": ".py",
   "mimetype": "text/x-python",
   "name": "python",
   "nbconvert_exporter": "python",
   "pygments_lexer": "ipython3",
   "version": "3.5.1"
  }
 },
 "nbformat": 4,
 "nbformat_minor": 0
}
