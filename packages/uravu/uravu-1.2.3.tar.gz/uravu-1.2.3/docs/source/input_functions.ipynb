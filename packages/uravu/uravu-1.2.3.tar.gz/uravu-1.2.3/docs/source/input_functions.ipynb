{
 "cells": [
  {
   "cell_type": "markdown",
   "metadata": {},
   "source": [
    "# Input functions\n",
    "\n",
    "One of the main features of `uravu` is making Bayesian data modelling for a user defined function as straight forward as [scipy.optimize.curve_fit()](https://docs.scipy.org/doc/scipy/reference/generated/scipy.optimize.curve_fit.html). \n",
    "\n",
    "The input functions in `uravu` are currently designed to be as straightforward as possible. \n",
    "It should be a function, where the first argument is the abscissa and the other arguments are variables. "
   ]
  },
  {
   "cell_type": "code",
   "execution_count": 1,
   "metadata": {},
   "outputs": [],
   "source": [
    "def my_straight_line(x, m, c):\n",
    "    \"\"\"\n",
    "    A straight line function.\n",
    "    \n",
    "    Args: \n",
    "        x (array_like): Abscissa data.\n",
    "        m (float): Gradient.\n",
    "        c (float): Intercept.\n",
    "    \n",
    "    Returns:\n",
    "        (array_like): Model\n",
    "    \"\"\"\n",
    "    return x * m + c"
   ]
  },
  {
   "cell_type": "markdown",
   "metadata": {},
   "source": [
    "Note that the function variables must each be a single `float` or `int` value. \n",
    "This is due to underlying mechanics of `uravu` limiting the use of array or variable-length arguments. \n",
    "\n",
    "Additionally, the return of the function should **only** be the resulting model data, no other `blob` of information is accepted unfortunately. \n",
    "\n",
    "In future, we will work on enabling the more flexible function definitions. If you have any ideas, please feel free to contribute. "
   ]
  }
 ],
 "metadata": {
  "kernelspec": {
   "display_name": "Python 3",
   "language": "python",
   "name": "python3"
  },
  "language_info": {
   "codemirror_mode": {
    "name": "ipython",
    "version": 3
   },
   "file_extension": ".py",
   "mimetype": "text/x-python",
   "name": "python",
   "nbconvert_exporter": "python",
   "pygments_lexer": "ipython3",
   "version": "3.7.6"
  }
 },
 "nbformat": 4,
 "nbformat_minor": 4
}
