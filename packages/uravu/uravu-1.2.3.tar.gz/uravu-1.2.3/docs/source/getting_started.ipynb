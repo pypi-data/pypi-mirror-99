{
 "cells": [
  {
   "cell_type": "markdown",
   "metadata": {},
   "source": [
    "# Getting started\n",
    "\n",
    "`uravu` enables the use of powerful Bayesian modelling in Python, building on the capabilities of `emcee` and `dynesty`, for the understanding of some data. \n",
    "To show how this can be used, we will create some synthetic data using `numpy`."
   ]
  },
  {
   "cell_type": "code",
   "execution_count": 1,
   "metadata": {},
   "outputs": [],
   "source": [
    "import numpy as np\n",
    "import matplotlib.pyplot as plt\n",
    "from uravu.relationship import Relationship\n",
    "from uravu import plotting"
   ]
  },
  {
   "cell_type": "code",
   "execution_count": 2,
   "metadata": {},
   "outputs": [],
   "source": [
    "np.random.seed(1)"
   ]
  },
  {
   "cell_type": "code",
   "execution_count": 3,
   "metadata": {},
   "outputs": [],
   "source": [
    "x = np.linspace(0, 9, 10)\n",
    "y = np.linspace(0, 18, 10) + 2\n",
    "y += y * np.random.randn((10)) * 0.025\n",
    "y_err = np.ones((10))"
   ]
  },
  {
   "cell_type": "markdown",
   "metadata": {},
   "source": [
    "Plotting this data, shows it appears to be a straight line relationship, with some gradient and intercept."
   ]
  },
  {
   "cell_type": "code",
   "execution_count": 4,
   "metadata": {},
   "outputs": [
    {
     "data": {
      "image/png": "[encoded data removed]",
      "text/plain": [
       "<Figure size 432x288 with 1 Axes>"
      ]
     },
     "metadata": {
      "needs_background": "light"
     },
     "output_type": "display_data"
    }
   ],
   "source": [
    "plt.errorbar(x, y, y_err, marker='o', ls='')\n",
    "plt.show()"
   ]
  },
  {
   "cell_type": "markdown",
   "metadata": {},
   "source": [
    "Let's use `uravu` to model a straight line function for the data, for more information about the requirements of the input function check out the [Input functions](./input_functions.html) tutorial. "
   ]
  },
  {
   "cell_type": "code",
   "execution_count": 5,
   "metadata": {},
   "outputs": [],
   "source": [
    "def straight_line(x, m, c):\n",
    "    \"\"\"\n",
    "    A straight line.\n",
    "    \n",
    "    Args:\n",
    "        x (array_like): Abscissa data.\n",
    "        m (float): Gradient.\n",
    "        c (float): Intercept.\n",
    "    \n",
    "    Returns:\n",
    "        (array_like): Ordinate data.\n",
    "    \"\"\"\n",
    "    return m * x + c"
   ]
  },
  {
   "cell_type": "markdown",
   "metadata": {},
   "source": [
    "The function, x data, y data, and y error can then be brought together in the `Relationship` class."
   ]
  },
  {
   "cell_type": "code",
   "execution_count": 6,
   "metadata": {},
   "outputs": [],
   "source": [
    "modeller = Relationship(straight_line, x, y, ordinate_error=y_err)"
   ]
  },
  {
   "cell_type": "markdown",
   "metadata": {},
   "source": [
    "The `Relationship` class enables substantial functionality and is at the core of `uravu`, you can learn about this functionality in the [tutorials](./tutorials.html). \n",
    "Quickly, we will show the maximisation of the likelihood (there is more about this in the [first tutorial](max_likelihood.html))."
   ]
  },
  {
   "cell_type": "code",
   "execution_count": 7,
   "metadata": {},
   "outputs": [],
   "source": [
    "modeller.max_likelihood('mini')"
   ]
  },
  {
   "cell_type": "markdown",
   "metadata": {},
   "source": [
    "The string `'mini'` indicates that the standard [scipy.optimize.minimize()](https://docs.scipy.org/doc/scipy/reference/generated/scipy.optimize.minimize.html) function should be used.\n",
    "\n",
    "The built in `plotting` library can be used to make publication quality plot of the `Relationship`."
   ]
  },
  {
   "cell_type": "code",
   "execution_count": 8,
   "metadata": {},
   "outputs": [
    {
     "data": {
      "image/png": "[encoded data removed]",
      "text/plain": [
       "<Figure size 720x432 with 1 Axes>"
      ]
     },
     "metadata": {
      "needs_background": "light"
     },
     "output_type": "display_data"
    }
   ],
   "source": [
    "fig, ax = plt.subplots(figsize=(10, 6))\n",
    "ax = plotting.plot_relationship(modeller, axes=ax)\n",
    "plt.show()"
   ]
  },
  {
   "cell_type": "markdown",
   "metadata": {},
   "source": [
    "We hope you enjoy using `uravu`, feel free to contribute on [Github](https://github.com/arm61/uravu), and tell your friends and colleagues!"
   ]
  }
 ],
 "metadata": {
  "kernelspec": {
   "display_name": "Python 3",
   "language": "python",
   "name": "python3"
  },
  "language_info": {
   "codemirror_mode": {
    "name": "ipython",
    "version": 3
   },
   "file_extension": ".py",
   "mimetype": "text/x-python",
   "name": "python",
   "nbconvert_exporter": "python",
   "pygments_lexer": "ipython3",
   "version": "3.7.6"
  }
 },
 "nbformat": 4,
 "nbformat_minor": 4
}
