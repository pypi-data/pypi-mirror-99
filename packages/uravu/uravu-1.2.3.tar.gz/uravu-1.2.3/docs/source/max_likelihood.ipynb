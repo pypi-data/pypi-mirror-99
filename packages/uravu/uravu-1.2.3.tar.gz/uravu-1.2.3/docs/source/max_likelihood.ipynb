{
 "cells": [
  {
   "cell_type": "markdown",
   "metadata": {},
   "source": [
    "# Maximum likelihood\n",
    "\n",
    "In Bayesian modelling, the **likelihood**, $L$, is the name given to the measure of the goodness of fit between the model, with some given variables, and the data. \n",
    "When the likelihood is maximised, $\\hat{L}$, the most probable statistical model has been found for the given data. \n",
    "\n",
    "In this tutorial we will see how `uravu` can be used to maximize the likelihood of a model for some dataset.\n",
    "\n",
    "In `uravu`, when the sample is normally distributed the likelihood is calculated as follows, \n",
    "\n",
    "$$ \\ln L = -0.5 \\sum_{i=1}^n \\bigg[ \\frac{(y_i - m_i) ^2}{\\delta y_i^2} + \\ln(2 \\pi \\delta y_i^2) \\bigg], $$\n",
    "\n",
    "where, $y$ is the data ordinate, $m$ is the model ordinate, and $\\delta y_i$ is uncertainty in $y$.\n",
    "`uravu` is able to maximize this function using the [scipy.optimize.minimize()](https://docs.scipy.org/doc/scipy/reference/generated/scipy.optimize.minimize.html) function (we minimize the negative of the likelihood).\n",
    "\n",
    "Before we maximise the likelihood, is it necessary to create some *synthetic* data to analyse. "
   ]
  },
  {
   "cell_type": "code",
   "execution_count": 1,
   "metadata": {},
   "outputs": [],
   "source": [
    "import numpy as np\n",
    "import matplotlib.pyplot as plt\n",
    "from uravu import plotting\n",
    "from uravu.relationship import Relationship"
   ]
  },
  {
   "cell_type": "code",
   "execution_count": 2,
   "metadata": {},
   "outputs": [],
   "source": [
    "np.random.seed(1)"
   ]
  },
  {
   "cell_type": "code",
   "execution_count": 3,
   "metadata": {},
   "outputs": [],
   "source": [
    "x = np.linspace(0, 10, 20)\n",
    "y = np.exp(0.5 * x) * 4\n",
    "y += y * np.random.randn(20) * 0.1\n",
    "dy = y * 0.2"
   ]
  },
  {
   "cell_type": "code",
   "execution_count": 4,
   "metadata": {},
   "outputs": [
    {
     "data": {
      "image/png": "[encoded data removed]",
      "text/plain": [
       "<Figure size 432x288 with 1 Axes>"
      ]
     },
     "metadata": {
      "needs_background": "light"
     },
     "output_type": "display_data"
    }
   ],
   "source": [
    "plt.errorbar(x, y, dy, marker='o', ls='')\n",
    "plt.yscale('log')\n",
    "plt.show()"
   ]
  },
  {
   "cell_type": "markdown",
   "metadata": {},
   "source": [
    "The data plotted above (note the logarthimic $y$-axis) may be modelled with the following relationship, \n",
    "\n",
    "$$ y = a\\exp(bx), $$\n",
    "\n",
    "where $a$ and $b$ are the variables of interest in the modelling process. \n",
    "We want to find the values for these variables, which maximises the likelihood. \n",
    "\n",
    "First, we must write a function to describe the model (more about the function specification can be found in teh [Input functions](./input_functions.html) tutorial)."
   ]
  },
  {
   "cell_type": "code",
   "execution_count": 5,
   "metadata": {},
   "outputs": [],
   "source": [
    "def my_model(x, a, b):\n",
    "    \"\"\"\n",
    "    A function to describe the model under investgation.\n",
    "    \n",
    "    Args:\n",
    "        x (array_like): Abscissa data.\n",
    "        a (float): The pre-exponential factor.\n",
    "        b (float): The x-multiplicative factor.\n",
    "    \n",
    "    Returns\n",
    "        y (array_like): Ordinate data.\n",
    "    \"\"\"\n",
    "    return a * np.exp(b * x)"
   ]
  },
  {
   "cell_type": "markdown",
   "metadata": {},
   "source": [
    "With our model defined, we can construct a `Relationship` object. "
   ]
  },
  {
   "cell_type": "code",
   "execution_count": 6,
   "metadata": {},
   "outputs": [],
   "source": [
    "modeller = Relationship(my_model, x, y, ordinate_error=dy)"
   ]
  },
  {
   "cell_type": "markdown",
   "metadata": {},
   "source": [
    "The `Relationship` object gives us access to a few powerful Bayesian modelling methods.\n",
    "However, this tutorial is focused on maximising the likelihood, this is achieved with the `max_likelihood()` class method, where the keyword `'mini'` indicates the standard [scipy.optimize.minimize()](https://docs.scipy.org/doc/scipy/reference/generated/scipy.optimize.minimize.html) function should be used. "
   ]
  },
  {
   "cell_type": "code",
   "execution_count": 7,
   "metadata": {},
   "outputs": [],
   "source": [
    "modeller.max_likelihood('mini')"
   ]
  },
  {
   "cell_type": "code",
   "execution_count": 8,
   "metadata": {},
   "outputs": [
    {
     "name": "stdout",
     "output_type": "stream",
     "text": [
      "[3.83643573 0.49558549]\n"
     ]
    }
   ],
   "source": [
    "print(modeller.variable_modes)"
   ]
  },
  {
   "cell_type": "markdown",
   "metadata": {},
   "source": [
    "We can see that the variables are close to the values used in the data synthesis. \n",
    "Note, that here `variable_modes` are in fact the variable values that maximise the likelihood.\n",
    "\n",
    "Let's inspect the model visually. \n",
    "This can be achieved easily with the `plotting` module in `uravu`."
   ]
  },
  {
   "cell_type": "code",
   "execution_count": 9,
   "metadata": {},
   "outputs": [
    {
     "data": {
      "image/png": "[encoded data removed]",
      "text/plain": [
       "<Figure size 720x432 with 1 Axes>"
      ]
     },
     "metadata": {
      "needs_background": "light"
     },
     "output_type": "display_data"
    }
   ],
   "source": [
    "ax = plotting.plot_relationship(modeller)\n",
    "plt.yscale('log')\n",
    "plt.show()"
   ]
  },
  {
   "cell_type": "markdown",
   "metadata": {},
   "source": [
    "Above, we can see that the orange line of maximum likelihood agrees well with the data. "
   ]
  }
 ],
 "metadata": {
  "kernelspec": {
   "display_name": "Python 3",
   "language": "python",
   "name": "python3"
  },
  "language_info": {
   "codemirror_mode": {
    "name": "ipython",
    "version": 3
   },
   "file_extension": ".py",
   "mimetype": "text/x-python",
   "name": "python",
   "nbconvert_exporter": "python",
   "pygments_lexer": "ipython3",
   "version": "3.9.1"
  }
 },
 "nbformat": 4,
 "nbformat_minor": 4
}
