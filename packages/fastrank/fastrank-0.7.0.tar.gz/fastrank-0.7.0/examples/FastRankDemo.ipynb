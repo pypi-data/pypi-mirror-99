{
  "nbformat": 4,
  "nbformat_minor": 0,
  "metadata": {
    "colab": {
      "name": "FastRankDemo.ipynb",
      "provenance": [],
      "collapsed_sections": []
    },
    "kernelspec": {
      "name": "python3",
      "display_name": "Python 3"
    }
  },
  "cells": [
    {
      "cell_type": "code",
      "metadata": {
        "id": "Vt_r8GaFZ124",
        "colab_type": "code",
        "outputId": "dacfc5af-df0d-4b31-9dcb-e5a9f552a289",
        "colab": {
          "base_uri": "https://localhost:8080/",
          "height": 191
        }
      },
      "source": [
        "%pip install fastrank"
      ],
      "execution_count": 0,
      "outputs": [
        {
          "output_type": "stream",
          "text": [
            "Requirement already satisfied: fastrank in /usr/local/lib/python3.6/dist-packages (0.4.1)\n",
            "Requirement already satisfied: cfastrank==0.4.0 in /usr/local/lib/python3.6/dist-packages (from fastrank) (0.4.0)\n",
            "Requirement already satisfied: ujson in /usr/local/lib/python3.6/dist-packages (from fastrank) (1.35)\n",
            "Requirement already satisfied: attrs in /usr/local/lib/python3.6/dist-packages (from fastrank) (19.2.0)\n",
            "Requirement already satisfied: scikit-learn in /usr/local/lib/python3.6/dist-packages (from fastrank) (0.21.3)\n",
            "Requirement already satisfied: numpy in /usr/local/lib/python3.6/dist-packages (from fastrank) (1.16.5)\n",
            "Requirement already satisfied: cffi in /usr/local/lib/python3.6/dist-packages (from fastrank) (1.12.3)\n",
            "Requirement already satisfied: joblib>=0.11 in /usr/local/lib/python3.6/dist-packages (from scikit-learn->fastrank) (0.14.0)\n",
            "Requirement already satisfied: scipy>=0.17.0 in /usr/local/lib/python3.6/dist-packages (from scikit-learn->fastrank) (1.3.1)\n",
            "Requirement already satisfied: pycparser in /usr/local/lib/python3.6/dist-packages (from cffi->fastrank) (2.19)\n"
          ],
          "name": "stdout"
        }
      ]
    },
    {
      "cell_type": "code",
      "metadata": {
        "id": "nDZzFWZNKOI3",
        "colab_type": "code",
        "colab": {}
      },
      "source": [
        "# Download data files:\n",
        "import urllib.request\n",
        "import gzip\n",
        "import json\n",
        "\n",
        "DATA_URL_BASE = \"https://raw.githubusercontent.com/jjfiv/fastrank/master/examples/\"\n",
        "\n",
        "urls = [(\"ex{0}\".format(x), \"{0}/trec_news_2018{1}\".format(DATA_URL_BASE, x)) for x in [\".features.json\", \".train\", \".test\"]]\n",
        "\n",
        "for (fname, url) in urls:\n",
        "  with open(fname, 'wb') as fp:\n",
        "    handle = urllib.request.urlopen(url)\n",
        "    for line in handle:\n",
        "      fp.write(line)"
      ],
      "execution_count": 0,
      "outputs": []
    },
    {
      "cell_type": "code",
      "metadata": {
        "id": "PGQrc4H_Z6sQ",
        "colab_type": "code",
        "outputId": "21adb469-1c04-4429-e971-49997b6ae2ad",
        "colab": {
          "base_uri": "https://localhost:8080/",
          "height": 52
        }
      },
      "source": [
        "import fastrank\n",
        "import numpy as np\n",
        "from fastrank import CModel, CDataset, TrainRequest\n",
        "\n",
        "dataset = CDataset.open_ranksvm(\"ex.train\", \"ex.features.json\")\n",
        "test_dataset = CDataset.open_ranksvm(\"ex.test\", \"ex.features.json\")\n",
        "\n",
        "print(\"Train Dataset has {0} queries, {1} documents, and {2} features.\".format(len(dataset.queries()), dataset.num_instances(), dataset.num_features()))\n",
        "print(\"Test Dataset has {0} queries, {1} documents, and {2} features.\".format(len(test_dataset.queries()), test_dataset.num_instances(), test_dataset.num_features()))"
      ],
      "execution_count": 0,
      "outputs": [
        {
          "output_type": "stream",
          "text": [
            "Train Dataset has 45 queries, 782 documents, and 6 features.\n",
            "Test Dataset has 5 queries, 41 documents, and 6 features.\n"
          ],
          "name": "stdout"
        }
      ]
    },
    {
      "cell_type": "code",
      "metadata": {
        "id": "Obo6DWKuL8y0",
        "colab_type": "code",
        "colab": {}
      },
      "source": [
        "train_request = TrainRequest.random_forest()\n",
        "params = train_request.params\n",
        "params.num_trees = 100\n",
        "params.feature_sampling_rate = 0.5\n",
        "params.instance_sampling_rate = 0.5\n",
        "params.seed = 1234567\n",
        "random_forest = dataset.train_model(train_request)"
      ],
      "execution_count": 0,
      "outputs": []
    },
    {
      "cell_type": "code",
      "metadata": {
        "id": "cixVqWGlMdeu",
        "colab_type": "code",
        "outputId": "be0deaed-2472-4cc7-d06e-d73361c6e558",
        "colab": {
          "base_uri": "https://localhost:8080/",
          "height": 121
        }
      },
      "source": [
        "train_request = TrainRequest.coordinate_ascent()\n",
        "params = train_request.params\n",
        "params.init_random = True\n",
        "params.normalize = True\n",
        "params.seed = 1234567\n",
        "coordinate_ascent = dataset.train_model(train_request)\n",
        "\n",
        "# simple python-accessible models (serialization is up to you)\n",
        "coordinate_ascent.to_dict()"
      ],
      "execution_count": 0,
      "outputs": [
        {
          "output_type": "execute_result",
          "data": {
            "text/plain": [
              "{'Linear': {'weights': [2.1789363075430108e-09,\n",
              "   3.229859575980813e-06,\n",
              "   -6.60633974465588e-07,\n",
              "   0.0,\n",
              "   -0.9999773758216621,\n",
              "   1.9152791882e-05]}}"
            ]
          },
          "metadata": {
            "tags": []
          },
          "execution_count": 12
        }
      ]
    },
    {
      "cell_type": "code",
      "metadata": {
        "id": "mg0HwJl9NNZC",
        "colab_type": "code",
        "outputId": "3974131a-045e-41cb-a13f-e9076814b717",
        "colab": {
          "base_uri": "https://localhost:8080/",
          "height": 52
        }
      },
      "source": [
        "models = {'CA': coordinate_ascent, 'RF': random_forest}\n",
        "\n",
        "for (name, model) in models.items():\n",
        "  q_to_measure = test_dataset.evaluate(model, \"NDCG@5\")\n",
        "  print(\"{0}: NDCG@5: {1:.3}\".format(name, np.mean(list(q_to_measure.values()))))\n"
      ],
      "execution_count": 0,
      "outputs": [
        {
          "output_type": "stream",
          "text": [
            "CA: NDCG@5: 0.928\n",
            "RF: NDCG@5: 0.901\n"
          ],
          "name": "stdout"
        }
      ]
    }
  ]
}