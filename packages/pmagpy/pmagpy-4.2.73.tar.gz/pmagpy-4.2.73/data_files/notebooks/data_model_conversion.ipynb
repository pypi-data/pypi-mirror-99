{
 "cells": [
  {
   "cell_type": "markdown",
   "metadata": {},
   "source": [
    "This notebook was used for developing a script to translate MagIC format files from the 2.5 data format to the 3.0 format.  This functionality is now implemented in Pmag GUI.  "
   ]
  },
  {
   "cell_type": "markdown",
   "metadata": {},
   "source": [
    "## Getting started"
   ]
  },
  {
   "cell_type": "code",
   "execution_count": 3,
   "metadata": {},
   "outputs": [],
   "source": [
    "from importlib import reload\n",
    "import pmagpy.contribution_builder as cb\n",
    "from pmagpy import ipmag\n",
    "import os\n",
    "import json\n",
    "import numpy as np\n",
    "import sys\n",
    "\n",
    "import pandas as pd\n",
    "import numpy as np\n",
    "from pandas import DataFrame\n",
    "from pmagpy import builder2 as builder\n",
    "from pmagpy import validate_upload2 as validate_upload\n",
    "from pmagpy import pmag\n",
    "from pmagpy.mapping import map_magic\n",
    "from pmagpy import pmag\n",
    "\n",
    "WD = os.path.realpath(os.path.join(\"..\", \"2_5\", \"McMurdo\"))"
   ]
  },
  {
   "cell_type": "markdown",
   "metadata": {},
   "source": [
    "## lowest level: convert 2.5 measurement records --> 3.0 measurement records"
   ]
  },
  {
   "cell_type": "code",
   "execution_count": 2,
   "metadata": {},
   "outputs": [
    {
     "name": "stdout",
     "output_type": "stream",
     "text": [
      "['f', 'F', 'A', 'WD', 'ID', 'Fsa', 'Fsi'] 7\n",
      "-I- using default for arg: F\n",
      "-\n",
      "-I- using default for arg: A\n",
      "-\n",
      "-I- using default for arg: Fsa\n",
      "-\n",
      "-I- using default for arg: Fsi\n",
      "-\n",
      "-I- using default for arg: O\n",
      "-\n",
      "1  records written to file  ../2_5/McMurdo/er_locations.txt\n",
      "140  records written to file  ../2_5/McMurdo/er_sites.txt\n",
      "1418  records written to file  ../2_5/McMurdo/er_samples.txt\n",
      "1046  records written to file  ../2_5/McMurdo/er_specimens.txt\n",
      "99  records written to file  ../2_5/McMurdo/er_ages.txt\n",
      "31  records written to file  ../2_5/McMurdo/er_citations.txt\n",
      "4  records written to file  ../2_5/McMurdo/er_mailinglist.txt\n",
      "431  records written to file  ../2_5/McMurdo/er_images.txt\n",
      "25470  records written to file  ../2_5/McMurdo/magic_measurements.txt\n",
      "1313  records written to file  ../2_5/McMurdo/pmag_specimens.txt\n",
      "207  records written to file  ../2_5/McMurdo/pmag_sites.txt\n",
      "177  records written to file  ../2_5/McMurdo/pmag_results.txt\n",
      "8  records written to file  ../2_5/McMurdo/pmag_criteria.txt\n",
      "10  records written to file  ../2_5/McMurdo/rmag_hysteresis.txt\n",
      "19  records written to file  ../2_5/McMurdo/rmag_anisotropy.txt\n",
      "19  records written to file  ../2_5/McMurdo/rmag_results.txt\n",
      "46  records written to file  ../2_5/McMurdo/magic_methods.txt\n"
     ]
    }
   ],
   "source": [
    "# convert magic_measurements to measurements (3.0)\n",
    "# first unpack lawrence et al., 2009 datafile from MagIC \n",
    "\n",
    "!download_magic.py -f zmab0100049tmp03.txt -WD ../2_5/McMurdo -ID ../2_5/McMurdo"
   ]
  },
  {
   "cell_type": "code",
   "execution_count": 3,
   "metadata": {},
   "outputs": [
    {
     "name": "stdout",
     "output_type": "stream",
     "text": [
      "magic_measurements 25470\n"
     ]
    }
   ],
   "source": [
    "# read in data model 2.5 measruements file\n",
    "data2,filetype = pmag.magic_read(WD+'/magic_measurements.txt') \n",
    "print filetype, len(data2)"
   ]
  },
  {
   "cell_type": "code",
   "execution_count": 4,
   "metadata": {},
   "outputs": [
    {
     "name": "stdout",
     "output_type": "stream",
     "text": [
      "25470  records written to file  /Users/nebula/Python/PmagPy/data_files/2_5/McMurdo/measurements.txt\n"
     ]
    },
    {
     "data": {
      "text/plain": [
       "(True, '/Users/nebula/Python/PmagPy/data_files/2_5/McMurdo/measurements.txt')"
      ]
     },
     "execution_count": 4,
     "metadata": {},
     "output_type": "execute_result"
    }
   ],
   "source": [
    "NewMeas = []\n",
    "# step through records\n",
    "\n",
    "for rec in data2: \n",
    "    NewMeas.append(map_magic.convert_meas('magic3',rec))\n",
    "pmag.magic_write(WD+'/measurements.txt',NewMeas,'measurements')"
   ]
  },
  {
   "cell_type": "markdown",
   "metadata": {
    "collapsed": true
   },
   "source": [
    "## Convert 2.5 measurements file  --> 3.0 measurements file"
   ]
  },
  {
   "cell_type": "code",
   "execution_count": 5,
   "metadata": {},
   "outputs": [
    {
     "data": {
      "text/plain": [
       "<module 'pmagpy.pmag' from '/Users/nebula/Python/PmagPy/pmagpy/pmag.pyc'>"
      ]
     },
     "execution_count": 5,
     "metadata": {},
     "output_type": "execute_result"
    }
   ],
   "source": [
    "reload(nb)\n",
    "reload(pmag)"
   ]
  },
  {
   "cell_type": "code",
   "execution_count": 6,
   "metadata": {
    "collapsed": true
   },
   "outputs": [],
   "source": [
    "WD = os.path.join(\"..\", \"2_5\", \"McMurdo\")\n",
    "#for dtype in ['specimens', 'samples', 'sites', 'locations']:\n",
    "#    filename = os.path.join(WD, '{}.txt'.format(dtype))\n",
    "#    if os.path.exists(filename):\n",
    "#        os.remove(filename)"
   ]
  },
  {
   "cell_type": "code",
   "execution_count": 7,
   "metadata": {},
   "outputs": [
    {
     "name": "stdout",
     "output_type": "stream",
     "text": [
      "25470  records written to file  ../2_5/McMurdo/measurements.txt\n",
      "-I- 3.0 format measurements file was successfully created: ../2_5/McMurdo/measurements.txt\n"
     ]
    }
   ],
   "source": [
    "# convert magic_measurements file only\n",
    "new_meas, upgraded, no_upgrade = pmag.convert_directory_2_to_3(\"magic_measurements.txt\", WD, WD, meas_only=True)"
   ]
  },
  {
   "cell_type": "code",
   "execution_count": 8,
   "metadata": {},
   "outputs": [
    {
     "name": "stdout",
     "output_type": "stream",
     "text": [
      "-I- Getting method codes from earthref.org\n",
      "-I- Importing controlled vocabularies from https://earthref.org\n",
      "-I- Importing suggested vocabularies from https://earthref.org\n",
      "making new specimen file\n",
      "-I- writing specimens data to /Users/nebula/Python/PmagPy/data_files/2_5/McMurdo/specimens.txt\n",
      "making new sample file\n",
      "-I- writing samples data to /Users/nebula/Python/PmagPy/data_files/2_5/McMurdo/samples.txt\n",
      "making new site file\n",
      "-I- writing sites data to /Users/nebula/Python/PmagPy/data_files/2_5/McMurdo/sites.txt\n",
      "making new location file\n",
      "-I- writing locations data to /Users/nebula/Python/PmagPy/data_files/2_5/McMurdo/locations.txt\n"
     ]
    },
    {
     "data": {
      "text/html": [
       "<div>\n",
       "<table border=\"1\" class=\"dataframe\">\n",
       "  <thead>\n",
       "    <tr style=\"text-align: right;\">\n",
       "      <th></th>\n",
       "      <th>sample</th>\n",
       "      <th>site</th>\n",
       "    </tr>\n",
       "  </thead>\n",
       "  <tbody>\n",
       "    <tr>\n",
       "      <th>mc01f</th>\n",
       "      <td>mc01f</td>\n",
       "      <td>mc01</td>\n",
       "    </tr>\n",
       "    <tr>\n",
       "      <th>mc02c</th>\n",
       "      <td>mc02c</td>\n",
       "      <td>mc02</td>\n",
       "    </tr>\n",
       "    <tr>\n",
       "      <th>mc02e</th>\n",
       "      <td>mc02e</td>\n",
       "      <td>mc02</td>\n",
       "    </tr>\n",
       "    <tr>\n",
       "      <th>mc02g</th>\n",
       "      <td>mc02g</td>\n",
       "      <td>mc02</td>\n",
       "    </tr>\n",
       "    <tr>\n",
       "      <th>mc03b</th>\n",
       "      <td>mc03b</td>\n",
       "      <td>mc03</td>\n",
       "    </tr>\n",
       "  </tbody>\n",
       "</table>\n",
       "</div>"
      ],
      "text/plain": [
       "      sample  site\n",
       "mc01f  mc01f  mc01\n",
       "mc02c  mc02c  mc02\n",
       "mc02e  mc02e  mc02\n",
       "mc02g  mc02g  mc02\n",
       "mc03b  mc03b  mc03"
      ]
     },
     "execution_count": 8,
     "metadata": {},
     "output_type": "execute_result"
    }
   ],
   "source": [
    "# create a contribution using the converted measurement data\n",
    "con = cb.Contribution(WD, read_tables=['measurements'])\n",
    "# use name data in measurement table to create specimen-location tables\n",
    "con.propagate_measurement_info()\n",
    "# show sample table created from measurement info\n",
    "con.tables['samples'].df.head()"
   ]
  },
  {
   "cell_type": "code",
   "execution_count": 9,
   "metadata": {},
   "outputs": [
    {
     "name": "stdout",
     "output_type": "stream",
     "text": [
      "{'mc01': {'site': 'mc01', 'location': 'McMurdo'}, 'mc02': {'site': 'mc02', 'location': 'McMurdo'}, 'mc03': {'site': 'mc03', 'location': 'McMurdo'}, 'mc04': {'site': 'mc04', 'location': 'McMurdo'}, 'mc06': {'site': 'mc06', 'location': 'McMurdo'}}\n",
      "[{'site': 'mc01', 'location': 'McMurdo'}, {'site': 'mc02', 'location': 'McMurdo'}, {'site': 'mc03', 'location': 'McMurdo'}, {'site': 'mc04', 'location': 'McMurdo'}, {'site': 'mc06', 'location': 'McMurdo'}]\n"
     ]
    }
   ],
   "source": [
    "# convert a pandas DataFrame to the standard PmagPy formats:\n",
    "# either a dict of dicts or a list of dicts, each corresponding to one table row\n",
    "\n",
    "def convert_to_pmag_data_list(df, lst_or_dict):\n",
    "    \"\"\"\n",
    "    \"\"\"\n",
    "    dictionary = dict(df.T)\n",
    "    if lst_or_dict == \"lst\":\n",
    "        return [dict(dictionary[key]) for key in dictionary]\n",
    "    else:\n",
    "        return {key: dict(dictionary[key]) for key in dictionary}\n",
    "\n",
    "    \n",
    "site_df = con.tables['sites'].df.head()    \n",
    "print convert_to_pmag_data_list(site_df, \"dict\")\n",
    "print convert_to_pmag_data_list(site_df, \"lst\")\n"
   ]
  },
  {
   "cell_type": "markdown",
   "metadata": {},
   "source": [
    "## Convert 2.5 specimens files --> 3.0 specimens file"
   ]
  },
  {
   "cell_type": "code",
   "execution_count": 10,
   "metadata": {},
   "outputs": [
    {
     "name": "stdout",
     "output_type": "stream",
     "text": [
      "-I- overwriting /Users/nebula/Python/PmagPy/data_files/2_5/McMurdo/specimens.txt\n"
     ]
    },
    {
     "data": {
      "text/html": [
       "<div>\n",
       "<table border=\"1\" class=\"dataframe\">\n",
       "  <thead>\n",
       "    <tr style=\"text-align: right;\">\n",
       "      <th></th>\n",
       "      <th>analysts</th>\n",
       "      <th>citations</th>\n",
       "      <th>location</th>\n",
       "      <th>sample</th>\n",
       "      <th>site</th>\n",
       "      <th>specimen</th>\n",
       "      <th>experiments</th>\n",
       "      <th>method_codes</th>\n",
       "      <th>software_packages</th>\n",
       "      <th>meas_step_max</th>\n",
       "      <th>...</th>\n",
       "      <th>int_n_ptrm</th>\n",
       "      <th>int_treat_dc_field</th>\n",
       "      <th>lithologies</th>\n",
       "      <th>dir_mad_free</th>\n",
       "      <th>int_md</th>\n",
       "      <th>dir_n_measurements</th>\n",
       "      <th>int_q</th>\n",
       "      <th>int_rsc</th>\n",
       "      <th>dir_tilt_correction</th>\n",
       "      <th>geologic_types</th>\n",
       "    </tr>\n",
       "    <tr>\n",
       "      <th>specimen</th>\n",
       "      <th></th>\n",
       "      <th></th>\n",
       "      <th></th>\n",
       "      <th></th>\n",
       "      <th></th>\n",
       "      <th></th>\n",
       "      <th></th>\n",
       "      <th></th>\n",
       "      <th></th>\n",
       "      <th></th>\n",
       "      <th></th>\n",
       "      <th></th>\n",
       "      <th></th>\n",
       "      <th></th>\n",
       "      <th></th>\n",
       "      <th></th>\n",
       "      <th></th>\n",
       "      <th></th>\n",
       "      <th></th>\n",
       "      <th></th>\n",
       "      <th></th>\n",
       "    </tr>\n",
       "  </thead>\n",
       "  <tbody>\n",
       "    <tr>\n",
       "      <th>mc01a</th>\n",
       "      <td>Lisa Tauxe</td>\n",
       "      <td>This study</td>\n",
       "      <td>McMurdo</td>\n",
       "      <td>mc01a</td>\n",
       "      <td>mc01</td>\n",
       "      <td>mc01a</td>\n",
       "      <td>mc01a-LP-PI-TRM-LP-PI-ALT-PTRM-LP-PI-ZI</td>\n",
       "      <td>LP-DIR-T:SO-SIGHT:DE-BFP:DA-DIR-GEO</td>\n",
       "      <td>pmagpy-2.58</td>\n",
       "      <td>823</td>\n",
       "      <td>...</td>\n",
       "      <td>None</td>\n",
       "      <td>None</td>\n",
       "      <td>None</td>\n",
       "      <td>2.6</td>\n",
       "      <td>None</td>\n",
       "      <td>11</td>\n",
       "      <td>None</td>\n",
       "      <td>None</td>\n",
       "      <td>0</td>\n",
       "      <td>None</td>\n",
       "    </tr>\n",
       "    <tr>\n",
       "      <th>mc01a</th>\n",
       "      <td>None</td>\n",
       "      <td>This study</td>\n",
       "      <td>McMurdo</td>\n",
       "      <td>mc01a</td>\n",
       "      <td>mc01</td>\n",
       "      <td>mc01a</td>\n",
       "      <td>None</td>\n",
       "      <td>None</td>\n",
       "      <td>None</td>\n",
       "      <td>None</td>\n",
       "      <td>...</td>\n",
       "      <td>None</td>\n",
       "      <td>None</td>\n",
       "      <td>Trachyte</td>\n",
       "      <td>None</td>\n",
       "      <td>None</td>\n",
       "      <td>None</td>\n",
       "      <td>None</td>\n",
       "      <td>None</td>\n",
       "      <td>None</td>\n",
       "      <td>Lava Flow</td>\n",
       "    </tr>\n",
       "    <tr>\n",
       "      <th>mc01a</th>\n",
       "      <td>Lisa Tauxe</td>\n",
       "      <td>This study</td>\n",
       "      <td>McMurdo</td>\n",
       "      <td>mc01a</td>\n",
       "      <td>mc01</td>\n",
       "      <td>mc01a</td>\n",
       "      <td>mc01a-LP-PI-TRM-LP-PI-ALT-PTRM-LP-PI-ZI</td>\n",
       "      <td>LP-PI-TRM:LP-PI-ALT-PTRM:LP-PI-ZI:IE-TT</td>\n",
       "      <td>pmagpy-2.60</td>\n",
       "      <td>823</td>\n",
       "      <td>...</td>\n",
       "      <td>5</td>\n",
       "      <td>4e-05</td>\n",
       "      <td>None</td>\n",
       "      <td>None</td>\n",
       "      <td>-1</td>\n",
       "      <td>None</td>\n",
       "      <td>9.5</td>\n",
       "      <td>0.9523</td>\n",
       "      <td>-1</td>\n",
       "      <td>None</td>\n",
       "    </tr>\n",
       "    <tr>\n",
       "      <th>mc01b</th>\n",
       "      <td>Lisa Tauxe</td>\n",
       "      <td>This study</td>\n",
       "      <td>McMurdo</td>\n",
       "      <td>mc01b</td>\n",
       "      <td>mc01</td>\n",
       "      <td>mc01b</td>\n",
       "      <td>mc01b-LP-PI-TRM-LP-PI-ALT-PTRM-LP-PI-ZI</td>\n",
       "      <td>LP-DIR-T:SO-SIGHT:DE-BFL:DA-DIR-GEO</td>\n",
       "      <td>pmagpy-2.58</td>\n",
       "      <td>773</td>\n",
       "      <td>...</td>\n",
       "      <td>None</td>\n",
       "      <td>None</td>\n",
       "      <td>None</td>\n",
       "      <td>1.7</td>\n",
       "      <td>None</td>\n",
       "      <td>8</td>\n",
       "      <td>None</td>\n",
       "      <td>None</td>\n",
       "      <td>0</td>\n",
       "      <td>None</td>\n",
       "    </tr>\n",
       "    <tr>\n",
       "      <th>mc01b</th>\n",
       "      <td>None</td>\n",
       "      <td>This study</td>\n",
       "      <td>McMurdo</td>\n",
       "      <td>mc01b</td>\n",
       "      <td>mc01</td>\n",
       "      <td>mc01b</td>\n",
       "      <td>None</td>\n",
       "      <td>None</td>\n",
       "      <td>None</td>\n",
       "      <td>None</td>\n",
       "      <td>...</td>\n",
       "      <td>None</td>\n",
       "      <td>None</td>\n",
       "      <td>Trachyte</td>\n",
       "      <td>None</td>\n",
       "      <td>None</td>\n",
       "      <td>None</td>\n",
       "      <td>None</td>\n",
       "      <td>None</td>\n",
       "      <td>None</td>\n",
       "      <td>Lava Flow</td>\n",
       "    </tr>\n",
       "  </tbody>\n",
       "</table>\n",
       "<p>5 rows × 40 columns</p>\n",
       "</div>"
      ],
      "text/plain": [
       "            analysts   citations location sample  site specimen  \\\n",
       "specimen                                                          \n",
       "mc01a     Lisa Tauxe  This study  McMurdo  mc01a  mc01    mc01a   \n",
       "mc01a           None  This study  McMurdo  mc01a  mc01    mc01a   \n",
       "mc01a     Lisa Tauxe  This study  McMurdo  mc01a  mc01    mc01a   \n",
       "mc01b     Lisa Tauxe  This study  McMurdo  mc01b  mc01    mc01b   \n",
       "mc01b           None  This study  McMurdo  mc01b  mc01    mc01b   \n",
       "\n",
       "                                      experiments  \\\n",
       "specimen                                            \n",
       "mc01a     mc01a-LP-PI-TRM-LP-PI-ALT-PTRM-LP-PI-ZI   \n",
       "mc01a                                        None   \n",
       "mc01a     mc01a-LP-PI-TRM-LP-PI-ALT-PTRM-LP-PI-ZI   \n",
       "mc01b     mc01b-LP-PI-TRM-LP-PI-ALT-PTRM-LP-PI-ZI   \n",
       "mc01b                                        None   \n",
       "\n",
       "                                     method_codes software_packages  \\\n",
       "specimen                                                              \n",
       "mc01a         LP-DIR-T:SO-SIGHT:DE-BFP:DA-DIR-GEO       pmagpy-2.58   \n",
       "mc01a                                        None              None   \n",
       "mc01a     LP-PI-TRM:LP-PI-ALT-PTRM:LP-PI-ZI:IE-TT       pmagpy-2.60   \n",
       "mc01b         LP-DIR-T:SO-SIGHT:DE-BFL:DA-DIR-GEO       pmagpy-2.58   \n",
       "mc01b                                        None              None   \n",
       "\n",
       "         meas_step_max      ...       int_n_ptrm int_treat_dc_field  \\\n",
       "specimen                    ...                                       \n",
       "mc01a              823      ...             None               None   \n",
       "mc01a             None      ...             None               None   \n",
       "mc01a              823      ...                5              4e-05   \n",
       "mc01b              773      ...             None               None   \n",
       "mc01b             None      ...             None               None   \n",
       "\n",
       "         lithologies dir_mad_free int_md dir_n_measurements int_q int_rsc  \\\n",
       "specimen                                                                    \n",
       "mc01a           None          2.6   None                 11  None    None   \n",
       "mc01a       Trachyte         None   None               None  None    None   \n",
       "mc01a           None         None     -1               None   9.5  0.9523   \n",
       "mc01b           None          1.7   None                  8  None    None   \n",
       "mc01b       Trachyte         None   None               None  None    None   \n",
       "\n",
       "         dir_tilt_correction geologic_types  \n",
       "specimen                                     \n",
       "mc01a                      0           None  \n",
       "mc01a                   None      Lava Flow  \n",
       "mc01a                     -1           None  \n",
       "mc01b                      0           None  \n",
       "mc01b                   None      Lava Flow  \n",
       "\n",
       "[5 rows x 40 columns]"
      ]
     },
     "execution_count": 10,
     "metadata": {},
     "output_type": "execute_result"
    }
   ],
   "source": [
    "import pmagpy.mapping.map_magic as mm\n",
    "import pmagpy.contribution_builder as cb\n",
    "reload(mm)\n",
    "reload(nb)\n",
    "reload(pmag)\n",
    "\n",
    "\n",
    "wdir = os.path.join(\"..\", \"2_5\", \"McMurdo\")\n",
    "\n",
    "#  take er_*.txt files and pmag_*.txt files, combine them, then turn them to 3.0. and write them out\n",
    "\n",
    "dtype = \"specimens\"\n",
    "map_dict = mm.spec_magic2_2_magic3_map\n",
    "pmag.convert_and_combine_2_to_3(dtype, map_dict, input_dir=wdir, output_dir=wdir)\n",
    "cb.MagicDataFrame(os.path.join(wdir, \"{}.txt\".format(dtype))).df.head()\n",
    "\n"
   ]
  },
  {
   "cell_type": "markdown",
   "metadata": {},
   "source": [
    "## Convert 2.5 directory --> 3.0 directory"
   ]
  },
  {
   "cell_type": "code",
   "execution_count": 11,
   "metadata": {},
   "outputs": [
    {
     "name": "stdout",
     "output_type": "stream",
     "text": [
      "25470  records written to file  ../2_5/McMurdo/measurements.txt\n",
      "-I- 3.0 format measurements file was successfully created: ../2_5/McMurdo/measurements.txt\n",
      "-I- overwriting /Users/nebula/Python/PmagPy/data_files/2_5/McMurdo/specimens.txt\n",
      "-I- overwriting /Users/nebula/Python/PmagPy/data_files/2_5/McMurdo/samples.txt\n",
      "-I- overwriting /Users/nebula/Python/PmagPy/data_files/2_5/McMurdo/sites.txt\n",
      "-I- overwriting /Users/nebula/Python/PmagPy/data_files/2_5/McMurdo/locations.txt\n",
      "upgraded files: measurements.txt, specimens.txt, samples.txt, sites.txt, locations.txt\n",
      "files that could not be upgraded: er_ages.txt, er_images.txt, pmag_criteria.txt, pmag_results.txt, rmag_anisotropy.txt, rmag_hysteresis.txt, rmag_results.txt\n"
     ]
    }
   ],
   "source": [
    "# converts measurements file and any present specimen, sample, site, or location files to 3.0.\n",
    "# does not yet handle any other MagIC format files\n",
    "\n",
    "new_meas, upgraded, not_upgraded = pmag.convert_directory_2_to_3('magic_measurements.txt', wdir, wdir)\n",
    "print 'upgraded files: {}'.format(', '.join(upgraded))\n",
    "print 'files that could not be upgraded: {}'.format(', '.join(not_upgraded))"
   ]
  },
  {
   "cell_type": "markdown",
   "metadata": {},
   "source": [
    "## Cast all columns to correct dtype"
   ]
  },
  {
   "cell_type": "code",
   "execution_count": 12,
   "metadata": {},
   "outputs": [
    {
     "name": "stdout",
     "output_type": "stream",
     "text": [
      "-I- Getting method codes from earthref.org\n",
      "-I- Importing controlled vocabularies from https://earthref.org\n",
      "-I- Importing suggested vocabularies from https://earthref.org\n",
      "-W- No such file: /Users/nebula/Python/PmagPy/data_files/3_0/Megiddo/images.txt\n"
     ]
    }
   ],
   "source": [
    "import pmagpy.contribution_builder as cb\n",
    "import pmagpy.data_model3 as data_model\n",
    "con = cb.Contribution('../3_0/Megiddo', dmodel=data_model.DataModel())"
   ]
  },
  {
   "cell_type": "code",
   "execution_count": 13,
   "metadata": {},
   "outputs": [
    {
     "data": {
      "text/html": [
       "<div>\n",
       "<table border=\"1\" class=\"dataframe\">\n",
       "  <thead>\n",
       "    <tr style=\"text-align: right;\">\n",
       "      <th></th>\n",
       "      <th>name</th>\n",
       "      <th>type</th>\n",
       "    </tr>\n",
       "  </thead>\n",
       "  <tbody>\n",
       "    <tr>\n",
       "      <th>age</th>\n",
       "      <td>age</td>\n",
       "      <td>Number</td>\n",
       "    </tr>\n",
       "    <tr>\n",
       "      <th>age_high</th>\n",
       "      <td>age_high</td>\n",
       "      <td>Number</td>\n",
       "    </tr>\n",
       "    <tr>\n",
       "      <th>age_low</th>\n",
       "      <td>age_low</td>\n",
       "      <td>Number</td>\n",
       "    </tr>\n",
       "    <tr>\n",
       "      <th>age_sigma</th>\n",
       "      <td>age_sigma</td>\n",
       "      <td>Number</td>\n",
       "    </tr>\n",
       "    <tr>\n",
       "      <th>age_unit</th>\n",
       "      <td>age_unit</td>\n",
       "      <td>String</td>\n",
       "    </tr>\n",
       "  </tbody>\n",
       "</table>\n",
       "</div>"
      ],
      "text/plain": [
       "                name    type\n",
       "age              age  Number\n",
       "age_high    age_high  Number\n",
       "age_low      age_low  Number\n",
       "age_sigma  age_sigma  Number\n",
       "age_unit    age_unit  String"
      ]
     },
     "execution_count": 13,
     "metadata": {},
     "output_type": "execute_result"
    }
   ],
   "source": [
    "site_dm = con.data_model.dm['sites']\n",
    "site_dm['name'] = site_dm.index\n",
    "site_dm[['name', 'type']].head()\n"
   ]
  },
  {
   "cell_type": "code",
   "execution_count": 14,
   "metadata": {
    "scrolled": true
   },
   "outputs": [
    {
     "name": "stdout",
     "output_type": "stream",
     "text": [
      "String, Dictionary, Text, List, Number, Flag, Timestamp, Integer, Matrix\n"
     ]
    }
   ],
   "source": [
    "dtypes = set()\n",
    "for dm_name in con.data_model.dm:\n",
    "    dtypes = dtypes.union(con.data_model.dm[dm_name]['type'].unique())\n",
    "print \", \".join(dtypes)"
   ]
  },
  {
   "cell_type": "code",
   "execution_count": 15,
   "metadata": {},
   "outputs": [
    {
     "name": "stdout",
     "output_type": "stream",
     "text": [
      "age : float64\n",
      "dir_n_samples : int64\n",
      "criteria : object\n"
     ]
    }
   ],
   "source": [
    "site_df = con.tables['sites'].df\n",
    "for col_name in site_df.columns:\n",
    "    dtype = site_dm.loc[col_name, 'type']\n",
    "    if dtype == 'Number':\n",
    "        site_df[col_name] = site_df[col_name].astype(float)\n",
    "    elif dtype == 'Integer':\n",
    "        site_df[col_name] = site_df[col_name].fillna(0)\n",
    "        site_df[col_name] = site_df[col_name].astype(int)\n",
    "        #site_df[col_name] = site_df[col_name].replace(-999, np.nan)  # can't have dtype of int & np.nan/None values\n",
    "    elif dtype == 'String':\n",
    "        #print \"string\", col_name\n",
    "        site_df[col_name] = site_df[col_name].astype(str)  # can't have dtype of str & np.nan/None values\n",
    "        #site_df[col_name] == site_df[col_name].astype(int)\n",
    "\n",
    "for col in ['age', 'dir_n_samples', 'criteria']:\n",
    "    print col, \":\", site_df[col].dtype"
   ]
  },
  {
   "cell_type": "code",
   "execution_count": 16,
   "metadata": {},
   "outputs": [
    {
     "data": {
      "text/plain": [
       "0    -740\n",
       "1    -740\n",
       "2    -850\n",
       "3    -950\n",
       "4    -950\n",
       "Name: age, dtype: object"
      ]
     },
     "execution_count": 16,
     "metadata": {},
     "output_type": "execute_result"
    }
   ],
   "source": [
    "reload(pmag)\n",
    "#pmag.convert_measfile_2_to_3('magic_measurements.txt', '2_5/McMurdo')\n",
    "\n",
    "fname = os.path.join(\"..\", '3_0', 'Megiddo', 'sites.txt')\n",
    "df = cb.MagicDataFrame(os.path.join(\"..\", '3_0', 'Megiddo', 'sites.txt')).df\n",
    "pmag.magic_read(fname)\n",
    "df = pd.read_table(fname, skiprows=[0])\n",
    "df['age'].astype(str).head()"
   ]
  }
 ],
 "metadata": {
  "kernelspec": {
   "display_name": "Python 3",
   "language": "python",
   "name": "python3"
  },
  "language_info": {
   "codemirror_mode": {
    "name": "ipython",
    "version": 3
   },
   "file_extension": ".py",
   "mimetype": "text/x-python",
   "name": "python",
   "nbconvert_exporter": "python",
   "pygments_lexer": "ipython3",
   "version": "3.6.3"
  }
 },
 "nbformat": 4,
 "nbformat_minor": 1
}
