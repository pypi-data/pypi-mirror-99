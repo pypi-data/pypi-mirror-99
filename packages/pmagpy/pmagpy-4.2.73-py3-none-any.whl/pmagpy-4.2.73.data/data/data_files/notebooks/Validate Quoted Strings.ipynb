{
 "cells": [
  {
   "cell_type": "code",
   "execution_count": null,
   "metadata": {},
   "outputs": [],
   "source": [
    "\n",
    "from pmagpy import pmag\n",
    "from pmagpy import contribution_builder\n",
    "from pmagpy import validate_upload3 as validate_upload\n",
    "from pmagpy import controlled_vocabularies3 as controlled_vocabularies\n",
    "from pmagpy import data_model3 as data_model\n",
    "\n",
    "import os\n",
    "import pandas as pd\n",
    "import numpy as np\n",
    "from pandas import DataFrame\n",
    "from importlib import reload\n",
    "\n",
    "reload(data_model)\n",
    "reload(validate_upload)"
   ]
  },
  {
   "cell_type": "markdown",
   "execution_count": null,
   "metadata": {},
   "outputs": [],
   "source": [
    "## Import the McMurdo contribution and confirm that the sites table has no validation errors"
   ]
  },
  {
   "cell_type": "code",
   "execution_count": null,
   "metadata": {},
   "outputs": [],
   "source": [
    "dir_path = os.path.join('..', '3_0', 'McMurdo')\n",
    "con = contribution_builder.Contribution(dir_path)\n",
    "\n",
    "site_dm = con.tables['sites'].data_model.dm['sites']\n",
    "site_df = con.tables['sites'].df\n",
    "\n",
    "site_df['external_results'] = ''\n",
    "\n",
    "# Valid external_results used to fail validation\n",
    "site_df.iloc[0, list(site_df.columns).index('external_results')] = 'DELTA-C13-PDB:-12.6:10.1016/0031-0182(94)00108-k'\n",
    "site_df.iloc[1, list(site_df.columns).index('external_results')] = 'DELTA-C13-PDB:-12.6:10.1016/0031-0182(94)00108-k;DELTA-C13-PDB:-9.391:\"10.1130/0016-7606(1995)107<1381:LMECIN>2.3.CO;2\"'\n",
    "\n",
    "# Invalid external_results that should still fail validation\n",
    "#site_df.iloc[2, list(site_df.columns).index('external_results')] = 'DELTA-C13-PDB:-9.391:10.1130/0016-7606(1995)107<1381:LMECIN>2.3.CO;2'\n",
    "#site_df.iloc[3, list(site_df.columns).index('external_results')] = 'Not in CV:-9.391:\"10.1130/0016-7606(1995)107<1381:LMECIN>2.3.CO;2\"'\n",
    "\n",
    "validate_upload.validate_table(con, 'sites', verbose=True)"
   ]
  },
  {
   "cell_type": "code",
   "execution_count": null,
   "metadata": {},
   "outputs": [],
   "source": []
  }
 ],
 "metadata": {
  "kernelspec": {
   "display_name": "Python 3.7.4 64-bit",
   "language": "python",
   "name": "python37464bit4b5a891cd27b4dffa84203e17d6deeba"
  },
  "language_info": {
   "codemirror_mode": {
    "name": "ipython",
    "version": 2
   },
   "file_extension": ".py",
   "mimetype": "text/x-python",
   "name": "python",
   "nbconvert_exporter": "python",
   "pygments_lexer": "ipython2",
   "version": "3.8.1-final"
  }
 },
 "nbformat": 4,
 "nbformat_minor": 0
}