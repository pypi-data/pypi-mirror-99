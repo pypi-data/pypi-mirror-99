{
 "cells": [
  {
   "cell_type": "markdown",
   "metadata": {},
   "source": [
    "This notebook was used to create and debug functionality for Thellier GUI in 3.0.  "
   ]
  },
  {
   "cell_type": "markdown",
   "metadata": {},
   "source": [
    "## Getting started"
   ]
  },
  {
   "cell_type": "code",
   "execution_count": 1,
   "metadata": {
    "collapsed": false
   },
   "outputs": [],
   "source": [
    "import pmagpy.contribution_builder as cb\n",
    "from pmagpy import ipmag\n",
    "import os\n",
    "import json\n",
    "import numpy as np\n",
    "import sys\n",
    "\n",
    "import pandas as pd\n",
    "from pandas import DataFrame\n",
    "from pmagpy import validate_upload3 as validate_upload\n",
    "from pmagpy import pmag\n",
    "\n",
    "reload(nb)\n",
    "\n",
    "WD = os.path.join(\"..\", \"3_0\", \"Megiddo\")\n"
   ]
  },
  {
   "cell_type": "markdown",
   "metadata": {},
   "source": [
    "## Working with anisotropy data for Thellier GUI"
   ]
  },
  {
   "cell_type": "code",
   "execution_count": 2,
   "metadata": {
    "collapsed": false
   },
   "outputs": [
    {
     "name": "stdout",
     "output_type": "stream",
     "text": [
      "-I- Getting method codes from earthref.org\n",
      "-I- Importing controlled vocabularies from https://earthref.org\n",
      "-I- Importing suggested vocabularies from https://earthref.org\n",
      "-W- No such file: /Users/nebula/Python/PmagPy/data_files/3_0/Megiddo/images.txt\n",
      "Index([u'aniso_alt', u'aniso_ftest', u'aniso_ftest12', u'aniso_ftest23',\n",
      "       u'aniso_s', u'aniso_s_n_measurements', u'aniso_s_sigma', u'aniso_type',\n",
      "       u'aniso_v1', u'aniso_v2', u'aniso_v3', u'citations', u'description',\n",
      "       u'dir_comp', u'dir_dang', u'dir_dec', u'dir_inc', u'dir_mad_free',\n",
      "       u'dir_n_comps', u'dir_n_measurements', u'dir_tilt_correction',\n",
      "       u'experiments', u'geologic_classes', u'geologic_types', u'int_abs',\n",
      "       u'int_b_beta', u'int_corr', u'int_corr_anisotropy',\n",
      "       u'int_corr_cooling_rate', u'int_dang', u'int_drats', u'int_f',\n",
      "       u'int_fvds', u'int_g', u'int_mad_free', u'int_n_measurements',\n",
      "       u'int_n_ptrm', u'int_q', u'int_treat_dc_field', u'lithologies',\n",
      "       u'meas_step_max', u'meas_step_min', u'meas_step_unit', u'method_codes',\n",
      "       u'result_quality', u'sample', u'software_packages', u'specimen',\n",
      "       u'int_corr_nlt', u'int_ptrm_n', u'int_frac', u'int_mad', u'int_gmax',\n",
      "       u'int_scat'],\n",
      "      dtype='object')\n",
      "-I- overwriting /Users/nebula/Python/PmagPy/data_files/3_0/Megiddo/test_spec.txt\n"
     ]
    }
   ],
   "source": [
    "# get specimen level data from specimen table\n",
    "#contribution = cb.Contribution(WD, read_tables=['specimens', 'samples','sites'])\n",
    "contribution = cb.Contribution(WD, custom_filenames={'samples': 'new_samples.txt','sites': 'new_sites.txt',\n",
    "                                                     'specimens': 'new_specimens.txt'})\n",
    "if 'specimens' in contribution.tables:\n",
    "    spec_container = contribution.tables['specimens']\n",
    "    spec_data = spec_container.df\n",
    "    \n",
    "print spec_data.columns\n",
    "spec_container.write_magic_file(custom_name='test_spec.txt',dir_path=WD)"
   ]
  },
  {
   "cell_type": "code",
   "execution_count": 3,
   "metadata": {
    "collapsed": false
   },
   "outputs": [],
   "source": [
    "# find the record of a particular specimen.  if it already has aniso data, then modify in place\n",
    "# otherwise add a new record and modify that....    \n",
    "specimen = 'hz05a1' # a specimen with aniso data\n",
    "new_s = '.3:.3:.3:0:0:0'\n",
    "\n",
    "# add numeric index column temporarily\n",
    "spec_data['num'] = range(len(spec_data))\n",
    "\n",
    "\n"
   ]
  },
  {
   "cell_type": "code",
   "execution_count": 4,
   "metadata": {
    "collapsed": false
   },
   "outputs": [
    {
     "name": "stdout",
     "output_type": "stream",
     "text": [
      "update existing record hz05a1\n",
      "specimen\n",
      "hz05a1    1\n",
      "Name: num, dtype: int64\n",
      "0.344050 : 0.328649 : 0.327301 : -0.009684 : -0.000697 : -0.000627\n",
      "no record found - creating new one mc01a\n"
     ]
    },
    {
     "data": {
      "text/html": [
       "<div>\n",
       "<table border=\"1\" class=\"dataframe\">\n",
       "  <thead>\n",
       "    <tr style=\"text-align: right;\">\n",
       "      <th></th>\n",
       "      <th>specimen</th>\n",
       "      <th>aniso_s</th>\n",
       "      <th>num</th>\n",
       "    </tr>\n",
       "    <tr>\n",
       "      <th>specimen</th>\n",
       "      <th></th>\n",
       "      <th></th>\n",
       "      <th></th>\n",
       "    </tr>\n",
       "  </thead>\n",
       "  <tbody>\n",
       "    <tr>\n",
       "      <th>mc01a</th>\n",
       "      <td>mc01a</td>\n",
       "      <td>.3:.3:.3:0:0:0</td>\n",
       "      <td>373</td>\n",
       "    </tr>\n",
       "    <tr>\n",
       "      <th>hz05a1</th>\n",
       "      <td>hz05a1</td>\n",
       "      <td>None</td>\n",
       "      <td>0</td>\n",
       "    </tr>\n",
       "    <tr>\n",
       "      <th>hz05a1</th>\n",
       "      <td>hz05a1</td>\n",
       "      <td>.3:.3:.3:0:0:0</td>\n",
       "      <td>1</td>\n",
       "    </tr>\n",
       "  </tbody>\n",
       "</table>\n",
       "</div>"
      ],
      "text/plain": [
       "         specimen         aniso_s  num\n",
       "specimen                              \n",
       "mc01a       mc01a  .3:.3:.3:0:0:0  373\n",
       "hz05a1     hz05a1            None    0\n",
       "hz05a1     hz05a1  .3:.3:.3:0:0:0    1"
      ]
     },
     "execution_count": 4,
     "metadata": {},
     "output_type": "execute_result"
    }
   ],
   "source": [
    "\n",
    "# iterate through specimen names and update or add anisotropy data\n",
    "for spec in [specimen, \"mc01a\"]:\n",
    "    \n",
    "    # match specimen name\n",
    "    cond1 = spec_data['specimen'].str.contains(spec) == True\n",
    "    # anisotropy data is present\n",
    "    cond2 = spec_data['aniso_type'].str.contains('ATRM')==True\n",
    "    #cond3 = spec_data['aniso_s'].notnull() == True\n",
    "    condition = (cond1 & cond2)\n",
    "    if len(spec_data[condition]) > 0:\n",
    "        print 'update existing record', spec\n",
    "        # get list of all rows for which both conditions are true\n",
    "        #inds = spec_data[condition]['num'].values.tolist()\n",
    "        inds = spec_data[condition]['num']\n",
    "        print inds\n",
    "        # in case there are multiple anisotropy rows for a specimen, update each row\n",
    "            # get pre-existing data from that row\n",
    "        existing_data = dict(spec_data.iloc[inds[0]])\n",
    "        print existing_data['aniso_s']\n",
    "            # add to existing_data with values from new_data\n",
    "        new_data = {'aniso_s': new_s, 'specimen': spec}\n",
    "        existing_data.update(new_data)\n",
    "            # update row\n",
    "        spec_container.update_row(inds[0], existing_data)\n",
    "        if len(inds)>1: # more than one meeting condition\n",
    "            for ind in inds[1:]: \n",
    "                #ind=ind.values.tolist()\n",
    "                spec_container.delete_row(ind)\n",
    "\n",
    "                  \n",
    "    else:\n",
    "        print 'no record found - creating new one', spec\n",
    "        # add new row\n",
    "        spec_container.add_row(spec, {'aniso_s': new_s, 'specimen': spec})\n",
    "\n",
    "\n",
    "# sort so that all rows for a specimen are together\n",
    "spec_data.sort_index(inplace=True)\n",
    "# redo temporary index\n",
    "spec_data['num'] = range(len(spec_data))\n",
    "# see all records for mc01a & mc121d1 \n",
    "# now includes 1 new anisotropy record for mc01a, and 1 updated record for mc121d1\n",
    "spec_data.loc[['mc01a', specimen]][['specimen', 'aniso_s', 'num']]"
   ]
  },
  {
   "cell_type": "code",
   "execution_count": 5,
   "metadata": {
    "collapsed": false
   },
   "outputs": [],
   "source": [
    "def flip_dict(dict):\n",
    "    newdict={}\n",
    "    for key in dict:\n",
    "        val=dict[key]\n",
    "        newdict[val]=key\n",
    "    return newdict"
   ]
  },
  {
   "cell_type": "code",
   "execution_count": 6,
   "metadata": {
    "collapsed": false
   },
   "outputs": [
    {
     "name": "stdout",
     "output_type": "stream",
     "text": [
      "{'site_int_sigma': 'int_abs_sigma', 'site_alpha95': 'dir_alpha95', 'site_n': 'dir_n_samples', 'site_k': 'dir_k', 'site_int_n': 'int_n_samples', 'site_int_sigma_perc': 'int_abs_sigma_perc', 'site_r': 'dir_r', 'site_n_planes': 'dir_n_specimens_planes', 'site_n_lines': 'dir_n_specimens_lines'}\n"
     ]
    }
   ],
   "source": [
    "spec3_spec2={'int_drats': 'specimen_drats', 'site': 'er_site_name', 'int_mad': 'specimen_int_mad', 'sample': 'er_sample_name', 'measurement_step_max': 'meas_step_max', 'specimen_n': 'dir_n_measurements', 'int_n_measurements': 'specimen_int_n', 'int_corr': 'specimen_correction', 'int_rsc': 'specimen_rsc', 'analyst_names': 'er_analyst_mail_names', 'int_scat': 'specimen_scat', 'int_ptrm_n': 'specimen_int_ptrm_n', 'citations': 'er_citation_names', 'int_gmax': 'specimen_gmax', 'int_dang': 'specimen_int_dang', 'dir_tilt_correction': 'specimen_tilt_correction', 'location': 'er_location_name', 'dir_comp': 'specimen_comp_name', 'specimen_magn_moment': 'magn_moment', 'int_w': 'specimen_w', 'specimen': 'er_specimen_name', 'int_q': 'specimen_q', 'int_fvds': 'specimen_fvds', 'specimen_mad': 'dir_mad_free', 'int_frac': 'specimen_frac', 'meas_step_min': 'measurement_step_min', 'int_f': 'specimen_f', 'software_packages': 'magic_software_packages', 'dir_mad_free': 'specimen_mad', 'magn_moment': 'specimen_magn_moment', 'instrument_codes': 'magic_instrument_codes', 'int_b_beta': 'specimen_b_beta', 'dir_n_comps': 'specimen_comp_n', 'int_md': 'specimen_md', 'dir_n_measurements': 'specimen_n', 'dir_inc': 'specimen_inc', 'specimen_magn_volumn': 'magn_volumn', 'meas_step_max': 'measurement_step_max', 'dir_alpha95': 'specimen_alpha95', 'magn_volumne': 'specimen_magn_volumn', 'measurement_step_min': 'meas_step_min', 'meas_step_unit': 'measurement_step_unit', 'dir_dec': 'specimen_dec', 'method_codes': 'magic_method_codes', 'result_quality': 'specimen_flag', 'dir_dang': 'specimen_dang'} \n",
    "site3_site2={'int_abs_sigma' : 'site_int_sigma', 'int_abs_sigma_perc' : 'site_int_sigma_perc', 'int_n_samples' : 'site_int_n', 'dir_alpha95' : 'site_alpha95', 'dir_k' : 'site_k', 'dir_n_samples' : 'site_n', 'dir_n_specimens_lines' : 'site_n_lines', 'dir_n_specimens_planes' : 'site_n_planes', 'dir_r' : 'site_r'}\n",
    "aniso3_aniso2={'specimen':'er_specimen_name', 'aniso_type':'anisotropy_type', 'description':'result_description', 'aniso_ftest':'anisotropy_ftest', 'aniso_ftest12':'anisotropy_ftest12', 'aniso_ftest23':'anisotropy_ftest23', 'aniso_s_mean':'anisotropy_mean', 'aniso_s_n_measurements':'anisotropy_n', 'aniso_s_sigma':'anisotropy_sigma', 'aniso_s_unit':'anisotropy_unit', 'aniso_tilt_correction':'anisotropy_tilt_correction'}\n",
    "\n",
    "samp3_samp2 = {'int_n_specimens' : 'sample_int_n', 'int_abs_sigma' : 'sample_int_sigma', 'int_abs_sigma_perc' : 'sample_int_sigma_perc', 'dir_alpha95' : 'sample_alpha95', 'dir_n_specimens' : 'sample_n', 'dir_n_specimens_lines' : 'sample_n_lines', 'dir_n_specimens_planes' : 'sample_n_planes', 'dir_k' : 'sample_k', 'dir_r' : 'sample_r'}\n",
    "\n",
    "\n",
    "\n",
    "print flip_dict(site3_site2)\n"
   ]
  },
  {
   "cell_type": "code",
   "execution_count": null,
   "metadata": {
    "collapsed": true
   },
   "outputs": [],
   "source": []
  }
 ],
 "metadata": {
  "kernelspec": {
   "display_name": "Python 2",
   "language": "python",
   "name": "python2"
  },
  "language_info": {
   "codemirror_mode": {
    "name": "ipython",
    "version": 2
   },
   "file_extension": ".py",
   "mimetype": "text/x-python",
   "name": "python",
   "nbconvert_exporter": "python",
   "pygments_lexer": "ipython2",
   "version": "2.7.13"
  }
 },
 "nbformat": 4,
 "nbformat_minor": 0
}
