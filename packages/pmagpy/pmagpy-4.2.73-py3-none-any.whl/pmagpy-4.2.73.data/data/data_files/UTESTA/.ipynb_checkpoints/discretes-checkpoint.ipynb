{
 "metadata": {
  "name": "",
  "signature": "sha256:ef74685b65b58c1919ef57e2d72a41115f9131a689baee899c250ad0f6a30335"
 },
 "nbformat": 3,
 "nbformat_minor": 0,
 "worksheets": [
  {
   "cells": [
    {
     "cell_type": "code",
     "collapsed": false,
     "input": [
      "import sys\n",
      "#sys.path.insert(0,'/Users/wildrocker/PmagPy')\n",
      "sys.path.insert(0,'/Users/ltauxe/Programs/PmagPy/GIT/PmagPy')\n",
      "from IPython.display import Image\n",
      "import pandas as pd\n",
      "import pmag,exceptions\n",
      "import numpy as np"
     ],
     "language": "python",
     "metadata": {},
     "outputs": [],
     "prompt_number": 4
    },
    {
     "cell_type": "code",
     "collapsed": false,
     "input": [
      "!IODP_descr_magic.py -A -f SRM_data/SRM_dscr_355_U1456A_W.csv -F U1456A_MagIC/no_ave_SRM_dscr_355_U1456A_W.csv.magic\n",
      "dscr_data,filetype=pmag.magic_read(\"U1456A_MagIC/no_ave_SRM_dscr_355_U1456A_W.csv.magic\")\n",
      "specs=pmag.get_specs(dscr_data)"
     ],
     "language": "python",
     "metadata": {},
     "outputs": [
      {
       "output_type": "stream",
       "stream": "stdout",
       "text": [
        "processing:  ./SRM_data/SRM_dscr_355_U1456A_W.csv\r\n"
       ]
      },
      {
       "output_type": "stream",
       "stream": "stdout",
       "text": [
        "2171  records written to file  ./U1456A_MagIC/no_ave_SRM_dscr_355_U1456A_W.csv.magic\r\n"
       ]
      },
      {
       "output_type": "stream",
       "stream": "stdout",
       "text": [
        "data stored in  ./U1456A_MagIC/no_ave_SRM_dscr_355_U1456A_W.csv.magic\r\n"
       ]
      }
     ],
     "prompt_number": 5
    },
    {
     "cell_type": "code",
     "collapsed": false,
     "input": [
      "def parse_data(step):\n",
      "    dir=[float(step['measurement_dec']),float(step['measurement_inc']),float(step['measurement_magn_moment'])]\n",
      "    xyz=pmag.dir2cart(dir)\n",
      "    return xyz"
     ],
     "language": "python",
     "metadata": {},
     "outputs": [],
     "prompt_number": 3
    },
    {
     "cell_type": "code",
     "collapsed": false,
     "input": [
      "diffs=[]\n",
      "for spec in specs:\n",
      "    spec_data=pmag.get_dictitem(dscr_data,'er_specimen_name',spec,'T') # get the data for this spec\n",
      "    treats=pmag.get_dictkey(spec_data,'treatment_ac_field','') # find the treatments\n",
      "    next_to_last=pmag.get_dictitem(spec_data,'treatment_ac_field',treats[-2],'T') # next to last treatment\n",
      "    start=next_to_last[-1] # one just before the last set of treatments\n",
      "    last_step=pmag.get_dictitem(spec_data,'treatment_ac_field',treats[-1],'T') # last set\n",
      "    xyz0=parse_data(start)\n",
      "    for s in last_step:\n",
      "        xyz=parse_data(s)\n",
      "        resultant=pmag.cart2dir([xyz-xyz0])\n",
      "        if 'oward' in s['measurement_description']:\n",
      "            ref=[0,0,1]\n",
      "        elif 'ight' in s['measurement_description']:\n",
      "            ref=[90,0,1]\n",
      "        elif 'Away' in s['measurement_description']:\n",
      "            ref=[0,90,1]\n",
      "        angle=pmag.angle(ref,resultant)\n",
      "        diffs.append({'specimen':s['er_specimen_name'],'orientation':s['measurement_description'],'angle':'%f7.1'%(angle)})\n",
      "        xyz0=xyz\n",
      "pmag.magic_write('angles.txt',diffs,'special')\n",
      "    "
     ],
     "language": "python",
     "metadata": {},
     "outputs": [
      {
       "output_type": "stream",
       "stream": "stdout",
       "text": [
        "280  records written to file  angles.txt\n"
       ]
      },
      {
       "metadata": {},
       "output_type": "pyout",
       "prompt_number": 4,
       "text": [
        "(True, 'angles.txt')"
       ]
      }
     ],
     "prompt_number": 4
    },
    {
     "cell_type": "code",
     "collapsed": false,
     "input": [],
     "language": "python",
     "metadata": {},
     "outputs": [],
     "prompt_number": 4
    }
   ],
   "metadata": {}
  }
 ]
}