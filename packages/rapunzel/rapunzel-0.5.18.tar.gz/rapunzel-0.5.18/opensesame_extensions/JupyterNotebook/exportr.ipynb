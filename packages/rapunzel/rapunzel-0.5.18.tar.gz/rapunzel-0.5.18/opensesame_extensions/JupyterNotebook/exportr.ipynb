{
 "cells": [
  {
   "cell_type": "markdown",
   "metadata": {},
   "source": [
    "This is a comment"
   ]
  },
  {
   "cell_type": "code",
   "execution_count": 0,
   "metadata": {},
   "outputs": [],
   "source": [
    "library(ggplot)"
   ]
  }
 ],
 "metadata": {
  "kernel_info": {
   "display_name": "R",
   "language": "R",
   "name": "ir"
  },
  "kernelspec": {
   "display_name": "R",
   "language": "R",
   "name": "ir"
  }
 },
 "nbformat": 4,
 "nbformat_minor": 4
}
