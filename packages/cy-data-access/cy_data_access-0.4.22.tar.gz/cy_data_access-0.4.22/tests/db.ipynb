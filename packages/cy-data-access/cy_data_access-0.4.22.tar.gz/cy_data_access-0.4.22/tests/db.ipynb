{
 "metadata": {
  "language_info": {
   "codemirror_mode": {
    "name": "ipython",
    "version": 3
   },
   "file_extension": ".py",
   "mimetype": "text/x-python",
   "name": "python",
   "nbconvert_exporter": "python",
   "pygments_lexer": "ipython3",
   "version": "3.7.5-final"
  },
  "orig_nbformat": 2,
  "kernelspec": {
   "name": "python37564bit8409255418034dfeada81c2f6070bc9d",
   "display_name": "Python 3.7.5 64-bit"
  }
 },
 "nbformat": 4,
 "nbformat_minor": 2,
 "cells": [
  {
   "cell_type": "code",
   "execution_count": 10,
   "metadata": {
    "tags": []
   },
   "outputs": [
    {
     "output_type": "stream",
     "name": "stdout",
     "text": "\n   close_price coin_pair       cost                    date exchange_name  hold  profit_amount\n0      23.1539  BNB/USDT   0.000000                     NaT       Binance  0.00      30.331609\n1      23.1803  BNB/USDT   0.000000                     NaT       Binance  0.00      10.662938\n2      23.1750  BNB/USDT  10.661144 2020-08-17 18:20:39.879       Binance  0.46      -0.000644\nsum: 40.993902999999996\n\n"
    }
   ],
   "source": [
    "from cy_data_access.models.position import *\n",
    "import pandas as pd\n",
    "pd.set_option('expand_frame_repr', False)  # 当列太多时不换行\n",
    "connect_db_env(db_name=DB_POSITION)\n",
    "selling = list(AIMSPositionSelling.objects.values())\n",
    "df = pd.DataFrame(selling)\n",
    "df.drop(['_cls', '_id'], axis=1, inplace=True)\n",
    "print(\"\"\"\n",
    "{}\n",
    "sum: {}\n",
    "\"\"\".format(df, df['profit_amount'].sum()))"
   ]
  },
  {
   "cell_type": "code",
   "execution_count": null,
   "metadata": {},
   "outputs": [],
   "source": []
  }
 ]
}