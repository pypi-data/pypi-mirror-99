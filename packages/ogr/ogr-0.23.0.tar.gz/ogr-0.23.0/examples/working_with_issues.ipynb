{
 "metadata": {
  "language_info": {
   "codemirror_mode": {
    "name": "ipython",
    "version": 3
   },
   "file_extension": ".py",
   "mimetype": "text/x-python",
   "name": "python",
   "nbconvert_exporter": "python",
   "pygments_lexer": "ipython3",
   "version": "3.8.4-final"
  },
  "orig_nbformat": 2,
  "kernelspec": {
   "name": "python38364bit3ec8239d0440456baaf370e87148ec69",
   "display_name": "Python 3.8.3 64-bit"
  }
 },
 "nbformat": 4,
 "nbformat_minor": 2,
 "cells": [
  {
   "source": [
    "# Working with issues"
   ],
   "cell_type": "markdown",
   "metadata": {}
  },
  {
   "cell_type": "code",
   "execution_count": 1,
   "metadata": {},
   "outputs": [],
   "source": [
    "from ogr import GithubService\n",
    "\n",
    "TOKEN = \"<paste-your-token-here>\"\n",
    "\n",
    "service = GithubService(token=TOKEN)"
   ]
  },
  {
   "cell_type": "markdown",
   "metadata": {},
   "source": [
    "In case you want to use separate project for trying out:"
   ]
  },
  {
   "cell_type": "code",
   "execution_count": 2,
   "metadata": {},
   "outputs": [
    {
     "output_type": "execute_result",
     "data": {
      "text/plain": "<ogr.services.github.project.GithubProject at 0x7fd931f3e0a0>"
     },
     "metadata": {},
     "execution_count": 2
    }
   ],
   "source": [
    "service.project_create(repo=\"issues-with-ogr\")"
   ]
  },
  {
   "cell_type": "markdown",
   "metadata": {},
   "source": [
    "After calling the method above:\n",
    "![](img/newly_created_project.png)"
   ]
  },
  {
   "cell_type": "code",
   "execution_count": 3,
   "metadata": {},
   "outputs": [],
   "source": [
    "# let's get the project\n",
    "project = service.get_project(repo=\"issues-with-ogr\", namespace=service.user.get_username())"
   ]
  },
  {
   "cell_type": "markdown",
   "metadata": {},
   "source": [
    "## Creating new issues"
   ]
  },
  {
   "cell_type": "code",
   "execution_count": 4,
   "metadata": {},
   "outputs": [],
   "source": [
    "new_issue = project.create_issue(title=\"Something TBD\", body=\"new issue related to xyz\")"
   ]
  },
  {
   "cell_type": "markdown",
   "metadata": {},
   "source": [
    "Newly created issue on Github:\n",
    "![](img/new_issue.png)"
   ]
  },
  {
   "cell_type": "markdown",
   "metadata": {},
   "source": [
    "We can comment on the object we got when creating issue."
   ]
  },
  {
   "cell_type": "code",
   "execution_count": 5,
   "metadata": {},
   "outputs": [
    {
     "output_type": "execute_result",
     "data": {
      "text/plain": "<ogr.services.github.comments.GithubIssueComment at 0x7fd932e40730>"
     },
     "metadata": {},
     "execution_count": 5
    }
   ],
   "source": [
    "new_issue.comment(\"first comment\")"
   ]
  },
  {
   "cell_type": "markdown",
   "metadata": {},
   "source": [
    "Or print out information about comments."
   ]
  },
  {
   "cell_type": "code",
   "execution_count": 6,
   "metadata": {
    "tags": []
   },
   "outputs": [
    {
     "output_type": "stream",
     "name": "stdout",
     "text": "GithubIssueComment(comment='first comm...', author='mfocko', created='2020-08-03 09:21:59', edited='2020-08-03 09:21:59')\n"
    }
   ],
   "source": [
    "for comment in new_issue.get_comments():\n",
    "    print(comment)"
   ]
  },
  {
   "cell_type": "markdown",
   "metadata": {},
   "source": [
    "In the end we can close the issue."
   ]
  },
  {
   "cell_type": "code",
   "execution_count": 7,
   "metadata": {},
   "outputs": [
    {
     "output_type": "execute_result",
     "data": {
      "text/plain": "<ogr.services.github.issue.GithubIssue at 0x7fd931dc6100>"
     },
     "metadata": {},
     "execution_count": 7
    }
   ],
   "source": [
    "new_issue.close()"
   ]
  },
  {
   "cell_type": "markdown",
   "metadata": {},
   "source": [
    "Issue after closing:\n",
    "![](img/closed_issue.png)"
   ]
  }
 ]
}
