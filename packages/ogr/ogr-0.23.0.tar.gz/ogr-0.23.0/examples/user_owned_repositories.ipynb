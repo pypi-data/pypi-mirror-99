{
 "cells": [
  {
   "cell_type": "markdown",
   "metadata": {},
   "source": [
    "# How to list repositories owned by a user on GitHub"
   ]
  },
  {
   "cell_type": "markdown",
   "metadata": {},
   "source": [
    "Firstly we need to acquire API tokens for service. There are two simplest options: first uses copy-pasting the token and second acquires it from the ENV variable. (It's also possible to use `python-dotenv` package and store those variables in `.env` file)"
   ]
  },
  {
   "cell_type": "markdown",
   "metadata": {},
   "source": [
    "## Acquiring tokens\n",
    "\n",
    "1.  from environment variables (doesn't work perfectly in Jupyter)\n",
    "    assumes you have token stored in `$GITHUB_TOKEN`"
   ]
  },
  {
   "cell_type": "code",
   "execution_count": 1,
   "metadata": {},
   "outputs": [],
   "source": [
    "import os\n",
    "TOKEN = os.environ.get(\"GITHUB_TOKEN\") # if variable is not set, you get `None`"
   ]
  },
  {
   "cell_type": "markdown",
   "metadata": {},
   "source": [
    "2.  by copy-pasting token from Github"
   ]
  },
  {
   "cell_type": "code",
   "execution_count": 2,
   "metadata": {},
   "outputs": [],
   "source": [
    "TOKEN = \"<paste-your-token-here>\""
   ]
  },
  {
   "cell_type": "markdown",
   "metadata": {},
   "source": [
    "## `ogr`'s service class\n",
    "\n",
    "Now let's import service class from `ogr`. Then we'll create service object using our token. Service object is used for getting other objects (users, projects) later."
   ]
  },
  {
   "cell_type": "code",
   "execution_count": 3,
   "metadata": {},
   "outputs": [],
   "source": [
    "from ogr import GithubService\n",
    "\n",
    "service = GithubService(token=TOKEN)"
   ]
  },
  {
   "cell_type": "markdown",
   "metadata": {},
   "source": [
    "We can grab the user object from service by using `user` property. It returns user object of user that owns used token."
   ]
  },
  {
   "cell_type": "code",
   "execution_count": 4,
   "metadata": {},
   "outputs": [],
   "source": [
    "user = service.user"
   ]
  },
  {
   "cell_type": "markdown",
   "metadata": {},
   "source": [
    "After that we can get user's projects and print out some information about them."
   ]
  },
  {
   "cell_type": "code",
   "execution_count": 5,
   "metadata": {
    "tags": []
   },
   "outputs": [
    {
     "output_type": "stream",
     "name": "stdout",
     "text": "mfocko/cascadia-code has 0 pull requests open\nmfocko/doom-emacs has 0 pull requests open\nmfocko/hello-world has 2 pull requests open\n"
    }
   ],
   "source": [
    "# Now we can get list of projects from a user\n",
    "projects = user.get_projects()\n",
    "\n",
    "# And we print first 3 out:\n",
    "for project in projects[:3]:\n",
    "    print(f\"{project.namespace}/{project.repo} has {len(project.get_pr_list())} pull requests open\")"
   ]
  }
 ],
 "metadata": {
  "kernelspec": {
   "display_name": "Python 3.8.3 64-bit",
   "language": "python",
   "name": "python38364bit3ec8239d0440456baaf370e87148ec69"
  },
  "language_info": {
   "codemirror_mode": {
    "name": "ipython",
    "version": 3
   },
   "file_extension": ".py",
   "mimetype": "text/x-python",
   "name": "python",
   "nbconvert_exporter": "python",
   "pygments_lexer": "ipython3",
   "version": "3.8.3-final"
  }
 },
 "nbformat": 4,
 "nbformat_minor": 2
}
