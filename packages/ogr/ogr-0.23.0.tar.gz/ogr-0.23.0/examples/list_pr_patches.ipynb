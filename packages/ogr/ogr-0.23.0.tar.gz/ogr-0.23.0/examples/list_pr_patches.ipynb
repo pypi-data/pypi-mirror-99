{
 "metadata": {
  "language_info": {
   "codemirror_mode": {
    "name": "ipython",
    "version": 3
   },
   "file_extension": ".py",
   "mimetype": "text/x-python",
   "name": "python",
   "nbconvert_exporter": "python",
   "pygments_lexer": "ipython3",
   "version": "3.8.4-final"
  },
  "orig_nbformat": 2,
  "kernelspec": {
   "name": "python38364bit3ec8239d0440456baaf370e87148ec69",
   "display_name": "Python 3.8.3 64-bit"
  }
 },
 "nbformat": 4,
 "nbformat_minor": 2,
 "cells": [
  {
   "source": [
    "# Listing patches of open pull requests\n",
    "\n",
    "Currently works only in Pagure."
   ],
   "cell_type": "markdown",
   "metadata": {}
  },
  {
   "cell_type": "code",
   "execution_count": 1,
   "metadata": {},
   "outputs": [],
   "source": [
    "from ogr import PagureService\n",
    "\n",
    "TOKEN = \"<paste-your-token-here>\"\n",
    "\n",
    "service = PagureService(token=TOKEN, instance_url=\"https://pagure.io\")\n",
    "project = service.get_project(repo=\"toddlers\", namespace=\"fedora-infra\")"
   ]
  },
  {
   "cell_type": "code",
   "execution_count": 2,
   "metadata": {
    "tags": []
   },
   "outputs": [
    {
     "output_type": "stream",
     "name": "stdout",
     "text": "Open pull requests: 2\n"
    }
   ],
   "source": [
    "open_prs = project.get_pr_list()\n",
    "print(f\"Open pull requests: {len(open_prs)}\")"
   ]
  },
  {
   "cell_type": "code",
   "execution_count": 3,
   "metadata": {
    "tags": []
   },
   "outputs": [
    {
     "output_type": "stream",
     "name": "stdout",
     "text": "# 25: When syncing accounts from FAS to bugzilla, ignore all @redhat.com accounts\nb'From a1fbf1ad76266a8ac39744480dc83b94eb809bb3 Mon Sep 17 00:00:00 2001'\nb'From: Pierre-Yves Chibon <pingou@pingoured.fr>'\nb'Date: Jul 24 2020 08:16:58 +0000'\nb'Subject: When syncing accounts from FAS to bugzilla, ignore all @redhat.com accounts'\nFull diff: https://pagure.io/fedora-infra/toddlers/pull-request/25#request_diff\n\n# 22: Add the pdc_modules toddler\nb'From 2538e5cf36f506ebd6ff36dee297e8ab929ccbc1 Mon Sep 17 00:00:00 2001'\nb'From: Michal Kone\\xc4\\x8dn\\xc3\\xbd <mkonecny@redhat.com>'\nb'Date: Jul 24 2020 11:49:24 +0000'\nb'Subject: [PATCH 1/4] Add the pdc_modules toddler'\nFull diff: https://pagure.io/fedora-infra/toddlers/pull-request/22#request_diff\n\n"
    }
   ],
   "source": [
    "for pr in open_prs:\n",
    "    print(f\"# {pr.id}: {pr.title}\")\n",
    "    for line in pr.patch.splitlines()[:4]:\n",
    "        print(line)\n",
    "    print(f\"Full diff: {pr.diff_url}\")\n",
    "    print()"
   ]
  }
 ]
}
