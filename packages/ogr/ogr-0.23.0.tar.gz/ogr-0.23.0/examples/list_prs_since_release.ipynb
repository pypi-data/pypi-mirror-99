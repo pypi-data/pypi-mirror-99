{
 "cells": [
  {
   "cell_type": "markdown",
   "metadata": {},
   "source": [
    "# How to get list of pull requests since release"
   ]
  },
  {
   "cell_type": "markdown",
   "metadata": {},
   "source": [
    "As in other example, firstly we need to obtain token and create a service object.\n",
    "\n",
    "Additionally we'll get a project that we're interested in right away."
   ]
  },
  {
   "cell_type": "code",
   "execution_count": 1,
   "metadata": {},
   "outputs": [],
   "source": [
    "from ogr import GithubService\n",
    "\n",
    "TOKEN = \"<paste-your-token-here>\"\n",
    "\n",
    "service = GithubService(token=TOKEN)\n",
    "project = service.get_project(namespace=\"packit-service\", repo=\"ogr\")"
   ]
  },
  {
   "cell_type": "markdown",
   "metadata": {},
   "source": [
    "Now we can get a release that specifies point since which we'd like to see pull requests."
   ]
  },
  {
   "cell_type": "code",
   "execution_count": 2,
   "metadata": {
    "tags": []
   },
   "outputs": [
    {
     "output_type": "stream",
     "name": "stdout",
     "text": "Bigger release from 2020-05-06 15:53:23.\n"
    }
   ],
   "source": [
    "big_release = project.get_release(tag_name=\"0.12.0\")\n",
    "print(f\"Bigger release from {big_release.created_at}.\")"
   ]
  },
  {
   "cell_type": "markdown",
   "metadata": {},
   "source": [
    "Since we want to see *all* pull requests afterwards, we'll get a full list."
   ]
  },
  {
   "cell_type": "code",
   "execution_count": 3,
   "metadata": {},
   "outputs": [],
   "source": [
    "from ogr.abstract import PRStatus\n",
    "prs = project.get_pr_list(status=PRStatus.all)"
   ]
  },
  {
   "cell_type": "markdown",
   "metadata": {},
   "source": [
    "Now we're able to filter those pull requests we're interested in and print them out."
   ]
  },
  {
   "cell_type": "code",
   "execution_count": 4,
   "metadata": {
    "tags": []
   },
   "outputs": [
    {
     "output_type": "stream",
     "name": "stdout",
     "text": "#435: Sourcery refactor\n#433: 0.12.2 release\n#431: Job metadata key 'dist_git_branch' was renamed to 'dist_git_branches'\n#430: Replace Python version glob with macro\n#429: Fix get_file_content() returning bytes\n#428: Copr build for master and releases\n#419: Pull requests on Gitlab\n#427: Zuul & pre-commit related changes\n#425: Implement PagurePullRequest.get_flags() (not merged)\n#426: Improve the message when marking issues as stale\n#411: Creating PRs from `fork` to `other-fork` on Github\n#422: 0.12.1 release\n#418: Fix factory.get_project\n#415: Add PullRequest.patch property\n#410: GitHub: query only one user when telling if a user can merge PRs\n"
    }
   ],
   "source": [
    "prs_since_release = filter(lambda pr: pr.created > big_release.created_at, prs)\n",
    "\n",
    "for pr in prs_since_release:\n",
    "    print(f\"#{pr.id}: {pr.title}{' (not merged)' if pr.status == PRStatus.closed else ''}\")"
   ]
  }
 ],
 "metadata": {
  "language_info": {
   "codemirror_mode": {
    "name": "ipython",
    "version": 3
   },
   "file_extension": ".py",
   "mimetype": "text/x-python",
   "name": "python",
   "nbconvert_exporter": "python",
   "pygments_lexer": "ipython3",
   "version": "3.8.3-final"
  },
  "orig_nbformat": 2,
  "kernelspec": {
   "name": "python38364bit3ec8239d0440456baaf370e87148ec69",
   "display_name": "Python 3.8.3 64-bit"
  }
 },
 "nbformat": 4,
 "nbformat_minor": 2
}
