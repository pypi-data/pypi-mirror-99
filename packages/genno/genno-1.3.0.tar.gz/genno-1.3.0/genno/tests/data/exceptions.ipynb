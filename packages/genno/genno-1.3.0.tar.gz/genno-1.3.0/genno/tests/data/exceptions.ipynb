{
 "cells": [
  {
   "cell_type": "code",
   "execution_count": null,
   "metadata": {},
   "outputs": [],
   "source": [
    "import genno\n",
    "\n",
    "def fail():\n",
    "    'x' + 3.4  # Raises TypeError\n",
    "\n",
    "c = genno.Computer()\n",
    "c.add('test', (fail,))\n",
    "c.get('test')"
   ]
  }
 ],
 "metadata": {
  "kernelspec": {
   "display_name": "Python 3",
   "language": "python",
   "name": "python3"
  },
  "language_info": {
   "codemirror_mode": {
    "name": "ipython",
    "version": 3
   },
   "file_extension": ".py",
   "mimetype": "text/x-python",
   "name": "python",
   "nbconvert_exporter": "python",
   "pygments_lexer": "ipython3",
   "version": "3.7.5"
  }
 },
 "nbformat": 4,
 "nbformat_minor": 2
}
