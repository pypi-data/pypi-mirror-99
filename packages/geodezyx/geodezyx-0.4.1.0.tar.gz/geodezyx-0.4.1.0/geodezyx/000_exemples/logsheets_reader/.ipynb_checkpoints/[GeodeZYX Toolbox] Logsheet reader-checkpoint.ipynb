{
 "cells": [
  {
   "cell_type": "markdown",
   "metadata": {},
   "source": [
    "# Logsheet Reader\n",
    "\n",
    "The Logsheets (a.k.a. Sitelogs) are an IGS conventionnal format describing the general configuration and material changes of an GNSS Station.\n",
    "It can be considered as a ID card for each GNSS station.\n",
    "\n",
    "\n",
    "We describe here how to uses the fuctions to import Logsheets/Sitelogs data into a Python environnement."
   ]
  },
  {
   "cell_type": "markdown",
   "metadata": {},
   "source": [
    "### Import the librairies"
   ]
  },
  {
   "cell_type": "code",
   "execution_count": 1,
   "metadata": {},
   "outputs": [],
   "source": [
    "#### Import star style\n",
    "from geodezyx import *                   # Import the GeodeZYX modules\n",
    "from geodezyx.externlib import *         # Import the external modules\n",
    "from geodezyx.megalib.megalib import *   # Import the legacy modules names"
   ]
  },
  {
   "cell_type": "markdown",
   "metadata": {},
   "source": [
    "## Import the logsheets"
   ]
  },
  {
   "cell_type": "markdown",
   "metadata": {},
   "source": [
    "### Define the path containing the logsheets and list them"
   ]
  },
  {
   "cell_type": "code",
   "execution_count": 2,
   "metadata": {},
   "outputs": [],
   "source": [
    "path_logsheets = \"/home/psakicki/CODES/GeodeZYX-Toolbox_v4/geodezyx/000_exemples/logsheets_reader/logsheets_exemple/\""
   ]
  },
  {
   "cell_type": "code",
   "execution_count": 3,
   "metadata": {},
   "outputs": [],
   "source": [
    "List_logsheets = glob.glob(path_logsheets + \"*log\")"
   ]
  },
  {
   "cell_type": "markdown",
   "metadata": {},
   "source": [
    "### Read all the logsheets"
   ]
  },
  {
   "cell_type": "code",
   "execution_count": 4,
   "metadata": {},
   "outputs": [
    {
     "name": "stdout",
     "output_type": "stream",
     "text": [
      "INFO: logsheet_list: \n",
      "['/home/psakicki/CODES/GeodeZYX-Toolbox_v4/geodezyx/000_exemples/logsheets_reader/logsheets_exemple/tlse_20200518.log', '/home/psakicki/CODES/GeodeZYX-Toolbox_v4/geodezyx/000_exemples/logsheets_reader/logsheets_exemple/smne_20190313.log', '/home/psakicki/CODES/GeodeZYX-Toolbox_v4/geodezyx/000_exemples/logsheets_reader/logsheets_exemple/brst_20200511.log']\n"
     ]
    }
   ],
   "source": [
    "Sites_dict = files_rw.multi_logsheet_read(List_logsheets , return_dico=True)"
   ]
  },
  {
   "cell_type": "markdown",
   "metadata": {},
   "source": [
    "## Exploit the imported data\n",
    "\n",
    "We return all the data in a dictionnary\n",
    "\n",
    "the dictionnary key is the 4-characters code of the station\n",
    "\n",
    "In this exemple we import BRST, TLSE and SMNE"
   ]
  },
  {
   "cell_type": "code",
   "execution_count": 9,
   "metadata": {},
   "outputs": [],
   "source": [
    "Period , Site , Loc = Sites_dict[\"BRST\"]"
   ]
  },
  {
   "cell_type": "markdown",
   "metadata": {},
   "source": [
    "Each dictionnary element contains a tuple made of:\n",
    "  * A list of Period tuples \n",
    "  * A list of Location Objects\n",
    "  * A list of Site Objects\n",
    "    \n",
    "We define each element bellow"
   ]
  },
  {
   "cell_type": "markdown",
   "metadata": {},
   "source": [
    "### About the Location Object"
   ]
  },
  {
   "cell_type": "code",
   "execution_count": 13,
   "metadata": {},
   "outputs": [
    {
     "name": "stdout",
     "output_type": "stream",
     "text": [
      "4231162.0,-332747.0,4745131.0,2005-01-01 00:00:00\n"
     ]
    }
   ],
   "source": [
    "print(Loc)"
   ]
  },
  {
   "cell_type": "markdown",
   "metadata": {},
   "source": [
    "The attribute of the Location Object are based on the logsheet fields of the \"Location\" Block.\n",
    "(Spaces are replaced with underscores _)\n",
    "\n",
    "e.g. if you want to access to the name of the city where the station is located, or it's X coordinate:"
   ]
  },
  {
   "cell_type": "code",
   "execution_count": 14,
   "metadata": {
    "scrolled": true
   },
   "outputs": [
    {
     "name": "stdout",
     "output_type": "stream",
     "text": [
      "Brest\n",
      "4231162.0\n"
     ]
    }
   ],
   "source": [
    "print(Loc.City_or_Town)\n",
    "\n",
    "print(Loc.X_coordinate_m)"
   ]
  },
  {
   "cell_type": "markdown",
   "metadata": {},
   "source": [
    "Here is the list of the avaiable attributes\n",
    "\n",
    "<pre>\n",
    "{'City_or_Town': 'Brest',\n",
    " 'State_or_Province': 'Finistere',\n",
    " 'Country': 'France',\n",
    " 'Tectonic_Plate': 'EURASIAN',\n",
    " 'X_coordinate_m': 4231162.0,\n",
    " 'Y_coordinate_m': -332747.0,\n",
    " 'Z_coordinate_m': 4745131.0,\n",
    " 'Latitude': 0.0,\n",
    " 'Longitude': 0.0,\n",
    " 'Elevation_m_ellips': 65.5,\n",
    " 'Additional_Information': '(multiple lines)',\n",
    " 'X_velocity': 0.0,\n",
    " 'Y_velocity': 0.0,\n",
    " 'Z_velocity': 0.0,\n",
    " 'X_coordinate_sigma': 0.008,\n",
    " 'Y_coordinate_sigma': 0.008,\n",
    " 'Z_coordinate_sigma': 0.008,\n",
    " 'X_velocity_sigma': 0.008,\n",
    " 'Y_velocity_sigma': 0.008,\n",
    " 'Z_velocity_sigma': 0.008,\n",
    " 'Reference_epoch': datetime.datetime(2005, 1, 1, 0, 0),\n",
    " 'Site_Location_Information': '',\n",
    " 'Latitude_N_is_+': 482249.79,\n",
    " 'Longitude_E_is_+': -42947.76}\n",
    " </pre>"
   ]
  },
  {
   "cell_type": "markdown",
   "metadata": {},
   "source": [
    "you can access to this list with"
   ]
  },
  {
   "cell_type": "code",
   "execution_count": null,
   "metadata": {},
   "outputs": [],
   "source": [
    "vars(Loc)"
   ]
  },
  {
   "cell_type": "markdown",
   "metadata": {},
   "source": [
    "### About the Site Object"
   ]
  },
  {
   "cell_type": "code",
   "execution_count": 15,
   "metadata": {},
   "outputs": [
    {
     "name": "stdout",
     "output_type": "stream",
     "text": [
      "Brest,BRST,1998-10-31T00:00Z\n"
     ]
    }
   ],
   "source": [
    "print(Site)"
   ]
  },
  {
   "cell_type": "markdown",
   "metadata": {},
   "source": [
    "The attribute of the Site Object are based on the logsheet fields of the \"Site\" Block.\n",
    "(Spaces are replaced with underscores _)\n",
    "\n",
    "e.g. if you want to access to the station Four Character ID, or it's Monument Foundation:"
   ]
  },
  {
   "cell_type": "code",
   "execution_count": 16,
   "metadata": {},
   "outputs": [
    {
     "name": "stdout",
     "output_type": "stream",
     "text": [
      "BRST\n",
      "TERRACE\n"
     ]
    }
   ],
   "source": [
    "print(Site.Four_Character_ID)\n",
    "print(Site.Monument_Foundation)"
   ]
  },
  {
   "cell_type": "markdown",
   "metadata": {},
   "source": [
    "Here is the list of the avaiable attributes\n",
    "\n",
    "<pre>\n",
    "{'Site_Name': 'Brest',\n",
    " 'Four_Character_ID': 'BRST',\n",
    " 'Monument_Inscription': 'NONE',\n",
    " '_Site__IERS_DOMES_Number': '10004M004',\n",
    " 'CDP_Number': '(A4)',\n",
    " 'Monument_Description': 'INOX PLATE ON TOP OF A METALLIC PILAR',\n",
    " 'Height_of_the_Monument': '2 m',\n",
    " 'Monument_Foundation': 'TERRACE',\n",
    " 'Foundation_Depth': '(m)',\n",
    " 'Marker_Description': 'HEMISPHERIC BRASS MARKER',\n",
    " 'Date_Installed': '1998-10-31T00:00Z',\n",
    " 'Geologic_Characteristic': 'BEDROCK',\n",
    " 'Bedrock_Type': 'METAMORPHIC',\n",
    " 'Bedrock_Condition': '(FRESH/JOINTED/WEATHERED)',\n",
    " 'Fracture_Spacing': '(0 cm/1-10 cm/11-50 cm/51-200 cm/over 200 cm)',\n",
    " 'Fault_zones_nearby': '(YES/NO/Name of the zone)',\n",
    " 'Distance_activity': '(multiple lines)',\n",
    " 'Additional_Information': 'Steel mast has been changed on',\n",
    " 'Site_Identification_of_th': 'GNSS Monument',\n",
    " '': '2007-04-19T18:00Z'}\n",
    " </pre>"
   ]
  },
  {
   "cell_type": "markdown",
   "metadata": {},
   "source": [
    "you can access to this list with"
   ]
  },
  {
   "cell_type": "code",
   "execution_count": 45,
   "metadata": {},
   "outputs": [
    {
     "data": {
      "text/plain": [
       "{'Site_Name': 'Brest',\n",
       " 'Four_Character_ID': 'BRST',\n",
       " 'Monument_Inscription': 'NONE',\n",
       " '_Site__IERS_DOMES_Number': '10004M004',\n",
       " 'CDP_Number': '(A4)',\n",
       " 'Monument_Description': 'INOX PLATE ON TOP OF A METALLIC PILAR',\n",
       " 'Height_of_the_Monument': '2 m',\n",
       " 'Monument_Foundation': 'TERRACE',\n",
       " 'Foundation_Depth': '(m)',\n",
       " 'Marker_Description': 'HEMISPHERIC BRASS MARKER',\n",
       " 'Date_Installed': '1998-10-31T00:00Z',\n",
       " 'Geologic_Characteristic': 'BEDROCK',\n",
       " 'Bedrock_Type': 'METAMORPHIC',\n",
       " 'Bedrock_Condition': '(FRESH/JOINTED/WEATHERED)',\n",
       " 'Fracture_Spacing': '(0 cm/1-10 cm/11-50 cm/51-200 cm/over 200 cm)',\n",
       " 'Fault_zones_nearby': '(YES/NO/Name of the zone)',\n",
       " 'Distance_activity': '(multiple lines)',\n",
       " 'Additional_Information': 'Steel mast has been changed on',\n",
       " 'Site_Identification_of_th': 'GNSS Monument',\n",
       " '': '2007-04-19T18:00Z'}"
      ]
     },
     "execution_count": 45,
     "metadata": {},
     "output_type": "execute_result"
    }
   ],
   "source": [
    "vars(Site)"
   ]
  },
  {
   "cell_type": "markdown",
   "metadata": {},
   "source": [
    "### About the period Tuples"
   ]
  },
  {
   "cell_type": "markdown",
   "metadata": {},
   "source": [
    "This is the most useful part. It will record every change on the material.\n",
    "each tuple of the list represent one period with an indentical configuration.\n",
    "\n",
    "Each Period tuple is a 4-elements tuple like:\n",
    "<pre>\n",
    "(period start, period end, Antenna Object, Receiver Object)\n",
    "</pre>"
   ]
  },
  {
   "cell_type": "markdown",
   "metadata": {},
   "source": [
    "The full Period list:"
   ]
  },
  {
   "cell_type": "code",
   "execution_count": 46,
   "metadata": {},
   "outputs": [
    {
     "data": {
      "text/plain": [
       "[(datetime.datetime(1998, 10, 31, 0, 0, tzinfo=tzutc()),\n",
       "  datetime.datetime(1999, 4, 2, 0, 0, tzinfo=tzutc()),\n",
       "  TRM29659.00     NONE,1998-10-31 00:00:00+00:00,2006-07-25 00:00:00+00:00,\n",
       "  TRIMBLE 4000SSI,1998-10-31 00:00:00+00:00,1999-04-02 00:00:00+00:00),\n",
       " (datetime.datetime(1999, 4, 2, 0, 0, tzinfo=tzutc()),\n",
       "  datetime.datetime(1999, 5, 6, 0, 0, tzinfo=tzutc()),\n",
       "  TRM29659.00     NONE,1998-10-31 00:00:00+00:00,2006-07-25 00:00:00+00:00,\n",
       "  TRIMBLE 4000SSI,1999-04-02 00:00:00+00:00,1999-05-06 00:00:00+00:00),\n",
       " (datetime.datetime(1999, 5, 6, 0, 0, tzinfo=tzutc()),\n",
       "  datetime.datetime(2003, 6, 11, 0, 0, tzinfo=tzutc()),\n",
       "  TRM29659.00     NONE,1998-10-31 00:00:00+00:00,2006-07-25 00:00:00+00:00,\n",
       "  TRIMBLE 4000SSI,1999-05-06 00:00:00+00:00,2003-06-10 00:00:00+00:00),\n",
       " (datetime.datetime(2003, 6, 11, 0, 0, tzinfo=tzutc()),\n",
       "  datetime.datetime(2006, 7, 26, 0, 0, tzinfo=tzutc()),\n",
       "  TRM29659.00     NONE,1998-10-31 00:00:00+00:00,2006-07-25 00:00:00+00:00,\n",
       "  TRIMBLE 4000SSI,2003-06-11 00:00:00+00:00,2006-07-26 00:00:00+00:00),\n",
       " (datetime.datetime(2006, 7, 26, 0, 0, tzinfo=tzutc()),\n",
       "  datetime.datetime(2007, 4, 19, 0, 0, tzinfo=tzutc()),\n",
       "  TRM41249.00     NONE,2006-07-26 00:00:00+00:00,2007-04-19 00:00:00+00:00,\n",
       "  TRIMBLE 5700,2006-07-26 00:00:00+00:00,2007-04-19 00:00:00+00:00),\n",
       " (datetime.datetime(2007, 4, 19, 0, 0, tzinfo=tzutc()),\n",
       "  datetime.datetime(2008, 6, 11, 0, 0, tzinfo=tzutc()),\n",
       "  LEIAT504        NONE,2007-04-19 00:00:00+00:00,2008-06-11 00:00:00+00:00,\n",
       "  LEICA GRX1200PRO,2007-04-19 00:00:00+00:00,2008-06-11 00:00:00+00:00),\n",
       " (datetime.datetime(2008, 6, 11, 0, 0, tzinfo=tzutc()),\n",
       "  datetime.datetime(2009, 5, 11, 0, 0, tzinfo=tzutc()),\n",
       "  LEIAT504GG      NONE,2008-06-11 00:00:00+00:00,2011-10-26 00:00:00+00:00,\n",
       "  LEICA GRX1200GGPRO,2008-06-11 00:00:00+00:00,2009-05-11 00:00:00+00:00),\n",
       " (datetime.datetime(2009, 5, 11, 0, 0, tzinfo=tzutc()),\n",
       "  datetime.datetime(2010, 10, 13, 0, 0, tzinfo=tzutc()),\n",
       "  LEIAT504GG      NONE,2008-06-11 00:00:00+00:00,2011-10-26 00:00:00+00:00,\n",
       "  LEICA GRX1200GGPRO,2009-05-11 00:00:00+00:00,2010-10-13 00:00:00+00:00),\n",
       " (datetime.datetime(2010, 10, 13, 0, 0, tzinfo=tzutc()),\n",
       "  datetime.datetime(2011, 3, 23, 0, 0, tzinfo=tzutc()),\n",
       "  LEIAT504GG      NONE,2008-06-11 00:00:00+00:00,2011-10-26 00:00:00+00:00,\n",
       "  LEICA GRX1200GGPRO,2010-10-13 00:00:00+00:00,2011-03-23 00:00:00+00:00),\n",
       " (datetime.datetime(2011, 3, 23, 0, 0, tzinfo=tzutc()),\n",
       "  datetime.datetime(2011, 6, 14, 0, 0, tzinfo=tzutc()),\n",
       "  LEIAT504GG      NONE,2008-06-11 00:00:00+00:00,2011-10-26 00:00:00+00:00,\n",
       "  LEICA GRX1200GGPRO,2011-03-23 00:00:00+00:00,2011-06-14 00:00:00+00:00),\n",
       " (datetime.datetime(2011, 6, 14, 0, 0, tzinfo=tzutc()),\n",
       "  datetime.datetime(2011, 10, 26, 0, 0, tzinfo=tzutc()),\n",
       "  LEIAT504GG      NONE,2008-06-11 00:00:00+00:00,2011-10-26 00:00:00+00:00,\n",
       "  LEICA GRX1200GGPRO,2011-06-14 00:00:00+00:00,2011-10-26 00:00:00+00:00),\n",
       " (datetime.datetime(2011, 10, 26, 0, 0, tzinfo=tzutc()),\n",
       "  datetime.datetime(2012, 3, 2, 0, 0, tzinfo=tzutc()),\n",
       "  TRM57971.00     NONE,2011-10-26 00:00:00+00:00,2012-04-19 00:00:00+00:00,\n",
       "  TRIMBLE NETR9,2011-10-26 00:00:00+00:00,2012-03-02 00:00:00+00:00),\n",
       " (datetime.datetime(2012, 3, 2, 0, 0, tzinfo=tzutc()),\n",
       "  datetime.datetime(2012, 4, 19, 0, 0, tzinfo=tzutc()),\n",
       "  TRM57971.00     NONE,2011-10-26 00:00:00+00:00,2012-04-19 00:00:00+00:00,\n",
       "  TRIMBLE NETR9,2012-03-02 00:00:00+00:00,2012-05-31 00:00:00+00:00),\n",
       " (datetime.datetime(2012, 4, 19, 0, 0, tzinfo=tzutc()),\n",
       "  datetime.datetime(2012, 5, 31, 0, 0, tzinfo=tzutc()),\n",
       "  TRM57971.00     NONE,2012-04-19 00:00:00+00:00,2099-01-01 00:00:00+00:00,\n",
       "  TRIMBLE NETR9,2012-03-02 00:00:00+00:00,2012-05-31 00:00:00+00:00),\n",
       " (datetime.datetime(2012, 5, 31, 0, 0, tzinfo=tzutc()),\n",
       "  datetime.datetime(2012, 8, 31, 0, 0, tzinfo=tzutc()),\n",
       "  TRM57971.00     NONE,2012-04-19 00:00:00+00:00,2099-01-01 00:00:00+00:00,\n",
       "  TRIMBLE NETR9,2012-05-31 00:00:00+00:00,2012-08-31 00:00:00+00:00),\n",
       " (datetime.datetime(2012, 8, 31, 0, 0, tzinfo=tzutc()),\n",
       "  datetime.datetime(2013, 2, 11, 0, 0, tzinfo=tzutc()),\n",
       "  TRM57971.00     NONE,2012-04-19 00:00:00+00:00,2099-01-01 00:00:00+00:00,\n",
       "  TRIMBLE NETR9,2012-08-31 00:00:00+00:00,2013-02-11 00:00:00+00:00),\n",
       " (datetime.datetime(2013, 2, 11, 0, 0, tzinfo=tzutc()),\n",
       "  datetime.datetime(2013, 5, 16, 0, 0, tzinfo=tzutc()),\n",
       "  TRM57971.00     NONE,2012-04-19 00:00:00+00:00,2099-01-01 00:00:00+00:00,\n",
       "  TRIMBLE NETR9,2013-02-11 00:00:00+00:00,2013-05-16 00:00:00+00:00),\n",
       " (datetime.datetime(2013, 5, 16, 0, 0, tzinfo=tzutc()),\n",
       "  datetime.datetime(2013, 10, 17, 0, 0, tzinfo=tzutc()),\n",
       "  TRM57971.00     NONE,2012-04-19 00:00:00+00:00,2099-01-01 00:00:00+00:00,\n",
       "  TRIMBLE NETR9,2013-05-16 00:00:00+00:00,2013-10-17 00:00:00+00:00),\n",
       " (datetime.datetime(2013, 10, 17, 0, 0, tzinfo=tzutc()),\n",
       "  datetime.datetime(2014, 3, 26, 0, 0, tzinfo=tzutc()),\n",
       "  TRM57971.00     NONE,2012-04-19 00:00:00+00:00,2099-01-01 00:00:00+00:00,\n",
       "  TRIMBLE NETR9,2013-10-17 00:00:00+00:00,2014-03-26 00:00:00+00:00),\n",
       " (datetime.datetime(2014, 3, 26, 0, 0, tzinfo=tzutc()),\n",
       "  datetime.datetime(2015, 9, 30, 0, 0, tzinfo=tzutc()),\n",
       "  TRM57971.00     NONE,2012-04-19 00:00:00+00:00,2099-01-01 00:00:00+00:00,\n",
       "  TRIMBLE NETR9,2014-03-26 00:00:00+00:00,2015-09-30 00:00:00+00:00),\n",
       " (datetime.datetime(2015, 9, 30, 0, 0, tzinfo=tzutc()),\n",
       "  datetime.datetime(2018, 6, 18, 0, 0, tzinfo=tzutc()),\n",
       "  TRM57971.00     NONE,2012-04-19 00:00:00+00:00,2099-01-01 00:00:00+00:00,\n",
       "  TRIMBLE NETR9,2015-09-30 00:00:00+00:00,2018-06-18 00:00:00+00:00),\n",
       " (datetime.datetime(2018, 6, 18, 0, 0, tzinfo=tzutc()),\n",
       "  datetime.datetime(2018, 7, 4, 0, 0, tzinfo=tzutc()),\n",
       "  TRM57971.00     NONE,2012-04-19 00:00:00+00:00,2099-01-01 00:00:00+00:00,\n",
       "  SEPT POLARX5,2018-06-18 00:00:00+00:00,2018-07-04 00:00:00+00:00),\n",
       " (datetime.datetime(2018, 7, 4, 0, 0, tzinfo=tzutc()),\n",
       "  datetime.datetime(2018, 11, 28, 0, 0, tzinfo=tzutc()),\n",
       "  TRM57971.00     NONE,2012-04-19 00:00:00+00:00,2099-01-01 00:00:00+00:00,\n",
       "  SEPT POLARX5,2018-07-04 00:00:00+00:00,2018-11-28 00:00:00+00:00),\n",
       " (datetime.datetime(2018, 11, 28, 0, 0, tzinfo=tzutc()),\n",
       "  datetime.datetime(2020, 2, 18, 0, 0, tzinfo=tzutc()),\n",
       "  TRM57971.00     NONE,2012-04-19 00:00:00+00:00,2099-01-01 00:00:00+00:00,\n",
       "  TRIMBLE ALLOY,2018-11-28 00:00:00+00:00,2020-02-18 00:00:00+00:00),\n",
       " (datetime.datetime(2020, 2, 18, 0, 0, tzinfo=tzutc()),\n",
       "  datetime.datetime(2020, 5, 11, 0, 0, tzinfo=tzutc()),\n",
       "  TRM57971.00     NONE,2012-04-19 00:00:00+00:00,2099-01-01 00:00:00+00:00,\n",
       "  TRIMBLE ALLOY,2020-02-18 00:00:00+00:00,2020-05-11 00:00:00+00:00),\n",
       " (datetime.datetime(2020, 5, 11, 0, 0, tzinfo=tzutc()),\n",
       "  datetime.datetime(2099, 1, 1, 0, 0, tzinfo=tzutc()),\n",
       "  TRM57971.00     NONE,2012-04-19 00:00:00+00:00,2099-01-01 00:00:00+00:00,\n",
       "  TRIMBLE ALLOY,2020-05-11 00:00:00+00:00,2099-01-01 00:00:00+00:00)]"
      ]
     },
     "execution_count": 46,
     "metadata": {},
     "output_type": "execute_result"
    }
   ],
   "source": [
    "Period"
   ]
  },
  {
   "cell_type": "markdown",
   "metadata": {},
   "source": [
    "The 1st period tuple:"
   ]
  },
  {
   "cell_type": "code",
   "execution_count": 56,
   "metadata": {
    "scrolled": true
   },
   "outputs": [
    {
     "name": "stdout",
     "output_type": "stream",
     "text": [
      "(datetime.datetime(1998, 10, 31, 0, 0, tzinfo=tzutc()), datetime.datetime(1999, 4, 2, 0, 0, tzinfo=tzutc()), TRM29659.00     NONE,1998-10-31 00:00:00+00:00,2006-07-25 00:00:00+00:00, TRIMBLE 4000SSI,1998-10-31 00:00:00+00:00,1999-04-02 00:00:00+00:00)\n"
     ]
    }
   ],
   "source": [
    "Period1 = Period[0]\n",
    "print(Period1)"
   ]
  },
  {
   "cell_type": "markdown",
   "metadata": {},
   "source": [
    "### About the Antenna object"
   ]
  },
  {
   "cell_type": "markdown",
   "metadata": {},
   "source": [
    "The Antenna Object is the 3rd element of a period tuple "
   ]
  },
  {
   "cell_type": "code",
   "execution_count": 57,
   "metadata": {
    "scrolled": true
   },
   "outputs": [
    {
     "name": "stdout",
     "output_type": "stream",
     "text": [
      "TRM29659.00     NONE,1998-10-31 00:00:00+00:00,2006-07-25 00:00:00+00:00\n"
     ]
    },
    {
     "data": {
      "text/plain": [
       "{'_Event__Date_Installed': datetime.datetime(1998, 10, 31, 0, 0, tzinfo=tzutc()),\n",
       " '_Event__Date_Removed': datetime.datetime(2006, 7, 25, 0, 0, tzinfo=tzutc()),\n",
       " 'Antenna_Type': 'TRM29659.00     NONE',\n",
       " 'Serial_Number': 220101990.0,\n",
       " 'Antenna_Reference_Point': 'BPA',\n",
       " 'Up_Ecc': 0.0,\n",
       " 'North_Ecc': 0.0,\n",
       " 'East_Ecc': 0.0,\n",
       " 'Alignment_from_True_N': '0 deg',\n",
       " '_Antenna__Antenna_Radome_Type': 'NONE',\n",
       " 'Radome_Serial_Number': '',\n",
       " 'Antenna_Cable_Type': '(vendor & type number)',\n",
       " 'Antenna_Cable_Length': '20 m',\n",
       " 'Additional_Information': '(multiple lines)',\n",
       " 'Marker->ARP_Up_Ecc_m': 1.0543,\n",
       " 'Marker->ARP_North_Eccm': 0.0,\n",
       " 'Marker->ARP_East_Eccm': 0.0}"
      ]
     },
     "execution_count": 57,
     "metadata": {},
     "output_type": "execute_result"
    }
   ],
   "source": [
    "Antenna1 = Period1[2]\n",
    "print(Antenna1)\n",
    "\n",
    "vars(Antenna1)\n"
   ]
  },
  {
   "cell_type": "markdown",
   "metadata": {},
   "source": [
    "Here is the list of the avaiable attributes\n",
    "\n",
    "<pre>\n",
    "{'_Event__Date_Installed': datetime.datetime(1998, 10, 31, 0, 0, tzinfo=tzutc()),\n",
    " '_Event__Date_Removed': datetime.datetime(1999, 4, 2, 0, 0, tzinfo=tzutc()),\n",
    " 'Receiver_Type': 'TRIMBLE 4000SSI',\n",
    " 'Satellite_System': 'GPS',\n",
    " 'Serial_Number': 21043.0,\n",
    " 'Firmware_Version': '7.15 / 3.04',\n",
    " 'Elevation_Cutoff_Setting': '5 deg',\n",
    " 'Temperature_Stabiliz': 'none',\n",
    " 'Additional_Information': '(multiple lines)'}\n",
    " </pre>"
   ]
  },
  {
   "cell_type": "markdown",
   "metadata": {},
   "source": [
    "The attribute of the Antenna Object are based on the logsheet fields of the \"Antenna\" Block. (Spaces are replaced with underscores _)\n",
    "\n",
    "e.g. if you want to access to the Antenna Receiver_Type, Serial Number, Antenna Radome Type, or it's Monument Foundation:"
   ]
  },
  {
   "cell_type": "code",
   "execution_count": 58,
   "metadata": {},
   "outputs": [
    {
     "data": {
      "text/plain": [
       "'TRM29659.00     NONE'"
      ]
     },
     "execution_count": 58,
     "metadata": {},
     "output_type": "execute_result"
    }
   ],
   "source": [
    "Antenna1.Antenna_Type"
   ]
  },
  {
   "cell_type": "code",
   "execution_count": 59,
   "metadata": {},
   "outputs": [
    {
     "data": {
      "text/plain": [
       "220101990.0"
      ]
     },
     "execution_count": 59,
     "metadata": {},
     "output_type": "execute_result"
    }
   ],
   "source": [
    "Antenna1.Serial_Number"
   ]
  },
  {
   "cell_type": "code",
   "execution_count": 60,
   "metadata": {},
   "outputs": [
    {
     "data": {
      "text/plain": [
       "'NONE'"
      ]
     },
     "execution_count": 60,
     "metadata": {},
     "output_type": "execute_result"
    }
   ],
   "source": [
    "Antenna1.Antenna_Radome_Type"
   ]
  },
  {
   "cell_type": "markdown",
   "metadata": {},
   "source": [
    "### About the Receiver object"
   ]
  },
  {
   "cell_type": "markdown",
   "metadata": {},
   "source": [
    "The Receiver Object is the 4th element of a period tuple.\n",
    "\n",
    "It is based on the same principle as the Antenna Object"
   ]
  },
  {
   "cell_type": "code",
   "execution_count": 61,
   "metadata": {},
   "outputs": [
    {
     "name": "stdout",
     "output_type": "stream",
     "text": [
      "TRIMBLE 4000SSI,1998-10-31 00:00:00+00:00,1999-04-02 00:00:00+00:00\n"
     ]
    },
    {
     "data": {
      "text/plain": [
       "{'_Event__Date_Installed': datetime.datetime(1998, 10, 31, 0, 0, tzinfo=tzutc()),\n",
       " '_Event__Date_Removed': datetime.datetime(1999, 4, 2, 0, 0, tzinfo=tzutc()),\n",
       " 'Receiver_Type': 'TRIMBLE 4000SSI',\n",
       " 'Satellite_System': 'GPS',\n",
       " 'Serial_Number': 21043.0,\n",
       " 'Firmware_Version': '7.15 / 3.04',\n",
       " 'Elevation_Cutoff_Setting': '5 deg',\n",
       " 'Temperature_Stabiliz': 'none',\n",
       " 'Additional_Information': '(multiple lines)'}"
      ]
     },
     "execution_count": 61,
     "metadata": {},
     "output_type": "execute_result"
    }
   ],
   "source": [
    "Receiver1 = Period1[3]\n",
    "print(Receiver1)\n",
    "\n",
    "vars(Receiver1)"
   ]
  },
  {
   "cell_type": "code",
   "execution_count": null,
   "metadata": {},
   "outputs": [],
   "source": []
  },
  {
   "cell_type": "code",
   "execution_count": null,
   "metadata": {},
   "outputs": [],
   "source": []
  },
  {
   "cell_type": "code",
   "execution_count": null,
   "metadata": {},
   "outputs": [],
   "source": []
  }
 ],
 "metadata": {
  "kernelspec": {
   "display_name": "Python 3",
   "language": "python",
   "name": "python3"
  },
  "language_info": {
   "codemirror_mode": {
    "name": "ipython",
    "version": 3
   },
   "file_extension": ".py",
   "mimetype": "text/x-python",
   "name": "python",
   "nbconvert_exporter": "python",
   "pygments_lexer": "ipython3",
   "version": "3.8.2"
  }
 },
 "nbformat": 4,
 "nbformat_minor": 4
}
