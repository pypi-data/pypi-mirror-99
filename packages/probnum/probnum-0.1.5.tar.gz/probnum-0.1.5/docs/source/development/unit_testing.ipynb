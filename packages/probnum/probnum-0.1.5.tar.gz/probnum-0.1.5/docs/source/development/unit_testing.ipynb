{
 "cells": [
  {
   "cell_type": "markdown",
   "metadata": {},
   "source": [
    "# Unit Testing\n",
    "\n",
    "Tests are an essential part of good software. They ensure that your implementation does what it is supposed to do. They are also invaluable when making changes to existing code to see whether things break unexpectedly. Whenever you contribute code to ProbNum, make sure it is covered by appropriate tests. \n",
    "\n",
    "If you're unsure of what tests are or have never written a test before, check out this [basic guide](https://realpython.com/python-testing/) on testing in Python."
   ]
  },
  {
   "cell_type": "markdown",
   "metadata": {},
   "source": [
    "## Running Tests\n",
    "\n",
    "ProbNum's tests can be found in the folder `./tests`. To run the entire test suite, we recommend using `tox`.\n",
    "\n",
    "### Tox\n",
    "\n",
    "To run the tests using Tox, simply execute\n",
    "```bash\n",
    "tox -e py3\n",
    "```\n",
    "This runs the tests for your version of Python 3. You can also run the tests against a specific Python version, e.g. `tox -e py36` for Python 3.6.\n",
    "\n",
    "For more information on `tox`, check out the [general development instructions](../development/contributing.rst).\n",
    "\n",
    "### PyTest\n",
    "\n",
    "ProbNum uses `pytest` as a test runner. You can also run the tests directly by installing (`pip install pytest`) and executing\n",
    "```bash\n",
    "pytest\n",
    "```\n",
    "in the `./tests` directory.\n",
    "\n",
    "### Using an IDE\n",
    "\n",
    "If you are using an IDE such as PyCharm or VSCode, you can for example use the graphic interface to run single tests. This can be very convenient when writing tests. To set up your IDE to run `pytest`, check out the following guides:\n",
    "\n",
    "- PyCharm: https://www.jetbrains.com/help/pycharm/pytest.html\n",
    "- VSCode: https://code.visualstudio.com/docs/python/testing#_enable-a-test-framework"
   ]
  },
  {
   "cell_type": "code",
   "execution_count": 15,
   "metadata": {
    "nbsphinx-thumbnail": {
     "output-index": 0
    },
    "scrolled": true
   },
   "outputs": [
    {
     "data": {
      "image/png": "[encoded data removed]",
      "text/plain": [
       "<IPython.core.display.Image object>"
      ]
     },
     "metadata": {},
     "output_type": "display_data"
    }
   ],
   "source": [
    "from IPython.display import Image\n",
    "\n",
    "display(Image(url='https://code.visualstudio.com/assets/docs/python/testing/editor-adornments-pytest.png', \n",
    "              embed=True))"
   ]
  },
  {
   "cell_type": "markdown",
   "metadata": {},
   "source": [
    "## The `pytest` Framework\n",
    "\n",
    "ProbNum uses [pytest](https://docs.pytest.org/) as its testing framework.\n",
    "\n",
    "### Writing a Unit Test\n",
    "\n",
    "A test is a simple function which checks whether your code does what it is\n",
    "supposed to. Whenever you find yourself running a snippet of code to check whether your\n",
    "implementation works, you should probably write a test. Here is a simple example."
   ]
  },
  {
   "cell_type": "code",
   "execution_count": 1,
   "metadata": {},
   "outputs": [],
   "source": [
    "def add(x, y):\n",
    "    return x + y\n",
    "\n",
    "def test_symmetric():\n",
    "    assert add(3, 5) == add(5, 3)"
   ]
  },
  {
   "cell_type": "markdown",
   "metadata": {},
   "source": [
    "Often we want to run a test for different combinations of\n",
    "parameters. You can do so by parametrizing tests via a decorator."
   ]
  },
  {
   "cell_type": "code",
   "execution_count": 2,
   "outputs": [],
   "source": [
    "import pytest\n",
    "\n",
    "@pytest.mark.parametrize(\"x,y\", [(3, 5), (-1, 1), (0, 1.2)])\n",
    "def test_symmetric(x, y):\n",
    "    assert add(x, y) == add(y, x)"
   ],
   "metadata": {
    "collapsed": false,
    "pycharm": {
     "name": "#%%\n"
    }
   }
  },
  {
   "cell_type": "markdown",
   "source": [
    "Read more about test parametrization and fixtures [here](https://docs.pytest\n",
    ".org/en/stable/parametrize.html).\n",
    "\n",
    "### NumPy Assertions\n",
    "\n",
    "Often assertions which compare arrays are needed for tests. The module [numpy\n",
    ".testing](https://numpy.org/doc/stable/reference/routines.testing.html) offers\n",
    "support for commonly used tests involving numeric arrays, such as\n",
    "comparison of all elements up to a certain tolerance."
   ],
   "metadata": {
    "collapsed": false,
    "pycharm": {
     "name": "#%% md\n"
    }
   }
  },
  {
   "cell_type": "markdown",
   "metadata": {},
   "source": [
    "## Common Types of Tests\n",
    "\n",
    "We collect some common types of tests here, in particular for probabilistic numerical methods."
   ]
  },
  {
   "cell_type": "markdown",
   "metadata": {},
   "source": [
    "### In- and Output\n",
    "\n",
    "- **Deterministic input**: Does your PN method accept parameters / problem definitions which are not random variables?\n",
    "- **Output Random Variables**: Does your PN method output a random variable?\n",
    "- **Shape**: Does your method return consistent shapes for differently shaped inputs?\n",
    "- **Expected errors**: Are appropriate errors raised for invalid input? Do these match the `Raises` keyword in the docstring?\n",
    "- **Random state**: Does fixing a random seed result in deterministic behaviour?\n",
    "\n",
    "### Testing Probabilistic Numerical Methods\n",
    "- **Perfect information**: Does your method converge instantly for a prior encoding the solution of the problem?\n",
    "- **Convergence criteria**: Are all convergence criteria covered by at least one test?\n",
    "- **Theoretical Results**: Are all available theoretical results about the method checked via tests?\n"
   ]
  }
 ],
 "metadata": {
  "kernelspec": {
   "display_name": "Python 3",
   "language": "python",
   "name": "python3"
  },
  "language_info": {
   "codemirror_mode": {
    "name": "ipython",
    "version": 3
   },
   "file_extension": ".py",
   "mimetype": "text/x-python",
   "name": "python",
   "nbconvert_exporter": "python",
   "pygments_lexer": "ipython3",
   "version": "3.8.2"
  },
  "tags": [
   "nbsphinx-thumbnail"
  ]
 },
 "nbformat": 4,
 "nbformat_minor": 4
}
