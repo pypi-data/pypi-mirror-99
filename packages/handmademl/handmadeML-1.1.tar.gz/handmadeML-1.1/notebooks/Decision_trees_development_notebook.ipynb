{
 "cells": [
  {
   "cell_type": "code",
   "execution_count": 62,
   "id": "vertical-paris",
   "metadata": {
    "ExecuteTime": {
     "end_time": "2021-03-22T10:23:04.853262Z",
     "start_time": "2021-03-22T10:23:04.848540Z"
    }
   },
   "outputs": [],
   "source": [
    "import numpy as np\n",
    "import pandas as pd"
   ]
  },
  {
   "cell_type": "code",
   "execution_count": 63,
   "id": "silver-monster",
   "metadata": {
    "ExecuteTime": {
     "end_time": "2021-03-22T10:23:05.398408Z",
     "start_time": "2021-03-22T10:23:05.366975Z"
    }
   },
   "outputs": [],
   "source": [
    "def node_construction(subtree,subX,suby,max_depth,min_samples_split):\n",
    "    splits={}\n",
    "    for index,col in subX.iteritems():\n",
    "        splits[index]=np.sort(col.sample(1000,replace=True).unique())\n",
    "        splits[index]=((splits[index][1:]+splits[index][:-1])/2).tolist()\n",
    "    splits=[[(key,threshold) for threshold in value] for key,value in splits.items()]\n",
    "    splits=[y for x in splits for y in x]\n",
    "\n",
    "    ginis=[]\n",
    "    ginis_left=[]\n",
    "    ginis_right=[]\n",
    "    counts_left=[]\n",
    "    counts_right=[]\n",
    "    for split in splits:\n",
    "        mask=subX[split[0]]<split[1]\n",
    "        y_left=suby[mask]\n",
    "        y_right=suby[-mask]\n",
    "        count_left=y_left.count()\n",
    "        counts_left.append(count_left)\n",
    "        count_right=y_right.count()\n",
    "        counts_right.append(count_right)\n",
    "        gini_left =1-((y_left.groupby( y_left).count()/ count_left)**2 ).sum()\n",
    "        ginis_left.append(gini_left)\n",
    "        gini_right=1-((y_right.groupby(y_right).count()/count_right)**2).sum()\n",
    "        ginis_right.append(gini_right)\n",
    "        gini_weighted= (y_left.count()*gini_left + y_right.count()*gini_right)/subtree['samples_count']\n",
    "        ginis.append(gini_weighted)\n",
    "    print(splits)\n",
    "    print(ginis)\n",
    "\n",
    "    best_split_index=ginis.index(min(ginis))\n",
    "    best_split=splits[best_split_index]\n",
    "    subtree['feature']=best_split[0]\n",
    "    subtree['threshold']=best_split[1]\n",
    "    left_gini  =ginis_left  [best_split_index]\n",
    "    right_gini =ginis_right [best_split_index]\n",
    "    left_count =counts_left [best_split_index]\n",
    "    right_count=counts_right[best_split_index]\n",
    "    mask=subX[best_split[0]]<best_split[1]\n",
    "    y_left=suby[mask]\n",
    "    y_right=suby[-mask]\n",
    "\n",
    "    if left_gini < subtree['gini'] and\\\n",
    "      left_count >= min_samples_split and\\\n",
    "      subtree['level'] < max_depth and\\\n",
    "      left_gini > 0:\n",
    "        X_left=subX[mask]\n",
    "        subtree['left'] = {'level':subtree['level']+1,\n",
    "                           'type':'node',\n",
    "                           'gini':left_gini,\n",
    "                           'samples_count':left_count,\n",
    "                           'feature':None,\n",
    "                           'threshold':None,\n",
    "                           'left':None,\n",
    "                           'right':None,\n",
    "                           }\n",
    "        node_construction(subtree['left'], X_left, y_left,     #recursion\n",
    "                       max_depth=max_depth,\n",
    "                       min_samples_split=min_samples_split)\n",
    "    else:\n",
    "        subtree['left'] = {'level':subtree['level']+1,\n",
    "                           'type':'leaf',\n",
    "                           'gini':left_gini,\n",
    "                           'samples_count':left_count,\n",
    "                           'category':y_left.mode()}\n",
    "\n",
    "    if right_gini < subtree['gini'] and\\\n",
    "      right_count >= min_samples_split and\\\n",
    "      subtree['level'] < max_depth and\\\n",
    "      right_gini > 0:\n",
    "        X_right=subX[-mask]\n",
    "        subtree['right'] = {'level':subtree['level']+1,\n",
    "                           'type':'node',\n",
    "                           'gini':right_gini,\n",
    "                           'samples_count':right_count,\n",
    "                           'feature':None,\n",
    "                           'threshold':None,\n",
    "                           'right':None,\n",
    "                           'right':None,\n",
    "                           }\n",
    "        node_construction(subtree['right'], X_right, y_right,   #recursion\n",
    "                       max_depth=max_depth,\n",
    "                       min_samples_split=min_samples_split)\n",
    "    else:\n",
    "        subtree['right'] = {'level':subtree['level']+1,\n",
    "                           'type':'leaf',\n",
    "                           'gini':right_gini,\n",
    "                           'samples_count':right_count,\n",
    "                           'category':y_right.mode()}\n",
    "        \n",
    "def node_navigation(subtree, X_sample):\n",
    "    '''X_sample : df with a single line'''\n",
    "    if subtree['type']=='leaf':\n",
    "        return subtree['category']\n",
    "    if X_sample[subtree['feature']]>subtree['threshold']:\n",
    "        return node_navigation(subtree['right'], X_sample)   #recursion\n",
    "    return node_navigation(subtree['left'], X_sample)        #recursion"
   ]
  },
  {
   "cell_type": "code",
   "execution_count": 73,
   "id": "adverse-heading",
   "metadata": {
    "ExecuteTime": {
     "end_time": "2021-03-22T10:41:40.919066Z",
     "start_time": "2021-03-22T10:41:40.904088Z"
    }
   },
   "outputs": [],
   "source": [
    "class DecisionTreeClassifier():\n",
    "    def __init__(self, max_depth=10000, min_samples_split=2):\n",
    "        self.max_depth=max_depth\n",
    "        self.min_samples_split=min_samples_split\n",
    "        self.tree={'level':0,\n",
    "                   'type':'root',\n",
    "                   'gini':None,\n",
    "                   'samples_count':None,\n",
    "                   'feature':None,\n",
    "                   'threshold':None,\n",
    "                   'left':None,\n",
    "                   'right':None,\n",
    "                   }\n",
    "    \n",
    "    def fit(self, X_train, y_train):\n",
    "        '''y_train : pd.Series. If DataFrame, the 1st column will be used as target\n",
    "           X_train : DataFrame or 2D array'''\n",
    "        if type(y_train)==pd.core.frame.DataFrame:\n",
    "            y_train=y_train.iloc[:,0]\n",
    "        X_train=pd.DataFrame(X_train)\n",
    "        self.tree['gini']=1-((y_train.groupby(y_train).count()/y_train.count())**2).sum()\n",
    "        self.tree['samples_count']=y_train.count()\n",
    "        \n",
    "        node_construction(self.tree, X_train, y_train,\n",
    "                          max_depth=self.max_depth,\n",
    "                          min_samples_split=self.min_samples_split)\n",
    "\n",
    "    def predict(self, X_test):\n",
    "        X_test=pd.DataFrame(X_test)\n",
    "        return X_test.apply(lambda x: node_navigation(self.tree, x), axis=1)"
   ]
  },
  {
   "cell_type": "markdown",
   "id": "unsigned-ending",
   "metadata": {},
   "source": [
    "# Fit test"
   ]
  },
  {
   "cell_type": "code",
   "execution_count": 47,
   "id": "bearing-access",
   "metadata": {
    "ExecuteTime": {
     "end_time": "2021-03-21T20:29:13.367310Z",
     "start_time": "2021-03-21T20:29:13.348435Z"
    }
   },
   "outputs": [
    {
     "data": {
      "text/html": [
       "<div>\n",
       "<style scoped>\n",
       "    .dataframe tbody tr th:only-of-type {\n",
       "        vertical-align: middle;\n",
       "    }\n",
       "\n",
       "    .dataframe tbody tr th {\n",
       "        vertical-align: top;\n",
       "    }\n",
       "\n",
       "    .dataframe thead th {\n",
       "        text-align: right;\n",
       "    }\n",
       "</style>\n",
       "<table border=\"1\" class=\"dataframe\">\n",
       "  <thead>\n",
       "    <tr style=\"text-align: right;\">\n",
       "      <th></th>\n",
       "      <th>aa</th>\n",
       "      <th>bb</th>\n",
       "      <th>cc</th>\n",
       "    </tr>\n",
       "  </thead>\n",
       "  <tbody>\n",
       "    <tr>\n",
       "      <th>0</th>\n",
       "      <td>0.1</td>\n",
       "      <td>1</td>\n",
       "      <td>1</td>\n",
       "    </tr>\n",
       "    <tr>\n",
       "      <th>1</th>\n",
       "      <td>0.2</td>\n",
       "      <td>0</td>\n",
       "      <td>0</td>\n",
       "    </tr>\n",
       "    <tr>\n",
       "      <th>2</th>\n",
       "      <td>0.7</td>\n",
       "      <td>1</td>\n",
       "      <td>1</td>\n",
       "    </tr>\n",
       "    <tr>\n",
       "      <th>3</th>\n",
       "      <td>0.8</td>\n",
       "      <td>0</td>\n",
       "      <td>1</td>\n",
       "    </tr>\n",
       "    <tr>\n",
       "      <th>4</th>\n",
       "      <td>0.8</td>\n",
       "      <td>0</td>\n",
       "      <td>0</td>\n",
       "    </tr>\n",
       "  </tbody>\n",
       "</table>\n",
       "</div>"
      ],
      "text/plain": [
       "    aa  bb  cc\n",
       "0  0.1   1   1\n",
       "1  0.2   0   0\n",
       "2  0.7   1   1\n",
       "3  0.8   0   1\n",
       "4  0.8   0   0"
      ]
     },
     "execution_count": 47,
     "metadata": {},
     "output_type": "execute_result"
    }
   ],
   "source": [
    "X_train=pd.DataFrame({'aa':[0.1,0.2,0.7,0.8,0.8],\n",
    "                      'bb':[1,0,1,0,0],\n",
    "                      'cc':[1,0,1,1,0]})\n",
    "X_train"
   ]
  },
  {
   "cell_type": "code",
   "execution_count": 48,
   "id": "accepted-terrain",
   "metadata": {
    "ExecuteTime": {
     "end_time": "2021-03-21T20:29:13.771476Z",
     "start_time": "2021-03-21T20:29:13.761937Z"
    }
   },
   "outputs": [
    {
     "data": {
      "text/plain": [
       "0    0\n",
       "1    0\n",
       "2    1\n",
       "3    1\n",
       "4    0\n",
       "dtype: int64"
      ]
     },
     "execution_count": 48,
     "metadata": {},
     "output_type": "execute_result"
    }
   ],
   "source": [
    "y_train=pd.Series([0,0,1,1,0])\n",
    "y_train"
   ]
  },
  {
   "cell_type": "code",
   "execution_count": 58,
   "id": "acoustic-watson",
   "metadata": {
    "ExecuteTime": {
     "end_time": "2021-03-21T20:31:31.265630Z",
     "start_time": "2021-03-21T20:31:31.220292Z"
    }
   },
   "outputs": [
    {
     "name": "stdout",
     "output_type": "stream",
     "text": [
      "[('aa', 0.15000000000000002), ('aa', 0.44999999999999996), ('aa', 0.75), ('bb', 0.5), ('cc', 0.5)]\n",
      "[0.4, 0.26666666666666666, 0.4666666666666666, 0.4666666666666666, 0.26666666666666666]\n",
      "[('aa', 0.75), ('bb', 0.5), ('cc', 0.5)]\n",
      "[0.3333333333333333, 0.3333333333333333, 0.0]\n"
     ]
    }
   ],
   "source": [
    "dtc=DecisionTreeClassifier()\n",
    "dtc.fit(X_train,y_train)"
   ]
  },
  {
   "cell_type": "code",
   "execution_count": 59,
   "id": "included-future",
   "metadata": {
    "ExecuteTime": {
     "end_time": "2021-03-21T20:31:31.497005Z",
     "start_time": "2021-03-21T20:31:31.482777Z"
    }
   },
   "outputs": [
    {
     "data": {
      "text/plain": [
       "{'level': 0,\n",
       " 'type': 'root',\n",
       " 'gini': 0.48,\n",
       " 'samples_count': 5,\n",
       " 'feature': 'aa',\n",
       " 'threshold': 0.44999999999999996,\n",
       " 'left': {'level': 1,\n",
       "  'type': 'leaf',\n",
       "  'gini': 0.0,\n",
       "  'samples_count': 2,\n",
       "  'category': 0    0\n",
       "  dtype: int64},\n",
       " 'right': {'level': 1,\n",
       "  'type': 'node',\n",
       "  'gini': 0.4444444444444444,\n",
       "  'samples_count': 3,\n",
       "  'feature': 'cc',\n",
       "  'threshold': 0.5,\n",
       "  'right': {'level': 2,\n",
       "   'type': 'leaf',\n",
       "   'gini': 0.0,\n",
       "   'samples_count': 2,\n",
       "   'category': 0    1\n",
       "   dtype: int64},\n",
       "  'left': {'level': 2,\n",
       "   'type': 'leaf',\n",
       "   'gini': 0.0,\n",
       "   'samples_count': 1,\n",
       "   'category': 0    0\n",
       "   dtype: int64}}}"
      ]
     },
     "execution_count": 59,
     "metadata": {},
     "output_type": "execute_result"
    }
   ],
   "source": [
    "dtc.tree"
   ]
  },
  {
   "cell_type": "code",
   "execution_count": 60,
   "id": "cognitive-smell",
   "metadata": {
    "ExecuteTime": {
     "end_time": "2021-03-21T20:31:31.721815Z",
     "start_time": "2021-03-21T20:31:31.714099Z"
    }
   },
   "outputs": [],
   "source": [
    "X_test=pd.DataFrame({'aa':[0.1,0.2,0.7,0.8,0.8],\n",
    "                      'bb':[1,0,1,0,0],\n",
    "                      'cc':[1,0,1,1,0]})"
   ]
  },
  {
   "cell_type": "code",
   "execution_count": 61,
   "id": "affected-fairy",
   "metadata": {
    "ExecuteTime": {
     "end_time": "2021-03-21T20:31:31.970862Z",
     "start_time": "2021-03-21T20:31:31.959281Z"
    }
   },
   "outputs": [
    {
     "data": {
      "text/plain": [
       "0    0\n",
       "1    0\n",
       "2    1\n",
       "3    1\n",
       "4    0\n",
       "Name: 0, dtype: int64"
      ]
     },
     "execution_count": 61,
     "metadata": {},
     "output_type": "execute_result"
    }
   ],
   "source": [
    "dtc.predict(X_test)"
   ]
  },
  {
   "cell_type": "markdown",
   "id": "stunning-subscriber",
   "metadata": {
    "ExecuteTime": {
     "end_time": "2021-03-21T19:30:38.948948Z",
     "start_time": "2021-03-21T19:30:38.944272Z"
    }
   },
   "source": [
    "# Predict test"
   ]
  },
  {
   "cell_type": "code",
   "execution_count": 81,
   "id": "bulgarian-digest",
   "metadata": {
    "ExecuteTime": {
     "end_time": "2021-03-22T10:42:53.939083Z",
     "start_time": "2021-03-22T10:42:53.933278Z"
    }
   },
   "outputs": [],
   "source": [
    "dtc=DecisionTreeClassifier(min_samples_split=10)\n",
    "dtc.tree={'level': 0,\n",
    " 'type': 'root',\n",
    " 'feature': 'aa',\n",
    " 'threshold': 0.5,\n",
    " 'left': None,\n",
    " 'right': None}"
   ]
  },
  {
   "cell_type": "code",
   "execution_count": 82,
   "id": "egyptian-probability",
   "metadata": {
    "ExecuteTime": {
     "end_time": "2021-03-22T10:42:54.147108Z",
     "start_time": "2021-03-22T10:42:54.137628Z"
    }
   },
   "outputs": [],
   "source": [
    "dtc.tree['left']={'level': 1,\n",
    "                 'type': 'root',\n",
    "                 'feature': 'bb',\n",
    "                 'threshold': 0.5,\n",
    "                 'left': {'level':2,'type':'leaf','category':1},\n",
    "                 'right': {'level':2,'type':'leaf','category':0}}\n",
    "dtc.tree['right']={'level':1,\n",
    "                  'type':'leaf',\n",
    "                  'category':1}"
   ]
  },
  {
   "cell_type": "code",
   "execution_count": 85,
   "id": "relative-scanning",
   "metadata": {
    "ExecuteTime": {
     "end_time": "2021-03-22T10:43:26.082546Z",
     "start_time": "2021-03-22T10:43:26.065146Z"
    }
   },
   "outputs": [
    {
     "data": {
      "text/html": [
       "<div>\n",
       "<style scoped>\n",
       "    .dataframe tbody tr th:only-of-type {\n",
       "        vertical-align: middle;\n",
       "    }\n",
       "\n",
       "    .dataframe tbody tr th {\n",
       "        vertical-align: top;\n",
       "    }\n",
       "\n",
       "    .dataframe thead th {\n",
       "        text-align: right;\n",
       "    }\n",
       "</style>\n",
       "<table border=\"1\" class=\"dataframe\">\n",
       "  <thead>\n",
       "    <tr style=\"text-align: right;\">\n",
       "      <th></th>\n",
       "      <th>aa</th>\n",
       "      <th>bb</th>\n",
       "      <th>cc</th>\n",
       "    </tr>\n",
       "  </thead>\n",
       "  <tbody>\n",
       "    <tr>\n",
       "      <th>0</th>\n",
       "      <td>0.1</td>\n",
       "      <td>1</td>\n",
       "      <td>1</td>\n",
       "    </tr>\n",
       "    <tr>\n",
       "      <th>1</th>\n",
       "      <td>0.2</td>\n",
       "      <td>0</td>\n",
       "      <td>1</td>\n",
       "    </tr>\n",
       "    <tr>\n",
       "      <th>2</th>\n",
       "      <td>0.7</td>\n",
       "      <td>1</td>\n",
       "      <td>0</td>\n",
       "    </tr>\n",
       "  </tbody>\n",
       "</table>\n",
       "</div>"
      ],
      "text/plain": [
       "    aa  bb  cc\n",
       "0  0.1   1   1\n",
       "1  0.2   0   1\n",
       "2  0.7   1   0"
      ]
     },
     "execution_count": 85,
     "metadata": {},
     "output_type": "execute_result"
    }
   ],
   "source": [
    "X_test=pd.DataFrame({'aa':[0.1,0.2,0.7],'bb':[1,0,1],'cc':[1,1,0]})\n",
    "X_test"
   ]
  },
  {
   "cell_type": "code",
   "execution_count": 87,
   "id": "dying-korea",
   "metadata": {
    "ExecuteTime": {
     "end_time": "2021-03-22T10:45:13.640869Z",
     "start_time": "2021-03-22T10:45:13.628765Z"
    }
   },
   "outputs": [
    {
     "data": {
      "text/plain": [
       "True"
      ]
     },
     "execution_count": 87,
     "metadata": {},
     "output_type": "execute_result"
    }
   ],
   "source": [
    "(dtc.predict(X_test)==pd.Series([0,1,1])).all()"
   ]
  },
  {
   "cell_type": "code",
   "execution_count": 97,
   "id": "still-focus",
   "metadata": {
    "ExecuteTime": {
     "end_time": "2021-03-21T07:21:56.271944Z",
     "start_time": "2021-03-21T07:21:56.260002Z"
    }
   },
   "outputs": [
    {
     "data": {
      "text/html": [
       "<div>\n",
       "<style scoped>\n",
       "    .dataframe tbody tr th:only-of-type {\n",
       "        vertical-align: middle;\n",
       "    }\n",
       "\n",
       "    .dataframe tbody tr th {\n",
       "        vertical-align: top;\n",
       "    }\n",
       "\n",
       "    .dataframe thead th {\n",
       "        text-align: right;\n",
       "    }\n",
       "</style>\n",
       "<table border=\"1\" class=\"dataframe\">\n",
       "  <thead>\n",
       "    <tr style=\"text-align: right;\">\n",
       "      <th></th>\n",
       "      <th>aa</th>\n",
       "      <th>bb</th>\n",
       "      <th>cc</th>\n",
       "    </tr>\n",
       "  </thead>\n",
       "  <tbody>\n",
       "    <tr>\n",
       "      <th>0</th>\n",
       "      <td>0.1</td>\n",
       "      <td>1</td>\n",
       "      <td>1</td>\n",
       "    </tr>\n",
       "    <tr>\n",
       "      <th>1</th>\n",
       "      <td>0.2</td>\n",
       "      <td>0</td>\n",
       "      <td>1</td>\n",
       "    </tr>\n",
       "    <tr>\n",
       "      <th>2</th>\n",
       "      <td>0.7</td>\n",
       "      <td>1</td>\n",
       "      <td>1</td>\n",
       "    </tr>\n",
       "  </tbody>\n",
       "</table>\n",
       "</div>"
      ],
      "text/plain": [
       "    aa  bb  cc\n",
       "0  0.1   1   1\n",
       "1  0.2   0   1\n",
       "2  0.7   1   1"
      ]
     },
     "execution_count": 97,
     "metadata": {},
     "output_type": "execute_result"
    }
   ],
   "source": [
    "X_test"
   ]
  },
  {
   "cell_type": "code",
   "execution_count": 105,
   "id": "psychological-constitutional",
   "metadata": {
    "ExecuteTime": {
     "end_time": "2021-03-21T08:31:06.818670Z",
     "start_time": "2021-03-21T08:31:06.806669Z"
    }
   },
   "outputs": [
    {
     "data": {
      "text/plain": [
       "{'aa': [0.15000000000000002, 0.44999999999999996], 'bb': [0.5], 'cc': []}"
      ]
     },
     "execution_count": 105,
     "metadata": {},
     "output_type": "execute_result"
    }
   ],
   "source": [
    "splits={}\n",
    "for index,col in X_test.iteritems():\n",
    "    splits[index]=np.sort(col.sample(1000,replace=True).unique())\n",
    "    splits[index]=list((splits[index][1:]+splits[index][:-1])/2)\n",
    "splits"
   ]
  },
  {
   "cell_type": "code",
   "execution_count": 106,
   "id": "fleet-metallic",
   "metadata": {
    "ExecuteTime": {
     "end_time": "2021-03-21T08:31:07.603284Z",
     "start_time": "2021-03-21T08:31:07.596290Z"
    }
   },
   "outputs": [
    {
     "data": {
      "text/plain": [
       "[('aa', 0.15000000000000002), ('aa', 0.44999999999999996), ('bb', 0.5)]"
      ]
     },
     "execution_count": 106,
     "metadata": {},
     "output_type": "execute_result"
    }
   ],
   "source": [
    "splits=[[(key,threshold) for threshold in value] for key,value in splits.items()]\n",
    "splits=[y for x in splits for y in x]\n",
    "splits"
   ]
  },
  {
   "cell_type": "code",
   "execution_count": 64,
   "id": "affected-juice",
   "metadata": {
    "ExecuteTime": {
     "end_time": "2021-03-21T07:01:22.097455Z",
     "start_time": "2021-03-21T07:01:22.089613Z"
    }
   },
   "outputs": [
    {
     "data": {
      "text/plain": [
       "0    4\n",
       "1    2\n",
       "2    3\n",
       "3    4\n",
       "dtype: int64"
      ]
     },
     "execution_count": 64,
     "metadata": {},
     "output_type": "execute_result"
    }
   ],
   "source": [
    "ser=pd.Series([4,2,3,4])\n",
    "ser"
   ]
  },
  {
   "cell_type": "code",
   "execution_count": 83,
   "id": "tested-papua",
   "metadata": {
    "ExecuteTime": {
     "end_time": "2021-03-21T07:16:13.648580Z",
     "start_time": "2021-03-21T07:16:13.638794Z"
    }
   },
   "outputs": [
    {
     "data": {
      "text/plain": [
       "array([2, 4, 4, 2, 2, 3])"
      ]
     },
     "execution_count": 83,
     "metadata": {},
     "output_type": "execute_result"
    }
   ],
   "source": [
    "np.random.choice(ser.unique(),6)"
   ]
  },
  {
   "cell_type": "code",
   "execution_count": 89,
   "id": "administrative-wichita",
   "metadata": {
    "ExecuteTime": {
     "end_time": "2021-03-21T07:18:23.350208Z",
     "start_time": "2021-03-21T07:18:23.342912Z"
    }
   },
   "outputs": [
    {
     "data": {
      "text/plain": [
       "array([2, 3, 4])"
      ]
     },
     "execution_count": 89,
     "metadata": {},
     "output_type": "execute_result"
    }
   ],
   "source": [
    "np.sort(ser.sample(1000,replace=True).unique())"
   ]
  },
  {
   "cell_type": "code",
   "execution_count": 77,
   "id": "elder-ministry",
   "metadata": {
    "ExecuteTime": {
     "end_time": "2021-03-21T07:04:24.448090Z",
     "start_time": "2021-03-21T07:04:24.444082Z"
    }
   },
   "outputs": [],
   "source": [
    "npp=np.sort(ser.unique())"
   ]
  },
  {
   "cell_type": "code",
   "execution_count": 78,
   "id": "current-satellite",
   "metadata": {
    "ExecuteTime": {
     "end_time": "2021-03-21T07:04:27.765084Z",
     "start_time": "2021-03-21T07:04:27.759564Z"
    }
   },
   "outputs": [
    {
     "data": {
      "text/plain": [
       "array([2, 3, 4])"
      ]
     },
     "execution_count": 78,
     "metadata": {},
     "output_type": "execute_result"
    }
   ],
   "source": [
    "npp"
   ]
  },
  {
   "cell_type": "code",
   "execution_count": 80,
   "id": "differential-peter",
   "metadata": {
    "ExecuteTime": {
     "end_time": "2021-03-21T07:10:30.867629Z",
     "start_time": "2021-03-21T07:10:30.861383Z"
    }
   },
   "outputs": [
    {
     "data": {
      "text/plain": [
       "array([2.5, 3.5])"
      ]
     },
     "execution_count": 80,
     "metadata": {},
     "output_type": "execute_result"
    }
   ],
   "source": [
    "(npp[1:]+npp[:-1])/2"
   ]
  },
  {
   "cell_type": "code",
   "execution_count": 107,
   "id": "informal-survey",
   "metadata": {
    "ExecuteTime": {
     "end_time": "2021-03-21T08:55:38.643035Z",
     "start_time": "2021-03-21T08:55:38.628204Z"
    }
   },
   "outputs": [
    {
     "data": {
      "text/html": [
       "<div>\n",
       "<style scoped>\n",
       "    .dataframe tbody tr th:only-of-type {\n",
       "        vertical-align: middle;\n",
       "    }\n",
       "\n",
       "    .dataframe tbody tr th {\n",
       "        vertical-align: top;\n",
       "    }\n",
       "\n",
       "    .dataframe thead th {\n",
       "        text-align: right;\n",
       "    }\n",
       "</style>\n",
       "<table border=\"1\" class=\"dataframe\">\n",
       "  <thead>\n",
       "    <tr style=\"text-align: right;\">\n",
       "      <th></th>\n",
       "      <th>aa</th>\n",
       "      <th>bb</th>\n",
       "      <th>cc</th>\n",
       "    </tr>\n",
       "  </thead>\n",
       "  <tbody>\n",
       "    <tr>\n",
       "      <th>0</th>\n",
       "      <td>0.1</td>\n",
       "      <td>1</td>\n",
       "      <td>1</td>\n",
       "    </tr>\n",
       "    <tr>\n",
       "      <th>1</th>\n",
       "      <td>0.2</td>\n",
       "      <td>0</td>\n",
       "      <td>1</td>\n",
       "    </tr>\n",
       "    <tr>\n",
       "      <th>2</th>\n",
       "      <td>0.7</td>\n",
       "      <td>1</td>\n",
       "      <td>1</td>\n",
       "    </tr>\n",
       "  </tbody>\n",
       "</table>\n",
       "</div>"
      ],
      "text/plain": [
       "    aa  bb  cc\n",
       "0  0.1   1   1\n",
       "1  0.2   0   1\n",
       "2  0.7   1   1"
      ]
     },
     "execution_count": 107,
     "metadata": {},
     "output_type": "execute_result"
    }
   ],
   "source": [
    "X_test"
   ]
  },
  {
   "cell_type": "code",
   "execution_count": 152,
   "id": "amazing-webster",
   "metadata": {
    "ExecuteTime": {
     "end_time": "2021-03-21T13:13:51.887588Z",
     "start_time": "2021-03-21T13:13:51.882094Z"
    }
   },
   "outputs": [],
   "source": [
    "y_test=pd.DataFrame({'target':[1,0,1]})"
   ]
  },
  {
   "cell_type": "code",
   "execution_count": 153,
   "id": "comfortable-america",
   "metadata": {
    "ExecuteTime": {
     "end_time": "2021-03-21T13:13:52.528766Z",
     "start_time": "2021-03-21T13:13:52.519205Z"
    }
   },
   "outputs": [
    {
     "data": {
      "text/html": [
       "<div>\n",
       "<style scoped>\n",
       "    .dataframe tbody tr th:only-of-type {\n",
       "        vertical-align: middle;\n",
       "    }\n",
       "\n",
       "    .dataframe tbody tr th {\n",
       "        vertical-align: top;\n",
       "    }\n",
       "\n",
       "    .dataframe thead th {\n",
       "        text-align: right;\n",
       "    }\n",
       "</style>\n",
       "<table border=\"1\" class=\"dataframe\">\n",
       "  <thead>\n",
       "    <tr style=\"text-align: right;\">\n",
       "      <th></th>\n",
       "      <th>target</th>\n",
       "    </tr>\n",
       "  </thead>\n",
       "  <tbody>\n",
       "    <tr>\n",
       "      <th>0</th>\n",
       "      <td>1</td>\n",
       "    </tr>\n",
       "    <tr>\n",
       "      <th>1</th>\n",
       "      <td>0</td>\n",
       "    </tr>\n",
       "    <tr>\n",
       "      <th>2</th>\n",
       "      <td>1</td>\n",
       "    </tr>\n",
       "  </tbody>\n",
       "</table>\n",
       "</div>"
      ],
      "text/plain": [
       "   target\n",
       "0       1\n",
       "1       0\n",
       "2       1"
      ]
     },
     "execution_count": 153,
     "metadata": {},
     "output_type": "execute_result"
    }
   ],
   "source": [
    "y_test"
   ]
  },
  {
   "cell_type": "code",
   "execution_count": 154,
   "id": "limited-composer",
   "metadata": {
    "ExecuteTime": {
     "end_time": "2021-03-21T13:13:52.923513Z",
     "start_time": "2021-03-21T13:13:52.912305Z"
    }
   },
   "outputs": [
    {
     "data": {
      "text/plain": [
       "0    1\n",
       "2    1\n",
       "Name: target, dtype: int64"
      ]
     },
     "execution_count": 154,
     "metadata": {},
     "output_type": "execute_result"
    }
   ],
   "source": [
    "y_test.iloc[:,0][mask]"
   ]
  },
  {
   "cell_type": "code",
   "execution_count": 155,
   "id": "bronze-stuart",
   "metadata": {
    "ExecuteTime": {
     "end_time": "2021-03-21T13:13:53.480495Z",
     "start_time": "2021-03-21T13:13:53.475460Z"
    }
   },
   "outputs": [],
   "source": [
    "mask=X_test['bb']>0.5"
   ]
  },
  {
   "cell_type": "code",
   "execution_count": 156,
   "id": "common-lawrence",
   "metadata": {
    "ExecuteTime": {
     "end_time": "2021-03-21T13:13:54.132176Z",
     "start_time": "2021-03-21T13:13:54.121124Z"
    }
   },
   "outputs": [
    {
     "data": {
      "text/plain": [
       "0    1\n",
       "2    1\n",
       "Name: target, dtype: int64"
      ]
     },
     "execution_count": 156,
     "metadata": {},
     "output_type": "execute_result"
    }
   ],
   "source": [
    "y_left=y_test[mask].iloc[:,0]\n",
    "y_left"
   ]
  },
  {
   "cell_type": "code",
   "execution_count": 175,
   "id": "painful-sarah",
   "metadata": {
    "ExecuteTime": {
     "end_time": "2021-03-21T14:03:55.356959Z",
     "start_time": "2021-03-21T14:03:55.344670Z"
    }
   },
   "outputs": [
    {
     "data": {
      "text/plain": [
       "0.4444444444444444"
      ]
     },
     "execution_count": 175,
     "metadata": {},
     "output_type": "execute_result"
    }
   ],
   "source": [
    "1-((y_test.iloc[:,0].groupby(y_test.iloc[:,0]).count()/y_test.iloc[:,0].count())**2).sum()"
   ]
  },
  {
   "cell_type": "code",
   "execution_count": 140,
   "id": "improved-bulgarian",
   "metadata": {
    "ExecuteTime": {
     "end_time": "2021-03-21T13:07:22.142929Z",
     "start_time": "2021-03-21T13:07:22.137586Z"
    }
   },
   "outputs": [
    {
     "data": {
      "text/plain": [
       "True"
      ]
     },
     "execution_count": 140,
     "metadata": {},
     "output_type": "execute_result"
    }
   ],
   "source": [
    "type(y_test)==pd.core.frame.DataFrame"
   ]
  },
  {
   "cell_type": "code",
   "execution_count": 117,
   "id": "bound-award",
   "metadata": {
    "ExecuteTime": {
     "end_time": "2021-03-21T08:59:59.634927Z",
     "start_time": "2021-03-21T08:59:59.628448Z"
    }
   },
   "outputs": [
    {
     "data": {
      "text/plain": [
       "0    False\n",
       "1    False\n",
       "2     True\n",
       "Name: aa, dtype: bool"
      ]
     },
     "execution_count": 117,
     "metadata": {},
     "output_type": "execute_result"
    }
   ],
   "source": [
    "mask"
   ]
  },
  {
   "cell_type": "code",
   "execution_count": 166,
   "id": "rotary-terminology",
   "metadata": {
    "ExecuteTime": {
     "end_time": "2021-03-21T14:01:49.845865Z",
     "start_time": "2021-03-21T14:01:49.835615Z"
    }
   },
   "outputs": [
    {
     "data": {
      "text/plain": [
       "0    1\n",
       "1    0\n",
       "2    1\n",
       "Name: target, dtype: int64"
      ]
     },
     "execution_count": 166,
     "metadata": {},
     "output_type": "execute_result"
    }
   ],
   "source": [
    "y_test.iloc[:,0]"
   ]
  },
  {
   "cell_type": "code",
   "execution_count": 179,
   "id": "junior-athletics",
   "metadata": {
    "ExecuteTime": {
     "end_time": "2021-03-21T14:47:06.380724Z",
     "start_time": "2021-03-21T14:47:06.374688Z"
    }
   },
   "outputs": [
    {
     "data": {
      "text/plain": [
       "[3, 4, 3]"
      ]
     },
     "execution_count": 179,
     "metadata": {},
     "output_type": "execute_result"
    }
   ],
   "source": [
    "[3,4]+[3]"
   ]
  },
  {
   "cell_type": "code",
   "execution_count": 182,
   "id": "opened-rendering",
   "metadata": {
    "ExecuteTime": {
     "end_time": "2021-03-21T19:24:59.940834Z",
     "start_time": "2021-03-21T19:24:59.933572Z"
    }
   },
   "outputs": [
    {
     "data": {
      "text/plain": [
       "0    1\n",
       "1    0\n",
       "2    1\n",
       "Name: target, dtype: int64"
      ]
     },
     "execution_count": 182,
     "metadata": {},
     "output_type": "execute_result"
    }
   ],
   "source": [
    "y_test.iloc[:,0]#.mode()"
   ]
  },
  {
   "cell_type": "code",
   "execution_count": 197,
   "id": "realistic-output",
   "metadata": {
    "ExecuteTime": {
     "end_time": "2021-03-21T19:36:40.504465Z",
     "start_time": "2021-03-21T19:36:40.501026Z"
    }
   },
   "outputs": [],
   "source": [
    "lis=[2,5,6,2,7]"
   ]
  },
  {
   "cell_type": "code",
   "execution_count": 198,
   "id": "engaging-satellite",
   "metadata": {
    "ExecuteTime": {
     "end_time": "2021-03-21T19:36:48.997461Z",
     "start_time": "2021-03-21T19:36:48.992534Z"
    }
   },
   "outputs": [
    {
     "data": {
      "text/plain": [
       "0"
      ]
     },
     "execution_count": 198,
     "metadata": {},
     "output_type": "execute_result"
    }
   ],
   "source": [
    "lis.index(min(lis))"
   ]
  },
  {
   "cell_type": "code",
   "execution_count": null,
   "id": "august-delaware",
   "metadata": {},
   "outputs": [],
   "source": []
  }
 ],
 "metadata": {
  "kernelspec": {
   "display_name": "Python 3",
   "language": "python",
   "name": "python3"
  },
  "language_info": {
   "codemirror_mode": {
    "name": "ipython",
    "version": 3
   },
   "file_extension": ".py",
   "mimetype": "text/x-python",
   "name": "python",
   "nbconvert_exporter": "python",
   "pygments_lexer": "ipython3",
   "version": "3.8.6"
  },
  "toc": {
   "base_numbering": 1,
   "nav_menu": {},
   "number_sections": true,
   "sideBar": true,
   "skip_h1_title": false,
   "title_cell": "Table of Contents",
   "title_sidebar": "Contents",
   "toc_cell": false,
   "toc_position": {},
   "toc_section_display": true,
   "toc_window_display": true
  },
  "varInspector": {
   "cols": {
    "lenName": 16,
    "lenType": 16,
    "lenVar": 40
   },
   "kernels_config": {
    "python": {
     "delete_cmd_postfix": "",
     "delete_cmd_prefix": "del ",
     "library": "var_list.py",
     "varRefreshCmd": "print(var_dic_list())"
    },
    "r": {
     "delete_cmd_postfix": ") ",
     "delete_cmd_prefix": "rm(",
     "library": "var_list.r",
     "varRefreshCmd": "cat(var_dic_list()) "
    }
   },
   "types_to_exclude": [
    "module",
    "function",
    "builtin_function_or_method",
    "instance",
    "_Feature"
   ],
   "window_display": false
  }
 },
 "nbformat": 4,
 "nbformat_minor": 5
}
