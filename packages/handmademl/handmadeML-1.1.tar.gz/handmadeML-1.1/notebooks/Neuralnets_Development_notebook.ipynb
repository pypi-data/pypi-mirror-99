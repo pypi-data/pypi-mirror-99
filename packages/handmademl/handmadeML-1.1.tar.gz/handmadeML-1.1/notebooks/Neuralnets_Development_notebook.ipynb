{
 "cells": [
  {
   "cell_type": "markdown",
   "metadata": {},
   "source": [
    "# General lib imports"
   ]
  },
  {
   "cell_type": "code",
   "execution_count": 3,
   "metadata": {
    "ExecuteTime": {
     "end_time": "2021-02-01T14:25:38.443070Z",
     "start_time": "2021-02-01T14:25:36.348514Z"
    }
   },
   "outputs": [],
   "source": [
    "import pandas as pd\n",
    "import numpy as np\n",
    "from progressbar.bar import ProgressBar\n",
    "import seaborn as sns"
   ]
  },
  {
   "cell_type": "markdown",
   "metadata": {},
   "source": [
    "# Code"
   ]
  },
  {
   "cell_type": "markdown",
   "metadata": {},
   "source": [
    "## Functions"
   ]
  },
  {
   "cell_type": "markdown",
   "metadata": {},
   "source": [
    "### compute_activation"
   ]
  },
  {
   "cell_type": "code",
   "execution_count": 12,
   "metadata": {
    "ExecuteTime": {
     "end_time": "2021-02-01T15:15:41.904568Z",
     "start_time": "2021-02-01T15:15:41.894764Z"
    }
   },
   "outputs": [],
   "source": [
    "def compute_activation (X, activation_type):\n",
    "    '''Defining activation functions\n",
    "     Takes a nparray or a single value\n",
    "    # Returns in the same format\n",
    "    \n",
    "    For softmax : assuming that X.shape[0]== n_neurons,\n",
    "        the axis0 of array X is used for computing the mean \n",
    "    '''\n",
    "    X=np.array(X)\n",
    "    if activation_type == 'relu':\n",
    "        return np.maximum(X,0)\n",
    "    elif activation_type == 'sigmoid':\n",
    "        return 1/(1+np.exp(-X))\n",
    "    elif activation_type == 'tanh':\n",
    "        return np.tanh(X)\n",
    "    elif activation_type == 'linear':\n",
    "        return X\n",
    "    elif activation_type == 'softmax':\n",
    "        exp_x = np.exp(X)\n",
    "        return exp_x / exp_x.sum(axis=0)\n",
    "\n",
    "    #raise error if unknown type\n",
    "    else:\n",
    "        raise ValueError(f'Unknown activation type {activation_type}. \\\n",
    "Supported types : linear, relu, sigmoid, tanh, softmax')"
   ]
  },
  {
   "cell_type": "markdown",
   "metadata": {},
   "source": [
    "### compute_activation (version with derivatives option, not used in backprop, kept here in cas of future need)"
   ]
  },
  {
   "cell_type": "code",
   "execution_count": 5,
   "metadata": {
    "ExecuteTime": {
     "end_time": "2021-02-01T14:25:38.500120Z",
     "start_time": "2021-02-01T14:25:38.481653Z"
    }
   },
   "outputs": [],
   "source": [
    "def compute_activation_old (X, activation_type, derivative=False):\n",
    "    '''Defining activation functions\n",
    "     Takes a nparray or a single value\n",
    "    # Returns in the same format\n",
    "    \n",
    "    For softmax : assuming that X.shape[0]== n_neurons,\n",
    "        the axis0 of array X is used for computing the mean \n",
    "    '''\n",
    "    X=np.array(X)\n",
    "    if activation_type == 'relu':\n",
    "        if derivative == False:\n",
    "            return np.maximum(X,0)\n",
    "        else:\n",
    "            return (X > 0).astype(int)\n",
    "        \n",
    "    elif activation_type == 'sigmoid':\n",
    "        if derivative == False:\n",
    "            return 1 / (1 + np.exp(-X))\n",
    "        else:\n",
    "            return np.exp(-X) / np.square(1 + np.exp(-X))\n",
    "    \n",
    "    elif activation_type == 'tanh':\n",
    "        if derivative == False:\n",
    "            return np.tanh(X)\n",
    "        else:\n",
    "            return np.square(1 / np.cosh(X))\n",
    "            \n",
    "    elif activation_type == 'linear':\n",
    "        if derivative == False:\n",
    "            return X\n",
    "        else:\n",
    "            return np.ones(X.shape)\n",
    "            \n",
    "    elif activation_type == 'softmax':\n",
    "        exp_x = np.exp(X)\n",
    "        sigma_exp_x = exp_x.sum(axis=0)\n",
    "        if derivative == False: \n",
    "            return exp_x / sigma_exp_x\n",
    "        else:\n",
    "            return (exp_x * sigma_exp_x - np.square(exp_x)) / np.square(sigma_exp_x)\n",
    "        \n",
    "    #raise error if unknown type\n",
    "    else:\n",
    "        raise ValueError(f'Unknown activation type {activation_type}. \\\n",
    "Supported types : linear, relu, sigmoid, tanh, softmax')"
   ]
  },
  {
   "cell_type": "markdown",
   "metadata": {},
   "source": [
    "### compute_activation_derivative"
   ]
  },
  {
   "cell_type": "code",
   "execution_count": 6,
   "metadata": {
    "ExecuteTime": {
     "end_time": "2021-02-01T14:25:38.522782Z",
     "start_time": "2021-02-01T14:25:38.510125Z"
    }
   },
   "outputs": [],
   "source": [
    "def compute_activation_derivative (layer_output, activation_type):\n",
    "    '''Computes the derivative of the activation functions,\n",
    "       depending of the outputs of the output of these functions\n",
    "           nota : if occures that for each of the 5 basic activations,\n",
    "           f'(X) can be expressed simply as a function of f(X)\n",
    "           \n",
    "           Takes a nparray or a single value\n",
    "        # Returns in the same format\n",
    "           '''\n",
    "    X_output=np.array(layer_output)\n",
    "    if activation_type == 'relu':\n",
    "        return (X_output > 0).astype(int)\n",
    "    if activation_type == 'linear':\n",
    "        return np.ones(X_output.shape)\n",
    "    if activation_type == 'sigmoid':\n",
    "        return X_output - np.square(X_output)\n",
    "    if activation_type == 'tanh':\n",
    "        return 1 - np.square(X_output)\n",
    "    if activation_type == 'softmax':\n",
    "        return X_output - np.square(X_output)\n",
    "    \n",
    "    #raise error if unknown type\n",
    "    else:\n",
    "        raise ValueError(f'Unknown activation type {activation_type}. \\\n",
    "Supported types : linear, relu, sigmoid, tanh, softmax')"
   ]
  },
  {
   "cell_type": "markdown",
   "metadata": {},
   "source": [
    "### compute_metric"
   ]
  },
  {
   "cell_type": "code",
   "execution_count": 7,
   "metadata": {
    "ExecuteTime": {
     "end_time": "2021-02-01T14:25:38.556208Z",
     "start_time": "2021-02-01T14:25:38.529737Z"
    }
   },
   "outputs": [],
   "source": [
    "def compute_metric (y, y_pred, metric, loss_derivative=False):\n",
    "    '''Defining loss and metric functions\n",
    "     Takes nparrays, lists or a single values\n",
    "     \n",
    "     ## IF loss_derivative==False:\n",
    "         output: always scalar\n",
    "         \n",
    "     ## IF loss_derivative==True: (True will be ignored for non-loss metrics)\n",
    "         Computes the partial derivative of the loss function\n",
    "           with respect to each component of each sample\n",
    "         output: 2Darray\n",
    "            n_samples * 1 for binary_crossentropy or single output regression\n",
    "            n_samples * n_class for categorical_crossentropy\n",
    "            n_samples * n_features for multifeatures regression)\n",
    "    '''\n",
    "        \n",
    "    #converting DataFrames, lists or lists of lists to nparray\n",
    "    y = np.array(y)\n",
    "    y_pred = np.array(y_pred)\n",
    "        \n",
    "    #deal with 1D inputs to forge a n_samples * 1 2D-array\n",
    "    if len(y.shape) == 1:\n",
    "        y = np.expand_dims(y, axis = 1)\n",
    "    if len(y_pred.shape) == 1:\n",
    "        y_pred = np.expand_dims(y_pred, axis = 1)\n",
    "            \n",
    "    #raise errors for unconsistant inputs\n",
    "    if len(y.shape) > 2:\n",
    "        raise ValueError('y vector dimension too high. Must be 2 max')\n",
    "    if len(y_pred.shape) > 2:\n",
    "        raise ValueError('y_pred vector dimension too high. Must be 2 max')\n",
    "    if y.shape != y_pred.shape:\n",
    "        raise ValueError(f'unconsistent vectors dimensions during scoring: \\\n",
    "y.shape= {y.shape} and y_pred.shape= {y_pred.shape}')\n",
    "        \n",
    "    #compute loss funtions (or derivatives if loss_derivative==True)\n",
    "    if metric == 'mse':\n",
    "        if loss_derivative == False:\n",
    "            return np.square(y-y_pred).mean()\n",
    "        else:\n",
    "            return 1 / y.size * 2 * (y_pred - y)\n",
    "        \n",
    "    elif metric == 'mae':\n",
    "        if loss_derivative == False:\n",
    "            return np.abs(y-y_pred).mean()\n",
    "        else:\n",
    "            return 1 / y.size * (y_pred - y) / np.abs(y - y_pred)\n",
    "        \n",
    "    elif metric == 'categorical_crossentropy':\n",
    "        if loss_derivative == False:\n",
    "            return -1 / y.shape[0] * ((y * np.log(y_pred)).sum())\n",
    "        else:\n",
    "            return -1 / y.shape[0] * (y / y_pred)\n",
    "        \n",
    "    elif metric == 'binary_crossentropy':\n",
    "        if y.shape[1]>1:\n",
    "            raise ValueError('y vector dimension too high. \\\n",
    "Must be 1 max for binary_crossentropy')\n",
    "        if loss_derivative == False:\n",
    "            return -(y*np.log(y_pred)+(1-y)*np.log(1-y_pred)).mean()\n",
    "        else:\n",
    "            return -1 / y.size * (y / y_pred - (1-y) / (1-y_pred))\n",
    "        \n",
    "    # compute other metrics functions\n",
    "    ## TODO ## accuracy, f1-score, recall, etc..\n",
    "    else:\n",
    "        raise ValueError(f'Unknown metric {metric}. Supported types: \\\n",
    "mse, mae, categorical_crossentropy, binary_crossentropy')"
   ]
  },
  {
   "cell_type": "markdown",
   "metadata": {},
   "source": [
    "## Optimizers"
   ]
  },
  {
   "cell_type": "code",
   "execution_count": 8,
   "metadata": {
    "ExecuteTime": {
     "end_time": "2021-02-01T14:25:38.577237Z",
     "start_time": "2021-02-01T14:25:38.560792Z"
    }
   },
   "outputs": [],
   "source": [
    "class adam_optimizer():\n",
    "    def __init__(self, weights, bias, alpha_init=0.001, beta_1=0.9,\n",
    "             beta_2=0.999, epsilon=1e-8):\n",
    "        \n",
    "        self.alpha_init=alpha_init\n",
    "        self.beta_1=beta_1\n",
    "        self.beta_2=beta_2\n",
    "        self.epsilon=epsilon\n",
    "    \n",
    "        self.t=0\n",
    "        #initializing first and second momentum\n",
    "        self.m_weights = [np.zeros_like(w) for w in weights]\n",
    "        self.m_bias = [np.zeros_like(b) for b in bias]\n",
    "        self.v_weights = self.m_weights.copy()\n",
    "        self.v_bias = self.m_bias.copy()\n",
    "        \n",
    "    def get_update(self, gradient_weights, gradient_bias):\n",
    "        self.t+=1\n",
    "        alpha=self.alpha_init*np.sqrt(1-self.beta_2**self.t)/(1-self.beta_1**self.t)\n",
    "                    \n",
    "        # updating 1st and 2nd momenta\n",
    "        self.m_weights=[self.beta_1 * m + (1-self.beta_1) * grad\\\n",
    "                   for m, grad in zip(self.m_weights, gradient_weights)]\n",
    "        self.m_bias=[self.beta_1 * m + (1-self.beta_1) * grad\\\n",
    "                   for m, grad in zip(self.m_bias, gradient_bias)]\n",
    "        self.v_weights=[self.beta_2 * v + (1-self.beta_2) * grad**2\\\n",
    "                   for v, grad in zip(self.v_weights, gradient_weights)]\n",
    "        self.v_bias=[self.beta_2 * v + (1-self.beta_2) * grad**2\\\n",
    "                   for v, grad in zip(self.v_bias, gradient_bias)]\n",
    "        \n",
    "        #computing the updates\n",
    "        weights_update = [- alpha * m / (np.sqrt(v) + self.epsilon)\\\n",
    "                                  for m, v in zip( self.m_weights, self.v_weights)]\n",
    "        bias_update = [- alpha * m / (np.sqrt(v) + self.epsilon)\\\n",
    "                                  for m, v in zip( self.m_bias, self.v_bias)]\n",
    "        \n",
    "        return weights_update, bias_update"
   ]
  },
  {
   "cell_type": "markdown",
   "metadata": {},
   "source": [
    "## Model class"
   ]
  },
  {
   "cell_type": "code",
   "execution_count": 1,
   "metadata": {
    "ExecuteTime": {
     "end_time": "2021-02-05T10:46:30.919168Z",
     "start_time": "2021-02-05T10:46:30.689293Z"
    }
   },
   "outputs": [],
   "source": [
    "class handmade_nn ():\n",
    "    '''\n",
    "    hand-made version of neural network\n",
    "    so far, the possibilities are :\n",
    "    \n",
    "        - layers activation functions :\n",
    "            'linear', 'relu', 'sigmoid', 'tanh', 'softmax'\n",
    "        \n",
    "        - weights initializers : 'ones', 'glorot_uniform'\n",
    "        - bias initializers : 'zeros', 'ones'\n",
    "    \n",
    "        - loss functions :\n",
    "            'mse', 'mae', 'binary_crossentropy', 'categorical_crossentropy'\n",
    "    \n",
    "        - solver :\n",
    "            SGD without momentum 'sgd', 'adam'\n",
    "    '''\n",
    "    def __init__ (self, input_dim=0):\n",
    "        self.weights=[]\n",
    "        self.bias=[]\n",
    "        self.activation_types=[]\n",
    "        self.input_dim=input_dim\n",
    "        self.n_layers=0\n",
    " \n",
    "        self.loss_history=[]\n",
    "\n",
    "    def set_input_dim (self, input_dim):\n",
    "        self.input_dim = input_dim\n",
    "        \n",
    "    def set_loss (self, loss_type):\n",
    "        self.loss_type = loss_type\n",
    "        \n",
    "    def add_dense_layer (self, n_neurons, activation_type, \n",
    "                         weights_initializer='glorot_uniform', bias_initializer='zeros'):\n",
    "        #check if the input_dim is set\n",
    "        if self.input_dim == 0:\n",
    "            raise ValueError('input_dim = 0 .\\\n",
    "Use set_input_dim before creating first layer')\n",
    "            \n",
    "        #get the size of the input os this layer\n",
    "        if len(self.bias) == 0:\n",
    "            previous_dim=self.input_dim\n",
    "        else:\n",
    "            previous_dim=(self.bias[-1].shape[0])\n",
    "            \n",
    "        #initialize the layer parameters\n",
    "        if weights_initializer == 'ones':\n",
    "            self.weights.append(np.ones((n_neurons, previous_dim)))\n",
    "        elif weights_initializer == 'glorot_uniform':\n",
    "            limit = np.square(6 / (n_neurons + previous_dim))\n",
    "            self.weights.append(np.random.uniform(-limit, limit, size = (n_neurons, previous_dim)))\n",
    "        else:\n",
    "            raise ValueError(f'Unknown weights initializer {weights_initializer}.\\\n",
    "Supported types : ones, glorot_uniform')\n",
    "            \n",
    "        if bias_initializer == 'zeros':\n",
    "            self.bias.append(np.zeros(n_neurons))\n",
    "        elif bias_initializer == 'ones':\n",
    "            self.bias.append(np.ones(n_neurons))\n",
    "        else:\n",
    "            raise ValueError(f'Unknown bias initializer {bias_initializer}.\\\n",
    "Supported types : zeros, ones')\n",
    "            \n",
    "        self.activation_types.append(activation_type)\n",
    "        self.n_layers += 1\n",
    "        \n",
    "        #test the activation type\n",
    "        compute_activation(0, activation_type)\n",
    "        \n",
    "    def predict (self, X, keep_hidden_layers=False):\n",
    "        '''input X : list, list of lists, np array, pd DataFrame\n",
    "               axis 0 = samples\n",
    "               axis 1 = features\n",
    "               \n",
    "           ## IF keep_hidden_layers==False:\n",
    "           output = y_pred: 2D np-array\n",
    "               axis 0 = samples\n",
    "               axis 1 = output features, depending of the size of last layer\n",
    "               \n",
    "           ## IF keep_hidden_layers==True:\n",
    "           outputs = layers_outputs, layers_activation_derivatives\n",
    "           -output1 = layers_outputs:\n",
    "               list of 2D np-arrays of outputs of each layer\n",
    "               len(list)=n_layers+1: 1st element = X itself\n",
    "                                     last element = y_pred\n",
    "               axis 0 = samples\n",
    "               axis 1 = number of neurons of the layer\n",
    "           -output2 = layers_activation_derivatives:\n",
    "               list of 2D np-arrays of d_act/d_input of each layer\n",
    "               len(list)=n_layers\n",
    "               axis 0 = samples\n",
    "               axis 1 = number of neurons of the layer\n",
    "           '''\n",
    "        #converting DataFrames, lists or lists of lists to nparray\n",
    "        X = np.array(X)\n",
    "        \n",
    "        #deal with 1D inputs to forge a 1 * n_features 2D-array\n",
    "        if len(X.shape) == 1:\n",
    "            X = np.expand_dims(X, axis = 0)\n",
    "            \n",
    "        #raise errors for unconsistant inputs\n",
    "        if len(X.shape) > 2:\n",
    "            raise ValueError('X vector dimension too high. Must be 2 max')\n",
    "        if X.shape[1] != self.input_dim:\n",
    "            raise ValueError(f'Unconsistent number of features. \\\n",
    "The network input_dim is {self.input_dim}')\n",
    "            \n",
    "        #compute the prediction\n",
    "        layers_outputs = [X]\n",
    "        layers_activation_derivatives = []\n",
    "        for layer_index, activation_type in enumerate(self.activation_types):\n",
    "            activation_input = np.dot(self.weights[layer_index], X.T)\\\n",
    "                               + np.expand_dims(self.bias[layer_index], axis=1)\n",
    "            X = compute_activation(activation_input, activation_type).T\n",
    "\n",
    "            layers_outputs.append(X)\n",
    "            layers_activation_derivatives.append(\\\n",
    "                compute_activation_derivative(X, activation_type))\n",
    "                \n",
    "        if keep_hidden_layers == True:\n",
    "            return layers_outputs, layers_activation_derivatives\n",
    "        else:\n",
    "            return X\n",
    "    \n",
    "    def score (self, X, y, metric):\n",
    "        '''use predict method, then compute_metric function'''\n",
    "        y_pred=self.predict(X)\n",
    "        return compute_metric(y, y_pred, metric)\n",
    "    \n",
    "    def compute_backpropagation (self, X, y):\n",
    "        '''This method :\n",
    "            - executes self.predict(X) WITH keep_hidden_layers\n",
    "                to keep all intermediate outputs\n",
    "            - executes compute_metric (y, y_pred, loss) WITH loss_derivative\n",
    "            - for each layer from last to first : computes loss\n",
    "              derivatives (aka gradient) with respect to bias and weights\n",
    "              \n",
    "            output 1 : gradient with respect to weights \n",
    "               (list of 2D arrays \n",
    "               len(list) = n_layers\n",
    "               axis 0 = number of neurons of the layer\n",
    "               axis 1 = number of neurons of the previous layer (or features in the input)\n",
    "            output 2 : gradient with respect to bias\n",
    "               (list of 1D arrays)\n",
    "               len(list) = n_layers\n",
    "               axis 0 = number of neurons of the layer\n",
    "            '''\n",
    "        delta_weights=[]\n",
    "        delta_bias=[]\n",
    "        \n",
    "        # compute the outputs and the derivatives of each layer\n",
    "        layers_outputs, layers_activation_derivatives\\\n",
    "                = self.predict(X, keep_hidden_layers = True)\n",
    "        # compute d_loss/d_ypred\n",
    "        dloss_doutput = compute_metric (y, \n",
    "                                        layers_outputs[-1], \n",
    "                                        self.loss_type, \n",
    "                                        loss_derivative = True)\n",
    "        for layer_index in range(self.n_layers-1, -1, -1):\n",
    "            # compute d_loss/d_input of the layer\n",
    "            dloss_dinput = dloss_doutput * layers_activation_derivatives[layer_index]\n",
    "            \n",
    "            # compute gradient with respect to weights and bias\n",
    "            delta_weights.append(np.dot(dloss_dinput.T, layers_outputs[layer_index]))\n",
    "            delta_bias.append(np.sum(dloss_dinput, axis=0))\n",
    "            \n",
    "            # update dloss_doutput for next propagation\n",
    "            if layer_index > 0:\n",
    "                dloss_doutput = np.dot (dloss_dinput, self.weights[layer_index])\n",
    "        \n",
    "        delta_weights.reverse()\n",
    "        delta_bias.reverse()\n",
    "                \n",
    "        return delta_weights, delta_bias\n",
    "            \n",
    "    \n",
    "    def fit (self, X, y, loss_type=None, learning_rate=0.01,\n",
    "             batch_size=1, n_epochs=10, verbose=1,\n",
    "             optimizer_type='sgd',\n",
    "             alpha_init=0.001, beta_1=0.9,\n",
    "             beta_2=0.999, epsilon=1e-8):\n",
    "        '''input X : 2D array or pd DataFrame\n",
    "                axis 0 = samples\n",
    "                axis 1 = features\n",
    "        '''\n",
    "        if loss_type:\n",
    "            self.loss_type=loss_type\n",
    "        \n",
    "        if optimizer_type == 'adam':\n",
    "            optimizer = adam_optimizer (self.weights, self.bias, \n",
    "                                        alpha_init=alpha_init, beta_1=beta_1,\n",
    "                                        beta_2=beta_2, epsilon=epsilon)\n",
    "        \n",
    "        X = np.array(X)\n",
    "        y = np.array(y)\n",
    "        n_samples = X.shape[0]\n",
    "        n_minibatches_per_epoch = int((n_samples-1) / batch_size) + 1\n",
    "        \n",
    "        loss=self.score(X, y, self.loss_type)\n",
    "        if self.loss_history == []:\n",
    "            self.loss_history.append(loss)\n",
    "        if verbose>0:\n",
    "            print(f'initial loss: {loss}')\n",
    "        \n",
    "        for epoch_index in range (n_epochs):\n",
    "            if verbose>1:\n",
    "                print(f'beginning epoch n°{epoch_index + 1}')\n",
    "                \n",
    "            #progress_batches = ProgressBar()\n",
    "            #for mini_batch_index in progress_batches(range(n_minibatches_per_epoch)):\n",
    "            for mini_batch_index in range(n_minibatches_per_epoch):\n",
    "                gradient_weights, gradient_bias\\\n",
    "                    = self.compute_backpropagation(X[mini_batch_index * batch_size :\\\n",
    "                                                     (mini_batch_index +1) * batch_size],\n",
    "                                                   y[mini_batch_index * batch_size :\\\n",
    "                                                     (mini_batch_index +1) * batch_size])\n",
    "                if optimizer_type == 'sgd':\n",
    "                    #compute the update directly\n",
    "                    weights_update = [-learning_rate * grad for grad in gradient_weights]\n",
    "                    bias_update = [-learning_rate * grad for grad in gradient_bias]\n",
    "               \n",
    "                elif optimizer_type == 'adam':\n",
    "                    #compute the update with the optimizer\n",
    "                    weights_update, bias_update = optimizer.get_update(gradient_weights, gradient_bias)\n",
    "                \n",
    "                else:\n",
    "                    raise ValueError(f'unsupported optimizer type {optimizer}') \n",
    "                    \n",
    "                # updating weights and bias\n",
    "                self.weights = [w + w_update  for w, w_update in zip(self.weights, weights_update)]\n",
    "                self.bias = [b + b_update for b, b_update in zip(self.bias, bias_update)]\n",
    "            \n",
    "            loss=self.score(X, y, self.loss_type)\n",
    "            self.loss_history.append(loss)\n",
    "            if verbose>1:\n",
    "                \n",
    "                print(f'end of epoch n°{epoch_index + 1}. loss: {loss}')\n",
    "                \n",
    "        if verbose==1:\n",
    "            print(f'final loss: {loss}')\n",
    "            \n",
    "    def plot_loss_history(self):\n",
    "        '''Make a simple plot loss versus epochs'''\n",
    "        graph=sns.lineplot(x=range(len(self.loss_history)),y=self.loss_history)\n",
    "        graph.set(xlabel=\"epochs\", ylabel = \"loss\")\n",
    "        "
   ]
  },
  {
   "cell_type": "markdown",
   "metadata": {},
   "source": [
    "# Tests"
   ]
  },
  {
   "cell_type": "code",
   "execution_count": 14,
   "metadata": {
    "ExecuteTime": {
     "end_time": "2021-01-31T19:20:26.883484Z",
     "start_time": "2021-01-31T19:20:26.867128Z"
    }
   },
   "outputs": [],
   "source": [
    "if __name__ == \"__main__\":\n",
    "    #test all the features of the handmade_nn class\n",
    "    from unittest import TestCase"
   ]
  },
  {
   "cell_type": "markdown",
   "metadata": {},
   "source": [
    "## compute_activation function tests"
   ]
  },
  {
   "cell_type": "code",
   "execution_count": 8,
   "metadata": {
    "ExecuteTime": {
     "end_time": "2021-01-29T14:31:02.049444Z",
     "start_time": "2021-01-29T14:31:02.024572Z"
    }
   },
   "outputs": [],
   "source": [
    "    #---------------------------------------------------------------------------\n",
    "    ## tests for function compute_activation\n",
    "    #---------------------------------------------------------------------------\n",
    "\n",
    "    assert (compute_activation(np.array([[-1,0], [0, 1], [1, 3]]),\n",
    "                               'relu') ==\\\n",
    "            np.array([[0,0], [0, 1], [1, 3]]))\\\n",
    "            .all(), \"uncorrect relu function behaviour\"\n",
    "\n",
    "    #---------------------------------------------------------------------------\n",
    "    assert (compute_activation(np.array([[-1,0], [0, 1], [1, 3]]),\n",
    "                               'linear') ==\\\n",
    "            np.array([[-1,0], [0, 1], [1, 3]]))\\\n",
    "            .all(), \"uncorrect linear function behaviour\"\n",
    "\n",
    "    #---------------------------------------------------------------------------\n",
    "    assert (np.round(compute_activation(np.array([[-1,0], [0, 1], [1, 3]]),\n",
    "                                        'sigmoid'), decimals= 8) ==\\\n",
    "            np.array([[0.26894142, 0.5       ],\n",
    "                      [0.5       , 0.73105858],\n",
    "                      [0.73105858, 0.95257413]]))\\\n",
    "            .all(), \"uncorrect sigmoid function behaviour\"\n",
    "\n",
    "    #---------------------------------------------------------------------------\n",
    "    assert (np.round(compute_activation(np.array([[-1,0], [0, 1], [1, 3]]),\n",
    "                                        'tanh'), decimals= 8) ==\\\n",
    "            np.array([[-0.76159416,  0.        ],\n",
    "                      [ 0.        ,  0.76159416],\n",
    "                      [ 0.76159416,  0.99505475]]))\\\n",
    "            .all(), \"uncorrect tanh function behaviour\"\n",
    "\n",
    "    #---------------------------------------------------------------------------\n",
    "    assert (np.round(compute_activation(np.array([[-1,0], [0, 1], [1, 3]]),\n",
    "                                        'softmax'), decimals= 8) ==\\\n",
    "            np.array([[0.09003057, 0.04201007],\n",
    "                      [0.24472847, 0.1141952 ],\n",
    "                      [0.66524096, 0.84379473]]))\\\n",
    "            .all(), \"uncorrect softmax function behaviour\"\n",
    "\n",
    "    #---------------------------------------------------------------------------\n",
    "    test=TestCase()\n",
    "    with test.assertRaises(ValueError) as context:\n",
    "        compute_activation(0,'typo_error')\n",
    "    assert 'Unknown activation type' in str(context.exception),\\\n",
    "        \"no or wrong Exception raised when inputing an unknown activation_type\\\n",
    "         while calling compute_activation\""
   ]
  },
  {
   "cell_type": "markdown",
   "metadata": {},
   "source": [
    "## compute_activation_derivative function tests"
   ]
  },
  {
   "cell_type": "code",
   "execution_count": 9,
   "metadata": {
    "ExecuteTime": {
     "end_time": "2021-01-29T14:31:02.438157Z",
     "start_time": "2021-01-29T14:31:02.422389Z"
    }
   },
   "outputs": [],
   "source": [
    "    #---------------------------------------------------------------------------\n",
    "    ## tests for function compute_activation_derivative\n",
    "    #---------------------------------------------------------------------------\n",
    "\n",
    "    assert (compute_activation_derivative(np.array([[0,0], [0, 1], [1, 3]]),\n",
    "                                          'relu') ==\\\n",
    "            np.array([[0,0], [0, 1], [1, 1]]))\\\n",
    "            .all(), \"uncorrect relu function behaviour\"\n",
    "\n",
    "    #---------------------------------------------------------------------------\n",
    "    assert (compute_activation_derivative(np.array([[-1,0], [0, 1], [1, 3]]),\n",
    "                                          'linear') ==\\\n",
    "            np.array([[1,1], [1, 1], [1, 1]]))\\\n",
    "            .all(), \"uncorrect linear function behaviour\"\n",
    "\n",
    "    #---------------------------------------------------------------------------\n",
    "    assert (np.round(compute_activation_derivative\\\n",
    "                     (np.array([[0.26894142, 0.5       ],\n",
    "                                [0.5       , 0.73105858],\n",
    "                                [0.73105858, 0.95257413]]),\n",
    "                      'sigmoid'), decimals= 8) ==\\\n",
    "            np.array([[0.19661193, 0.25      ],\n",
    "                      [0.25      , 0.19661193],\n",
    "                      [0.19661193, 0.04517666]]))\\\n",
    "            .all(), \"uncorrect sigmoid function behaviour\"\n",
    "\n",
    "    #---------------------------------------------------------------------------\n",
    "    assert (np.round(compute_activation_derivative\\\n",
    "                     (np.array([[-0.76159416,  0.        ],\n",
    "                                [ 0.        ,  0.76159416],\n",
    "                                [ 0.76159416,  0.99505475]]),\n",
    "                                        'tanh'), decimals= 8) ==\\\n",
    "            np.array([[0.41997434, 1.        ],\n",
    "                      [1.        , 0.41997434],\n",
    "                      [0.41997434, 0.00986604]]))\\\n",
    "            .all(), \"uncorrect tanh function behaviour\"\n",
    "\n",
    "    #---------------------------------------------------------------------------\n",
    "    assert (np.round(compute_activation_derivative\\\n",
    "                     (np.array([[0.09003057, 0.04201007],\n",
    "                                [0.24472847, 0.1141952 ],\n",
    "                                [0.66524096, 0.84379473]]),\n",
    "                                        'softmax'), decimals= 8) ==\\\n",
    "            np.array([[0.08192507, 0.04024522],\n",
    "                      [0.18483645, 0.10115466],\n",
    "                      [0.22269543, 0.13180518]]))\\\n",
    "            .all(), \"uncorrect softmax function behaviour\"\n",
    "\n",
    "    #---------------------------------------------------------------------------\n",
    "    test=TestCase()\n",
    "    with test.assertRaises(ValueError) as context:\n",
    "        compute_activation_derivative(0,'typo_error')\n",
    "    assert 'Unknown activation type' in str(context.exception),\\\n",
    "        \"no or wrong Exception raised when inputing an unknown activation_type\\\n",
    "         while calling compute_activation_derivative\""
   ]
  },
  {
   "cell_type": "markdown",
   "metadata": {},
   "source": [
    "## add_dense_layer method tests"
   ]
  },
  {
   "cell_type": "code",
   "execution_count": 10,
   "metadata": {
    "ExecuteTime": {
     "end_time": "2021-01-29T14:31:02.834637Z",
     "start_time": "2021-01-29T14:31:02.824186Z"
    }
   },
   "outputs": [],
   "source": [
    "    #---------------------------------------------------------------------------\n",
    "    ## tests for method add_dense_layer\n",
    "    #---------------------------------------------------------------------------\n",
    "\n",
    "    my_nn=handmade_nn()\n",
    "    test=TestCase()\n",
    "    with test.assertRaises(ValueError) as context:\n",
    "        my_nn.add_dense_layer(5,'relu')\n",
    "    assert 'Use set_input_dim before creating first layer'\\\n",
    "           in str(context.exception),\\\n",
    "        \"no or wrong Exception raised when adding first layer\\\n",
    "         to a network without setting input_dim\"\n",
    "\n",
    "    #---------------------------------------------------------------------------\n",
    "    my_nn=handmade_nn(5)\n",
    "    test=TestCase()\n",
    "    with test.assertRaises(ValueError) as context:\n",
    "        my_nn.add_dense_layer(10,'typo_error')\n",
    "    assert 'Unknown activation type' in str(context.exception),\\\n",
    "        \"no or wrong Exception raised when inputing\\\n",
    "         an unknown activation_type while adding layer\""
   ]
  },
  {
   "cell_type": "markdown",
   "metadata": {},
   "source": [
    "## predict method tests without hidden_layers"
   ]
  },
  {
   "cell_type": "code",
   "execution_count": 11,
   "metadata": {
    "ExecuteTime": {
     "end_time": "2021-01-29T14:31:03.267805Z",
     "start_time": "2021-01-29T14:31:03.225105Z"
    }
   },
   "outputs": [],
   "source": [
    "    #---------------------------------------------------------------------------\n",
    "    ## tests for method predict - normal mode (without intermediate states) ####\n",
    "    #---------------------------------------------------------------------------\n",
    "\n",
    "    my_nn=handmade_nn(5)# Empty neural network : just a pass-through for 5-values inputs\n",
    "\n",
    "    assert my_nn.predict([2,3,2,3,4]).shape == (1,5),\\\n",
    "        \"list not supported as an input for predict\"\n",
    "    #---------------------------------------------------------------------------\n",
    "\n",
    "    assert my_nn.predict([[2,3,2,3,4],[-2,-1,1,3,4]]).shape == (2,5),\\\n",
    "        \"list of list not supported as an input for predict\"\n",
    "\n",
    "    #---------------------------------------------------------------------------\n",
    "    test=TestCase()\n",
    "    with test.assertRaises(ValueError) as context:\n",
    "        my_nn.predict(np.array([[[1,1],[1,2],[1,3],[1,4],[1,5]],\n",
    "                                    [[2,1],[2,2],[2,3],[3,4],[3,5]]]))\n",
    "    assert 'X vector dimension too high' in str(context.exception),\\\n",
    "        \"no or wrong Exception raised when inputing a 3D-array in predict method\"\n",
    "\n",
    "    #---------------------------------------------------------------------------\n",
    "    test=TestCase()\n",
    "    with test.assertRaises(ValueError) as context:\n",
    "        my_nn.predict(np.array([[1,1],[1,2],[1,3],[1,4],[1,5]]))\n",
    "    assert 'Unconsistent number of features' in str(context.exception),\\\n",
    "        \"no or wrong Exception raised when inputing a X\\\n",
    "         with unconsistant size vs. network input_dim in predict method\"\n",
    "\n",
    "    #---------------------------------------------------------------------------\n",
    "    my_nn=handmade_nn(5)\n",
    "    my_nn.add_dense_layer(10, 'linear')\n",
    "    my_nn.weights[0] = np.vstack((np.identity(5),np.zeros((5,5))))\n",
    "    assert my_nn.predict(np.array([-2,-1,2,3,4])).shape == (1,10),\\\n",
    "        \"1-D array not supported as an input for predict method\"\n",
    "\n",
    "    #---------------------------------------------------------------------------\n",
    "    my_nn=handmade_nn(5)\n",
    "    my_nn.add_dense_layer(10, 'linear')\n",
    "    my_nn.weights[0] = np.vstack((np.identity(5),np.zeros((5,5))))\n",
    "    assert my_nn.predict(np.array([[-2,-1,2,3,4],\n",
    "                                         [-12,-11,12,13,14]])).shape == (2,10),\\\n",
    "        \"the shape of the prediction for a 2*5 X input\\\n",
    "         by a network having 10neurons on last layer should be 2*10\"\n",
    "    \n",
    "    #--General-test-of-predict-method-with-all-activation-types-----------------\n",
    "    my_nn=handmade_nn(5)\n",
    "\n",
    "    my_nn.add_dense_layer(10, 'relu')\n",
    "    my_nn.weights[-1] = np.concatenate([np.identity(5), np.zeros((5,5))], axis=0)\n",
    "    my_nn.bias[-1] = np.array([0,0,0,0,1,1,1,0,0,0])\n",
    "\n",
    "    my_nn.add_dense_layer(10, 'linear')\n",
    "    my_nn.weights[-1] = np.flip(np.identity(10), 1)\n",
    "    my_nn.bias[-1] = np.array([1,1,1,1,1,1,0,0,0,0])\n",
    "\n",
    "    my_nn.add_dense_layer(10, 'tanh')\n",
    "    my_nn.weights[-1] = np.identity(10)\n",
    "    my_nn.bias[-1] = np.array([0,0,0,0,1,1,1,1,0,0])\n",
    "\n",
    "    my_nn.add_dense_layer(10, 'softmax')\n",
    "    my_nn.weights[-1] = np.flip(np.identity(10), 1)\n",
    "    my_nn.bias[-1] = np.array([0,0,0,0,0,0,1,1,1,1])\n",
    "\n",
    "    my_nn.add_dense_layer(1, 'sigmoid')\n",
    "    my_nn.weights[-1] = np.expand_dims(np.arange(1,11,1), axis=0)\n",
    "    my_nn.bias[-1] = np.array([0.5])\n",
    "\n",
    "\n",
    "    assert np.round(my_nn.predict([-2,-1,2,3,4])[0,0], decimals=8) == 0.99939824,\\\n",
    "        \"the general test of predict method on a network involving\\\n",
    "         all activation types and manually set bias and weights\\\n",
    "         did not return the correct value\" \n"
   ]
  },
  {
   "cell_type": "markdown",
   "metadata": {},
   "source": [
    "## predict method tests with hidden_layers"
   ]
  },
  {
   "cell_type": "code",
   "execution_count": 12,
   "metadata": {
    "ExecuteTime": {
     "end_time": "2021-01-29T14:31:05.182745Z",
     "start_time": "2021-01-29T14:31:05.155265Z"
    }
   },
   "outputs": [],
   "source": [
    "    #---------------------------------------------------------------------------\n",
    "    ## tests for method predict - backprop mode (with intermediate states) #####\n",
    "    #---------------------------------------------------------------------------\n",
    "    \n",
    "    my_nn = handmade_nn(5)# Empty neural network : just a pass-through for 5-values inputs\n",
    "    my_nn.add_dense_layer(3, 'linear', weights_initializer='ones')\n",
    "    \n",
    "    outputs = my_nn.predict([2,3,2,3,4], keep_hidden_layers=True)\n",
    "    n_outputs = len(np.array(outputs))\n",
    "    output_type = type(outputs)\n",
    "    assert output_type == tuple,\\\n",
    "        f\"predict method with keep_hidden_layers must return a tuple. type is {output_type}\"\n",
    "    \n",
    "    #---------------------------------------------------------------------------\n",
    "    assert n_outputs == 2,\\\n",
    "        f\"predict method with keep_hidden_layers must return 2 output. here returns {n_outputs}\"\n",
    "    \n",
    "    #---------------------------------------------------------------------------\n",
    "    layers_outputs, layers_derivatives = outputs\n",
    "    \n",
    "    assert len(layers_outputs) == 2,\\\n",
    "        \"the list of outputs of layers has not correct length using predict with keep_hidden_layers\"\n",
    "    \n",
    "    #---------------------------------------------------------------------------\n",
    "    assert len(layers_derivatives) == 1,\\\n",
    "        \"the list of derivatives of layers has not correct length using predict with keep_hidden_layers\"\n",
    "    \n",
    "    #---------------------------------------------------------------------------\n",
    "    assert (layers_outputs[1] == np.array([[14., 14., 14.]])).all(),\\\n",
    "        \"uncorrect layers_outputs of predict method with keep_hidden_layers\"\n",
    "    \n",
    "    #---------------------------------------------------------------------------\n",
    "    assert (layers_derivatives[0] == np.array([[1., 1., 1.]])).all(),\\\n",
    "        \"uncorrect layers_derivatives of predict method with keep_hidden_layers\"     "
   ]
  },
  {
   "cell_type": "markdown",
   "metadata": {},
   "source": [
    "## compute_metric function tests - normal mode"
   ]
  },
  {
   "cell_type": "code",
   "execution_count": 13,
   "metadata": {
    "ExecuteTime": {
     "end_time": "2021-01-29T14:31:05.627843Z",
     "start_time": "2021-01-29T14:31:05.607055Z"
    }
   },
   "outputs": [],
   "source": [
    "    #---------------------------------------------------------------------------\n",
    "    ### tests for function compute_metric - normal mode (not derivative)########\n",
    "    #---------------------------------------------------------------------------\n",
    "\n",
    "    test=TestCase()\n",
    "    with test.assertRaises(ValueError) as context:\n",
    "        compute_metric(np.array([[[1,1],[1,2]],\n",
    "                                 [[2,1],[2,2]]]),\n",
    "                       np.array([[1,2],\n",
    "                                 [3,4]]),\n",
    "                       'mse')\n",
    "    assert 'y vector dimension too high' in str(context.exception),\\\n",
    "        \"no or wrong Exception raised when inputing a 3D-array as y\\\n",
    "         in compute_metric function\"\n",
    "\n",
    "    #---------------------------------------------------------------------------\n",
    "    test=TestCase()\n",
    "    with test.assertRaises(ValueError) as context:\n",
    "        compute_metric(np.array([[1,2],\n",
    "                                 [3,4]]),\n",
    "                       np.array([[[1,1],[1,2]],\n",
    "                                 [[2,1],[2,2]]]),\n",
    "                       'mse')\n",
    "    assert 'y_pred vector dimension too high' in str(context.exception),\\\n",
    "        \"no or wrong Exception raised when inputing a 3D-array as y_pred\\\n",
    "         in compute_metric function\"\n",
    "\n",
    "    #---------------------------------------------------------------------------\n",
    "    test=TestCase()\n",
    "    with test.assertRaises(ValueError) as context:\n",
    "        compute_metric(np.array([[1,2,3],\n",
    "                                 [4,5,6]]),\n",
    "                       np.array([[1,2],\n",
    "                                 [3,4]]),\n",
    "                       'mse')\n",
    "    assert 'unconsistent vectors dimensions' in str(context.exception),\\\n",
    "        \"no or wrong Exception raised when inputing unconsistent\\\n",
    "         y vs y_pred vectors shapes in compute_metric function\"\n",
    "\n",
    "    #---------------------------------------------------------------------------\n",
    "    assert compute_metric([1,0],[0.5,1],'mse') == 0.625,\\\n",
    "        \"uncorrect mse metric behaviour\"\n",
    "\n",
    "    #---------------------------------------------------------------------------\n",
    "    assert compute_metric([[1,0],[0,0]],[[0.5,1],[1,1]],'mse') == 0.8125,\\\n",
    "        \"uncorrect mse metric behaviour for multi-features regressions\\\n",
    "         (2D y and y_pred vectors)\"\n",
    "\n",
    "    #---------------------------------------------------------------------------\n",
    "    assert compute_metric([1,0],[0.5,1],'mae') == 0.75,\\\n",
    "        \"uncorrect mae metric behaviour\"\n",
    "\n",
    "    #---------------------------------------------------------------------------\n",
    "    assert np.round(compute_metric([[1,0,0],[0,1,0]],[[0.8,0.1,0.1],[0.2,0.6,0.2]],\n",
    "                                   'categorical_crossentropy'),\n",
    "                    decimals=8) == 0.36698459,\\\n",
    "        \"uncorrect categorical_crossentropy metric behaviour\"\n",
    "\n",
    "    #---------------------------------------------------------------------------\n",
    "    assert np.round(compute_metric([1,0],[0.9,0.1],'binary_crossentropy'),\n",
    "                    decimals=8) == 0.10536052,\\\n",
    "        \"uncorrect binary_crossentropy metric behaviour\"\n",
    "\n",
    "    #---------------------------------------------------------------------------\n",
    "    test=TestCase()\n",
    "    with test.assertRaises(ValueError) as context:\n",
    "        compute_metric([[1,0,1],[0,0,0]],\n",
    "                       [[0.5,0.9,0.1],\n",
    "                        [0.9,0.9,0.1]],\n",
    "                       'binary_crossentropy')\n",
    "    assert '1 max for binary_crossentropy' in str(context.exception),\\\n",
    "        \"no or wrong Exception raised when inputing 2D y/y_pred vectors\\\n",
    "         with binary_crossentropy selected in compute_metric function\"\n",
    "\n",
    "    #---------------------------------------------------------------------------\n",
    "    test=TestCase()\n",
    "    with test.assertRaises(ValueError) as context:\n",
    "        compute_metric([0],[0],'typo_error')\n",
    "    assert 'Unknown metric' in str(context.exception),\\\n",
    "        \"no or wrong Exception raised when inputing\\\n",
    "         unknown metric in compute_metric function\""
   ]
  },
  {
   "cell_type": "markdown",
   "metadata": {},
   "source": [
    "## compute_metric function tests - derivative mode"
   ]
  },
  {
   "cell_type": "code",
   "execution_count": 101,
   "metadata": {
    "ExecuteTime": {
     "end_time": "2021-01-20T20:42:49.112671Z",
     "start_time": "2021-01-20T20:42:49.096526Z"
    }
   },
   "outputs": [],
   "source": [
    "    #---------------------------------------------------------------------------\n",
    "    ### tests for function compute_metric - derivative mode ####################\n",
    "    #---------------------------------------------------------------------------\n",
    "\n",
    "    assert len(compute_metric([1,0],[0.5,1],'mse', loss_derivative = True)\\\n",
    "               .shape) == 2,\\\n",
    "        \"uncorrect output : compute_metric must return a 2D array in derivative mode\"\n",
    "\n",
    "    #---------------------------------------------------------------------------    \n",
    "    assert (compute_metric([1,0],[0.5,1],'mse', loss_derivative = True)\\\n",
    "                == np.array([[-0.5],[1]])).all(),\\\n",
    "        \"uncorrect mse metric behaviour in derivative mode\"\n",
    "\n",
    "    #---------------------------------------------------------------------------\n",
    "    assert (compute_metric([[1,0],[0,0]],[[0.5,1],[1,1]],'mse',\n",
    "                       loss_derivative = True)\\\n",
    "                == np.array([[-0.25, 0.5],[0.5, 0.5]])).all(),\\\n",
    "        \"uncorrect mse metric behaviour for multi-features regressions\\\n",
    "         (2D y and y_pred vectors) in derivative mode\"\n",
    "\n",
    "    #---------------------------------------------------------------------------\n",
    "    assert (compute_metric([1,0],[0.5,1],'mae', loss_derivative = True)\\\n",
    "                == np.array([[-0.5],[0.5]])).all(),\\\n",
    "        \"uncorrect mae metric behaviour in derivative mode\"\n",
    "\n",
    "    #---------------------------------------------------------------------------\n",
    "    assert (np.round(compute_metric([[1,0,0],[0,1,0]],[[0.8,0.1,0.1],[0.2,0.6,0.2]],\n",
    "                                   'categorical_crossentropy',\n",
    "                                   loss_derivative = True),\n",
    "                    decimals=8) == np.array([[-0.625, -0.        , -0.],\n",
    "                                             [-0.   , -0.83333333, -0.]])).all(),\\\n",
    "        \"uncorrect categorical_crossentropy metric behaviour in derivative mode\"\n",
    "\n",
    "    #---------------------------------------------------------------------------\n",
    "    assert (np.round(compute_metric([1,0],[0.9,0.1],\n",
    "                                   'binary_crossentropy',\n",
    "                                   loss_derivative = True),\n",
    "                    decimals=8) == np.array([[-0.55555556],\n",
    "                                             [ 0.55555556]])).all(),\\\n",
    "        \"uncorrect binary_crossentropy metric behaviour in derivative mode\""
   ]
  },
  {
   "cell_type": "markdown",
   "metadata": {},
   "source": [
    "## compute_backpropagation method tests"
   ]
  },
  {
   "cell_type": "code",
   "execution_count": 33,
   "metadata": {
    "ExecuteTime": {
     "end_time": "2021-01-21T15:41:55.471596Z",
     "start_time": "2021-01-21T15:41:55.291619Z"
    }
   },
   "outputs": [],
   "source": [
    "    #---------------------------------------------------------------------------\n",
    "    ### tests for backpropagation method (computing the gradient) ##############\n",
    "    #---------------------------------------------------------------------------\n",
    "\n",
    "    my_nn=handmade_nn(input_dim = 2)\n",
    "    my_nn.add_dense_layer(2, 'linear', weights_initializer='ones')\n",
    "    my_nn.add_dense_layer(1, 'linear', weights_initializer='ones')\n",
    "    my_nn.set_loss('mse')\n",
    "    \n",
    "    outputs = my_nn.compute_backpropagation(np.array([[1,2],[2,3],[3,4]]), np.array([4,5,6]))\n",
    "    n_outputs = len(np.array(outputs))\n",
    "    output_type = type(outputs)\n",
    "    assert output_type == tuple,\\\n",
    "        f\"backpropagation method must return a tuple. type is {output_type}\"\n",
    "    \n",
    "    #---------------------------------------------------------------------------\n",
    "    assert n_outputs == 2,\\\n",
    "        f\"backpropagation method must return 2 output. here returns {n_outputs}\"\n",
    "    \n",
    "    gradient_weights, gradient_bias = outputs\n",
    "    \n",
    "    #---------------------------------------------------------------------------\n",
    "    assert len(gradient_weights) == 2,\\\n",
    "        \"using backpropagation: the list of weights has not correct length\"\n",
    "    \n",
    "    #---------------------------------------------------------------------------\n",
    "    assert len(gradient_bias) == 2,\\\n",
    "        \"using backpropagation: the list of bias has not correct length\"\n",
    "    \n",
    "    #---------------------------------------------------------------------------\n",
    "    assert (gradient_weights[0] == np.array([[24., 34.],\n",
    "                                             [24., 34.]])).all(),\\\n",
    "        \"using backpropagation: uncorrect gradient with respect to weights\"\n",
    "    \n",
    "    #---------------------------------------------------------------------------\n",
    "    assert (gradient_bias[0] == np.array([10., 10.])).all(),\\\n",
    "        \"using backpropagation: uncorrect gradient with respect to bias\""
   ]
  },
  {
   "cell_type": "markdown",
   "metadata": {},
   "source": [
    "## fit method tests"
   ]
  },
  {
   "cell_type": "code",
   "execution_count": 9,
   "metadata": {
    "ExecuteTime": {
     "end_time": "2021-01-31T19:19:51.424418Z",
     "start_time": "2021-01-31T19:19:51.089588Z"
    }
   },
   "outputs": [
    {
     "name": "stdout",
     "output_type": "stream",
     "text": [
      "initial loss: 17.675491017786463\n",
      "final loss: 7.099748146989106e-30\n"
     ]
    }
   ],
   "source": [
    "    #---------------------------------------------------------------------------\n",
    "    ### tests for fit method\n",
    "    #---------------------------------------------------------------------------\n",
    "\n",
    "    my_nn=handmade_nn(input_dim = 2)\n",
    "    my_nn.add_dense_layer(1, 'linear',)\n",
    "    X= np.ones((10_000, 2))\n",
    "    y= np.zeros((10_000,1))\n",
    "    my_nn.fit(X,y, loss='mse',optimizer_type='sgd', batch_size=7, n_epochs=2)\n",
    "    \n",
    "    assert my_nn.score(X,y,'mse') < 0.5,\\\n",
    "        \"fit method has not converged with build-in sgd optimizer on a trivial regression\""
   ]
  },
  {
   "cell_type": "code",
   "execution_count": 38,
   "metadata": {
    "ExecuteTime": {
     "end_time": "2021-01-30T21:33:58.743974Z",
     "start_time": "2021-01-30T21:33:58.395367Z"
    }
   },
   "outputs": [
    {
     "data": {
      "image/png": "[encoded data removed]",
      "text/plain": [
       "<Figure size 432x288 with 1 Axes>"
      ]
     },
     "metadata": {
      "needs_background": "light"
     },
     "output_type": "display_data"
    }
   ],
   "source": [
    "my_nn.plot_loss_history()"
   ]
  },
  {
   "cell_type": "markdown",
   "metadata": {},
   "source": [
    "## optimizers tests"
   ]
  },
  {
   "cell_type": "code",
   "execution_count": 12,
   "metadata": {
    "ExecuteTime": {
     "end_time": "2021-01-29T17:49:44.614350Z",
     "start_time": "2021-01-29T17:49:43.998288Z"
    }
   },
   "outputs": [
    {
     "name": "stdout",
     "output_type": "stream",
     "text": [
      "initial loss: 1.235009060819703\n",
      "final loss: 9.321500930834222e-30\n"
     ]
    },
    {
     "data": {
      "text/plain": [
       "[1.235009060819703, 7.841921513571235e-10, 9.321500930834222e-30]"
      ]
     },
     "execution_count": 12,
     "metadata": {},
     "output_type": "execute_result"
    }
   ],
   "source": [
    "    #---------------------------------------------------------------------------\n",
    "    ### tests for optimizers\n",
    "    #---------------------------------------------------------------------------\n",
    "\n",
    "    my_nn=handmade_nn(input_dim = 2)\n",
    "    my_nn.add_dense_layer(1, 'linear',)\n",
    "    X= np.ones((10_000, 2))\n",
    "    y= np.zeros((10_000,1))\n",
    "    my_nn.fit(X,y, loss='mse',optimizer_type='adam', batch_size=7, n_epochs=2)\n",
    "    \n",
    "    assert my_nn.score(X,y,'mse') < 0.5,\\\n",
    "        \"not converged with adam optimizer on a trivial regression\"\n",
    "    \n",
    "    my_nn.loss_history"
   ]
  },
  {
   "cell_type": "markdown",
   "metadata": {},
   "source": [
    "# Trash section : small tests, to be deleted"
   ]
  },
  {
   "cell_type": "code",
   "execution_count": 39,
   "metadata": {
    "ExecuteTime": {
     "end_time": "2021-01-31T16:47:13.093089Z",
     "start_time": "2021-01-31T16:47:12.457564Z"
    }
   },
   "outputs": [],
   "source": [
    "for i in range(1):\n",
    "    !touch file.py"
   ]
  },
  {
   "cell_type": "code",
   "execution_count": 41,
   "metadata": {
    "ExecuteTime": {
     "end_time": "2021-01-31T16:50:41.697295Z",
     "start_time": "2021-01-31T16:50:41.679866Z"
    }
   },
   "outputs": [
    {
     "name": "stdout",
     "output_type": "stream",
     "text": [
      "hello world 2\n"
     ]
    }
   ],
   "source": [
    "a=2\n",
    "mycode = 'print (\"hello world\",a)'\n",
    "exec(mycode)"
   ]
  },
  {
   "cell_type": "code",
   "execution_count": null,
   "metadata": {},
   "outputs": [],
   "source": []
  },
  {
   "cell_type": "markdown",
   "metadata": {},
   "source": [
    "Benchmarking the optimization of the fit code"
   ]
  },
  {
   "cell_type": "code",
   "execution_count": 10,
   "metadata": {
    "ExecuteTime": {
     "end_time": "2021-02-01T14:26:10.880624Z",
     "start_time": "2021-02-01T14:25:43.425739Z"
    }
   },
   "outputs": [
    {
     "name": "stdout",
     "output_type": "stream",
     "text": [
      "initial loss: 0.693759184303861\n",
      "final loss: 0.002498051048979098\n",
      "initial loss: 0.6870495146958491\n",
      "final loss: 0.0012700289280416401\n",
      "initial loss: 0.6813998166626699\n",
      "final loss: 0.001054249886758239\n",
      "initial loss: 0.6633454788289243\n",
      "final loss: 0.0013288610676517\n",
      "initial loss: 0.6887470529040961\n",
      "final loss: 0.0011919493285844805\n",
      "initial loss: 0.7272670766187274\n",
      "final loss: 0.0013993113372537968\n",
      "initial loss: 0.6863515242981754\n",
      "final loss: 0.0006963239815838813\n",
      "initial loss: 0.6781025629662788\n",
      "final loss: 0.005431278789395259\n",
      "initial loss: 0.6903762207278575\n",
      "final loss: 0.01592412910593394\n",
      "initial loss: 0.6922005917658645\n",
      "final loss: 0.015246187878474036\n"
     ]
    }
   ],
   "source": [
    "from sklearn.datasets import make_circles\n",
    "adam_after_1000_classic_fit=[]\n",
    "for i in range(10):\n",
    "    X_circle, y_circle = make_circles(n_samples= 100, noise=0.05, factor=0.5,random_state=1)\n",
    "    X_circle *= 0.8\n",
    "    model = handmade_nn(input_dim=2)\n",
    "    model.add_dense_layer(4,'relu')\n",
    "    model.add_dense_layer(4,'relu')\n",
    "    model.add_dense_layer(1, 'sigmoid')\n",
    "    model.fit(X_circle,y_circle,loss='binary_crossentropy', optimizer_type= 'adam', batch_size=16,n_epochs=1000)\n",
    "    adam_after_1000_classic_fit.append(model.loss_history[-1])"
   ]
  },
  {
   "cell_type": "code",
   "execution_count": 11,
   "metadata": {
    "ExecuteTime": {
     "end_time": "2021-02-01T14:26:39.512757Z",
     "start_time": "2021-02-01T14:26:10.885039Z"
    }
   },
   "outputs": [
    {
     "name": "stdout",
     "output_type": "stream",
     "text": [
      "initial loss: 0.6980376242324604\n",
      "final loss: 0.004403383002847579\n",
      "initial loss: 0.693166320000546\n",
      "final loss: 0.0014675179879310655\n",
      "initial loss: 0.6786645009071909\n",
      "final loss: 0.0022207900991894946\n",
      "initial loss: 0.7414364420311298\n",
      "final loss: 0.6945858288904659\n",
      "initial loss: 0.6977913398813678\n",
      "final loss: 0.6945858274739996\n",
      "initial loss: 0.6969300184942588\n",
      "final loss: 0.017833226017322075\n",
      "initial loss: 0.7134478462040089\n",
      "final loss: 0.014525862240557075\n",
      "initial loss: 0.6703194785422077\n",
      "final loss: 0.0007807349312243983\n",
      "initial loss: 0.7055730552018095\n",
      "final loss: 0.012802260970151236\n",
      "initial loss: 0.6955597022403449\n",
      "final loss: 0.014611117625693655\n"
     ]
    }
   ],
   "source": [
    "from sklearn.datasets import make_circles\n",
    "adam_after_1000_fit_with_precomputed_minibatches=[]\n",
    "for i in range(10):\n",
    "    X_circle, y_circle = make_circles(n_samples= 100, noise=0.05, factor=0.5,random_state=1)\n",
    "    X_circle *= 0.8\n",
    "    model = handmade_nn(input_dim=2)\n",
    "    model.add_dense_layer(4,'relu')\n",
    "    model.add_dense_layer(4,'relu')\n",
    "    model.add_dense_layer(1, 'sigmoid')\n",
    "    model.fit_with_precomputed_minibatches(X_circle,y_circle,loss='binary_crossentropy', optimizer_type= 'adam', batch_size=16,n_epochs=1000)\n",
    "    adam_after_1000_fit_with_precomputed_minibatches.append(model.loss_history[-1])"
   ]
  },
  {
   "cell_type": "code",
   "execution_count": 14,
   "metadata": {
    "ExecuteTime": {
     "end_time": "2021-02-01T15:18:13.304899Z",
     "start_time": "2021-02-01T15:18:13.299990Z"
    }
   },
   "outputs": [],
   "source": [
    "from sklearn.linear_model import ElasticNet"
   ]
  },
  {
   "cell_type": "code",
   "execution_count": null,
   "metadata": {},
   "outputs": [],
   "source": []
  },
  {
   "cell_type": "code",
   "execution_count": 4,
   "metadata": {
    "ExecuteTime": {
     "end_time": "2021-02-05T14:59:00.631970Z",
     "start_time": "2021-02-05T14:59:00.604985Z"
    }
   },
   "outputs": [
    {
     "data": {
      "text/plain": [
       "-1.018"
      ]
     },
     "execution_count": 4,
     "metadata": {},
     "output_type": "execute_result"
    }
   ],
   "source": [
    "(-0.45*5 + 0.674*2-0.116)"
   ]
  },
  {
   "cell_type": "code",
   "execution_count": null,
   "metadata": {},
   "outputs": [],
   "source": []
  }
 ],
 "metadata": {
  "celltoolbar": "Format de la Cellule Texte Brut",
  "kernelspec": {
   "display_name": "Python 3",
   "language": "python",
   "name": "python3"
  },
  "language_info": {
   "codemirror_mode": {
    "name": "ipython",
    "version": 3
   },
   "file_extension": ".py",
   "mimetype": "text/x-python",
   "name": "python",
   "nbconvert_exporter": "python",
   "pygments_lexer": "ipython3",
   "version": "3.7.7"
  },
  "toc": {
   "base_numbering": 1,
   "nav_menu": {},
   "number_sections": true,
   "sideBar": true,
   "skip_h1_title": false,
   "title_cell": "Table of Contents",
   "title_sidebar": "Contents",
   "toc_cell": false,
   "toc_position": {
    "height": "calc(100% - 180px)",
    "left": "10px",
    "top": "150px",
    "width": "165px"
   },
   "toc_section_display": true,
   "toc_window_display": true
  }
 },
 "nbformat": 4,
 "nbformat_minor": 4
}
