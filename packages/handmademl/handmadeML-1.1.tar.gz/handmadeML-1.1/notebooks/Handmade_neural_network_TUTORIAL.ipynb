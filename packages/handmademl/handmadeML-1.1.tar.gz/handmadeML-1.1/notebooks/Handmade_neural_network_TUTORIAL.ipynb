{
 "cells": [
  {
   "cell_type": "markdown",
   "metadata": {
    "ExecuteTime": {
     "end_time": "2021-01-22T20:18:24.453748Z",
     "start_time": "2021-01-22T20:18:24.445777Z"
    }
   },
   "source": [
    "# Intro\n",
    "\n",
    "The goal of this notebook is to introduce and code all the basic elements of a dense neural network, without using existing libraries such as keras or torch.\n",
    "\n",
    "For the need of the narrative, the neural network object will not be defined as a class instance with build-in methods, but as a dictionary containing all the typical attributes needed for definition and training : layers properties, weights matrices, etc.."
   ]
  },
  {
   "cell_type": "markdown",
   "metadata": {},
   "source": [
    "# Imports"
   ]
  },
  {
   "cell_type": "code",
   "execution_count": 1,
   "metadata": {
    "ExecuteTime": {
     "end_time": "2021-01-26T22:47:50.548375Z",
     "start_time": "2021-01-26T22:47:48.104726Z"
    }
   },
   "outputs": [],
   "source": [
    "import numpy as np \n",
    "#we need numpy for matrix manipulation, such as weights matrix, gradient, etc.\n",
    "\n",
    "import seaborn as sns\n",
    "#to display our results"
   ]
  },
  {
   "cell_type": "markdown",
   "metadata": {},
   "source": [
    "That's it ! No need for more libraries, we'll rebuild all by ourselves !"
   ]
  },
  {
   "cell_type": "markdown",
   "metadata": {},
   "source": [
    "# Our data\n",
    "\n",
    "**What task will our neural network perfom ?**\n",
    "\n",
    " - classification on 2D inputs (2 features in our X : x1, x2)\n",
    " - binary classification : our y_true is a list of 0/1\n",
    " - just as in the [Tensorflow Playground](https://playground.tensorflow.org/)\n",
    " - we use the sklearn build-in dataset generator make_circles"
   ]
  },
  {
   "cell_type": "code",
   "execution_count": 2,
   "metadata": {
    "ExecuteTime": {
     "end_time": "2021-01-26T22:47:51.757031Z",
     "start_time": "2021-01-26T22:47:50.559353Z"
    }
   },
   "outputs": [
    {
     "data": {
      "text/plain": [
       "[(-1.0, 1.0), (-1.0, 1.0), Text(0.5, 0, 'x1'), Text(0, 0.5, 'x2')]"
      ]
     },
     "execution_count": 2,
     "metadata": {},
     "output_type": "execute_result"
    },
    {
     "data": {
      "image/png": "[encoded data removed]",
      "text/plain": [
       "<Figure size 432x288 with 1 Axes>"
      ]
     },
     "metadata": {
      "needs_background": "light"
     },
     "output_type": "display_data"
    }
   ],
   "source": [
    "from sklearn.datasets import make_circles\n",
    "X_circle, y_circle = make_circles(n_samples= 100, noise=0.05, factor=0.5, random_state=1)\n",
    "X_circle *= 0.8\n",
    "y_circle = np.expand_dims(y_circle,axis=1)\n",
    "plot = sns.scatterplot(x= X_circle[:,0], y=X_circle[:,1],hue=y_circle[:,0])\n",
    "plot.set(xlim=(-1,1), ylim=(-1,1),xlabel='x1',ylabel='x2')"
   ]
  },
  {
   "cell_type": "markdown",
   "metadata": {},
   "source": [
    "# Creating the neural network"
   ]
  },
  {
   "cell_type": "markdown",
   "metadata": {
    "ExecuteTime": {
     "end_time": "2021-01-22T20:18:36.775343Z",
     "start_time": "2021-01-22T20:18:36.767422Z"
    }
   },
   "source": [
    "## Initialization\n",
    "\n",
    "Let's create the minimal dictionary object containing basic default properties of our empty neural network.\n",
    "\n",
    "Our network has no layers yet, so all layers variables are empty lists"
   ]
  },
  {
   "cell_type": "code",
   "execution_count": 26,
   "metadata": {
    "ExecuteTime": {
     "end_time": "2021-01-26T22:48:21.002904Z",
     "start_time": "2021-01-26T22:48:20.998289Z"
    }
   },
   "outputs": [],
   "source": [
    "my_handmade_nn = {'n_layers' : 0,\n",
    "                  'layers_activation_types' : [],\n",
    "                  'layers_weights' : [],\n",
    "                  'layers_bias' : [],\n",
    "                  'layers_input_dimensions' : [],\n",
    "                 }"
   ]
  },
  {
   "cell_type": "markdown",
   "metadata": {},
   "source": [
    "We need do define the dimension of the input of the model before creating the first layer, because the first weight matrix must be initialized with shape (n_neurons, input_dim)\n",
    "\n",
    "Our data has 2 features : input_dim = 2"
   ]
  },
  {
   "cell_type": "code",
   "execution_count": 27,
   "metadata": {
    "ExecuteTime": {
     "end_time": "2021-01-26T22:48:21.294242Z",
     "start_time": "2021-01-26T22:48:21.289159Z"
    }
   },
   "outputs": [],
   "source": [
    "my_handmade_nn['layers_input_dimensions'].append(2)"
   ]
  },
  {
   "cell_type": "markdown",
   "metadata": {},
   "source": [
    "## Creating the layers\n",
    "\n",
    "When adding a new layer:\n",
    " - we need to know the dimension of the previous layer (or input), because the weight matrix is of shape (n_neurons, input_dim)\n",
    " - we initialize the weights and bias :\n",
    "     - random values between 0 and 1 for the weights (if we initialize with the same value everywhere, the neurons will struggle to 'specialize' during the learning phase)\n",
    "     - zeros for the bias\n"
   ]
  },
  {
   "cell_type": "markdown",
   "metadata": {},
   "source": [
    "<details><summary>To go further : about initialization</summary>\n",
    "The initialization of the weights and bias is of great importance, and is a subject of research by itself !\n",
    "\n",
    " - Initializing all params at zero ('zeros' is one of the initializers available in keras) is very suboptimal, because the neurons can't 'specialize' in different ways : thay are all the same ! It can lead to very slow learning, or the network can even stay stucked with no neurons specilized\n",
    "\n",
    " - Initializing with uniform random values (just like we did) is better for 'shuffling' the neurons, but still not optimal\n",
    "    \n",
    " - Many advanced weights and bias initializers are available in keras API. \n",
    "    For exemple, the default one for weights is 'glorot_uniform', which looks like our random one, but instead of [0,1] boundaries, it uses a variable range, depending of the number of neurons in the layer)\n",
    "</details>"
   ]
  },
  {
   "cell_type": "code",
   "execution_count": 28,
   "metadata": {
    "ExecuteTime": {
     "end_time": "2021-01-26T22:48:21.671679Z",
     "start_time": "2021-01-26T22:48:21.665245Z"
    }
   },
   "outputs": [],
   "source": [
    "def add_dense_layer (handmade_nn,\n",
    "                     n_neurons,\n",
    "                     activation_type):\n",
    "    layer_input_dim = handmade_nn['layers_input_dimensions'][-1]\n",
    "\n",
    "    # initializing the weight matrix of the layer, full of random values between 0 and 1\n",
    "    # adding this matrix to the list\n",
    "    handmade_nn['layers_weights'].append(np.random.uniform(size=(n_neurons, layer_input_dim)))\n",
    "    \n",
    "    # initializing the bias vector of the layer, full of values 0\n",
    "    # adding this matrix to the list\n",
    "    handmade_nn['layers_bias'].append(np.zeros(n_neurons))\n",
    "\n",
    "    # adding the activation_type to the list\n",
    "    handmade_nn['layers_activation_types'].append(activation_type)\n",
    "    \n",
    "    # adding the output dimension of the layer to the list, to be used by the next layer as input_dim\n",
    "    handmade_nn['layers_input_dimensions'].append(n_neurons)\n",
    "    \n",
    "    #updating n_layers\n",
    "    handmade_nn['n_layers'] +=1"
   ]
  },
  {
   "cell_type": "markdown",
   "metadata": {},
   "source": [
    "Lets create 2 layers : one of 4 neurons, one of 3 neurons\n",
    "We will use **tanh** activation\n",
    "\n",
    "**Why ?**\n",
    "By playing in the [Tensorflow Playground](https://playground.tensorflow.org/) you can see that this architecture performs very well on this classification task"
   ]
  },
  {
   "cell_type": "code",
   "execution_count": 29,
   "metadata": {
    "ExecuteTime": {
     "end_time": "2021-01-26T22:48:22.256474Z",
     "start_time": "2021-01-26T22:48:22.244222Z"
    }
   },
   "outputs": [],
   "source": [
    "add_dense_layer(my_handmade_nn, 4, 'tanh')\n",
    "add_dense_layer(my_handmade_nn, 3, 'tanh')"
   ]
  },
  {
   "cell_type": "markdown",
   "metadata": {},
   "source": [
    "Lets have a look at our neural network so far :"
   ]
  },
  {
   "cell_type": "code",
   "execution_count": 30,
   "metadata": {
    "ExecuteTime": {
     "end_time": "2021-01-26T22:48:22.611230Z",
     "start_time": "2021-01-26T22:48:22.596895Z"
    }
   },
   "outputs": [
    {
     "data": {
      "text/plain": [
       "{'n_layers': 2,\n",
       " 'layers_activation_types': ['tanh', 'tanh'],\n",
       " 'layers_weights': [array([[0.64190663, 0.30563283],\n",
       "         [0.68605654, 0.7432351 ],\n",
       "         [0.20559443, 0.9711654 ],\n",
       "         [0.19803374, 0.04662191]]),\n",
       "  array([[0.89067441, 0.07275532, 0.50046191, 0.05253325],\n",
       "         [0.16066372, 0.97306909, 0.47094864, 0.66365102],\n",
       "         [0.20429735, 0.53458126, 0.37474264, 0.29035044]])],\n",
       " 'layers_bias': [array([0., 0., 0., 0.]), array([0., 0., 0.])],\n",
       " 'layers_input_dimensions': [2, 4, 3]}"
      ]
     },
     "execution_count": 30,
     "metadata": {},
     "output_type": "execute_result"
    }
   ],
   "source": [
    "my_handmade_nn"
   ]
  },
  {
   "cell_type": "markdown",
   "metadata": {},
   "source": [
    "- The weights list contains a (4, 2) array and a (3, 4) array\n",
    "- The bias list contains arrays with as many zeros as neurons\n",
    "- The layers_input_dimensions is a little bit longer as it contains the last output dim, but it doesnt matter !"
   ]
  },
  {
   "cell_type": "markdown",
   "metadata": {},
   "source": [
    "## The output \n",
    "\n",
    "Since we are trying to solve a binary classification task, a **single neuron** in the last layer with **sigmoid activation** will do the job, returning for each point a single value between 0 and 1: the probability of the point to be of class 1"
   ]
  },
  {
   "cell_type": "code",
   "execution_count": 31,
   "metadata": {
    "ExecuteTime": {
     "end_time": "2021-01-26T22:48:24.021769Z",
     "start_time": "2021-01-26T22:48:24.010136Z"
    }
   },
   "outputs": [
    {
     "data": {
      "text/plain": [
       "{'n_layers': 3,\n",
       " 'layers_activation_types': ['tanh', 'tanh', 'sigmoid'],\n",
       " 'layers_weights': [array([[0.64190663, 0.30563283],\n",
       "         [0.68605654, 0.7432351 ],\n",
       "         [0.20559443, 0.9711654 ],\n",
       "         [0.19803374, 0.04662191]]),\n",
       "  array([[0.89067441, 0.07275532, 0.50046191, 0.05253325],\n",
       "         [0.16066372, 0.97306909, 0.47094864, 0.66365102],\n",
       "         [0.20429735, 0.53458126, 0.37474264, 0.29035044]]),\n",
       "  array([[0.9347719 , 0.12748585, 0.77485454]])],\n",
       " 'layers_bias': [array([0., 0., 0., 0.]), array([0., 0., 0.]), array([0.])],\n",
       " 'layers_input_dimensions': [2, 4, 3, 1]}"
      ]
     },
     "execution_count": 31,
     "metadata": {},
     "output_type": "execute_result"
    }
   ],
   "source": [
    "add_dense_layer(my_handmade_nn, 1, 'sigmoid')\n",
    "my_handmade_nn"
   ]
  },
  {
   "cell_type": "markdown",
   "metadata": {},
   "source": [
    "That's it !\n",
    "We have created the complete structure of the neural network"
   ]
  },
  {
   "cell_type": "markdown",
   "metadata": {},
   "source": [
    "# Predicting and scoring\n",
    "\n",
    "We will now implement the functions \n",
    "- transforming the input (X, in 2 dimensions) to the output (the probabilities) through the network from first to last layer\n",
    "- evaluating the output : the loss function to compare the output probabilities with the actual 0/1 labels"
   ]
  },
  {
   "cell_type": "markdown",
   "metadata": {},
   "source": [
    "## Predict\n",
    "\n",
    "What does this function do ?\n",
    "- takes the 2D-input point\n",
    "- multiply by the first weight matrix to obtain a 4 values-long vector : one value per neuron on the first neuron\n",
    "- add the bias vector of the layer : we obtain a 4-values-long vector, being the inputs of the activation function of the first layer\n",
    "- compute the activation for each neuron : this 4-values-long vector is the input of the next layer\n",
    "\n",
    "- and so on for each layer\n",
    "\n",
    "\n",
    "Since we want to run this prediction on many samples at a time, all steps will be done on np arrays:\n",
    "- the input will be an array of shape (n_samples, 2)\n",
    "- the output of the first layer will be an array of shape (4, n_samples)\n",
    "- etc..\n",
    "- the output will have n_samples values of probabilities"
   ]
  },
  {
   "cell_type": "code",
   "execution_count": 9,
   "metadata": {
    "ExecuteTime": {
     "end_time": "2021-01-26T22:47:51.948090Z",
     "start_time": "2021-01-26T22:47:51.940998Z"
    }
   },
   "outputs": [],
   "source": [
    "def predict (handmade_nn, X):\n",
    "    #transpose the input so it is of shape (input_dim n_samples) and ready to be multiplied by the first matrix \n",
    "    X = X.T\n",
    "    for layer_index in range(handmade_nn['n_layers']):\n",
    "        \n",
    "        activation_type = handmade_nn['layers_activation_types'][layer_index]\n",
    "        weights = handmade_nn['layers_weights'][layer_index]\n",
    "        bias    = handmade_nn['layers_bias'][layer_index]\n",
    "        \n",
    "        #multiply input by the weight matrix, returning a (n_neurons, n_sample) array\n",
    "        layer_input_dot_weights = np.dot(weights, X)\n",
    "        \n",
    "        #adding the bias to get the activation input\n",
    "        activation_input = layer_input_dot_weights + np.expand_dims(bias, axis=1)\n",
    "        \n",
    "        # compute the activation, depending of the type\n",
    "        if activation_type == 'tanh':\n",
    "            X = np.tanh(activation_input)\n",
    "        elif activation_type == 'sigmoid':\n",
    "            X = 1/(1+np.exp(-activation_input))\n",
    "\n",
    "    return X.T"
   ]
  },
  {
   "cell_type": "markdown",
   "metadata": {},
   "source": [
    "Let's try it on our circle points !"
   ]
  },
  {
   "cell_type": "code",
   "execution_count": 10,
   "metadata": {
    "ExecuteTime": {
     "end_time": "2021-01-26T22:47:51.967330Z",
     "start_time": "2021-01-26T22:47:51.954194Z"
    }
   },
   "outputs": [
    {
     "name": "stdout",
     "output_type": "stream",
     "text": [
      "predivt output array shape :  (100, 1)\n"
     ]
    },
    {
     "data": {
      "text/plain": [
       "array([[0.26749986],\n",
       "       [0.27170871],\n",
       "       [0.19037595],\n",
       "       [0.25626202],\n",
       "       [0.53501292],\n",
       "       [0.62364349],\n",
       "       [0.20529023],\n",
       "       [0.26083595],\n",
       "       [0.51063736],\n",
       "       [0.63446589]])"
      ]
     },
     "execution_count": 10,
     "metadata": {},
     "output_type": "execute_result"
    }
   ],
   "source": [
    "y_pred = predict(my_handmade_nn, X_circle)\n",
    "print('predivt output array shape : ',y_pred.shape)\n",
    "y_pred[:10] # display the 10 first lines"
   ]
  },
  {
   "cell_type": "markdown",
   "metadata": {},
   "source": [
    "Since the neural network is initialized with random weights, those are just random probabilities !"
   ]
  },
  {
   "cell_type": "markdown",
   "metadata": {},
   "source": [
    "## Computing the loss\n",
    "\n",
    "We need to compare our prediction with the actual y_true in order to train our model\n",
    "\n",
    "In the case of a binary classification, the appropriate function is a binary_crossentropy, which is just a nice way of evaluating : **how far from 0 are probabilities predicted for the points supposed to be in the 0 class, and how far from 1 are the probabilities predicted for those supposed to be in the 1 class**.\n",
    "\n",
    "Most importantly : this binary_crossentropy is **continuous and derivable** so we will be able to compute the **derivative** of this function, and so its **gradient** with respect to all the parameters of our model.\n",
    "But for now, let's just define this function :\n",
    "- taking 2 inputs:\n",
    "    - a list (or np 1D array) of probabilities y_pred\n",
    "    - a list of 0/1 actual classes y_true\n",
    "- returning a single scalar value of the loss, the smaller the better\n",
    "\n",
    "- its formula is : $$binary\\_crossentropy = -\\frac{1}{N} \\sum \\limits_{i=1}^{N} \\Bigg[y_{true}log(y_{pred}) + (1 - y_{true})log(1 - y_{pred})\\Bigg]$$"
   ]
  },
  {
   "cell_type": "code",
   "execution_count": 11,
   "metadata": {
    "ExecuteTime": {
     "end_time": "2021-01-26T22:47:51.976911Z",
     "start_time": "2021-01-26T22:47:51.971570Z"
    }
   },
   "outputs": [],
   "source": [
    "def compute_binary_crossentropy(y_true, y_pred):\n",
    "    return -(y_true*np.log(y_pred)+(1-y_true)*np.log(1-y_pred)).mean() \n",
    "    #the formula of the crossentropy, with the first part 'y*np.log(y_pred)' standing for the class 1 points, \n",
    "    #                              and the second part '(1-y)*np.log(1-y_pred))' for those of class 0"
   ]
  },
  {
   "cell_type": "markdown",
   "metadata": {},
   "source": [
    "Let's try it with our dummy prediction of the virgin neural network (not trained):"
   ]
  },
  {
   "cell_type": "code",
   "execution_count": 12,
   "metadata": {
    "ExecuteTime": {
     "end_time": "2021-01-26T22:47:51.990986Z",
     "start_time": "2021-01-26T22:47:51.981570Z"
    }
   },
   "outputs": [
    {
     "data": {
      "text/plain": [
       "0.8089284270893713"
      ]
     },
     "execution_count": 12,
     "metadata": {},
     "output_type": "execute_result"
    }
   ],
   "source": [
    "compute_binary_crossentropy(y_circle, y_pred)"
   ]
  },
  {
   "cell_type": "markdown",
   "metadata": {},
   "source": [
    "# The backpropagation"
   ]
  },
  {
   "cell_type": "markdown",
   "metadata": {},
   "source": [
    "## How it works\n",
    "\n",
    "The backpropagation is the method to compute the partial **derivative of our loss** with respect to all the parameters of our network : **weights and bias**.\n",
    "\n",
    "For those not familiar with partial derivatives, this just means : **knowing the actual state of my neural network (the weights and bias values so far, AND the intermediate output values of each layer if we feed the network with some input X), WHAT IS THE INFLUENCE OF A TINY CHANGE OF EACH OF MY PARAMETERS (a weight or a bia)**\n",
    "\n",
    "The trick of the backpropagation is to begin with the last layer:\n",
    "- Given a batch of input data, we compute a prediction with the neural network, and we **keep track of the intermediate outputs of all layers** (we'll explain further why)\n",
    "- First we compute the derivative of the loss itself, with respect to its direct input, i.e. the output of the last layer : $$\\frac{\\partial loss}{\\partial last\\_layer\\_output} = \\   \\frac{\\partial loss}{\\partial y_{pred}}$$\n",
    "&nbsp;\n",
    "\n",
    "- Then we compute for each neuron of the last layer (in our case, just one) the derivative of the output with respect to the input of the activation function : $$\\frac{\\partial last\\_layer\\_output}{\\partial last\\_layer\\_activation\\_input} = \\ \\frac{d\\  activation(x)}{dx}$$\n",
    "&nbsp;\n",
    "\n",
    "    - Note that this is just the derivative of the activation function. For exemple, if the layer is of type 'linear', this derivative is just 1!\n",
    "    - For other activation types, we need to know the value inputing the function in order to evaluate its derivative. BUT by a happy coincidence, all the common activation functions (relu, tanh, sigmoid, softmax) have a derivative that can be expressed in term of the output. That is f'(x) = some_function(f(x)). This is lucky, because we know the output y_pred, while computing the input would require to use the ouput of the previous layer, multiply it by the weights matrix again, add the bias.\n",
    "    - as a takeaway you can try to calculate these expressions for each activation type, but for the two we are using now, they are:\n",
    "&nbsp;\n",
    "\n",
    "$$\\frac{d \\ sigmoid}{dx} (x) = \\  sigmoid(x) - \\sqrt{sigmoid(x)}$$\n",
    "&nbsp;\n",
    "$$\\frac{d \\ tanh}{dx} (x) = \\  - \\sqrt{tanh(x)}$$\n",
    "&nbsp;\n",
    "- Remember our first goal is to compute the derivative of the loss with respect to the parameters of the last layer. \n",
    "    - So we can use this nice formula : \n",
    "    $$\\frac{\\partial loss}{\\partial any\\_param\\_of\\_last\\_layer} = \\frac{\\partial loss}{\\partial last\\_layer_{output}} * \\frac{\\partial last\\_layer_{output}}{\\partial last\\_layer_{activation\\_input}} * \\frac{\\partial last\\_layer_{activation\\_input}}{\\partial any\\_param\\_of\\_last\\_layer} $$\n",
    "&nbsp;\n",
    "\n",
    "    - Remember that the input of the activation function is **weights_matrix * previous_layer_output  + bias_vector**. \n",
    "    So $$\\frac{\\partial activation\\_input}{\\partial weights} = previous\\_layer_{output}$$ \n",
    "    That's why we kept track of all intermediate outputs of the layers !\n",
    "    - On the bias side, it is much simpler : $$\\frac{\\partial activation\\_input}{\\partial bias} = 1$$\n",
    "    - We now have everything in hand to compute the derivative with respect to the last layer parameters, and we can re-formulate the big formula above.\n",
    "    \n",
    "For the weights:\n",
    "    $$\\frac{\\partial loss}{\\partial weights_{last\\_layer}} = \\frac{\\partial loss}{\\partial y_{pred}} * \\frac{d\\  activation}{dx}(activation\\_input) * previous\\_layer_{output}$$\n",
    "&nbsp;\n",
    "\n",
    "And for the bias:\n",
    "    $$\\frac{\\partial loss}{\\partial bias_{last\\_layer}} = \\frac{\\partial loss}{\\partial y_{pred}} * \\frac{d\\  activation}{dx}(activation\\_input)$$\n",
    "    \n",
    "- Last move before moving backward : if we want to use the same approach for the penultimate layer, we will need $$\\frac{\\partial loss}{\\partial penultimate\\_layer_{output}}$$ (just like we used d loss / d last_layer_output before)\n",
    "\n",
    "$$\\frac{\\partial loss}{\\partial penultimate\\_layer_{output}} = \\frac{\\partial loss}{\\partial y_{pred}} * \\frac{d\\  activation}{dx}(activation\\_input) * \\frac{\\partial activation\\_input}{\\partial penultimate\\_layer_{output}}$$\n",
    "\n",
    "\n",
    " But we know that \n",
    "$$\\frac{\\partial activation\\_input}{\\partial penultimate\\_layer_{output}} = weights\\_matrix$$\n",
    "\n",
    " So :\n",
    "$$\\frac{\\partial loss}{\\partial penultimate\\_layer_{output}} = \\frac{\\partial loss}{\\partial y_{pred}} * \\frac{d\\  activation}{dx}(activation\\_input) * weights\\_matrix$$\n",
    "\n",
    "    \n",
    "- We are now ready to use the same process on the previous layer, and so on..\n",
    "\n",
    "Now let's see how it looks in python !"
   ]
  },
  {
   "cell_type": "markdown",
   "metadata": {},
   "source": [
    "## Loss derivative\n",
    "\n",
    "The first function we need is the derivative of the loss :\n",
    "- takes the same inputs as the loss : y_true, y_pred\n",
    "- same output format\n",
    "- the binary_crossentropy function is not difficult to derive, the formula is below"
   ]
  },
  {
   "cell_type": "code",
   "execution_count": 13,
   "metadata": {
    "ExecuteTime": {
     "end_time": "2021-01-26T22:47:52.002954Z",
     "start_time": "2021-01-26T22:47:51.996410Z"
    }
   },
   "outputs": [],
   "source": [
    "def compute_binary_crossentropy_derivative(y_true, y_pred):\n",
    "    return -1 / y_true.size * (y_true / y_pred - (1-y_true) / (1-y_pred))"
   ]
  },
  {
   "cell_type": "markdown",
   "metadata": {},
   "source": [
    "Let's try it on our model (not trained yet) and analyse the format of the output"
   ]
  },
  {
   "cell_type": "code",
   "execution_count": 14,
   "metadata": {
    "ExecuteTime": {
     "end_time": "2021-01-26T22:47:52.017704Z",
     "start_time": "2021-01-26T22:47:52.009323Z"
    }
   },
   "outputs": [
    {
     "name": "stdout",
     "output_type": "stream",
     "text": [
      "shape of loss derivatives array :  (100, 1)\n"
     ]
    }
   ],
   "source": [
    "loss_derivative = compute_binary_crossentropy_derivative(y_circle, y_pred)\n",
    "print('shape of loss derivatives array : ', loss_derivative.shape)"
   ]
  },
  {
   "cell_type": "markdown",
   "metadata": {},
   "source": [
    "## Predict and keep all intermediate values\n",
    "\n",
    "As explained above, we need to keep track of all intermediate layers outputs during the *predict* process, for further use by the backpropagation algorythm.\n",
    "\n",
    "We just recode the previous predict method, with a new layers_output variable, aggregating the values, and returned at the end.\n",
    "\n",
    "Note that we also include the X_input itself at the beginning of the list. This will be convenient for fit function, for a drier code"
   ]
  },
  {
   "cell_type": "code",
   "execution_count": 15,
   "metadata": {
    "ExecuteTime": {
     "end_time": "2021-01-26T22:47:52.033197Z",
     "start_time": "2021-01-26T22:47:52.023153Z"
    }
   },
   "outputs": [],
   "source": [
    "def predict_with_intermediate_values (handmade_nn, X):\n",
    "    #initialize a list for the outputs:\n",
    "    layers_outputs = [X]\n",
    "    \n",
    "    #transpose the input so it is of shape (input_dim n_samples) and ready to be multiplied by the first matrix \n",
    "    X = X.T\n",
    "    \n",
    "    for layer_index in range(handmade_nn['n_layers']):\n",
    "        \n",
    "        activation_type = handmade_nn['layers_activation_types'][layer_index]\n",
    "        weights = handmade_nn['layers_weights'][layer_index]\n",
    "        bias    = handmade_nn['layers_bias'][layer_index]\n",
    "        \n",
    "        #multiply input by the weight matrix, returning a (n_neurons, n_sample) array\n",
    "        layer_input_dot_weights = np.dot(weights, X)\n",
    "        \n",
    "        #adding the bias to get the activation input\n",
    "        activation_input = layer_input_dot_weights + np.expand_dims(bias, axis=1)\n",
    "        \n",
    "        # compute the activation, depending of the type\n",
    "        if activation_type == 'tanh':\n",
    "            X = np.tanh(activation_input)\n",
    "        elif activation_type == 'sigmoid':\n",
    "            X = 1/(1+np.exp(-activation_input))\n",
    "        \n",
    "        #adding the intermediate output to the list:\n",
    "        layers_outputs.append(X.T)\n",
    "\n",
    "    return layers_outputs"
   ]
  },
  {
   "cell_type": "markdown",
   "metadata": {},
   "source": [
    "Let's try it on our model (not trained yet) and analyse the format of the output"
   ]
  },
  {
   "cell_type": "code",
   "execution_count": 16,
   "metadata": {
    "ExecuteTime": {
     "end_time": "2021-01-26T22:47:52.055682Z",
     "start_time": "2021-01-26T22:47:52.040819Z"
    }
   },
   "outputs": [
    {
     "name": "stdout",
     "output_type": "stream",
     "text": [
      "intermediate values list length : 4\n",
      "shape of element n°1: (100, 2)\n",
      "shape of element n°2: (100, 4)\n",
      "shape of element n°3: (100, 3)\n",
      "shape of element n°4: (100, 1)\n"
     ]
    }
   ],
   "source": [
    "intermediate_values = predict_with_intermediate_values(my_handmade_nn, X_circle)\n",
    "print(\"intermediate values list length :\", len(intermediate_values))\n",
    "for i in range(len(intermediate_values)):\n",
    "    print(f\"shape of element n°{i+1}:\", intermediate_values[i].shape)"
   ]
  },
  {
   "cell_type": "markdown",
   "metadata": {},
   "source": [
    "## Activation derivative\n",
    "\n",
    "We need to compute the derivative of the activations function, for the backpropagation algorythm. \n",
    "\n",
    "As mentioned above, these derivatives are expressed in term of the output of the activation, rather that of the input, because this allows us to keep track only of the outputs of the layers.\n",
    "\n",
    "The following function computes the derivatives for all the layers, using the intermediate values computed by the previous function predict_with_intermediate_values"
   ]
  },
  {
   "cell_type": "code",
   "execution_count": 17,
   "metadata": {
    "ExecuteTime": {
     "end_time": "2021-01-26T22:47:52.079375Z",
     "start_time": "2021-01-26T22:47:52.065299Z"
    }
   },
   "outputs": [],
   "source": [
    "def compute_activation_derivatives (handmade_nn, layer_outputs):\n",
    "    \n",
    "    activation_derivatives=[]\n",
    "    \n",
    "    for layer_index in range(handmade_nn['n_layers']):\n",
    "        \n",
    "        activation_type = handmade_nn['layers_activation_types'][layer_index]\n",
    "        layer_output= layer_outputs[layer_index+1]\n",
    "        \n",
    "        if activation_type == 'sigmoid':\n",
    "            activation_derivatives.append(layer_output - np.square(layer_output))\n",
    "        if activation_type == 'tanh':\n",
    "            activation_derivatives.append(1 - np.square(layer_output))\n",
    "            \n",
    "    return activation_derivatives"
   ]
  },
  {
   "cell_type": "markdown",
   "metadata": {},
   "source": [
    "Lets test it and analyse the format of output"
   ]
  },
  {
   "cell_type": "code",
   "execution_count": 18,
   "metadata": {
    "ExecuteTime": {
     "end_time": "2021-01-26T22:47:52.099472Z",
     "start_time": "2021-01-26T22:47:52.088406Z"
    }
   },
   "outputs": [
    {
     "name": "stdout",
     "output_type": "stream",
     "text": [
      "activation_derivatives list length : 3\n",
      "shape of element n°1: (100, 4)\n",
      "shape of element n°2: (100, 3)\n",
      "shape of element n°3: (100, 1)\n"
     ]
    }
   ],
   "source": [
    "activation_derivatives = compute_activation_derivatives(my_handmade_nn, intermediate_values)\n",
    "print(\"activation_derivatives list length :\", len(activation_derivatives))\n",
    "for i in range(len(activation_derivatives)):\n",
    "    print(f\"shape of element n°{i+1}:\", activation_derivatives[i].shape)"
   ]
  },
  {
   "cell_type": "markdown",
   "metadata": {},
   "source": [
    "## Backpropagation\n",
    "\n",
    "Here it is ! \n",
    "\n",
    "The backpropagation algorythm returns the gradient with respect to weights and bias"
   ]
  },
  {
   "cell_type": "code",
   "execution_count": 19,
   "metadata": {
    "ExecuteTime": {
     "end_time": "2021-01-26T22:47:52.120179Z",
     "start_time": "2021-01-26T22:47:52.108078Z"
    }
   },
   "outputs": [],
   "source": [
    "def compute_backpropagation (handmade_nn, X, y_true):\n",
    "        \n",
    "        # we initialize the gradient (with respect to weights and bias) with empty lists\n",
    "        gradient_weights=[]\n",
    "        gradient_bias=[]\n",
    "        \n",
    "        # compute the outputs and the derivatives of each layer\n",
    "        layers_outputs = predict_with_intermediate_values (handmade_nn, X)\n",
    "        layers_activation_derivatives = compute_activation_derivatives (handmade_nn, layers_outputs)\n",
    "\n",
    "        # compute d_loss/d_ypred and call it dloss_doutput, to be used by the last layer\n",
    "        dloss_doutput = compute_binary_crossentropy_derivative(y_true, layers_outputs[-1])\n",
    "        \n",
    "        # now for each layer, from last to first, we process the 3 steps of backprop\n",
    "        for layer_index in range(handmade_nn['n_layers']-1, -1, -1):\n",
    "            \n",
    "            # compute d_loss/d_activation_input of the layer\n",
    "            dloss_d_activation_input = dloss_doutput * layers_activation_derivatives[layer_index]\n",
    "            \n",
    "            # compute gradient with respect to weights and bias\n",
    "            gradient_weights.append(np.dot(dloss_d_activation_input.T, layers_outputs[layer_index]))\n",
    "            gradient_bias.append(np.sum(dloss_d_activation_input, axis=0))\n",
    "            \n",
    "            # update dloss_doutput for next propagation\n",
    "            if layer_index > 0:\n",
    "                dloss_doutput = np.dot (dloss_d_activation_input,\n",
    "                                        handmade_nn['layers_weights'][layer_index])\n",
    "        \n",
    "        gradient_weights.reverse()\n",
    "        gradient_bias.reverse()\n",
    "                \n",
    "        return {'gradient_weights':gradient_weights, 'gradient_bias':gradient_bias}"
   ]
  },
  {
   "cell_type": "markdown",
   "metadata": {},
   "source": [
    "Lets test it and analyse the format of output.\n",
    "We compute the gradient for a mini batch of the 10 first lines of our X_circles"
   ]
  },
  {
   "cell_type": "code",
   "execution_count": 20,
   "metadata": {
    "ExecuteTime": {
     "end_time": "2021-01-26T22:47:52.143289Z",
     "start_time": "2021-01-26T22:47:52.129423Z"
    },
    "scrolled": true
   },
   "outputs": [
    {
     "data": {
      "text/plain": [
       "{'gradient_weights': [array([[0.01373118, 0.04629661],\n",
       "         [0.01458075, 0.0405026 ],\n",
       "         [0.03076567, 0.07078371],\n",
       "         [0.02233218, 0.06302474]]),\n",
       "  array([[0.00376784, 0.003066  , 0.00550655, 0.00248211],\n",
       "         [0.04328224, 0.03387735, 0.05772372, 0.03236839],\n",
       "         [0.03235399, 0.02572369, 0.0446554 , 0.02313645]]),\n",
       "  array([[0.17744927, 0.13663481, 0.16808726]])],\n",
       " 'gradient_bias': [array([-0.17469395, -0.1566253 , -0.30318011, -0.24488924]),\n",
       "  array([-0.01953032, -0.20369175, -0.16258986]),\n",
       "  array([-0.32442676])]}"
      ]
     },
     "execution_count": 20,
     "metadata": {},
     "output_type": "execute_result"
    }
   ],
   "source": [
    "X_batch = X_circle [:10]\n",
    "y_batch = y_circle [:10]\n",
    "gradient = compute_backpropagation (my_handmade_nn, X_batch, y_batch)\n",
    "gradient"
   ]
  },
  {
   "cell_type": "markdown",
   "metadata": {},
   "source": [
    "Lets check that the gradient has the same shape as the weights and bias arrays stored in our model."
   ]
  },
  {
   "cell_type": "code",
   "execution_count": 21,
   "metadata": {
    "ExecuteTime": {
     "end_time": "2021-01-26T22:47:52.173447Z",
     "start_time": "2021-01-26T22:47:52.150970Z"
    },
    "scrolled": true
   },
   "outputs": [
    {
     "data": {
      "text/plain": [
       "{'n_layers': 3,\n",
       " 'layers_activation_types': ['tanh', 'tanh', 'sigmoid'],\n",
       " 'layers_weights': [array([[0.70979716, 0.55553235],\n",
       "         [0.42754253, 0.47768433],\n",
       "         [0.37513172, 0.98730432],\n",
       "         [0.90390163, 0.26470997]]),\n",
       "  array([[0.91756823, 0.11555393, 0.9500002 , 0.95538591],\n",
       "         [0.21489903, 0.40749039, 0.76342907, 0.74152883],\n",
       "         [0.77188926, 0.46925352, 0.87888852, 0.57130424]]),\n",
       "  array([[0.09812495, 0.79802885, 0.73040577]])],\n",
       " 'layers_bias': [array([0., 0., 0., 0.]), array([0., 0., 0.]), array([0.])],\n",
       " 'layers_input_dimensions': [2, 4, 3, 1]}"
      ]
     },
     "execution_count": 21,
     "metadata": {},
     "output_type": "execute_result"
    }
   ],
   "source": [
    "my_handmade_nn"
   ]
  },
  {
   "cell_type": "markdown",
   "metadata": {},
   "source": [
    "# Training\n",
    "\n",
    "We have now all the functions we need to fit our model.\n",
    "We will as optimizer a simple Gradient Descent by mini batch. This means:\n",
    "- no momentum\n",
    "- no regularization\n",
    "- no adam, rmsprop, or other fancy algorythms\n",
    "\n",
    "The pseudo-code is the following:\n",
    "- for each epoch (n_epochs is an input):\n",
    " - for each mini-batch in the full set:\n",
    "   - compute the gradient by back-propagation\n",
    "   - update the weights, i.e. substract a share of the gradient (defined by the learning_rate coef)"
   ]
  },
  {
   "cell_type": "markdown",
   "metadata": {},
   "source": [
    "<details><summary>To go further : about optimizers</summary>\n",
    "The way we update the weights an bias can be much more complicated than just substracting a fixed share (learning_rate) of the gradient. For example, the learning rate can be 'dynamic' and decrease when the model approaches the optimum.\n",
    "    \n",
    "Each solution is called an optimizer, and finding new ones is actually an active field of research !\n",
    "\n",
    "Here is an other example, just to get insight about how complicated it can be.\n",
    "For neural networks, a popular one is adam, which pseudo-code looks like :\n",
    " - optimizer parameters :\n",
    "     - alpha_init : initial value of learning rate\n",
    "     - beta_1 : typically 0.9 : coef for update with 1st momentum\n",
    "     - beta_2 : typically 0.999 : coef for update with 2nd momentum\n",
    "     - epsilon : typically 10e-8 : kind of threshold used during params update\n",
    "    \n",
    " - during initialization :\n",
    "     - initialize a step counter : t=0\n",
    "     - initialize alpha with the initial value : alpha_init\n",
    "     - create 2 sets of empty matrices (filled with zeros), with same sizes as the weight and bias matrices : m_weights, m_bias_m, v_weights_v, v_bias\n",
    "\n",
    " - at each step :\n",
    "     - increment the counter : $t=t+1$\n",
    "     - decrease the alpha : $\\alpha=\\alpha_{init} \\sqrt{\\frac{1-\\beta_2\\cdot t}{1-\\beta_1 \\cdot t}}$\n",
    "     - update each of the \"m\" matrices (w_weights and m_bias for each layer) with the a 'dose' of gradient (tuned by beta_1 coef) : $m=\\beta_1 m + (1-\\beta_1) \\nabla$\n",
    "     - update each of the \"v\" matrices with a 'dose' of squared gradient (tuned by beta_2 coef) : $v=\\beta_2 v + (1-\\beta_2) \\nabla^2$\n",
    "     - compute the update quantity for each weight and bias matrix, depending of the corresponding \"m\" and \"v\" matrix : $update = - \\frac{\\alpha \\cdot m}{\\sqrt{v} + \\epsilon}$\n",
    "        \n",
    "     - substract this quantity from each weights and bias matrix\n",
    "</details>"
   ]
  },
  {
   "cell_type": "code",
   "execution_count": 32,
   "metadata": {
    "ExecuteTime": {
     "end_time": "2021-01-26T22:48:30.818805Z",
     "start_time": "2021-01-26T22:48:30.810321Z"
    }
   },
   "outputs": [],
   "source": [
    "def fit(handmade_nn, X, y, loss='binary_crossentropy', \n",
    "        learning_rate=0.01, batch_size=10, n_epochs=100):\n",
    "    \n",
    "    #looping on the epochs\n",
    "    for epoch_index in range(n_epochs):\n",
    "        \n",
    "        #looping on the mini-batches\n",
    "        index=0\n",
    "        while index < X.shape[0]:\n",
    "            \n",
    "            #computing the gradient\n",
    "            gradient = compute_backpropagation (handmade_nn,\n",
    "                                                X[index: index+batch_size],\n",
    "                                                y[index: index+batch_size])\n",
    "            \n",
    "            #looping on the layers\n",
    "            for layer in range(handmade_nn['n_layers']):\n",
    "                \n",
    "                #updating weights and bias\n",
    "                handmade_nn['layers_weights'][layer] -= learning_rate * gradient['gradient_weights'][layer]\n",
    "                \n",
    "                handmade_nn['layers_bias'][layer] -= learning_rate * gradient['gradient_bias'][layer]\n",
    "            \n",
    "            #update the index where the next mini-batch begins\n",
    "            index += batch_size\n",
    "            "
   ]
  },
  {
   "cell_type": "markdown",
   "metadata": {},
   "source": [
    "# Testing our neural network\n",
    "\n",
    "Remember our goal : train a simple neural network to perform binary classification of points on a 2D plane, in order to separate the inner circle from the outer.\n",
    "\n",
    "Lets:\n",
    "- train our model during 1000 epochs\n",
    "- evaluate the result (compute the loss)\n",
    "- train again 1000 epochs\n",
    "- score again"
   ]
  },
  {
   "cell_type": "code",
   "execution_count": 33,
   "metadata": {
    "ExecuteTime": {
     "end_time": "2021-01-26T22:48:37.234443Z",
     "start_time": "2021-01-26T22:48:30.824636Z"
    }
   },
   "outputs": [
    {
     "name": "stdout",
     "output_type": "stream",
     "text": [
      "initial loss :  0.7581107903286289\n",
      "loss after 1000 epochs :  0.40284515245133806\n",
      "final loss (2000 epochs) :  0.027950514971411305\n"
     ]
    }
   ],
   "source": [
    "#score the model before the fit : display initial loss\n",
    "y_pred_initial = predict (my_handmade_nn, X_circle)\n",
    "print('initial loss : ', compute_binary_crossentropy(y_circle, y_pred_initial))\n",
    "\n",
    "#fit the model\n",
    "fit(my_handmade_nn, X_circle, y_circle, loss='binary_crossentropy', \n",
    "        learning_rate=0.01, batch_size=10, n_epochs=1000)\n",
    "\n",
    "#score the model after the fit : display loss\n",
    "y_pred_1000 = predict (my_handmade_nn, X_circle)\n",
    "print('loss after 1000 epochs : ', compute_binary_crossentropy(y_circle, y_pred_1000))\n",
    "\n",
    "#fit the model again\n",
    "fit(my_handmade_nn, X_circle, y_circle, loss='binary_crossentropy', \n",
    "        learning_rate=0.01, batch_size=10, n_epochs=1000)\n",
    "\n",
    "#score the model after the fit : display final loss\n",
    "y_pred_final = predict (my_handmade_nn, X_circle)\n",
    "print('final loss (2000 epochs) : ', compute_binary_crossentropy(y_circle, y_pred_final))"
   ]
  },
  {
   "cell_type": "markdown",
   "metadata": {},
   "source": [
    "🎉 Our neural network has learned !"
   ]
  },
  {
   "cell_type": "markdown",
   "metadata": {},
   "source": [
    "## Displaying the result\n",
    "\n",
    "To vizualize it in 2D, lets create a grid on [-1,1] * [-1,1], on which we will make predictions of our model, generating a heatmap"
   ]
  },
  {
   "cell_type": "code",
   "execution_count": 34,
   "metadata": {
    "ExecuteTime": {
     "end_time": "2021-01-26T22:48:45.541425Z",
     "start_time": "2021-01-26T22:48:45.162071Z"
    }
   },
   "outputs": [],
   "source": [
    "def heatmap(handmade_nn):\n",
    "    step = 0.01\n",
    "    n_steps=int(2/step)\n",
    "    grid = np.concatenate([np.array([(-1 +(i+.5)* step)*np.ones(n_steps),np.arange(-1+step/2,1,step)]).T for i in range(n_steps)],axis=0)\n",
    "    heat_map = sns.heatmap(predict (my_handmade_nn, grid).reshape((n_steps,n_steps)),cmap='coolwarm')\n",
    "    heat_map.set_xticks([0,100,200])\n",
    "    heat_map.set_xticklabels([-1,0,1])\n",
    "    heat_map.set_xlabel('x1')\n",
    "    heat_map.set_yticks([0,100,200])\n",
    "    heat_map.set_yticklabels([-1,0,1])\n",
    "    heat_map.set_ylabel('x2')\n",
    "    heat_map.scatter(x= (X_circle[:,0]+1)*100, y=(X_circle[:,1]+1)*100,c=y_circle,cmap='binary')"
   ]
  },
  {
   "cell_type": "code",
   "execution_count": 35,
   "metadata": {
    "ExecuteTime": {
     "end_time": "2021-01-26T22:48:46.301333Z",
     "start_time": "2021-01-26T22:48:45.563348Z"
    }
   },
   "outputs": [
    {
     "data": {
      "image/png": "[encoded data removed]",
      "text/plain": [
       "<Figure size 432x288 with 2 Axes>"
      ]
     },
     "metadata": {
      "needs_background": "light"
     },
     "output_type": "display_data"
    }
   ],
   "source": [
    "heatmap(my_handmade_nn)"
   ]
  },
  {
   "cell_type": "code",
   "execution_count": null,
   "metadata": {},
   "outputs": [],
   "source": []
  }
 ],
 "metadata": {
  "kernelspec": {
   "display_name": "Python 3",
   "language": "python",
   "name": "python3"
  },
  "language_info": {
   "codemirror_mode": {
    "name": "ipython",
    "version": 3
   },
   "file_extension": ".py",
   "mimetype": "text/x-python",
   "name": "python",
   "nbconvert_exporter": "python",
   "pygments_lexer": "ipython3",
   "version": "3.7.7"
  },
  "toc": {
   "base_numbering": 1,
   "nav_menu": {},
   "number_sections": true,
   "sideBar": true,
   "skip_h1_title": false,
   "title_cell": "Table of Contents",
   "title_sidebar": "Contents",
   "toc_cell": false,
   "toc_position": {
    "height": "calc(100% - 180px)",
    "left": "10px",
    "top": "150px",
    "width": "261.818px"
   },
   "toc_section_display": true,
   "toc_window_display": true
  }
 },
 "nbformat": 4,
 "nbformat_minor": 4
}
