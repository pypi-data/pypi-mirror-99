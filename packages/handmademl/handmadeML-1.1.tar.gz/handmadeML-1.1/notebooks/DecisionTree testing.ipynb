{
 "cells": [
  {
   "cell_type": "code",
   "execution_count": 1,
   "id": "casual-paradise",
   "metadata": {
    "ExecuteTime": {
     "end_time": "2021-03-23T08:16:50.790426Z",
     "start_time": "2021-03-23T08:16:50.760898Z"
    }
   },
   "outputs": [],
   "source": [
    "%load_ext autoreload\n",
    "%autoreload 2"
   ]
  },
  {
   "cell_type": "code",
   "execution_count": 2,
   "id": "loved-studio",
   "metadata": {
    "ExecuteTime": {
     "end_time": "2021-03-23T08:16:51.587470Z",
     "start_time": "2021-03-23T08:16:51.375891Z"
    }
   },
   "outputs": [],
   "source": [
    "import pandas as pd\n",
    "import numpy as np\n",
    "from handmadeML.decisiontrees.models import DecisionTreeClassifier"
   ]
  },
  {
   "cell_type": "code",
   "execution_count": 26,
   "id": "molecular-mapping",
   "metadata": {
    "ExecuteTime": {
     "end_time": "2021-03-22T10:57:03.973715Z",
     "start_time": "2021-03-22T10:57:03.939654Z"
    }
   },
   "outputs": [
    {
     "data": {
      "text/html": [
       "<div>\n",
       "<style scoped>\n",
       "    .dataframe tbody tr th:only-of-type {\n",
       "        vertical-align: middle;\n",
       "    }\n",
       "\n",
       "    .dataframe tbody tr th {\n",
       "        vertical-align: top;\n",
       "    }\n",
       "\n",
       "    .dataframe thead th {\n",
       "        text-align: right;\n",
       "    }\n",
       "</style>\n",
       "<table border=\"1\" class=\"dataframe\">\n",
       "  <thead>\n",
       "    <tr style=\"text-align: right;\">\n",
       "      <th></th>\n",
       "      <th>aa</th>\n",
       "      <th>bb</th>\n",
       "      <th>cc</th>\n",
       "    </tr>\n",
       "  </thead>\n",
       "  <tbody>\n",
       "    <tr>\n",
       "      <th>0</th>\n",
       "      <td>0.1</td>\n",
       "      <td>1</td>\n",
       "      <td>1</td>\n",
       "    </tr>\n",
       "    <tr>\n",
       "      <th>1</th>\n",
       "      <td>0.2</td>\n",
       "      <td>0</td>\n",
       "      <td>0</td>\n",
       "    </tr>\n",
       "    <tr>\n",
       "      <th>2</th>\n",
       "      <td>0.7</td>\n",
       "      <td>1</td>\n",
       "      <td>1</td>\n",
       "    </tr>\n",
       "    <tr>\n",
       "      <th>3</th>\n",
       "      <td>0.8</td>\n",
       "      <td>0</td>\n",
       "      <td>1</td>\n",
       "    </tr>\n",
       "    <tr>\n",
       "      <th>4</th>\n",
       "      <td>0.8</td>\n",
       "      <td>0</td>\n",
       "      <td>0</td>\n",
       "    </tr>\n",
       "  </tbody>\n",
       "</table>\n",
       "</div>"
      ],
      "text/plain": [
       "    aa  bb  cc\n",
       "0  0.1   1   1\n",
       "1  0.2   0   0\n",
       "2  0.7   1   1\n",
       "3  0.8   0   1\n",
       "4  0.8   0   0"
      ]
     },
     "execution_count": 26,
     "metadata": {},
     "output_type": "execute_result"
    }
   ],
   "source": [
    "X_train=pd.DataFrame({'aa':[0.1,0.2,0.7,0.8,0.8],\n",
    "                      'bb':[1,0,1,0,0],\n",
    "                      'cc':[1,0,1,1,0]})\n",
    "X_train"
   ]
  },
  {
   "cell_type": "code",
   "execution_count": 27,
   "id": "vital-plain",
   "metadata": {
    "ExecuteTime": {
     "end_time": "2021-03-22T10:57:05.368417Z",
     "start_time": "2021-03-22T10:57:05.339565Z"
    }
   },
   "outputs": [
    {
     "data": {
      "text/plain": [
       "0    0\n",
       "1    0\n",
       "2    1\n",
       "3    1\n",
       "4    0\n",
       "dtype: int64"
      ]
     },
     "execution_count": 27,
     "metadata": {},
     "output_type": "execute_result"
    }
   ],
   "source": [
    "y_train=pd.Series([0,0,1,1,0])\n",
    "y_train"
   ]
  },
  {
   "cell_type": "code",
   "execution_count": 21,
   "id": "ranging-warren",
   "metadata": {
    "ExecuteTime": {
     "end_time": "2021-03-22T07:18:42.776778Z",
     "start_time": "2021-03-22T07:18:42.723088Z"
    }
   },
   "outputs": [
    {
     "name": "stdout",
     "output_type": "stream",
     "text": [
      "[('aa', 0.15000000000000002), ('aa', 0.44999999999999996), ('aa', 0.75), ('bb', 0.5), ('cc', 0.5)]\n",
      "[0.4, 0.26666666666666666, 0.4666666666666666, 0.4666666666666666, 0.26666666666666666]\n",
      "[('aa', 0.75), ('bb', 0.5), ('cc', 0.5)]\n",
      "[0.3333333333333333, 0.3333333333333333, 0.0]\n"
     ]
    }
   ],
   "source": [
    "dtc=DecisionTreeClassifier()\n",
    "dtc.fit(X_train,y_train)"
   ]
  },
  {
   "cell_type": "code",
   "execution_count": 22,
   "id": "future-distributor",
   "metadata": {
    "ExecuteTime": {
     "end_time": "2021-03-22T07:18:43.572602Z",
     "start_time": "2021-03-22T07:18:43.540065Z"
    }
   },
   "outputs": [
    {
     "data": {
      "text/plain": [
       "{'level': 0,\n",
       " 'type': 'root',\n",
       " 'gini': 0.48,\n",
       " 'samples_count': 5,\n",
       " 'feature': 'aa',\n",
       " 'threshold': 0.44999999999999996,\n",
       " 'left': {'level': 1,\n",
       "  'type': 'leaf',\n",
       "  'gini': 0.0,\n",
       "  'samples_count': 2,\n",
       "  'category': 0    0\n",
       "  dtype: int64},\n",
       " 'right': {'level': 1,\n",
       "  'type': 'node',\n",
       "  'gini': 0.4444444444444444,\n",
       "  'samples_count': 3,\n",
       "  'feature': 'cc',\n",
       "  'threshold': 0.5,\n",
       "  'right': {'level': 2,\n",
       "   'type': 'leaf',\n",
       "   'gini': 0.0,\n",
       "   'samples_count': 2,\n",
       "   'category': 0    1\n",
       "   dtype: int64},\n",
       "  'left': {'level': 2,\n",
       "   'type': 'leaf',\n",
       "   'gini': 0.0,\n",
       "   'samples_count': 1,\n",
       "   'category': 0    0\n",
       "   dtype: int64}}}"
      ]
     },
     "execution_count": 22,
     "metadata": {},
     "output_type": "execute_result"
    }
   ],
   "source": [
    "dtc.tree"
   ]
  },
  {
   "cell_type": "code",
   "execution_count": null,
   "id": "disciplinary-robinson",
   "metadata": {},
   "outputs": [],
   "source": []
  },
  {
   "cell_type": "code",
   "execution_count": 28,
   "id": "beginning-award",
   "metadata": {
    "ExecuteTime": {
     "end_time": "2021-03-22T10:57:34.144271Z",
     "start_time": "2021-03-22T10:57:34.106323Z"
    }
   },
   "outputs": [
    {
     "data": {
      "text/html": [
       "<div>\n",
       "<style scoped>\n",
       "    .dataframe tbody tr th:only-of-type {\n",
       "        vertical-align: middle;\n",
       "    }\n",
       "\n",
       "    .dataframe tbody tr th {\n",
       "        vertical-align: top;\n",
       "    }\n",
       "\n",
       "    .dataframe thead th {\n",
       "        text-align: right;\n",
       "    }\n",
       "</style>\n",
       "<table border=\"1\" class=\"dataframe\">\n",
       "  <thead>\n",
       "    <tr style=\"text-align: right;\">\n",
       "      <th></th>\n",
       "      <th>aa</th>\n",
       "      <th>bb</th>\n",
       "      <th>cc</th>\n",
       "    </tr>\n",
       "  </thead>\n",
       "  <tbody>\n",
       "    <tr>\n",
       "      <th>0</th>\n",
       "      <td>0.1</td>\n",
       "      <td>1</td>\n",
       "      <td>1</td>\n",
       "    </tr>\n",
       "    <tr>\n",
       "      <th>1</th>\n",
       "      <td>0.2</td>\n",
       "      <td>0</td>\n",
       "      <td>1</td>\n",
       "    </tr>\n",
       "    <tr>\n",
       "      <th>2</th>\n",
       "      <td>0.7</td>\n",
       "      <td>1</td>\n",
       "      <td>0</td>\n",
       "    </tr>\n",
       "  </tbody>\n",
       "</table>\n",
       "</div>"
      ],
      "text/plain": [
       "    aa  bb  cc\n",
       "0  0.1   1   1\n",
       "1  0.2   0   1\n",
       "2  0.7   1   0"
      ]
     },
     "execution_count": 28,
     "metadata": {},
     "output_type": "execute_result"
    }
   ],
   "source": [
    "dtc=DecisionTreeClassifier(min_samples_split=10)\n",
    "dtc.tree={'level': 0,\n",
    " 'type': 'root',\n",
    " 'feature': 'aa',\n",
    " 'threshold': 0.5,\n",
    " 'left': None,\n",
    " 'right': None}\n",
    "\n",
    "dtc.tree['left']={'level': 1,\n",
    "                 'type': 'root',\n",
    "                 'feature': 'bb',\n",
    "                 'threshold': 0.5,\n",
    "                 'left': {'level':2,'type':'leaf','category':1},\n",
    "                 'right': {'level':2,'type':'leaf','category':0}}\n",
    "dtc.tree['right']={'level':1,\n",
    "                  'type':'leaf',\n",
    "                  'category':1}\n",
    "\n",
    "X_test=pd.DataFrame({'aa':[0.1,0.2,0.7],'bb':[1,0,1],'cc':[1,1,0]})\n",
    "X_test"
   ]
  },
  {
   "cell_type": "code",
   "execution_count": 35,
   "id": "assured-baptist",
   "metadata": {
    "ExecuteTime": {
     "end_time": "2021-03-22T11:02:03.453628Z",
     "start_time": "2021-03-22T11:02:03.421592Z"
    }
   },
   "outputs": [
    {
     "data": {
      "text/plain": [
       "0    0\n",
       "1    1\n",
       "2    1\n",
       "dtype: int64"
      ]
     },
     "execution_count": 35,
     "metadata": {},
     "output_type": "execute_result"
    }
   ],
   "source": [
    "dtc.predict(X_test)"
   ]
  },
  {
   "cell_type": "code",
   "execution_count": 33,
   "id": "funded-begin",
   "metadata": {
    "ExecuteTime": {
     "end_time": "2021-03-22T10:59:28.389624Z",
     "start_time": "2021-03-22T10:59:28.361593Z"
    }
   },
   "outputs": [
    {
     "data": {
      "text/plain": [
       "False"
      ]
     },
     "execution_count": 33,
     "metadata": {},
     "output_type": "execute_result"
    }
   ],
   "source": [
    "'vv' in X_test.iloc[0].index"
   ]
  },
  {
   "cell_type": "code",
   "execution_count": 34,
   "id": "national-revolution",
   "metadata": {
    "ExecuteTime": {
     "end_time": "2021-03-22T11:01:34.691164Z",
     "start_time": "2021-03-22T11:01:34.660887Z"
    }
   },
   "outputs": [
    {
     "data": {
      "text/plain": [
       "0.1"
      ]
     },
     "execution_count": 34,
     "metadata": {},
     "output_type": "execute_result"
    }
   ],
   "source": [
    "X_test.iloc[0]['aa']"
   ]
  },
  {
   "cell_type": "code",
   "execution_count": 36,
   "id": "solid-group",
   "metadata": {
    "ExecuteTime": {
     "end_time": "2021-03-22T11:10:17.613362Z",
     "start_time": "2021-03-22T11:10:17.585609Z"
    }
   },
   "outputs": [],
   "source": [
    "import numpy as np"
   ]
  },
  {
   "cell_type": "code",
   "execution_count": 37,
   "id": "genuine-burlington",
   "metadata": {
    "ExecuteTime": {
     "end_time": "2021-03-22T11:10:25.684397Z",
     "start_time": "2021-03-22T11:10:25.656452Z"
    }
   },
   "outputs": [],
   "source": [
    "tupl=(2,3)"
   ]
  },
  {
   "cell_type": "code",
   "execution_count": 38,
   "id": "controlling-seating",
   "metadata": {
    "ExecuteTime": {
     "end_time": "2021-03-22T11:10:29.246318Z",
     "start_time": "2021-03-22T11:10:29.215178Z"
    }
   },
   "outputs": [
    {
     "data": {
      "text/plain": [
       "2"
      ]
     },
     "execution_count": 38,
     "metadata": {},
     "output_type": "execute_result"
    }
   ],
   "source": [
    "len(tupl)"
   ]
  },
  {
   "cell_type": "code",
   "execution_count": 5,
   "id": "becoming-acceptance",
   "metadata": {
    "ExecuteTime": {
     "end_time": "2021-03-23T08:19:15.144972Z",
     "start_time": "2021-03-23T08:19:15.115234Z"
    }
   },
   "outputs": [],
   "source": [
    "# Testing the node construction utility function\n",
    "from handmadeML.decisiontrees.utils import node_construction"
   ]
  },
  {
   "cell_type": "code",
   "execution_count": 22,
   "id": "entire-parallel",
   "metadata": {
    "ExecuteTime": {
     "end_time": "2021-03-23T10:22:16.460881Z",
     "start_time": "2021-03-23T10:22:16.397089Z"
    }
   },
   "outputs": [
    {
     "name": "stdout",
     "output_type": "stream",
     "text": [
      "[('aa', 0.15000000000000002), ('aa', 0.44999999999999996), ('aa', 0.75), ('bb', 0.5), ('cc', 0.5)]\n",
      "[0.4, 0.26666666666666666, 0.4666666666666666, 0.4666666666666666, 0.26666666666666666]\n",
      "[('aa', 0.75), ('bb', 0.5), ('cc', 0.5)]\n",
      "[0.3333333333333333, 0.3333333333333333, 0.0]\n"
     ]
    },
    {
     "data": {
      "text/plain": [
       "1"
      ]
     },
     "execution_count": 22,
     "metadata": {},
     "output_type": "execute_result"
    }
   ],
   "source": [
    "X_train=pd.DataFrame({'aa':[0.1,0.2,0.7,0.8,0.8],\n",
    "                      'bb':[1,0,1,0,0],\n",
    "                      'cc':[1,0,1,1,0]})\n",
    "y_train=pd.Series([0,0,1,1,0])\n",
    "tree={'level':0,\n",
    "       'type':'root',\n",
    "       'gini':1-((y_train.groupby(y_train).count()/y_train.count())**2).sum(),\n",
    "       'samples_count':y_train.count(),\n",
    "       'feature':None,\n",
    "       'threshold':None,\n",
    "       'left':None,\n",
    "       'right':None,\n",
    "       }\n",
    "node_construction(tree,X_train,y_train,max_depth=10,min_samples_split=2)\n",
    "tree['right']['right']['category']"
   ]
  },
  {
   "cell_type": "code",
   "execution_count": 24,
   "id": "automotive-denver",
   "metadata": {
    "ExecuteTime": {
     "end_time": "2021-03-23T10:22:48.428239Z",
     "start_time": "2021-03-23T10:22:48.398636Z"
    }
   },
   "outputs": [
    {
     "data": {
      "text/plain": [
       "{'level': 0,\n",
       " 'type': 'root',\n",
       " 'gini': 0.48,\n",
       " 'samples_count': 5,\n",
       " 'feature': 'aa',\n",
       " 'threshold': 0.44999999999999996,\n",
       " 'left': {'level': 1,\n",
       "  'type': 'leaf',\n",
       "  'gini': 0.0,\n",
       "  'samples_count': 2,\n",
       "  'category': 0    0\n",
       "  dtype: int64},\n",
       " 'right': {'level': 1,\n",
       "  'type': 'node',\n",
       "  'gini': 0.4444444444444444,\n",
       "  'samples_count': 3,\n",
       "  'feature': 'cc',\n",
       "  'threshold': 0.5,\n",
       "  'left': {'level': 2,\n",
       "   'type': 'leaf',\n",
       "   'gini': 0.0,\n",
       "   'samples_count': 1,\n",
       "   'category': 0    0\n",
       "   dtype: int64},\n",
       "  'right': {'level': 2,\n",
       "   'type': 'leaf',\n",
       "   'gini': 0.0,\n",
       "   'samples_count': 2,\n",
       "   'category': 1}}}"
      ]
     },
     "execution_count": 24,
     "metadata": {},
     "output_type": "execute_result"
    }
   ],
   "source": [
    "tree"
   ]
  },
  {
   "cell_type": "code",
   "execution_count": 19,
   "id": "super-twelve",
   "metadata": {
    "ExecuteTime": {
     "end_time": "2021-03-23T10:21:58.155744Z",
     "start_time": "2021-03-23T10:21:58.127318Z"
    }
   },
   "outputs": [],
   "source": [
    "yy=pd.Series([3,2,2,3,2,3,3,2,0,0,0])"
   ]
  },
  {
   "cell_type": "code",
   "execution_count": 21,
   "id": "diverse-valuation",
   "metadata": {
    "ExecuteTime": {
     "end_time": "2021-03-23T10:22:02.661180Z",
     "start_time": "2021-03-23T10:22:02.631540Z"
    }
   },
   "outputs": [
    {
     "data": {
      "text/plain": [
       "2"
      ]
     },
     "execution_count": 21,
     "metadata": {},
     "output_type": "execute_result"
    }
   ],
   "source": [
    "yy.mode()[0]"
   ]
  },
  {
   "cell_type": "code",
   "execution_count": null,
   "id": "excess-fighter",
   "metadata": {},
   "outputs": [],
   "source": []
  }
 ],
 "metadata": {
  "kernelspec": {
   "display_name": "Python 3",
   "language": "python",
   "name": "python3"
  },
  "language_info": {
   "codemirror_mode": {
    "name": "ipython",
    "version": 3
   },
   "file_extension": ".py",
   "mimetype": "text/x-python",
   "name": "python",
   "nbconvert_exporter": "python",
   "pygments_lexer": "ipython3",
   "version": "3.8.6"
  },
  "toc": {
   "base_numbering": 1,
   "nav_menu": {},
   "number_sections": true,
   "sideBar": true,
   "skip_h1_title": false,
   "title_cell": "Table of Contents",
   "title_sidebar": "Contents",
   "toc_cell": false,
   "toc_position": {},
   "toc_section_display": true,
   "toc_window_display": false
  },
  "varInspector": {
   "cols": {
    "lenName": 16,
    "lenType": 16,
    "lenVar": 40
   },
   "kernels_config": {
    "python": {
     "delete_cmd_postfix": "",
     "delete_cmd_prefix": "del ",
     "library": "var_list.py",
     "varRefreshCmd": "print(var_dic_list())"
    },
    "r": {
     "delete_cmd_postfix": ") ",
     "delete_cmd_prefix": "rm(",
     "library": "var_list.r",
     "varRefreshCmd": "cat(var_dic_list()) "
    }
   },
   "types_to_exclude": [
    "module",
    "function",
    "builtin_function_or_method",
    "instance",
    "_Feature"
   ],
   "window_display": false
  }
 },
 "nbformat": 4,
 "nbformat_minor": 5
}
