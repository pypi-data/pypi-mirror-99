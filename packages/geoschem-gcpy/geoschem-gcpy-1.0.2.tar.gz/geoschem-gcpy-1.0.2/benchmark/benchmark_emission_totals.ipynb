{
 "cells": [
  {
   "cell_type": "markdown",
   "metadata": {},
   "source": [
    "<h1>Create tables of emission totals from benchmark output</h1>\n",
    "\n",
    "This notebook illustrates how to generate the table of emissions totals from two benchmark simulations. "
   ]
  },
  {
   "cell_type": "code",
   "execution_count": null,
   "metadata": {},
   "outputs": [],
   "source": [
    "#Import packages\n",
    "import os\n",
    "import os.path\n",
    "import gcpy\n",
    "import xarray as xr\n",
    "from json import load as json_load_file"
   ]
  },
  {
   "cell_type": "markdown",
   "metadata": {},
   "source": [
    "Define the two data sets to be compared.  \"Ref\" (or \"Reference\") is the prior dataset, and \"Dev\" (or \"Development\") is the current dataset."
   ]
  },
  {
   "cell_type": "code",
   "execution_count": null,
   "metadata": {},
   "outputs": [],
   "source": [
    "# Root folder (change for your system)\n",
    "dir = '/n/home09/ryantosca/GC/python/data/benchmark'\n",
    "\n",
    "# Load the Ref dataset\n",
    "reffile = os.path.join(dir, 'Ref', 'HEMCO.diagnostics.201607010000.nc')\n",
    "refstr = '12.1.1'\n",
    "refdata = xr.open_dataset(reffile)\n",
    "refdata"
   ]
  },
  {
   "cell_type": "code",
   "execution_count": null,
   "metadata": {},
   "outputs": [],
   "source": [
    "# Load the Dev dataset\n",
    "devfile = os.path.join(dir, 'Dev', 'HEMCO.diagnostics.201607010000.nc')\n",
    "devstr = '12.2.0'\n",
    "devdata = xr.open_dataset(devfile)\n",
    "devdata"
   ]
  },
  {
   "cell_type": "markdown",
   "metadata": {},
   "source": [
    "Load a JSON file containing (1) the  list of species for which emissions totals are desired, and (2) the units (e.g. \"Tg, \"Tg C\") in which totals for each species will be reported."
   ]
  },
  {
   "cell_type": "code",
   "execution_count": null,
   "metadata": {},
   "outputs": [],
   "source": [
    "# Path to JSON file with emission species properties\n",
    "# This is in the gcpy/benchmark folder\n",
    "species_path = os.path.join(os.path.dirname(gcpy.benchmark.__file__), 'emission_species.json')\n",
    "\n",
    "# Load the JSON file into a Python dictionary\n",
    "species = json_load_file(open(species_path))\n",
    "\n",
    "# Print the dictionary \n",
    "species"
   ]
  },
  {
   "cell_type": "markdown",
   "metadata": {},
   "source": [
    "Print the table of total emissions by species to a text file"
   ]
  },
  {
   "cell_type": "code",
   "execution_count": null,
   "metadata": {},
   "outputs": [],
   "source": [
    "# File path for emissions totals table\n",
    "file_emis_totals = os.path.join(dir, 'output', '{}_emission_totals.txt'.format(devstr))\n",
    "\n",
    "# Number of seconds in the averaging period\n",
    "# 1-month benchmark simulation (July 2016) = 86400 seconds * 31 days\n",
    "interval = 86400.0 * 31.0\n",
    "\n",
    "# Write totals to file\n",
    "gcpy.create_total_emissions_table(refdata, refstr, devdata, devstr, species, file_emis_totals, interval, template=\"Emis{}_\")\n"
   ]
  },
  {
   "cell_type": "markdown",
   "metadata": {},
   "source": [
    "Print the table of emissions for each species by inventory."
   ]
  },
  {
   "cell_type": "code",
   "execution_count": null,
   "metadata": {},
   "outputs": [],
   "source": [
    "# File path for inventory totals table\n",
    "file_inv_totals = os.path.join(dir, 'output', '{}_inventory_totals.txt'.format(devstr))\n",
    "\n",
    "# Write totals to file\n",
    "gcpy.create_total_emissions_table(refdata, refstr, devdata, devstr, species, file_inv_totals, interval, template=\"Inv{}_\")\n"
   ]
  },
  {
   "cell_type": "code",
   "execution_count": null,
   "metadata": {},
   "outputs": [],
   "source": []
  }
 ],
 "metadata": {
  "kernelspec": {
   "display_name": "Python 3",
   "language": "python",
   "name": "python3"
  },
  "language_info": {
   "codemirror_mode": {
    "name": "ipython",
    "version": 3
   },
   "file_extension": ".py",
   "mimetype": "text/x-python",
   "name": "python",
   "nbconvert_exporter": "python",
   "pygments_lexer": "ipython3",
   "version": "3.6.8"
  }
 },
 "nbformat": 4,
 "nbformat_minor": 2
}
