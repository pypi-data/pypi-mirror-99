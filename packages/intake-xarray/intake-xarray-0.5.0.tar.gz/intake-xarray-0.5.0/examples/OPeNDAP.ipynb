{
 "cells": [
  {
   "cell_type": "markdown",
   "metadata": {},
   "source": [
    "## OPeNDAP\n",
    "\n",
    "Here we have adapted the OPeNDAP example from the [xarray documentation](http://xarray.pydata.org/en/stable/io.html#opendap) for Intake."
   ]
  },
  {
   "cell_type": "code",
   "execution_count": 1,
   "metadata": {},
   "outputs": [
    {
     "data": {
      "text/plain": [
       "['esgf']"
      ]
     },
     "execution_count": 1,
     "metadata": {},
     "output_type": "execute_result"
    }
   ],
   "source": [
    "import intake\n",
    "cat = intake.open_catalog('catalog.yml')\n",
    "list(cat)"
   ]
  },
  {
   "cell_type": "code",
   "execution_count": 2,
   "metadata": {},
   "outputs": [
    {
     "name": "stderr",
     "output_type": "stream",
     "text": [
      "/Users/mmccarty/anaconda3/envs/intake-xarray/lib/python3.6/site-packages/distributed/bokeh/core.py:55: UserWarning: \n",
      "Port 8787 is already in use. \n",
      "Perhaps you already have a cluster running?\n",
      "Hosting the diagnostics dashboard on a random port instead.\n",
      "  warnings.warn('\\n' + msg)\n"
     ]
    },
    {
     "data": {
      "text/html": [
       "<table style=\"border: 2px solid white;\">\n",
       "<tr>\n",
       "<td style=\"vertical-align: top; border: 0px solid white\">\n",
       "<h3>Client</h3>\n",
       "<ul>\n",
       "  <li><b>Scheduler: </b>inproc://192.168.1.183/81362/1\n",
       "  <li><b>Dashboard: </b><a href='http://localhost:50357/status' target='_blank'>http://localhost:50357/status</a>\n",
       "</ul>\n",
       "</td>\n",
       "<td style=\"vertical-align: top; border: 0px solid white\">\n",
       "<h3>Cluster</h3>\n",
       "<ul>\n",
       "  <li><b>Workers: </b>1</li>\n",
       "  <li><b>Cores: </b>8</li>\n",
       "  <li><b>Memory: </b>100.00 GB</li>\n",
       "</ul>\n",
       "</td>\n",
       "</tr>\n",
       "</table>"
      ],
      "text/plain": [
       "<Client: scheduler='inproc://192.168.1.183/81362/1' processes=1 cores=8>"
      ]
     },
     "execution_count": 2,
     "metadata": {},
     "output_type": "execute_result"
    }
   ],
   "source": [
    "# arbitrarily choose a small memory limit (4GB) to stress the \n",
    "# out of core processing infrastructure\n",
    "from dask.distributed import Client\n",
    "client = Client(memory_limit=10e10, processes=False) # Note: was 6e9 \n",
    "client"
   ]
  },
  {
   "cell_type": "code",
   "execution_count": 3,
   "metadata": {},
   "outputs": [],
   "source": [
    "schema = cat.esgf._get_schema()"
   ]
  },
  {
   "cell_type": "code",
   "execution_count": 4,
   "metadata": {},
   "outputs": [
    {
     "data": {
      "text/plain": [
       "<xarray.Dataset>\n",
       "Dimensions:    (bnds: 2, lat: 241, lon: 480, time: 365)\n",
       "Coordinates:\n",
       "  * time       (time) float64 2.885e+04 2.886e+04 2.886e+04 2.886e+04 ...\n",
       "  * lat        (lat) float64 -90.0 -89.25 -88.5 -87.75 -87.0 -86.25 -85.5 ...\n",
       "  * lon        (lon) float64 0.0 0.75 1.5 2.25 3.0 3.75 4.5 5.25 6.0 6.75 ...\n",
       "Dimensions without coordinates: bnds\n",
       "Data variables:\n",
       "    time_bnds  (time, bnds) float64 dask.array<shape=(365, 2), chunksize=(365, 2)>\n",
       "    lat_bnds   (lat, bnds) float64 dask.array<shape=(241, 2), chunksize=(241, 2)>\n",
       "    lon_bnds   (lon, bnds) float64 dask.array<shape=(480, 2), chunksize=(480, 2)>\n",
       "    pr         (time, lat, lon) float32 dask.array<shape=(365, 241, 480), chunksize=(365, 241, 480)>\n",
       "Attributes:\n",
       "    institution:                     European Centre for Medium-Range Weather...\n",
       "    institute_id:                    ECMWF\n",
       "    experiment_id:                   ERA-Interim\n",
       "    source:                          ERA-Interim, 6-hourly, Full Resolution.\n",
       "    model_id:                        IFS-Cy31r2\n",
       "    contact:                         ECMWF, Dick Dee (dick.dee@ecmwf.int)\n",
       "    references:                      http://www.ecmwf.int\n",
       "    tracking_id:                     2d387c17-89da-4757-9fcd-84479f986da1\n",
       "    mip_specs:                       CMIP5\n",
       "    source_id:                       ERA-Interim\n",
       "    product:                         reanalysis\n",
       "    frequency:                       day\n",
       "    creation_date:                   2018-08-02T13:43:29Z\n",
       "    history:                         2018-08-02T13:43:29Z CMOR rewrote data t...\n",
       "    Conventions:                     CF-1.4\n",
       "    project_id:                      CREATE-IP\n",
       "    table_id:                        Table day (17 July 2013) 7c3c704d0ca8f4c...\n",
       "    title:                           Reanalysis output prepared for CREATE-IP.\n",
       "    modeling_realm:                  atmos\n",
       "    cmor_version:                    2.9.1\n",
       "    DODS_EXTRA.Unlimited_Dimension:  time"
      ]
     },
     "execution_count": 4,
     "metadata": {},
     "output_type": "execute_result"
    }
   ],
   "source": [
    "ds = cat.esgf.read_chunked()\n",
    "ds"
   ]
  },
  {
   "cell_type": "code",
   "execution_count": null,
   "metadata": {},
   "outputs": [],
   "source": [
    "tmax = remote_data['tmax'][:500, ::3, ::3]\n",
    "tmax"
   ]
  },
  {
   "cell_type": "code",
   "execution_count": null,
   "metadata": {},
   "outputs": [],
   "source": [
    "%matplotlib inline\n",
    "import matplotlib.pyplot as plt\n",
    "tmax[0].plot()"
   ]
  },
  {
   "cell_type": "code",
   "execution_count": null,
   "metadata": {},
   "outputs": [],
   "source": []
  }
 ],
 "metadata": {
  "kernelspec": {
   "display_name": "Python 3",
   "language": "python",
   "name": "python3"
  },
  "language_info": {
   "codemirror_mode": {
    "name": "ipython",
    "version": 3
   },
   "file_extension": ".py",
   "mimetype": "text/x-python",
   "name": "python",
   "nbconvert_exporter": "python",
   "pygments_lexer": "ipython3",
   "version": "3.6.6"
  }
 },
 "nbformat": 4,
 "nbformat_minor": 2
}
