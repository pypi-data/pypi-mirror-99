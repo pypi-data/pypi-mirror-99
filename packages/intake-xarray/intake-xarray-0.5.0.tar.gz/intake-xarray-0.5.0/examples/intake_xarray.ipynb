{
 "cells": [
  {
   "cell_type": "markdown",
   "metadata": {},
   "source": [
    "## Examples using intake with xarray\n",
    "\n",
    "In this notebook, we'll take a look at some of the file formats that can be written to `xarray` objects."
   ]
  },
  {
   "cell_type": "code",
   "execution_count": null,
   "metadata": {},
   "outputs": [],
   "source": [
    "import intake\n",
    "intake.output_notebook()"
   ]
  },
  {
   "cell_type": "markdown",
   "metadata": {},
   "source": [
    "## Inline example\n",
    "\n",
    "Anything that can be opened with `xarray.open_dataset` can be accessed with intake using `intake.open_netcdf`. \n",
    "\n",
    "### GRIB\n",
    "In this first example we will use an OpenDAP URL to lazily access a grib file. "
   ]
  },
  {
   "cell_type": "code",
   "execution_count": null,
   "metadata": {},
   "outputs": [],
   "source": [
    "grib_da = intake.open_netcdf('http://thredds.ucar.edu/thredds/dodsC/grib/FNMOC/WW3/Global_1p0deg/Best', chunks={}).to_dask()\n",
    "grib_da"
   ]
  },
  {
   "cell_type": "markdown",
   "metadata": {},
   "source": [
    "### Image\n",
    "\n",
    "Intake-xarray also provides easy access to other backends to support loading other file formats. Such as image data."
   ]
  },
  {
   "cell_type": "code",
   "execution_count": null,
   "metadata": {},
   "outputs": [],
   "source": [
    "image = intake.open_xarray_image('https://s3.amazonaws.com/earth-data/UCMerced_LandUse/Images/tenniscourt/tenniscourt02.tif')\n",
    "image_da = image.to_dask()\n",
    "image_da"
   ]
  },
  {
   "cell_type": "code",
   "execution_count": null,
   "metadata": {},
   "outputs": [],
   "source": [
    "from PIL import Image"
   ]
  },
  {
   "cell_type": "code",
   "execution_count": null,
   "metadata": {},
   "outputs": [],
   "source": [
    "Image.fromarray(image_da.data.compute())"
   ]
  },
  {
   "cell_type": "markdown",
   "metadata": {},
   "source": [
    "#### Multiple Images \n",
    "\n",
    "We can lazily load lots of images from s3 and other backends using glob notation. "
   ]
  },
  {
   "cell_type": "code",
   "execution_count": null,
   "metadata": {},
   "outputs": [],
   "source": [
    "multi_image = intake.open_xarray_image('s3://earth-data/UCMerced_LandUse/Images/*/*05.tif', \n",
    "                                       storage_options=dict(anon=True))\n",
    "multi_image_da = multi_image.to_dask()\n",
    "multi_image_da"
   ]
  },
  {
   "cell_type": "code",
   "execution_count": null,
   "metadata": {},
   "outputs": [],
   "source": [
    "np_array = multi_image_da[1].dropna('x', 'all').dropna('y', 'all').data.compute().astype('uint8')\n",
    "Image.fromarray(np_array)"
   ]
  },
  {
   "cell_type": "markdown",
   "metadata": {},
   "source": [
    "## Catalog examples\n",
    "\n",
    "There is a sample catalog at `./catalog.yml` containing some examples of how to use the intake-xarray plugins. "
   ]
  },
  {
   "cell_type": "code",
   "execution_count": null,
   "metadata": {},
   "outputs": [],
   "source": [
    "cat = intake.open_catalog('catalog.yml')\n",
    "list(cat)"
   ]
  },
  {
   "cell_type": "markdown",
   "metadata": {},
   "source": [
    "### Grib: from unauthenticated OpenDAP\n",
    "\n",
    "Grib files can be read from catalog specs just as in the inline example above."
   ]
  },
  {
   "cell_type": "code",
   "execution_count": null,
   "metadata": {},
   "outputs": [],
   "source": [
    "grib_thredds = cat.grib_thredds\n",
    "grib_thredds_da = grib_thredds.to_dask()\n",
    "grib_thredds_da"
   ]
  },
  {
   "cell_type": "code",
   "execution_count": null,
   "metadata": {},
   "outputs": [],
   "source": [
    "import hvplot.xarray"
   ]
  },
  {
   "cell_type": "code",
   "execution_count": null,
   "metadata": {},
   "outputs": [],
   "source": [
    "var = 'sig_wav_ht_surface'\n",
    "time_dim = grib_thredds_da[var].dims[0]\n",
    "grib_thredds_da[var].hvplot(x='lon', y='lat', groupby=time_dim, rasterize=True)"
   ]
  },
  {
   "cell_type": "markdown",
   "metadata": {},
   "source": [
    "## Image\n",
    "\n",
    "Image files can be read in using a variety of backends."
   ]
  },
  {
   "cell_type": "code",
   "execution_count": null,
   "metadata": {},
   "outputs": [],
   "source": [
    "image = cat.image(landuse='airplane', id=0)\n",
    "image_da = image.to_dask()\n",
    "image_da"
   ]
  },
  {
   "cell_type": "code",
   "execution_count": null,
   "metadata": {},
   "outputs": [],
   "source": [
    "np_array = image_da.data.compute()\n",
    "Image.fromarray(np_array)"
   ]
  },
  {
   "cell_type": "markdown",
   "metadata": {},
   "source": [
    "#### Multiple Images\n",
    "\n",
    "When loading multiple images, if the images don't have exactly the same size, you will have nan slices in your data and the dtype will be floats. "
   ]
  },
  {
   "cell_type": "code",
   "execution_count": null,
   "metadata": {},
   "outputs": [],
   "source": [
    "%time labelled_da = cat.images_labelled(id=0).to_dask()\n",
    "labelled_da"
   ]
  },
  {
   "cell_type": "code",
   "execution_count": null,
   "metadata": {},
   "outputs": [],
   "source": [
    "np_array = (labelled_da.sel(landuse='beach', id=0)\n",
    "                       .dropna('x', 'all')\n",
    "                       .dropna('y', 'all')\n",
    "                       .data.compute().astype('uint8'))\n",
    "Image.fromarray(np_array)"
   ]
  },
  {
   "cell_type": "markdown",
   "metadata": {},
   "source": [
    "If we aren't interested in labels, then it is even faster to read in the files. "
   ]
  },
  {
   "cell_type": "code",
   "execution_count": null,
   "metadata": {},
   "outputs": [],
   "source": [
    "%time unlabelled_da = cat.images_unlabelled(id=5).to_dask()\n",
    "unlabelled_da"
   ]
  },
  {
   "cell_type": "code",
   "execution_count": null,
   "metadata": {},
   "outputs": [],
   "source": [
    "np_array = unlabelled_da[1].dropna('x', 'all').dropna('y', 'all').data.compute().astype('uint8')\n",
    "Image.fromarray(np_array)"
   ]
  },
  {
   "cell_type": "markdown",
   "metadata": {},
   "source": [
    "### GeoTiff\n",
    "For geotiffs there is a special `rasterio` backend that support loading using gdal. "
   ]
  },
  {
   "cell_type": "code",
   "execution_count": null,
   "metadata": {},
   "outputs": [],
   "source": [
    "geotiff = cat.geotiff\n",
    "geotiff_da = geotiff.to_dask()\n",
    "geotiff_da"
   ]
  },
  {
   "cell_type": "code",
   "execution_count": null,
   "metadata": {},
   "outputs": [],
   "source": [
    "geotiff.plot.band_image()"
   ]
  }
 ],
 "metadata": {
  "language_info": {
   "name": "python",
   "pygments_lexer": "ipython3"
  }
 },
 "nbformat": 4,
 "nbformat_minor": 2
}
