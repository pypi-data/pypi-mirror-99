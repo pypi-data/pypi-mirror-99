{
 "metadata": {
  "language_info": {
   "codemirror_mode": {
    "name": "ipython",
    "version": 3
   },
   "file_extension": ".py",
   "mimetype": "text/x-python",
   "name": "python",
   "nbconvert_exporter": "python",
   "pygments_lexer": "ipython3",
   "version": "3.7.5-final"
  },
  "orig_nbformat": 2,
  "kernelspec": {
   "name": "python37564bit8409255418034dfeada81c2f6070bc9d",
   "display_name": "Python 3.7.5 64-bit",
   "language": "python"
  }
 },
 "nbformat": 4,
 "nbformat_minor": 2,
 "cells": [
  {
   "cell_type": "code",
   "execution_count": 2,
   "metadata": {
    "tags": []
   },
   "outputs": [
    {
     "output_type": "stream",
     "name": "stdout",
     "text": "[21:32:05] abc\n\n123\n\n234\n\n123\n\n123\n\n234\n\n123\n\n"
    }
   ],
   "source": [
    "from cy_procedure.util.logger import *\n",
    "recorder = ProcedureRecorder('f476e8e4-5bc4-4521-ad6d-f73f9364b313', MessageType.WeChatWork)\n",
    "recorder.record_procedure('abc')\n",
    "recorder.append_summary_log('123')\n",
    "recorder.append_summary_log('234')\n",
    "recorder.record_summary_log('123')\n",
    "recorder.append_summary_log('123')\n",
    "recorder.append_summary_log('234')\n",
    "recorder.record_summary_log('123')\n"
   ]
  },
  {
   "cell_type": "code",
   "execution_count": 1,
   "metadata": {
    "tags": []
   },
   "outputs": [
    {
     "output_type": "stream",
     "name": "stdout",
     "text": "123\n\n234\n\n123\n\n123\n\n234\n\n123\n\n"
    },
    {
     "output_type": "execute_result",
     "data": {
      "text/plain": "dict_values([[LogInfo(log_type=0, log='\\n**哈哈哈哈**: asdf \\n\\n**asdfienaf**: asdfef \\n\\n', fetched=False, _id=ObjectId('5f41379c7c7e82430652404f')), LogInfo(log_type=0, log='\\n**哈哈哈哈**: asdf \\n\\n**asdfienaf**: asdfef \\n\\n', fetched=False, _id=ObjectId('5f41379e7c7e824306524051')), LogInfo(log_type=0, log='\\n**哈哈哈哈**: asdf \\n\\n**asdfienaf**: asdfef \\n\\n', fetched=False, _id=ObjectId('5f4137a07c7e824306524053')), LogInfo(log_type=0, log='\\n**哈哈哈哈**: asdf \\n\\n**asdfienaf**: asdfef \\n\\n', fetched=False, _id=ObjectId('5f4137a27c7e824306524055')), LogInfo(log_type=0, log='123\\n\\n234\\n\\n123\\n\\n', fetched=False, _id=ObjectId('5f413b069fd1579546579fce')), LogInfo(log_type=0, log='123\\n\\n234\\n\\n123\\n\\n', fetched=False, _id=ObjectId('5f413b069fd1579546579fcf'))], [LogInfo(log_type=1, log='123\\n\\n234\\n\\n123\\n\\n', fetched=False, _id=ObjectId('5f414b5aff74dd2526b6826d')), LogInfo(log_type=1, log='123\\n\\n234\\n\\n123\\n\\n', fetched=False, _id=ObjectId('5f414b5aff74dd2526b6826e')), LogInfo(log_type=1, log='123\\n\\n234\\n\\n123\\n\\n', fetched=False, _id=ObjectId('5f4153d1b1a56085ec4c03a1')), LogInfo(log_type=1, log='123\\n\\n234\\n\\n123\\n\\n', fetched=False, _id=ObjectId('5f4153d1b1a56085ec4c03a2')), LogInfo(log_type=1, log='123\\n\\n234\\n\\n123\\n\\n', fetched=False, _id=ObjectId('5f41545d58e1dd12cb02b7d2')), LogInfo(log_type=1, log='123\\n\\n234\\n\\n123\\n\\n', fetched=False, _id=ObjectId('5f41545d58e1dd12cb02b7d3')), LogInfo(log_type=1, log='123\\n\\n234\\n\\n123\\n\\n', fetched=False, _id=ObjectId('5f41547bb8d0748aca9a8372')), LogInfo(log_type=1, log='123\\n\\n234\\n\\n123\\n\\n', fetched=False, _id=ObjectId('5f41547cb8d0748aca9a8373')), LogInfo(log_type=1, log='123\\n\\n234\\n\\n123\\n\\n', fetched=False, _id=ObjectId('5f4154bbec6bd73ed2d91cd7')), LogInfo(log_type=1, log='123\\n\\n234\\n\\n123\\n\\n', fetched=False, _id=ObjectId('5f4154bbec6bd73ed2d91cd8')), LogInfo(log_type=1, log='123\\n\\n234\\n\\n123\\n\\n', fetched=False, _id=ObjectId('5f415612ed770356a4332eb5')), LogInfo(log_type=1, log='123\\n\\n234\\n\\n123\\n\\n', fetched=False, _id=ObjectId('5f415612ed770356a4332eb6')), LogInfo(log_type=1, log='123\\n\\n234\\n\\n123\\n\\n', fetched=False, _id=ObjectId('5f41561ee0bf4c48dafeb860')), LogInfo(log_type=1, log='123\\n\\n234\\n\\n123\\n\\n', fetched=False, _id=ObjectId('5f41561ee0bf4c48dafeb861')), LogInfo(_id=ObjectId('5f4152ddfcc9dc2ca2d92d4f'), log='123\\n\\n234\\n\\n123\\n\\n', fetched=False, create=datetime.datetime(2020, 8, 23, 1, 16, 13, 198000), log_type=1), LogInfo(_id=ObjectId('5f4152ddfcc9dc2ca2d92d50'), log='123\\n\\n234\\n\\n123\\n\\n', fetched=False, create=datetime.datetime(2020, 8, 23, 1, 16, 13, 198000), log_type=1), LogInfo(_id=ObjectId('5f4152e8fcc9dc2ca2d92d52'), log='123\\n\\n234\\n\\n123\\n\\n', fetched=False, create=datetime.datetime(2020, 8, 23, 1, 16, 13, 198000), log_type=1), LogInfo(_id=ObjectId('5f4152e8fcc9dc2ca2d92d53'), log='123\\n\\n234\\n\\n123\\n\\n', fetched=False, create=datetime.datetime(2020, 8, 23, 1, 16, 13, 198000), log_type=1), LogInfo(_id=ObjectId('5f41534efcc9dc2ca2d92d55'), log='123\\n\\n234\\n\\n123\\n\\n', fetched=False, create=datetime.datetime(2020, 8, 23, 1, 16, 13, 198000), log_type=1), LogInfo(_id=ObjectId('5f41534efcc9dc2ca2d92d56'), log='123\\n\\n234\\n\\n123\\n\\n', fetched=False, create=datetime.datetime(2020, 8, 23, 1, 16, 13, 198000), log_type=1), LogInfo(_id=ObjectId('5f415378fcc9dc2ca2d92d58'), log='123\\n\\n234\\n\\n123\\n\\n', fetched=False, create=datetime.datetime(2020, 8, 23, 1, 16, 13, 198000), log_type=1), LogInfo(_id=ObjectId('5f415378fcc9dc2ca2d92d59'), log='123\\n\\n234\\n\\n123\\n\\n', fetched=False, create=datetime.datetime(2020, 8, 23, 1, 16, 13, 198000), log_type=1), LogInfo(_id=ObjectId('5f41538bfcc9dc2ca2d92d5b'), log='123\\n\\n234\\n\\n123\\n\\n', fetched=False, create=datetime.datetime(2020, 8, 23, 1, 16, 13, 198000), log_type=1), LogInfo(_id=ObjectId('5f41538bfcc9dc2ca2d92d5c'), log='123\\n\\n234\\n\\n123\\n\\n', fetched=False, create=datetime.datetime(2020, 8, 23, 1, 16, 13, 198000), log_type=1), LogInfo(_id=ObjectId('5f4153a73a64aa11eb1c6a70'), log='123\\n\\n234\\n\\n123\\n\\n', fetched=False, create=datetime.datetime(2020, 8, 23, 1, 19, 34, 565000), log_type=1), LogInfo(_id=ObjectId('5f4153a73a64aa11eb1c6a71'), log='123\\n\\n234\\n\\n123\\n\\n', fetched=False, create=datetime.datetime(2020, 8, 23, 1, 19, 34, 565000), log_type=1)]])"
     },
     "metadata": {},
     "execution_count": 1
    }
   ],
   "source": [
    "from cy_data_access.models.log import *\n",
    "from cy_procedure.util.logger import *\n",
    "connect_db_env(db_name='log')\n",
    "recorder = PersistenceRecorder('f476e8e4-5bc4-4521-ad6d-f73f9364b313', MessageType.WeChatWork, LogType.FEE)\n",
    "recorder.append_summary_log('123')\n",
    "recorder.append_summary_log('234')\n",
    "recorder.record_summary_log('123')\n",
    "recorder.append_summary_log('123')\n",
    "recorder.append_summary_log('234')\n",
    "recorder.record_summary_log('123')\n",
    "# list(LogInfo.objects.raw({'fetched': False}).order_by([('create', 1)]))\n",
    "LogInfo.grouped_unfetched_logs()"
   ]
  },
  {
   "cell_type": "code",
   "execution_count": 15,
   "metadata": {
    "tags": []
   },
   "outputs": [],
   "source": [
    "from cy_data_access.models.log import *\n",
    "from cy_components.utils.notifier import *\n",
    "connect_db_env(db_name='log')\n",
    "logs = LogInfo.grouped_unfetched_logs()\n",
    "def read_log(log) -> str:\n",
    "    log.fetched = True\n",
    "    log.save()\n",
    "    return log.log\n",
    "for typed_logs in logs:\n",
    "    formatted = '\\n # ---------------- \\n'.join(map(read_log, typed_logs))\n",
    "    MessageHandler.send_message(formatted, 'Logs', MessageType.WeChatWork, 'f476e8e4-5bc4-4521-ad6d-f73f9364b313')\n"
   ]
  },
  {
   "cell_type": "code",
   "execution_count": 3,
   "metadata": {},
   "outputs": [],
   "source": [
    "# Reduce\n",
    "import pytz\n",
    "import time\n",
    "import traceback\n",
    "import json\n",
    "from random import randrange\n",
    "from datetime import datetime, timedelta\n",
    "from multiprocessing.pool import Pool\n",
    "from cy_components.defines.enums import *\n",
    "from cy_widgets.exchange.provider import *\n",
    "from cy_widgets.strategy.neutral import *\n",
    "from cy_data_access.models.quant import *\n",
    "from cy_data_access.models.config import *\n",
    "from cy_data_access.models.market import *\n",
    "from cy_data_access.models.position import *\n",
    "\n",
    "# ccxt 初始化\n",
    "ccxt_provider = CCXTProvider('', '',\n",
    " ExchangeType.Binance, {\n",
    "    'defaultType': 'future'\n",
    "})"
   ]
  },
  {
   "cell_type": "code",
   "execution_count": 6,
   "metadata": {},
   "outputs": [],
   "source": [
    "exg = ccxt_provider.ccxt_object_for_query\n",
    "from cy_procedure.subject.exchange.binance import *\n",
    "handler = BinanceHandler(ccxt_provider)\n",
    "symbol_list_with_sep = handler.all_usdt_swap_symbols()\n",
    "symbol_list = list(map(lambda x: x.replace(\"/\", ''), symbol_list_with_sep))"
   ]
  },
  {
   "cell_type": "code",
   "execution_count": 9,
   "metadata": {},
   "outputs": [
    {
     "output_type": "execute_result",
     "data": {
      "text/plain": [
       "[{'XLMUSDT': 97.0,\n",
       "  'SUSHIUSDT': 1.0,\n",
       "  'STORJUSDT': 94.0,\n",
       "  'FTMUSDT': -224.0,\n",
       "  'ALPHAUSDT': -19.0}]"
      ]
     },
     "metadata": {},
     "execution_count": 9
    }
   ],
   "source": [
    "symbol_info = handler.update_symbol_info(symbol_list)\n",
    "symbol_holding_list = list(json.loads(symbol_info[symbol_info['当前持仓量'] != 0].to_json()).values())\n",
    "symbol_holding_list"
   ]
  },
  {
   "cell_type": "code",
   "execution_count": null,
   "metadata": {},
   "outputs": [],
   "source": []
  }
 ]
}