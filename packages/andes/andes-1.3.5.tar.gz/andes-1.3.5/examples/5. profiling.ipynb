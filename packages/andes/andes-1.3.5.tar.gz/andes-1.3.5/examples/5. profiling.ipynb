{
 "cells": [
  {
   "cell_type": "markdown",
   "metadata": {},
   "source": [
    "# Profiling ANDES in Notebook"
   ]
  },
  {
   "cell_type": "markdown",
   "metadata": {},
   "source": [
    "## Profiling with Python CProfiler"
   ]
  },
  {
   "cell_type": "markdown",
   "metadata": {},
   "source": [
    "Before getting started, this example requires the config flag `PFlow.init_tds` to be `0`, which is the default value."
   ]
  },
  {
   "cell_type": "code",
   "execution_count": 1,
   "metadata": {
    "ExecuteTime": {
     "end_time": "2021-03-18T00:45:01.143169Z",
     "start_time": "2021-03-18T00:45:00.625170Z"
    }
   },
   "outputs": [],
   "source": [
    "import andes\n",
    "from andes.utils.paths import get_case\n",
    "\n",
    "case_path = get_case('kundur/kundur_full.xlsx')"
   ]
  },
  {
   "cell_type": "markdown",
   "metadata": {},
   "source": [
    "Passing `profile=True, no_output = True` to `run` will enable the profiler and have the results printed."
   ]
  },
  {
   "cell_type": "code",
   "execution_count": 2,
   "metadata": {
    "ExecuteTime": {
     "end_time": "2021-03-18T00:45:04.746020Z",
     "start_time": "2021-03-18T00:45:01.145480Z"
    }
   },
   "outputs": [
    {
     "name": "stderr",
     "output_type": "stream",
     "text": [
      "Working directory: \"/home/hcui7/repos/andes/examples\"\n",
      "Loaded config from file \"/home/hcui7/.andes/andes.rc\"\n",
      "Using generated Python code.\n",
      "Parsing input file \"/home/hcui7/repos/andes/andes/cases/kundur/kundur_full.xlsx\"...\n",
      "Input file parsed in 0.7120 seconds.\n",
      "System internal structure set up in 0.0396 seconds.\n",
      "-> System connectivity check results:\n",
      "  No islanded bus detected.\n",
      "  No islanded areas detected.\n",
      "  Each island has a slack bus correctly defined and enabled.\n",
      "\n",
      "-> Power flow calculation\n",
      "   Sparse solver: KLU\n",
      " Solution method: NR method\n",
      " Sparse addition: Fast in-place (kvxopt)\n",
      "Power flow initialized.\n",
      "0: |F(x)| = 14.9282832\n",
      "1: |F(x)| = 3.608627841\n",
      "2: |F(x)| = 0.1701107882\n",
      "3: |F(x)| = 0.002038626956\n",
      "4: |F(x)| = 3.745103977e-07\n",
      "Converged in 5 iterations in 0.0170 seconds.\n",
      "\n",
      "-> Time Domain Simulation Summary:\n",
      "Sparse Solver: KLU\n",
      "Simulation time: 0-20.0 s.\n",
      "Fixed step size: h=33.33 ms. Shrink if not converged.\n",
      "Initialization for dynamics was successful in 0.0391 seconds.\n"
     ]
    },
    {
     "name": "stdout",
     "output_type": "stream",
     "text": [
      "<Toggler 1>: Line.Line_8 status changed to 0 at t=2.0 sec.            \n",
      "100%|████████████████████████████████| 100/100 [00:02<00:00, 41.20%/s]"
     ]
    },
    {
     "name": "stderr",
     "output_type": "stream",
     "text": [
      "Simulation completed in 2.4276 seconds.\n"
     ]
    },
    {
     "name": "stdout",
     "output_type": "stream",
     "text": [
      "\n"
     ]
    },
    {
     "name": "stderr",
     "output_type": "stream",
     "text": [
      "\n"
     ]
    },
    {
     "name": "stdout",
     "output_type": "stream",
     "text": [
      "         1816737 function calls (1802200 primitive calls) in 3.486 seconds\n",
      "\n",
      "   Ordered by: cumulative time\n",
      "   List reduced from 4477 to 40 due to restriction <40>\n",
      "\n",
      "   ncalls  tottime  percall  cumtime  percall filename:lineno(function)\n",
      "        1    0.013    0.013    2.486    2.486 /home/hcui7/repos/andes/andes/routines/tds.py:245(run)\n",
      "      603    0.175    0.000    2.367    0.004 /home/hcui7/repos/andes/andes/routines/tds.py:390(itm_step)\n",
      "     2322    0.016    0.000    1.834    0.001 /home/hcui7/repos/andes/andes/routines/tds.py:800(fg_update)\n",
      "    11669    0.134    0.000    1.684    0.000 /home/hcui7/repos/andes/andes/system.py:1490(call_models)\n",
      "     2327    0.003    0.000    1.022    0.000 /home/hcui7/repos/andes/andes/system.py:880(g_update)\n",
      "    23250    0.261    0.000    0.971    0.000 /home/hcui7/repos/andes/andes/core/model.py:1226(g_update)\n",
      "        1    0.000    0.000    0.967    0.967 /home/hcui7/repos/andes/andes/main.py:264(load)\n",
      "        1    0.000    0.000    0.713    0.713 /home/hcui7/repos/andes/andes/io/__init__.py:97(parse)\n",
      "        1    0.000    0.000    0.710    0.710 /home/hcui7/repos/andes/andes/io/xlsx.py:87(read)\n",
      "   793/94    0.004    0.000    0.638    0.007 <frozen importlib._bootstrap>:986(_find_and_load)\n",
      "   739/41    0.004    0.000    0.635    0.015 <frozen importlib._bootstrap>:956(_find_and_load_unlocked)\n",
      "   707/30    0.004    0.000    0.629    0.021 <frozen importlib._bootstrap>:650(_load_unlocked)\n",
      "   633/30    0.002    0.000    0.628    0.021 <frozen importlib._bootstrap_external>:777(exec_module)\n",
      "   651/31    0.002    0.000    0.624    0.020 {built-in method builtins.exec}\n",
      "   933/31    0.001    0.000    0.622    0.020 <frozen importlib._bootstrap>:211(_call_with_frames_removed)\n",
      "        1    0.000    0.000    0.381    0.381 /home/hcui7/miniconda3/envs/a/lib/python3.8/site-packages/pandas/util/_decorators.py:283(wrapper)\n",
      "        1    0.000    0.000    0.381    0.381 /home/hcui7/miniconda3/envs/a/lib/python3.8/site-packages/pandas/io/excel/_base.py:273(read_excel)\n",
      "    80/79    0.000    0.000    0.328    0.004 /home/hcui7/miniconda3/envs/a/lib/python3.8/importlib/__init__.py:109(import_module)\n",
      "    80/79    0.000    0.000    0.327    0.004 <frozen importlib._bootstrap>:1002(_gcd_import)\n",
      "        1    0.000    0.000    0.284    0.284 /home/hcui7/miniconda3/envs/a/lib/python3.8/site-packages/pandas/io/excel/_base.py:847(__init__)\n",
      "        1    0.000    0.000    0.284    0.284 /home/hcui7/miniconda3/envs/a/lib/python3.8/site-packages/pandas/io/excel/_openpyxl.py:470(__init__)\n",
      "        3    0.000    0.000    0.281    0.094 /home/hcui7/repos/andes/andes/utils/lazyimport.py:61(__maybe_import__)\n",
      "        2    0.000    0.000    0.276    0.138 /home/hcui7/repos/andes/andes/utils/lazyimport.py:73(__getattr__)\n",
      "        1    0.000    0.000    0.275    0.275 /home/hcui7/miniconda3/envs/a/lib/python3.8/site-packages/pandas/__init__.py:3(<module>)\n",
      "     2327    0.003    0.000    0.266    0.000 /home/hcui7/repos/andes/andes/system.py:866(f_update)\n",
      "        3    0.000    0.000    0.252    0.084 /home/hcui7/miniconda3/envs/a/lib/python3.8/site-packages/pandas/compat/_optional.py:61(import_optional_dependency)\n",
      "        1    0.000    0.000    0.251    0.251 /home/hcui7/miniconda3/envs/a/lib/python3.8/site-packages/openpyxl/__init__.py:4(<module>)\n",
      "    23250    0.116    0.000    0.234    0.000 /home/hcui7/repos/andes/andes/core/model.py:1198(f_update)\n",
      "        1    0.000    0.000    0.222    0.222 /home/hcui7/miniconda3/envs/a/lib/python3.8/site-packages/openpyxl/workbook/__init__.py:4(<module>)\n",
      "        1    0.000    0.000    0.222    0.222 /home/hcui7/miniconda3/envs/a/lib/python3.8/site-packages/openpyxl/workbook/workbook.py:3(<module>)\n",
      "        1    0.000    0.000    0.204    0.204 /home/hcui7/miniconda3/envs/a/lib/python3.8/site-packages/pandas/core/api.py:3(<module>)\n",
      "     2322    0.187    0.000    0.187    0.000 /home/hcui7/.andes/pycode/GENROU.py:13(g_update)\n",
      "        1    0.000    0.000    0.183    0.183 /home/hcui7/repos/andes/andes/system.py:90(__init__)\n",
      "     2327    0.003    0.000    0.179    0.000 /home/hcui7/repos/andes/andes/system.py:822(l_update_eq)\n",
      "     2326    0.002    0.000    0.168    0.000 /home/hcui7/repos/andes/andes/core/solver.py:39(solve)\n",
      "     2326    0.016    0.000    0.166    0.000 /home/hcui7/repos/andes/andes/core/solver.py:161(solve)\n",
      "      633    0.006    0.000    0.165    0.000 <frozen importlib._bootstrap_external>:849(get_code)\n",
      "     2327    0.163    0.000    0.163    0.000 /home/hcui7/.andes/pycode/Line.py:11(g_update)\n",
      "     2327    0.006    0.000    0.159    0.000 /home/hcui7/repos/andes/andes/system.py:848(fg_to_dae)\n",
      "        1    0.000    0.000    0.155    0.155 /home/hcui7/miniconda3/envs/a/lib/python3.8/site-packages/pandas/core/groupby/__init__.py:1(<module>)\n",
      "\n",
      "\n",
      "-> Single process finished in 3.5878 seconds.\n"
     ]
    }
   ],
   "source": [
    "ss = andes.run(case_path, profile=True, routine='tds', no_output=True)"
   ]
  },
  {
   "cell_type": "markdown",
   "metadata": {},
   "source": [
    "## Profiling with `line_profiler`."
   ]
  },
  {
   "cell_type": "markdown",
   "metadata": {},
   "source": [
    "`line_profiler` provides line-based profiling results for functions. \n",
    "\n",
    "Install with `pip install line_profiler` and restart the notebook."
   ]
  },
  {
   "cell_type": "code",
   "execution_count": 3,
   "metadata": {
    "ExecuteTime": {
     "end_time": "2021-03-18T00:45:04.755264Z",
     "start_time": "2021-03-18T00:45:04.751789Z"
    }
   },
   "outputs": [],
   "source": [
    "import andes\n",
    "from andes.utils.paths import get_case\n",
    "\n",
    "case_path = get_case('kundur/kundur_full.xlsx')"
   ]
  },
  {
   "cell_type": "markdown",
   "metadata": {},
   "source": [
    "### Profile power flow "
   ]
  },
  {
   "cell_type": "markdown",
   "metadata": {},
   "source": [
    "Pass the function name to profile to the magic `%lprun`, followed by a call to the function itself or an upper-level function.\n",
    "\n",
    "Results will be shown in a popup window."
   ]
  },
  {
   "cell_type": "code",
   "execution_count": 4,
   "metadata": {
    "ExecuteTime": {
     "end_time": "2021-03-18T00:45:05.289558Z",
     "start_time": "2021-03-18T00:45:04.756814Z"
    }
   },
   "outputs": [
    {
     "name": "stderr",
     "output_type": "stream",
     "text": [
      "Working directory: \"/home/hcui7/repos/andes/examples\"\n",
      "Loaded config from file \"/home/hcui7/.andes/andes.rc\"\n",
      "Using generated Python code.\n",
      "Parsing input file \"/home/hcui7/repos/andes/andes/cases/kundur/kundur_full.xlsx\"...\n",
      "Input file parsed in 0.2207 seconds.\n",
      "System internal structure set up in 0.0554 seconds.\n",
      "-> System connectivity check results:\n",
      "  No islanded bus detected.\n",
      "  No islanded areas detected.\n",
      "  Each island has a slack bus correctly defined and enabled.\n",
      "\n",
      "-> Power flow calculation\n",
      "   Sparse solver: KLU\n",
      " Solution method: NR method\n",
      " Sparse addition: Fast in-place (kvxopt)\n",
      "Power flow initialized.\n",
      "0: |F(x)| = 14.9282832\n",
      "1: |F(x)| = 3.608627841\n",
      "2: |F(x)| = 0.1701107882\n",
      "3: |F(x)| = 0.002038626956\n",
      "4: |F(x)| = 3.745103977e-07\n",
      "Converged in 5 iterations in 0.0182 seconds.\n"
     ]
    },
    {
     "name": "stdout",
     "output_type": "stream",
     "text": [
      "-> Single process finished in 0.5178 seconds.\n"
     ]
    }
   ],
   "source": [
    "%load_ext line_profiler\n",
    "\n",
    "%lprun -f andes.routines.pflow.PFlow.run andes.run(case_path, no_output=True)"
   ]
  },
  {
   "cell_type": "markdown",
   "metadata": {},
   "source": [
    "Alternatively, do"
   ]
  },
  {
   "cell_type": "code",
   "execution_count": 5,
   "metadata": {
    "ExecuteTime": {
     "end_time": "2021-03-18T00:45:05.550955Z",
     "start_time": "2021-03-18T00:45:05.292174Z"
    }
   },
   "outputs": [
    {
     "name": "stderr",
     "output_type": "stream",
     "text": [
      "Working directory: \"/home/hcui7/repos/andes/examples\"\n",
      "Loaded config from file \"/home/hcui7/.andes/andes.rc\"\n",
      "Using generated Python code.\n",
      "Parsing input file \"/home/hcui7/repos/andes/andes/cases/kundur/kundur_full.xlsx\"...\n",
      "Input file parsed in 0.1026 seconds.\n",
      "System internal structure set up in 0.0302 seconds.\n",
      "-> System connectivity check results:\n",
      "  No islanded bus detected.\n",
      "  No islanded areas detected.\n",
      "  Each island has a slack bus correctly defined and enabled.\n",
      "\n",
      "-> Power flow calculation\n",
      "   Sparse solver: KLU\n",
      " Solution method: NR method\n",
      " Sparse addition: Fast in-place (kvxopt)\n",
      "Power flow initialized.\n",
      "0: |F(x)| = 14.9282832\n",
      "1: |F(x)| = 3.608627841\n",
      "2: |F(x)| = 0.1701107882\n",
      "3: |F(x)| = 0.002038626956\n",
      "4: |F(x)| = 3.745103977e-07\n",
      "Converged in 5 iterations in 0.0142 seconds.\n"
     ]
    },
    {
     "name": "stdout",
     "output_type": "stream",
     "text": [
      "-> Single process finished in 0.2524 seconds.\n"
     ]
    }
   ],
   "source": [
    "ss = andes.run(case_path, no_output=True)"
   ]
  },
  {
   "cell_type": "code",
   "execution_count": 6,
   "metadata": {
    "ExecuteTime": {
     "end_time": "2021-03-18T00:45:05.643255Z",
     "start_time": "2021-03-18T00:45:05.555237Z"
    }
   },
   "outputs": [
    {
     "name": "stderr",
     "output_type": "stream",
     "text": [
      "System internal structure set up in 0.0261 seconds.\n",
      "-> System connectivity check results:\n",
      "  No islanded bus detected.\n",
      "  No islanded areas detected.\n",
      "  Each island has a slack bus correctly defined and enabled.\n",
      "\n",
      "-> Power flow calculation\n",
      "   Sparse solver: KLU\n",
      " Solution method: NR method\n",
      " Sparse addition: Fast in-place (kvxopt)\n",
      "Power flow initialized.\n",
      "0: |F(x)| = 14.9282832\n",
      "1: |F(x)| = 3.608627841\n",
      "2: |F(x)| = 0.1701107882\n",
      "3: |F(x)| = 0.002038626956\n",
      "4: |F(x)| = 3.745103977e-07\n",
      "Converged in 5 iterations in 0.0181 seconds.\n"
     ]
    }
   ],
   "source": [
    "ss.reset()\n",
    "%lprun -f ss.PFlow.run ss.PFlow.run()"
   ]
  },
  {
   "cell_type": "markdown",
   "metadata": {},
   "source": [
    "To dig into the Newton Raphson iteration steps, profile each step instead with:"
   ]
  },
  {
   "cell_type": "code",
   "execution_count": 7,
   "metadata": {
    "ExecuteTime": {
     "end_time": "2021-03-18T00:45:05.736950Z",
     "start_time": "2021-03-18T00:45:05.648221Z"
    }
   },
   "outputs": [
    {
     "name": "stderr",
     "output_type": "stream",
     "text": [
      "System internal structure set up in 0.0258 seconds.\n",
      "-> System connectivity check results:\n",
      "  No islanded bus detected.\n",
      "  No islanded areas detected.\n",
      "  Each island has a slack bus correctly defined and enabled.\n",
      "\n",
      "-> Power flow calculation\n",
      "   Sparse solver: KLU\n",
      " Solution method: NR method\n",
      " Sparse addition: Fast in-place (kvxopt)\n",
      "Power flow initialized.\n",
      "0: |F(x)| = 14.9282832\n",
      "1: |F(x)| = 3.608627841\n",
      "2: |F(x)| = 0.1701107882\n",
      "3: |F(x)| = 0.002038626956\n",
      "4: |F(x)| = 3.745103977e-07\n",
      "Converged in 5 iterations in 0.0184 seconds.\n"
     ]
    }
   ],
   "source": [
    "ss.reset()\n",
    "%lprun -f ss.PFlow.nr_step ss.PFlow.run()"
   ]
  },
  {
   "cell_type": "markdown",
   "metadata": {},
   "source": [
    "### Profile time-domain simulation"
   ]
  },
  {
   "cell_type": "code",
   "execution_count": 8,
   "metadata": {
    "ExecuteTime": {
     "end_time": "2021-03-18T00:45:09.446492Z",
     "start_time": "2021-03-18T00:45:05.743150Z"
    }
   },
   "outputs": [
    {
     "name": "stderr",
     "output_type": "stream",
     "text": [
      "\n",
      "-> Time Domain Simulation Summary:\n",
      "Sparse Solver: KLU\n",
      "Simulation time: 0-20.0 s.\n",
      "Fixed step size: h=33.33 ms. Shrink if not converged.\n",
      "Initialization for dynamics was successful in 0.0637 seconds.\n"
     ]
    },
    {
     "name": "stdout",
     "output_type": "stream",
     "text": [
      "<Toggler 1>: Line.Line_8 status changed to 0 at t=2.0 sec.            \n",
      "100%|████████████████████████████████| 100/100 [00:03<00:00, 27.65%/s]"
     ]
    },
    {
     "name": "stderr",
     "output_type": "stream",
     "text": [
      "Simulation completed in 3.6174 seconds.\n"
     ]
    },
    {
     "name": "stdout",
     "output_type": "stream",
     "text": [
      "\n"
     ]
    }
   ],
   "source": [
    "%lprun -f ss.TDS.itm_step ss.TDS.run()"
   ]
  },
  {
   "cell_type": "markdown",
   "metadata": {},
   "source": [
    "## Cleanup"
   ]
  },
  {
   "cell_type": "code",
   "execution_count": 9,
   "metadata": {
    "ExecuteTime": {
     "end_time": "2021-03-18T00:45:10.807143Z",
     "start_time": "2021-03-18T00:45:09.448316Z"
    }
   },
   "outputs": [
    {
     "name": "stdout",
     "output_type": "stream",
     "text": [
      "\r\n",
      "    _           _         | Version 1.3.4.post6.dev0+g1cc8c20\r\n",
      "   /_\\  _ _  __| |___ ___ | Python 3.8.6 on Linux, 03/17/2021 08:45:10 PM\r\n",
      "  / _ \\| ' \\/ _` / -_|_-< | \r\n",
      " /_/ \\_\\_||_\\__,_\\___/__/ | This program comes with ABSOLUTELY NO WARRANTY.\r\n",
      "\r\n",
      "No output file found in the working directory.\r\n"
     ]
    }
   ],
   "source": [
    "!andes misc -C"
   ]
  }
 ],
 "metadata": {
  "kernelspec": {
   "display_name": "Python 3",
   "language": "python",
   "name": "python3"
  },
  "language_info": {
   "codemirror_mode": {
    "name": "ipython",
    "version": 3
   },
   "file_extension": ".py",
   "mimetype": "text/x-python",
   "name": "python",
   "nbconvert_exporter": "python",
   "pygments_lexer": "ipython3",
   "version": "3.8.6"
  },
  "varInspector": {
   "cols": {
    "lenName": 16,
    "lenType": 16,
    "lenVar": 40
   },
   "kernels_config": {
    "python": {
     "delete_cmd_postfix": "",
     "delete_cmd_prefix": "del ",
     "library": "var_list.py",
     "varRefreshCmd": "print(var_dic_list())"
    },
    "r": {
     "delete_cmd_postfix": ") ",
     "delete_cmd_prefix": "rm(",
     "library": "var_list.r",
     "varRefreshCmd": "cat(var_dic_list()) "
    }
   },
   "types_to_exclude": [
    "module",
    "function",
    "builtin_function_or_method",
    "instance",
    "_Feature"
   ],
   "window_display": false
  }
 },
 "nbformat": 4,
 "nbformat_minor": 4
}
