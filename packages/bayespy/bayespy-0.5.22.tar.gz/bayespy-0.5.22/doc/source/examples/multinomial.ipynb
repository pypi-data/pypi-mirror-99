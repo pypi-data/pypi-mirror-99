{
 "cells": [
  {
   "cell_type": "code",
   "execution_count": 1,
   "metadata": {
    "collapsed": false,
    "nbsphinx": "hidden"
   },
   "outputs": [],
   "source": [
    "# Some setting up stuff. This cell is hidden from the Sphinx-rendered documentation.\n",
    "%load_ext tikzmagic\n",
    "%matplotlib inline\n",
    "%config InlineBackend.figure_format = 'png'\n",
    "np.random.seed(42)"
   ]
  },
  {
   "cell_type": "markdown",
   "metadata": {},
   "source": [
    "# Multinomial distribution: bags of marbles\n",
    "\n",
    "*Written by: Deebul Nair (2016)*\n",
    "\n",
    "*Edited by: Jaakko Luttinen (2016)*\n",
    "\n",
    "*Inspired by https://probmods.org/hierarchical-models.html*\n",
    "\n",
    "\n",
    "## Using multinomial distribution\n",
    "\n",
    "There are several bags of coloured marbles, each bag containing different amounts of each color. Marbles are drawn at random with replacement from the bags. The goal is to predict the distribution of the marbles in each bag.\n",
    "\n",
    "### Data generation\n",
    "\n",
    "Let us create a dataset. First, decide the number of bags, colors and trials (i.e., draws):"
   ]
  },
  {
   "cell_type": "code",
   "execution_count": 2,
   "metadata": {
    "collapsed": true
   },
   "outputs": [],
   "source": [
    "n_colors = 5  # number of possible colors\n",
    "n_bags = 3    # number of bags\n",
    "n_trials = 20 # number of draws from each bag"
   ]
  },
  {
   "cell_type": "markdown",
   "metadata": {},
   "source": [
    "Generate randomly a color distribution for each bag:"
   ]
  },
  {
   "cell_type": "code",
   "execution_count": 3,
   "metadata": {
    "collapsed": true
   },
   "outputs": [],
   "source": [
    "from bayespy import nodes\n",
    "import numpy as np\n",
    "\n",
    "p_colors = nodes.Dirichlet(n_colors * [0.5], plates=(n_bags,)).random()"
   ]
  },
  {
   "cell_type": "markdown",
   "metadata": {},
   "source": [
    "The concentration parameter $\\begin{bmatrix}0.5 & \\ldots & 0.5\\end{bmatrix}$ makes the distributions very non-uniform within each bag, that is, the amount of each color can be very different. We can visualize the probability distribution of the colors in each bag:"
   ]
  },
  {
   "cell_type": "code",
   "execution_count": 4,
   "metadata": {
    "collapsed": false
   },
   "outputs": [
    {
     "data": {
      "image/png": "[encoded data removed]",
      "text/plain": [
       "<matplotlib.figure.Figure at 0x7fc3cce61dd8>"
      ]
     },
     "metadata": {},
     "output_type": "display_data"
    }
   ],
   "source": [
    "import bayespy.plot as bpplt\n",
    "bpplt.hinton(p_colors)\n",
    "bpplt.pyplot.title(\"Original probability distributions of colors in the bags\");"
   ]
  },
  {
   "cell_type": "markdown",
   "metadata": {},
   "source": [
    "As one can see, the color distributions aren't very uniform in any of the bags because of the small concentration parameter. Next, make the ball draws:"
   ]
  },
  {
   "cell_type": "code",
   "execution_count": 5,
   "metadata": {
    "collapsed": false
   },
   "outputs": [
    {
     "name": "stdout",
     "output_type": "stream",
     "text": [
      "[[ 0  9  2  0  9]\n",
      " [ 0 18  0  0  2]\n",
      " [ 5  2  1  3  9]]\n"
     ]
    }
   ],
   "source": [
    "marbles = nodes.Multinomial(n_trials, p_colors).random()\n",
    "print(marbles)"
   ]
  },
  {
   "cell_type": "markdown",
   "metadata": {},
   "source": [
    "### Model\n",
    "\n",
    "We will use the same generative model for estimating the color distributions in the bags as we did for generating the data:\n",
    "$$\n",
    "\\theta_i \\sim \\mathrm{Dirichlet}\\left(\\begin{bmatrix} 0.5 & \\ldots & 0.5 \\end{bmatrix}\\right)\n",
    "$$\n",
    "\n",
    "$$\n",
    "y_i | \\theta_i \\sim \\mathrm{Multinomial}(\\theta_i)\n",
    "$$\n",
    "\n",
    "The simple graphical model can be drawn as below:"
   ]
  },
  {
   "cell_type": "code",
   "execution_count": 6,
   "metadata": {
    "collapsed": false
   },
   "outputs": [
    {
     "data": {
      "image/svg+xml": [
       "<svg height=\"240px\" version=\"1.1\" viewBox=\"0 0 35.2 103.53\" width=\"400px\" xmlns=\"http://www.w3.org/2000/svg\" xmlns:xlink=\"http://www.w3.org/1999/xlink\">\n",
       "<defs>\n",
       "<g>\n",
       "<symbol id=\"glyph0-0\" overflow=\"visible\">\n",
       "<path d=\"\" style=\"stroke:none;\"/>\n",
       "</symbol>\n",
       "<symbol id=\"glyph0-1\" overflow=\"visible\">\n",
       "<path d=\"M 4.53125 -4.984375 C 4.53125 -5.640625 4.359375 -7.03125 3.34375 -7.03125 C 1.953125 -7.03125 0.421875 -4.21875 0.421875 -1.9375 C 0.421875 -1 0.703125 0.109375 1.609375 0.109375 C 3.015625 0.109375 4.53125 -2.75 4.53125 -4.984375 Z M 1.46875 -3.625 C 1.640625 -4.25 1.84375 -5.046875 2.25 -5.765625 C 2.515625 -6.25 2.875 -6.8125 3.328125 -6.8125 C 3.8125 -6.8125 3.875 -6.171875 3.875 -5.609375 C 3.875 -5.109375 3.796875 -4.609375 3.5625 -3.625 Z M 3.46875 -3.296875 C 3.359375 -2.84375 3.15625 -2 2.765625 -1.28125 C 2.421875 -0.59375 2.046875 -0.109375 1.609375 -0.109375 C 1.28125 -0.109375 1.078125 -0.40625 1.078125 -1.328125 C 1.078125 -1.75 1.140625 -2.328125 1.390625 -3.296875 Z M 3.46875 -3.296875 \" style=\"stroke:none;\"/>\n",
       "</symbol>\n",
       "<symbol id=\"glyph0-2\" overflow=\"visible\">\n",
       "<path d=\"M 4.84375 -3.796875 C 4.890625 -3.9375 4.890625 -3.953125 4.890625 -4.03125 C 4.890625 -4.203125 4.75 -4.296875 4.59375 -4.296875 C 4.5 -4.296875 4.34375 -4.234375 4.25 -4.09375 C 4.234375 -4.03125 4.140625 -3.734375 4.109375 -3.546875 C 4.03125 -3.296875 3.96875 -3.015625 3.90625 -2.75 L 3.453125 -0.953125 C 3.421875 -0.8125 2.984375 -0.109375 2.328125 -0.109375 C 1.828125 -0.109375 1.71875 -0.546875 1.71875 -0.921875 C 1.71875 -1.375 1.890625 -2 2.21875 -2.875 C 2.375 -3.28125 2.421875 -3.390625 2.421875 -3.59375 C 2.421875 -4.03125 2.109375 -4.40625 1.609375 -4.40625 C 0.65625 -4.40625 0.296875 -2.953125 0.296875 -2.875 C 0.296875 -2.765625 0.390625 -2.765625 0.40625 -2.765625 C 0.515625 -2.765625 0.515625 -2.796875 0.5625 -2.953125 C 0.84375 -3.890625 1.234375 -4.1875 1.578125 -4.1875 C 1.65625 -4.1875 1.828125 -4.1875 1.828125 -3.875 C 1.828125 -3.625 1.71875 -3.359375 1.65625 -3.171875 C 1.25 -2.109375 1.078125 -1.546875 1.078125 -1.078125 C 1.078125 -0.1875 1.703125 0.109375 2.296875 0.109375 C 2.6875 0.109375 3.015625 -0.0625 3.296875 -0.34375 C 3.171875 0.171875 3.046875 0.671875 2.65625 1.203125 C 2.390625 1.53125 2.015625 1.828125 1.5625 1.828125 C 1.421875 1.828125 0.96875 1.796875 0.796875 1.40625 C 0.953125 1.40625 1.09375 1.40625 1.21875 1.28125 C 1.328125 1.203125 1.421875 1.0625 1.421875 0.875 C 1.421875 0.5625 1.15625 0.53125 1.0625 0.53125 C 0.828125 0.53125 0.5 0.6875 0.5 1.171875 C 0.5 1.671875 0.9375 2.046875 1.5625 2.046875 C 2.578125 2.046875 3.609375 1.140625 3.890625 0.015625 Z M 4.84375 -3.796875 \" style=\"stroke:none;\"/>\n",
       "</symbol>\n",
       "<symbol id=\"glyph1-0\" overflow=\"visible\">\n",
       "<path d=\"\" style=\"stroke:none;\"/>\n",
       "</symbol>\n",
       "<symbol id=\"glyph1-1\" overflow=\"visible\">\n",
       "<path d=\"M 1.484375 -3.171875 L 2.671875 -3.171875 L 2.671875 -3.4375 L 1.484375 -3.4375 L 1.484375 -4.90625 L 1.234375 -4.90625 C 1.234375 -4.171875 0.90625 -3.421875 0.15625 -3.390625 L 0.15625 -3.171875 L 0.875 -3.171875 L 0.875 -1 C 0.875 -0.0625 1.59375 0.078125 1.953125 0.078125 C 2.5 0.078125 2.8125 -0.390625 2.8125 -1 L 2.8125 -1.4375 L 2.5625 -1.4375 L 2.5625 -1.015625 C 2.5625 -0.46875 2.3125 -0.171875 2.015625 -0.171875 C 1.484375 -0.171875 1.484375 -0.859375 1.484375 -0.984375 Z M 1.484375 -3.171875 \" style=\"stroke:none;\"/>\n",
       "</symbol>\n",
       "<symbol id=\"glyph1-2\" overflow=\"visible\">\n",
       "<path d=\"M 1.46875 -1.8125 C 1.46875 -2.421875 1.71875 -3.28125 2.484375 -3.296875 C 2.4375 -3.265625 2.34375 -3.203125 2.34375 -3.015625 C 2.34375 -2.765625 2.546875 -2.65625 2.703125 -2.65625 C 2.890625 -2.65625 3.0625 -2.78125 3.0625 -3.015625 C 3.0625 -3.296875 2.8125 -3.515625 2.453125 -3.515625 C 1.9375 -3.515625 1.578125 -3.125 1.421875 -2.671875 L 1.40625 -2.671875 L 1.40625 -3.515625 L 0.28125 -3.421875 L 0.28125 -3.15625 C 0.828125 -3.15625 0.890625 -3.109375 0.890625 -2.71875 L 0.890625 -0.625 C 0.890625 -0.265625 0.78125 -0.265625 0.28125 -0.265625 L 0.28125 0 C 0.59375 -0.03125 1.03125 -0.03125 1.21875 -0.03125 C 1.6875 -0.03125 1.703125 -0.03125 2.21875 0 L 2.21875 -0.265625 L 2.0625 -0.265625 C 1.484375 -0.265625 1.46875 -0.34375 1.46875 -0.640625 Z M 1.46875 -1.8125 \" style=\"stroke:none;\"/>\n",
       "</symbol>\n",
       "<symbol id=\"glyph1-3\" overflow=\"visible\">\n",
       "<path d=\"M 1.546875 -4.90625 C 1.546875 -5.140625 1.375 -5.359375 1.109375 -5.359375 C 0.875 -5.359375 0.671875 -5.171875 0.671875 -4.921875 C 0.671875 -4.640625 0.90625 -4.46875 1.109375 -4.46875 C 1.390625 -4.46875 1.546875 -4.703125 1.546875 -4.90625 Z M 0.359375 -3.421875 L 0.359375 -3.15625 C 0.875 -3.15625 0.9375 -3.109375 0.9375 -2.71875 L 0.9375 -0.625 C 0.9375 -0.265625 0.84375 -0.265625 0.328125 -0.265625 L 0.328125 0 C 0.640625 -0.03125 1.09375 -0.03125 1.21875 -0.03125 C 1.3125 -0.03125 1.796875 -0.03125 2.078125 0 L 2.078125 -0.265625 C 1.546875 -0.265625 1.515625 -0.296875 1.515625 -0.609375 L 1.515625 -3.515625 Z M 0.359375 -3.421875 \" style=\"stroke:none;\"/>\n",
       "</symbol>\n",
       "<symbol id=\"glyph1-4\" overflow=\"visible\">\n",
       "<path d=\"M 3.34375 -2.375 C 3.34375 -3.15625 2.59375 -3.546875 1.859375 -3.546875 C 1.203125 -3.546875 0.609375 -3.296875 0.609375 -2.765625 C 0.609375 -2.53125 0.78125 -2.390625 0.984375 -2.390625 C 1.21875 -2.390625 1.359375 -2.546875 1.359375 -2.765625 C 1.359375 -2.953125 1.25 -3.09375 1.0625 -3.125 C 1.359375 -3.328125 1.796875 -3.328125 1.84375 -3.328125 C 2.296875 -3.328125 2.734375 -3.015625 2.734375 -2.359375 L 2.734375 -2.125 C 2.28125 -2.09375 1.75 -2.078125 1.1875 -1.84375 C 0.484375 -1.53125 0.34375 -1.078125 0.34375 -0.8125 C 0.34375 -0.125 1.15625 0.078125 1.703125 0.078125 C 2.28125 0.078125 2.640625 -0.25 2.828125 -0.5625 C 2.859375 -0.265625 3.0625 0.046875 3.421875 0.046875 C 3.5 0.046875 4.171875 0.015625 4.171875 -0.71875 L 4.171875 -1.15625 L 3.921875 -1.15625 L 3.921875 -0.71875 C 3.921875 -0.390625 3.8125 -0.265625 3.640625 -0.265625 C 3.34375 -0.265625 3.34375 -0.625 3.34375 -0.71875 Z M 2.734375 -1.125 C 2.734375 -0.34375 2.09375 -0.140625 1.765625 -0.140625 C 1.359375 -0.140625 1 -0.421875 1 -0.8125 C 1 -1.328125 1.5 -1.875 2.734375 -1.90625 Z M 2.734375 -1.125 \" style=\"stroke:none;\"/>\n",
       "</symbol>\n",
       "<symbol id=\"glyph1-5\" overflow=\"visible\">\n",
       "<path d=\"M 1.515625 -5.53125 L 0.328125 -5.4375 L 0.328125 -5.171875 C 0.875 -5.171875 0.9375 -5.125 0.9375 -4.734375 L 0.9375 -0.625 C 0.9375 -0.265625 0.84375 -0.265625 0.328125 -0.265625 L 0.328125 0 C 0.640625 -0.03125 1.09375 -0.03125 1.234375 -0.03125 C 1.390625 -0.03125 1.8125 -0.03125 2.125 0 L 2.125 -0.265625 C 1.625 -0.265625 1.515625 -0.265625 1.515625 -0.625 Z M 1.515625 -5.53125 \" style=\"stroke:none;\"/>\n",
       "</symbol>\n",
       "<symbol id=\"glyph1-6\" overflow=\"visible\">\n",
       "<path d=\"M 2.84375 -3.34375 C 2.84375 -3.46875 2.84375 -3.546875 2.734375 -3.546875 C 2.6875 -3.546875 2.671875 -3.546875 2.546875 -3.421875 C 2.53125 -3.421875 2.453125 -3.34375 2.4375 -3.34375 C 2.421875 -3.34375 2.40625 -3.34375 2.359375 -3.375 C 2.234375 -3.46875 2 -3.546875 1.640625 -3.546875 C 0.53125 -3.546875 0.28125 -2.953125 0.28125 -2.5625 C 0.28125 -2.171875 0.578125 -1.9375 0.59375 -1.90625 C 0.921875 -1.671875 1.09375 -1.640625 1.640625 -1.546875 C 2.015625 -1.46875 2.625 -1.359375 2.625 -0.828125 C 2.625 -0.515625 2.421875 -0.140625 1.6875 -0.140625 C 0.875 -0.140625 0.640625 -0.765625 0.546875 -1.1875 C 0.515625 -1.296875 0.5 -1.328125 0.40625 -1.328125 C 0.28125 -1.328125 0.28125 -1.265625 0.28125 -1.109375 L 0.28125 -0.125 C 0.28125 0 0.28125 0.078125 0.375 0.078125 C 0.4375 0.078125 0.4375 0.078125 0.578125 -0.078125 C 0.625 -0.125 0.703125 -0.21875 0.75 -0.265625 C 1.109375 0.0625 1.484375 0.078125 1.6875 0.078125 C 2.703125 0.078125 3.046875 -0.5 3.046875 -1.03125 C 3.046875 -1.40625 2.828125 -1.96875 1.875 -2.140625 C 1.8125 -2.15625 1.359375 -2.234375 1.328125 -2.234375 C 1.078125 -2.296875 0.703125 -2.46875 0.703125 -2.78125 C 0.703125 -3.015625 0.890625 -3.359375 1.640625 -3.359375 C 2.53125 -3.359375 2.578125 -2.703125 2.59375 -2.484375 C 2.59375 -2.421875 2.65625 -2.390625 2.703125 -2.390625 C 2.84375 -2.390625 2.84375 -2.453125 2.84375 -2.59375 Z M 2.84375 -3.34375 \" style=\"stroke:none;\"/>\n",
       "</symbol>\n",
       "<symbol id=\"glyph1-7\" overflow=\"visible\">\n",
       "<path d=\"M 1.46875 -5.53125 L 0.28125 -5.4375 L 0.28125 -5.171875 C 0.828125 -5.171875 0.890625 -5.125 0.890625 -4.734375 L 0.890625 0 L 1.125 0 L 1.421875 -0.5 C 1.609375 -0.21875 1.984375 0.078125 2.53125 0.078125 C 3.53125 0.078125 4.421875 -0.703125 4.421875 -1.71875 C 4.421875 -2.71875 3.59375 -3.515625 2.625 -3.515625 C 1.984375 -3.515625 1.609375 -3.171875 1.46875 -3.03125 Z M 1.484375 -2.515625 C 1.484375 -2.671875 1.484375 -2.6875 1.609375 -2.828125 C 1.84375 -3.125 2.21875 -3.296875 2.578125 -3.296875 C 2.984375 -3.296875 3.296875 -3.046875 3.453125 -2.8125 C 3.59375 -2.59375 3.703125 -2.3125 3.703125 -1.734375 C 3.703125 -1.546875 3.703125 -0.984375 3.421875 -0.609375 C 3.125 -0.25 2.75 -0.140625 2.5 -0.140625 C 2.109375 -0.140625 1.796875 -0.34375 1.578125 -0.65625 C 1.484375 -0.8125 1.484375 -0.8125 1.484375 -0.96875 Z M 1.484375 -2.515625 \" style=\"stroke:none;\"/>\n",
       "</symbol>\n",
       "<symbol id=\"glyph1-8\" overflow=\"visible\">\n",
       "<path d=\"M 1.375 -0.546875 C 1.125 -0.578125 0.9375 -0.78125 0.9375 -1.078125 C 0.9375 -1.265625 0.984375 -1.34375 1.03125 -1.40625 C 1.375 -1.21875 1.6875 -1.171875 1.875 -1.171875 C 2.65625 -1.171875 3.25 -1.71875 3.25 -2.34375 C 3.25 -2.640625 3.109375 -2.90625 2.921875 -3.109375 C 3.03125 -3.203125 3.296875 -3.375 3.6875 -3.375 C 3.65625 -3.359375 3.609375 -3.3125 3.609375 -3.1875 C 3.609375 -3.046875 3.71875 -2.9375 3.859375 -2.9375 C 3.96875 -2.9375 4.109375 -3.015625 4.109375 -3.203125 C 4.109375 -3.328125 4 -3.609375 3.65625 -3.609375 C 3.515625 -3.609375 3.125 -3.5625 2.765625 -3.234375 C 2.5625 -3.375 2.25 -3.515625 1.875 -3.515625 C 1.09375 -3.515625 0.515625 -2.96875 0.515625 -2.34375 C 0.515625 -1.96875 0.71875 -1.6875 0.890625 -1.53125 C 0.703125 -1.328125 0.640625 -1.078125 0.640625 -0.890625 C 0.640625 -0.5625 0.8125 -0.3125 0.984375 -0.171875 C 0.5625 -0.0625 0.234375 0.25 0.234375 0.609375 C 0.234375 1.1875 1.0625 1.640625 2.109375 1.640625 C 3.109375 1.640625 3.984375 1.234375 3.984375 0.59375 C 3.984375 0.171875 3.734375 -0.171875 3.46875 -0.296875 C 3 -0.546875 2.609375 -0.546875 1.828125 -0.546875 Z M 1.875 -1.40625 C 1.140625 -1.40625 1.140625 -2.171875 1.140625 -2.34375 C 1.140625 -2.640625 1.171875 -2.84375 1.296875 -3 C 1.4375 -3.1875 1.65625 -3.28125 1.875 -3.28125 C 2.609375 -3.28125 2.609375 -2.515625 2.609375 -2.34375 C 2.609375 -2.046875 2.578125 -1.84375 2.453125 -1.6875 C 2.28125 -1.453125 2.03125 -1.40625 1.875 -1.40625 Z M 2.25 -0.03125 C 2.46875 -0.03125 3.515625 -0.03125 3.515625 0.609375 C 3.515625 1.03125 2.90625 1.40625 2.109375 1.40625 C 1.3125 1.40625 0.703125 1.03125 0.703125 0.609375 C 0.703125 0.4375 0.84375 -0.03125 1.484375 -0.03125 Z M 2.25 -0.03125 \" style=\"stroke:none;\"/>\n",
       "</symbol>\n",
       "</g>\n",
       "<clipPath id=\"clip1\">\n",
       "  <path d=\"M 0 43 L 35.199219 43 L 35.199219 93 L 0 93 Z M 0 43 \"/>\n",
       "</clipPath>\n",
       "<clipPath id=\"clip2\">\n",
       "  <path d=\"M 0 0 L 35.199219 0 L 35.199219 103.53125 L 0 103.53125 Z M 0 0 \"/>\n",
       "</clipPath>\n",
       "</defs>\n",
       "<g id=\"surface1\">\n",
       "<path d=\"M 9.9625 -0.0018125 C 9.9625 5.502094 5.501562 9.963031 0.0015625 9.963031 C -5.502344 9.963031 -9.963281 5.502094 -9.963281 -0.0018125 C -9.963281 -5.501812 -5.502344 -9.96275 0.0015625 -9.96275 C 5.501562 -9.96275 9.9625 -5.501812 9.9625 -0.0018125 Z M 9.9625 -0.0018125 \" style=\"fill-rule:nonzero;fill:rgb(100%,100%,100%);fill-opacity:1;stroke-width:0.3985;stroke-linecap:butt;stroke-linejoin:miter;stroke:rgb(0%,0%,0%);stroke-opacity:1;stroke-miterlimit:10;\" transform=\"matrix(1,0,0,-1,17.6,13.881)\"/>\n",
       "<g style=\"fill:rgb(0%,0%,0%);fill-opacity:1;\">\n",
       "  <use x=\"15.123\" xlink:href=\"#glyph0-1\" y=\"17.34\"/>\n",
       "</g>\n",
       "<path d=\"M 9.9625 -48.669781 C 9.9625 -43.169781 5.501562 -38.708844 0.0015625 -38.708844 C -5.502344 -38.708844 -9.963281 -43.169781 -9.963281 -48.669781 C -9.963281 -54.173687 -5.502344 -58.634625 0.0015625 -58.634625 C 5.501562 -58.634625 9.9625 -54.173687 9.9625 -48.669781 Z M 9.9625 -48.669781 \" style=\"fill-rule:nonzero;fill:rgb(87.5%,87.5%,87.5%);fill-opacity:1;stroke-width:0.3985;stroke-linecap:butt;stroke-linejoin:miter;stroke:rgb(0%,0%,0%);stroke-opacity:1;stroke-miterlimit:10;\" transform=\"matrix(1,0,0,-1,17.6,13.881)\"/>\n",
       "<g style=\"fill:rgb(0%,0%,0%);fill-opacity:1;\">\n",
       "  <use x=\"14.979\" xlink:href=\"#glyph0-2\" y=\"63.727\"/>\n",
       "</g>\n",
       "<path d=\"M 0.0015625 -10.161969 L 0.0015625 -37.701031 \" style=\"fill:none;stroke-width:0.3985;stroke-linecap:butt;stroke-linejoin:miter;stroke:rgb(0%,0%,0%);stroke-opacity:1;stroke-miterlimit:10;\" transform=\"matrix(1,0,0,-1,17.6,13.881)\"/>\n",
       "<path d=\"M -5.201964 2.3375 L 0.298036 0.0015625 L -5.201964 -2.334375 Z M -5.201964 2.3375 \" style=\"fill-rule:nonzero;fill:rgb(0%,0%,0%);fill-opacity:1;stroke-width:0.3985;stroke-linecap:butt;stroke-linejoin:miter;stroke:rgb(0%,0%,0%);stroke-opacity:1;stroke-miterlimit:10;\" transform=\"matrix(0,1,1,0,17.6,51.58087)\"/>\n",
       "<g style=\"fill:rgb(0%,0%,0%);fill-opacity:1;\">\n",
       "  <use x=\"8.889\" xlink:href=\"#glyph1-1\" y=\"83.628\"/>\n",
       "  <use x=\"12.182245\" xlink:href=\"#glyph1-2\" y=\"83.628\"/>\n",
       "  <use x=\"15.482664\" xlink:href=\"#glyph1-3\" y=\"83.628\"/>\n",
       "  <use x=\"17.83464\" xlink:href=\"#glyph1-4\" y=\"83.628\"/>\n",
       "  <use x=\"22.069154\" xlink:href=\"#glyph1-5\" y=\"83.628\"/>\n",
       "  <use x=\"24.421131\" xlink:href=\"#glyph1-6\" y=\"83.628\"/>\n",
       "</g>\n",
       "<g clip-path=\"url(#clip1)\" clip-rule=\"nonzero\">\n",
       "<path d=\"M 9.696875 -34.990094 L -9.697656 -34.990094 C -11.896875 -34.990094 -13.682031 -36.771344 -13.682031 -38.974469 L -13.682031 -69.283062 C -13.682031 -71.482281 -11.896875 -73.267437 -9.697656 -73.267437 L 9.696875 -73.267437 C 11.896094 -73.267437 13.68125 -71.482281 13.68125 -69.283062 L 13.68125 -38.974469 C 13.68125 -36.771344 11.896094 -34.990094 9.696875 -34.990094 Z M 9.696875 -34.990094 \" style=\"fill:none;stroke-width:0.3985;stroke-linecap:butt;stroke-linejoin:miter;stroke:rgb(0%,0%,0%);stroke-opacity:1;stroke-miterlimit:10;\" transform=\"matrix(1,0,0,-1,17.6,13.881)\"/>\n",
       "</g>\n",
       "<g style=\"fill:rgb(0%,0%,0%);fill-opacity:1;\">\n",
       "  <use x=\"14.968\" xlink:href=\"#glyph1-7\" y=\"98.261\"/>\n",
       "  <use x=\"19.67275\" xlink:href=\"#glyph1-4\" y=\"98.261\"/>\n",
       "  <use x=\"23.907264\" xlink:href=\"#glyph1-8\" y=\"98.261\"/>\n",
       "  <use x=\"28.141778\" xlink:href=\"#glyph1-6\" y=\"98.261\"/>\n",
       "</g>\n",
       "<g clip-path=\"url(#clip2)\" clip-rule=\"nonzero\">\n",
       "<path d=\"M 13.415625 13.681781 L -13.416406 13.681781 C -15.615625 13.681781 -17.400781 11.896625 -17.400781 9.697406 L -17.400781 -85.466656 C -17.400781 -87.665875 -15.615625 -89.451031 -13.416406 -89.451031 L 13.415625 -89.451031 C 15.614844 -89.451031 17.4 -87.665875 17.4 -85.466656 L 17.4 9.697406 C 17.4 11.896625 15.614844 13.681781 13.415625 13.681781 Z M 13.415625 13.681781 \" style=\"fill:none;stroke-width:0.3985;stroke-linecap:butt;stroke-linejoin:miter;stroke:rgb(0%,0%,0%);stroke-opacity:1;stroke-miterlimit:10;\" transform=\"matrix(1,0,0,-1,17.6,13.881)\"/>\n",
       "</g>\n",
       "</g>\n",
       "</svg>"
      ]
     },
     "metadata": {
      "isolated": "true"
     },
     "output_type": "display_data"
    }
   ],
   "source": [
    "%%tikz -f svg\n",
    "\\usetikzlibrary{bayesnet}\n",
    "\\node [latent] (theta) {$\\theta$};\n",
    "\\node [below=of theta, obs] (y) {$y$};\n",
    "\\edge {theta} {y};\n",
    "\\plate {trials} {(y)} {trials};\n",
    "\\plate {bags} {(theta)(y)(trials)} {bags};"
   ]
  },
  {
   "cell_type": "markdown",
   "metadata": {},
   "source": [
    "The model is constructed equivalently to the generative model (except we don't use the nodes to draw random samples):"
   ]
  },
  {
   "cell_type": "code",
   "execution_count": 7,
   "metadata": {
    "collapsed": false
   },
   "outputs": [],
   "source": [
    "theta = nodes.Dirichlet(n_colors * [0.5], plates=(n_bags,))\n",
    "y = nodes.Multinomial(n_trials, theta)"
   ]
  },
  {
   "cell_type": "markdown",
   "metadata": {},
   "source": [
    "Data is provided by using the `observe` method:"
   ]
  },
  {
   "cell_type": "code",
   "execution_count": 8,
   "metadata": {
    "collapsed": false
   },
   "outputs": [],
   "source": [
    "y.observe(marbles)"
   ]
  },
  {
   "cell_type": "markdown",
   "metadata": {},
   "source": [
    "### Performing Inference"
   ]
  },
  {
   "cell_type": "code",
   "execution_count": 9,
   "metadata": {
    "collapsed": false
   },
   "outputs": [
    {
     "name": "stdout",
     "output_type": "stream",
     "text": [
      "Iteration 1: loglike=-2.617894e+01 (0.001 seconds)\n",
      "Iteration 2: loglike=-2.617894e+01 (0.001 seconds)\n",
      "Converged at iteration 2.\n"
     ]
    }
   ],
   "source": [
    "from bayespy.inference import VB\n",
    "Q = VB(y, theta)\n",
    "Q.update(repeat=1000)"
   ]
  },
  {
   "cell_type": "code",
   "execution_count": 10,
   "metadata": {
    "collapsed": false
   },
   "outputs": [
    {
     "data": {
      "image/png": "[encoded data removed]",
      "text/plain": [
       "<matplotlib.figure.Figure at 0x7fc39b4161d0>"
      ]
     },
     "metadata": {},
     "output_type": "display_data"
    }
   ],
   "source": [
    "import bayespy.plot as bpplt\n",
    "bpplt.hinton(theta)\n",
    "bpplt.pyplot.title(\"Learned distribution of colors\")\n",
    "bpplt.pyplot.show()"
   ]
  },
  {
   "cell_type": "markdown",
   "metadata": {},
   "source": [
    "## Using categorical Distribution\n",
    "\n",
    "The same problem can be solved with categorical distirbution. Categorical distribution is similar to the Multinomical distribution expect for the output it produces.\n",
    "\n",
    "Multinomial and Categorical infer the number of colors from the size of the probability vector (p_theta)\n",
    "Categorical data is in a form where the value tells the index of the color that was picked in a trial. so if n_colors=5, Categorical data could be [4, 4, 0, 1, 1, 2, 4] if the number of trials was 7. \n",
    "\n",
    "multinomial data is such that you have a vector where each element tells how many times that color was picked, for instance, [3, 0, 4] if you have 7 trials.\n",
    "\n",
    "So there is significant difference in Multinomial and Categorical data . Depending on the data you have the choice of the Distribution has to be made.\n",
    "\n",
    "Now we can see an example of Hierarchical model usign categorical data generator and model"
   ]
  },
  {
   "cell_type": "code",
   "execution_count": 11,
   "metadata": {
    "collapsed": false
   },
   "outputs": [],
   "source": [
    "from bayespy import nodes\n",
    "import numpy as np\n",
    "\n",
    "#The marbles drawn based on the distribution for 10 trials\n",
    "# Using same p_color distribution as in the above example\n",
    "draw_marbles = nodes.Categorical(p_colors,\n",
    "                                 plates=(n_trials, n_bags)).random()"
   ]
  },
  {
   "cell_type": "markdown",
   "metadata": {},
   "source": [
    "### Model"
   ]
  },
  {
   "cell_type": "code",
   "execution_count": 12,
   "metadata": {
    "collapsed": false
   },
   "outputs": [],
   "source": [
    "from bayespy import nodes\n",
    "import numpy as np\n",
    "\n",
    "p_theta = nodes.Dirichlet(np.ones(n_colors),\n",
    "                          plates=(n_bags,),\n",
    "                          name='p_theta')\n",
    "\n",
    "bag_model = nodes.Categorical(p_theta,\n",
    "                        plates=(n_trials, n_bags),\n",
    "                        name='bag_model')"
   ]
  },
  {
   "cell_type": "markdown",
   "metadata": {},
   "source": [
    "### Inference"
   ]
  },
  {
   "cell_type": "code",
   "execution_count": 13,
   "metadata": {
    "collapsed": true
   },
   "outputs": [],
   "source": [
    "bag_model.observe(draw_marbles)"
   ]
  },
  {
   "cell_type": "code",
   "execution_count": 14,
   "metadata": {
    "collapsed": true
   },
   "outputs": [],
   "source": [
    "from bayespy.inference import VB\n",
    "Q = VB(bag_model, p_theta)"
   ]
  },
  {
   "cell_type": "code",
   "execution_count": 15,
   "metadata": {
    "collapsed": false
   },
   "outputs": [
    {
     "name": "stdout",
     "output_type": "stream",
     "text": [
      "Iteration 1: loglike=-6.595923e+01 (0.001 seconds)\n",
      "Iteration 2: loglike=-6.595923e+01 (0.001 seconds)\n",
      "Converged at iteration 2.\n"
     ]
    }
   ],
   "source": [
    "Q.update(repeat=1000)"
   ]
  },
  {
   "cell_type": "code",
   "execution_count": 16,
   "metadata": {
    "collapsed": false
   },
   "outputs": [
    {
     "data": {
      "image/png": "[encoded data removed]",
      "text/plain": [
       "<matplotlib.figure.Figure at 0x7fc3b84d46a0>"
      ]
     },
     "metadata": {},
     "output_type": "display_data"
    }
   ],
   "source": [
    "%matplotlib inline\n",
    "import bayespy.plot as bpplt\n",
    "bpplt.hinton(p_theta)\n",
    "bpplt.pyplot.tight_layout()\n",
    "bpplt.pyplot.title(\"Learned Distribution of colors using Categorical Distribution\")\n",
    "bpplt.pyplot.show()"
   ]
  }
 ],
 "metadata": {
  "celltoolbar": "Edit Metadata",
  "kernelspec": {
   "display_name": "Python 3",
   "language": "python",
   "name": "python3"
  },
  "language_info": {
   "codemirror_mode": {
    "name": "ipython",
    "version": 3
   },
   "file_extension": ".py",
   "mimetype": "text/x-python",
   "name": "python",
   "nbconvert_exporter": "python",
   "pygments_lexer": "ipython3",
   "version": "3.5.1"
  }
 },
 "nbformat": 4,
 "nbformat_minor": 0
}
