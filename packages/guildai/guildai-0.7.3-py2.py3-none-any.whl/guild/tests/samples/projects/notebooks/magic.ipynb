{
 "cells": [
  {
   "cell_type": "code",
   "execution_count": 1,
   "metadata": {},
   "outputs": [
    {
     "name": "stdout",
     "output_type": "stream",
     "text": [
      "3\n"
     ]
    }
   ],
   "source": [
    "%alias_magic chdir cd\n",
    "x = 1\n",
    "y = 2\n",
    "%chdir /tmp\n",
    "!echo \"cwd is `pwd`\"\n",
    "%env USER\n",
    "z = x + y\n",
    "print(\"z = %s\" % z)\n"
   ]
  }
 ],
 "metadata": {
  "kernelspec": {
   "display_name": "Python",
   "language": "python",
   "name": "python"
  }
 },
 "nbformat": 4,
 "nbformat_minor": 4

}