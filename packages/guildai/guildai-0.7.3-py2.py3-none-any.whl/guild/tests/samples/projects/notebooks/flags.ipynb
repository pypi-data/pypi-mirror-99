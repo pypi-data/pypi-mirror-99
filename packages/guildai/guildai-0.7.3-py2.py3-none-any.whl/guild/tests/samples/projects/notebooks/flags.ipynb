{
 "cells": [
  {
   "cell_type": "code",
   "execution_count": 1,
   "metadata": {},
   "outputs": [
    {
     "name": "stdout",
     "output_type": "stream",
     "text": [
      "z: 3\n"
     ]
    }
   ],
   "source": [
    "x = 1\n",
    "y = 2\n",
    "z = x + y\n",
    "print(\"z: %s\" % z)"
   ]
  },
  {
   "cell_type": "code",
   "execution_count": 2,
   "metadata": {},
   "outputs": [
    {
     "name": "stdout",
     "output_type": "stream",
     "text": [
      "c: 1.200000\n"
     ]
    }
   ],
   "source": [
    "a = 1.1; b = 2.2\n",
    "c = b - a\n",
    "print(\"c: %f\" % c)"
   ]
  },
  {
   "cell_type": "code",
   "execution_count": 3,
   "metadata": {},
   "outputs": [
    {
     "name": "stdout",
     "output_type": "stream",
     "text": [
      "hello\n"
     ]
    }
   ],
   "source": [
    "f = True\n",
    "s = \"hello\"\n",
    "\n",
    "if f:\n",
    "    print(s)"
   ]
  }
 ],
 "metadata": {
 },
 "nbformat": 4,
 "nbformat_minor": 4
}
