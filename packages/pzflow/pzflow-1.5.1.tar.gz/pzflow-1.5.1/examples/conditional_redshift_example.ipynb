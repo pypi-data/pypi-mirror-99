{
 "cells": [
  {
   "cell_type": "markdown",
   "metadata": {},
   "source": [
    "[![Open In Colab](https://colab.research.google.com/assets/colab-badge.svg)](https://colab.research.google.com/github/jfcrenshaw/pzflow/blob/main/examples/conditional_redshift_example.ipynb)\n",
    "\n",
    "If running in Colab, to switch to GPU, go to the menu and select Runtime -> Change runtime type -> Hardware accelerator -> GPU.\n",
    "\n",
    "In addition, uncomment and run the following code:"
   ]
  },
  {
   "cell_type": "code",
   "execution_count": 1,
   "metadata": {},
   "outputs": [],
   "source": [
    "# !pip install pzflow"
   ]
  },
  {
   "cell_type": "markdown",
   "metadata": {},
   "source": [
    "-------------------\n",
    "## Redshift example\n",
    "\n",
    "This notebook uses the same data as the [redshift example](https://github.com/jfcrenshaw/pzflow/blob/main/examples/redshift_example.ipynb), but this time, instead of modeling the full 7-dimensional probability distribution, we will model the distribution of redshifts, conditioned on the magnitudes.\n",
    "\n",
    "Note that this just a basic 1-dimensional example, but it is also possible to condition a high-dimesional distribution on multiple variables. For example, you might build the 7-dimensional flow from the [redshift example](https://github.com/jfcrenshaw/pzflow/blob/main/examples/redshift_example.ipynb), but condition the flow on right ascension and declination."
   ]
  },
  {
   "cell_type": "code",
   "execution_count": 1,
   "metadata": {},
   "outputs": [],
   "source": [
    "import jax.numpy as np\n",
    "import matplotlib.pyplot as plt\n",
    "\n",
    "import pzflow\n",
    "from pzflow import Flow\n",
    "from pzflow.bijectors import Chain, ColorTransform, InvSoftplus, StandardScaler, RollingSplineCoupling\n",
    "from pzflow.examples import galaxy_data\n",
    "\n",
    "import pandas as pd"
   ]
  },
  {
   "cell_type": "markdown",
   "metadata": {},
   "source": [
    "First let's load the example galaxy data set included with `pzflow`.\n",
    "Remember that redshift correlates more closely with galaxy colors than magnitudes.\n",
    "In addition, since we are conditioning on the magnitudes, and thus are no longer interested in sampling magnitudes, we might as well pre-process them manually ahead of time.\n",
    "So let's go ahead and convert magnitudes -> colors, and standard scale them."
   ]
  },
  {
   "cell_type": "code",
   "execution_count": 2,
   "metadata": {},
   "outputs": [
    {
     "name": "stderr",
     "output_type": "stream",
     "text": [
      "WARNING:absl:No GPU/TPU found, falling back to CPU. (Set TF_CPP_MIN_LOG_LEVEL=0 and rerun for more info.)\n"
     ]
    },
    {
     "data": {
      "text/html": [
       "<div>\n",
       "<style scoped>\n",
       "    .dataframe tbody tr th:only-of-type {\n",
       "        vertical-align: middle;\n",
       "    }\n",
       "\n",
       "    .dataframe tbody tr th {\n",
       "        vertical-align: top;\n",
       "    }\n",
       "\n",
       "    .dataframe thead th {\n",
       "        text-align: right;\n",
       "    }\n",
       "</style>\n",
       "<table border=\"1\" class=\"dataframe\">\n",
       "  <thead>\n",
       "    <tr style=\"text-align: right;\">\n",
       "      <th></th>\n",
       "      <th>redshift</th>\n",
       "      <th>r</th>\n",
       "      <th>u-g</th>\n",
       "      <th>g-r</th>\n",
       "      <th>r-i</th>\n",
       "      <th>i-z</th>\n",
       "      <th>z-y</th>\n",
       "    </tr>\n",
       "  </thead>\n",
       "  <tbody>\n",
       "    <tr>\n",
       "      <th>0</th>\n",
       "      <td>0.287087</td>\n",
       "      <td>-0.204713</td>\n",
       "      <td>-0.335140</td>\n",
       "      <td>-0.035100</td>\n",
       "      <td>0.891672</td>\n",
       "      <td>0.749128</td>\n",
       "      <td>0.962413</td>\n",
       "    </tr>\n",
       "    <tr>\n",
       "      <th>1</th>\n",
       "      <td>0.293313</td>\n",
       "      <td>0.346369</td>\n",
       "      <td>-0.103081</td>\n",
       "      <td>-0.003756</td>\n",
       "      <td>0.822518</td>\n",
       "      <td>0.822235</td>\n",
       "      <td>0.769646</td>\n",
       "    </tr>\n",
       "    <tr>\n",
       "      <th>2</th>\n",
       "      <td>1.497276</td>\n",
       "      <td>-0.021582</td>\n",
       "      <td>-1.122173</td>\n",
       "      <td>0.215340</td>\n",
       "      <td>-1.450653</td>\n",
       "      <td>-0.778491</td>\n",
       "      <td>-2.016388</td>\n",
       "    </tr>\n",
       "    <tr>\n",
       "      <th>3</th>\n",
       "      <td>0.283310</td>\n",
       "      <td>-0.615268</td>\n",
       "      <td>-2.504182</td>\n",
       "      <td>-2.582308</td>\n",
       "      <td>-1.088626</td>\n",
       "      <td>-0.520154</td>\n",
       "      <td>-0.434608</td>\n",
       "    </tr>\n",
       "    <tr>\n",
       "      <th>4</th>\n",
       "      <td>1.545183</td>\n",
       "      <td>1.293190</td>\n",
       "      <td>-1.491507</td>\n",
       "      <td>0.409676</td>\n",
       "      <td>-0.814479</td>\n",
       "      <td>-0.407160</td>\n",
       "      <td>-2.005630</td>\n",
       "    </tr>\n",
       "  </tbody>\n",
       "</table>\n",
       "</div>"
      ],
      "text/plain": [
       "   redshift         r       u-g       g-r       r-i       i-z       z-y\n",
       "0  0.287087 -0.204713 -0.335140 -0.035100  0.891672  0.749128  0.962413\n",
       "1  0.293313  0.346369 -0.103081 -0.003756  0.822518  0.822235  0.769646\n",
       "2  1.497276 -0.021582 -1.122173  0.215340 -1.450653 -0.778491 -2.016388\n",
       "3  0.283310 -0.615268 -2.504182 -2.582308 -1.088626 -0.520154 -0.434608\n",
       "4  1.545183  1.293190 -1.491507  0.409676 -0.814479 -0.407160 -2.005630"
      ]
     },
     "execution_count": 2,
     "metadata": {},
     "output_type": "execute_result"
    }
   ],
   "source": [
    "# load the galaxy data\n",
    "data = galaxy_data()\n",
    "\n",
    "# convert magnitudes to a reference magnitude and colors\n",
    "data = data.values\n",
    "data[:,1], data[:, 2:] = data[:, 3], np.diff(data[:,1:])\n",
    "\n",
    "# standard scale the reference magnitude and colors\n",
    "data[:, 1:] = (data[:, 1:] - data[:, 1:].mean(axis=0))/data[:, 1:].std(axis=0)\n",
    "\n",
    "# save the new set\n",
    "data = pd.DataFrame(data, columns=('redshift','r','u-g','g-r','r-i','i-z','z-y'))\n",
    "data.head()"
   ]
  },
  {
   "cell_type": "markdown",
   "metadata": {},
   "source": [
    "Now we must construct the bijector. \n",
    "It will be very similar to the bijector from the [redshift example](https://github.com/jfcrenshaw/pzflow/blob/main/examples/redshift_example.ipynb). \n",
    "\n",
    "To understand why this bijector is different you have to understand the difference between data variables (i.e. redshift) and conditional variables (i.e. the colors).\n",
    "The data variables are the variables that are subject to the bijector, which is conditioned on the conditional variables.\n",
    "In this flow, we will draw a single latent variable from a univariate Gaussian, apply the bijection, conditioned on the colors, to that single variable, and as a result, we will get a redshift.\n",
    "The bijection is conditioned on the galaxy colors, but the galaxy colors do not have the bijection applied to them.\n",
    "In other words:\n",
    "$$ \\sigma \\sim \\mathcal{N}(0,1) \\quad \\text{and} \\quad \\text{redshift} = f(\\sigma| \\, r, u-g, g-r, r-i, i-z, z-y).$$\n",
    "\n",
    "For this reason, we will no longer use the Color Transform, since the colors will not be in the bijector chain (this is why we pre-processed them above).\n",
    "We will keep the Inverse Softlus, because we still want positive redshifts, and we will keep the Standard Scaler to standard scale our redshifts.\n",
    "\n",
    "Since we are only transforming one variable, let's only use a single layer of the Rolling Spline Coupling.\n",
    "However, there is one very important change we must make!\n",
    "We must set `n_conditions = 6`, because we are conditioning on 6 variables (i.e. r, u-g, g-r, r-i, i-z, and z-y)"
   ]
  },
  {
   "cell_type": "code",
   "execution_count": 3,
   "metadata": {},
   "outputs": [],
   "source": [
    "# set the inverse softplus parameters, \n",
    "# to ensure that sampled redshifts are positive\n",
    "column_idx = 0\n",
    "sharpness = 10\n",
    "\n",
    "# calculate the mean and standard deviations of the dimensions\n",
    "# note that on this side of the color transform, we are working\n",
    "# in color space, so I calculate the mean and std dev of these \n",
    "# variables instead of the raw magnitudes\n",
    "means = data['redshift'].mean()\n",
    "stds = data['redshift'].std()\n",
    "\n",
    "# construct our bijector\n",
    "# by chaining all these layers\n",
    "bijector = Chain(\n",
    "    InvSoftplus(column_idx, sharpness),\n",
    "    StandardScaler(means, stds),\n",
    "    RollingSplineCoupling(nlayers=1, n_conditions=6),\n",
    ")"
   ]
  },
  {
   "cell_type": "markdown",
   "metadata": {},
   "source": [
    "Now we instantiate the Flow.\n",
    "This is identical to before, except now we must differentiate between `data_columns` and `conditional_columns`."
   ]
  },
  {
   "cell_type": "code",
   "execution_count": 4,
   "metadata": {},
   "outputs": [],
   "source": [
    "# To create the conditional flow, we have to provide\n",
    "# 1. The names of the data columns\n",
    "# 2. The bijector\n",
    "# 3. The names of the conditional columns\n",
    "flow = Flow(data.columns[:1], bijector, conditional_columns=data.columns[1:])"
   ]
  },
  {
   "cell_type": "markdown",
   "metadata": {},
   "source": [
    "Now we can train our normalizing flow in the exact same way as before."
   ]
  },
  {
   "cell_type": "code",
   "execution_count": 5,
   "metadata": {},
   "outputs": [
    {
     "name": "stdout",
     "output_type": "stream",
     "text": [
      "Training 125 epochs \n",
      "Loss:\n",
      "0.9213\n",
      "-1.2498\n",
      "-2.2741\n",
      "-2.6219\n",
      "-3.0483\n",
      "-3.1402\n",
      "-3.0490\n",
      "-3.2637\n",
      "-3.3177\n",
      "-3.3865\n",
      "-3.2444\n",
      "-3.5068\n",
      "-3.4367\n",
      "-3.6267\n",
      "-3.5652\n",
      "-3.1779\n",
      "-3.6916\n",
      "-3.7325\n",
      "-3.4420\n",
      "-3.5544\n",
      "-3.6438\n",
      "-3.6793\n",
      "CPU times: user 12min, sys: 3min 55s, total: 15min 56s\n",
      "Wall time: 2min 50s\n"
     ]
    }
   ],
   "source": [
    "%%time\n",
    "losses = flow.train(data, epochs=125, verbose=True)"
   ]
  },
  {
   "cell_type": "markdown",
   "metadata": {},
   "source": [
    "Now let's plot the training losses to make sure everything looks like we expect it to..."
   ]
  },
  {
   "cell_type": "code",
   "execution_count": 6,
   "metadata": {},
   "outputs": [
    {
     "data": {
      "image/png": "[encoded data removed]",
      "text/plain": [
       "<Figure size 432x288 with 1 Axes>"
      ]
     },
     "metadata": {
      "needs_background": "light"
     },
     "output_type": "display_data"
    }
   ],
   "source": [
    "plt.plot(losses)\n",
    "plt.xlabel(\"Epoch\")\n",
    "plt.ylabel(\"Training loss\")\n",
    "plt.show()"
   ]
  },
  {
   "cell_type": "markdown",
   "metadata": {},
   "source": [
    "Great!\n",
    "\n",
    "You can use this conditional flow in essentially the same way as the non-conditional flows.\n",
    "For example, you can calculate posteriors:"
   ]
  },
  {
   "cell_type": "code",
   "execution_count": 7,
   "metadata": {},
   "outputs": [],
   "source": [
    "galaxy = data[:1]\n",
    "grid = np.arange(0, 2.02, 0.02)\n",
    "pdf = flow.posterior(galaxy, column=\"redshift\", grid=grid)"
   ]
  },
  {
   "cell_type": "code",
   "execution_count": 8,
   "metadata": {},
   "outputs": [
    {
     "data": {
      "image/png": "[encoded data removed]",
      "text/plain": [
       "<Figure size 432x288 with 1 Axes>"
      ]
     },
     "metadata": {
      "needs_background": "light"
     },
     "output_type": "display_data"
    }
   ],
   "source": [
    "plt.plot(grid, pdf[0], label='Posterior')\n",
    "plt.axvline(galaxy['redshift'][0], 0, 1, c='C3', label='True redshift')\n",
    "plt.legend()\n",
    "plt.xlabel(\"redshift\")\n",
    "plt.show()"
   ]
  },
  {
   "cell_type": "markdown",
   "metadata": {},
   "source": [
    "We can also sample from the flow, but the key difference is that now we must provide conditions on which to condition the samples. In addition, `nsamples` controls how many times each condition is sampled from. So for example, if we take the first 500 conditions in our data set, and set `nsamples = 4`, we will get 2000 samples."
   ]
  },
  {
   "cell_type": "code",
   "execution_count": 9,
   "metadata": {},
   "outputs": [],
   "source": [
    "# draw 4 samples for each of the first 500 conditions\n",
    "samples = flow.sample(4, conditions=data[:500], seed=0)"
   ]
  },
  {
   "cell_type": "code",
   "execution_count": 10,
   "metadata": {},
   "outputs": [
    {
     "data": {
      "text/html": [
       "<div>\n",
       "<style scoped>\n",
       "    .dataframe tbody tr th:only-of-type {\n",
       "        vertical-align: middle;\n",
       "    }\n",
       "\n",
       "    .dataframe tbody tr th {\n",
       "        vertical-align: top;\n",
       "    }\n",
       "\n",
       "    .dataframe thead th {\n",
       "        text-align: right;\n",
       "    }\n",
       "</style>\n",
       "<table border=\"1\" class=\"dataframe\">\n",
       "  <thead>\n",
       "    <tr style=\"text-align: right;\">\n",
       "      <th></th>\n",
       "      <th>redshift</th>\n",
       "      <th>r</th>\n",
       "      <th>u-g</th>\n",
       "      <th>g-r</th>\n",
       "      <th>r-i</th>\n",
       "      <th>i-z</th>\n",
       "      <th>z-y</th>\n",
       "    </tr>\n",
       "  </thead>\n",
       "  <tbody>\n",
       "    <tr>\n",
       "      <th>0</th>\n",
       "      <td>0.285751</td>\n",
       "      <td>-0.204713</td>\n",
       "      <td>-0.335140</td>\n",
       "      <td>-0.035100</td>\n",
       "      <td>0.891672</td>\n",
       "      <td>0.749128</td>\n",
       "      <td>0.962413</td>\n",
       "    </tr>\n",
       "    <tr>\n",
       "      <th>1</th>\n",
       "      <td>0.283755</td>\n",
       "      <td>-0.204713</td>\n",
       "      <td>-0.335140</td>\n",
       "      <td>-0.035100</td>\n",
       "      <td>0.891672</td>\n",
       "      <td>0.749128</td>\n",
       "      <td>0.962413</td>\n",
       "    </tr>\n",
       "    <tr>\n",
       "      <th>2</th>\n",
       "      <td>0.277247</td>\n",
       "      <td>-0.204713</td>\n",
       "      <td>-0.335140</td>\n",
       "      <td>-0.035100</td>\n",
       "      <td>0.891672</td>\n",
       "      <td>0.749128</td>\n",
       "      <td>0.962413</td>\n",
       "    </tr>\n",
       "    <tr>\n",
       "      <th>3</th>\n",
       "      <td>0.285560</td>\n",
       "      <td>-0.204713</td>\n",
       "      <td>-0.335140</td>\n",
       "      <td>-0.035100</td>\n",
       "      <td>0.891672</td>\n",
       "      <td>0.749128</td>\n",
       "      <td>0.962413</td>\n",
       "    </tr>\n",
       "    <tr>\n",
       "      <th>4</th>\n",
       "      <td>0.230417</td>\n",
       "      <td>0.346369</td>\n",
       "      <td>-0.103081</td>\n",
       "      <td>-0.003756</td>\n",
       "      <td>0.822518</td>\n",
       "      <td>0.822235</td>\n",
       "      <td>0.769646</td>\n",
       "    </tr>\n",
       "    <tr>\n",
       "      <th>5</th>\n",
       "      <td>0.306550</td>\n",
       "      <td>0.346369</td>\n",
       "      <td>-0.103081</td>\n",
       "      <td>-0.003756</td>\n",
       "      <td>0.822518</td>\n",
       "      <td>0.822235</td>\n",
       "      <td>0.769646</td>\n",
       "    </tr>\n",
       "    <tr>\n",
       "      <th>6</th>\n",
       "      <td>0.288597</td>\n",
       "      <td>0.346369</td>\n",
       "      <td>-0.103081</td>\n",
       "      <td>-0.003756</td>\n",
       "      <td>0.822518</td>\n",
       "      <td>0.822235</td>\n",
       "      <td>0.769646</td>\n",
       "    </tr>\n",
       "    <tr>\n",
       "      <th>7</th>\n",
       "      <td>0.291733</td>\n",
       "      <td>0.346369</td>\n",
       "      <td>-0.103081</td>\n",
       "      <td>-0.003756</td>\n",
       "      <td>0.822518</td>\n",
       "      <td>0.822235</td>\n",
       "      <td>0.769646</td>\n",
       "    </tr>\n",
       "    <tr>\n",
       "      <th>8</th>\n",
       "      <td>1.464280</td>\n",
       "      <td>-0.021582</td>\n",
       "      <td>-1.122173</td>\n",
       "      <td>0.215340</td>\n",
       "      <td>-1.450653</td>\n",
       "      <td>-0.778491</td>\n",
       "      <td>-2.016388</td>\n",
       "    </tr>\n",
       "    <tr>\n",
       "      <th>9</th>\n",
       "      <td>1.460822</td>\n",
       "      <td>-0.021582</td>\n",
       "      <td>-1.122173</td>\n",
       "      <td>0.215340</td>\n",
       "      <td>-1.450653</td>\n",
       "      <td>-0.778491</td>\n",
       "      <td>-2.016388</td>\n",
       "    </tr>\n",
       "  </tbody>\n",
       "</table>\n",
       "</div>"
      ],
      "text/plain": [
       "   redshift         r       u-g       g-r       r-i       i-z       z-y\n",
       "0  0.285751 -0.204713 -0.335140 -0.035100  0.891672  0.749128  0.962413\n",
       "1  0.283755 -0.204713 -0.335140 -0.035100  0.891672  0.749128  0.962413\n",
       "2  0.277247 -0.204713 -0.335140 -0.035100  0.891672  0.749128  0.962413\n",
       "3  0.285560 -0.204713 -0.335140 -0.035100  0.891672  0.749128  0.962413\n",
       "4  0.230417  0.346369 -0.103081 -0.003756  0.822518  0.822235  0.769646\n",
       "5  0.306550  0.346369 -0.103081 -0.003756  0.822518  0.822235  0.769646\n",
       "6  0.288597  0.346369 -0.103081 -0.003756  0.822518  0.822235  0.769646\n",
       "7  0.291733  0.346369 -0.103081 -0.003756  0.822518  0.822235  0.769646\n",
       "8  1.464280 -0.021582 -1.122173  0.215340 -1.450653 -0.778491 -2.016388\n",
       "9  1.460822 -0.021582 -1.122173  0.215340 -1.450653 -0.778491 -2.016388"
      ]
     },
     "execution_count": 10,
     "metadata": {},
     "output_type": "execute_result"
    }
   ],
   "source": [
    "# lets print the first 10\n",
    "# see how conditions 0-3 are the same?\n",
    "# and 4-7? etc.\n",
    "samples[:10]"
   ]
  },
  {
   "cell_type": "code",
   "execution_count": 11,
   "metadata": {},
   "outputs": [
    {
     "data": {
      "text/plain": [
       "(2000, 7)"
      ]
     },
     "execution_count": 11,
     "metadata": {},
     "output_type": "execute_result"
    }
   ],
   "source": [
    "# print the shape of the samples\n",
    "# see we have 2000 of them!\n",
    "samples.shape"
   ]
  },
  {
   "cell_type": "markdown",
   "metadata": {},
   "source": [
    "Let's draw one sample for each condition, to make sure that our samples match the data distribution"
   ]
  },
  {
   "cell_type": "code",
   "execution_count": 12,
   "metadata": {},
   "outputs": [],
   "source": [
    "samples = flow.sample(1, conditions=data, seed=0)"
   ]
  },
  {
   "cell_type": "code",
   "execution_count": 13,
   "metadata": {},
   "outputs": [
    {
     "data": {
      "image/png": "[encoded data removed]",
      "text/plain": [
       "<Figure size 432x288 with 1 Axes>"
      ]
     },
     "metadata": {
      "needs_background": "light"
     },
     "output_type": "display_data"
    }
   ],
   "source": [
    "plt.hist(data['redshift'], range=(0, 2.5), bins=40, histtype='step', label='data')\n",
    "plt.hist(samples['redshift'], range=(0, 2.5), bins=40, histtype='step', label='samples')\n",
    "plt.legend()\n",
    "plt.show()"
   ]
  },
  {
   "cell_type": "markdown",
   "metadata": {},
   "source": [
    "Perfect!"
   ]
  },
  {
   "cell_type": "code",
   "execution_count": null,
   "metadata": {},
   "outputs": [],
   "source": []
  }
 ],
 "metadata": {
  "kernelspec": {
   "display_name": "Python [conda env:.conda-pzflow]",
   "language": "python",
   "name": "conda-env-.conda-pzflow-py"
  },
  "language_info": {
   "codemirror_mode": {
    "name": "ipython",
    "version": 3
   },
   "file_extension": ".py",
   "mimetype": "text/x-python",
   "name": "python",
   "nbconvert_exporter": "python",
   "pygments_lexer": "ipython3",
   "version": "3.9.1"
  }
 },
 "nbformat": 4,
 "nbformat_minor": 4
}
