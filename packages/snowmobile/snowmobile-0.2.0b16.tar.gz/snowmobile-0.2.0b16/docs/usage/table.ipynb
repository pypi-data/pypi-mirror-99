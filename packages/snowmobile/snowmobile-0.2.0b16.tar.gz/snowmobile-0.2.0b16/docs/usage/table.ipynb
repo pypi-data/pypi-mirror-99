{
 "cells": [
  {
   "cell_type": "markdown",
   "metadata": {},
   "source": [
    "(usage/table)=\n",
    "# Table\n",
    "<hr class=\"sn-grey\">\n",
    "<a \n",
    "    class=\"sphinx-bs badge badge-primary text-white reference external sn-api sn-link-container2\" \n",
    "    href=\"../autoapi/snowmobile/core/table/index.html\" \n",
    "    title=\"API Documentation\">\n",
    "    <span>snowmobile.core.table</span>\n",
    "</a>\n",
    "\n",
    "{class}`~snowmobile.Table` is a data loading solution that at minimum accepts a\n",
    "[**Snowmobile**](./snowmobile.md) `sn`, a {class}`~pandas.DataFrame` {class}`df`,\n",
    "and a table name.\n",
    "\n",
    "The rest of its keyword arguments are mirrored in the\n",
    "**{ref}`[loading.default-table-kwargs]<loading.default-table-kwargs>`**\n",
    "section of [snowmobile.toml](./snowmobile_toml.md) and documented in\n",
    "[**the API Docs for Table**](../_build/autoapi/snowmobile/core/table/index.html).\n",
    "\n",
    "````{admonition} Note\n",
    ":class: note\n",
    "\n",
    "**Similarly to how** [**Snowmobile**](./snowmobile.md) **handles its keyword argument**\n",
    "`creds`**, {class}`~snowmobile.Table` will adhere to any arguments explicitly provided and defer\n",
    "to the values configured in [snowmobile.toml](./snowmobile_toml) otherwise.**\n",
    "\n",
    "The exact configuration that a given instance of {class}`~snowmobile.Table` will\n",
    "defer to is defined by the state of [**snowmobile.toml**](./snowmobile_toml)\n",
    "at the time the [**Snowmobile**](./snowmobile.md) {class}`sn` was instantiated,\n",
    "not at the time {class}`~snowmobile.Table` was instantiated;\n",
    "*also outlined in [**Snowmobile**](./snowmobile.md) description.*\n",
    "\n",
    "**The default behavior outlined below reflects those within the\n",
    "{ref}`[loading]<loading.parent>` section of the\n",
    "[default **snowmobile.toml** file](./snowmobile_toml.md#file-contents).**\n",
    "\n",
    "````\n",
    "\n",
    "<hr class=\"sn-grey\">"
   ]
  },
  {
   "cell_type": "markdown",
   "metadata": {},
   "source": [
    "```{admonition} TODO - UNFINISHED DOCS - ALL CONTENT BELOW THIS POINT SHOULD NOT BE REFERENCED\n",
    " :class: error\n",
    " The below content is in a sandbox state and should not be referenced for usage details of [](#table).\n",
    "```"
   ]
  },
  {
   "cell_type": "markdown",
   "metadata": {},
   "source": [
    "## Examples\n",
    "---"
   ]
  },
  {
   "cell_type": "markdown",
   "metadata": {},
   "source": [
    "#### *Setup*\n",
    "\n",
    "```{div} sn-pre-cell\n",
    "In the following examples, the variable **df** is reserved for the\n",
    "`df` created with:\n",
    "```"
   ]
  },
  {
   "cell_type": "code",
   "execution_count": 1,
   "metadata": {},
   "outputs": [
    {
     "data": {
      "text/html": [
       "<div>\n",
       "<style scoped>\n",
       "    .dataframe tbody tr th:only-of-type {\n",
       "        vertical-align: middle;\n",
       "    }\n",
       "\n",
       "    .dataframe tbody tr th {\n",
       "        vertical-align: top;\n",
       "    }\n",
       "\n",
       "    .dataframe thead th {\n",
       "        text-align: right;\n",
       "    }\n",
       "</style>\n",
       "<table border=\"1\" class=\"dataframe\">\n",
       "  <thead>\n",
       "    <tr style=\"text-align: right;\">\n",
       "      <th></th>\n",
       "      <th>col1</th>\n",
       "      <th>col2</th>\n",
       "      <th>col3</th>\n",
       "    </tr>\n",
       "  </thead>\n",
       "  <tbody>\n",
       "    <tr>\n",
       "      <th>0</th>\n",
       "      <td>eggs</td>\n",
       "      <td>beta</td>\n",
       "      <td>0</td>\n",
       "    </tr>\n",
       "    <tr>\n",
       "      <th>1</th>\n",
       "      <td>eggs</td>\n",
       "      <td>beta</td>\n",
       "      <td>1</td>\n",
       "    </tr>\n",
       "    <tr>\n",
       "      <th>2</th>\n",
       "      <td>eggs</td>\n",
       "      <td>beta</td>\n",
       "      <td>2</td>\n",
       "    </tr>\n",
       "    <tr>\n",
       "      <th>3</th>\n",
       "      <td>eggs</td>\n",
       "      <td>beta</td>\n",
       "      <td>3</td>\n",
       "    </tr>\n",
       "  </tbody>\n",
       "</table>\n",
       "</div>"
      ],
      "text/plain": [
       "   col1  col2  col3\n",
       "0  eggs  beta     0\n",
       "1  eggs  beta     1\n",
       "2  eggs  beta     2\n",
       "3  eggs  beta     3"
      ]
     },
     "execution_count": 1,
     "metadata": {},
     "output_type": "execute_result"
    }
   ],
   "source": [
    "\"\"\"Generates reproducible DataFrame for snowmobile.Table examples\"\"\"\n",
    "import datetime\n",
    "import pandas as pd\n",
    "import numpy as np\n",
    "\n",
    "from typing import List\n",
    "\n",
    "def rnp(c: List[str], seed: int = 1) -> str:\n",
    "    \"\"\"Returns a randomly chosen name within a list, c.\"\"\"\n",
    "    np.random.seed(seed)\n",
    "    return np.random.choice(c)\n",
    "\n",
    "\n",
    "data = {\n",
    "    'col1': [rnp(['spam', 'eggs', 'ham']) for _ in range(24)],\n",
    "    'col2': [rnp(['alpha', 'beta', 'gamma']) for _ in range(24)],\n",
    "    'col3': [i for i in range(24)],\n",
    "}\n",
    "\n",
    "df = pd.DataFrame(data=data)\n",
    "# print(df.shape)  #> (24, 3)\n",
    "df.head(4)\n",
    "\n",
    "# -- complete example; should run 'as is' --"
   ]
  },
  {
   "cell_type": "markdown",
   "metadata": {},
   "source": [
    "As is the variable **sn** for the `sn` created with:"
   ]
  },
  {
   "cell_type": "code",
   "execution_count": 5,
   "metadata": {},
   "outputs": [
    {
     "name": "stdout",
     "output_type": "stream",
     "text": [
      "Locating credentials...\n",
      "(1 of 2) Checking for cached path...\n",
      "(2 of 2) Cached path found at ../Snowmobile/snowmobile.toml\n",
      "..connected: snowmobile.Snowmobile(creds='default')\n"
     ]
    }
   ],
   "source": [
    "\"\"\"All snowmobile objects start with one of these\"\"\"\n",
    "import snowmobile\n",
    "\n",
    "sn = snowmobile.connect()"
   ]
  },
  {
   "cell_type": "code",
   "execution_count": 6,
   "metadata": {
    "tags": [
     "remove-cell"
    ]
   },
   "outputs": [
    {
     "data": {
      "text/html": [
       "<div>\n",
       "<style scoped>\n",
       "    .dataframe tbody tr th:only-of-type {\n",
       "        vertical-align: middle;\n",
       "    }\n",
       "\n",
       "    .dataframe tbody tr th {\n",
       "        vertical-align: top;\n",
       "    }\n",
       "\n",
       "    .dataframe thead th {\n",
       "        text-align: right;\n",
       "    }\n",
       "</style>\n",
       "<table border=\"1\" class=\"dataframe\">\n",
       "  <thead>\n",
       "    <tr style=\"text-align: right;\">\n",
       "      <th></th>\n",
       "      <th>status</th>\n",
       "    </tr>\n",
       "  </thead>\n",
       "  <tbody>\n",
       "    <tr>\n",
       "      <th>0</th>\n",
       "      <td>SAMPLE_TABLE successfully dropped.</td>\n",
       "    </tr>\n",
       "  </tbody>\n",
       "</table>\n",
       "</div>"
      ],
      "text/plain": [
       "                               status\n",
       "0  SAMPLE_TABLE successfully dropped."
      ]
     },
     "execution_count": 6,
     "metadata": {},
     "output_type": "execute_result"
    }
   ],
   "source": [
    "sn.sql.drop('sample_table')"
   ]
  },
  {
   "cell_type": "markdown",
   "metadata": {},
   "source": [
    "\\\n",
    "*If the state of either needs to be altered in order for a specific context to be reproducible,\n",
    "it will be explicitly documented and reset at the beginning of the following example.*"
   ]
  },
  {
   "cell_type": "markdown",
   "metadata": {},
   "source": [
    "### {class}`~pandas.DataFrame` to New Table\n",
    "<hr class=\"sn-green-thick\">\n",
    "\n",
    "Loads a {class}`~pandas.DataFrame` into a *sample_table* that hasn't been created yet; falling back\n",
    "to entirely default [snowmobile.toml](./snowmobile_toml.md) values."
   ]
  },
  {
   "cell_type": "code",
   "execution_count": 7,
   "metadata": {},
   "outputs": [
    {
     "name": "stdout",
     "output_type": "stream",
     "text": [
      "Loading into 'gem7318.SAMPLE_TABLE`..\n",
      "(1 of 4)\n",
      "\tCREATE OR REPLACE TABLE SAMPLE_TABLE ( ..\n",
      "(2 of 4)\n",
      "\tcreate stage SAMPLE_TABLE_stage file_format = snowmobile_default_psv;\n",
      "(3 of 4)\n",
      "\tput file://C:/Users/GEM7318/Documents/Github/Snowmobile/sample_table.csv @SAMPLE_TABLE_stage\n",
      "\tauto_compress = true\n",
      "(4 of 4)\n",
      "\tcopy into SAMPLE_TABLE from @SAMPLE_TABLE_stage\n",
      "\ton_error = continue\n",
      "..completed: 24 rows in 2 seconds\n"
     ]
    }
   ],
   "source": [
    "# We can load it like this\n",
    "t1 = snowmobile.Table(df=df, sn=sn, table='sample_table', as_is=True)"
   ]
  },
  {
   "cell_type": "markdown",
   "metadata": {
    "tags": [
     "remove-output"
    ]
   },
   "source": [
    "Here's some info about `t1` and *sample_table*:"
   ]
  },
  {
   "cell_type": "code",
   "execution_count": 8,
   "metadata": {
    "tags": [
     "remove-output"
    ]
   },
   "outputs": [
    {
     "name": "stdout",
     "output_type": "stream",
     "text": [
      "True\n",
      "True\n",
      "(24, 3)\n",
      "[24]\n"
     ]
    }
   ],
   "source": [
    "print(t1.loaded)                           #> True\n",
    "print(sn.sql.exists('sample_table'))       #> True\n",
    "\n",
    "print(t1.df.shape)                         #> (24,3)\n",
    "print(sn.sql.cnt_records('sample_table'))  #> [24]"
   ]
  },
  {
   "cell_type": "markdown",
   "metadata": {},
   "source": [
    "&nbsp;"
   ]
  },
  {
   "cell_type": "markdown",
   "metadata": {},
   "source": [
    "&nbsp;"
   ]
  },
  {
   "cell_type": "markdown",
   "metadata": {},
   "source": [
    "### {class}`~pandas.DataFrame` to Existing Table (valid for load)\n",
    "<hr class=\"sn-green-thick\">"
   ]
  },
  {
   "cell_type": "markdown",
   "metadata": {},
   "source": [
    "```{admonition}\n",
    "\n",
    "This example picks up where the above example left off.\n",
    "```\n",
    "\n",
    "Let's try it again but tell it to yell at us if the table already exists by providing `if_exists='fail'`:"
   ]
  },
  {
   "cell_type": "code",
   "execution_count": 9,
   "metadata": {},
   "outputs": [
    {
     "name": "stdout",
     "output_type": "stream",
     "text": [
      "`SAMPLE_TABLE` already exists and if_exists='fail' was provided;\n",
      "'replace', 'append', or 'truncate' required to continue load process with a pre-existing table.\n"
     ]
    }
   ],
   "source": [
    "from snowmobile.core.errors import ExistingTableError\n",
    "\n",
    "try:\n",
    "    _ = snowmobile.Table(\n",
    "        df=df,\n",
    "        sn=sn,\n",
    "        table='sample_table',\n",
    "        as_is=True,\n",
    "        if_exists='fail',\n",
    "    )\n",
    "except ExistingTableError as e:\n",
    "    print(e)"
   ]
  },
  {
   "cell_type": "markdown",
   "metadata": {},
   "source": [
    "```{admonition} TODO\n",
    ":class: error\n",
    "Finish from here down\n",
    "```"
   ]
  },
  {
   "cell_type": "code",
   "execution_count": 10,
   "metadata": {
    "tags": [
     "remove-cell"
    ]
   },
   "outputs": [
    {
     "data": {
      "text/html": [
       "<div>\n",
       "<style scoped>\n",
       "    .dataframe tbody tr th:only-of-type {\n",
       "        vertical-align: middle;\n",
       "    }\n",
       "\n",
       "    .dataframe tbody tr th {\n",
       "        vertical-align: top;\n",
       "    }\n",
       "\n",
       "    .dataframe thead th {\n",
       "        text-align: right;\n",
       "    }\n",
       "</style>\n",
       "<table border=\"1\" class=\"dataframe\">\n",
       "  <thead>\n",
       "    <tr style=\"text-align: right;\">\n",
       "      <th></th>\n",
       "      <th>col1</th>\n",
       "      <th>col2</th>\n",
       "      <th>col3</th>\n",
       "    </tr>\n",
       "  </thead>\n",
       "  <tbody>\n",
       "    <tr>\n",
       "      <th>0</th>\n",
       "      <td>eggs</td>\n",
       "      <td>beta</td>\n",
       "      <td>0</td>\n",
       "    </tr>\n",
       "    <tr>\n",
       "      <th>1</th>\n",
       "      <td>eggs</td>\n",
       "      <td>beta</td>\n",
       "      <td>1</td>\n",
       "    </tr>\n",
       "    <tr>\n",
       "      <th>2</th>\n",
       "      <td>eggs</td>\n",
       "      <td>beta</td>\n",
       "      <td>2</td>\n",
       "    </tr>\n",
       "  </tbody>\n",
       "</table>\n",
       "</div>"
      ],
      "text/plain": [
       "   col1  col2  col3\n",
       "0  eggs  beta     0\n",
       "1  eggs  beta     1\n",
       "2  eggs  beta     2"
      ]
     },
     "execution_count": 10,
     "metadata": {},
     "output_type": "execute_result"
    }
   ],
   "source": [
    "sn.sql.table_sample('sample_table', n=3)"
   ]
  },
  {
   "cell_type": "code",
   "execution_count": 11,
   "metadata": {
    "tags": [
     "remove-cell"
    ]
   },
   "outputs": [
    {
     "data": {
      "text/plain": [
       "[24]"
      ]
     },
     "execution_count": 11,
     "metadata": {},
     "output_type": "execute_result"
    }
   ],
   "source": [
    "sn.sql.cnt_records('sample_table')"
   ]
  },
  {
   "cell_type": "markdown",
   "metadata": {},
   "source": [
    "### {class}`~pandas.DataFrame` to Existing Table (invalid for load)\n",
    "<hr class=\"sn-green-thick\">"
   ]
  },
  {
   "cell_type": "code",
   "execution_count": 12,
   "metadata": {
    "tags": [
     "remove-cell"
    ]
   },
   "outputs": [
    {
     "ename": "NameError",
     "evalue": "name 'TESTING_TABLE_NAME' is not defined",
     "output_type": "error",
     "traceback": [
      "\u001b[1;31m---------------------------------------------------------------------------\u001b[0m",
      "\u001b[1;31mNameError\u001b[0m                                 Traceback (most recent call last)",
      "\u001b[1;32m<ipython-input-12-f841d251b24c>\u001b[0m in \u001b[0;36m<module>\u001b[1;34m\u001b[0m\n\u001b[0;32m     11\u001b[0m     snowmobile.Table(\n\u001b[0;32m     12\u001b[0m         \u001b[0msn\u001b[0m\u001b[1;33m=\u001b[0m\u001b[0msn\u001b[0m\u001b[1;33m,\u001b[0m\u001b[1;33m\u001b[0m\u001b[1;33m\u001b[0m\u001b[0m\n\u001b[1;32m---> 13\u001b[1;33m         \u001b[0mtable\u001b[0m\u001b[1;33m=\u001b[0m\u001b[0mTESTING_TABLE_NAME\u001b[0m\u001b[1;33m,\u001b[0m\u001b[1;33m\u001b[0m\u001b[1;33m\u001b[0m\u001b[0m\n\u001b[0m\u001b[0;32m     14\u001b[0m         \u001b[0mdf\u001b[0m\u001b[1;33m=\u001b[0m\u001b[0mdf\u001b[0m\u001b[1;33m,\u001b[0m\u001b[1;33m\u001b[0m\u001b[1;33m\u001b[0m\u001b[0m\n\u001b[0;32m     15\u001b[0m         \u001b[0mas_is\u001b[0m\u001b[1;33m=\u001b[0m\u001b[1;32mTrue\u001b[0m\u001b[1;33m,\u001b[0m\u001b[1;33m\u001b[0m\u001b[1;33m\u001b[0m\u001b[0m\n",
      "\u001b[1;31mNameError\u001b[0m: name 'TESTING_TABLE_NAME' is not defined"
     ]
    }
   ],
   "source": [
    "# print(t1.loaded)\n",
    "\n",
    "# t12 = snowmobile.Table(sn=sn, table=TESTING_TABLE_NAME, df=df).load()\n",
    "\n",
    "\n",
    "# Ex. 11 ----------------------------------------------------------------------\n",
    "\n",
    "from snowmobile.core.errors import ExistingTableError\n",
    "\n",
    "try:\n",
    "    snowmobile.Table(\n",
    "        sn=sn,\n",
    "        table=TESTING_TABLE_NAME,\n",
    "        df=df,\n",
    "        as_is=True,\n",
    "        if_exists='fail',\n",
    "    )\n",
    "except ExistingTableError as e:\n",
    "    print(e)\n",
    "\n",
    "\n",
    "# Ex. 2 -----------------------------------------------------------------------\n",
    "\n",
    "df2 = pd.concat([df, df], axis=1)\n",
    "\n",
    "t2 = snowmobile.Table(sn=sn, table=TESTING_TABLE_NAME, df=df2)\n",
    "t2.df.head()\n",
    "\n",
    "for c1, c2 in zip(df2.columns, t2.df.columns):\n",
    "    print(f\"df2.{c1} t2.df.{c2}\")\n",
    "\n",
    "from snowmobile.core.errors import ColumnMismatchError\n",
    "\n",
    "try:\n",
    "    t2.load(if_exists='append')\n",
    "except ColumnMismatchError as e:\n",
    "    print(e)\n",
    "\n",
    "\n",
    "# Ex. 22 ----------------------------------------------------------------------\n",
    "\n",
    "df22 = pd.concat([df, df], axis=1)\n",
    "\n",
    "\n",
    "t22 = snowmobile.Table(sn=sn, table=TESTING_TABLE_NAME, df=df22, check_dupes=False)\n",
    "t2.cols_match  #> False\n",
    "\n",
    "t22.load(if_exists='replace')\n",
    "\n",
    "from snowmobile.core.errors import ColumnMismatchError\n",
    "\n",
    "try:\n",
    "    t2.load(if_exists='append')\n",
    "except ColumnMismatchError as e:\n",
    "    print(e)\n",
    "\n",
    "\n",
    "# Ex. 3 -----------------------------------------------------------------------\n",
    "\n",
    "indices = list(range(1, 5))                   # [1, 2, 3, 4]\n",
    "idx_to_concat = rnp().random.choice(indices)  # 2\n",
    "dfs = {\n",
    "    i: df if i != idx_to_concat\n",
    "    else pd.concat([df, df], axis=1)\n",
    "    for i in indices\n",
    "}\n",
    "\n",
    "for i, df in dfs.items():\n",
    "    print(f\"{i}: {df.shape[0]}x{df.shape[1]}\")\n",
    "\n",
    "from typing import Dict\n",
    "\n",
    "tables: Dict[int, snowmobile.Table] = {\n",
    "    i: snowmobile.Table(\n",
    "        sn=sn,\n",
    "        table=TESTING_TABLE_NAME,\n",
    "        df=df,\n",
    "        as_is=True,\n",
    "        on_error='c',  # <-- suppresses & stores the exception that would be raised\n",
    "    )\n",
    "    for i, df in dfs.items()\n",
    "}\n",
    "\n",
    "for i, table in tables.items():\n",
    "    print(f\"({i}) loaded: {table.loaded}\")\n",
    "\n",
    "try:\n",
    "    raise tables[2].e.get(to_raise=True, last=True)\n",
    "except ColumnMismatchError as e:\n",
    "    print(e)\n",
    "\n",
    "# Ex. 2.1 ---------------------------------------------------------------------\n",
    "\n",
    "\n",
    "# Ex. 3 -----------------------------------------------------------------------\n",
    "\n",
    "sn.sql.exists(TESTING_TABLE_NAME)\n",
    "\n",
    "df3 = df.copy(deep=True).rename(\n",
    "    columns={\n",
    "        'col1': 'col1 $#$% 3 )))_____34324'\n",
    "    }\n",
    ")\n",
    "\n",
    "t1 = snowmobile.Table(sn=sn, table=TESTING_TABLE_NAME, df=df3)\n",
    "t1.df.head()"
   ]
  },
  {
   "cell_type": "markdown",
   "metadata": {},
   "source": [
    "## *as_is=True* vs. *Table.load()*\n",
    "---\n",
    "\n",
    "{class}`~snowmobile.Table` has a {meth}`~snowmobile.Table.load()` that enables pre-inspection of the {class}`~snowmobile.Table` object before kicking it off."
   ]
  }
 ],
 "metadata": {
  "kernelspec": {
   "display_name": "snowmobile2",
   "language": "python",
   "name": "snowmobile2"
  },
  "language_info": {
   "codemirror_mode": {
    "name": "ipython",
    "version": 3
   },
   "file_extension": ".py",
   "mimetype": "text/x-python",
   "name": "python",
   "nbconvert_exporter": "python",
   "pygments_lexer": "ipython3",
   "version": "3.7.0"
  }
 },
 "nbformat": 4,
 "nbformat_minor": 4
}
