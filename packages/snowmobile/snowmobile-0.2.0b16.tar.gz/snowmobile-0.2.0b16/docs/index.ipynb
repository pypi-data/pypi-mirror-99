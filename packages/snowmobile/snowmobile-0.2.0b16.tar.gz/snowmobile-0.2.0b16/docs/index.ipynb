{
 "cells": [
  {
   "cell_type": "markdown",
   "metadata": {},
   "source": [
    "# snowmobile\n",
    "\n",
    "```{include} /description.md\n",
    "```\n",
    "\n",
    "```{eval-rst}\n",
    "\n",
    ".. toctree::\n",
    "    :maxdepth: 1\n",
    "    :hidden:\n",
    "\n",
    "    ./setup.md\n",
    "\n",
    ".. toctree::\n",
    "    :caption: Core\n",
    "    :maxdepth: 1\n",
    "    :hidden:\n",
    "\n",
    "    ./usage/snowmobile.md\n",
    "    ./usage/script.md\n",
    "    ./usage/table.md\n",
    "    ./usage/sql.ipynb\n",
    "    ./usage/snowmobile_toml.md\n",
    "\n",
    ".. toctree::\n",
    "    :caption: Technical Resources\n",
    "    :maxdepth: 1\n",
    "    :hidden:\n",
    "\n",
    "    ./autoapi/snowmobile/core/index\n",
    "    ./snippets.md\n",
    "    ./usage/advanced.md\n",
    "\n",
    ".. toctree::\n",
    "    :caption: Other\n",
    "    :maxdepth: 1\n",
    "    :hidden:\n",
    "\n",
    "    ./acknowledgements.md\n",
    "    ./changelog.md\n",
    "    ./authors.md\n",
    "    ./license.md\n",
    "```\n",
    "\n",
    "+++\n",
    "\n",
    "## Overview\n",
    "\n",
    "```{div} sn-dedent-list, sn-depth1\n",
    "- *[Connecting](#connecting)*\n",
    "- *[Query Execution](#query-execution)*\n",
    "- *[Information API](#information-api)*\n",
    "- *[Loading Data](#loading-data)*\n",
    "- *[Working with SQL Scripts](#working-with-sql-scripts)*\n",
    "```\n",
    "\n",
    "<br>\n",
    "<br>"
   ]
  },
  {
   "cell_type": "markdown",
   "metadata": {},
   "source": [
    "```{div} sn-phantom\n",
    "&nbsp;\n",
    "```\n",
    "### *Connecting*\n",
    "\n",
    "````{admonition} *Connecting*\n",
    ":class: toggle, sn-gradient-header, sn-indent-h-cell-right-m, sn-toggle-expand\n",
    "\n",
    "```{div} sn-dedent-v-b-h, sn-dedent-v-t-container-neg\n",
    "{func}`snowmobile.connect()` returns a [Snowmobile](./usage/snowmobile.md#snowmobile) whose purpose is to:\n",
    "```\n",
    "1.  Locate, instantiate, and store [snowmobile.toml](./usage/snowmobile_toml.md#snowmobiletoml)\n",
    "    as a {class}`~snowmobile.Configuration` object ({class}`sn.cfg`)\n",
    "1.  Establish a connection to {xref}`snowflake` and store the {xref}`SnowflakeConnection` ({class}`sn.con`)\n",
    "1.  Serve as the primary entry point to the {xref}`SnowflakeConnection` and {xref}`snowmobile` APIs\n",
    "+++\n",
    "```{div} sn-dedent-v-t-h\n",
    "  The first time it's invoked, [Snowmobile](./usage/snowmobile.md) will find [snowmobile.toml](./usage/snowmobile_toml) and cache its location;\n",
    "  this step isn't repeated unless the file is moved, the cache is manually cleared, or a new version of {xref}`snowmobile` is installed.\n",
    "```\n",
    "+++\n",
    "**With all arguments omitted, it will authenticate with the default credentials and connection arguments specified in** [**snowmobile.toml**](./usage/snowmobile_toml).\n",
    "\n",
    "<hr class=\"sn-blue\">\n",
    "\n",
    "```{div} sn-link-container\n",
    "{link-badge}`./usage/snowmobile.html,cls=badge-primary text-white sn-usage,Usage: Snowmobile,tooltip=Intro & usage documentation for snowmobile.Snowmobile`\n",
    "{link-badge}`./autoapi/snowmobile/core/connection/index.html,cls=badge-secondary text-white sn-api,snowmobile.core.connection,tooltip=API Documentation`\n",
    "```\n",
    "\n",
    "````"
   ]
  },
  {
   "cell_type": "markdown",
   "metadata": {},
   "source": [
    "```{div} sn-pre-code\n",
    "Establishing a connection from configured defaults is done with:\n",
    "```"
   ]
  },
  {
   "cell_type": "code",
   "execution_count": null,
   "metadata": {
    "tags": [
     "remove-output"
    ]
   },
   "outputs": [],
   "source": [
    "import snowmobile\n",
    "\n",
    "sn = snowmobile.connect()"
   ]
  },
  {
   "cell_type": "markdown",
   "metadata": {},
   "source": [
    "```{div} sn-pre-code, sn-post-code\n",
    "`sn` is a [](./usage/snowmobile) with the following attributes:\n",
    "```"
   ]
  },
  {
   "cell_type": "code",
   "execution_count": 6,
   "metadata": {
    "tags": [
     "remove-output"
    ]
   },
   "outputs": [
    {
     "name": "stdout",
     "output_type": "stream",
     "text": [
      "snowmobile.Snowmobile(creds='creds1')\n",
      "snowmobile.Configuration('snowmobile.toml')\n",
      "<class 'snowflake.connector.connection.SnowflakeConnection'>\n"
     ]
    }
   ],
   "source": [
    "print(sn)            #> snowmobile.Snowmobile(creds='creds1')\n",
    "print(sn.cfg)        #> snowmobile.Configuration('snowmobile.toml')\n",
    "print(type(sn.con))  #> <class 'snowflake.connector.connection.SnowflakeConnection'>"
   ]
  },
  {
   "cell_type": "markdown",
   "metadata": {},
   "source": [
    "```{div} sn-pre-code, sn-post-code\n",
    "(fixture-sn)=\n",
    "Different connection arguments are accessed by assigned alias:\n",
    "```"
   ]
  },
  {
   "cell_type": "code",
   "execution_count": 36,
   "metadata": {
    "tags": [
     "remove-output"
    ]
   },
   "outputs": [],
   "source": [
    "sn2 = snowmobile.connect(creds='sandbox')\n",
    "\n",
    "print(sn.cfg.connection.current != sn2.cfg.connection.current) #> True"
   ]
  },
  {
   "cell_type": "code",
   "execution_count": 87,
   "metadata": {
    "tags": [
     "remove-cell"
    ]
   },
   "outputs": [
    {
     "name": "stdout",
     "output_type": "stream",
     "text": [
      "sample_table.sql\n",
      "================\n",
      "<1 of 5> create table~s1 (0s)............................... <completed>\n",
      "<2 of 5> insert into~s2 (0s)................................ <completed>\n"
     ]
    }
   ],
   "source": [
    "# -- setup --\n",
    "\n",
    "# Verify table doesn't exist\n",
    "if sn.sql.exists('sample_table'):\n",
    "    sn.sql.drop('sample_table')\n",
    "\n",
    "# Truncate 'any_other_table'\n",
    "sn.sql.truncate('any_other_table')\n",
    "\n",
    "# Path to sample .sql file\n",
    "from pathlib import Path\n",
    "\n",
    "path = Path.cwd() / 'snippets' / 'getting_started' / 'sample_table.sql'\n",
    "\n",
    "# Execute setup statements from script\n",
    "script = snowmobile.Script(sn=sn, path=path)\n",
    "script.run((1,2))"
   ]
  },
  {
   "cell_type": "markdown",
   "metadata": {},
   "source": [
    "<br>\n",
    "\n",
    "`````{admonition} **sn**\n",
    ":class: sn-fixture, sn-fixture-global\n",
    "\n",
    "````{div} sn-dedent-v-b-h, sn-dedent-v-t-container-neg\n",
    "The variable `sn` represents a generic instance of [](./usage/snowmobile) roughly\n",
    "equivalent to that created with the snippet below; it is referred to as {fa}`fixture sn` \n",
    "throughout the documentation, and applicable examples make use of \n",
    "it as a fixture without recreating it each time.\n",
    "````\n",
    "\n",
    "```{code-block} python\n",
    ":emphasize-lines: 3, 3\n",
    "\n",
    "import snowmobile\n",
    "\n",
    "sn = snowmobile.connect()\n",
    "```\n",
    "\n",
    "<hr class=\"sn-spacer\">\n",
    "\n",
    "`````\n",
    "\n",
    "<hr class=\"sn-spacer\">"
   ]
  },
  {
   "cell_type": "markdown",
   "metadata": {},
   "source": [
    "```{div} sn-phantom\n",
    "<br>\n",
    "```\n",
    "### *Query Execution*\n",
    "\n",
    "`````{admonition} *Query Execution*\n",
    ":class: toggle, sn-gradient-header, sn-indent-h-cell-right-m, sn-toggle-expand\n",
    "\n",
    "```{div} sn-dedent-v-b-h, sn-dedent-v-container-neg\n",
    "  There are three convenience methods for executing raw SQL directly off [{fa}`fixture sn`](fixture-sn):\n",
    "```\n",
    "\n",
    "```{div} sn-left-pad\n",
    "{meth}`~snowmobile.Snowmobile.query()` implements {meth}`pandas.read_sql()` for querying results into a {class}`~pandas.DataFrame`\n",
    "\n",
    "{meth}`~snowmobile.Snowmobile.ex()` implements {meth}`SnowflakeConnection.cursor().execute()` for executing commands within a {xref}`SnowflakeCursor`\n",
    "\n",
    "{meth}`~snowmobile.Snowmobile.exd()` implements {meth}`SnowflakeConnection.cursor(DictCursor).execute()` for executing commands within a {xref}`DictCursor`\n",
    "```\n",
    "\n",
    "<hr class=\"sn-blue\">\n",
    "\n",
    "```{div} sn-link-container\n",
    "{link-badge}`./usage/snowmobile.html#executing-raw-sql,cls=badge-primary text-white sn-usage,Usage: Executing Raw SQL,tooltip=Usage documentation for Executing Raw SQL`\n",
    "{link-badge}`./autoapi/snowmobile/core/connection/index.html,cls=badge-secondary text-white sn-api,snowmobile.core.connection,tooltip=API Documentation`\n",
    "```\n",
    "\n",
    "`````"
   ]
  },
  {
   "cell_type": "markdown",
   "metadata": {},
   "source": [
    "````{admonition} Setup\n",
    ":class: is-setup, sn-indent-h-cell-m, sn-indent-h-sub-cell-right, sn-inline-block-container, sn-dedent-v-b-container\n",
    "\n",
    "(sn)=\n",
    "The next two sections make use\\\n",
    "of a **sample_table** containing:\n",
    "```{div} sn-dedent-v-b-container\n",
    "|   COL1 |   COL2 |\n",
    "|-------:|-------:|\n",
    "|      1 |      1 |\n",
    "|      2 |      4 |\n",
    "|      4 |      9 |\n",
    "```\n",
    "````\n",
    "\n",
    "<hr class=\"sn-spacer\">"
   ]
  },
  {
   "cell_type": "markdown",
   "metadata": {},
   "source": [
    "```{div} sn-pre-code\n",
    "Into a {class}`~pandas.DataFrame`:\n",
    "```"
   ]
  },
  {
   "cell_type": "code",
   "execution_count": 90,
   "metadata": {},
   "outputs": [
    {
     "data": {
      "text/html": [
       "<div>\n",
       "<style scoped>\n",
       "    .dataframe tbody tr th:only-of-type {\n",
       "        vertical-align: middle;\n",
       "    }\n",
       "\n",
       "    .dataframe tbody tr th {\n",
       "        vertical-align: top;\n",
       "    }\n",
       "\n",
       "    .dataframe thead th {\n",
       "        text-align: right;\n",
       "    }\n",
       "</style>\n",
       "<table border=\"1\" class=\"dataframe\">\n",
       "  <thead>\n",
       "    <tr style=\"text-align: right;\">\n",
       "      <th></th>\n",
       "      <th>col1</th>\n",
       "      <th>col2</th>\n",
       "    </tr>\n",
       "  </thead>\n",
       "  <tbody>\n",
       "    <tr>\n",
       "      <th>0</th>\n",
       "      <td>1</td>\n",
       "      <td>1</td>\n",
       "    </tr>\n",
       "    <tr>\n",
       "      <th>1</th>\n",
       "      <td>2</td>\n",
       "      <td>4</td>\n",
       "    </tr>\n",
       "    <tr>\n",
       "      <th>2</th>\n",
       "      <td>3</td>\n",
       "      <td>9</td>\n",
       "    </tr>\n",
       "  </tbody>\n",
       "</table>\n",
       "</div>"
      ],
      "text/plain": [
       "   col1  col2\n",
       "0     1     1\n",
       "1     2     4\n",
       "2     3     9"
      ]
     },
     "execution_count": 90,
     "metadata": {},
     "output_type": "execute_result"
    }
   ],
   "source": [
    "sn.query('select * from sample_table')"
   ]
  },
  {
   "cell_type": "markdown",
   "metadata": {},
   "source": [
    "```{div} sn-pre-code\n",
    "Into a {xref}`SnowflakeCursor`:\n",
    "```"
   ]
  },
  {
   "cell_type": "code",
   "execution_count": 91,
   "metadata": {},
   "outputs": [
    {
     "data": {
      "text/plain": [
       "[(1, 1), (2, 4), (3, 9)]"
      ]
     },
     "execution_count": 91,
     "metadata": {},
     "output_type": "execute_result"
    }
   ],
   "source": [
    "sn.ex('select * from sample_table').fetchall()"
   ]
  },
  {
   "cell_type": "markdown",
   "metadata": {},
   "source": [
    "```{div} sn-pre-code\n",
    "Into a {xref}`DictCursor`:\n",
    "```"
   ]
  },
  {
   "cell_type": "code",
   "execution_count": 92,
   "metadata": {},
   "outputs": [
    {
     "data": {
      "text/plain": [
       "[{'COL1': 1, 'COL2': 1}, {'COL1': 2, 'COL2': 4}, {'COL1': 3, 'COL2': 9}]"
      ]
     },
     "execution_count": 92,
     "metadata": {},
     "output_type": "execute_result"
    }
   ],
   "source": [
    "sn.exd('select * from sample_table').fetchall()"
   ]
  },
  {
   "cell_type": "markdown",
   "metadata": {},
   "source": [
    "```{div} sn-pre-code\n",
    "Or to get a single value:\n",
    "```"
   ]
  },
  {
   "cell_type": "code",
   "execution_count": 14,
   "metadata": {},
   "outputs": [
    {
     "data": {
      "text/plain": [
       "3"
      ]
     },
     "execution_count": 14,
     "metadata": {},
     "output_type": "execute_result"
    }
   ],
   "source": [
    "sn.query('select count(*) from sample_table', as_scalar=True)"
   ]
  },
  {
   "cell_type": "markdown",
   "metadata": {},
   "source": [
    "```{div} sn-phantom\n",
    "<br>\n",
    "```\n",
    "### *Information API*\n",
    "\n",
    "`````{admonition} *Information API*\n",
    ":class: toggle, sn-gradient-header, sn-indent-h-cell-right-m, sn-toggle-expand\n",
    "\n",
    "```{div} sn-dedent-v-container-neg\n",
    "  [**snowmobile.SQL**](./usage/sql.ipynb) generates and executes raw SQL from inputs; it comes free as the {attr}`~snowmobile.Snowmobile.sql`\n",
    "  attribute of [{fa}`fixture sn`](fixture-sn), and its purpose is to provide a bare bones Python API to query metadata and execute \n",
    "  administrative commands against {xref}`snowflake`.\n",
    "```\n",
    "\n",
    "<hr class=\"sn-blue\">\n",
    "\n",
    "```{div} sn-link-container\n",
    "{link-badge}`./usage/sql.html,cls=badge-primary text-white sn-usage,Usage: SQL,tooltip=Usage documentation for snowmobile.SQL`\n",
    "{link-badge}`./autoapi/snowmobile/core/sql/index.html,cls=badge-secondary text-white sn-api,snowmobile.core.sql,tooltip=API Documentation`\n",
    "```\n",
    "\n",
    "`````"
   ]
  },
  {
   "cell_type": "markdown",
   "metadata": {},
   "source": [
    "<p class=\"sn-indent-cell\"></p>"
   ]
  },
  {
   "cell_type": "markdown",
   "metadata": {},
   "source": [
    "```{div} sn-pre-code\n",
    "Check existence of tables/views:\n",
    "```"
   ]
  },
  {
   "cell_type": "code",
   "execution_count": 5,
   "metadata": {
    "tags": [
     "remove-output"
    ]
   },
   "outputs": [
    {
     "data": {
      "text/plain": [
       "True"
      ]
     },
     "execution_count": 5,
     "metadata": {},
     "output_type": "execute_result"
    }
   ],
   "source": [
    "sn.sql.exists('sample_table')  #> True"
   ]
  },
  {
   "cell_type": "markdown",
   "metadata": {},
   "source": [
    "```{div} sn-pre-code, sn-post-code\n",
    "Sample records from a table:\n",
    "```"
   ]
  },
  {
   "cell_type": "code",
   "execution_count": 93,
   "metadata": {},
   "outputs": [
    {
     "data": {
      "text/html": [
       "<div>\n",
       "<style scoped>\n",
       "    .dataframe tbody tr th:only-of-type {\n",
       "        vertical-align: middle;\n",
       "    }\n",
       "\n",
       "    .dataframe tbody tr th {\n",
       "        vertical-align: top;\n",
       "    }\n",
       "\n",
       "    .dataframe thead th {\n",
       "        text-align: right;\n",
       "    }\n",
       "</style>\n",
       "<table border=\"1\" class=\"dataframe\">\n",
       "  <thead>\n",
       "    <tr style=\"text-align: right;\">\n",
       "      <th></th>\n",
       "      <th>col1</th>\n",
       "      <th>col2</th>\n",
       "    </tr>\n",
       "  </thead>\n",
       "  <tbody>\n",
       "    <tr>\n",
       "      <th>0</th>\n",
       "      <td>1</td>\n",
       "      <td>1</td>\n",
       "    </tr>\n",
       "  </tbody>\n",
       "</table>\n",
       "</div>"
      ],
      "text/plain": [
       "   col1  col2\n",
       "0     1     1"
      ]
     },
     "execution_count": 93,
     "metadata": {},
     "output_type": "execute_result"
    }
   ],
   "source": [
    "sn.sql.table_sample('sample_table', n=1)"
   ]
  },
  {
   "cell_type": "markdown",
   "metadata": {},
   "source": [
    "```{div} sn-pre-code\n",
    "Query depth:\n",
    "```"
   ]
  },
  {
   "cell_type": "code",
   "execution_count": 4,
   "metadata": {
    "tags": [
     "remove-output"
    ]
   },
   "outputs": [
    {
     "data": {
      "text/plain": [
       "3"
      ]
     },
     "execution_count": 4,
     "metadata": {},
     "output_type": "execute_result"
    }
   ],
   "source": [
    "sn.sql.cnt_records('sample_table')  #> 3"
   ]
  },
  {
   "cell_type": "markdown",
   "metadata": {},
   "source": [
    "```{div} sn-pre-code, sn-post-code\n",
    "Submit basic administrative commands:\n",
    "```"
   ]
  },
  {
   "cell_type": "code",
   "execution_count": 3,
   "metadata": {
    "tags": [
     "remove-output"
    ]
   },
   "outputs": [
    {
     "data": {
      "text/html": [
       "<div>\n",
       "<style scoped>\n",
       "    .dataframe tbody tr th:only-of-type {\n",
       "        vertical-align: middle;\n",
       "    }\n",
       "\n",
       "    .dataframe tbody tr th {\n",
       "        vertical-align: top;\n",
       "    }\n",
       "\n",
       "    .dataframe thead th {\n",
       "        text-align: right;\n",
       "    }\n",
       "</style>\n",
       "<table border=\"1\" class=\"dataframe\">\n",
       "  <thead>\n",
       "    <tr style=\"text-align: right;\">\n",
       "      <th></th>\n",
       "      <th>status</th>\n",
       "    </tr>\n",
       "  </thead>\n",
       "  <tbody>\n",
       "    <tr>\n",
       "      <th>0</th>\n",
       "      <td>Table SAMPLE_TABLE2 successfully created.</td>\n",
       "    </tr>\n",
       "  </tbody>\n",
       "</table>\n",
       "</div>"
      ],
      "text/plain": [
       "                                      status\n",
       "0  Table SAMPLE_TABLE2 successfully created."
      ]
     },
     "execution_count": 3,
     "metadata": {},
     "output_type": "execute_result"
    }
   ],
   "source": [
    "sn.sql.clone(nm='sample_table', to='sample_table2')"
   ]
  },
  {
   "cell_type": "markdown",
   "metadata": {},
   "source": [
    "```{div} sn-pre-code, sn-post-code\n",
    "Query DDL:\n",
    "```"
   ]
  },
  {
   "cell_type": "code",
   "execution_count": 53,
   "metadata": {},
   "outputs": [
    {
     "name": "stdout",
     "output_type": "stream",
     "text": [
      "create or replace TABLE SAMPLE_TABLE (\n",
      "\tCOL1 FLOAT,\n",
      "\tCOL2 FLOAT\n",
      ");\n"
     ]
    }
   ],
   "source": [
    "print(sn.sql.ddl('sample_table'))"
   ]
  },
  {
   "cell_type": "markdown",
   "metadata": {
    "tags": [
     "remove-cell"
    ]
   },
   "source": [
    "```{div} sn-pre-code\n",
    "Provide `run=False` to get the raw sql\n",
    "```"
   ]
  },
  {
   "cell_type": "code",
   "execution_count": 7,
   "metadata": {
    "tags": [
     "remove-output",
     "remove-cell"
    ]
   },
   "outputs": [
    {
     "name": "stdout",
     "output_type": "stream",
     "text": [
      "<class 'str'>\n",
      "drop table if exists GEM7318.SAMPLE_TABLE\n"
     ]
    }
   ],
   "source": [
    "drop_sql = sn.sql.drop('sample_table', run=False)\n",
    "\n",
    "print(drop_sql)        #> drop table if exists GEM7318.SAMPLE_TABLE"
   ]
  },
  {
   "cell_type": "markdown",
   "metadata": {},
   "source": [
    "```{div} sn-pre-code\n",
    "Drop objects:\n",
    "```"
   ]
  },
  {
   "cell_type": "code",
   "execution_count": 8,
   "metadata": {},
   "outputs": [],
   "source": [
    "for t in ['sample_table', 'sample_table2']:\n",
    "    sn.sql.drop(t, obj='table')\n",
    "\n",
    "sn.sql.exists('sample_table')   #> False\n",
    "sn.sql.exists('sample_table2')  #> False"
   ]
  },
  {
   "cell_type": "markdown",
   "metadata": {},
   "source": [
    "```{div} sn-phantom\n",
    "<br>\n",
    "```\n",
    "### *Loading Data*\n",
    "\n",
    "(intro/loading-data)=\n",
    "`````{admonition} *Loading Data*\n",
    ":class: toggle, sn-gradient-header, sn-indent-h-cell-right-m, sn-toggle-expand, sn-incl-tabbed-shadow-b-blue\n",
    "\n",
    "<hr class=\"sn-spacer\">\n",
    "\n",
    "````{tabbed} Context\n",
    "  {class}`~snowmobile.Table` is a loading solution that at minimum accepts a `df` ({class}`~pandas.DataFrame`)\n",
    "  and a `table` name ({class}`str`).\n",
    "+++\n",
    "  In the same way that [**Snowmobile**](./usage/snowmobile) handles its keyword arguments,\n",
    "  {class}`~snowmobile.Table` will adhere to any arguments explicitly provided and defer\n",
    "  to the values configured in [snowmobile.toml](./usage/snowmobile_toml) otherwise.\n",
    "````\n",
    "\n",
    "````{tabbed} +\n",
    "  ```{div} sn-dedent-v-t\n",
    "  *The behavior outlined below reflects those within the\n",
    "  [default snowmobile.toml file](./usage/snowmobile_toml.md#file-contents)*, meaning that `t1` will:\n",
    "  ```\n",
    "  1. Check if *sample_table* exists in the schema associated with {attr}`sn.con`\n",
    "  2. If *sample_table* **does** exist, it will validate `df` against *sample_table* and throw an error\n",
    "     if their dimensions are not identical\n",
    "  3. If *sample_table* does **not** exist (as is the case here), it will generate DDL from `df` and execute it as part of the loading process\n",
    "````\n",
    "\n",
    "```{div} sn-link-container\n",
    "{link-badge}`./usage/table.html,cls=badge-primary text-white sn-usage,Usage: snowmobile.Table,tooltip=Intro & usage documentation for snowmobile.Table`\n",
    "{link-badge}`./autoapi/snowmobile/core/table/index.html,cls=badge-secondary text-white sn-api,snowmobile.core.table,tooltip=API Documentation`\n",
    "```\n",
    "\n",
    "``````"
   ]
  },
  {
   "cell_type": "markdown",
   "metadata": {},
   "source": [
    "`````{admonition} Setup\n",
    ":class: is-setup, sn-block-container, sn-indent-h-cell-m, sn-indent-h-sub-cell-right\n",
    "\n",
    "````{panels}\n",
    "\n",
    "The `df` used below is created with:\n",
    "\n",
    "```python\n",
    "import pandas as pd\n",
    "import numpy as np\n",
    "\n",
    "df = pd.DataFrame(\n",
    "    data = {'COL1': [1, 2, 3], 'COL2': [1, 4, 9]}\n",
    ")\n",
    "print(df.shape)  #> (3, 2)\n",
    "```\n",
    "\n",
    "---\n",
    "\n",
    "|   COL1 |   COL2 |\n",
    "|-------:|-------:|\n",
    "|      1 |      1 |\n",
    "|      2 |      4 |\n",
    "|      3 |      9 |\n",
    "\n",
    "````\n",
    "\n",
    "`````"
   ]
  },
  {
   "cell_type": "code",
   "execution_count": 73,
   "metadata": {
    "tags": [
     "remove-cell"
    ]
   },
   "outputs": [],
   "source": [
    "# Verify table does not exist before moving forward with example\n",
    "if sn.sql.exists('sample_table'):\n",
    "    sn.sql.drop('sample_table')"
   ]
  },
  {
   "cell_type": "code",
   "execution_count": 97,
   "metadata": {
    "tags": [
     "remove-cell"
    ]
   },
   "outputs": [
    {
     "data": {
      "text/html": [
       "<div>\n",
       "<style scoped>\n",
       "    .dataframe tbody tr th:only-of-type {\n",
       "        vertical-align: middle;\n",
       "    }\n",
       "\n",
       "    .dataframe tbody tr th {\n",
       "        vertical-align: top;\n",
       "    }\n",
       "\n",
       "    .dataframe thead th {\n",
       "        text-align: right;\n",
       "    }\n",
       "</style>\n",
       "<table border=\"1\" class=\"dataframe\">\n",
       "  <thead>\n",
       "    <tr style=\"text-align: right;\">\n",
       "      <th></th>\n",
       "      <th>COL1</th>\n",
       "      <th>COL2</th>\n",
       "    </tr>\n",
       "  </thead>\n",
       "  <tbody>\n",
       "    <tr>\n",
       "      <th>0</th>\n",
       "      <td>1</td>\n",
       "      <td>1</td>\n",
       "    </tr>\n",
       "    <tr>\n",
       "      <th>1</th>\n",
       "      <td>2</td>\n",
       "      <td>4</td>\n",
       "    </tr>\n",
       "    <tr>\n",
       "      <th>2</th>\n",
       "      <td>3</td>\n",
       "      <td>9</td>\n",
       "    </tr>\n",
       "  </tbody>\n",
       "</table>\n",
       "</div>"
      ],
      "text/plain": [
       "   COL1  COL2\n",
       "0     1     1\n",
       "1     2     4\n",
       "2     3     9"
      ]
     },
     "execution_count": 97,
     "metadata": {},
     "output_type": "execute_result"
    }
   ],
   "source": [
    "\"\"\"Generate dummy DataFrame for snowmobile.Table example.\"\"\"\n",
    "import pandas as pd\n",
    "import numpy as np\n",
    "\n",
    "df = pd.DataFrame(\n",
    "    data = {'COL1': [1, 2, 3], 'COL2': [1, 4, 9]}\n",
    ")\n",
    "df.head()"
   ]
  },
  {
   "cell_type": "markdown",
   "metadata": {},
   "source": [
    "<hr class=\"sn-spacer\">\n",
    "\n",
    "```{div} sn-pre-code, sn-indent-v-t-container\n",
    "Given a `df` ({class}`~pandas.DataFrame`) and a `table` ({class}`str`) to load into, a [**Table**](./usage/table) can be created with:\n",
    "```"
   ]
  },
  {
   "cell_type": "code",
   "execution_count": 75,
   "metadata": {
    "tags": [
     "remove-output"
    ]
   },
   "outputs": [],
   "source": [
    "t1 = snowmobile.Table(df=df, table='sample_table')"
   ]
  },
  {
   "cell_type": "markdown",
   "metadata": {},
   "source": [
    "```{div} sn-pre-code, sn-post-code\n",
    "With [](./usage/snowmobile_toml) defaults, `t1` has pre-inspected some things like:\n",
    "```"
   ]
  },
  {
   "cell_type": "code",
   "execution_count": 18,
   "metadata": {
    "tags": [
     "remove-output"
    ]
   },
   "outputs": [
    {
     "name": "stdout",
     "output_type": "stream",
     "text": [
      "False\n"
     ]
    }
   ],
   "source": [
    "print(t1.exists)  #> False  -> 'sample_table' doesn't exist in the schema associated with 'sn'"
   ]
  },
  {
   "cell_type": "markdown",
   "metadata": {},
   "source": [
    "```{div} sn-pre-code\n",
    "We can create *sample_table* and load `df` into with:\n",
    "```"
   ]
  },
  {
   "cell_type": "code",
   "execution_count": 77,
   "metadata": {
    "tags": [
     "remove-output"
    ]
   },
   "outputs": [
    {
     "name": "stdout",
     "output_type": "stream",
     "text": [
      "Loading into 'gem7318.SAMPLE_TABLE`..\n",
      "(1 of 4)\n",
      "\tCREATE OR REPLACE TABLE SAMPLE_TABLE ( ..\n",
      "(2 of 4)\n",
      "\tcreate stage SAMPLE_TABLE_stage file_format = snowmobile_default_psv;\n",
      "(3 of 4)\n",
      "\tput file://C:/Users/GEM7318/Documents/Github/Snowmobile/docs/sample_table.csv @SAMPLE_TABLE_stage\n",
      "\tauto_compress = true\n",
      "(4 of 4)\n",
      "\tcopy into SAMPLE_TABLE from @SAMPLE_TABLE_stage\n",
      "\ton_error = continue\n",
      "..completed: 3 rows in 2 seconds\n"
     ]
    },
    {
     "data": {
      "text/plain": [
       "snowmobile.Table(table='SAMPLE_TABLE')"
      ]
     },
     "execution_count": 77,
     "metadata": {},
     "output_type": "execute_result"
    }
   ],
   "source": [
    "t1.load()"
   ]
  },
  {
   "cell_type": "markdown",
   "metadata": {},
   "source": [
    "```{div} sn-pre-code\n",
    "Here are two ways to verify `t1.load()` did its job:\n",
    "```"
   ]
  },
  {
   "cell_type": "code",
   "execution_count": 19,
   "metadata": {
    "collapsed": true,
    "jupyter": {
     "outputs_hidden": true
    },
    "tags": [
     "remove-output"
    ]
   },
   "outputs": [
    {
     "name": "stdout",
     "output_type": "stream",
     "text": [
      "Loading into 'gem7318.SAMPLE_TABLE`..\n",
      "(1 of 4)\n",
      "\tCREATE OR REPLACE TABLE SAMPLE_TABLE ( ..\n",
      "(2 of 4)\n",
      "\tcreate stage SAMPLE_TABLE_stage file_format = snowmobile_default_psv;\n",
      "(3 of 4)\n",
      "\tput file://C:/Users/GEM7318/Documents/Github/Snowmobile/docs/sample_table.csv @SAMPLE_TABLE_stage\n",
      "\tauto_compress = true\n",
      "(4 of 4)\n",
      "\tcopy into SAMPLE_TABLE from @SAMPLE_TABLE_stage\n",
      "\ton_error = continue\n",
      "..completed: 3 rows in 2 seconds\n"
     ]
    },
    {
     "data": {
      "text/plain": [
       "snowmobile.Table(table='SAMPLE_TABLE')"
      ]
     },
     "execution_count": 19,
     "metadata": {},
     "output_type": "execute_result"
    }
   ],
   "source": [
    "print(t1.loaded)                           #> True -> t1 didn't encounter any errors during .load()\n",
    "print(sn.sql.cnt_records('sample_table'))  #> 3  ---> 'sample_table' contains three records"
   ]
  },
  {
   "cell_type": "markdown",
   "metadata": {},
   "source": [
    "```{div} sn-indent-h-cell-m\n",
    "<hr class=\"sn-green-medium\" style=\"margin-top: 1.4rem; margin-bottom: 0.5rem;\">\n",
    "```\n",
    "\n",
    "```{div} sn-pre-code\n",
    "In instances where the {class}`~pandas.DataFrame` and table have different dimensions:\n",
    "```"
   ]
  },
  {
   "cell_type": "code",
   "execution_count": 76,
   "metadata": {},
   "outputs": [
    {
     "data": {
      "text/html": [
       "<div>\n",
       "<style scoped>\n",
       "    .dataframe tbody tr th:only-of-type {\n",
       "        vertical-align: middle;\n",
       "    }\n",
       "\n",
       "    .dataframe tbody tr th {\n",
       "        vertical-align: top;\n",
       "    }\n",
       "\n",
       "    .dataframe thead th {\n",
       "        text-align: right;\n",
       "    }\n",
       "</style>\n",
       "<table border=\"1\" class=\"dataframe\">\n",
       "  <thead>\n",
       "    <tr style=\"text-align: right;\">\n",
       "      <th></th>\n",
       "      <th>COL1</th>\n",
       "      <th>COL2</th>\n",
       "      <th>COL1</th>\n",
       "      <th>COL2</th>\n",
       "    </tr>\n",
       "  </thead>\n",
       "  <tbody>\n",
       "    <tr>\n",
       "      <th>0</th>\n",
       "      <td>1.0</td>\n",
       "      <td>0.0</td>\n",
       "      <td>1.0</td>\n",
       "      <td>0.0</td>\n",
       "    </tr>\n",
       "  </tbody>\n",
       "</table>\n",
       "</div>"
      ],
      "text/plain": [
       "   COL1  COL2  COL1  COL2\n",
       "0   1.0   0.0   1.0   0.0"
      ]
     },
     "execution_count": 76,
     "metadata": {},
     "output_type": "execute_result"
    }
   ],
   "source": [
    "df2 = pd.concat([df, df], axis=1)\n",
    "df2.head(1)"
   ]
  },
  {
   "cell_type": "markdown",
   "metadata": {},
   "source": [
    "```{div} sn-pre-code\n",
    "Here's what `t2` knows about `df` and *sample_table*:\n",
    "```"
   ]
  },
  {
   "cell_type": "code",
   "execution_count": 78,
   "metadata": {
    "collapsed": true,
    "jupyter": {
     "outputs_hidden": true
    },
    "tags": [
     "remove-output"
    ]
   },
   "outputs": [
    {
     "name": "stdout",
     "output_type": "stream",
     "text": [
      "True\n",
      "False\n"
     ]
    }
   ],
   "source": [
    "t2 = snowmobile.Table(sn=sn, df=df2, table='sample_table')\n",
    "\n",
    "print(t2.exists)      #> True  --> 'sample_table' exists in the schema associated with `sn`\n",
    "print(t2.cols_match)  #> False  -> `df2` and 'sample_table' don't share the same dimensions"
   ]
  },
  {
   "cell_type": "markdown",
   "metadata": {},
   "source": [
    "```{div} sn-pre-code, sn-post-code\n",
    "`t2` also checked the columns of `df2` and deduped them by appending a suffix to the second set:\n",
    "```"
   ]
  },
  {
   "cell_type": "code",
   "execution_count": 10,
   "metadata": {},
   "outputs": [
    {
     "data": {
      "text/html": [
       "<div>\n",
       "<style scoped>\n",
       "    .dataframe tbody tr th:only-of-type {\n",
       "        vertical-align: middle;\n",
       "    }\n",
       "\n",
       "    .dataframe tbody tr th {\n",
       "        vertical-align: top;\n",
       "    }\n",
       "\n",
       "    .dataframe thead th {\n",
       "        text-align: right;\n",
       "    }\n",
       "</style>\n",
       "<table border=\"1\" class=\"dataframe\">\n",
       "  <thead>\n",
       "    <tr style=\"text-align: right;\">\n",
       "      <th></th>\n",
       "      <th>COL1</th>\n",
       "      <th>COL2</th>\n",
       "      <th>COL1_1</th>\n",
       "      <th>COL2_1</th>\n",
       "    </tr>\n",
       "  </thead>\n",
       "  <tbody>\n",
       "    <tr>\n",
       "      <th>0</th>\n",
       "      <td>1.0</td>\n",
       "      <td>0.0</td>\n",
       "      <td>1.0</td>\n",
       "      <td>0.0</td>\n",
       "    </tr>\n",
       "  </tbody>\n",
       "</table>\n",
       "</div>"
      ],
      "text/plain": [
       "   COL1  COL2  COL1_1  COL2_1\n",
       "0   1.0   0.0     1.0     0.0"
      ]
     },
     "execution_count": 10,
     "metadata": {},
     "output_type": "execute_result"
    }
   ],
   "source": [
    "t3.df.head(1)"
   ]
  },
  {
   "cell_type": "markdown",
   "metadata": {},
   "source": [
    "```{div} sn-pre-code\n",
    "Loading in the same way we did `t1` will throw an error with the default [snowmobile.toml](./usage/snowmobile_toml):\n",
    "```"
   ]
  },
  {
   "cell_type": "code",
   "execution_count": 33,
   "metadata": {
    "collapsed": true,
    "jupyter": {
     "outputs_hidden": true
    },
    "tags": [
     "remove-output"
    ]
   },
   "outputs": [
    {
     "ename": "ColumnMismatchError",
     "evalue": "`SAMPLE_TABLE` columns do not equal those in the local DataFrame and if_exists='append' was specified.\nEither provide if_exists='replace' to overwrite the existing table or see `table.col_diff` to inspect the mismatched columns.",
     "output_type": "error",
     "traceback": [
      "\u001b[1;31m---------------------------------------------------------------------------\u001b[0m",
      "\u001b[1;31mColumnMismatchError\u001b[0m                       Traceback (most recent call last)",
      "\u001b[1;32m<ipython-input-33-f97d82601f16>\u001b[0m in \u001b[0;36m<module>\u001b[1;34m\u001b[0m\n\u001b[0;32m      2\u001b[0m \u001b[1;33m\u001b[0m\u001b[0m\n\u001b[0;32m      3\u001b[0m \u001b[1;32mtry\u001b[0m\u001b[1;33m:\u001b[0m\u001b[1;33m\u001b[0m\u001b[0m\n\u001b[1;32m----> 4\u001b[1;33m     \u001b[0mt3\u001b[0m\u001b[1;33m.\u001b[0m\u001b[0mload\u001b[0m\u001b[1;33m(\u001b[0m\u001b[1;33m)\u001b[0m\u001b[1;33m\u001b[0m\u001b[0m\n\u001b[0m\u001b[0;32m      5\u001b[0m \u001b[1;32mexcept\u001b[0m \u001b[0mExistingTableError\u001b[0m \u001b[1;32mas\u001b[0m \u001b[0me\u001b[0m\u001b[1;33m:\u001b[0m\u001b[1;33m\u001b[0m\u001b[0m\n\u001b[0;32m      6\u001b[0m \u001b[1;33m\u001b[0m\u001b[0m\n",
      "\u001b[1;32m~\\Documents\\Github\\Snowmobile\\snowmobile\\core\\table.py\u001b[0m in \u001b[0;36mload\u001b[1;34m(self, if_exists, from_script, verbose, **kwargs)\u001b[0m\n\u001b[0;32m    332\u001b[0m             \u001b[1;32mif\u001b[0m \u001b[0mself\u001b[0m\u001b[1;33m.\u001b[0m\u001b[0me\u001b[0m\u001b[1;33m.\u001b[0m\u001b[0mseen\u001b[0m\u001b[1;33m(\u001b[0m\u001b[0mto_raise\u001b[0m\u001b[1;33m=\u001b[0m\u001b[1;32mTrue\u001b[0m\u001b[1;33m)\u001b[0m\u001b[1;33m:\u001b[0m\u001b[1;33m\u001b[0m\u001b[0m\n\u001b[0;32m    333\u001b[0m                 \u001b[1;32mif\u001b[0m \u001b[0mself\u001b[0m\u001b[1;33m.\u001b[0m\u001b[0mon_error\u001b[0m \u001b[1;33m!=\u001b[0m \u001b[1;34m'c'\u001b[0m\u001b[1;33m:\u001b[0m\u001b[1;33m\u001b[0m\u001b[0m\n\u001b[1;32m--> 334\u001b[1;33m                     \u001b[1;32mraise\u001b[0m \u001b[0mself\u001b[0m\u001b[1;33m.\u001b[0m\u001b[0me\u001b[0m\u001b[1;33m.\u001b[0m\u001b[0mget\u001b[0m\u001b[1;33m(\u001b[0m\u001b[0mto_raise\u001b[0m\u001b[1;33m=\u001b[0m\u001b[1;32mTrue\u001b[0m\u001b[1;33m,\u001b[0m \u001b[0mlast\u001b[0m\u001b[1;33m=\u001b[0m\u001b[1;32mTrue\u001b[0m\u001b[1;33m)\u001b[0m\u001b[1;33m\u001b[0m\u001b[0m\n\u001b[0m\u001b[0;32m    335\u001b[0m                 \u001b[1;32melse\u001b[0m\u001b[1;33m:\u001b[0m\u001b[1;33m\u001b[0m\u001b[0m\n\u001b[0;32m    336\u001b[0m                     \u001b[1;32mreturn\u001b[0m \u001b[0mself\u001b[0m\u001b[1;33m\u001b[0m\u001b[0m\n",
      "\u001b[1;31mColumnMismatchError\u001b[0m: `SAMPLE_TABLE` columns do not equal those in the local DataFrame and if_exists='append' was specified.\nEither provide if_exists='replace' to overwrite the existing table or see `table.col_diff` to inspect the mismatched columns."
     ]
    }
   ],
   "source": [
    "from snowmobile.core.errors import ColumnMismatchError\n",
    "\n",
    "try:\n",
    "    t2.load()\n",
    "except ExistingTableError as e:\n",
    "    print(e)\n",
    "\"\"\"\n",
    "ColumnMismatchError: `SAMPLE_TABLE` columns do not equal those in the local DataFrame \n",
    "and if_exists='append' was specified.\n",
    "Either provide if_exists='replace' to overwrite the existing table or see `table.col_diff`\n",
    "to inspect the mismatched columns.\n",
    "\"\"\""
   ]
  },
  {
   "cell_type": "markdown",
   "metadata": {},
   "source": [
    "```{div} sn-pre-code, sn-post-code\n",
    "Explicit arguments take precedent over configurations in [snowmobile.toml](./usage/snowmobile_toml), so `df2` can still be loaded with:\n",
    "```"
   ]
  },
  {
   "cell_type": "code",
   "execution_count": 79,
   "metadata": {
    "collapsed": true,
    "jupyter": {
     "outputs_hidden": true
    },
    "tags": [
     "remove-output"
    ]
   },
   "outputs": [
    {
     "name": "stdout",
     "output_type": "stream",
     "text": [
      "Loading into 'gem7318.SAMPLE_TABLE`..\n",
      "(1 of 4)\n",
      "\tCREATE OR REPLACE TABLE SAMPLE_TABLE ( ..\n",
      "(2 of 4)\n",
      "\tcreate stage SAMPLE_TABLE_stage file_format = snowmobile_default_psv;\n",
      "(3 of 4)\n",
      "\tput file://C:/Users/GEM7318/Documents/Github/Snowmobile/docs/sample_table.csv @SAMPLE_TABLE_stage\n",
      "\tauto_compress = true\n",
      "(4 of 4)\n",
      "\tcopy into SAMPLE_TABLE from @SAMPLE_TABLE_stage\n",
      "\ton_error = continue\n",
      "..completed: 3 rows in 2 seconds\n",
      "True\n",
      "3\n",
      "['COL1', 'COL2', 'COL1_1', 'COL2_1']\n"
     ]
    }
   ],
   "source": [
    "t2.load(if_exists='replace')\n",
    "\n",
    "print(t2.loaded)                           #> True\n",
    "print(sn.sql.cnt_records('sample_table'))  #> 3\n",
    "print(sn.sql.columns('sample_table'))      #> ['COL1', 'COL2', 'COL1_1', 'COL2_1']"
   ]
  },
  {
   "cell_type": "markdown",
   "metadata": {},
   "source": [
    "<br>\n",
    "<hr class=\"sn-spacer\">"
   ]
  },
  {
   "cell_type": "markdown",
   "metadata": {},
   "source": [
    "```{div} sn-phantom\n",
    "&nbsp;\n",
    "```\n",
    "### *Working with SQL Scripts*\n",
    "\n",
    "(intro/working-with-sql-scripts)=\n",
    "`````{admonition} *Working with SQL Scripts*\n",
    ":class: toggle, sn-gradient-header, sn-indent-h-cell-right-m, sn-toggle-expand, sn-incl-tabbed-shadow-b-blue\n",
    "\n",
    "<hr class=\"sn-spacer\">\n",
    "\n",
    "````{tabbed} Context\n",
    "  [**snowmobile.Script**](./usage/script.md) accepts a full `path` to a sql file and parses its contents based on \n",
    "  patterns specified in [snowmobile.toml](./usage/snowmobile_toml).\n",
    "+++  \n",
    "  At a minimum, the file is split into individual statements, each of which is \n",
    "  checked for decorated information in the form of a string directly preceding it\n",
    "  wrapped in an opening (`/*-`) and closing (`-*/`) pattern, the simplest form of\n",
    "  which is a single-line string that can be used as an accessor to the statement\n",
    "  it precedes.\n",
    "+++\n",
    "  When no information is provided, [Script](./usage/script.ipynb) generates a \n",
    "  generic name for the statement based on the literal first SQL keyword \n",
    "  it contains and its index position.\n",
    "````\n",
    "\n",
    "````{tabbed} +\n",
    "  Line **27** within *sample_table.sql* represents the minimum markup required to associate a \n",
    "  name with an individual statement; consistency in tag structure has obvious benefits, but\n",
    "  this is a freeform string that can be anything.\n",
    "+++\n",
    "  Line **19** is an example of a special tag; the leading `qa-empty` tells \n",
    "  [**Script**](./usage/script.ipynb) to run assertion that its results are\n",
    "  null (0 records) before continuing execution of the script.\n",
    "+++\n",
    "  The tags for statements beginning on lines **1**, **6**, and **17** were generated by \n",
    "  [**Script**](./usage/script.ipynb) based their contents and relative positions within the script.\n",
    "````\n",
    "\n",
    "```{div} sn-link-container\n",
    "{link-badge}`./usage/script.html,cls=badge-primary text-white sn-usage,Usage: snowmobile.Script,tooltip=Intro & usage documentation for snowmobile.Script`\n",
    "{link-badge}`./autoapi/snowmobile/core/script/index.html,cls=badge-secondary text-white sn-api,snowmobile.core.script,tooltip=API Documentation`\n",
    "```\n",
    "\n",
    "`````"
   ]
  },
  {
   "cell_type": "markdown",
   "metadata": {},
   "source": [
    "````{admonition} Setup\n",
    ":class: is-setup, sn-block-container, sn-indent-h-cell-m\n",
    "\n",
    "```{div} sn-dedent-v-t-h, hanging\n",
    "`path` is a full path ({class}`pathlib.Path` or {class}`str`) to a file, \n",
    "*sample_table.sql*, containing 5 standard sql statements: \n",
    "```\n",
    "\n",
    "```{literalinclude}  ./snippets/overview/sample_table.sql\n",
    ":language: sql\n",
    ":lines: 2-36\n",
    ":lineno-start: 1\n",
    ":emphasize-lines: 1, 6, 17, 20, 28\n",
    "```\n",
    "```{div} sn-snippet-trunc2, sn-float-right\n",
    "[{fa}`file-code-o` sample_table.sql](./snippets.md#overview)\n",
    "```\n",
    "\n",
    "````"
   ]
  },
  {
   "cell_type": "code",
   "execution_count": 4,
   "metadata": {
    "tags": [
     "remove-cell"
    ]
   },
   "outputs": [],
   "source": [
    "# -- setup --\n",
    "\n",
    "# Verify table doesn't exist\n",
    "if sn.sql.exists('sample_table'):\n",
    "    sn.sql.drop('sample_table')\n",
    "\n",
    "# Truncate 'any_other_table'\n",
    "sn.sql.truncate('any_other_table')\n",
    "\n",
    "# Path to sample .sql file\n",
    "from pathlib import Path\n",
    "\n",
    "path = Path.cwd() / 'snippets' / 'overview' / 'sample_table.sql'"
   ]
  },
  {
   "cell_type": "markdown",
   "metadata": {},
   "source": [
    "```{div} sn-pre-code\n",
    "Given a `path` to *sample_table.sql*, a [Script](./usage/script) can be created with:\n",
    "```"
   ]
  },
  {
   "cell_type": "code",
   "execution_count": 81,
   "metadata": {},
   "outputs": [
    {
     "name": "stdout",
     "output_type": "stream",
     "text": [
      "sample_table.sql\n",
      "================\n",
      "1: Statement('create table~s1')\n",
      "2: Statement('insert into~s2')\n",
      "3: Statement('select data~s3')\n",
      "4: Statement('qa-empty~verify 'sample_table' is distinct on 'col1'')\n",
      "5: Statement('insert into~any_other_table')\n"
     ]
    }
   ],
   "source": [
    "script = snowmobile.Script(path=path)\n",
    "\n",
    "print(script)           #> snowmobile.Script('sample_table.sql')\n",
    "print(script.depth)     #> 5\n",
    "script.dtl()"
   ]
  },
  {
   "cell_type": "markdown",
   "metadata": {
    "tags": [
     "remove-cell"
    ]
   },
   "source": [
    "```{div} sn-pre-code, sn-post-code\n",
    "  Any [Statement](/autoapi/snowmobile/core/statement/index) can be accessed by \n",
    "  their {attr}`~snowmobile.core.Name.nm` or index position:\n",
    "```"
   ]
  },
  {
   "cell_type": "markdown",
   "metadata": {},
   "source": [
    "```{div} sn-pre-code, sn-post-code\n",
    "  Statements can be accessed by their index position or name ({attr}`~snowmobile.core.Name.nm`):\n",
    "```"
   ]
  },
  {
   "cell_type": "code",
   "execution_count": 51,
   "metadata": {
    "tags": [
     "remove-output"
    ]
   },
   "outputs": [
    {
     "data": {
      "text/plain": [
       "Statement('insert into~any_other_table')"
      ]
     },
     "execution_count": 51,
     "metadata": {},
     "output_type": "execute_result"
    }
   ],
   "source": [
    "script(5)                             #> Statement('insert into~any_other_table')\n",
    "script(-1)                            #> Statement('insert into~any_other_table')\n",
    "script('insert into~any_other_table') #> Statement('insert into~any_other_table')"
   ]
  },
  {
   "cell_type": "markdown",
   "metadata": {},
   "source": [
    "```{div} sn-pre-code, sn-post-code\n",
    "Each [Statement](/autoapi/snowmobile/core/statement/index) has its own set of attributes:\n",
    "```"
   ]
  },
  {
   "cell_type": "code",
   "execution_count": 20,
   "metadata": {
    "collapsed": true,
    "jupyter": {
     "outputs_hidden": true
    },
    "tags": [
     "remove-output"
    ]
   },
   "outputs": [
    {
     "name": "stdout",
     "output_type": "stream",
     "text": [
      "3\n",
      "select\n",
      "sample_table\n",
      "select~sample_table\n",
      "select * from sample_table\n",
      "False\n",
      "Empty DataFrame\n",
      "Columns: []\n",
      "Index: []\n"
     ]
    }
   ],
   "source": [
    "s3 = script(3)  # store 3rd statement\n",
    "\n",
    "print(s3.index)     #> 3\n",
    "print(s3.sql)       #> select * from sample_table\n",
    "print(s3.kw)        #> select\n",
    "print(s3.desc)      #> sample_table\n",
    "print(s3.nm)        #> select~sample_table"
   ]
  },
  {
   "cell_type": "markdown",
   "metadata": {
    "tags": [
     "remove-cell"
    ]
   },
   "source": [
    "```{div} sn-pre-code, sn-post-code\n",
    "Based on statement attributes, `script` can be subsetted and ran within that context:\n",
    "```"
   ]
  },
  {
   "cell_type": "markdown",
   "metadata": {},
   "source": [
    "```{div} sn-pre-code, sn-post-code\n",
    "Based on statement attributes, `script` can be filtered and used within that context:\n",
    "```"
   ]
  },
  {
   "cell_type": "code",
   "execution_count": 65,
   "metadata": {},
   "outputs": [
    {
     "name": "stdout",
     "output_type": "stream",
     "text": [
      "sample_table.sql\n",
      "================\n",
      "<1 of 3> create table~s1 (0s)............................... <completed>\n",
      "<2 of 3> insert into~s2 (0s)................................ <completed>\n",
      "<3 of 3> qa-empty~verify 'sample_table' is distinct on 'col1' (0s).... <passed>   \n"
     ]
    }
   ],
   "source": [
    "with script.filter(\n",
    "    excl_desc=[r'.*any_other_table']  # throwing out s5; pattern is regex not glob\n",
    "    excl_kw=['select'],               # throwing out s3\n",
    ") as s:\n",
    "    s.run()"
   ]
  },
  {
   "cell_type": "markdown",
   "metadata": {},
   "source": [
    "```{div} sn-pre-code, sn-post-code\n",
    "Spans of statements are directly executable by index boundaries:\n",
    "```"
   ]
  },
  {
   "cell_type": "code",
   "execution_count": 68,
   "metadata": {},
   "outputs": [
    {
     "name": "stdout",
     "output_type": "stream",
     "text": [
      "sample_table.sql\n",
      "================\n",
      "<1 of 6> create table~s1 (0s)............................... <completed>\n",
      "<2 of 6> insert into~s2 (0s)................................ <completed>\n",
      "<3 of 6> select data~s3 (0s)................................ <completed>\n"
     ]
    }
   ],
   "source": [
    "script.run((1, 3))"
   ]
  },
  {
   "cell_type": "markdown",
   "metadata": {},
   "source": [
    "```{div} sn-pre-code, sn-post-code\n",
    "And their results accessible retroactively:\n",
    "```"
   ]
  },
  {
   "cell_type": "code",
   "execution_count": 48,
   "metadata": {},
   "outputs": [
    {
     "data": {
      "text/html": [
       "<div>\n",
       "<style scoped>\n",
       "    .dataframe tbody tr th:only-of-type {\n",
       "        vertical-align: middle;\n",
       "    }\n",
       "\n",
       "    .dataframe tbody tr th {\n",
       "        vertical-align: top;\n",
       "    }\n",
       "\n",
       "    .dataframe thead th {\n",
       "        text-align: right;\n",
       "    }\n",
       "</style>\n",
       "<table border=\"1\" class=\"dataframe\">\n",
       "  <thead>\n",
       "    <tr style=\"text-align: right;\">\n",
       "      <th></th>\n",
       "      <th>col1</th>\n",
       "      <th>col2</th>\n",
       "    </tr>\n",
       "  </thead>\n",
       "  <tbody>\n",
       "    <tr>\n",
       "      <th>0</th>\n",
       "      <td>1</td>\n",
       "      <td>1</td>\n",
       "    </tr>\n",
       "    <tr>\n",
       "      <th>1</th>\n",
       "      <td>2</td>\n",
       "      <td>4</td>\n",
       "    </tr>\n",
       "    <tr>\n",
       "      <th>2</th>\n",
       "      <td>3</td>\n",
       "      <td>9</td>\n",
       "    </tr>\n",
       "  </tbody>\n",
       "</table>\n",
       "</div>"
      ],
      "text/plain": [
       "   col1  col2\n",
       "0     1     1\n",
       "1     2     4\n",
       "2     3     9"
      ]
     },
     "execution_count": 48,
     "metadata": {},
     "output_type": "execute_result"
    }
   ],
   "source": [
    "script(3).results.head()"
   ]
  },
  {
   "cell_type": "markdown",
   "metadata": {
    "tags": [
     "remove-cell"
    ]
   },
   "source": [
    "```{div} sn-pre-code, sn-post-code\n",
    "Generated SQL can be added directly to `script`:\n",
    "```"
   ]
  },
  {
   "cell_type": "code",
   "execution_count": 60,
   "metadata": {
    "tags": [
     "remove-cell"
    ]
   },
   "outputs": [
    {
     "name": "stdout",
     "output_type": "stream",
     "text": [
      "sample_table.sql\n",
      "================\n",
      "1: Statement('create table~s1')\n",
      "2: Statement('insert into~s2')\n",
      "3: Statement('select data~s3')\n",
      "4: Statement('qa-empty~verify 'sample_table' is distinct on 'col1'')\n",
      "5: Statement('insert into~any_other_table')\n",
      "6: Statement('drop table~s6')\n"
     ]
    }
   ],
   "source": [
    "# Generate some sql\n",
    "drop_sql = sn.sql.drop(nm='sample_table', obj='table', run=False)\n",
    "print(drop_sql)      #> drop table if exists SAMPLE_TABLE\n",
    "\n",
    "# Details (pre)\n",
    "print(script.depth)  #> 5\n",
    "print(script(-1))    #> Statement('insert into~any_other_table')\n",
    "\n",
    "# Add statement\n",
    "script.add_s(s=drop_sql)\n",
    "\n",
    "# Details (post)\n",
    "print(script.depth)  #> 6\n",
    "print(script(-1))    #> Statement('drop table~s6')\n",
    "\n",
    "script.dtl()"
   ]
  },
  {
   "cell_type": "markdown",
   "metadata": {
    "tags": [
     "remove-cell"
    ]
   },
   "source": [
    "```{div} sn-pre-code, sn-post-code\n",
    "And descriptive statements can be skipped instead of commented out:\n",
    "```"
   ]
  },
  {
   "cell_type": "code",
   "execution_count": 72,
   "metadata": {
    "tags": [
     "remove-cell"
    ]
   },
   "outputs": [
    {
     "name": "stdout",
     "output_type": "stream",
     "text": [
      "sample_table.sql\n",
      "================\n",
      "<1 of 5> create table~s1 (0s)............................... <completed>\n",
      "<2 of 5> insert into~s2 (0s)................................ <completed>\n",
      "<3 of 5> qa-empty~verify 'sample_table' is distinct on 'col1' (0s).... <passed>   \n",
      "<4 of 5> insert into~any_other_table (0s)............................. <completed>\n",
      "<5 of 5> drop table~s5 (0s)................................. <completed>\n"
     ]
    }
   ],
   "source": [
    "with script.filter(excl_kw=['select']) as s:\n",
    "    s.run()"
   ]
  },
  {
   "cell_type": "markdown",
   "metadata": {},
   "source": [
    "<hr class=\"sn-spacer\">\n",
    "\n",
    "```{div} sn-pre-code\n",
    "See [Usage: Script](./usage/script.md) for more in-depth use of [snowmobile.Script](./usage/script).\n",
    "```"
   ]
  },
  {
   "cell_type": "markdown",
   "metadata": {
    "tags": [
     "remove-cell"
    ]
   },
   "source": [
    "<br>\n",
    "\n",
    "### *Wrap-Up*\n",
    "<hr class=\"sn-green-thick sn-indent-h-cell-right-m\">\n",
    "\n",
    "`````{admonition} Note\n",
    ":class: note, sn-indent-h-cell-m\n",
    "\n",
    " ```{div} sn-dedent-v-b-h\n",
    " By instantiating `t1` and `script` with the same instance of [{fa}`fixture sn`](fixture-sn),\n",
    " **the same instance of {xref}`SnowflakeConnection` and [Configuration](./usage/snowmobile_toml) \n",
    " is shared amongst:**\n",
    " ```\n",
    " - {class}`sn:` {class}`~snowmobile.Snowmobile`\n",
    " - {class}`t1:` {class}`~snowmobile.Table`\n",
    " - {class}`script:` {class}`~snowmobile.Script`\n",
    "\n",
    "`````"
   ]
  },
  {
   "cell_type": "markdown",
   "metadata": {
    "tags": [
     "remove-cell"
    ]
   },
   "source": [
    "# NO RENDER BELOW THIS POINT\n",
    "---\n",
    "\n",
    "All cells below this are either excluded from output via the `remove-cell` cell-tag\n",
    "or contain contents that will not visibly render in the output."
   ]
  },
  {
   "cell_type": "markdown",
   "metadata": {
    "tags": [
     "remove-cell"
    ]
   },
   "source": [
    "# Style\n",
    "\n",
    "\n",
    "```css\n",
    "<style>\n",
    ".md-typeset h1, .md-typeset h2 {\n",
    "    margin-top: -0.5rem;\n",
    "}\n",
    "    \n",
    ".md-typeset h3 {\n",
    "    margin-top: -0.5rem;\n",
    "    margin-bottom: 0.2rem;\n",
    "    font-size: 140%;\n",
    "}\n",
    "    \n",
    "/* .md-typeset .admonition.is-setup {\n",
    "    border-left-color: #11838e;\n",
    "    margin: -0.15rem 1.5rem .7rem 0.85rem;\n",
    "} */\n",
    "</style>\n",
    "```"
   ]
  },
  {
   "cell_type": "markdown",
   "metadata": {},
   "source": [
    "<style>\n",
    ".md-typeset h1, .md-typeset h2 {\n",
    "    margin-top: -0.5rem;\n",
    "}\n",
    "    \n",
    ".md-typeset h3 {\n",
    "    margin-top: -0.5rem;\n",
    "    margin-bottom: 0.2rem;\n",
    "    font-size: 140%;\n",
    "}\n",
    "    \n",
    "<!-- .md-typeset .admonition.is-setup { -->\n",
    "<!--     border-left-color: #11838e; -->\n",
    "<!--     margin: -0.15rem 1.5rem .7rem 0.85rem; -->\n",
    "<!--     display: block; -->\n",
    "}\n",
    "</style>"
   ]
  }
 ],
 "metadata": {
  "kernelspec": {
   "display_name": "snowmobile2",
   "language": "python",
   "name": "snowmobile2"
  },
  "language_info": {
   "codemirror_mode": {
    "name": "ipython",
    "version": 3
   },
   "file_extension": ".py",
   "mimetype": "text/x-python",
   "name": "python",
   "nbconvert_exporter": "python",
   "pygments_lexer": "ipython3",
   "version": "3.7.0"
  },
  "toc-showtags": false
 },
 "nbformat": 4,
 "nbformat_minor": 4
}
