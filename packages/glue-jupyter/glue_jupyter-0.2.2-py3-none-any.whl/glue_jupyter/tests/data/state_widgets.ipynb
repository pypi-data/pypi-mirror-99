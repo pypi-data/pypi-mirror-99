{
 "cells": [
  {
   "cell_type": "markdown",
   "metadata": {},
   "source": [
    "## About\n",
    "\n",
    "The purpose of this notebook is to easily check the appearance and functionality of widgets to edit the various state objects."
   ]
  },
  {
   "cell_type": "code",
   "execution_count": null,
   "metadata": {},
   "outputs": [],
   "source": [
    "import numpy as np\n",
    "from glue.core import Data\n",
    "data = Data(x=np.ones((3, 2, 4)), y=np.zeros((3, 2, 4)), z=2 * np.ones((3, 2, 4)), label='test data')\n",
    "data.add_subset(data.id['x'] == 1)"
   ]
  },
  {
   "cell_type": "markdown",
   "metadata": {},
   "source": [
    "### Histogram"
   ]
  },
  {
   "cell_type": "code",
   "execution_count": null,
   "metadata": {},
   "outputs": [],
   "source": [
    "from glue.viewers.histogram.state import HistogramViewerState, HistogramLayerState\n",
    "from glue_jupyter.common.state_widgets.viewer_histogram import HistogramViewerStateWidget\n",
    "from glue_jupyter.common.state_widgets.layer_histogram import HistogramLayerStateWidget"
   ]
  },
  {
   "cell_type": "code",
   "execution_count": null,
   "metadata": {},
   "outputs": [],
   "source": [
    "viewer_state_histogram = HistogramViewerState()\n",
    "layer_state_histogram = HistogramLayerState(layer=data)\n",
    "viewer_state_histogram.layers = [layer_state_histogram]"
   ]
  },
  {
   "cell_type": "code",
   "execution_count": null,
   "metadata": {
    "scrolled": true
   },
   "outputs": [],
   "source": [
    "HistogramViewerStateWidget(viewer_state_histogram)"
   ]
  },
  {
   "cell_type": "code",
   "execution_count": null,
   "metadata": {
    "scrolled": true
   },
   "outputs": [],
   "source": [
    "HistogramLayerStateWidget(layer_state_histogram)"
   ]
  },
  {
   "cell_type": "markdown",
   "metadata": {},
   "source": [
    "### Profile"
   ]
  },
  {
   "cell_type": "code",
   "execution_count": null,
   "metadata": {},
   "outputs": [],
   "source": [
    "from glue.viewers.profile.state import ProfileViewerState, ProfileLayerState\n",
    "from glue_jupyter.common.state_widgets.viewer_profile import ProfileViewerStateWidget\n",
    "from glue_jupyter.common.state_widgets.layer_profile import ProfileLayerStateWidget"
   ]
  },
  {
   "cell_type": "code",
   "execution_count": null,
   "metadata": {},
   "outputs": [],
   "source": [
    "viewer_state_profile = ProfileViewerState()\n",
    "layer_state_profile = ProfileLayerState(layer=data)\n",
    "viewer_state_profile.layers = [layer_state_profile]"
   ]
  },
  {
   "cell_type": "code",
   "execution_count": null,
   "metadata": {
    "scrolled": true
   },
   "outputs": [],
   "source": [
    "ProfileViewerStateWidget(viewer_state_profile)"
   ]
  },
  {
   "cell_type": "code",
   "execution_count": null,
   "metadata": {
    "scrolled": true
   },
   "outputs": [],
   "source": [
    "ProfileLayerStateWidget(layer_state_profile)"
   ]
  },
  {
   "cell_type": "markdown",
   "metadata": {},
   "source": [
    "### Scatter 2D"
   ]
  },
  {
   "cell_type": "code",
   "execution_count": null,
   "metadata": {},
   "outputs": [],
   "source": [
    "from glue.viewers.scatter.state import ScatterViewerState\n",
    "from glue_jupyter.bqplot.scatter.layer_artist import BqplotScatterLayerState\n",
    "from glue_jupyter.common.state_widgets.viewer_scatter import ScatterViewerStateWidget\n",
    "from glue_jupyter.common.state_widgets.layer_scatter import ScatterLayerStateWidget"
   ]
  },
  {
   "cell_type": "code",
   "execution_count": null,
   "metadata": {},
   "outputs": [],
   "source": [
    "viewer_state_scatter_2d = ScatterViewerState()\n",
    "layer_state_scatter_2d = BqplotScatterLayerState(layer=data)\n",
    "viewer_state_scatter_2d.layers = [layer_state_scatter_2d]"
   ]
  },
  {
   "cell_type": "code",
   "execution_count": null,
   "metadata": {
    "scrolled": true
   },
   "outputs": [],
   "source": [
    "ScatterViewerStateWidget(viewer_state_scatter_2d)"
   ]
  },
  {
   "cell_type": "code",
   "execution_count": null,
   "metadata": {
    "scrolled": true
   },
   "outputs": [],
   "source": [
    "ScatterLayerStateWidget(layer_state_scatter_2d)"
   ]
  },
  {
   "cell_type": "markdown",
   "metadata": {},
   "source": [
    "### Image"
   ]
  },
  {
   "cell_type": "code",
   "execution_count": null,
   "metadata": {},
   "outputs": [],
   "source": [
    "from glue.viewers.image.state import ImageViewerState, ImageLayerState, ImageSubsetLayerState\n",
    "from glue_jupyter.common.state_widgets.viewer_image import ImageViewerStateWidget\n",
    "from glue_jupyter.common.state_widgets.layer_image import ImageLayerStateWidget, ImageSubsetLayerStateWidget"
   ]
  },
  {
   "cell_type": "code",
   "execution_count": null,
   "metadata": {},
   "outputs": [],
   "source": [
    "viewer_state_image = ImageViewerState()\n",
    "layer_state_image = ImageLayerState(layer=data, viewer_state=viewer_state_image)\n",
    "layer_subset_state_image = ImageSubsetLayerState(layer=data.subsets[0])\n",
    "viewer_state_image.layers = [layer_state_image]"
   ]
  },
  {
   "cell_type": "code",
   "execution_count": null,
   "metadata": {
    "scrolled": true
   },
   "outputs": [],
   "source": [
    "ImageViewerStateWidget(viewer_state_image)"
   ]
  },
  {
   "cell_type": "code",
   "execution_count": null,
   "metadata": {},
   "outputs": [],
   "source": [
    "ImageLayerStateWidget(layer_state_image)"
   ]
  },
  {
   "cell_type": "code",
   "execution_count": null,
   "metadata": {},
   "outputs": [],
   "source": [
    "ImageSubsetLayerStateWidget(layer_subset_state_image)"
   ]
  },
  {
   "cell_type": "markdown",
   "metadata": {},
   "source": [
    "### Scatter 3D"
   ]
  },
  {
   "cell_type": "code",
   "execution_count": null,
   "metadata": {},
   "outputs": [],
   "source": [
    "from glue_jupyter.common.state3d import Scatter3DViewerState\n",
    "from glue_jupyter.ipyvolume.common.viewer_options_widget import Viewer3DStateWidget\n",
    "from glue_jupyter.ipyvolume.scatter.layer_artist import Scatter3DLayerState\n",
    "from glue_jupyter.ipyvolume.scatter.layer_style_widget import Scatter3DLayerStateWidget"
   ]
  },
  {
   "cell_type": "code",
   "execution_count": null,
   "metadata": {},
   "outputs": [],
   "source": [
    "viewer_state_scatter_3d = Scatter3DViewerState()\n",
    "layer_state_scatter_3d = Scatter3DLayerState(layer=data, viewer_state=viewer_state_scatter_3d)\n",
    "viewer_state_scatter_3d.layers = [layer_state_scatter_3d]"
   ]
  },
  {
   "cell_type": "code",
   "execution_count": null,
   "metadata": {},
   "outputs": [],
   "source": [
    "Viewer3DStateWidget(viewer_state_scatter_3d)"
   ]
  },
  {
   "cell_type": "code",
   "execution_count": null,
   "metadata": {
    "scrolled": false
   },
   "outputs": [],
   "source": [
    "Scatter3DLayerStateWidget(layer_state_scatter_3d)"
   ]
  },
  {
   "cell_type": "markdown",
   "metadata": {},
   "source": [
    "### Volume"
   ]
  },
  {
   "cell_type": "code",
   "execution_count": null,
   "metadata": {},
   "outputs": [],
   "source": [
    "from glue_jupyter.common.state3d import VolumeViewerState\n",
    "from glue_jupyter.ipyvolume.common.viewer_options_widget import Viewer3DStateWidget\n",
    "from glue_jupyter.ipyvolume.volume.layer_artist import VolumeLayerState\n",
    "from glue_jupyter.ipyvolume.volume.layer_style_widget import Volume3DLayerStateWidget"
   ]
  },
  {
   "cell_type": "code",
   "execution_count": null,
   "metadata": {},
   "outputs": [],
   "source": [
    "viewer_state_volume = VolumeViewerState()\n",
    "layer_state_volume = VolumeLayerState(layer=data, viewer_state=viewer_state_volume)\n",
    "viewer_state_volume.layers = [layer_state_volume]"
   ]
  },
  {
   "cell_type": "code",
   "execution_count": null,
   "metadata": {},
   "outputs": [],
   "source": [
    "Viewer3DStateWidget(viewer_state_volume)"
   ]
  },
  {
   "cell_type": "code",
   "execution_count": null,
   "metadata": {
    "scrolled": true
   },
   "outputs": [],
   "source": [
    "Volume3DLayerStateWidget(layer_state_volume)"
   ]
  }
 ],
 "metadata": {
  "kernelspec": {
   "display_name": "Python 3",
   "language": "python",
   "name": "python3"
  },
  "language_info": {
   "codemirror_mode": {
    "name": "ipython",
    "version": 3
   },
   "file_extension": ".py",
   "mimetype": "text/x-python",
   "name": "python",
   "nbconvert_exporter": "python",
   "pygments_lexer": "ipython3",
   "version": "3.7.1"
  }
 },
 "nbformat": 4,
 "nbformat_minor": 2
}
