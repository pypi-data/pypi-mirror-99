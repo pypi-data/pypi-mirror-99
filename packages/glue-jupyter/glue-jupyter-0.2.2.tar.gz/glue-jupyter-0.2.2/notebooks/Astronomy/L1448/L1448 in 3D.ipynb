{
 "cells": [
  {
   "cell_type": "markdown",
   "metadata": {},
   "source": [
    "## Exploring the L1448 data in 3D\n",
    "\n",
    "L1448 is a region within the [Perseus Molecular Cloud](https://en.wikipedia.org/wiki/Perseus_molecular_cloud), a star-formation region located at a distance of 600ly from the Sun. This notebook takes a look at a *spectral cube*, a 3D dataset where two dimensions are the spatial positions on the sky, and the third dimension is e.g. wavelength.\n",
    "\n",
    "### About the data\n",
    "\n",
    "The data is a 13CO spectral cube of the L1448 region. The data can be found in https://github.com/glue-viz/glue-example-data/tree/master/Astronomy/L1448/. For convenience we can use the ``require_data`` function to\n",
    "automatically download it here:"
   ]
  },
  {
   "cell_type": "code",
   "execution_count": null,
   "metadata": {},
   "outputs": [],
   "source": [
    "from glue_jupyter.data import require_data\n",
    "require_data('Astronomy/L1448/l1448_13co.fits')"
   ]
  },
  {
   "cell_type": "markdown",
   "metadata": {},
   "source": [
    "### Starting up the glue Jupyter application"
   ]
  },
  {
   "cell_type": "markdown",
   "metadata": {},
   "source": [
    "Let's start up glue and load in the main data file:"
   ]
  },
  {
   "cell_type": "code",
   "execution_count": null,
   "metadata": {},
   "outputs": [],
   "source": [
    "import glue_jupyter as gj\n",
    "app = gj.jglue()"
   ]
  },
  {
   "cell_type": "code",
   "execution_count": null,
   "metadata": {},
   "outputs": [],
   "source": [
    "cube = app.load_data('l1448_13co.fits')"
   ]
  },
  {
   "cell_type": "markdown",
   "metadata": {},
   "source": [
    "### 3D volume rendering viewer\n",
    "\n",
    "We can start off by taking a look at the data in the volume viewer:"
   ]
  },
  {
   "cell_type": "code",
   "execution_count": null,
   "metadata": {
    "scrolled": false
   },
   "outputs": [],
   "source": [
    "app.volshow(data=cube)"
   ]
  }
 ],
 "metadata": {
  "kernelspec": {
   "display_name": "Python 3",
   "language": "python",
   "name": "python3"
  },
  "language_info": {
   "codemirror_mode": {
    "name": "ipython",
    "version": 3
   },
   "file_extension": ".py",
   "mimetype": "text/x-python",
   "name": "python",
   "nbconvert_exporter": "python",
   "pygments_lexer": "ipython3",
   "version": "3.7.1"
  }
 },
 "nbformat": 4,
 "nbformat_minor": 2
}
