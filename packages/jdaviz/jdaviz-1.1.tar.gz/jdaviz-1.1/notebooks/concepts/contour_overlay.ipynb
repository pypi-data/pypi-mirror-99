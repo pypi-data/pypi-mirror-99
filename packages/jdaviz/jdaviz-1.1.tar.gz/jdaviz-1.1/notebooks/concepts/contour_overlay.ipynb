{
 "cells": [
  {
   "cell_type": "markdown",
   "metadata": {},
   "source": [
    "# Contour Overlay "
   ]
  },
  {
   "cell_type": "markdown",
   "metadata": {},
   "source": [
    "## Imports \n",
    "* _numpy_ for array math\n",
    "* _astropy.io_ for reading and writing FITS cubes and images\n",
    "* _matplotlib.pyplot_ for plotting spectra and images."
   ]
  },
  {
   "cell_type": "code",
   "execution_count": null,
   "metadata": {},
   "outputs": [],
   "source": [
    "from astropy.io import fits\n",
    "from astropy.visualization import SqrtStretch\n",
    "from astropy.visualization.mpl_normalize import ImageNormalize\n",
    "import numpy as np\n",
    "\n",
    "import matplotlib\n",
    "from matplotlib import pyplot as plt\n",
    "%matplotlib inline"
   ]
  },
  {
   "cell_type": "markdown",
   "metadata": {},
   "source": [
    "## Read in data cube\n",
    "Read in NIRSpec IFU data cube from Box.   This particular example is a simulated quasar + host galaxy."
   ]
  },
  {
   "cell_type": "code",
   "execution_count": null,
   "metadata": {},
   "outputs": [],
   "source": [
    "BoxPath='https://data.science.stsci.edu/redirect/JWST/jwst-data_analysis_tools/cube_fitting/Q3D_20200407/'\n",
    "fname='Q3D_NRS_491_s3d.fits'\n",
    "filename=BoxPath+fname\n",
    "hdul1=fits.open(filename)\n",
    "hdul1.info()\n",
    "\n",
    "with fits.open(filename, memmap=False) as hdulist:\n",
    "    sci = hdulist[\"SCI\"].data\n"
   ]
  },
  {
   "cell_type": "markdown",
   "metadata": {},
   "source": [
    "## Sum over spectral axis\n",
    "\n",
    "This could be any derivative data product of the same shape as the spatial dimensions of the cube (emission line flux, equivalent width, velocity map, etc...). Here we are doing one of the simplest operations - a sum, for illustrative purposes"
   ]
  },
  {
   "cell_type": "code",
   "execution_count": null,
   "metadata": {},
   "outputs": [],
   "source": [
    "cube_sum=np.sum(sci, axis=0)"
   ]
  },
  {
   "cell_type": "markdown",
   "metadata": {},
   "source": [
    "## Generate contours\n",
    "User-specified contour levels in specified units. Custom colors are important, but could be added at a later stage if technically complicated.  Logarithmic and linear spacing options to auto-generate contours would be nice."
   ]
  },
  {
   "cell_type": "code",
   "execution_count": null,
   "metadata": {},
   "outputs": [],
   "source": [
    "min_level=np.min(cube_sum)\n",
    "max_level=np.max(cube_sum)\n",
    "level_colors=['blue', 'purple','red', 'magenta']\n",
    "contour_levels=[max_level/10000., max_level/1000., max_level/100., max_level/10.]"
   ]
  },
  {
   "cell_type": "markdown",
   "metadata": {},
   "source": [
    "## Display image and overlay contours"
   ]
  },
  {
   "cell_type": "code",
   "execution_count": null,
   "metadata": {},
   "outputs": [],
   "source": [
    "ax = plt.subplots()[1]\n",
    "\n",
    "#Image normalization\n",
    "norm = ImageNormalize(stretch=SqrtStretch())\n",
    "\n",
    "#Display image\n",
    "ax.imshow(cube_sum, cmap='gray', origin='lower', norm=norm)\n",
    "\n",
    "#Overlay contours\n",
    "ax.contour(cube_sum, levels=contour_levels, colors=level_colors)\n"
   ]
  }
 ],
 "metadata": {
  "kernelspec": {
   "display_name": "Python 3",
   "language": "python",
   "name": "python3"
  },
  "language_info": {
   "codemirror_mode": {
    "name": "ipython",
    "version": 3
   },
   "file_extension": ".py",
   "mimetype": "text/x-python",
   "name": "python",
   "nbconvert_exporter": "python",
   "pygments_lexer": "ipython3",
   "version": "3.8.2"
  }
 },
 "nbformat": 4,
 "nbformat_minor": 4
}
