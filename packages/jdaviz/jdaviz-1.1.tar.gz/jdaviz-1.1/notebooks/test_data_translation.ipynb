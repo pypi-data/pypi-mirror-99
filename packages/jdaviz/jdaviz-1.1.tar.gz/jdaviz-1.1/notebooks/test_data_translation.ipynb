{
 "cells": [
  {
   "cell_type": "code",
   "execution_count": 1,
   "metadata": {},
   "outputs": [],
   "source": [
    "from specutils import Spectrum1D\n",
    "from astropy import units as u\n",
    "from glue.config import data_translator\n",
    "from glue.core import Data, DataCollection"
   ]
  },
  {
   "cell_type": "code",
   "execution_count": 2,
   "metadata": {},
   "outputs": [],
   "source": [
    "@data_translator(Spectrum1D)\n",
    "class Spectrum1DHandler:\n",
    "    def to_data(self, obj):\n",
    "        data = Data()\n",
    "        data['spectral_axis'] = obj.spectral_axis\n",
    "        data['flux'] = obj.data\n",
    "        data.get_component('flux').units = str(spec.flux.unit)\n",
    "        data.meta['s1d'] = obj\n",
    "        return data\n",
    "\n",
    "    def to_object(self, data):\n",
    "        return data.meta['s1d']"
   ]
  },
  {
   "cell_type": "code",
   "execution_count": 3,
   "metadata": {},
   "outputs": [],
   "source": [
    "spec = Spectrum1D([0.2, 0.3, 2.2, 0.3] * u.Jy, spectral_axis=[1, 2, 3, 4] * u.micron)\n",
    "dc = DataCollection()\n",
    "dc['spec'] = spec "
   ]
  },
  {
   "cell_type": "code",
   "execution_count": 4,
   "metadata": {},
   "outputs": [
    {
     "name": "stdout",
     "output_type": "stream",
     "text": [
      "DataCollection (1 data set)\n",
      "\t  0: spec\n"
     ]
    }
   ],
   "source": [
    "print(dc)"
   ]
  },
  {
   "cell_type": "code",
   "execution_count": 5,
   "metadata": {},
   "outputs": [
    {
     "name": "stdout",
     "output_type": "stream",
     "text": [
      "Data Set: spec\n",
      "Number of dimensions: 1\n",
      "Shape: 4\n",
      "Main components:\n",
      " - spectral_axis\n",
      " - flux [Jy]\n",
      "Coordinate components:\n",
      " - Pixel Axis 0 [x]\n"
     ]
    }
   ],
   "source": [
    "print(dc['spec'])"
   ]
  },
  {
   "cell_type": "code",
   "execution_count": 6,
   "metadata": {},
   "outputs": [
    {
     "data": {
      "text/plain": [
       "<Spectrum1D(flux=<Quantity [0.2, 0.3, 2.2, 0.3] Jy>, spectral_axis=<Quantity [1., 2., 3., 4.] micron>)>"
      ]
     },
     "execution_count": 6,
     "metadata": {},
     "output_type": "execute_result"
    }
   ],
   "source": [
    "dc['spec'].get_object()"
   ]
  }
 ],
 "metadata": {
  "kernelspec": {
   "display_name": "Python 3",
   "language": "python",
   "name": "python3"
  },
  "language_info": {
   "codemirror_mode": {
    "name": "ipython",
    "version": 3
   },
   "file_extension": ".py",
   "mimetype": "text/x-python",
   "name": "python",
   "nbconvert_exporter": "python",
   "pygments_lexer": "ipython3",
   "version": "3.7.3"
  }
 },
 "nbformat": 4,
 "nbformat_minor": 4
}
