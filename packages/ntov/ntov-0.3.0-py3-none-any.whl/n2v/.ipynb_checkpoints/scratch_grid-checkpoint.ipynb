{
 "cells": [
  {
   "cell_type": "code",
   "execution_count": 78,
   "metadata": {},
   "outputs": [],
   "source": [
    "import psi4\n",
    "import matplotlib.pyplot as plt\n",
    "import numpy as np\n",
    "from opt_einsum import contract\n",
    "\n",
    "psi4.set_options({\"save_jk\" : True})\n",
    "psi4.set_memory(int(2.50e9))\n",
    "psi4.core.clean()\n",
    "\n",
    "import n2v\n"
   ]
  },
  {
   "cell_type": "code",
   "execution_count": 89,
   "metadata": {},
   "outputs": [],
   "source": [
    "Be = psi4.geometry( \n",
    "\"\"\" \n",
    "0 1\n",
    "Kr\n",
    "noreorient\n",
    "nocom\n",
    "units bohr\n",
    "symmetry c1\n",
    "\"\"\" )\n",
    "\n",
    "psi4.set_options({\"reference\" : \"rhf\"})  # Spin-Restricted\n",
    "\n",
    "# IMPORTANT NOTE: psi4.energy does not update cc densities. So we calculate dipole moments instead.\n",
    "wfn = psi4.properties(\"svwn/aug-cc-pvtz\",  return_wfn=True, molecule=Be, property=['dipole'])[1]"
   ]
  },
  {
   "cell_type": "code",
   "execution_count": 90,
   "metadata": {},
   "outputs": [
    {
     "name": "stdout",
     "output_type": "stream",
     "text": [
      "Optimization Successful within 5 iterations! |grad|=8.91e-06\n",
      "WARNING: XC Energy is not yet properly calculated\n"
     ]
    }
   ],
   "source": [
    "# Build inverter and set target\n",
    "ibe = n2v.Inverter(wfn)\n",
    "\n",
    "# Inverter with WuYang method, guide potention v0=Fermi-Amaldi\n",
    "ibe.invert(\"WuYang\", guide_potential_components=[\"fermi_amaldi\"], opt_tol=1e-5)"
   ]
  },
  {
   "cell_type": "code",
   "execution_count": 91,
   "metadata": {},
   "outputs": [
    {
     "data": {
      "text/plain": [
       "(3, 101)"
      ]
     },
     "execution_count": 91,
     "metadata": {},
     "output_type": "execute_result"
    }
   ],
   "source": [
    "x = np.linspace(-5,5,101)\n",
    "y = np.zeros_like(x)\n",
    "z = np.zeros_like(x)\n",
    "grids = np.array([x,y,z])\n",
    "grids.shape"
   ]
  },
  {
   "cell_type": "code",
   "execution_count": 92,
   "metadata": {},
   "outputs": [],
   "source": [
    "xyzw = ibe.generate_dft_grid(wfn)"
   ]
  },
  {
   "cell_type": "code",
   "execution_count": 93,
   "metadata": {},
   "outputs": [],
   "source": [
    "density = ibe.on_grid_density(grid=xyzw)"
   ]
  },
  {
   "cell_type": "code",
   "execution_count": 94,
   "metadata": {},
   "outputs": [
    {
     "data": {
      "text/plain": [
       "(21594, 1)"
      ]
     },
     "execution_count": 94,
     "metadata": {},
     "output_type": "execute_result"
    }
   ],
   "source": [
    "density.shape"
   ]
  },
  {
   "cell_type": "code",
   "execution_count": 97,
   "metadata": {},
   "outputs": [
    {
     "ename": "IndexError",
     "evalue": "index 1 is out of bounds for axis 1 with size 1",
     "output_type": "error",
     "traceback": [
      "\u001b[0;31m---------------------------------------------------------------------------\u001b[0m",
      "\u001b[0;31mIndexError\u001b[0m                                Traceback (most recent call last)",
      "\u001b[0;32m<ipython-input-97-e987a461e486>\u001b[0m in \u001b[0;36m<module>\u001b[0;34m\u001b[0m\n\u001b[0;32m----> 1\u001b[0;31m \u001b[0mnp\u001b[0m\u001b[0;34m.\u001b[0m\u001b[0msum\u001b[0m\u001b[0;34m(\u001b[0m\u001b[0mdensity\u001b[0m\u001b[0;34m[\u001b[0m\u001b[0;34m:\u001b[0m\u001b[0;34m,\u001b[0m\u001b[0;36m1\u001b[0m\u001b[0;34m]\u001b[0m \u001b[0;34m*\u001b[0m  \u001b[0mxyzw\u001b[0m\u001b[0;34m[\u001b[0m\u001b[0;36m3\u001b[0m\u001b[0;34m,\u001b[0m\u001b[0;34m:\u001b[0m\u001b[0;34m]\u001b[0m\u001b[0;34m)\u001b[0m\u001b[0;34m\u001b[0m\u001b[0;34m\u001b[0m\u001b[0m\n\u001b[0m",
      "\u001b[0;31mIndexError\u001b[0m: index 1 is out of bounds for axis 1 with size 1"
     ]
    }
   ],
   "source": [
    " np.sum(density[:,1] *  xyzw[3,:])"
   ]
  },
  {
   "cell_type": "code",
   "execution_count": 96,
   "metadata": {},
   "outputs": [
    {
     "data": {
      "text/plain": [
       "18.0"
      ]
     },
     "execution_count": 96,
     "metadata": {},
     "output_type": "execute_result"
    }
   ],
   "source": [
    "np.ceil(np.sum(density[:,0] *  xyzw[3,:]))"
   ]
  },
  {
   "cell_type": "code",
   "execution_count": 98,
   "metadata": {},
   "outputs": [],
   "source": [
    "def _get_l_kinetic_energy_density_directly(wfn, D, C, grid_info=None):\n",
    "        \"\"\"\n",
    "        Calculate $\\frac{\\tau_L^{KS}}{\\rho^{KS}}-\\frac{\\tau_P^{KS}}{\\rho^{KS}}$,\n",
    "        (i.e. the 2dn and 3rd term in eqn. (17) in [1]):\n",
    "        \"\"\"\n",
    "        \n",
    "        Vpot = wfn.V_potential()\n",
    "\n",
    "        if grid_info is None:\n",
    "            tauLmP_rho = np.zeros(Vpot.grid().npoints())\n",
    "            nblocks = Vpot.nblocks()\n",
    "\n",
    "            points_func = Vpot.properties()[0]\n",
    "            blocks = None\n",
    "\n",
    "        else:\n",
    "            blocks, npoints, points_func = grid_info\n",
    "            tauLmP_rho = np.zeros(npoints)\n",
    "            nblocks = len(blocks)\n",
    "            gradient = np.zeros(npoints)\n",
    "\n",
    "        points_func.set_deriv(2)\n",
    "\n",
    "        iw = 0\n",
    "        for l_block in range(nblocks):\n",
    "            # Obtain general grid information\n",
    "            if blocks is None:\n",
    "                l_grid = Vpot.get_block(l_block)\n",
    "            else:\n",
    "                l_grid = blocks[l_block]\n",
    "            l_npoints = l_grid.npoints()\n",
    "\n",
    "            points_func.compute_points(l_grid)\n",
    "            l_lpos = np.array(l_grid.functions_local_to_global())\n",
    "            if len(l_lpos) == 0:\n",
    "                iw += l_npoints\n",
    "                continue\n",
    "            l_phi = np.array(points_func.basis_values()[\"PHI\"])[:l_npoints, :l_lpos.shape[0]]\n",
    "            l_phi_x = np.array(points_func.basis_values()[\"PHI_X\"])[:l_npoints, :l_lpos.shape[0]]\n",
    "            l_phi_y = np.array(points_func.basis_values()[\"PHI_Y\"])[:l_npoints, :l_lpos.shape[0]]\n",
    "            l_phi_z = np.array(points_func.basis_values()[\"PHI_Z\"])[:l_npoints, :l_lpos.shape[0]]\n",
    "            l_phi_xx = np.array(points_func.basis_values()[\"PHI_XX\"])[:l_npoints, :l_lpos.shape[0]]\n",
    "            l_phi_yy = np.array(points_func.basis_values()[\"PHI_YY\"])[:l_npoints, :l_lpos.shape[0]]\n",
    "            l_phi_zz = np.array(points_func.basis_values()[\"PHI_ZZ\"])[:l_npoints, :l_lpos.shape[0]]\n",
    "\n",
    "            lD = D[(l_lpos[:, None], l_lpos)]\n",
    "            rho = contract('pm,mn,pn->p', l_phi, lD, l_phi)\n",
    "\n",
    "            # Calculate the second term 0.25*\\nabla^2\\rho\n",
    "            laplace_rho_temp = contract('ab,pa,pb->p', lD, l_phi, l_phi_xx + l_phi_yy + l_phi_zz)\n",
    "            laplace_rho_temp += np.sum((l_phi_x @ lD) * l_phi_x, axis=1)\n",
    "            laplace_rho_temp += np.sum((l_phi_y @ lD) * l_phi_y, axis=1)\n",
    "            laplace_rho_temp += np.sum((l_phi_z @ lD) * l_phi_z, axis=1)\n",
    "\n",
    "#             laplace_rho_temp *= 0.25 * 2\n",
    "\n",
    "            # Calculate the third term |nabla rho|^2 / 8\n",
    "            tauW_temp  = contract('pm, mn, pn->p', l_phi, lD, l_phi_x) ** 2\n",
    "            tauW_temp += contract('pm, mn, pn->p', l_phi, lD, l_phi_y) ** 2\n",
    "            tauW_temp += contract('pm, mn, pn->p', l_phi, lD, l_phi_z) ** 2\n",
    "#             tauW_temp *= rho_inv * 0.125 * 4\n",
    "\n",
    "#             tauLmP_rho[iw: iw + l_npoints] = (-laplace_rho_temp + tauW_temp) * rho_inv\n",
    "            tauLmP_rho[iw: iw + l_npoints] = laplace_rho_temp\n",
    "            iw += l_npoints\n",
    "        assert iw == tauLmP_rho.shape[0], \"Somehow the whole space is not fully integrated.\"\n",
    "\n",
    "        return tauLmP_rho\n"
   ]
  },
  {
   "cell_type": "code",
   "execution_count": 99,
   "metadata": {},
   "outputs": [],
   "source": [
    "gradient = _get_l_kinetic_energy_density_directly(wfn=wfn, D=wfn.Da().np, C=wfn.Ca_subset(\"AO\", \"OCC\").np)"
   ]
  },
  {
   "cell_type": "code",
   "execution_count": 100,
   "metadata": {},
   "outputs": [
    {
     "data": {
      "text/plain": [
       "(21594,)"
      ]
     },
     "execution_count": 100,
     "metadata": {},
     "output_type": "execute_result"
    }
   ],
   "source": [
    "gradient.shape"
   ]
  },
  {
   "cell_type": "code",
   "execution_count": 117,
   "metadata": {},
   "outputs": [],
   "source": [
    "densidad = []\n",
    "zgrid = []\n",
    "for i in range(len(gradient)):\n",
    "    if np.np.abs(xyzw[0][i]), 0.0, atol=1e1) is True:\n",
    "        if np.isclose(np.abs(xyzw[1][i]), 0.0, atol=1e1) is True:\n",
    "            densidad.append( gradient[i] )\n",
    "            zgrid.append( xyzw[2][i] )"
   ]
  },
  {
   "cell_type": "code",
   "execution_count": 123,
   "metadata": {},
   "outputs": [
    {
     "data": {
      "text/plain": [
       "-23.6045054778127"
      ]
     },
     "execution_count": 123,
     "metadata": {},
     "output_type": "execute_result"
    }
   ],
   "source": [
    "min(xyzw[0])"
   ]
  },
  {
   "cell_type": "code",
   "execution_count": 120,
   "metadata": {},
   "outputs": [
    {
     "data": {
      "text/plain": [
       "[]"
      ]
     },
     "execution_count": 120,
     "metadata": {},
     "output_type": "execute_result"
    }
   ],
   "source": [
    "zgrid"
   ]
  },
  {
   "cell_type": "code",
   "execution_count": null,
   "metadata": {},
   "outputs": [],
   "source": []
  }
 ],
 "metadata": {
  "kernelspec": {
   "display_name": "Python 3",
   "language": "python",
   "name": "python3"
  },
  "language_info": {
   "codemirror_mode": {
    "name": "ipython",
    "version": 3
   },
   "file_extension": ".py",
   "mimetype": "text/x-python",
   "name": "python",
   "nbconvert_exporter": "python",
   "pygments_lexer": "ipython3",
   "version": "3.8.5"
  }
 },
 "nbformat": 4,
 "nbformat_minor": 4
}
