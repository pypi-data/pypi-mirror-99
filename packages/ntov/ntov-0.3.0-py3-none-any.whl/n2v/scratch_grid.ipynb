{
 "cells": [
  {
   "cell_type": "code",
   "execution_count": 1,
   "metadata": {},
   "outputs": [],
   "source": [
    "import psi4\n",
    "import matplotlib.pyplot as plt\n",
    "import numpy as np\n",
    "from opt_einsum import contract\n",
    "\n",
    "psi4.set_options({\"save_jk\" : True})\n",
    "psi4.set_memory(int(2.50e9))\n",
    "psi4.core.clean()\n",
    "\n",
    "import n2v\n"
   ]
  },
  {
   "cell_type": "code",
   "execution_count": null,
   "metadata": {},
   "outputs": [],
   "source": [
    "psi"
   ]
  },
  {
   "cell_type": "code",
   "execution_count": 65,
   "metadata": {},
   "outputs": [],
   "source": [
    "Be = psi4.geometry( \n",
    "\"\"\" \n",
    "0 1\n",
    "Kr\n",
    "noreorient\n",
    "nocom\n",
    "units bohr\n",
    "symmetry c1\n",
    "\"\"\" )\n",
    "\n",
    "psi4.set_options({\"reference\" : \"rhf\",\n",
    "                  \"dft_radial_points\" : \"500\"})  # Spin-Restricted\n",
    "\n",
    "# IMPORTANT NOTE: psi4.energy does not update cc densities. So we calculate dipole moments instead.\n",
    "wfn = psi4.properties(\"svwn/aug-cc-pvtz\",  return_wfn=True, molecule=Be, property=['dipole'])[1]"
   ]
  },
  {
   "cell_type": "code",
   "execution_count": 66,
   "metadata": {},
   "outputs": [
    {
     "name": "stdout",
     "output_type": "stream",
     "text": [
      "Optimization Successful within 5 iterations! |grad|=8.92e-06\n",
      "WARNING: XC Energy is not yet properly calculated\n"
     ]
    }
   ],
   "source": [
    "# Build inverter and set target\n",
    "ibe = n2v.Inverter(wfn)\n",
    "\n",
    "# Inverter with WuYang method, guide potention v0=Fermi-Amaldi\n",
    "ibe.invert(\"WuYang\", guide_potential_components=[\"fermi_amaldi\"], opt_tol=1e-5)"
   ]
  },
  {
   "cell_type": "code",
   "execution_count": 67,
   "metadata": {},
   "outputs": [
    {
     "data": {
      "text/plain": [
       "(3, 101)"
      ]
     },
     "execution_count": 67,
     "metadata": {},
     "output_type": "execute_result"
    }
   ],
   "source": [
    "x = np.linspace(-5,5,101)\n",
    "y = np.zeros_like(x)\n",
    "z = np.zeros_like(x)\n",
    "grids = np.array([x,y,z])\n",
    "grids.shape"
   ]
  },
  {
   "cell_type": "code",
   "execution_count": 68,
   "metadata": {},
   "outputs": [],
   "source": [
    "xyzw = ibe.generate_dft_grid(wfn)"
   ]
  },
  {
   "cell_type": "code",
   "execution_count": 69,
   "metadata": {},
   "outputs": [],
   "source": [
    "density = ibe.on_grid_density(grid=xyzw)"
   ]
  },
  {
   "cell_type": "code",
   "execution_count": 70,
   "metadata": {},
   "outputs": [
    {
     "data": {
      "text/plain": [
       "18.0"
      ]
     },
     "execution_count": 70,
     "metadata": {},
     "output_type": "execute_result"
    }
   ],
   "source": [
    "np.ceil(np.sum(density[:,0] *  xyzw[3,:]))"
   ]
  },
  {
   "cell_type": "code",
   "execution_count": 71,
   "metadata": {},
   "outputs": [],
   "source": [
    "def _get_l_kinetic_energy_density_directly(wfn, D, C, grid_info=None):\n",
    "        \"\"\"\n",
    "        Calculate $\\frac{\\tau_L^{KS}}{\\rho^{KS}}-\\frac{\\tau_P^{KS}}{\\rho^{KS}}$,\n",
    "        (i.e. the 2dn and 3rd term in eqn. (17) in [1]):\n",
    "        \"\"\"\n",
    "        \n",
    "        Vpot = wfn.V_potential()\n",
    "\n",
    "        if grid_info is None:\n",
    "            tauLmP_rho = np.zeros(Vpot.grid().npoints())\n",
    "            nblocks = Vpot.nblocks()\n",
    "\n",
    "            points_func = Vpot.properties()[0]\n",
    "            blocks = None\n",
    "\n",
    "        else:\n",
    "            blocks, npoints, points_func = grid_info\n",
    "            tauLmP_rho = np.zeros(npoints)\n",
    "            nblocks = len(blocks)\n",
    "            gradient = np.zeros(npoints)\n",
    "\n",
    "        points_func.set_deriv(2)\n",
    "\n",
    "        iw = 0\n",
    "        for l_block in range(nblocks):\n",
    "            # Obtain general grid information\n",
    "            if blocks is None:\n",
    "                l_grid = Vpot.get_block(l_block)\n",
    "            else:\n",
    "                l_grid = blocks[l_block]\n",
    "            l_npoints = l_grid.npoints()\n",
    "\n",
    "            points_func.compute_points(l_grid)\n",
    "            l_lpos = np.array(l_grid.functions_local_to_global())\n",
    "            if len(l_lpos) == 0:\n",
    "                iw += l_npoints\n",
    "                continue\n",
    "            l_phi = np.array(points_func.basis_values()[\"PHI\"])[:l_npoints, :l_lpos.shape[0]]\n",
    "            l_phi_x = np.array(points_func.basis_values()[\"PHI_X\"])[:l_npoints, :l_lpos.shape[0]]\n",
    "            l_phi_y = np.array(points_func.basis_values()[\"PHI_Y\"])[:l_npoints, :l_lpos.shape[0]]\n",
    "            l_phi_z = np.array(points_func.basis_values()[\"PHI_Z\"])[:l_npoints, :l_lpos.shape[0]]\n",
    "            l_phi_xx = np.array(points_func.basis_values()[\"PHI_XX\"])[:l_npoints, :l_lpos.shape[0]]\n",
    "            l_phi_yy = np.array(points_func.basis_values()[\"PHI_YY\"])[:l_npoints, :l_lpos.shape[0]]\n",
    "            l_phi_zz = np.array(points_func.basis_values()[\"PHI_ZZ\"])[:l_npoints, :l_lpos.shape[0]]\n",
    "\n",
    "            lD = D[(l_lpos[:, None], l_lpos)]\n",
    "            rho = contract('pm,mn,pn->p', l_phi, lD, l_phi)\n",
    "\n",
    "            # Calculate the second term 0.25*\\nabla^2\\rho\n",
    "            laplace_rho_temp = contract('ab,pa,pb->p', lD, l_phi, l_phi_xx + l_phi_yy + l_phi_zz)\n",
    "            laplace_rho_temp += np.sum((l_phi_x @ lD) * l_phi_x, axis=1)\n",
    "            laplace_rho_temp += np.sum((l_phi_y @ lD) * l_phi_y, axis=1)\n",
    "            laplace_rho_temp += np.sum((l_phi_z @ lD) * l_phi_z, axis=1)\n",
    "\n",
    "#             laplace_rho_temp *= 0.25 * 2\n",
    "\n",
    "            # Calculate the third term |nabla rho|^2 / 8\n",
    "            tauW_temp  = contract('pm, mn, pn->p', l_phi, lD, l_phi_x) ** 2\n",
    "            tauW_temp += contract('pm, mn, pn->p', l_phi, lD, l_phi_y) ** 2\n",
    "            tauW_temp += contract('pm, mn, pn->p', l_phi, lD, l_phi_z) ** 2\n",
    "#             tauW_temp *= rho_inv * 0.125 * 4\n",
    "\n",
    "#             tauLmP_rho[iw: iw + l_npoints] = (-laplace_rho_temp + tauW_temp) * rho_inv\n",
    "            tauLmP_rho[iw: iw + l_npoints] = laplace_rho_temp\n",
    "            iw += l_npoints\n",
    "        assert iw == tauLmP_rho.shape[0], \"Somehow the whole space is not fully integrated.\"\n",
    "\n",
    "        return tauLmP_rho\n"
   ]
  },
  {
   "cell_type": "code",
   "execution_count": 72,
   "metadata": {},
   "outputs": [],
   "source": [
    "gradient = _get_l_kinetic_energy_density_directly(wfn=wfn, D=wfn.Da().np, C=wfn.Ca_subset(\"AO\", \"OCC\").np)"
   ]
  },
  {
   "cell_type": "code",
   "execution_count": 73,
   "metadata": {},
   "outputs": [
    {
     "data": {
      "text/plain": [
       "(21594,)"
      ]
     },
     "execution_count": 73,
     "metadata": {},
     "output_type": "execute_result"
    }
   ],
   "source": [
    "gradient.shape"
   ]
  },
  {
   "cell_type": "code",
   "execution_count": 74,
   "metadata": {},
   "outputs": [],
   "source": [
    "grad = []\n",
    "zgrid = []\n",
    "dens = []\n",
    "\n",
    "for i in range(len(gradient)):\n",
    "    if np.isclose(np.abs(xyzw[0][i]), 0.0):\n",
    "        if np.isclose(np.abs(xyzw[1][i]), 0.0):\n",
    "            grad.append( gradient[i] )\n",
    "            zgrid.append( xyzw[2][i] )\n",
    "            dens.append( density[i])\n",
    "        \n",
    "grad = np.array(grad)\n",
    "zgrid = np.array(zgrid)\n",
    "dens = np.array(dens)\n",
    "\n",
    "ind = zgrid.argsort()\n",
    "grad  = grad[ind]\n",
    "zgrid    = zgrid[ind]\n",
    "dens   = dens[ind]"
   ]
  },
  {
   "cell_type": "code",
   "execution_count": 75,
   "metadata": {},
   "outputs": [
    {
     "data": {
      "text/plain": [
       "(142,)"
      ]
     },
     "execution_count": 75,
     "metadata": {},
     "output_type": "execute_result"
    }
   ],
   "source": [
    "grad.shape"
   ]
  },
  {
   "cell_type": "code",
   "execution_count": 82,
   "metadata": {},
   "outputs": [
    {
     "data": {
      "text/plain": [
       "(0.0, 3.0)"
      ]
     },
     "execution_count": 82,
     "metadata": {},
     "output_type": "execute_result"
    },
    {
     "data": {
      "image/png": "[encoded data removed]",
      "text/plain": [
       "<Figure size 432x288 with 1 Axes>"
      ]
     },
     "metadata": {
      "needs_background": "light"
     },
     "output_type": "display_data"
    }
   ],
   "source": [
    "# plt.plot(zgrid,np.abs(grad)/(dens[:,0]**(5/3)))\n",
    "plt.plot(zgrid, dens)\n",
    "plt.plot(zgrid, grad)\n",
    "plt.ylim(-2,5)\n",
    "plt.xlim(0,3)"
   ]
  },
  {
   "cell_type": "code",
   "execution_count": 52,
   "metadata": {},
   "outputs": [
    {
     "data": {
      "text/plain": [
       "array([-2.36045055e+01, -2.14489436e+01, -1.96789404e+01, -1.81751578e+01,\n",
       "       -1.68665782e+01, -1.57075534e+01, -1.46670371e+01, -1.37229800e+01,\n",
       "       -1.28591765e+01, -1.20633797e+01, -1.13261173e+01, -1.06399189e+01,\n",
       "       -9.99879269e+00, -9.39786198e+00, -8.83310603e+00, -8.30117127e+00,\n",
       "       -7.79923116e+00, -7.32488050e+00, -6.87605444e+00, -6.45096565e+00,\n",
       "       -6.04805496e+00, -5.66595214e+00, -5.30344450e+00, -4.95945149e+00,\n",
       "       -4.63300388e+00, -4.32322683e+00, -4.02932572e+00, -3.75057441e+00,\n",
       "       -3.48630548e+00, -3.23590192e+00, -2.99879013e+00, -2.77443402e+00,\n",
       "       -2.56232992e+00, -2.36200230e+00, -2.17300000e+00, -1.99489310e+00,\n",
       "       -1.82727013e+00, -1.66973572e+00, -1.52190854e+00, -1.38341953e+00,\n",
       "       -1.25391035e+00, -1.13303209e+00, -1.02044409e+00, -9.15812980e-01,\n",
       "       -8.18811792e-01, -7.29119277e-01, -6.46419260e-01, -5.70400127e-01,\n",
       "       -5.00754384e-01, -4.37178301e-01, -3.79371615e-01, -3.27037309e-01,\n",
       "       -2.79881436e-01, -2.37613001e-01, -1.99943893e-01, -1.66588861e-01,\n",
       "       -1.37265532e-01, -1.11694474e-01, -8.95993009e-02, -7.07068136e-02,\n",
       "       -5.47471925e-02, -4.14542297e-02, -3.05656154e-02, -2.18232810e-02,\n",
       "       -1.49738118e-02, -9.76894481e-03, -5.96617809e-03, -3.32953031e-03,\n",
       "       -1.63051908e-03, -6.49478660e-04, -1.77461298e-04, -1.43575108e-05,\n",
       "       -1.43575108e-05, -1.43575108e-05, -1.43575108e-05,  1.43575108e-05,\n",
       "        1.43575108e-05,  1.43575108e-05,  1.43575108e-05,  1.77461298e-04,\n",
       "        6.49478660e-04,  1.63051908e-03,  3.32953031e-03,  5.96617809e-03,\n",
       "        9.76894481e-03,  1.49738118e-02,  2.18232810e-02,  3.05656154e-02,\n",
       "        4.14542297e-02,  5.47471925e-02,  7.07068136e-02,  8.95993009e-02,\n",
       "        1.11694474e-01,  1.37265532e-01,  1.66588861e-01,  1.99943893e-01,\n",
       "        2.37613001e-01,  2.79881436e-01,  3.27037309e-01,  3.79371615e-01,\n",
       "        4.37178301e-01,  5.00754384e-01,  5.70400127e-01,  6.46419260e-01,\n",
       "        7.29119277e-01,  8.18811792e-01,  9.15812980e-01,  1.02044409e+00,\n",
       "        1.13303209e+00,  1.25391035e+00,  1.38341953e+00,  1.52190854e+00,\n",
       "        1.66973572e+00,  1.82727013e+00,  1.99489310e+00,  2.17300000e+00,\n",
       "        2.36200230e+00,  2.56232992e+00,  2.77443402e+00,  2.99879013e+00,\n",
       "        3.23590192e+00,  3.48630548e+00,  3.75057441e+00,  4.02932572e+00,\n",
       "        4.32322683e+00,  4.63300388e+00,  4.95945149e+00,  5.30344450e+00,\n",
       "        5.66595214e+00,  6.04805496e+00,  6.45096565e+00,  6.87605444e+00,\n",
       "        7.32488050e+00,  7.79923116e+00,  8.30117127e+00,  8.83310603e+00,\n",
       "        9.39786198e+00,  9.99879269e+00,  1.06399189e+01,  1.13261173e+01,\n",
       "        1.20633797e+01,  1.28591765e+01,  1.37229800e+01,  1.46670371e+01,\n",
       "        1.57075534e+01,  1.68665782e+01,  1.81751578e+01,  1.96789404e+01,\n",
       "        2.14489436e+01,  2.36045055e+01])"
      ]
     },
     "execution_count": 52,
     "metadata": {},
     "output_type": "execute_result"
    }
   ],
   "source": [
    "zgrid"
   ]
  },
  {
   "cell_type": "code",
   "execution_count": null,
   "metadata": {},
   "outputs": [],
   "source": []
  }
 ],
 "metadata": {
  "kernelspec": {
   "display_name": "Python 3",
   "language": "python",
   "name": "python3"
  },
  "language_info": {
   "codemirror_mode": {
    "name": "ipython",
    "version": 3
   },
   "file_extension": ".py",
   "mimetype": "text/x-python",
   "name": "python",
   "nbconvert_exporter": "python",
   "pygments_lexer": "ipython3",
   "version": "3.8.5"
  }
 },
 "nbformat": 4,
 "nbformat_minor": 4
}
